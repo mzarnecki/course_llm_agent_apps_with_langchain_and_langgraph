{
 "cells": [
  {
   "metadata": {},
   "cell_type": "markdown",
   "source": "## Panel dyskusyjny agentów",
   "id": "ecf9aeb0a98690e"
  },
  {
   "cell_type": "code",
   "id": "initial_id",
   "metadata": {
    "collapsed": true,
    "ExecuteTime": {
     "end_time": "2025-08-31T18:51:22.333071Z",
     "start_time": "2025-08-31T18:51:21.197408Z"
    }
   },
   "source": "!pip install -q langgraph langchain langchain-openai python-dotenv\n",
   "outputs": [],
   "execution_count": 22
  },
  {
   "metadata": {
    "ExecuteTime": {
     "end_time": "2025-08-31T18:51:22.355567Z",
     "start_time": "2025-08-31T18:51:22.351921Z"
    }
   },
   "cell_type": "code",
   "source": [
    "import os\n",
    "from typing import TypedDict, List, Literal\n",
    "\n",
    "from dotenv import load_dotenv\n",
    "load_dotenv()\n",
    "\n",
    "from langgraph.graph import StateGraph, END\n",
    "from langchain_openai import ChatOpenAI\n",
    "from langchain_core.prompts import ChatPromptTemplate\n"
   ],
   "id": "7e182f398a3dadca",
   "outputs": [],
   "execution_count": 23
  },
  {
   "metadata": {
    "ExecuteTime": {
     "end_time": "2025-08-31T18:51:22.409392Z",
     "start_time": "2025-08-31T18:51:22.405189Z"
    }
   },
   "cell_type": "code",
   "source": [
    "# Użyj stabilnego, przewidywalnego modelu do kontrolowanego przepływu\n",
    "llm = ChatOpenAI(model=\"gpt-4o-mini\", temperature=0)  # można zwiększyć kreatywność przez temperature>0\n",
    "print(\"Model gotowy.\")\n"
   ],
   "id": "dbb109eb5671ffd5",
   "outputs": [
    {
     "name": "stdout",
     "output_type": "stream",
     "text": [
      "Model gotowy.\n"
     ]
    }
   ],
   "execution_count": 24
  },
  {
   "metadata": {},
   "cell_type": "markdown",
   "source": "### Stan grafu (State)",
   "id": "bf5943c0de80f9fe"
  },
  {
   "metadata": {
    "ExecuteTime": {
     "end_time": "2025-08-31T18:51:22.463486Z",
     "start_time": "2025-08-31T18:51:22.460598Z"
    }
   },
   "cell_type": "code",
   "source": [
    "class PanelState(TypedDict):\n",
    "    topic: str                      # temat dyskusji\n",
    "    research_query: str             # aktualne zapytanie do \"wyszukiwarki\"\n",
    "    research_context: str           # zebrane fakty / snippet'y\n",
    "    transcript: List[str]           # przebieg rozmowy (teksty ról)\n",
    "    proposal: str                   # propozycja/plan od eksperta\n",
    "    decision: Literal[\"continue\", \"stop\"]  # decyzja moderatora\n",
    "    turn: int                       # licznik iteracji\n",
    "    max_turns: int                  # limit, aby uniknąć nieskończonej pętli\n"
   ],
   "id": "64f5182d842ee355",
   "outputs": [],
   "execution_count": 25
  },
  {
   "metadata": {},
   "cell_type": "markdown",
   "source": "### Lokalna „wyszukiwarka”",
   "id": "2cfae74f0752c72a"
  },
  {
   "metadata": {
    "ExecuteTime": {
     "end_time": "2025-08-31T18:51:22.515522Z",
     "start_time": "2025-08-31T18:51:22.510082Z"
    }
   },
   "cell_type": "code",
   "source": [
    "# Prosty lokalny korpus: (tytuł, treść)\n",
    "CORPUS = [\n",
    "    (\"RAG basics\", \"RAG łączy retrieval kontekstu i generację odpowiedzi przez LLM.\"),\n",
    "    (\"LangGraph intro\", \"LangGraph to graf stanów: węzły (nodes), krawędzie (edges), pętle i warunki.\"),\n",
    "    (\"Prompting rules\", \"Jasne instrukcje, przykłady i formaty odpowiedzi podnoszą jakość wyników.\"),\n",
    "    (\"Vector stores\", \"FAISS to popularny wektorowy indeks do podobieństwa semantycznego.\"),\n",
    "    (\"Search APIs\", \"W produkcji możesz użyć np. Bing, Tavily lub własnego retrievera ze zbioru dokumentów.\"),\n",
    "    (\"Evaluation\", \"Krytyczna ewaluacja (critic) wykrywa luki i ryzyka w propozycji rozwiązania.\"),\n",
    "]\n",
    "\n",
    "def simple_search(query: str, k: int = 3) -> str:\n",
    "    \"\"\"Bardzo prosty 'retriever': filtruje po słowach kluczowych i zwraca top-k fragmentów.\"\"\"\n",
    "    tokens = set(t.lower() for t in query.split() if len(t) > 2)\n",
    "    scored = []\n",
    "    for title, text in CORPUS:\n",
    "        score = sum(1 for t in tokens if t in (title.lower() + \" \" + text.lower()))\n",
    "        scored.append((score, f\"[{title}] {text}\"))\n",
    "    scored.sort(reverse=True, key=lambda x: x[0])\n",
    "    results = [s for sc, s in scored[:k] if sc > 0]\n",
    "    if not results:\n",
    "        results = [f\"[No exact hit] {title}: {text}\" for title, text in CORPUS[:k]]\n",
    "    return \"\\n• \".join(results)\n"
   ],
   "id": "b2fdf61a6819169e",
   "outputs": [],
   "execution_count": 26
  },
  {
   "metadata": {},
   "cell_type": "markdown",
   "source": "### Prompty dla ról",
   "id": "fce7daff4b12d51"
  },
  {
   "metadata": {
    "ExecuteTime": {
     "end_time": "2025-08-31T18:51:22.573657Z",
     "start_time": "2025-08-31T18:51:22.569477Z"
    }
   },
   "cell_type": "code",
   "source": [
    "researcher_prompt = ChatPromptTemplate.from_messages([\n",
    "    (\"system\",\n",
    "     \"Jesteś Researcherem. Masz dostęp do fragmentów z 'wyszukiwarki' (RESEARCH).\\n\"\n",
    "     \"Twoim celem jest dostarczyć rzeczowe, krótkie fakty i dane wspierające temat.\\n\"\n",
    "     \"Odnoś się do fragmentów i nie fantazjuj. Pisz po polsku, zwięźle.\"),\n",
    "    (\"user\",\n",
    "     \"TEMAT: {topic}\\n\"\n",
    "     \"DOTYCHCZASOWA DYSKUSJA:\\n{transcript}\\n\\n\"\n",
    "     \"RESEARCH (z wyszukiwarki):\\n{research_context}\\n\\n\"\n",
    "     \"Zadanie: Dodaj 3–6 faktów/obserwacji, najlepiej w punktach. Jeśli brakuje danych, \"\n",
    "     \"zasugeruj precyzyjne kolejne zapytanie badawcze.\\n\"\n",
    "     \"Jeśli to możliwe, zaproponuj wstępną hipotezę.\")\n",
    "])\n",
    "\n",
    "expert_prompt = ChatPromptTemplate.from_messages([\n",
    "    (\"system\",\n",
    "     \"Jesteś Ekspertem. Z dostępnych faktów zaproponuj praktyczne rozwiązanie/plan.\\n\"\n",
    "     \"Uwzględnij kroki, wymagania i minimalny zestaw decyzji. Pisz po polsku, konkretnie.\"),\n",
    "    (\"user\",\n",
    "     \"TEMAT: {topic}\\n\"\n",
    "     \"DOTYCHCZASOWA DYSKUSJA:\\n{transcript}\\n\\n\"\n",
    "     \"RESEARCH:\\n{research_context}\\n\\n\"\n",
    "     \"Zadanie: Zaproponuj plan działania w 3–7 krokach. Zaznacz założenia i ryzyka.\")\n",
    "])\n",
    "\n",
    "critic_prompt = ChatPromptTemplate.from_messages([\n",
    "    (\"system\",\n",
    "     \"Jesteś Krytykiem. Twoją rolą jest znaleźć luki, ryzyka i niejasności w propozycji.\\n\"\n",
    "     \"Zadawaj dociekliwe pytania i wskaż brakujące elementy. Bądź konstruktywny.\"),\n",
    "    (\"user\",\n",
    "     \"TEMAT: {topic}\\n\"\n",
    "     \"DOTYCHCZASOWA DYSKUSJA:\\n{transcript}\\n\\n\"\n",
    "     \"RESEARCH:\\n{research_context}\\n\\n\"\n",
    "     \"PROPOZYCJA EKSPERTA:\\n{proposal}\\n\\n\"\n",
    "     \"Zadanie: Wypunktuj 3–6 najważniejszych braków/ryzyk i zaproponuj, co sprawdzić dalej.\")\n",
    "])\n",
    "\n",
    "moderator_prompt = ChatPromptTemplate.from_messages([\n",
    "    (\"system\",\n",
    "     \"Jesteś Moderatorem dyskusji. Decydujesz, czy kończymy, czy kontynuujemy.\\n\"\n",
    "     \"Jeśli kontynuujemy, podaj KRÓTKIE kolejne zapytanie badawcze (research_query) \"\n",
    "     \"dla Researchera. Pisz po polsku. Jeżeli kończymy podsumuj dyskusję i przedstaw w utrukturyzowany i czytelny sposób odpowiedź na pytanie.\"),\n",
    "    (\"user\",\n",
    "     \"TEMAT: {topic}\\n\"\n",
    "     \"DYSKUSJA:\\n{transcript}\\n\\n\"\n",
    "     \"RESEARCH:\\n{research_context}\\n\\n\"\n",
    "     \"PROPOZYCJA EKSPERTA:\\n{proposal}\\n\\n\"\n",
    "     \"KRYTYKA:\\n{critic}\\n\\n\"\n",
    "     \"Zadanie: Oceń jakość propozycji. Jeśli jest wystarczająca, odpowiedz dokładnie:\\n\"\n",
    "     \"DECISION: stop\\n\"\n",
    "     \"REASON: <krótki powód>\\n\\n\"\n",
    "     \"Jeśli potrzebna jest dalsza praca, odpowiedz dokładnie:\\n\"\n",
    "     \"DECISION: continue\\n\"\n",
    "     \"RESEARCH_QUERY: <jedno zdanie zapytania>\\n\"\n",
    "     \"REASON: <krótki powód>\")\n",
    "])\n"
   ],
   "id": "fc12f6b2c58e53ea",
   "outputs": [],
   "execution_count": 27
  },
  {
   "metadata": {},
   "cell_type": "markdown",
   "source": "### Węzły grafu (search, researcher, expert, critic, moderator, finish)",
   "id": "be57f7d6ca92235c"
  },
  {
   "metadata": {
    "ExecuteTime": {
     "end_time": "2025-08-31T18:51:22.631497Z",
     "start_time": "2025-08-31T18:51:22.621784Z"
    }
   },
   "cell_type": "code",
   "source": [
    "def node_search(state: PanelState) -> PanelState:\n",
    "    \"\"\"Tool node: obsługa 'wyszukiwarki' na podstawie research_query (lub tematu).\"\"\"\n",
    "    query = state.get(\"research_query\") or state[\"topic\"]\n",
    "    context = simple_search(query)\n",
    "    new_transcript = state[\"transcript\"] + [f\"[Search] zapytanie: {query}\\n• {context}\"]\n",
    "    return {\n",
    "        \"research_context\": context,\n",
    "        \"transcript\": new_transcript\n",
    "    }\n",
    "\n",
    "def node_researcher(state: PanelState) -> PanelState:\n",
    "    \"\"\"Researcher: streszcza i wnosi fakty. Może zasugerować nowe zapytanie.\"\"\"\n",
    "    resp = (researcher_prompt | llm).invoke({\n",
    "        \"topic\": state[\"topic\"],\n",
    "        \"transcript\": \"\\n\".join(state[\"transcript\"]),\n",
    "        \"research_context\": state[\"research_context\"]\n",
    "    })\n",
    "    text = resp.content.strip()\n",
    "    new_transcript = state[\"transcript\"] + [f\"[Researcher]\\n{text}\"]\n",
    "    return {\n",
    "        \"transcript\": new_transcript\n",
    "    }\n",
    "\n",
    "def node_expert(state: PanelState) -> PanelState:\n",
    "    \"\"\"Expert: proponuje plan/rozwiązanie.\"\"\"\n",
    "    resp = (expert_prompt | llm).invoke({\n",
    "        \"topic\": state[\"topic\"],\n",
    "        \"transcript\": \"\\n\".join(state[\"transcript\"]),\n",
    "        \"research_context\": state[\"research_context\"]\n",
    "    })\n",
    "    proposal = resp.content.strip()\n",
    "    new_transcript = state[\"transcript\"] + [f\"[Expert]\\n{proposal}\"]\n",
    "    return {\n",
    "        \"proposal\": proposal,\n",
    "        \"transcript\": new_transcript\n",
    "    }\n",
    "\n",
    "def node_critic(state: PanelState) -> PanelState:\n",
    "    \"\"\"Critic: wskazuje luki i pytania.\"\"\"\n",
    "    resp = (critic_prompt | llm).invoke({\n",
    "        \"topic\": state[\"topic\"],\n",
    "        \"transcript\": \"\\n\".join(state[\"transcript\"]),\n",
    "        \"research_context\": state[\"research_context\"],\n",
    "        \"proposal\": state[\"proposal\"]\n",
    "    })\n",
    "    critic_text = resp.content.strip()\n",
    "    new_transcript = state[\"transcript\"] + [f\"[Critic]\\n{critic_text}\"]\n",
    "    return {\n",
    "        \"transcript\": new_transcript,\n",
    "        \"critic\": critic_text  # ad-hoc pole; nie było w TypedDict — dodamy dynamicznie do stanu\n",
    "    }\n",
    "\n",
    "def parse_moderator_decision(text: str):\n",
    "    decision = \"continue\"\n",
    "    research_query = \"\"\n",
    "    reason = \"\"\n",
    "    for line in text.splitlines():\n",
    "        l = line.strip()\n",
    "        if l.upper().startswith(\"DECISION:\"):\n",
    "            val = l.split(\":\",1)[1].strip().lower()\n",
    "            if val in (\"stop\",\"continue\"):\n",
    "                decision = val\n",
    "        elif l.upper().startswith(\"RESEARCH_QUERY:\"):\n",
    "            research_query = l.split(\":\",1)[1].strip()\n",
    "        elif l.upper().startswith(\"REASON:\"):\n",
    "            reason = l.split(\":\",1)[1].strip()\n",
    "    return decision, research_query, reason\n",
    "\n",
    "def node_moderator(state: PanelState) -> PanelState:\n",
    "    \"\"\"Moderator: decyduje o kontynuacji lub zakończeniu i (ewentualnie) ustala nowe zapytanie.\"\"\"\n",
    "    resp = (moderator_prompt | llm).invoke({\n",
    "        \"topic\": state[\"topic\"],\n",
    "        \"transcript\": \"\\n\".join(state[\"transcript\"]),\n",
    "        \"research_context\": state[\"research_context\"],\n",
    "        \"proposal\": state[\"proposal\"],\n",
    "        \"critic\": state.get(\"critic\",\"(brak)\")\n",
    "    })\n",
    "    text = resp.content.strip()\n",
    "    decision, rq, reason = parse_moderator_decision(text)\n",
    "    new_transcript = state[\"transcript\"] + [f\"[Moderator]\\n{text}\"]\n",
    "    # Zwiększamy licznik tur:\n",
    "    new_turn = state[\"turn\"] + 1\n",
    "    return {\n",
    "        \"decision\": decision,\n",
    "        \"research_query\": rq or state.get(\"research_query\",\"\"),\n",
    "        \"transcript\": new_transcript,\n",
    "        \"turn\": new_turn\n",
    "    }\n",
    "\n",
    "def node_finish(state: PanelState) -> PanelState:\n",
    "    \"\"\"Węzeł końcowy: wypisz krótkie podsumowanie.\"\"\"\n",
    "    print(\"=== PODSUMOWANIE ===\")\n",
    "    print(\"\\n\".join(state[\"transcript\"]))  # drukujemy wszystkie wypowiedzi\n",
    "    print(\"\\nDecyzja końcowa:\", state[\"decision\"])\n",
    "    print(\"Liczba tur:\", state[\"turn\"])\n",
    "    return state\n"
   ],
   "id": "4ade07e4703ae252",
   "outputs": [],
   "execution_count": 28
  },
  {
   "metadata": {},
   "cell_type": "markdown",
   "source": "### Budowa grafu i warunków (conditional edge + loop + limit tur)",
   "id": "3e12a20938fd743e"
  },
  {
   "metadata": {
    "ExecuteTime": {
     "end_time": "2025-08-31T18:51:22.688074Z",
     "start_time": "2025-08-31T18:51:22.678828Z"
    }
   },
   "cell_type": "code",
   "source": [
    "graph = StateGraph(PanelState)\n",
    "\n",
    "graph.add_node(\"search\", node_search)\n",
    "graph.add_node(\"researcher\", node_researcher)\n",
    "graph.add_node(\"expert\", node_expert)\n",
    "graph.add_node(\"critic\", node_critic)\n",
    "graph.add_node(\"moderator\", node_moderator)\n",
    "graph.add_node(\"finish\", node_finish)\n",
    "\n",
    "# Wejście: zaczynamy od search\n",
    "graph.set_entry_point(\"search\")\n",
    "\n",
    "# Główna ścieżka\n",
    "graph.add_edge(\"search\", \"researcher\")\n",
    "graph.add_edge(\"researcher\", \"expert\")\n",
    "graph.add_edge(\"expert\", \"critic\")\n",
    "graph.add_edge(\"critic\", \"moderator\")\n",
    "\n",
    "# Warunek: moderator decyduje czy kończymy, czy wracamy do search\n",
    "def route_after_moderator(state: PanelState):\n",
    "    # Zabezpieczenie przed nieskończoną pętlą:\n",
    "    if state[\"turn\"] >= state[\"max_turns\"]:\n",
    "        return \"finish\"\n",
    "    return \"finish\" if state[\"decision\"] == \"stop\" else \"search\"\n",
    "\n",
    "graph.add_conditional_edges(\"moderator\", route_after_moderator, [\"search\", \"finish\"])\n",
    "graph.add_edge(\"finish\", END)\n",
    "\n",
    "app = graph.compile()\n"
   ],
   "id": "3608c502ec078d8f",
   "outputs": [],
   "execution_count": 29
  },
  {
   "metadata": {},
   "cell_type": "markdown",
   "source": "### Uruchomienie scenariusza",
   "id": "2342edfc435d4e82"
  },
  {
   "metadata": {
    "ExecuteTime": {
     "end_time": "2025-08-31T18:51:22.742946Z",
     "start_time": "2025-08-31T18:51:22.740421Z"
    }
   },
   "cell_type": "code",
   "source": [
    "initial_state: PanelState = {\n",
    "    \"topic\": \"Jak zbudować prosty system RAG w projekcie wewnętrznym?\",\n",
    "    \"research_query\": \"LangGraph RAG basic steps vector store FAISS\",\n",
    "    \"research_context\": \"\",\n",
    "    \"transcript\": [],\n",
    "    \"proposal\": \"\",\n",
    "    \"decision\": \"continue\",\n",
    "    \"turn\": 0,\n",
    "    \"max_turns\": 3,  # zmień jeśli chcesz dłuższej dyskusji\n",
    "}\n",
    "\n",
    "final_state = app.invoke(initial_state)\n"
   ],
   "id": "e089624260dec350",
   "outputs": [],
   "execution_count": 30
  },
  {
   "metadata": {},
   "cell_type": "markdown",
   "source": "### Wizualizacja grafu",
   "id": "1300b9f57861bde0"
  },
  {
   "metadata": {
    "ExecuteTime": {
     "end_time": "2025-08-31T18:51:22.845095Z",
     "start_time": "2025-08-31T18:51:22.797254Z"
    }
   },
   "cell_type": "code",
   "source": [
    "from IPython.display import Image, display\n",
    "\n",
    "png_bytes = app.get_graph().draw_png()\n",
    "display(Image(png_bytes))\n"
   ],
   "id": "924cac64e287b4ee",
   "outputs": [
    {
     "data": {
      "image/png": "[encoded data removed]",
      "text/plain": [
       "<IPython.core.display.Image object>"
      ]
     },
     "metadata": {},
     "output_type": "display_data"
    }
   ],
   "execution_count": 31
  }
 ],
 "metadata": {
  "kernelspec": {
   "display_name": "Python 3",
   "language": "python",
   "name": "python3"
  },
  "language_info": {
   "codemirror_mode": {
    "name": "ipython",
    "version": 2
   },
   "file_extension": ".py",
   "mimetype": "text/x-python",
   "name": "python",
   "nbconvert_exporter": "python",
   "pygments_lexer": "ipython2",
   "version": "2.7.6"
  }
 },
 "nbformat": 4,
 "nbformat_minor": 5
}
