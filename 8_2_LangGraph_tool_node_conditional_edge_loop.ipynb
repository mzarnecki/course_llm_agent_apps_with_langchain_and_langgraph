{
 "cells": [
  {
   "metadata": {},
   "cell_type": "markdown",
   "source": "## LangGraph tool-node, conditional-edge, loop",
   "id": "a3b901b52ece06dc"
  },
  {
   "metadata": {},
   "cell_type": "markdown",
   "source": "### Instalacja bibliotek",
   "id": "92586f39e5b864d8"
  },
  {
   "cell_type": "code",
   "id": "initial_id",
   "metadata": {
    "collapsed": true,
    "ExecuteTime": {
     "end_time": "2025-08-31T17:31:05.656804Z",
     "start_time": "2025-08-31T17:31:04.496975Z"
    }
   },
   "source": "!pip install -q langgraph langchain langchain-openai python-dotenv\n",
   "outputs": [],
   "execution_count": 11
  },
  {
   "metadata": {
    "ExecuteTime": {
     "end_time": "2025-08-31T17:31:05.676453Z",
     "start_time": "2025-08-31T17:31:05.670995Z"
    }
   },
   "cell_type": "code",
   "source": [
    "import os\n",
    "from dotenv import load_dotenv\n",
    "load_dotenv()\n",
    "\n",
    "from typing import TypedDict\n",
    "\n",
    "from langgraph.graph import StateGraph, END\n",
    "from langchain_openai import ChatOpenAI\n",
    "from langchain_core.prompts import ChatPromptTemplate\n",
    "\n",
    "# Model LLM\n",
    "llm = ChatOpenAI(model=\"gpt-4o-mini\", temperature=0)\n"
   ],
   "id": "16f93060975f5ebd",
   "outputs": [],
   "execution_count": 12
  },
  {
   "metadata": {},
   "cell_type": "markdown",
   "source": "### Definicja stanu",
   "id": "907cef2aa0187f16"
  },
  {
   "metadata": {
    "ExecuteTime": {
     "end_time": "2025-08-31T17:31:05.723596Z",
     "start_time": "2025-08-31T17:31:05.720234Z"
    }
   },
   "cell_type": "code",
   "source": [
    "class State(TypedDict):\n",
    "    question: str\n",
    "    llm_answer: str\n",
    "    is_correct: bool\n"
   ],
   "id": "266a78fa11ca250b",
   "outputs": [],
   "execution_count": 13
  },
  {
   "metadata": {},
   "cell_type": "markdown",
   "source": "### Węzeł z LLM",
   "id": "7c86c652f390a881"
  },
  {
   "metadata": {
    "ExecuteTime": {
     "end_time": "2025-08-31T17:31:05.787527Z",
     "start_time": "2025-08-31T17:31:05.784478Z"
    }
   },
   "cell_type": "code",
   "source": [
    "prompt = ChatPromptTemplate.from_messages([\n",
    "    (\"system\", \"Jesteś pomocnym asystentem. Odpowiadaj tylko wynikiem liczbowym.\"),\n",
    "    (\"user\", \"{question}\")\n",
    "])\n",
    "\n",
    "def ask_llm(state: State) -> State:\n",
    "    response = (prompt | llm).invoke({\"question\": state[\"question\"]})\n",
    "    return {\"llm_answer\": response.content, \"is_correct\": False}\n"
   ],
   "id": "4687624a8e2fa44f",
   "outputs": [],
   "execution_count": 14
  },
  {
   "metadata": {},
   "cell_type": "markdown",
   "source": "### Tool node",
   "id": "fe468bea5f6172da"
  },
  {
   "metadata": {
    "ExecuteTime": {
     "end_time": "2025-08-31T17:31:05.847753Z",
     "start_time": "2025-08-31T17:31:05.845202Z"
    }
   },
   "cell_type": "code",
   "source": [
    "def tool_calc(state: State) -> State:\n",
    "    try:\n",
    "        correct = eval(state[\"question\"])  # UWAGA: w realnym projekcie zastąpić bezpiecznym parserem!\n",
    "        user_answer = int(state[\"llm_answer\"])\n",
    "        return {\"is_correct\": (correct == user_answer)}\n",
    "    except:\n",
    "        return {\"is_correct\": False}\n"
   ],
   "id": "8abd2848c7d2f3a8",
   "outputs": [],
   "execution_count": 15
  },
  {
   "metadata": {},
   "cell_type": "markdown",
   "source": "### Węzeł końcowy",
   "id": "75812adaf895c3ab"
  },
  {
   "metadata": {
    "ExecuteTime": {
     "end_time": "2025-08-31T17:31:05.901740Z",
     "start_time": "2025-08-31T17:31:05.898676Z"
    }
   },
   "cell_type": "code",
   "source": [
    "def finish(state: State) -> State:\n",
    "    if state[\"is_correct\"]:\n",
    "        print(f\"✅ Poprawna odpowiedź: {state['llm_answer']}\")\n",
    "    else:\n",
    "        print(\"❌ Nie udało się uzyskać poprawnej odpowiedzi.\")\n",
    "    return state\n"
   ],
   "id": "d798de4c92fb8129",
   "outputs": [],
   "execution_count": 16
  },
  {
   "metadata": {
    "ExecuteTime": {
     "end_time": "2025-08-31T17:31:06.015622Z",
     "start_time": "2025-08-31T17:31:06.007073Z"
    }
   },
   "cell_type": "code",
   "source": [
    "### Graf z połączeniem warunkowym i pętlą\n",
    "graph = StateGraph(State)\n",
    "\n",
    "graph.add_node(\"ask_llm\", ask_llm)\n",
    "graph.add_node(\"tool_calc\", tool_calc)\n",
    "graph.add_node(\"finish\", finish)\n",
    "\n",
    "graph.set_entry_point(\"ask_llm\")\n",
    "graph.add_edge(\"ask_llm\", \"tool_calc\")\n",
    "\n",
    "# Warunek: jeśli poprawna → finish, jeśli nie → znowu ask_llm\n",
    "def check_answer(state: State):\n",
    "    return \"finish\" if state[\"is_correct\"] else \"ask_llm\"\n",
    "\n",
    "graph.add_conditional_edges(\"tool_calc\", check_answer, [\"finish\", \"ask_llm\"])\n",
    "graph.add_edge(\"finish\", END)\n",
    "\n",
    "app = graph.compile()\n"
   ],
   "id": "b9451fa3759e301",
   "outputs": [],
   "execution_count": 18
  },
  {
   "metadata": {},
   "cell_type": "markdown",
   "source": "### Uruchomienie grafu",
   "id": "380e3bd57d4c514b"
  },
  {
   "metadata": {
    "ExecuteTime": {
     "end_time": "2025-08-31T17:31:07.266216Z",
     "start_time": "2025-08-31T17:31:06.072036Z"
    }
   },
   "cell_type": "code",
   "source": "app.invoke({\"question\": \"23 * 7\"})\n",
   "id": "1ff97d5c2c448c9f",
   "outputs": [
    {
     "name": "stdout",
     "output_type": "stream",
     "text": [
      "✅ Poprawna odpowiedź: 161\n"
     ]
    },
    {
     "data": {
      "text/plain": [
       "{'question': '23 * 7', 'llm_answer': '161', 'is_correct': True}"
      ]
     },
     "execution_count": 19,
     "metadata": {},
     "output_type": "execute_result"
    }
   ],
   "execution_count": 19
  },
  {
   "metadata": {},
   "cell_type": "markdown",
   "source": "### Wizualizacja grafu",
   "id": "1293b6f750a49da9"
  },
  {
   "metadata": {
    "ExecuteTime": {
     "end_time": "2025-08-31T17:31:19.899842Z",
     "start_time": "2025-08-31T17:31:19.860825Z"
    }
   },
   "cell_type": "code",
   "source": [
    "from IPython.display import Image, display\n",
    "\n",
    "png_bytes = app.get_graph().draw_png()\n",
    "display(Image(png_bytes))"
   ],
   "id": "7cdcaee22ea8fba8",
   "outputs": [
    {
     "data": {
      "image/png": "[encoded data removed]",
      "text/plain": [
       "<IPython.core.display.Image object>"
      ]
     },
     "metadata": {},
     "output_type": "display_data"
    }
   ],
   "execution_count": 21
  }
 ],
 "metadata": {
  "kernelspec": {
   "display_name": "Python 3",
   "language": "python",
   "name": "python3"
  },
  "language_info": {
   "codemirror_mode": {
    "name": "ipython",
    "version": 2
   },
   "file_extension": ".py",
   "mimetype": "text/x-python",
   "name": "python",
   "nbconvert_exporter": "python",
   "pygments_lexer": "ipython2",
   "version": "2.7.6"
  }
 },
 "nbformat": 4,
 "nbformat_minor": 5
}
