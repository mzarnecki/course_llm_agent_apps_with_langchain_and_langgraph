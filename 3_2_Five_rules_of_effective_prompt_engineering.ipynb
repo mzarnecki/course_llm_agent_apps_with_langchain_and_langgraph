{
 "cells": [
  {
   "metadata": {},
   "cell_type": "markdown",
   "source": [
    "## 3.2. Pięć zasad efektywnej inżynierii promptów\n",
    "1. Jasne instrukcje poprawiają trafność.\n",
    "2. Przykłady stabilizują odpowiedź.\n",
    "3. Zdefiniowany format odpowiedzi = przewidywalny wynik.\n",
    "4. Dzielenie na kroki = lepsze i pełniejsze rozwiązania.\n",
    "5. Testy i weryfikacja = bezpieczeństwo i poprawność."
   ],
   "id": "8642cde9da1a3b6f"
  },
  {
   "cell_type": "code",
   "execution_count": null,
   "id": "initial_id",
   "metadata": {
    "collapsed": true
   },
   "outputs": [],
   "source": [
    "# Import bibliotek\n",
    "import os\n",
    "from dotenv import load_dotenv\n",
    "load_dotenv()\n",
    "\n",
    "from langchain_openai import ChatOpenAI\n",
    "\n",
    "# odel bazowy\n",
    "llm = ChatOpenAI(model=\"gpt-4o-mini\", temperature=0.7)"
   ]
  },
  {
   "metadata": {},
   "cell_type": "markdown",
   "source": "### Zasada 1 — Jasne instrukcje",
   "id": "5aea7763b726d804"
  },
  {
   "metadata": {},
   "cell_type": "code",
   "outputs": [],
   "execution_count": null,
   "source": [
    "# Zły prompt — niejasny, bez roli i oczekiwań\n",
    "bad_prompt = \"Napisz funkcję w Pythonie.\"\n",
    "print(\"=== Zły prompt ===\")\n",
    "print(llm.invoke(bad_prompt).content)\n",
    "\n",
    "# Dobry prompt — jasno określona rola i oczekiwania\n",
    "good_prompt = \"\"\"Jesteś ekspertem programującym w Pythonie.\n",
    "Napisz funkcję w Pythonie, która przyjmuje listę liczb całkowitych\n",
    "i zwraca nową listę zawierającą tylko liczby parzyste.\n",
    "Dodaj test jednostkowy w pytest.\"\"\"\n",
    "print(\"\\n=== Dobry prompt ===\")\n",
    "print(llm.invoke(good_prompt).content)"
   ],
   "id": "dbab59416e864073"
  },
  {
   "metadata": {},
   "cell_type": "markdown",
   "source": "### Zasada 2 — Używaj przykładów",
   "id": "9c9e1dabb42f8ded"
  },
  {
   "metadata": {},
   "cell_type": "code",
   "outputs": [],
   "execution_count": null,
   "source": [
    "# Zadanie: wygeneruj tagi na podstawie treści strony firmy\n",
    "\n",
    "# Zero-shot\n",
    "zero_shot = \"\"\"Podaj tagi opisujące firmę na podstawie tekstu strony:\n",
    "Firma Lego produkuje zabawki dla dzieci.\"\"\"\n",
    "print(\"=== Zero-shot ===\")\n",
    "print(llm.invoke(zero_shot).content)\n",
    "\n",
    "# One-shot\n",
    "one_shot = \"\"\"Podaj maksymalnie trzy tagi opisujące firmę na podstawie tekstu strony.\n",
    "Przykład:\n",
    "Tekst: Firma Lego produkuje klocki dla dzieci.\n",
    "Tagi: zabawki, klocki, dzieci\n",
    "\n",
    "Teraz:\n",
    "Tekst: Firma Nike produkuje odzież i buty sportowe.\n",
    "Tagi:\"\"\"\n",
    "print(\"\\n=== One-shot ===\")\n",
    "print(llm.invoke(one_shot).content)\n",
    "\n",
    "# Few-shot\n",
    "few_shot = \"\"\"Podaj maksymalnie trzy tagi opisujące firmę na podstawie tekstu strony.\n",
    "\n",
    "Przykład 1:\n",
    "Tekst: Firma Lego produkuje klocki dla dzieci.\n",
    "Tagi: zabawki, klocki, dzieci\n",
    "\n",
    "Przykład 2:\n",
    "Tekst: Firma Nike produkuje odzież i buty sportowe.\n",
    "Tagi: sport, odzież, obuwie\n",
    "\n",
    "Teraz:\n",
    "Tekst: Firma Tesla produkuje samochody elektryczne i magazyny energii.\n",
    "Tagi:\"\"\"\n",
    "print(\"\\n=== Few-shot ===\")\n",
    "print(llm.invoke(few_shot).content)\n"
   ],
   "id": "5be1241181a9964b"
  },
  {
   "metadata": {},
   "cell_type": "markdown",
   "source": "### Zasada 3 — Zdefiniuj format odpowiedzi",
   "id": "c889316ae3b0d976"
  },
  {
   "metadata": {},
   "cell_type": "code",
   "outputs": [],
   "execution_count": null,
   "source": [
    "# Zły prompt — brak określonego formatu\n",
    "bad_prompt = \"Podaj dane użytkownika Jan Kowalski, wiek 32, mieszka w Warszawie.\"\n",
    "print(\"=== Zły prompt ===\")\n",
    "print(llm.invoke(bad_prompt).content)\n",
    "\n",
    "# Dobry prompt — wymagamy JSON\n",
    "good_prompt = \"\"\"Podaj dane użytkownika w formacie JSON, bez dodatkowego tekstu:\n",
    "{\n",
    "  \"name\": \"Jan Kowalski\",\n",
    "  \"age\": 32,\n",
    "  \"city\": \"Warszawa\"\n",
    "}\"\"\"\n",
    "print(\"\\n=== Dobry prompt ===\")\n",
    "print(llm.invoke(good_prompt).content)"
   ],
   "id": "669d955ea1cc6513"
  },
  {
   "metadata": {},
   "cell_type": "markdown",
   "source": "### Zasada 4 — Dziel złożone zadania na kroki",
   "id": "8328fe6c016afbdd"
  },
  {
   "metadata": {},
   "cell_type": "code",
   "outputs": [],
   "execution_count": null,
   "source": [
    "# Zły prompt — wszystko naraz\n",
    "bad_prompt = \"\"\"Przygotuj trzydniowy plan zwiedzania Poznania z budżetem 300 euro,\n",
    "uwzględniając atrakcje, restauracje, transport i mapy.\"\"\"\n",
    "print(\"=== Zły prompt ===\")\n",
    "print(llm.invoke(bad_prompt).content[:600], \"...\")\n",
    "\n",
    "# Dobry prompt — krok po kroku\n",
    "good_step1 = \"Wypisz najważniejsze atrakcje kulturalne w Poznaniu z godzinami otwarcia.\"\n",
    "step1 = llm.invoke(good_step1).content\n",
    "print(\"\\n=== Dobry prompt — krok 1 ===\")\n",
    "print(step1[:600], \"...\")\n",
    "\n",
    "good_step2 = f\"Na podstawie tej listy ułóż plan zwiedzania na 3 dni, maks 4 atrakcje dziennie. Atrakcje: {step1}\"\n",
    "step2 = llm.invoke(good_step2).content\n",
    "print(\"\\n=== Dobry prompt — krok 2 ===\")\n",
    "print(step2[:600], \"...\")\n"
   ],
   "id": "c8d6293b8c85e05d"
  },
  {
   "metadata": {},
   "cell_type": "markdown",
   "source": "### Zasada 5 — Testuj i weryfikuj wyniki",
   "id": "f16c02fd7f8f68e3"
  },
  {
   "metadata": {},
   "cell_type": "code",
   "outputs": [],
   "execution_count": null,
   "source": [
    "# Prompt: generowanie kodu\n",
    "code_prompt = \"\"\"Napisz funkcję w Pythonie, która oblicza silnię liczby n.\"\"\"\n",
    "result = llm.invoke(code_prompt).content\n",
    "print(\"=== Kod wygenerowany przez model ===\")\n",
    "print(result)\n",
    "\n",
    "# Tutaj normalnie:\n",
    "# - kopiujesz kod do pliku .py\n",
    "# - uruchamiasz testy\n",
    "# - sprawdzasz przypadki brzegowe (np. n=0, n=1, n=-1)\n",
    "\n",
    "# Symulacja testów (tu tylko idea, do samodzielnego sprawdzenia):\n",
    "test_cases = [0, 1, 5]\n",
    "print(\"\\n=== Przykładowe testy ===\")\n",
    "for n in test_cases:\n",
    "    try:\n",
    "        exec(result)  # wstrzyknięcie kodu do środowiska\n",
    "        print(f\"factorial({n}) =\", factorial(n))  # zakładamy że model nazwał funkcję factorial\n",
    "    except Exception as e:\n",
    "        print(f\"Błąd dla n={n}: {e}\")\n"
   ],
   "id": "3e7e007d0f4b071f"
  }
 ],
 "metadata": {
  "kernelspec": {
   "display_name": "Python 3",
   "language": "python",
   "name": "python3"
  },
  "language_info": {
   "codemirror_mode": {
    "name": "ipython",
    "version": 2
   },
   "file_extension": ".py",
   "mimetype": "text/x-python",
   "name": "python",
   "nbconvert_exporter": "python",
   "pygments_lexer": "ipython2",
   "version": "2.7.6"
  }
 },
 "nbformat": 4,
 "nbformat_minor": 5
}
