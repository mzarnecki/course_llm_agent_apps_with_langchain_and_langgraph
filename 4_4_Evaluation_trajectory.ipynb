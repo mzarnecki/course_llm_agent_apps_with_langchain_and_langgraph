{
 "cells": [
  {
   "metadata": {
    "collapsed": true
   },
   "cell_type": "markdown",
   "source": "## Evaluation",
   "id": "8843f9eae98bb3a4"
  },
  {
   "metadata": {},
   "cell_type": "markdown",
   "source": "### Trajectory Evaluator",
   "id": "b5d3b8e3f66490ef"
  },
  {
   "metadata": {},
   "cell_type": "code",
   "outputs": [],
   "execution_count": null,
   "source": [
    "evaluator = load_evaluator(\"trajectory\")\n",
    "\n",
    "reference_steps = [\n",
    "    \"Fibonacci zaczyna się od 0, 1\",\n",
    "    \"Kolejne liczby to suma dwóch poprzednich\",\n",
    "    \"5. liczba to 5\"\n",
    "]\n",
    "\n",
    "prediction_steps = [\n",
    "    \"Fibonacci zaczyna się od 0, 1\",\n",
    "    \"Kolejne liczby to suma poprzednich\",\n",
    "    \"5. liczba to 4\"\n",
    "]\n",
    "\n",
    "result = evaluator.evaluate_strings(\n",
    "    prediction=prediction_steps,\n",
    "    reference=reference_steps\n",
    ")\n",
    "\n",
    "print(result)  # {'score': 0.7, 'reasoning': 'Model dobrze zaczął, ale pomylił wynik końcowy'}\n"
   ],
   "id": "83ffe750fc6f11d4"
  },
  {
   "metadata": {},
   "cell_type": "code",
   "outputs": [],
   "execution_count": null,
   "source": [
    "from langchain.evaluation import load_evaluator\n",
    "\n",
    "# Ładujemy trajectory evaluator\n",
    "evaluator = load_evaluator(\"trajectory\")\n",
    "\n",
    "# Referencja – krok po kroku\n",
    "reference_steps = [\n",
    "    \"Fibonacci zaczyna się od 0 i 1\",\n",
    "    \"Kolejna liczba to 1 (0+1)\",\n",
    "    \"Następna to 2 (1+1)\",\n",
    "    \"Kolejna to 3 (1+2)\",\n",
    "    \"Następna to 5 (2+3)\"\n",
    "]\n",
    "\n",
    "# Predykcja modelu – błędny krok w środku\n",
    "prediction_steps = [\n",
    "    \"Fibonacci zaczyna się od 0 i 1\",\n",
    "    \"Kolejna liczba to 1 (0+1)\",\n",
    "    \"Następna to 2 (1+1)\",\n",
    "    \"Kolejna to 3 (1+2)\",\n",
    "    \"Następna to 4 (2+2)\"\n",
    "]\n",
    "\n",
    "# Ewaluacja\n",
    "result = evaluator.evaluate_strings(\n",
    "    prediction=prediction_steps,\n",
    "    reference=reference_steps\n",
    ")\n",
    "\n",
    "print(result)\n"
   ],
   "id": "675b1344b6fc884c"
  }
 ],
 "metadata": {
  "kernelspec": {
   "display_name": "Python 3",
   "language": "python",
   "name": "python3"
  },
  "language_info": {
   "codemirror_mode": {
    "name": "ipython",
    "version": 2
   },
   "file_extension": ".py",
   "mimetype": "text/x-python",
   "name": "python",
   "nbconvert_exporter": "python",
   "pygments_lexer": "ipython2",
   "version": "2.7.6"
  }
 },
 "nbformat": 4,
 "nbformat_minor": 5
}
