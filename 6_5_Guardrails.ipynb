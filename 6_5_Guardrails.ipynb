{
 "cells": [
  {
   "metadata": {
    "collapsed": true
   },
   "cell_type": "markdown",
   "source": "## Guardrails",
   "id": "8843f9eae98bb3a4"
  },
  {
   "metadata": {},
   "cell_type": "markdown",
   "source": "### JSON Format Validator",
   "id": "963e720e47fbc32e"
  },
  {
   "metadata": {},
   "cell_type": "code",
   "outputs": [],
   "execution_count": null,
   "source": [
    "from langchain.evaluation import JsonValidityEvaluator\n",
    "\n",
    "evaluator = JsonValidityEvaluator()\n",
    "print(evaluator.evaluate_strings(prediction='{\"x\": 1}'))      # poprawne\n",
    "print(evaluator.evaluate_strings(prediction='{x: 1}'))        # błąd\n"
   ],
   "id": "51429117cf2939bb"
  },
  {
   "metadata": {},
   "cell_type": "markdown",
   "source": "### XML Format Validator",
   "id": "6cb1491ea9f8286d"
  },
  {
   "metadata": {},
   "cell_type": "code",
   "outputs": [],
   "execution_count": null,
   "source": [
    "from langchain.evaluation import XMLValidityEvaluator\n",
    "\n",
    "evaluator = XMLValidityEvaluator()\n",
    "print(evaluator.evaluate_strings(prediction=\"<tag>ok</tag>\"))\n"
   ],
   "id": "a9b6c949f0ea4ddc"
  },
  {
   "metadata": {},
   "cell_type": "markdown",
   "source": "### Fallback Messages Validator",
   "id": "4a367a91398ca8bb"
  },
  {
   "metadata": {},
   "cell_type": "code",
   "outputs": [],
   "execution_count": null,
   "source": [
    "from langchain.evaluation import FallbackEvaluator\n",
    "\n",
    "evaluator = FallbackEvaluator()\n",
    "print(evaluator.evaluate_strings(prediction=\"Sorry, I can't help with this.\"))\n"
   ],
   "id": "a879dcfff035934"
  },
  {
   "metadata": {},
   "cell_type": "markdown",
   "source": "### Regex Pattern Validator",
   "id": "392b8b0fc506ff11"
  },
  {
   "metadata": {},
   "cell_type": "code",
   "outputs": [],
   "execution_count": null,
   "source": [
    "from langchain.evaluation import RegexMatchEvaluator\n",
    "\n",
    "evaluator = RegexMatchEvaluator(regex=r\"^PL-\\d{5}$\")  # polski kod pocztowy\n",
    "print(evaluator.evaluate_strings(prediction=\"PL-60123\"))  # poprawne\n"
   ],
   "id": "ea1d15d55ae7e062"
  },
  {
   "metadata": {},
   "cell_type": "markdown",
   "source": "### Token Limit Validator",
   "id": "39f6d9c66cfb3d10"
  },
  {
   "metadata": {},
   "cell_type": "code",
   "outputs": [],
   "execution_count": null,
   "source": [
    "from langchain.evaluation import TokenLengthEvaluator\n",
    "\n",
    "evaluator = TokenLengthEvaluator(max_tokens=50)\n",
    "print(evaluator.evaluate_strings(prediction=\"To jest krótka odpowiedź.\"))\n"
   ],
   "id": "f4f147d4e8dd6c4f"
  },
  {
   "metadata": {},
   "cell_type": "markdown",
   "source": "### Word Limit Validator",
   "id": "d3b409e890c6ac61"
  },
  {
   "metadata": {},
   "cell_type": "code",
   "outputs": [],
   "execution_count": null,
   "source": [
    "from langchain.evaluation import WordCountEvaluator\n",
    "\n",
    "evaluator = WordCountEvaluator(max_words=10)\n",
    "print(evaluator.evaluate_strings(prediction=\"To zdanie ma tylko sześć słów.\"))\n"
   ],
   "id": "44ce2da6c0d8aaab"
  }
 ],
 "metadata": {
  "kernelspec": {
   "display_name": "Python 3",
   "language": "python",
   "name": "python3"
  },
  "language_info": {
   "codemirror_mode": {
    "name": "ipython",
    "version": 2
   },
   "file_extension": ".py",
   "mimetype": "text/x-python",
   "name": "python",
   "nbconvert_exporter": "python",
   "pygments_lexer": "ipython2",
   "version": "2.7.6"
  }
 },
 "nbformat": 4,
 "nbformat_minor": 5
}
