{
 "cells": [
  {
   "metadata": {},
   "cell_type": "markdown",
   "source": "## Zadania: Parametry API LLM",
   "id": "a84cf2306f684808"
  },
  {
   "metadata": {},
   "cell_type": "markdown",
   "source": "### instalacja i konfiguracja",
   "id": "9d30c57b2be3c6d7"
  },
  {
   "cell_type": "code",
   "id": "initial_id",
   "metadata": {
    "collapsed": true,
    "ExecuteTime": {
     "end_time": "2025-09-15T07:32:36.778682Z",
     "start_time": "2025-09-15T07:32:31.689762Z"
    }
   },
   "source": [
    "!pip install -q langchain-openai python-dotenv\n",
    "\n",
    "import os\n",
    "from dotenv import load_dotenv\n",
    "load_dotenv()\n",
    "\n",
    "from langchain_openai import ChatOpenAI\n"
   ],
   "outputs": [],
   "execution_count": 1
  },
  {
   "metadata": {},
   "cell_type": "markdown",
   "source": "### pomocnicza funkcja do testów",
   "id": "c8a2d22ae079dd8c"
  },
  {
   "metadata": {
    "ExecuteTime": {
     "end_time": "2025-09-15T07:32:36.787814Z",
     "start_time": "2025-09-15T07:32:36.785025Z"
    }
   },
   "cell_type": "code",
   "source": [
    "def test_generation(param_name, values, prompt=\"Wymyśl krótką bajkę o kocie i psie.\"):\n",
    "    for v in values:\n",
    "        print(\"=\"*60)\n",
    "        print(f\"{param_name} = {v}\")\n",
    "        llm = ChatOpenAI(model=\"gpt-4o-mini\", temperature=0.7)  # bazowe ustawienia\n",
    "        kwargs = {param_name: v}\n",
    "        response = llm.invoke(prompt, **kwargs)\n",
    "        print(response.content, \"\\n\")\n"
   ],
   "id": "e323e8af393d58ad",
   "outputs": [],
   "execution_count": 2
  },
  {
   "metadata": {},
   "cell_type": "markdown",
   "source": "### eksperyment z temperaturą",
   "id": "440cf02cee488c9f"
  },
  {
   "metadata": {
    "ExecuteTime": {
     "end_time": "2025-09-15T07:33:12.282326Z",
     "start_time": "2025-09-15T07:32:36.836371Z"
    }
   },
   "cell_type": "code",
   "source": [
    "# ===============================\n",
    "# - Zadanie: Uruchom model z temperature = 0.0, 0.7 i 1.0; porównaj różnorodność odpowiedzi (policz długość i wypisz 1 różnicę).\n",
    "\n",
    "test_generation(\"temperature\", [0.0, 0.7, 1.2])\n"
   ],
   "id": "9259b3726ef39352",
   "outputs": [
    {
     "name": "stdout",
     "output_type": "stream",
     "text": [
      "============================================================\n",
      "temperature = 0.0\n",
      "Dawno, dawno temu w małej wiosce mieszkał kot o imieniu Miau i pies o imieniu Hau. Miau był sprytnym kotem, który uwielbiał wspinać się na drzewa i polować na ptaki, podczas gdy Hau był wiernym psem, który strzegł swojego podwórka i bawił się z dziećmi.\n",
      "\n",
      "Pewnego dnia, podczas zabawy w ogrodzie, Miau zauważył, że w pobliskim lesie coś się dzieje. Zaintrygowany, postanowił to zbadać. Hau, widząc, że jego przyjaciel znika w gęstwinie, postanowił go śledzić. \n",
      "\n",
      "Gdy dotarli do lasu, odkryli, że małe zajączki utknęły w krzakach i nie mogły się wydostać. Miau, używając swojego sprytnego umysłu, wymyślił plan. Powiedział Hau, żeby przyciągnął uwagę zajączków, a on w tym czasie spróbuje je uwolnić.\n",
      "\n",
      "Hau zaczął szczekać i biegać wokół, a zajączki, zaintrygowane, podeszły bliżej. Miau szybko i zręcznie uwolnił je z krzaków. Gdy zajączki były już wolne, podziękowały Miau i Hau, obiecując, że zawsze będą ich przyjaciółmi.\n",
      "\n",
      "Od tego dnia Miau i Hau stali się najlepszymi przyjaciółmi, a ich przygody w lesie przynosiły radość nie tylko im, ale także wszystkim mieszkańcom wioski. I tak, kot i pies, mimo różnic, udowodnili, że prawdziwa przyjaźń nie zna granic. \n",
      "\n",
      "I żyli długo i szczęśliwie! \n",
      "\n",
      "============================================================\n",
      "temperature = 0.7\n",
      "Pewnego słonecznego dnia w małym miasteczku mieszkał kot o imieniu Mruczek i piesek o imieniu Burek. Mruczek był bardzo ciekawski, a Burek uwielbiał biegać po parku i wąchać wszystkie zapachy. Choć byli zupełnie różnymi zwierzakami, obaj marzyli o przygodzie.\n",
      "\n",
      "Pewnego ranka, gdy słońce wschodziło nad miastem, Mruczek zaproponował Burkowi, aby wspólnie odkryli tajemniczy las za miastem. Burek, podekscytowany, zgodził się bez wahania. Wyruszyli zatem w drogę, pełni entuzjazmu.\n",
      "\n",
      "Kiedy dotarli do lasu, odkryli, że jest on pełen niezwykłych dźwięków i kolorów. Mruczek skakał z gałęzi na gałąź, a Burek biegał po trawie, merdając ogonem. W pewnym momencie usłyszeli cichy płacz. Zaintrygowani, postanowili sprawdzić, co się dzieje.\n",
      "\n",
      "Okazało się, że mała wiewiórka utknęła w krzakach. Mruczek, używając swoich zwinnych łap, pomógł jej się wydostać, a Burek pilnował, aby żaden niebezpieczny owad nie zbliżył się do niej. Wiewiórka, wdzięczna za pomoc, postanowiła pokazać im najpiękniejsze zakątki lasu.\n",
      "\n",
      "Wspólnie odkryli ukryty staw, gdzie woda mieniła się jak kryształ, a na jego brzegu rosły kolorowe kwiaty. Spędzili tam całe popołudnie, bawiąc się i śmiejąc. Kiedy słońce zaczęło zachodzić, Mruczek i Burek wiedzieli, że muszą wracać do domu, ale obiecali sobie, że wrócą do lasu na kolejną przygodę.\n",
      "\n",
      "I tak, kot i pies, mimo że różni, stali się najlepszymi przyjaciółmi, którzy razem odkrywali świat pełen niespodzianek. A wiewiórka? Cóż, stała się ich stałą towarzyszką w leśnych wędrówkach. Od tamtej pory, każda przygoda była dla nich niezapomnianą historią, którą wspólnie tworzyli. \n",
      "\n",
      "I tak, w małym miasteczku, kot i pies pokazali, że prawdziwa przyjaźń nie zna granic. \n",
      "\n",
      "============================================================\n",
      "temperature = 1.2\n",
      "Pewnego słonecznego poranka w małej wiosce pewien kot o imieniu Miau i pies o imieniu Łapka postanowili wyruszyć na poszukiwanie przygód. Miau był sprytny i zwinny, podczas gdy Łapka miał serce pełne odwagi i lojalności.\n",
      "\n",
      "Szukając miejsca do zabawy, natrafili na piękny, stary sad pełen soczystych jabłek. Wkrótce zaczęli się bawić w chowanego. Miau skakał z gałęzi na gałąź, a Łapka chował się za drzewami. Obaj cieszyli się wspólną zabawą, aż do momentu, gdy Miau spadł z drzewa i zwichnął łapkę.\n",
      "\n",
      "Łapka natychmiast pobiegł do przyjaciela. - Nie martw się, Miau, pomogę ci! - zawołał. Łapka delikatnie podniósł kota na swoje plecy i za pomocą swojego silnego swojego ciała, przetransportował Miau do lekarza weterynarii.\n",
      "\n",
      "Lekarz opatrzył łapkę Miau, a pies cały czas trzymał go za uchem, by dodać mu otuchy. Gdy Miau wrócił do siebie i był gotowy do zabawy, odkrył, jak ważna jest przyjaźń i wsparcie. Od tej pory Miau i Łapka zaczęli dzielić się nie tylko przygodami, ale też wieloma radosnymi chwilami, zrozumieli, że razem mogą pokonać każdą trudność.\n",
      "\n",
      "Od tamtej pory w wiosce mówiono o niezwykłej przyjaźni kota i psa, którzy zawsze trzymali się razem, gdziekolwiek by nie poszli. I tak, perfekcyjnie uzupełniając się nawzajem, stali się najlepsi przyjaciele na zawsze. \n",
      "\n"
     ]
    }
   ],
   "execution_count": 3
  },
  {
   "metadata": {},
   "cell_type": "markdown",
   "source": "### eksperyment z top_p",
   "id": "7be7d1c943c147c5"
  },
  {
   "metadata": {
    "ExecuteTime": {
     "end_time": "2025-09-15T07:33:48.380616Z",
     "start_time": "2025-09-15T07:33:12.382222Z"
    }
   },
   "cell_type": "code",
   "source": [
    "# ===============================\n",
    "# - Zadanie: Zmień top_p (0.3 vs 0.95) i krótko skomentuj wpływ na wynik (1–2 zdania).\n",
    "\n",
    "test_generation(\"top_p\", [0.2, 0.7, 1.0])\n"
   ],
   "id": "1de3bc2661c0da2c",
   "outputs": [
    {
     "name": "stdout",
     "output_type": "stream",
     "text": [
      "============================================================\n",
      "top_p = 0.2\n",
      "Dawno, dawno temu w małej wiosce mieszkał kot o imieniu Miau i pies o imieniu Burek. Miau był sprytnym kotem, który uwielbiał wspinać się na drzewa i polować na motyle, podczas gdy Burek był wiernym psem, który strzegł swojego podwórka i biegał za piłką.\n",
      "\n",
      "Pewnego dnia, podczas zabawy na łące, Miau zauważył, że Burek smutno siedzi pod drzewem. Podszedł do niego i zapytał:\n",
      "\n",
      "- Dlaczego jesteś taki smutny, Burek?\n",
      "\n",
      "- Chciałbym pobiegać po drzewach jak ty, ale nie potrafię wspinać się - odpowiedział pies.\n",
      "\n",
      "Miau pomyślał chwilę i powiedział:\n",
      "\n",
      "- Może mogę ci w tym pomóc! Zbudujemy razem drabinę!\n",
      "\n",
      "Burek był zachwycony pomysłem. Razem zbierali gałęzie i liny, a po kilku godzinach pracy zbudowali solidną drabinę. Burek z niecierpliwością wspiął się na nią, a Miau pokazał mu, jak się wspinać.\n",
      "\n",
      "Kiedy Burek dotarł na gałąź, obaj przyjaciele zaczęli się śmiać i cieszyć z sukcesu. Od tego dnia Miau i Burek spędzali czas na wspólnych przygodach, biegając po drzewach i odkrywając nowe zakątki wioski.\n",
      "\n",
      "I tak, dzięki przyjaźni i współpracy, kot i pies nauczyli się od siebie nawzajem, że razem można osiągnąć wszystko, nawet to, co wydaje się niemożliwe. A wioska stała się miejscem pełnym radości i śmiechu, gdzie każdy mógł być sobą.\n",
      "\n",
      "I żyli długo i szczęśliwie! \n",
      "\n",
      "============================================================\n",
      "top_p = 0.7\n",
      "W małym miasteczku, w przytulnym domku na skraju lasu, mieszkał kot o imieniu Mruczek i pies o imieniu Burek. Mruczek był sprytnym, szarym kotem, który uwielbiał wspinać się na drzewa i łapać motyle. Burek, z kolei, był dużym, brązowym psem o złotym sercu, który kochał biegać po łąkach i bawić się z dziećmi.\n",
      "\n",
      "Pewnego dnia, gdy słońce świeciło jasno, a ptaki śpiewały wesołe melodie, Mruczek postanowił, że wybierze się na poszukiwanie przygód. Wyszedł z domu i zaczął wspinać się na najwyższe drzewo w lesie. Z góry zobaczył piękne, kolorowe kwiaty i błyszczące strumienie, które go zachwyciły.\n",
      "\n",
      "Burek, zauważając, że jego przyjaciel zniknął, postanowił go odnaleźć. Biegał po lesie, wołając: \"Mruczek! Mruczek!\" W końcu dotarł do drzewa, na które wspiął się kot. \"Co robisz tam na górze?\" – zapytał Burek, merdając ogonem.\n",
      "\n",
      "\"Podziwiam widoki!\" – odpowiedział Mruczek. \"Chodź, wspinaj się ze mną!\"\n",
      "\n",
      "Burek, choć nie miał umiejętności wspinaczkowych, postanowił spróbować. Skakał i skakał, ale w końcu utknął na niskim gałęzi. Mruczek zeskoczył na dół i powiedział: \"Nie martw się, pomogę ci!\"\n",
      "\n",
      "Razem wymyślili plan. Mruczek wskoczył na gałąź, a Burek podskoczył, by złapać go za łapę. Udało im się! Mruczek pomógł Burkowi wdrapać się na drzewo, a obaj przyjaciele usiedli na gałęzi, ciesząc się pięknym widokiem.\n",
      "\n",
      "Od tego dnia, Mruczek i Burek zawsze wspólnie odkrywali nowe przygody, ucząc się, że prawdziwa przyjaźń potrafi pokonać wszelkie przeszkody, nawet te najwyższe. I tak, w małym miasteczku, kot i pies stali się najlepszymi przyjaciółmi, a ich przygody były tematem wielu opowieści. \n",
      "\n",
      "Koniec. \n",
      "\n",
      "============================================================\n",
      "top_p = 1.0\n",
      "W małej wiosce, położonej u stóp zielonych wzgórz, mieszkał kot o imieniu Miau i pies o imieniu Hau. Miau był szary z białymi łatkami i miał długie, zwinne łapki, które pozwalały mu wspinać się na najwyższe drzewa. Hau był dużym, brązowym psem o radosnym usposobieniu, który uwielbiał biegać po łąkach i bawić się z dziećmi.\n",
      "\n",
      "Mimo że Miau i Hau byli zupełnie różni, ich przyjaźń była wyjątkowa. Codziennie po południu spotykali się na wspólnej zabawie w parku. Miau skakał z gałęzi na gałąź, a Hau biegał po trawie, próbując go dogonić. Wspólnie odkrywali tajemnice wioski, bawiąc się w chowanego i poszukując skarbów — starych kości i zgubionych zabawek.\n",
      "\n",
      "Pewnego dnia, podczas jednej z ich zabaw, zauważyli, że na drzewie, obok którego zazwyczaj się spotykali, zagnieździł się mały ptaszek. Był bardzo przestraszony i nie potrafił wydostać się z gniazda. Miau i Hau zdecydowali, że muszą mu pomóc. Miau, dzięki swoim zwinnościom, wspiął się na drzewo i delikatnie pomógł ptaszkowi wydostać się z gniazda. Hau stał na dole, szczekając i dodając otuchy małemu ptaszkowi.\n",
      "\n",
      "Gdy ptaszek w końcu wyleciał z gniazda, obaj przyjaciele poczuli ogromną radość. Zrozumieli, że razem mogą pokonywać wszelkie przeszkody. Od tego dnia ich przyjaźń stała się jeszcze silniejsza, a wioska zaczęła ich nazywać \"Miau i Hau, bohaterowie przyjaźni\".\n",
      "\n",
      "I tak, w małej wiosce, gdzie różnice nie miały znaczenia, kot i pies pozostali najlepszymi przyjaciółmi na zawsze, ucząc wszystkich, że prawdziwa przyjaźń nie zna granic. \n",
      "\n"
     ]
    }
   ],
   "execution_count": 4
  },
  {
   "metadata": {},
   "cell_type": "markdown",
   "source": "### eksperyment z max_tokens",
   "id": "65d7a10ab7906237"
  },
  {
   "metadata": {
    "ExecuteTime": {
     "end_time": "2025-09-15T07:34:03.622170Z",
     "start_time": "2025-09-15T07:33:48.433987Z"
    }
   },
   "cell_type": "code",
   "source": [
    "# ===============================\n",
    "# - Zadanie: Ustaw `max_tokens` na małą wartość (np. 32) i dużą (np. 256); sprawdź, czy dochodzi do ucięcia odpowiedzi.\n",
    "# - Zadanie: Dodaj prostą funkcję `truncate_warning(text)` wypisującą ostrzeżenie, jeśli model kończy zdanie w połowie.\n",
    "# - Zadanie: Porównaj czas odpowiedzi między małym i dużym `max_tokens` (użyj `time.perf_counter`).\n",
    "\n",
    "test_generation(\"max_tokens\", [30, 100, 300])\n"
   ],
   "id": "914687df9cd9ac31",
   "outputs": [
    {
     "name": "stdout",
     "output_type": "stream",
     "text": [
      "============================================================\n",
      "max_tokens = 30\n",
      "W małym miasteczku, w przytulnym domku, mieszkał kotek o imieniu Miauś i pies \n",
      "\n",
      "============================================================\n",
      "max_tokens = 100\n",
      "W małej wiosce, wśród zielonych łąk i kolorowych kwiatów, mieszkał kot o imieniu Mruczek i pies o imieniu Burek. Mruczek był sprytnym i ciekawskim kotem, który uwielbiał wspinać się na drzewa i obserwować świat z wysoka. Burek, z kolei, był wiernym psem, który zawsze trzymał się blisko swo \n",
      "\n",
      "============================================================\n",
      "max_tokens = 300\n",
      "Dawno, dawno temu w małej wiosce mieszkał kotek o imieniu Miau i piesek o imieniu Hau. Miau był sprytnym kotem, który uwielbiał wspinać się na drzewa, podczas gdy Hau był wesołym psem, który kochał biegać po łąkach.\n",
      "\n",
      "Pewnego dnia, podczas wspólnej zabawy, Miau zauważył, że na najwyższym drzewie w wiosce wiszą piękne, kolorowe balony. Kotek zapragnął je zdobyć, ale nie mógł dotrzeć tak wysoko. Hau, widząc zmartwionego przyjaciela, postanowił mu pomóc.\n",
      "\n",
      "- Nie martw się, Miau! Wskoczę na plecy i razem spróbujemy! - powiedział piesek.\n",
      "\n",
      "Miau wspiął się na plecy Hau, a ten z całych sił skoczył w górę. Dzięki niezwykłej współpracy udało im się sięgnąć do balonów! Miau z radością chwycił jeden z nich w zęby, a Hau merdał ogonem z radości.\n",
      "\n",
      "Gdy wrócili na ziemię, postanowili, że nie będą trzymali balonu tylko dla siebie. Zorganizowali małe przyjęcie \n",
      "\n"
     ]
    }
   ],
   "execution_count": 5
  },
  {
   "metadata": {},
   "cell_type": "markdown",
   "source": [
    "💡 Efekt:\\\n",
    "przy temperature=0 odpowiedzi będą powtarzalne,\\\n",
    "przy temperature=1.2 — bardziej szalone,\\\n",
    "przy niskim top_p model będzie zachowawczy,\\\n",
    "przy dużym top_k — bardziej różnorodny,\\\n",
    "a max_tokens zdecyduje, czy bajka ma 2 zdania, czy całą stronę."
   ],
   "id": "779bcca8320a55c7"
  }
 ],
 "metadata": {
  "kernelspec": {
   "display_name": "Python 3",
   "language": "python",
   "name": "python3"
  },
  "language_info": {
   "codemirror_mode": {
    "name": "ipython",
    "version": 2
   },
   "file_extension": ".py",
   "mimetype": "text/x-python",
   "name": "python",
   "nbconvert_exporter": "python",
   "pygments_lexer": "ipython2",
   "version": "2.7.6"
  }
 },
 "nbformat": 4,
 "nbformat_minor": 5
}
