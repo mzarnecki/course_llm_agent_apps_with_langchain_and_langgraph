{
 "cells": [
  {
   "metadata": {},
   "cell_type": "markdown",
   "source": "## Zadania: Chatbot stramlit RAG",
   "id": "47ef1ac99e40973"
  },
  {
   "metadata": {},
   "cell_type": "markdown",
   "source": [
    "Zadanie:\n",
    "1. Korzystając z instrukcji `7_3_LLM_streamlit_chatbot_RAG/README.md` uruchom aplikację chatbota.\n",
    "2. Podmień pliki tekstowe na własne w folderze `7_3_LLM_streamlit_chatbot_RAG/data` (Mogą to być np. teksty kilku artykułów skopiowanych z wikipedii).\n",
    "3. Uruchom ponowanie chatbota i zadaj pytanie dotyczące informacji zawartych w nowych źródłach."
   ],
   "id": "bea3dc5fcbcf9245"
  }
 ],
 "metadata": {
  "kernelspec": {
   "display_name": "Python 3",
   "language": "python",
   "name": "python3"
  },
  "language_info": {
   "codemirror_mode": {
    "name": "ipython",
    "version": 2
   },
   "file_extension": ".py",
   "mimetype": "text/x-python",
   "name": "python",
   "nbconvert_exporter": "python",
   "pygments_lexer": "ipython2",
   "version": "2.7.6"
  }
 },
 "nbformat": 4,
 "nbformat_minor": 5
}
