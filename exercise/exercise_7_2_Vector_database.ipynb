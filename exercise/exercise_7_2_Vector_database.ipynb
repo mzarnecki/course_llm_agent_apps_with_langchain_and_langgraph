{
 "cells": [
  {
   "cell_type": "markdown",
   "id": "760d57bf",
   "metadata": {},
   "source": [
    "## Wektorowa baza danych\n",
    "\n",
    "**Temat:** Baza wektorowa: cosine similarity, indeks, aktualizacja."
   ]
  },
  {
   "cell_type": "markdown",
   "id": "83bbef38",
   "metadata": {},
   "source": [
    "## Zadanie 1 — Cosine similarity"
   ]
  },
  {
   "cell_type": "code",
   "execution_count": null,
   "id": "3b977621",
   "metadata": {},
   "outputs": [],
   "source": [
    "import numpy as np\n",
    "def cosine_similarity(a: np.ndarray, b: np.ndarray) -> float:\n",
    "    denom = (np.linalg.norm(a) * np.linalg.norm(b)) or 1e-12  # TODO: zabezpieczenie\n",
    "    return float(np.dot(a, b) / denom)\n",
    "assert abs(cosine_similarity(np.array([1,0]), np.array([1,0])) - 1.0) < 1e-6\n"
   ]
  },
  {
   "cell_type": "markdown",
   "id": "db44af0c",
   "metadata": {},
   "source": [
    "## Zadanie 2 — Prosty store i zapytanie"
   ]
  },
  {
   "cell_type": "code",
   "execution_count": null,
   "id": "b8fd156a",
   "metadata": {},
   "outputs": [],
   "source": [
    "def embed(text: str) -> np.ndarray:\n",
    "    words = text.split()\n",
    "    return np.array([len(text), len(words), len(set(words))], dtype=float)  # TODO\n",
    "class TinyVectorDB:\n",
    "    def __init__(self): self.items = []\n",
    "    def add(self, text: str): self.items.append((text, embed(text)))\n",
    "    def query(self, q: str, top_k: int = 2):\n",
    "        qv = embed(q)\n",
    "        sims = [(t, float(np.dot(v, qv)/(np.linalg.norm(v)*np.linalg.norm(qv)+1e-12))) for (t, v) in self.items]\n",
    "        sims.sort(key=lambda x: x[1], reverse=True)\n",
    "        return sims[:top_k]\n",
    "db = TinyVectorDB()\n",
    "db.add(\"Ala ma kota i psa\")\n",
    "db.add(\"RAG łączy retrieval i generację\")\n",
    "db.add(\"Bazy wektorowe wspierają wyszukiwanie semantyczne\")\n",
    "print(db.query(\"retrieval generacja\", top_k=2))\n"
   ]
  },
  {
   "cell_type": "markdown",
   "id": "ba42a803",
   "metadata": {},
   "source": [
    "## Zadanie 3 — Update i delete"
   ]
  },
  {
   "cell_type": "code",
   "execution_count": null,
   "id": "526e4d19",
   "metadata": {},
   "outputs": [],
   "source": [
    "class TinyVectorDB2(TinyVectorDB):\n",
    "    def update(self, old_text: str, new_text: str) -> bool:\n",
    "        for i, (t, v) in enumerate(self.items):\n",
    "            if t == old_text:\n",
    "                self.items[i] = (new_text, embed(new_text))\n",
    "                return True\n",
    "        return False\n",
    "    def delete(self, text: str) -> bool:\n",
    "        for i, (t, v) in enumerate(self.items):\n",
    "            if t == text:\n",
    "                del self.items[i]\n",
    "                return True\n",
    "        return False\n",
    "db2 = TinyVectorDB2()\n",
    "db2.add(\"pierwszy wpis\"); db2.add(\"drugi wpis\")\n",
    "print(\"Update:\", db2.update(\"drugi wpis\", \"drugi wpis zaktualizowany\"))\n",
    "print(\"Delete:\", db2.delete(\"pierwszy wpis\"))\n",
    "print(\"Pozostałe:\", [t for t, _ in db2.items])\n"
   ]
  }
 ],
 "metadata": {
  "kernelspec": {
   "display_name": "Python 3",
   "language": "python",
   "name": "python3"
  },
  "language_info": {
   "name": "python",
   "version": "3.x"
  }
 },
 "nbformat": 4,
 "nbformat_minor": 5
}
