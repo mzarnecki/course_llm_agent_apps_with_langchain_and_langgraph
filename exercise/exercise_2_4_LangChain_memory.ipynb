{
 "cells": [
  {
   "cell_type": "markdown",
   "id": "71cf1986",
   "metadata": {},
   "source": [
    "# 📘 Zestaw zadań — LangChain: Podstawowe komponenty + Chat z pamięcią\n",
    "\n",
    "W tym notatniku znajdziesz *intuicyjne zadania* typu **uzupełnij kod**.\n",
    "Zadania odnoszą się do notebooków z przykładami:\n",
    "- **2_2_LangChain_core_components.ipynb**\n",
    "- **2_4_LangChain_chat_with_memory.ipynb**\n",
    "\n",
    "> **Wskazówka:** miejsca do uzupełnienia oznaczono jako `# TODO` lub `...`.\n"
   ]
  },
  {
   "cell_type": "markdown",
   "id": "762dacbb",
   "metadata": {},
   "source": [
    "## Zadanie 1 — `PromptTemplate`: zdefiniuj szablon i wyrenderuj komunikat"
   ]
  },
  {
   "cell_type": "code",
   "execution_count": null,
   "id": "1f6348d0",
   "metadata": {},
   "outputs": [],
   "source": [
    "# Cel: Uzupełnij definicję PromptTemplate oraz wyrenderuj gotowy prompt.\n",
    "# Odniesienie: 2_2_LangChain_core_components.ipynb\n",
    "\n",
    "from langchain_core.prompts import PromptTemplate\n",
    "\n",
    "# 1) Zdefiniuj zmienne wejściowe szablonu (powinny zawierać 'topic' i 'tone')\n",
    "input_variables = [\"topic\", \"tone\"]  # TODO: możesz pozostawić jak jest lub zmodyfikować\n",
    "\n",
    "# 2) Zdefiniuj treść szablonu tak, aby używać {topic} i {tone}\n",
    "template = \"\"\"Napisz krótki akapit o temacie: {topic}.\n",
    "Utrzymaj ton wypowiedzi: {tone}.\"\"\"  # TODO: dostosuj tekst jeśli chcesz\n",
    "\n",
    "prompt = PromptTemplate(input_variables=input_variables, template=template)\n",
    "\n",
    "# 3) Wyrenderuj gotowy prompt podstawiając wartości\n",
    "rendered = prompt.format(topic=\"uczenie maszynowe\", tone=\"entuzjastyczny\")  # TODO: zmień wartości\n",
    "\n",
    "print(rendered)\n",
    "assert \"{topic}\" not in rendered and \"{tone}\" not in rendered, \"Wygląda na to, że nie sformatowałeś szablonu.\""
   ]
  },
  {
   "cell_type": "markdown",
   "id": "24dd724b",
   "metadata": {},
   "source": [
    "## Zadanie 2 — `ChatPromptTemplate` i `MessagesPlaceholder` (historia rozmowy)"
   ]
  },
  {
   "cell_type": "code",
   "execution_count": null,
   "id": "8bf929a8",
   "metadata": {},
   "outputs": [],
   "source": [
    "# Cel: Zbuduj ChatPromptTemplate z miejscem na historię rozmowy.\n",
    "# Odniesienie: 2_4_LangChain_chat_with_memory.ipynb\n",
    "\n",
    "from langchain_core.prompts import ChatPromptTemplate, MessagesPlaceholder\n",
    "\n",
    "# 1) Uzupełnij szablon wiadomości: system, historia (placeholder), user\n",
    "prompt = ChatPromptTemplate.from_messages([\n",
    "    (\"system\", \"Jesteś pomocnym asystentem. Odpowiadaj zwięźle po polsku.\"),  # TODO: możesz zmienić reguły\n",
    "    MessagesPlaceholder(variable_name=\"history\"),  # TODO: pozostaw jako placeholder\n",
    "    (\"user\", \"{input}\"),  # TODO: nie zmieniaj klucza 'input'\n",
    "])\n",
    "\n",
    "# 2) Zasymuluj wypełnienie: podstaw 'history' i 'input' (bez wywołania modelu)\n",
    "fake_history = [\n",
    "    {\"role\": \"user\", \"content\": \"Cześć, jak działa pamięć w czacie?\"},\n",
    "    {\"role\": \"assistant\", \"content\": \"Pozwala wziąć pod uwagę poprzednie wiadomości.\"},\n",
    "]\n",
    "\n",
    "rendered = prompt.format_messages(history=fake_history, input=\"A jak zapisać ją w LangChain?\")\n",
    "for m in rendered:\n",
    "    print(m.type if hasattr(m, \"type\") else m[\"role\"], \":\", m.content if hasattr(m, \"content\") else m[\"content\"])"
   ]
  },
  {
   "cell_type": "markdown",
   "id": "2ae15552",
   "metadata": {},
   "source": [
    "## Zadanie 3 — `RunnableWithMessageHistory`: opakuj łańcuch o pamięć"
   ]
  },
  {
   "cell_type": "code",
   "execution_count": null,
   "id": "44b7960e",
   "metadata": {},
   "outputs": [],
   "source": [
    "# Cel: Zbuduj prosty łańcuch z pamięcią konwersacji.\n",
    "# Odniesienie: 2_4_LangChain_chat_with_memory.ipynb\n",
    "\n",
    "import os\n",
    "from langchain_openai import ChatOpenAI\n",
    "from langchain_core.runnables.history import RunnableWithMessageHistory\n",
    "from langchain_community.chat_message_histories import InMemoryChatMessageHistory\n",
    "\n",
    "# Upewnij się, że masz ustawione OPENAI_API_KEY w środowisku.\n",
    "# os.environ[\"OPENAI_API_KEY\"] = \"sk-...\"  # NIE wstawiaj klucza do repo\n",
    "\n",
    "llm = ChatOpenAI(model=\"gpt-4o-mini\", temperature=0)  # TODO: możesz zmienić model\n",
    "\n",
    "from langchain_core.prompts import ChatPromptTemplate, MessagesPlaceholder\n",
    "prompt = ChatPromptTemplate.from_messages([\n",
    "    (\"system\", \"Jesteś asystentem. Pamiętaj kontekst rozmowy.\"),\n",
    "    MessagesPlaceholder(\"history\"),\n",
    "    (\"user\", \"{input}\"),\n",
    "])\n",
    "\n",
    "chain = prompt | llm  # TODO: prosta kompozycja\n",
    "\n",
    "store = {}\n",
    "def get_history(session_id: str):\n",
    "    if session_id not in store:\n",
    "        store[session_id] = InMemoryChatMessageHistory()\n",
    "    return store[session_id]\n",
    "\n",
    "chain_with_memory = RunnableWithMessageHistory(\n",
    "    chain,\n",
    "    get_session_history=get_history,\n",
    "    input_messages_key=\"input\",\n",
    "    history_messages_key=\"history\",\n",
    ")\n",
    "\n",
    "# (Nie wywołujemy realnie modelu w testach); Sprawdź, czy obiekt istnieje.\n",
    "assert chain_with_memory is not None, \"Nie udało się zbudować łańcucha z pamięcią.\""
   ]
  },
  {
   "cell_type": "markdown",
   "id": "afa72a5d",
   "metadata": {},
   "source": [
    "## Zadanie 4 — `OutputParser`: wyodrębnij czysty tekst"
   ]
  },
  {
   "cell_type": "code",
   "execution_count": null,
   "id": "d6ea41d2",
   "metadata": {},
   "outputs": [],
   "source": [
    "# Cel: Dodaj prosty parser, który wymusi zwrot zwykłego ciągu tekstowego.\n",
    "# Odniesienie: 2_2_LangChain_core_components.ipynb\n",
    "\n",
    "from langchain_core.output_parsers import StrOutputParser\n",
    "from langchain_core.prompts import PromptTemplate\n",
    "\n",
    "template = \"Podaj definicję pojęcia: {term} w jednym zdaniu.\"\n",
    "prompt = PromptTemplate.from_template(template)\n",
    "\n",
    "# TODO: Złóż łańcuch prompt -> llm -> parser\n",
    "llm = ChatOpenAI(model=\"gpt-4o-mini\", temperature=0)\n",
    "parser = StrOutputParser()\n",
    "\n",
    "chain = prompt | llm | parser  # TODO: ta linia jest kluczowa\n",
    "\n",
    "# Nie wykonujemy wywołania. Sprawdźmy typ ostatniego elementu łańcucha:\n",
    "assert parser is not None, \"Parser nie został utworzony.\""
   ]
  },
  {
   "cell_type": "markdown",
   "id": "edfa9ce0",
   "metadata": {},
   "source": [
    "## Zadanie 5 — Pamięć rozmowy: dodaj bufor rozmowy do łańcucha\n",
    "*Uwaga:* interfejs pamięci w LangChain ewoluuje. Poniższy szkic pokazuje ideę z buforem rozmów."
   ]
  },
  {
   "cell_type": "code",
   "execution_count": null,
   "id": "1302d76f",
   "metadata": {},
   "outputs": [],
   "source": [
    "# Cel: Zademonstruj integrację bufora historii z łańcuchem (wersja poglądowa).\n",
    "# Jeśli Twoja wersja LangChain oferuje nowsze podejście, użyj go.\n",
    "\n",
    "try:\n",
    "    from langchain.memory import ConversationBufferMemory  # API może się różnić w wersjach\n",
    "    memory = ConversationBufferMemory(return_messages=True)\n",
    "    memory.save_context({\"input\": \"Hej!\"}, {\"output\": \"Cześć, w czym pomóc?\"})\n",
    "    hist = memory.load_memory_variables({})\n",
    "    print(\"Historia:\", hist)\n",
    "except Exception as e:\n",
    "    print(\"Pominięto demonstrację ConversationBufferMemory (inne API?):\", e)"
   ]
  }
 ],
 "metadata": {
  "kernelspec": {
   "display_name": "Python 3",
   "language": "python",
   "name": "python3"
  },
  "language_info": {
   "name": "python",
   "version": "3.x"
  }
 },
 "nbformat": 4,
 "nbformat_minor": 5
}