{
 "cells": [
  {
   "metadata": {},
   "cell_type": "markdown",
   "source": "## Agent wydawca",
   "id": "47ef1ac99e40973"
  },
  {
   "metadata": {},
   "cell_type": "markdown",
   "source": [
    "Zadanie:\n",
    "Uruchom notebook `9_1_Application_agent_publisher.ipynb`\n",
    "Zmodyfikuj temat artykułu i wygeneruj nowy artykuł na wybrany przez Ciebie temat."
   ],
   "id": "bea3dc5fcbcf9245"
  }
 ],
 "metadata": {
  "kernelspec": {
   "display_name": "Python 3",
   "language": "python",
   "name": "python3"
  },
  "language_info": {
   "codemirror_mode": {
    "name": "ipython",
    "version": 2
   },
   "file_extension": ".py",
   "mimetype": "text/x-python",
   "name": "python",
   "nbconvert_exporter": "python",
   "pygments_lexer": "ipython2",
   "version": "2.7.6"
  }
 },
 "nbformat": 4,
 "nbformat_minor": 5
}
