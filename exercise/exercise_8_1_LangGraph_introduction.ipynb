{
 "cells": [
  {
   "cell_type": "markdown",
   "id": "2472b25c",
   "metadata": {},
   "source": "## Zadania: LangGraph - podstawy\n"
  },
  {
   "cell_type": "markdown",
   "id": "31cc7542",
   "metadata": {},
   "source": "## Zadanie 1 - Typ stanu + prosty węzeł"
  },
  {
   "cell_type": "code",
   "execution_count": null,
   "id": "f184519e",
   "metadata": {},
   "outputs": [],
   "source": [
    "from typing import TypedDict, Optional\n",
    "\n",
    "class State(TypedDict, total=False):\n",
    "    question: str\n",
    "    answer: Optional[str]\n",
    "\n",
    "def echo_node(state: State) -> State:\n",
    "    new_state = dict(state)\n",
    "    if \"answer\" not in new_state:\n",
    "        new_state[\"answer\"] = f\"ECHO: {state.get('question','')}\"  # TODO: zmień prefix jeśli chcesz\n",
    "    return new_state\n",
    "\n",
    "assert callable(echo_node)\n"
   ]
  },
  {
   "cell_type": "markdown",
   "id": "05deae91",
   "metadata": {},
   "source": "## Zadanie 2 - Graf: START → echo → END"
  },
  {
   "cell_type": "code",
   "execution_count": null,
   "id": "ceac3928",
   "metadata": {},
   "outputs": [],
   "source": [
    "# %pip install -U langgraph\n",
    "try:\n",
    "    from langgraph.graph import StateGraph, START, END\n",
    "except Exception as e:\n",
    "    print(\"LangGraph nie jest zainstalowany (demo).\", e)\n",
    "    StateGraph = object; START=\"__START__\"; END=\"__END__\"\n",
    "\n",
    "builder = StateGraph(State)  # TODO: typ stanu\n",
    "try:\n",
    "    builder.add_node(\"echo\", echo_node)\n",
    "    builder.add_edge(START, \"echo\")\n",
    "    builder.add_edge(\"echo\", END)\n",
    "except Exception as e:\n",
    "    print(\"Szkic dodawania węzłów/krawędzi:\", e)\n",
    "\n",
    "try:\n",
    "    graph = builder.compile()\n",
    "    assert graph is not None\n",
    "except Exception:\n",
    "    pass\n"
   ]
  },
  {
   "cell_type": "markdown",
   "id": "c522f235",
   "metadata": {},
   "source": "## Zadanie 3 - Szkic wywołania"
  },
  {
   "cell_type": "code",
   "execution_count": null,
   "id": "867b5037",
   "metadata": {},
   "outputs": [],
   "source": [
    "sample_input = {\"question\": \"Czym jest LangGraph?\"}\n",
    "# result = graph.invoke(sample_input)  # TODO: uruchom, jeśli masz LangGraph\n",
    "assert \"question\" in sample_input\n",
    "print(\"OK — szkic wejścia do grafu.\")"
   ]
  }
 ],
 "metadata": {
  "kernelspec": {
   "display_name": "Python 3",
   "language": "python",
   "name": "python3"
  },
  "language_info": {
   "name": "python",
   "version": "3.x"
  }
 },
 "nbformat": 4,
 "nbformat_minor": 5
}
