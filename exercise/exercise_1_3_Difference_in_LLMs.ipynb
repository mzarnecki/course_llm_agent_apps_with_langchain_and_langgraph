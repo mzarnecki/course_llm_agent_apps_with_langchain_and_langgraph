{
 "cells": [
  {
   "cell_type": "markdown",
   "id": "bf321127",
   "metadata": {},
   "source": "## Zadania: Charakterystyka dużych modeli językowych\n"
  },
  {
   "cell_type": "markdown",
   "id": "1e4383c2",
   "metadata": {},
   "source": [
    "## Zadanie 1 — Prompt + dwa „modele”"
   ]
  },
  {
   "cell_type": "code",
   "execution_count": null,
   "id": "485f6d0e",
   "metadata": {},
   "outputs": [],
   "source": [
    "prompt = {\"role\":\"user\",\"content\":\"Wyjaśnij w 2-3 zdaniach, czym jest wektor semantyczny.\"}  # TODO\n",
    "\n",
    "def model_a(prompt):  # TODO: podmień treść\n",
    "    return \"Wektor semantyczny reprezentuje znaczenie tekstu w liczbach.\"\n",
    "def model_b(prompt):\n",
    "    return \"Wektory semantyczne kodują treść dokumentów jako liczby dla porównań.\"\n",
    "\n",
    "ans_a = model_a(prompt); ans_b = model_b(prompt)\n",
    "print(ans_a[:60], \"...\"); print(ans_b[:60], \"...\")"
   ]
  },
  {
   "cell_type": "markdown",
   "id": "90c9fd87",
   "metadata": {},
   "source": [
    "## Zadanie 2 — Normalizacja + metryki"
   ]
  },
  {
   "cell_type": "code",
   "execution_count": null,
   "id": "33575822",
   "metadata": {},
   "outputs": [],
   "source": [
    "import re\n",
    "def normalize(t: str) -> str:\n",
    "    return re.sub(r\"\\s+\",\" \",t.strip()).lower()  # TODO\n",
    "def metrics(a: str, b: str) -> dict:\n",
    "    na, nb = normalize(a), normalize(b)\n",
    "    wa, wb = set(na.split()), set(nb.split())\n",
    "    return {\"len_a\":len(na), \"len_b\":len(nb), \"overlap\":len(wa & wb)}\n",
    "print(metrics(ans_a, ans_b))"
   ]
  },
  {
   "cell_type": "markdown",
   "id": "7f4ba641",
   "metadata": {},
   "source": [
    "## Zadanie 3 — Prosta ocena wg kryteriów"
   ]
  },
  {
   "cell_type": "code",
   "execution_count": null,
   "id": "1d334b9b",
   "metadata": {},
   "outputs": [],
   "source": [
    "def evaluate(answer: str) -> dict:\n",
    "    conciseness = 5 if len(answer) < 140 else 3  # TODO\n",
    "    correctness = 4  # założenie\n",
    "    concreteness = 4 if \"podobieństwo\" in answer.lower() else 2\n",
    "    return {\"correctness\":correctness,\"conciseness\":conciseness,\"concreteness\":concreteness}\n",
    "ea, eb = evaluate(ans_a), evaluate(ans_b)\n",
    "print(ea, eb)\n",
    "winner = \"A\" if sum(ea.values()) >= sum(eb.values()) else \"B\"\n",
    "print(\"Zwycięzca:\", winner)"
   ]
  }
 ],
 "metadata": {
  "kernelspec": {
   "display_name": "Python 3",
   "language": "python",
   "name": "python3"
  },
  "language_info": {
   "name": "python",
   "version": "3.x"
  }
 },
 "nbformat": 4,
 "nbformat_minor": 5
}
