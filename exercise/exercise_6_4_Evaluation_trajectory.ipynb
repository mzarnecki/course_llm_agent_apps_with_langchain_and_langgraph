{
 "cells": [
  {
   "cell_type": "markdown",
   "id": "0155bbd5",
   "metadata": {},
   "source": "## Zadania: Ewaluacja trajektorii"
  },
  {
   "cell_type": "markdown",
   "id": "f2ffa487",
   "metadata": {},
   "source": "## Zadanie 1 - Reprezentacja trajektorii"
  },
  {
   "cell_type": "code",
   "execution_count": null,
   "id": "11bb3969",
   "metadata": {},
   "outputs": [],
   "source": [
    "trajectory = [\n",
    "    {\"thought\": \"Zrozum pytanie użytkownika.\", \"action\": None, \"result\": \"Cel zrozumiany.\"},\n",
    "    # TODO: dodaj 2-3 kolejne kroki (thought/action/result)\n",
    "]\n",
    "assert isinstance(trajectory, list) and len(trajectory) >= 1\n"
   ]
  },
  {
   "cell_type": "markdown",
   "id": "9684ee2f",
   "metadata": {},
   "source": "## Zadanie 2 - Prosty evaluator trajektorii"
  },
  {
   "cell_type": "code",
   "execution_count": null,
   "id": "d1420554",
   "metadata": {},
   "outputs": [],
   "source": [
    "def eval_trajectory(traj: list) -> dict:\n",
    "    n = len(traj)\n",
    "    with_results = sum(1 for k in traj if k.get(\"result\"))\n",
    "    metrics = {\n",
    "        \"liczba_kroków\": n,\n",
    "        \"procent_kroków_z_rezultatem\": round(100.0 * with_results / max(1, n), 2),\n",
    "        \"ma_uzasadnienie\": all(bool(k.get(\"thought\")) for k in traj),\n",
    "    }  # TODO: dodaj prostą metrykę, np. liczba akcji != None\n",
    "    return metrics\n",
    "\n",
    "print(eval_trajectory(trajectory))\n"
   ]
  },
  {
   "cell_type": "markdown",
   "id": "06340e05",
   "metadata": {},
   "source": "## Zadanie 3 - Porównanie trajektorii"
  },
  {
   "cell_type": "code",
   "execution_count": null,
   "id": "30654e42",
   "metadata": {},
   "outputs": [],
   "source": [
    "traj_a = trajectory\n",
    "traj_b = [\n",
    "    {\"thought\": \"Analiza danych wejściowych.\", \"action\": \"tool:search\", \"result\": \"Znaleziono źródło.\"},\n",
    "    {\"thought\": \"Synteza informacji.\", \"action\": None, \"result\": \"Gotowa odpowiedź.\"},\n",
    "]  # TODO: rozbuduj jeśli chcesz\n",
    "\n",
    "def better_trajectory(traj1, traj2):\n",
    "    m1, m2 = eval_trajectory(traj1), eval_trajectory(traj2)\n",
    "    return \"traj1\" if m1[\"procent_kroków_z_rezultatem\"] >= m2[\"procent_kroków_z_rezultatem\"] else \"traj2\"\n",
    "\n",
    "print(\"Lepsza:\", better_trajectory(traj_a, traj_b))\n"
   ]
  }
 ],
 "metadata": {
  "kernelspec": {
   "display_name": "Python 3",
   "language": "python",
   "name": "python3"
  },
  "language_info": {
   "name": "python",
   "version": "3.x"
  }
 },
 "nbformat": 4,
 "nbformat_minor": 5
}
