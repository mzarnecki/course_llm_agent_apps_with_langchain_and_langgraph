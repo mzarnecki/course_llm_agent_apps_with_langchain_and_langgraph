{
 "cells": [
  {
   "cell_type": "markdown",
   "id": "fa840899",
   "metadata": {},
   "source": "## Zadania: LangGraph - tool node, conditional edge, loop\n"
  },
  {
   "cell_type": "markdown",
   "id": "340f150a",
   "metadata": {},
   "source": "## Zadanie 1 - Tool node: word_count"
  },
  {
   "cell_type": "code",
   "execution_count": null,
   "id": "00ad68dc",
   "metadata": {},
   "outputs": [],
   "source": [
    "def word_count_tool(state: dict) -> dict:\n",
    "    q = state.get(\"question\",\"\")\n",
    "    state[\"wc\"] = len(str(q).split())  # TODO: zmień logikę jeśli chcesz\n",
    "    return state\n",
    "assert word_count_tool({\"question\":\"Ala ma kota\"})[\"wc\"] == 3\n"
   ]
  },
  {
   "cell_type": "markdown",
   "id": "a93d9e88",
   "metadata": {},
   "source": "## Zadanie 2 - Router: warunek dalszej pracy"
  },
  {
   "cell_type": "code",
   "execution_count": null,
   "id": "a3e33a7c",
   "metadata": {},
   "outputs": [],
   "source": [
    "from typing import TypedDict, Optional\n",
    "try:\n",
    "    from langgraph.graph import StateGraph, START, END\n",
    "except Exception as e:\n",
    "    print(\"LangGraph nie jest zainstalowany (demo).\", e)\n",
    "    StateGraph = object; START=\"__START__\"; END=\"__END__\"\n",
    "\n",
    "class State(TypedDict, total=False):\n",
    "    question: str\n",
    "    wc: int\n",
    "    answer: Optional[str]\n",
    "    loops: int\n",
    "\n",
    "def generator_node(state: State) -> State:\n",
    "    if state.get(\"wc\",0) > 4:\n",
    "        state[\"answer\"] = \"Dłuższa odpowiedź...\"\n",
    "    else:\n",
    "        state[\"answer\"] = \"Krótka odpowiedź.\"\n",
    "    return state\n",
    "\n",
    "def need_more_detail(state: State) -> bool:\n",
    "    return state.get(\"answer\") == \"Krótka odpowiedź.\"  # TODO: warunek\n",
    "\n",
    "builder = StateGraph(State)\n",
    "try:\n",
    "    builder.add_node(\"tool_wc\", word_count_tool)\n",
    "    builder.add_node(\"gen\", generator_node)\n",
    "    builder.add_edge(START, \"tool_wc\")\n",
    "    builder.add_edge(\"tool_wc\", \"gen\")\n",
    "except Exception as e:\n",
    "    print(\"Szkic dodawania węzłów/krawędzi:\", e)\n",
    "\n",
    "def router(state: State) -> str:\n",
    "    return \"loopback\" if need_more_detail(state) else END\n",
    "\n",
    "try:\n",
    "    builder.add_conditional_edges(\"gen\", router, {\"loopback\": \"tool_wc\", END: END})\n",
    "except Exception as e:\n",
    "    print(\"Szkic add_conditional_edges:\", e)\n"
   ]
  },
  {
   "cell_type": "markdown",
   "id": "01471686",
   "metadata": {},
   "source": "## Zadanie 3 - Ograniczenie pętli i kompilacja"
  },
  {
   "cell_type": "code",
   "execution_count": null,
   "id": "2782b672",
   "metadata": {},
   "outputs": [],
   "source": [
    "def loop_counter(state: State) -> State:\n",
    "    state[\"loops\"] = state.get(\"loops\", 0) + 1\n",
    "    if state[\"loops\"] > 2:\n",
    "        state[\"answer\"] = \"Wystarczająco szczegółów.\"\n",
    "    return state\n",
    "\n",
    "try:\n",
    "    builder.add_node(\"loop_counter\", loop_counter)  # TODO: wstaw w odpowiednim miejscu w realnym przepływie\n",
    "    graph = builder.compile()\n",
    "    print(\"Graf skompilowany (interfejs).\")\n",
    "except Exception as e:\n",
    "    print(\"Szkic kompilacji grafu:\", e)\n"
   ]
  }
 ],
 "metadata": {
  "kernelspec": {
   "display_name": "Python 3",
   "language": "python",
   "name": "python3"
  },
  "language_info": {
   "name": "python",
   "version": "3.x"
  }
 },
 "nbformat": 4,
 "nbformat_minor": 5
}
