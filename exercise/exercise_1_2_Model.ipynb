{
 "cells": [
  {
   "metadata": {},
   "cell_type": "markdown",
   "source": "## Zadania: Czym jest model?",
   "id": "328e0769c492dc33"
  },
  {
   "metadata": {},
   "cell_type": "markdown",
   "source": [
    "Zadanie:\n",
    "Skorzystaj ze strony https://bbycroft.net/llm autorstwa Brandona Bycrofta i przejdż przez etapy procesowania danych w modelu nano-gpt."
   ],
   "id": "7585494e5ec43564"
  }
 ],
 "metadata": {
  "kernelspec": {
   "display_name": "Python 3",
   "language": "python",
   "name": "python3"
  },
  "language_info": {
   "codemirror_mode": {
    "name": "ipython",
    "version": 2
   },
   "file_extension": ".py",
   "mimetype": "text/x-python",
   "name": "python",
   "nbconvert_exporter": "python",
   "pygments_lexer": "ipython2",
   "version": "2.7.6"
  }
 },
 "nbformat": 4,
 "nbformat_minor": 5
}
