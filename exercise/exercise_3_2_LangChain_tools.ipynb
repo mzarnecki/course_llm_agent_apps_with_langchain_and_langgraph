{
 "cells": [
  {
   "cell_type": "markdown",
   "id": "f203fbc5",
   "metadata": {},
   "source": [
    "# Zadania – 3_2 LangChain Tools\n",
    "\n",
    "Definiowanie własnych narzędzi (tools) i integracja z agentami.\n",
    "\n",
    "> **Instrukcja:** Zadania są krótkie i polegają na uzupełnieniu brakujących fragmentów kodu (`____`). Niektóre komórki zawierają komentarze `# TODO` i `# HINT`. Uruchamiaj komórki po kolei."
   ]
  },
  {
   "cell_type": "markdown",
   "id": "c636308e",
   "metadata": {},
   "source": [
    "### Zadanie 1: Proste narzędzie – kalkulator\n",
    "Zaimplementuj funkcję dodawania i zarejestruj ją jako narzędzie LangChain."
   ]
  },
  {
   "metadata": {
    "ExecuteTime": {
     "end_time": "2025-10-11T04:36:11.636483Z",
     "start_time": "2025-10-11T04:36:11.627448Z"
    }
   },
   "cell_type": "code",
   "source": [
    "from dotenv import load_dotenv\n",
    "\n",
    "load_dotenv()"
   ],
   "id": "1c79efb8c07ee026",
   "outputs": [
    {
     "data": {
      "text/plain": [
       "True"
      ]
     },
     "execution_count": 4,
     "metadata": {},
     "output_type": "execute_result"
    }
   ],
   "execution_count": 4
  },
  {
   "cell_type": "code",
   "id": "5452a5a8",
   "metadata": {
    "ExecuteTime": {
     "end_time": "2025-10-11T04:34:54.206832Z",
     "start_time": "2025-10-11T04:34:53.737365Z"
    }
   },
   "source": [
    "\n",
    "# TODO: Utwórz tool `add_two_numbers(a: float, b: float) -> float`\n",
    "from langchain_core.tools import tool\n",
    "\n",
    "@tool\n",
    "def add_two_numbers(a: float, b: float) -> float:\n",
    "    \"\"\"Zwraca sumę dwóch liczb.\"\"\"\n",
    "    # uzupełnij tutaj\n",
    "    return a + b\n",
    "\n",
    "print(add_two_numbers.invoke({\"a\": 2, \"b\": 3}))\n"
   ],
   "outputs": [
    {
     "name": "stdout",
     "output_type": "stream",
     "text": [
      "5.0\n"
     ]
    }
   ],
   "execution_count": 1
  },
  {
   "cell_type": "markdown",
   "id": "1179265f",
   "metadata": {},
   "source": [
    "### Zadanie 2: Narzędzie „mini‑wiki” (lokalna baza wiedzy)\n",
    "Zbuduj narzędzie, które zwraca krótki opis po kluczu ze słownika."
   ]
  },
  {
   "cell_type": "code",
   "id": "b7d9d249",
   "metadata": {
    "ExecuteTime": {
     "end_time": "2025-10-11T04:34:56.420349Z",
     "start_time": "2025-10-11T04:34:56.413652Z"
    }
   },
   "source": [
    "\n",
    "# TODO: Stwórz słownik i tool `mini_wiki(query: str)` zwracający opis lub komunikat o braku hasła\n",
    "from langchain_core.tools import tool\n",
    "\n",
    "DB = {\n",
    "____\n",
    "}\n",
    "\n",
    "@tool\n",
    "def mini_wiki(query: str) -> str:\n",
    "    \"\"\"Zwróć krótki opis po kluczu (np. 'rag', 'langchain').\"\"\"\n",
    "    return DB.get(query.lower().strip(), \"Brak hasła w mini‑wiki.\")\n",
    "\n",
    "print(mini_wiki.invoke({\"query\": \"RAG\"}))\n"
   ],
   "outputs": [
    {
     "name": "stdout",
     "output_type": "stream",
     "text": [
      "RAG łączy retriever (wyszukiwanie) z generowaniem odpowiedzi.\n"
     ]
    }
   ],
   "execution_count": 2
  },
  {
   "cell_type": "markdown",
   "id": "bb9dc225",
   "metadata": {},
   "source": [
    "### Zadanie 3: Agent z narzędziami\n",
    "Utwórz prostego agenta, który może wywołać `add_two_numbers` i `mini_wiki` w zależności od pytania."
   ]
  },
  {
   "cell_type": "code",
   "id": "f3d0e70d",
   "metadata": {
    "ExecuteTime": {
     "end_time": "2025-10-11T04:47:08.895260Z",
     "start_time": "2025-10-11T04:47:00.429602Z"
    }
   },
   "source": [
    "from langchain.agents import AgentType, initialize_agent\n",
    "from langchain_openai import ChatOpenAI\n",
    "# TODO: Zbuduj agenta z zestawem tools i przetestuj 2 zapytania\n",
    "\n",
    "tools = ____\n",
    "\n",
    "llm = ____\n",
    "\n",
    "agent = initialize_agent(\n",
    "    llm=llm,\n",
    "    tools=tools,\n",
    "    agent=AgentType.STRUCTURED_CHAT_ZERO_SHOT_REACT_DESCRIPTION,\n",
    "    verbose=True,\n",
    "    max_iterations=6\n",
    ")\n",
    "\n",
    "print(agent.run(\"Dodaj 12.5 i 7.5\"))\n",
    "print(agent.run(\"Wyjaśnij w jednym zdaniu co to RAG\"))\n"
   ],
   "outputs": [
    {
     "name": "stderr",
     "output_type": "stream",
     "text": [
      "/tmp/ipykernel_29472/4028550770.py:9: LangChainDeprecationWarning: LangChain agents will continue to be supported, but it is recommended for new use cases to be built with LangGraph. LangGraph offers a more flexible and full-featured framework for building agents, including support for tool-calling, persistence of state, and human-in-the-loop workflows. For details, refer to the `LangGraph documentation <https://langchain-ai.github.io/langgraph/>`_ as well as guides for `Migrating from AgentExecutor <https://python.langchain.com/docs/how_to/migrate_agent/>`_ and LangGraph's `Pre-built ReAct agent <https://langchain-ai.github.io/langgraph/how-tos/create-react-agent/>`_.\n",
      "  agent = initialize_agent(\n",
      "/tmp/ipykernel_29472/4028550770.py:17: LangChainDeprecationWarning: The method `Chain.run` was deprecated in langchain 0.1.0 and will be removed in 1.0. Use :meth:`~invoke` instead.\n",
      "  print(agent.run(\"Dodaj 12.5 i 7.5\"))\n"
     ]
    },
    {
     "name": "stdout",
     "output_type": "stream",
     "text": [
      "\n",
      "\n",
      "\u001B[1m> Entering new AgentExecutor chain...\u001B[0m\n",
      "\u001B[32;1m\u001B[1;3mThought: I need to add the two numbers 12.5 and 7.5 together. \n",
      "Action:\n",
      "```\n",
      "{\n",
      "  \"action\": \"add_two_numbers\",\n",
      "  \"action_input\": {\n",
      "    \"a\": 12.5,\n",
      "    \"b\": 7.5\n",
      "  }\n",
      "}\n",
      "```\n",
      "\u001B[0m\n",
      "Observation: \u001B[36;1m\u001B[1;3m20.0\u001B[0m\n",
      "Thought:\u001B[32;1m\u001B[1;3mI know what to respond.\n",
      "Action:\n",
      "```\n",
      "{\n",
      "  \"action\": \"Final Answer\",\n",
      "  \"action_input\": \"Suma 12.5 i 7.5 wynosi 20.0.\"\n",
      "}\n",
      "```\n",
      "\u001B[0m\n",
      "\n",
      "\u001B[1m> Finished chain.\u001B[0m\n",
      "Suma 12.5 i 7.5 wynosi 20.0.\n",
      "\n",
      "\n",
      "\u001B[1m> Entering new AgentExecutor chain...\u001B[0m\n",
      "\u001B[32;1m\u001B[1;3mThought: RAG to skrót od Retrieval-Augmented Generation, co odnosi się do techniki w przetwarzaniu języka naturalnego, która łączy generację tekstu z wyszukiwaniem informacji. \n",
      "Action:\n",
      "```\n",
      "{\n",
      "  \"action\": \"mini_wiki\",\n",
      "  \"action_input\": {\"title\": \"rag\"}\n",
      "}\n",
      "```\n",
      "\u001B[0m"
     ]
    },
    {
     "ename": "ValidationError",
     "evalue": "1 validation error for mini_wiki\nquery\n  Field required [type=missing, input_value={'title': 'rag'}, input_type=dict]\n    For further information visit https://errors.pydantic.dev/2.11/v/missing",
     "output_type": "error",
     "traceback": [
      "\u001B[31m---------------------------------------------------------------------------\u001B[39m",
      "\u001B[31mValidationError\u001B[39m                           Traceback (most recent call last)",
      "\u001B[36mCell\u001B[39m\u001B[36m \u001B[39m\u001B[32mIn[10]\u001B[39m\u001B[32m, line 18\u001B[39m\n\u001B[32m      9\u001B[39m agent = initialize_agent(\n\u001B[32m     10\u001B[39m     llm=llm,\n\u001B[32m     11\u001B[39m     tools=tools,\n\u001B[32m   (...)\u001B[39m\u001B[32m     14\u001B[39m     max_iterations=\u001B[32m6\u001B[39m\n\u001B[32m     15\u001B[39m )\n\u001B[32m     17\u001B[39m \u001B[38;5;28mprint\u001B[39m(agent.run(\u001B[33m\"\u001B[39m\u001B[33mDodaj 12.5 i 7.5\u001B[39m\u001B[33m\"\u001B[39m))\n\u001B[32m---> \u001B[39m\u001B[32m18\u001B[39m \u001B[38;5;28mprint\u001B[39m(\u001B[43magent\u001B[49m\u001B[43m.\u001B[49m\u001B[43mrun\u001B[49m\u001B[43m(\u001B[49m\u001B[33;43m\"\u001B[39;49m\u001B[33;43mWyjaśnij w jednym zdaniu co to RAG\u001B[39;49m\u001B[33;43m\"\u001B[39;49m\u001B[43m)\u001B[49m)\n",
      "\u001B[36mFile \u001B[39m\u001B[32m~/anaconda3/lib/python3.13/site-packages/langchain_core/_api/deprecation.py:193\u001B[39m, in \u001B[36mdeprecated.<locals>.deprecate.<locals>.warning_emitting_wrapper\u001B[39m\u001B[34m(*args, **kwargs)\u001B[39m\n\u001B[32m    191\u001B[39m     warned = \u001B[38;5;28;01mTrue\u001B[39;00m\n\u001B[32m    192\u001B[39m     emit_warning()\n\u001B[32m--> \u001B[39m\u001B[32m193\u001B[39m \u001B[38;5;28;01mreturn\u001B[39;00m \u001B[43mwrapped\u001B[49m\u001B[43m(\u001B[49m\u001B[43m*\u001B[49m\u001B[43margs\u001B[49m\u001B[43m,\u001B[49m\u001B[43m \u001B[49m\u001B[43m*\u001B[49m\u001B[43m*\u001B[49m\u001B[43mkwargs\u001B[49m\u001B[43m)\u001B[49m\n",
      "\u001B[36mFile \u001B[39m\u001B[32m~/anaconda3/lib/python3.13/site-packages/langchain/chains/base.py:627\u001B[39m, in \u001B[36mChain.run\u001B[39m\u001B[34m(self, callbacks, tags, metadata, *args, **kwargs)\u001B[39m\n\u001B[32m    625\u001B[39m         msg = \u001B[33m\"\u001B[39m\u001B[33m`run` supports only one positional argument.\u001B[39m\u001B[33m\"\u001B[39m\n\u001B[32m    626\u001B[39m         \u001B[38;5;28;01mraise\u001B[39;00m \u001B[38;5;167;01mValueError\u001B[39;00m(msg)\n\u001B[32m--> \u001B[39m\u001B[32m627\u001B[39m     \u001B[38;5;28;01mreturn\u001B[39;00m \u001B[38;5;28;43mself\u001B[39;49m\u001B[43m(\u001B[49m\u001B[43margs\u001B[49m\u001B[43m[\u001B[49m\u001B[32;43m0\u001B[39;49m\u001B[43m]\u001B[49m\u001B[43m,\u001B[49m\u001B[43m \u001B[49m\u001B[43mcallbacks\u001B[49m\u001B[43m=\u001B[49m\u001B[43mcallbacks\u001B[49m\u001B[43m,\u001B[49m\u001B[43m \u001B[49m\u001B[43mtags\u001B[49m\u001B[43m=\u001B[49m\u001B[43mtags\u001B[49m\u001B[43m,\u001B[49m\u001B[43m \u001B[49m\u001B[43mmetadata\u001B[49m\u001B[43m=\u001B[49m\u001B[43mmetadata\u001B[49m\u001B[43m)\u001B[49m[\n\u001B[32m    628\u001B[39m         _output_key\n\u001B[32m    629\u001B[39m     ]\n\u001B[32m    631\u001B[39m \u001B[38;5;28;01mif\u001B[39;00m kwargs \u001B[38;5;129;01mand\u001B[39;00m \u001B[38;5;129;01mnot\u001B[39;00m args:\n\u001B[32m    632\u001B[39m     \u001B[38;5;28;01mreturn\u001B[39;00m \u001B[38;5;28mself\u001B[39m(kwargs, callbacks=callbacks, tags=tags, metadata=metadata)[\n\u001B[32m    633\u001B[39m         _output_key\n\u001B[32m    634\u001B[39m     ]\n",
      "\u001B[36mFile \u001B[39m\u001B[32m~/anaconda3/lib/python3.13/site-packages/langchain_core/_api/deprecation.py:193\u001B[39m, in \u001B[36mdeprecated.<locals>.deprecate.<locals>.warning_emitting_wrapper\u001B[39m\u001B[34m(*args, **kwargs)\u001B[39m\n\u001B[32m    191\u001B[39m     warned = \u001B[38;5;28;01mTrue\u001B[39;00m\n\u001B[32m    192\u001B[39m     emit_warning()\n\u001B[32m--> \u001B[39m\u001B[32m193\u001B[39m \u001B[38;5;28;01mreturn\u001B[39;00m \u001B[43mwrapped\u001B[49m\u001B[43m(\u001B[49m\u001B[43m*\u001B[49m\u001B[43margs\u001B[49m\u001B[43m,\u001B[49m\u001B[43m \u001B[49m\u001B[43m*\u001B[49m\u001B[43m*\u001B[49m\u001B[43mkwargs\u001B[49m\u001B[43m)\u001B[49m\n",
      "\u001B[36mFile \u001B[39m\u001B[32m~/anaconda3/lib/python3.13/site-packages/langchain/chains/base.py:410\u001B[39m, in \u001B[36mChain.__call__\u001B[39m\u001B[34m(self, inputs, return_only_outputs, callbacks, tags, metadata, run_name, include_run_info)\u001B[39m\n\u001B[32m    378\u001B[39m \u001B[38;5;250m\u001B[39m\u001B[33;03m\"\"\"Execute the chain.\u001B[39;00m\n\u001B[32m    379\u001B[39m \n\u001B[32m    380\u001B[39m \u001B[33;03mArgs:\u001B[39;00m\n\u001B[32m   (...)\u001B[39m\u001B[32m    401\u001B[39m \u001B[33;03m        `Chain.output_keys`.\u001B[39;00m\n\u001B[32m    402\u001B[39m \u001B[33;03m\"\"\"\u001B[39;00m\n\u001B[32m    403\u001B[39m config = {\n\u001B[32m    404\u001B[39m     \u001B[33m\"\u001B[39m\u001B[33mcallbacks\u001B[39m\u001B[33m\"\u001B[39m: callbacks,\n\u001B[32m    405\u001B[39m     \u001B[33m\"\u001B[39m\u001B[33mtags\u001B[39m\u001B[33m\"\u001B[39m: tags,\n\u001B[32m    406\u001B[39m     \u001B[33m\"\u001B[39m\u001B[33mmetadata\u001B[39m\u001B[33m\"\u001B[39m: metadata,\n\u001B[32m    407\u001B[39m     \u001B[33m\"\u001B[39m\u001B[33mrun_name\u001B[39m\u001B[33m\"\u001B[39m: run_name,\n\u001B[32m    408\u001B[39m }\n\u001B[32m--> \u001B[39m\u001B[32m410\u001B[39m \u001B[38;5;28;01mreturn\u001B[39;00m \u001B[38;5;28;43mself\u001B[39;49m\u001B[43m.\u001B[49m\u001B[43minvoke\u001B[49m\u001B[43m(\u001B[49m\n\u001B[32m    411\u001B[39m \u001B[43m    \u001B[49m\u001B[43minputs\u001B[49m\u001B[43m,\u001B[49m\n\u001B[32m    412\u001B[39m \u001B[43m    \u001B[49m\u001B[43mcast\u001B[49m\u001B[43m(\u001B[49m\u001B[43mRunnableConfig\u001B[49m\u001B[43m,\u001B[49m\u001B[43m \u001B[49m\u001B[43m{\u001B[49m\u001B[43mk\u001B[49m\u001B[43m:\u001B[49m\u001B[43m \u001B[49m\u001B[43mv\u001B[49m\u001B[43m \u001B[49m\u001B[38;5;28;43;01mfor\u001B[39;49;00m\u001B[43m \u001B[49m\u001B[43mk\u001B[49m\u001B[43m,\u001B[49m\u001B[43m \u001B[49m\u001B[43mv\u001B[49m\u001B[43m \u001B[49m\u001B[38;5;129;43;01min\u001B[39;49;00m\u001B[43m \u001B[49m\u001B[43mconfig\u001B[49m\u001B[43m.\u001B[49m\u001B[43mitems\u001B[49m\u001B[43m(\u001B[49m\u001B[43m)\u001B[49m\u001B[43m \u001B[49m\u001B[38;5;28;43;01mif\u001B[39;49;00m\u001B[43m \u001B[49m\u001B[43mv\u001B[49m\u001B[43m \u001B[49m\u001B[38;5;129;43;01mis\u001B[39;49;00m\u001B[43m \u001B[49m\u001B[38;5;129;43;01mnot\u001B[39;49;00m\u001B[43m \u001B[49m\u001B[38;5;28;43;01mNone\u001B[39;49;00m\u001B[43m}\u001B[49m\u001B[43m)\u001B[49m\u001B[43m,\u001B[49m\n\u001B[32m    413\u001B[39m \u001B[43m    \u001B[49m\u001B[43mreturn_only_outputs\u001B[49m\u001B[43m=\u001B[49m\u001B[43mreturn_only_outputs\u001B[49m\u001B[43m,\u001B[49m\n\u001B[32m    414\u001B[39m \u001B[43m    \u001B[49m\u001B[43minclude_run_info\u001B[49m\u001B[43m=\u001B[49m\u001B[43minclude_run_info\u001B[49m\u001B[43m,\u001B[49m\n\u001B[32m    415\u001B[39m \u001B[43m\u001B[49m\u001B[43m)\u001B[49m\n",
      "\u001B[36mFile \u001B[39m\u001B[32m~/anaconda3/lib/python3.13/site-packages/langchain/chains/base.py:165\u001B[39m, in \u001B[36mChain.invoke\u001B[39m\u001B[34m(self, input, config, **kwargs)\u001B[39m\n\u001B[32m    162\u001B[39m \u001B[38;5;28;01mtry\u001B[39;00m:\n\u001B[32m    163\u001B[39m     \u001B[38;5;28mself\u001B[39m._validate_inputs(inputs)\n\u001B[32m    164\u001B[39m     outputs = (\n\u001B[32m--> \u001B[39m\u001B[32m165\u001B[39m         \u001B[38;5;28;43mself\u001B[39;49m\u001B[43m.\u001B[49m\u001B[43m_call\u001B[49m\u001B[43m(\u001B[49m\u001B[43minputs\u001B[49m\u001B[43m,\u001B[49m\u001B[43m \u001B[49m\u001B[43mrun_manager\u001B[49m\u001B[43m=\u001B[49m\u001B[43mrun_manager\u001B[49m\u001B[43m)\u001B[49m\n\u001B[32m    166\u001B[39m         \u001B[38;5;28;01mif\u001B[39;00m new_arg_supported\n\u001B[32m    167\u001B[39m         \u001B[38;5;28;01melse\u001B[39;00m \u001B[38;5;28mself\u001B[39m._call(inputs)\n\u001B[32m    168\u001B[39m     )\n\u001B[32m    170\u001B[39m     final_outputs: \u001B[38;5;28mdict\u001B[39m[\u001B[38;5;28mstr\u001B[39m, Any] = \u001B[38;5;28mself\u001B[39m.prep_outputs(\n\u001B[32m    171\u001B[39m         inputs,\n\u001B[32m    172\u001B[39m         outputs,\n\u001B[32m    173\u001B[39m         return_only_outputs,\n\u001B[32m    174\u001B[39m     )\n\u001B[32m    175\u001B[39m \u001B[38;5;28;01mexcept\u001B[39;00m \u001B[38;5;167;01mBaseException\u001B[39;00m \u001B[38;5;28;01mas\u001B[39;00m e:\n",
      "\u001B[36mFile \u001B[39m\u001B[32m~/anaconda3/lib/python3.13/site-packages/langchain/agents/agent.py:1625\u001B[39m, in \u001B[36mAgentExecutor._call\u001B[39m\u001B[34m(self, inputs, run_manager)\u001B[39m\n\u001B[32m   1623\u001B[39m \u001B[38;5;66;03m# We now enter the agent loop (until it returns something).\u001B[39;00m\n\u001B[32m   1624\u001B[39m \u001B[38;5;28;01mwhile\u001B[39;00m \u001B[38;5;28mself\u001B[39m._should_continue(iterations, time_elapsed):\n\u001B[32m-> \u001B[39m\u001B[32m1625\u001B[39m     next_step_output = \u001B[38;5;28;43mself\u001B[39;49m\u001B[43m.\u001B[49m\u001B[43m_take_next_step\u001B[49m\u001B[43m(\u001B[49m\n\u001B[32m   1626\u001B[39m \u001B[43m        \u001B[49m\u001B[43mname_to_tool_map\u001B[49m\u001B[43m,\u001B[49m\n\u001B[32m   1627\u001B[39m \u001B[43m        \u001B[49m\u001B[43mcolor_mapping\u001B[49m\u001B[43m,\u001B[49m\n\u001B[32m   1628\u001B[39m \u001B[43m        \u001B[49m\u001B[43minputs\u001B[49m\u001B[43m,\u001B[49m\n\u001B[32m   1629\u001B[39m \u001B[43m        \u001B[49m\u001B[43mintermediate_steps\u001B[49m\u001B[43m,\u001B[49m\n\u001B[32m   1630\u001B[39m \u001B[43m        \u001B[49m\u001B[43mrun_manager\u001B[49m\u001B[43m=\u001B[49m\u001B[43mrun_manager\u001B[49m\u001B[43m,\u001B[49m\n\u001B[32m   1631\u001B[39m \u001B[43m    \u001B[49m\u001B[43m)\u001B[49m\n\u001B[32m   1632\u001B[39m     \u001B[38;5;28;01mif\u001B[39;00m \u001B[38;5;28misinstance\u001B[39m(next_step_output, AgentFinish):\n\u001B[32m   1633\u001B[39m         \u001B[38;5;28;01mreturn\u001B[39;00m \u001B[38;5;28mself\u001B[39m._return(\n\u001B[32m   1634\u001B[39m             next_step_output,\n\u001B[32m   1635\u001B[39m             intermediate_steps,\n\u001B[32m   1636\u001B[39m             run_manager=run_manager,\n\u001B[32m   1637\u001B[39m         )\n",
      "\u001B[36mFile \u001B[39m\u001B[32m~/anaconda3/lib/python3.13/site-packages/langchain/agents/agent.py:1325\u001B[39m, in \u001B[36mAgentExecutor._take_next_step\u001B[39m\u001B[34m(self, name_to_tool_map, color_mapping, inputs, intermediate_steps, run_manager)\u001B[39m\n\u001B[32m   1316\u001B[39m \u001B[38;5;28;01mdef\u001B[39;00m\u001B[38;5;250m \u001B[39m\u001B[34m_take_next_step\u001B[39m(\n\u001B[32m   1317\u001B[39m     \u001B[38;5;28mself\u001B[39m,\n\u001B[32m   1318\u001B[39m     name_to_tool_map: \u001B[38;5;28mdict\u001B[39m[\u001B[38;5;28mstr\u001B[39m, BaseTool],\n\u001B[32m   (...)\u001B[39m\u001B[32m   1322\u001B[39m     run_manager: Optional[CallbackManagerForChainRun] = \u001B[38;5;28;01mNone\u001B[39;00m,\n\u001B[32m   1323\u001B[39m ) -> Union[AgentFinish, \u001B[38;5;28mlist\u001B[39m[\u001B[38;5;28mtuple\u001B[39m[AgentAction, \u001B[38;5;28mstr\u001B[39m]]]:\n\u001B[32m   1324\u001B[39m     \u001B[38;5;28;01mreturn\u001B[39;00m \u001B[38;5;28mself\u001B[39m._consume_next_step(\n\u001B[32m-> \u001B[39m\u001B[32m1325\u001B[39m         \u001B[38;5;28;43mlist\u001B[39;49m\u001B[43m(\u001B[49m\n\u001B[32m   1326\u001B[39m \u001B[43m            \u001B[49m\u001B[38;5;28;43mself\u001B[39;49m\u001B[43m.\u001B[49m\u001B[43m_iter_next_step\u001B[49m\u001B[43m(\u001B[49m\n\u001B[32m   1327\u001B[39m \u001B[43m                \u001B[49m\u001B[43mname_to_tool_map\u001B[49m\u001B[43m,\u001B[49m\n\u001B[32m   1328\u001B[39m \u001B[43m                \u001B[49m\u001B[43mcolor_mapping\u001B[49m\u001B[43m,\u001B[49m\n\u001B[32m   1329\u001B[39m \u001B[43m                \u001B[49m\u001B[43minputs\u001B[49m\u001B[43m,\u001B[49m\n\u001B[32m   1330\u001B[39m \u001B[43m                \u001B[49m\u001B[43mintermediate_steps\u001B[49m\u001B[43m,\u001B[49m\n\u001B[32m   1331\u001B[39m \u001B[43m                \u001B[49m\u001B[43mrun_manager\u001B[49m\u001B[43m,\u001B[49m\n\u001B[32m   1332\u001B[39m \u001B[43m            \u001B[49m\u001B[43m)\u001B[49m\u001B[43m,\u001B[49m\n\u001B[32m   1333\u001B[39m \u001B[43m        \u001B[49m\u001B[43m)\u001B[49m,\n\u001B[32m   1334\u001B[39m     )\n",
      "\u001B[36mFile \u001B[39m\u001B[32m~/anaconda3/lib/python3.13/site-packages/langchain/agents/agent.py:1408\u001B[39m, in \u001B[36mAgentExecutor._iter_next_step\u001B[39m\u001B[34m(self, name_to_tool_map, color_mapping, inputs, intermediate_steps, run_manager)\u001B[39m\n\u001B[32m   1406\u001B[39m     \u001B[38;5;28;01myield\u001B[39;00m agent_action\n\u001B[32m   1407\u001B[39m \u001B[38;5;28;01mfor\u001B[39;00m agent_action \u001B[38;5;129;01min\u001B[39;00m actions:\n\u001B[32m-> \u001B[39m\u001B[32m1408\u001B[39m     \u001B[38;5;28;01myield\u001B[39;00m \u001B[38;5;28;43mself\u001B[39;49m\u001B[43m.\u001B[49m\u001B[43m_perform_agent_action\u001B[49m\u001B[43m(\u001B[49m\n\u001B[32m   1409\u001B[39m \u001B[43m        \u001B[49m\u001B[43mname_to_tool_map\u001B[49m\u001B[43m,\u001B[49m\n\u001B[32m   1410\u001B[39m \u001B[43m        \u001B[49m\u001B[43mcolor_mapping\u001B[49m\u001B[43m,\u001B[49m\n\u001B[32m   1411\u001B[39m \u001B[43m        \u001B[49m\u001B[43magent_action\u001B[49m\u001B[43m,\u001B[49m\n\u001B[32m   1412\u001B[39m \u001B[43m        \u001B[49m\u001B[43mrun_manager\u001B[49m\u001B[43m,\u001B[49m\n\u001B[32m   1413\u001B[39m \u001B[43m    \u001B[49m\u001B[43m)\u001B[49m\n",
      "\u001B[36mFile \u001B[39m\u001B[32m~/anaconda3/lib/python3.13/site-packages/langchain/agents/agent.py:1433\u001B[39m, in \u001B[36mAgentExecutor._perform_agent_action\u001B[39m\u001B[34m(self, name_to_tool_map, color_mapping, agent_action, run_manager)\u001B[39m\n\u001B[32m   1431\u001B[39m         tool_run_kwargs[\u001B[33m\"\u001B[39m\u001B[33mllm_prefix\u001B[39m\u001B[33m\"\u001B[39m] = \u001B[33m\"\u001B[39m\u001B[33m\"\u001B[39m\n\u001B[32m   1432\u001B[39m     \u001B[38;5;66;03m# We then call the tool on the tool input to get an observation\u001B[39;00m\n\u001B[32m-> \u001B[39m\u001B[32m1433\u001B[39m     observation = \u001B[43mtool\u001B[49m\u001B[43m.\u001B[49m\u001B[43mrun\u001B[49m\u001B[43m(\u001B[49m\n\u001B[32m   1434\u001B[39m \u001B[43m        \u001B[49m\u001B[43magent_action\u001B[49m\u001B[43m.\u001B[49m\u001B[43mtool_input\u001B[49m\u001B[43m,\u001B[49m\n\u001B[32m   1435\u001B[39m \u001B[43m        \u001B[49m\u001B[43mverbose\u001B[49m\u001B[43m=\u001B[49m\u001B[38;5;28;43mself\u001B[39;49m\u001B[43m.\u001B[49m\u001B[43mverbose\u001B[49m\u001B[43m,\u001B[49m\n\u001B[32m   1436\u001B[39m \u001B[43m        \u001B[49m\u001B[43mcolor\u001B[49m\u001B[43m=\u001B[49m\u001B[43mcolor\u001B[49m\u001B[43m,\u001B[49m\n\u001B[32m   1437\u001B[39m \u001B[43m        \u001B[49m\u001B[43mcallbacks\u001B[49m\u001B[43m=\u001B[49m\u001B[43mrun_manager\u001B[49m\u001B[43m.\u001B[49m\u001B[43mget_child\u001B[49m\u001B[43m(\u001B[49m\u001B[43m)\u001B[49m\u001B[43m \u001B[49m\u001B[38;5;28;43;01mif\u001B[39;49;00m\u001B[43m \u001B[49m\u001B[43mrun_manager\u001B[49m\u001B[43m \u001B[49m\u001B[38;5;28;43;01melse\u001B[39;49;00m\u001B[43m \u001B[49m\u001B[38;5;28;43;01mNone\u001B[39;49;00m\u001B[43m,\u001B[49m\n\u001B[32m   1438\u001B[39m \u001B[43m        \u001B[49m\u001B[43m*\u001B[49m\u001B[43m*\u001B[49m\u001B[43mtool_run_kwargs\u001B[49m\u001B[43m,\u001B[49m\n\u001B[32m   1439\u001B[39m \u001B[43m    \u001B[49m\u001B[43m)\u001B[49m\n\u001B[32m   1440\u001B[39m \u001B[38;5;28;01melse\u001B[39;00m:\n\u001B[32m   1441\u001B[39m     tool_run_kwargs = \u001B[38;5;28mself\u001B[39m._action_agent.tool_run_logging_kwargs()\n",
      "\u001B[36mFile \u001B[39m\u001B[32m~/anaconda3/lib/python3.13/site-packages/langchain_core/tools/base.py:892\u001B[39m, in \u001B[36mBaseTool.run\u001B[39m\u001B[34m(self, tool_input, verbose, start_color, color, callbacks, tags, metadata, run_name, run_id, config, tool_call_id, **kwargs)\u001B[39m\n\u001B[32m    890\u001B[39m \u001B[38;5;28;01mif\u001B[39;00m error_to_raise:\n\u001B[32m    891\u001B[39m     run_manager.on_tool_error(error_to_raise)\n\u001B[32m--> \u001B[39m\u001B[32m892\u001B[39m     \u001B[38;5;28;01mraise\u001B[39;00m error_to_raise\n\u001B[32m    893\u001B[39m output = _format_output(content, artifact, tool_call_id, \u001B[38;5;28mself\u001B[39m.name, status)\n\u001B[32m    894\u001B[39m run_manager.on_tool_end(output, color=color, name=\u001B[38;5;28mself\u001B[39m.name, **kwargs)\n",
      "\u001B[36mFile \u001B[39m\u001B[32m~/anaconda3/lib/python3.13/site-packages/langchain_core/tools/base.py:854\u001B[39m, in \u001B[36mBaseTool.run\u001B[39m\u001B[34m(self, tool_input, verbose, start_color, color, callbacks, tags, metadata, run_name, run_id, config, tool_call_id, **kwargs)\u001B[39m\n\u001B[32m    852\u001B[39m child_config = patch_config(config, callbacks=run_manager.get_child())\n\u001B[32m    853\u001B[39m \u001B[38;5;28;01mwith\u001B[39;00m set_config_context(child_config) \u001B[38;5;28;01mas\u001B[39;00m context:\n\u001B[32m--> \u001B[39m\u001B[32m854\u001B[39m     tool_args, tool_kwargs = \u001B[38;5;28;43mself\u001B[39;49m\u001B[43m.\u001B[49m\u001B[43m_to_args_and_kwargs\u001B[49m\u001B[43m(\u001B[49m\n\u001B[32m    855\u001B[39m \u001B[43m        \u001B[49m\u001B[43mtool_input\u001B[49m\u001B[43m,\u001B[49m\u001B[43m \u001B[49m\u001B[43mtool_call_id\u001B[49m\n\u001B[32m    856\u001B[39m \u001B[43m    \u001B[49m\u001B[43m)\u001B[49m\n\u001B[32m    857\u001B[39m     \u001B[38;5;28;01mif\u001B[39;00m signature(\u001B[38;5;28mself\u001B[39m._run).parameters.get(\u001B[33m\"\u001B[39m\u001B[33mrun_manager\u001B[39m\u001B[33m\"\u001B[39m):\n\u001B[32m    858\u001B[39m         tool_kwargs |= {\u001B[33m\"\u001B[39m\u001B[33mrun_manager\u001B[39m\u001B[33m\"\u001B[39m: run_manager}\n",
      "\u001B[36mFile \u001B[39m\u001B[32m~/anaconda3/lib/python3.13/site-packages/langchain_core/tools/base.py:769\u001B[39m, in \u001B[36mBaseTool._to_args_and_kwargs\u001B[39m\u001B[34m(self, tool_input, tool_call_id)\u001B[39m\n\u001B[32m    761\u001B[39m \u001B[38;5;28;01mif\u001B[39;00m (\n\u001B[32m    762\u001B[39m     \u001B[38;5;28mself\u001B[39m.args_schema \u001B[38;5;129;01mis\u001B[39;00m \u001B[38;5;129;01mnot\u001B[39;00m \u001B[38;5;28;01mNone\u001B[39;00m\n\u001B[32m    763\u001B[39m     \u001B[38;5;129;01mand\u001B[39;00m \u001B[38;5;28misinstance\u001B[39m(\u001B[38;5;28mself\u001B[39m.args_schema, \u001B[38;5;28mtype\u001B[39m)\n\u001B[32m   (...)\u001B[39m\u001B[32m    766\u001B[39m ):\n\u001B[32m    767\u001B[39m     \u001B[38;5;66;03m# StructuredTool with no args\u001B[39;00m\n\u001B[32m    768\u001B[39m     \u001B[38;5;28;01mreturn\u001B[39;00m (), {}\n\u001B[32m--> \u001B[39m\u001B[32m769\u001B[39m tool_input = \u001B[38;5;28;43mself\u001B[39;49m\u001B[43m.\u001B[49m\u001B[43m_parse_input\u001B[49m\u001B[43m(\u001B[49m\u001B[43mtool_input\u001B[49m\u001B[43m,\u001B[49m\u001B[43m \u001B[49m\u001B[43mtool_call_id\u001B[49m\u001B[43m)\u001B[49m\n\u001B[32m    770\u001B[39m \u001B[38;5;66;03m# For backwards compatibility, if run_input is a string,\u001B[39;00m\n\u001B[32m    771\u001B[39m \u001B[38;5;66;03m# pass as a positional argument.\u001B[39;00m\n\u001B[32m    772\u001B[39m \u001B[38;5;28;01mif\u001B[39;00m \u001B[38;5;28misinstance\u001B[39m(tool_input, \u001B[38;5;28mstr\u001B[39m):\n",
      "\u001B[36mFile \u001B[39m\u001B[32m~/anaconda3/lib/python3.13/site-packages/langchain_core/tools/base.py:673\u001B[39m, in \u001B[36mBaseTool._parse_input\u001B[39m\u001B[34m(self, tool_input, tool_call_id)\u001B[39m\n\u001B[32m    671\u001B[39m                 \u001B[38;5;28;01mraise\u001B[39;00m \u001B[38;5;167;01mValueError\u001B[39;00m(msg)\n\u001B[32m    672\u001B[39m             tool_input[k] = tool_call_id\n\u001B[32m--> \u001B[39m\u001B[32m673\u001B[39m     result = \u001B[43minput_args\u001B[49m\u001B[43m.\u001B[49m\u001B[43mmodel_validate\u001B[49m\u001B[43m(\u001B[49m\u001B[43mtool_input\u001B[49m\u001B[43m)\u001B[49m\n\u001B[32m    674\u001B[39m     result_dict = result.model_dump()\n\u001B[32m    675\u001B[39m \u001B[38;5;28;01melif\u001B[39;00m \u001B[38;5;28missubclass\u001B[39m(input_args, BaseModelV1):\n",
      "\u001B[36mFile \u001B[39m\u001B[32m~/anaconda3/lib/python3.13/site-packages/pydantic/main.py:705\u001B[39m, in \u001B[36mBaseModel.model_validate\u001B[39m\u001B[34m(cls, obj, strict, from_attributes, context, by_alias, by_name)\u001B[39m\n\u001B[32m    699\u001B[39m \u001B[38;5;28;01mif\u001B[39;00m by_alias \u001B[38;5;129;01mis\u001B[39;00m \u001B[38;5;28;01mFalse\u001B[39;00m \u001B[38;5;129;01mand\u001B[39;00m by_name \u001B[38;5;129;01mis\u001B[39;00m \u001B[38;5;129;01mnot\u001B[39;00m \u001B[38;5;28;01mTrue\u001B[39;00m:\n\u001B[32m    700\u001B[39m     \u001B[38;5;28;01mraise\u001B[39;00m PydanticUserError(\n\u001B[32m    701\u001B[39m         \u001B[33m'\u001B[39m\u001B[33mAt least one of `by_alias` or `by_name` must be set to True.\u001B[39m\u001B[33m'\u001B[39m,\n\u001B[32m    702\u001B[39m         code=\u001B[33m'\u001B[39m\u001B[33mvalidate-by-alias-and-name-false\u001B[39m\u001B[33m'\u001B[39m,\n\u001B[32m    703\u001B[39m     )\n\u001B[32m--> \u001B[39m\u001B[32m705\u001B[39m \u001B[38;5;28;01mreturn\u001B[39;00m \u001B[38;5;28;43mcls\u001B[39;49m\u001B[43m.\u001B[49m\u001B[43m__pydantic_validator__\u001B[49m\u001B[43m.\u001B[49m\u001B[43mvalidate_python\u001B[49m\u001B[43m(\u001B[49m\n\u001B[32m    706\u001B[39m \u001B[43m    \u001B[49m\u001B[43mobj\u001B[49m\u001B[43m,\u001B[49m\u001B[43m \u001B[49m\u001B[43mstrict\u001B[49m\u001B[43m=\u001B[49m\u001B[43mstrict\u001B[49m\u001B[43m,\u001B[49m\u001B[43m \u001B[49m\u001B[43mfrom_attributes\u001B[49m\u001B[43m=\u001B[49m\u001B[43mfrom_attributes\u001B[49m\u001B[43m,\u001B[49m\u001B[43m \u001B[49m\u001B[43mcontext\u001B[49m\u001B[43m=\u001B[49m\u001B[43mcontext\u001B[49m\u001B[43m,\u001B[49m\u001B[43m \u001B[49m\u001B[43mby_alias\u001B[49m\u001B[43m=\u001B[49m\u001B[43mby_alias\u001B[49m\u001B[43m,\u001B[49m\u001B[43m \u001B[49m\u001B[43mby_name\u001B[49m\u001B[43m=\u001B[49m\u001B[43mby_name\u001B[49m\n\u001B[32m    707\u001B[39m \u001B[43m\u001B[49m\u001B[43m)\u001B[49m\n",
      "\u001B[31mValidationError\u001B[39m: 1 validation error for mini_wiki\nquery\n  Field required [type=missing, input_value={'title': 'rag'}, input_type=dict]\n    For further information visit https://errors.pydantic.dev/2.11/v/missing"
     ]
    }
   ],
   "execution_count": 10
  }
 ],
 "metadata": {
  "kernelspec": {
   "name": "python3",
   "language": "python",
   "display_name": "Python 3 (ipykernel)"
  }
 },
 "nbformat": 4,
 "nbformat_minor": 5
}
