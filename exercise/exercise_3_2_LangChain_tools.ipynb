{
 "cells": [
  {
   "cell_type": "markdown",
   "id": "f203fbc5",
   "metadata": {},
   "source": [
    "# Zadania – 3_2 LangChain Tools\n",
    "\n",
    "*Prepared: 2025-10-04 10:00*\n",
    "\n",
    "Definiowanie własnych narzędzi (tools) i integracja z agentami.\n",
    "\n",
    "> **Instrukcja:** Zadania są krótkie i polegają na uzupełnieniu brakujących fragmentów kodu (`____`). Niektóre komórki zawierają komentarze `# TODO` i `# HINT`. Uruchamiaj komórki po kolei."
   ]
  },
  {
   "cell_type": "markdown",
   "id": "34fef709",
   "metadata": {},
   "source": [
    "## 📦 Wymagania\n",
    "- `langchain_core`, `langchain_openai`, `langchain` ≥ 0.2\n",
    "- Opcjonalnie: `faiss-cpu`, `tiktoken`, `python-dotenv`\n",
    "\n",
    "Jeśli nie masz klucza API, możesz uruchamiać komórki „na sucho” – celem jest *uzupełnienie kodu*, a nie koniecznie jego wykonanie."
   ]
  },
  {
   "cell_type": "markdown",
   "id": "c636308e",
   "metadata": {},
   "source": [
    "### Zadanie 1: Proste narzędzie – kalkulator\n",
    "Zaimplementuj funkcję dodawania i zarejestruj ją jako narzędzie LangChain."
   ]
  },
  {
   "cell_type": "code",
   "execution_count": null,
   "id": "5452a5a8",
   "metadata": {},
   "outputs": [],
   "source": [
    "\n",
    "# TODO: Utwórz tool `add_two_numbers(a: float, b: float) -> float`\n",
    "from langchain_core.tools import tool\n",
    "\n",
    "@tool\n",
    "def add_two_numbers(a: float, b: float) -> float:\n",
    "    \"\"\"Zwraca sumę dwóch liczb.\"\"\"\n",
    "    # uzupełnij ciało\n",
    "    return a + b\n",
    "\n",
    "print(add_two_numbers.invoke({\"a\": 2, \"b\": 3}))\n"
   ]
  },
  {
   "cell_type": "markdown",
   "id": "1179265f",
   "metadata": {},
   "source": [
    "### Zadanie 2: Narzędzie „mini‑wiki” (lokalna baza wiedzy)\n",
    "Zbuduj narzędzie, które zwraca krótki opis po kluczu ze słownika."
   ]
  },
  {
   "cell_type": "code",
   "execution_count": null,
   "id": "b7d9d249",
   "metadata": {},
   "outputs": [],
   "source": [
    "\n",
    "# TODO: Stwórz słownik i tool `mini_wiki(query: str)` zwracający opis lub komunikat o braku hasła\n",
    "from langchain_core.tools import tool\n",
    "\n",
    "DB = {\n",
    "    \"langchain\": \"Framework do budowy aplikacji z LLM (łańcuchy, pamięć, narzędzia).\",\n",
    "    \"react\": \"ReAct łączy reasoning i acting agentów z narzędziami w pętli.\",\n",
    "    \"rag\": \"RAG łączy retriever (wyszukiwanie) z generowaniem odpowiedzi.\"\n",
    "}\n",
    "\n",
    "@tool\n",
    "def mini_wiki(query: str) -> str:\n",
    "    \"\"\"Zwróć krótki opis po kluczu (np. 'rag', 'langchain').\"\"\"\n",
    "    return DB.get(query.lower().strip(), \"Brak hasła w mini‑wiki.\")\n",
    "\n",
    "print(mini_wiki.invoke({\"query\": \"RAG\"}))\n"
   ]
  },
  {
   "cell_type": "markdown",
   "id": "bb9dc225",
   "metadata": {},
   "source": [
    "### Zadanie 3: Agent z narzędziami\n",
    "Utwórz prostego agenta, który może wywołać `add_two_numbers` i `mini_wiki` w zależności od pytania."
   ]
  },
  {
   "cell_type": "code",
   "execution_count": null,
   "id": "f3d0e70d",
   "metadata": {},
   "outputs": [],
   "source": [
    "# TODO: Zbuduj agenta z zestawem tools i przetestuj 2 zapytania\n",
    "from langchain_openai import ChatOpenAI\n",
    "from langchain.agents import AgentExecutor, create_react_agent\n",
    "from langchain_core.prompts import ChatPromptTemplate\n",
    "\n",
    "tools = [add_two_numbers, mini_wiki]\n",
    "\n",
    "llm = ChatOpenAI(model=\"gpt-4o-mini\", temperature=0)\n",
    "\n",
    "# Prosty prompt ReAct\n",
    "prompt = ChatPromptTemplate.from_messages([\n",
    "    (\"system\", \"Jesteś agentem. Możesz używać narzędzi: add_two_numbers, mini_wiki. Odpowiadaj po polsku.\"),\n",
    "    (\"user\", \"{input}\")\n",
    "])\n",
    "\n",
    "agent = create_react_agent(llm=llm, tools=tools, prompt=prompt)\n",
    "executor = AgentExecutor(agent=agent, tools=tools, verbose=True)\n",
    "\n",
    "print(executor.invoke({\"input\": \"Dodaj 12.5 i 7.5\"}))\n",
    "print(executor.invoke({\"input\": \"Wyjaśnij w jednym zdaniu co to RAG\"}))\n"
   ]
  }
 ],
 "metadata": {},
 "nbformat": 4,
 "nbformat_minor": 5
}
