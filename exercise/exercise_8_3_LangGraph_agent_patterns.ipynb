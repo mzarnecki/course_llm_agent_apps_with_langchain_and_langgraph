{
 "cells": [
  {
   "cell_type": "markdown",
   "id": "11341534",
   "metadata": {},
   "source": [
    "## LangGraph - wzorce agentowe\n",
    "\n",
    "**Temat:** Router, ReAct (szkic), Supervisor."
   ]
  },
  {
   "cell_type": "markdown",
   "id": "59297dc4",
   "metadata": {},
   "source": [
    "## Zadanie 1 — Router"
   ]
  },
  {
   "cell_type": "code",
   "execution_count": null,
   "id": "33cf520c",
   "metadata": {},
   "outputs": [],
   "source": [
    "def route(state: dict) -> str:\n",
    "    q = state.get(\"question\",\"\").lower()\n",
    "    if \"szukaj\" in q:   # TODO\n",
    "        return \"search\"\n",
    "    if \"oblicz\" in q:  # TODO\n",
    "        return \"calc\"\n",
    "    return \"chat\"\n",
    "\n",
    "assert route({\"question\": \"szukaj informacji\"}) == \"search\"\n",
    "assert route({\"question\": \"oblicz 2+2\"}) == \"calc\"\n",
    "assert route({\"question\": \"hej\"}) == \"chat\"\n"
   ]
  },
  {
   "cell_type": "markdown",
   "id": "f60f7fdf",
   "metadata": {},
   "source": [
    "## Zadanie 2 — ReAct (szkic kroku)"
   ]
  },
  {
   "cell_type": "code",
   "execution_count": null,
   "id": "e727d545",
   "metadata": {},
   "outputs": [],
   "source": [
    "def react_step(state: dict) -> dict:\n",
    "    q = state.get(\"question\",\"\")\n",
    "    if any(ch.isdigit() for ch in q):\n",
    "        state[\"tool\"] = \"calc_tool\"          # TODO\n",
    "        state[\"observation\"] = \"wynik=4\"\n",
    "    else:\n",
    "        state[\"tool\"] = \"search_tool\"\n",
    "        state[\"observation\"] = \"znaleziono źródło\"\n",
    "    state[\"answer\"] = f\"[{state['tool']}] {state['observation']}\"\n",
    "    return state\n",
    "\n",
    "assert react_step({\"question\": \"2+2\"})[\"tool\"] == \"calc_tool\"\n"
   ]
  },
  {
   "cell_type": "markdown",
   "id": "2c466aef",
   "metadata": {},
   "source": [
    "## Zadanie 3 — Supervisor"
   ]
  },
  {
   "cell_type": "code",
   "execution_count": null,
   "id": "f0ee9bde",
   "metadata": {},
   "outputs": [],
   "source": [
    "def supervisor(state: dict) -> str:\n",
    "    return \"END\" if state.get(\"done\") else \"CONTINUE\"  # TODO: reguła zakończenia\n",
    "\n",
    "assert supervisor({\"done\": True}) == \"END\"\n"
   ]
  }
 ],
 "metadata": {
  "kernelspec": {
   "display_name": "Python 3",
   "language": "python",
   "name": "python3"
  },
  "language_info": {
   "name": "python",
   "version": "3.x"
  }
 },
 "nbformat": 4,
 "nbformat_minor": 5
}
