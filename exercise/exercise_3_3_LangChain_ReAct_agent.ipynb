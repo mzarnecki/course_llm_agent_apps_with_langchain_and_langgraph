{
 "cells": [
  {
   "cell_type": "markdown",
   "id": "5f94f125",
   "metadata": {},
   "source": [
    "## Zadania: LangChain Agent ReAct\n",
    "\n",
    "> Uzupełnij fragmenty oznaczone \"____\"\n"
   ]
  },
  {
   "cell_type": "markdown",
   "id": "278c11f2",
   "metadata": {},
   "source": [
    "## Zadanie 1 — Złóż łańcuch: `Prompt` → `LLM` → `StrOutputParser`"
   ]
  },
  {
   "metadata": {
    "ExecuteTime": {
     "end_time": "2025-10-11T04:51:05.805456Z",
     "start_time": "2025-10-11T04:51:05.797680Z"
    }
   },
   "cell_type": "code",
   "source": [
    "from dotenv import load_dotenv\n",
    "\n",
    "load_dotenv()"
   ],
   "id": "c180740a6b35cb00",
   "outputs": [
    {
     "data": {
      "text/plain": [
       "True"
      ]
     },
     "execution_count": 1,
     "metadata": {},
     "output_type": "execute_result"
    }
   ],
   "execution_count": 1
  },
  {
   "cell_type": "code",
   "id": "d42ea86d",
   "metadata": {},
   "source": [
    "from langchain_core.prompts import PromptTemplate\n",
    "from langchain_core.output_parsers import StrOutputParser\n",
    "from langchain_openai import ChatOpenAI\n",
    "\n",
    "# 1) Przygotuj PromptTemplate z jedną zmienną 'query'\n",
    "prompt = PromptTemplate.from_template(\"Odpowiedz zwięźle: {query}\")  # TODO: zmień tekst, jeśli chcesz\n",
    "\n",
    "# 2) Przygotuj LLM (nie uruchamiamy zapytań w tym zadaniu)\n",
    "llm = ChatOpenAI(model=\"____\", temperature=0)\n",
    "\n",
    "# 3) Parser tekstowy\n",
    "parser = StrOutputParser()\n",
    "\n",
    "# 4) Złóż łańcuch operatorami |\n",
    "chain = ____ | ____ | ____  # TODO\n",
    "\n",
    "assert chain is not None, \"Łańcuch nie został utworzony.\""
   ],
   "outputs": [],
   "execution_count": null
  },
  {
   "cell_type": "markdown",
   "id": "03f5ea35",
   "metadata": {},
   "source": "## Zadanie 2 — `Tool`: udekoruj funkcję @tool"
  },
  {
   "cell_type": "code",
   "id": "9e2eb597",
   "metadata": {
    "ExecuteTime": {
     "end_time": "2025-10-11T04:52:43.257353Z",
     "start_time": "2025-10-11T04:52:43.250950Z"
    }
   },
   "source": [
    "# Cel: zdefiniuj prostą funkcję i zarejestruj jako narzędzie LangChain.\n",
    "from typing import Annotated\n",
    "from langchain_core.tools import tool\n",
    "\n",
    "# 1) Utwórz funkcję, która zwraca długość tekstu\n",
    "@tool\n",
    "def text_length(s: Annotated[str, \"Tekst wejściowy\"]) -> int:\n",
    "    \"\"\"Zwraca liczbę znaków w tekście.\"\"\"\n",
    "    return ____ # TODO\n",
    "\n",
    "# 2) Użyj narzędzia bezpośrednio\n",
    "res = text_length.invoke({\"s\": \"LangChain\"})\n",
    "print(\"Długość:\", res)\n",
    "assert isinstance(res, int), \"Narzędzie powinno zwrócić int.\""
   ],
   "outputs": [
    {
     "name": "stdout",
     "output_type": "stream",
     "text": [
      "Długość: 9\n"
     ]
    }
   ],
   "execution_count": 4
  },
  {
   "cell_type": "markdown",
   "id": "3d45264b",
   "metadata": {},
   "source": [
    "## Zadanie 3 — Agent ReAct: stwórz szkic agenta korzystającego z narzędzi"
   ]
  },
  {
   "cell_type": "code",
   "id": "2d17293f",
   "metadata": {
    "ExecuteTime": {
     "end_time": "2025-10-11T04:57:38.467903Z",
     "start_time": "2025-10-11T04:57:33.702352Z"
    }
   },
   "source": [
    "# Cel: Przygotuj minimalny szkic agenta ReAct z jednym narzędziem.\n",
    "from langchain.agents import AgentType, initialize_agent\n",
    "from langchain_openai import ChatOpenAI\n",
    "\n",
    "llm = ChatOpenAI(model=\"gpt-4o-mini\", temperature=0)\n",
    "\n",
    "# Lista narzędzi dostępnych dla agenta:\n",
    "tools = ____\n",
    "\n",
    "# Utwórz agenta ReAct\n",
    "agent = initialize_agent(\n",
    "    llm=____,\n",
    "    tools=____,\n",
    "    agent=____,\n",
    "    verbose=True,\n",
    "    max_iterations=____\n",
    ")\n",
    "\n",
    "response = agent.run(\"Zmierz długość tego tekstu: konstantynopolitańczykowianeczka\")\n",
    "print(response)"
   ],
   "outputs": [
    {
     "name": "stderr",
     "output_type": "stream",
     "text": [
      "/tmp/ipykernel_30265/4265259428.py:11: LangChainDeprecationWarning: LangChain agents will continue to be supported, but it is recommended for new use cases to be built with LangGraph. LangGraph offers a more flexible and full-featured framework for building agents, including support for tool-calling, persistence of state, and human-in-the-loop workflows. For details, refer to the `LangGraph documentation <https://langchain-ai.github.io/langgraph/>`_ as well as guides for `Migrating from AgentExecutor <https://python.langchain.com/docs/how_to/migrate_agent/>`_ and LangGraph's `Pre-built ReAct agent <https://langchain-ai.github.io/langgraph/how-tos/create-react-agent/>`_.\n",
      "  agent = initialize_agent(\n",
      "/tmp/ipykernel_30265/4265259428.py:19: LangChainDeprecationWarning: The method `Chain.run` was deprecated in langchain 0.1.0 and will be removed in 1.0. Use :meth:`~invoke` instead.\n",
      "  response = agent.run(\"Zmierz długość tego tekstu: konstantynopolitańczykowianeczka\")\n"
     ]
    },
    {
     "name": "stdout",
     "output_type": "stream",
     "text": [
      "\n",
      "\n",
      "\u001B[1m> Entering new AgentExecutor chain...\u001B[0m\n",
      "\u001B[32;1m\u001B[1;3mThought: I need to measure the length of the provided text \"konstantynopolitańczykowianeczka\". \n",
      "Action:\n",
      "```\n",
      "{\n",
      "  \"action\": \"text_length\",\n",
      "  \"action_input\": {\n",
      "    \"s\": \"konstantynopolitańczykowianeczka\"\n",
      "  }\n",
      "}\n",
      "```\n",
      "\u001B[0m\n",
      "Observation: \u001B[36;1m\u001B[1;3m32\u001B[0m\n",
      "Thought:\u001B[32;1m\u001B[1;3mI have measured the length of the text \"konstantynopolitańczykowianeczka\" and found it to be 32 characters long. \n",
      "\n",
      "Action:\n",
      "```\n",
      "{\n",
      "  \"action\": \"Final Answer\",\n",
      "  \"action_input\": \"Długość tekstu 'konstantynopolitańczykowianeczka' wynosi 32 znaki.\"\n",
      "}\n",
      "```\n",
      "\u001B[0m\n",
      "\n",
      "\u001B[1m> Finished chain.\u001B[0m\n",
      "Długość tekstu 'konstantynopolitańczykowianeczka' wynosi 32 znaki.\n"
     ]
    }
   ],
   "execution_count": 6
  }
 ],
 "metadata": {
  "kernelspec": {
   "display_name": "Python 3",
   "language": "python",
   "name": "python3"
  },
  "language_info": {
   "name": "python",
   "version": "3.x"
  }
 },
 "nbformat": 4,
 "nbformat_minor": 5
}
