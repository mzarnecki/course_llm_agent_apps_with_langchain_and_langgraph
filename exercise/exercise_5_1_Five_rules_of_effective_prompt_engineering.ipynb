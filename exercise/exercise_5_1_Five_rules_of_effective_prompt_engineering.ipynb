{
 "cells": [
  {
   "metadata": {},
   "cell_type": "markdown",
   "source": "## Zadania: Pięć zasad efektywnej inżynierii promptów",
   "id": "c6c3cc6c2065af5"
  },
  {
   "metadata": {},
   "cell_type": "markdown",
   "source": "Zadania w kolejnym odcinku :)",
   "id": "6a28e0732932138"
  }
 ],
 "metadata": {
  "kernelspec": {
   "display_name": "Python 3",
   "language": "python",
   "name": "python3"
  },
  "language_info": {
   "codemirror_mode": {
    "name": "ipython",
    "version": 2
   },
   "file_extension": ".py",
   "mimetype": "text/x-python",
   "name": "python",
   "nbconvert_exporter": "python",
   "pygments_lexer": "ipython2",
   "version": "2.7.6"
  }
 },
 "nbformat": 4,
 "nbformat_minor": 5
}
