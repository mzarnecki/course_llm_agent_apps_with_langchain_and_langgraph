{
 "cells": [
  {
   "cell_type": "markdown",
   "id": "c2a99545",
   "metadata": {},
   "source": [
    "## Zadania: Modele Multimodalne\n",
    "\n",
    "Przykłady przetwarzania obrazu i dźwięku przez model.\n",
    "\n",
    "> **Instrukcja:** Zadania są krótkie i polegają na uzupełnieniu brakujących fragmentów kodu (`____`). Niektóre komórki zawierają komentarze `# TODO` i `# HINT`. Uruchamiaj komórki po kolei."
   ]
  },
  {
   "cell_type": "markdown",
   "id": "db54cec1",
   "metadata": {},
   "source": [
    "### Zadanie 1: Opis obrazka (vision)\n",
    "Wczytaj obraz z dysku (np. `sample.jpg`) i poproś model o opis w 1–2 zdaniach."
   ]
  },
  {
   "cell_type": "code",
   "execution_count": null,
   "id": "f73d354b",
   "metadata": {},
   "outputs": [],
   "source": [
    "\n",
    "# TODO: Wczytaj obraz i zbuduj wiadomość multimodalną dla modelu (OpenAI Vision lub innego obsługiwanego w Twoim środowisku).\n",
    "# HINT: Możesz zaczytać obrazek i przekazać jako data URL lub file-URI (w zależności od klienta).\n",
    "from base64 import b64encode\n",
    "from pathlib import Path\n",
    "from langchain_openai import ChatOpenAI\n",
    "\n",
    "img_path = Path(\"sample.jpg\")  # podmień na własną ścieżkę\n",
    "if img_path.exists():\n",
    "    data = b64encode(img_path.read_bytes()).decode(\"utf-8\")\n",
    "    content = [\n",
    "        {\"type\": \"text\", \"text\": \"Opisz co jest na obrazku w 1–2 zdaniach po polsku.\"},\n",
    "        {\"type\": \"image_url\", \"image_url\": {\"url\": f\"data:image/jpeg;base64,{data}\"}},\n",
    "    ]\n",
    "    llm = ChatOpenAI(model=\"gpt-4o-mini\", temperature=0)\n",
    "    print(llm.invoke(content))\n",
    "else:\n",
    "    print(\"Brak pliku sample.jpg – wstaw własny obraz i uruchom ponownie.\")\n"
   ]
  },
  {
   "cell_type": "markdown",
   "id": "0cae15f9",
   "metadata": {},
   "source": [
    "### Zadanie 2: Łączenie modalności – obraz + pytanie\n",
    "Podaj pytanie o wybrany fragment obrazka (np. „Ile jest osób?”) i poproś model o krótką odpowiedź."
   ]
  },
  {
   "cell_type": "code",
   "execution_count": null,
   "id": "3590f6a4",
   "metadata": {},
   "outputs": [],
   "source": [
    "\n",
    "# TODO: Zastosuj podobny schemat jak w Zadaniu 1, ale dodaj pytanie użytkownika.\n",
    "# Wskazówka: połącz komunikat tekstowy z obrazem i przekaż jako wejście do modelu.\n",
    "from base64 import b64encode\n",
    "from pathlib import Path\n",
    "from langchain_openai import ChatOpenAI\n",
    "\n",
    "img_path = Path(\"sample.jpg\")\n",
    "question = \"Ile osób znajduje się na zdjęciu?\"\n",
    "\n",
    "if img_path.exists():\n",
    "    data = b64encode(img_path.read_bytes()).decode(\"utf-8\")\n",
    "    content = [\n",
    "        {\"type\": \"text\", \"text\": f\"Odpowiedz krótko po polsku: {question}\"},\n",
    "        {\"type\": \"image_url\", \"image_url\": {\"url\": f\"data:image/jpeg;base64,{data}\"}},\n",
    "    ]\n",
    "    llm = ChatOpenAI(model=\"gpt-4o-mini\", temperature=0)\n",
    "    print(llm.invoke(content))\n",
    "else:\n",
    "    print(\"Brak pliku sample.jpg – wstaw własny obraz i uruchom ponownie.\")\n"
   ]
  }
 ],
 "metadata": {},
 "nbformat": 4,
 "nbformat_minor": 5
}
