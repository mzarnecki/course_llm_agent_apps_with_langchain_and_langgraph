{
 "cells": [
  {
   "metadata": {},
   "cell_type": "markdown",
   "source": "## Architektura GPT",
   "id": "89162bcf26a95090"
  },
  {
   "metadata": {},
   "cell_type": "markdown",
   "source": [
    "Zadanie:\n",
    "Skorzystaj z projektora embeddings autorstwa TesnorFlow https://projector.tensorflow.org/.\n",
    "Skorzystaj z wyszukiwarki słów po prawej stronie i sprawdź pozycje kilku wybranych słów oraz zbadaj jakie słowa kryję się w sąsiadujących punktach."
   ],
   "id": "dec740e582d4f089"
  }
 ],
 "metadata": {
  "kernelspec": {
   "display_name": "Python 3",
   "language": "python",
   "name": "python3"
  },
  "language_info": {
   "codemirror_mode": {
    "name": "ipython",
    "version": 2
   },
   "file_extension": ".py",
   "mimetype": "text/x-python",
   "name": "python",
   "nbconvert_exporter": "python",
   "pygments_lexer": "ipython2",
   "version": "2.7.6"
  }
 },
 "nbformat": 4,
 "nbformat_minor": 5
}
