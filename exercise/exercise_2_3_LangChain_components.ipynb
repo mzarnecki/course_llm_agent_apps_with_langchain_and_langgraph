{
 "cells": [
  {
   "cell_type": "markdown",
   "id": "71cf1986",
   "metadata": {},
   "source": [
    "# 📘 Zestaw zadań — LangChain: Podstawowe komponenty\n",
    "\n",
    "> **Wskazówka:** miejsca do uzupełnienia oznaczono jako `# TODO` lub `...`.\n"
   ]
  },
  {
   "cell_type": "markdown",
   "id": "762dacbb",
   "metadata": {},
   "source": [
    "## Zadanie 1 — `PromptTemplate`: zdefiniuj szablon i wyrenderuj komunikat"
   ]
  },
  {
   "cell_type": "code",
   "id": "1f6348d0",
   "metadata": {
    "ExecuteTime": {
     "end_time": "2025-10-04T09:56:13.998009Z",
     "start_time": "2025-10-04T09:56:13.992560Z"
    }
   },
   "source": [
    "# Cel: Uzupełnij definicję PromptTemplate oraz wyrenderuj gotowy prompt.\n",
    "# Odniesienie: 2_2_LangChain_core_components.ipynb\n",
    "\n",
    "from langchain_core.prompts import PromptTemplate\n",
    "from dotenv import load_dotenv\n",
    "\n",
    "load_dotenv()\n",
    "\n",
    "# 1) Zdefiniuj zmienne wejściowe szablonu (powinny zawierać 'topic' i 'tone')\n",
    "input_variables = [\"topic\", \"tone\"]  # TODO: możesz pozostawić jak jest lub zmodyfikować\n",
    "\n",
    "# 2) Zdefiniuj treść szablonu tak, aby używać {topic} i {tone}\n",
    "template = \"\"\"Napisz krótki akapit o temacie: {topic}.\n",
    "Utrzymaj ton wypowiedzi: {tone}.\"\"\"  # TODO: dostosuj tekst jeśli chcesz\n",
    "\n",
    "prompt = PromptTemplate(input_variables=input_variables, template=template)\n",
    "\n",
    "# 3) Wyrenderuj gotowy prompt podstawiając wartości\n",
    "rendered = prompt.format(topic=\"uczenie maszynowe\", tone=\"entuzjastyczny\")  # TODO: zmień wartości\n",
    "\n",
    "print(rendered)\n",
    "assert \"{topic}\" not in rendered and \"{tone}\" not in rendered, \"Wygląda na to, że nie sformatowałeś szablonu.\""
   ],
   "outputs": [
    {
     "name": "stdout",
     "output_type": "stream",
     "text": [
      "Napisz krótki akapit o temacie: uczenie maszynowe.\n",
      "Utrzymaj ton wypowiedzi: entuzjastyczny.\n"
     ]
    }
   ],
   "execution_count": 4
  },
  {
   "cell_type": "markdown",
   "id": "24dd724b",
   "metadata": {},
   "source": [
    "## Zadanie 2 — `ChatPromptTemplate` i `MessagesPlaceholder` (historia rozmowy)"
   ]
  },
  {
   "cell_type": "code",
   "id": "8bf929a8",
   "metadata": {
    "ExecuteTime": {
     "end_time": "2025-10-04T09:56:14.051046Z",
     "start_time": "2025-10-04T09:56:14.045874Z"
    }
   },
   "source": [
    "# Cel: Zbuduj ChatPromptTemplate z miejscem na historię rozmowy.\n",
    "# Odniesienie: 2_4_LangChain_chat_with_memory.ipynb\n",
    "\n",
    "from langchain_core.prompts import ChatPromptTemplate, MessagesPlaceholder\n",
    "\n",
    "# 1) Uzupełnij szablon wiadomości: system, historia (placeholder), user\n",
    "prompt = ChatPromptTemplate.from_messages([\n",
    "    (\"system\", \"Jesteś pomocnym asystentem. Odpowiadaj zwięźle po polsku.\"),  # TODO: możesz zmienić reguły\n",
    "    MessagesPlaceholder(variable_name=\"history\"),  # TODO: pozostaw jako placeholder\n",
    "    (\"user\", \"{input}\"),  # TODO: nie zmieniaj klucza 'input'\n",
    "])\n",
    "\n",
    "# 2) Zasymuluj wypełnienie: podstaw 'history' i 'input' (bez wywołania modelu)\n",
    "fake_history = [\n",
    "    {\"role\": \"user\", \"content\": \"Cześć, jak działa pamięć w czacie?\"},\n",
    "    {\"role\": \"assistant\", \"content\": \"Pozwala wziąć pod uwagę poprzednie wiadomości.\"},\n",
    "]\n",
    "\n",
    "rendered = prompt.format_messages(history=fake_history, input=\"A jak zapisać ją w LangChain?\")\n",
    "for m in rendered:\n",
    "    print(m.type if hasattr(m, \"type\") else m[\"role\"], \":\", m.content if hasattr(m, \"content\") else m[\"content\"])"
   ],
   "outputs": [
    {
     "name": "stdout",
     "output_type": "stream",
     "text": [
      "system : Jesteś pomocnym asystentem. Odpowiadaj zwięźle po polsku.\n",
      "human : Cześć, jak działa pamięć w czacie?\n",
      "ai : Pozwala wziąć pod uwagę poprzednie wiadomości.\n",
      "human : A jak zapisać ją w LangChain?\n"
     ]
    }
   ],
   "execution_count": 5
  },
  {
   "cell_type": "markdown",
   "id": "afa72a5d",
   "metadata": {},
   "source": "## Zadanie 3 - `OutputParser`: wyodrębnij czysty tekst"
  },
  {
   "cell_type": "code",
   "id": "d6ea41d2",
   "metadata": {
    "ExecuteTime": {
     "end_time": "2025-10-04T09:56:14.286376Z",
     "start_time": "2025-10-04T09:56:14.098066Z"
    }
   },
   "source": [
    "# Cel: Dodaj prosty parser, który wymusi zwrot zwykłego ciągu tekstowego.\n",
    "# Odniesienie: 2_2_LangChain_core_components.ipynb\n",
    "\n",
    "from langchain_core.output_parsers import StrOutputParser\n",
    "from langchain_core.prompts import PromptTemplate\n",
    "\n",
    "template = \"Podaj definicję pojęcia: {term} w jednym zdaniu.\"\n",
    "prompt = PromptTemplate.from_template(template)\n",
    "\n",
    "# TODO: Złóż łańcuch prompt -> llm -> parser\n",
    "llm = ChatOpenAI(model=\"gpt-4o-mini\", temperature=0)\n",
    "parser = StrOutputParser()\n",
    "\n",
    "chain = prompt | llm | parser  # TODO: ta linia jest kluczowa\n",
    "\n",
    "# Nie wykonujemy wywołania. Sprawdźmy typ ostatniego elementu łańcucha:\n",
    "assert parser is not None, \"Parser nie został utworzony.\""
   ],
   "outputs": [],
   "execution_count": 6
  }
 ],
 "metadata": {
  "kernelspec": {
   "display_name": "Python 3",
   "language": "python",
   "name": "python3"
  },
  "language_info": {
   "name": "python",
   "version": "3.x"
  }
 },
 "nbformat": 4,
 "nbformat_minor": 5
}
