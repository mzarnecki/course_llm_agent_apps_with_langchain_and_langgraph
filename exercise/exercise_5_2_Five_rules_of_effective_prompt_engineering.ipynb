{
 "cells": [
  {
   "metadata": {},
   "cell_type": "markdown",
   "source": [
    "## Zadania: 5 zasad efektywnej inżynierii promptów\n",
    "5 zasad efektywnej inżynierii promptów:\n",
    "1. Jasne instrukcje poprawiają trafność.\n",
    "2. Przykłady stabilizują odpowiedź.\n",
    "3. Zdefiniowany format odpowiedzi = przewidywalny wynik.\n",
    "4. Dzielenie na kroki = lepsze i pełniejsze rozwiązania.\n",
    "5. Testy i weryfikacja = bezpieczeństwo i poprawność."
   ],
   "id": "8642cde9da1a3b6f"
  },
  {
   "cell_type": "code",
   "id": "initial_id",
   "metadata": {
    "collapsed": true,
    "ExecuteTime": {
     "end_time": "2025-09-15T07:42:54.901793Z",
     "start_time": "2025-09-15T07:42:52.764078Z"
    }
   },
   "source": [
    "# Import bibliotek\n",
    "from dotenv import load_dotenv\n",
    "load_dotenv()\n",
    "\n",
    "from langchain_openai import ChatOpenAI\n",
    "\n",
    "# model bazowy\n",
    "llm = ChatOpenAI(model=\"gpt-4o-mini\", temperature=0.7)"
   ],
   "outputs": [],
   "execution_count": 2
  },
  {
   "metadata": {},
   "cell_type": "markdown",
   "source": "### Zasada 1 — Jasne instrukcje",
   "id": "5aea7763b726d804"
  },
  {
   "metadata": {
    "ExecuteTime": {
     "end_time": "2025-09-15T07:43:06.086122Z",
     "start_time": "2025-09-15T07:42:54.909648Z"
    }
   },
   "cell_type": "code",
   "source": [
    "# ===============================\n",
    "# - Zadanie: Napisz własny przykład złego i dobrego promptu Wypisz 2 różnice w otrzymanych rezultatach.\n",
    "\n",
    "# Zły prompt — niejasny, bez roli i oczekiwań\n",
    "bad_prompt = \"Napisz funkcję w Pythonie.\"\n",
    "print(\"=== Zły prompt ===\")\n",
    "print(llm.invoke(bad_prompt).content)\n",
    "\n",
    "# Dobry prompt — jasno określona rola i oczekiwania\n",
    "good_prompt = \"\"\"Jesteś ekspertem programującym w Pythonie.\n",
    "Napisz funkcję w Pythonie, która przyjmuje listę liczb całkowitych\n",
    "i zwraca nową listę zawierającą tylko liczby parzyste.\n",
    "Dodaj test jednostkowy w pytest.\"\"\"\n",
    "print(\"\\n=== Dobry prompt ===\")\n",
    "print(llm.invoke(good_prompt).content)"
   ],
   "id": "dbab59416e864073",
   "outputs": [
    {
     "name": "stdout",
     "output_type": "stream",
     "text": [
      "=== Zły prompt ===\n",
      "Oczywiście! Jaką funkcję chciałbyś, abym napisał? Możesz podać szczegóły dotyczące jej działania lub celu, a ja postaram się pomóc.\n",
      "\n",
      "=== Dobry prompt ===\n",
      "Oto przykładowa funkcja w Pythonie, która przyjmuje listę liczb całkowitych i zwraca nową listę zawierającą tylko liczby parzyste. Dodatkowo dodam test jednostkowy z użyciem biblioteki `pytest`.\n",
      "\n",
      "### Funkcja\n",
      "\n",
      "```python\n",
      "def get_even_numbers(numbers):\n",
      "    \"\"\"Funkcja zwraca listę liczb parzystych z podanej listy.\"\"\"\n",
      "    return [num for num in numbers if num % 2 == 0]\n",
      "```\n",
      "\n",
      "### Test jednostkowy\n",
      "\n",
      "Aby przetestować funkcję, stworzymy plik testowy, na przykład `test_even_numbers.py`.\n",
      "\n",
      "```python\n",
      "import pytest\n",
      "from your_module import get_even_numbers  # Upewnij się, że importujesz funkcję z odpowiedniego modułu\n",
      "\n",
      "def test_get_even_numbers():\n",
      "    assert get_even_numbers([1, 2, 3, 4, 5, 6]) == [2, 4, 6]\n",
      "    assert get_even_numbers([10, 11, 12, 13, 14]) == [10, 12, 14]\n",
      "    assert get_even_numbers([-2, -1, 0, 1, 2]) == [-2, 0, 2]\n",
      "    assert get_even_numbers([]) == []\n",
      "    assert get_even_numbers([1, 3, 5]) == []\n",
      "```\n",
      "\n",
      "### Uruchomienie testów\n",
      "\n",
      "Aby uruchomić testy, upewnij się, że masz zainstalowany `pytest`. Możesz to zrobić, używając polecenia:\n",
      "\n",
      "```bash\n",
      "pip install pytest\n",
      "```\n",
      "\n",
      "Następnie uruchom testy, przechodząc do katalogu, w którym znajduje się plik testowy, i używając polecenia:\n",
      "\n",
      "```bash\n",
      "pytest test_even_numbers.py\n",
      "```\n",
      "\n",
      "To wszystko! Teraz masz funkcję, która zwraca liczby parzyste oraz zestaw testów, które sprawdzają jej poprawność.\n"
     ]
    }
   ],
   "execution_count": 3
  },
  {
   "metadata": {},
   "cell_type": "markdown",
   "source": "### Zasada 2 — Używaj przykładów",
   "id": "9c9e1dabb42f8ded"
  },
  {
   "metadata": {
    "ExecuteTime": {
     "end_time": "2025-09-15T07:43:12.753764Z",
     "start_time": "2025-09-15T07:43:06.142641Z"
    }
   },
   "cell_type": "code",
   "source": [
    "# ===============================\n",
    "# Zadanie: wygeneruj tagi na podstawie treści strony firmy. Dodaj stopniowo kilka kolejnych przykładów opisu firmy i zweryfikuj jak zmieniają sie generowane wyniki wraz ze zwiększaniem licznb przykładów.\n",
    "\n",
    "# Zero-shot\n",
    "zero_shot = \"\"\"Podaj tagi opisujące firmę na podstawie tekstu strony:\n",
    "Firma Lego produkuje zabawki dla dzieci.\"\"\"\n",
    "print(\"=== Zero-shot ===\")\n",
    "print(llm.invoke(zero_shot).content)\n",
    "\n",
    "# One-shot\n",
    "one_shot = \"\"\"Podaj maksymalnie trzy tagi opisujące firmę na podstawie tekstu strony.\n",
    "Przykład:\n",
    "Tekst: Firma Lego produkuje klocki dla dzieci.\n",
    "Tagi: zabawki, klocki, dzieci\n",
    "\n",
    "Teraz:\n",
    "Tekst: Firma Nike produkuje odzież i buty sportowe.\n",
    "Tagi:\"\"\"\n",
    "print(\"\\n=== One-shot ===\")\n",
    "print(llm.invoke(one_shot).content)\n",
    "\n",
    "# Few-shot\n",
    "few_shot = \"\"\"Podaj maksymalnie trzy tagi opisujące firmę na podstawie tekstu strony.\n",
    "\n",
    "Przykład 1:\n",
    "Tekst: Firma Lego produkuje klocki dla dzieci.\n",
    "Tagi: zabawki, klocki, dzieci\n",
    "\n",
    "Przykład 2:\n",
    "Tekst: Firma Nike produkuje odzież i buty sportowe.\n",
    "Tagi: sport, odzież, obuwie\n",
    "\n",
    "Teraz:\n",
    "Tekst: Firma Tesla produkuje samochody elektryczne i magazyny energii.\n",
    "Tagi:\"\"\"\n",
    "print(\"\\n=== Few-shot ===\")\n",
    "print(llm.invoke(few_shot).content)\n"
   ],
   "id": "5be1241181a9964b",
   "outputs": [
    {
     "name": "stdout",
     "output_type": "stream",
     "text": [
      "=== Zero-shot ===\n",
      "Oto kilka tagów, które mogą opisać firmę Lego na podstawie podanego tekstu:\n",
      "\n",
      "1. LEGO\n",
      "2. zabawki\n",
      "3. dzieci\n",
      "4. producent zabawek\n",
      "5. kreatywność\n",
      "6. konstrukcyjne\n",
      "7. edukacyjne\n",
      "8. rozrywka\n",
      "9. rozwój dzieci\n",
      "10. marka globalna\n",
      "\n",
      "=== One-shot ===\n",
      "odzież, buty, sport\n",
      "\n",
      "=== Few-shot ===\n",
      "samochody, elektryczność, energia\n"
     ]
    }
   ],
   "execution_count": 4
  },
  {
   "metadata": {},
   "cell_type": "markdown",
   "source": [
    "### Zasada 3 — Zdefiniuj format odpowiedzi\n",
    "walidacja wejścia i wyjścia z wykorzystaniem biblioteki Pydantic"
   ],
   "id": "c889316ae3b0d976"
  },
  {
   "metadata": {
    "ExecuteTime": {
     "end_time": "2025-09-15T07:43:18.187182Z",
     "start_time": "2025-09-15T07:43:12.805843Z"
    }
   },
   "cell_type": "code",
   "source": [
    "# - Zadanie: Zmodyfikuj poniższy przykład tak, aby dotyczył generowania przepisu na twoje ulubione danie zamiast planu wycieczki. Dodaj reguły walidacji wejścia i wyjścia z wykorzystaniem biblioteki Pydantic.\n",
    "\n",
    "from pydantic import BaseModel, Field\n",
    "from typing import List\n",
    "from langchain_openai import ChatOpenAI\n",
    "from langchain_core.prompts import ChatPromptTemplate\n",
    "import dotenv\n",
    "\n",
    "dotenv.load_dotenv()\n",
    "\n",
    "# Definicja schematu wyjścia (Pydantic)\n",
    "class CityGuide(BaseModel):\n",
    "    city: str = Field(..., description=\"Miasto, którego dotyczy przewodnik\")\n",
    "    summary: str = Field(..., description=\"Krótki opis miasta (2–3 zdania)\")\n",
    "    must_do: List[str] = Field(..., description=\"Lista 3–5 rzeczy do zrobienia\")\n",
    "\n",
    "# LLM + structured output\n",
    "llm = ChatOpenAI(model=\"gpt-4o-mini\", temperature=0)\n",
    "structured_llm = llm.with_structured_output(CityGuide)\n",
    "\n",
    "prompt = ChatPromptTemplate.from_messages([\n",
    "    (\"system\", \"Jesteś ekspertem od podróży. Odpowiadaj po polsku, zwięźle.\"),\n",
    "    (\"user\", \"Stwórz krótki przewodnik po {city} dla {days}-dniowej wizyty.\")\n",
    "])\n",
    "\n",
    "chain = prompt | structured_llm\n",
    "\n",
    "# Walidacja wejścia Pydantic + wywołanie łańcucha\n",
    "from pydantic import BaseModel, Field\n",
    "\n",
    "class GuideRequest(BaseModel):\n",
    "    city: str = Field(min_length=2)\n",
    "    days: int = Field(ge=1, le=7)\n",
    "\n",
    "req = GuideRequest(city=\"Poznań\", days=2)\n",
    "\n",
    "result: CityGuide = chain.invoke(req.model_dump())  # <- dostajesz OBIEKT Pydantic\n",
    "print(result)                         # CityGuide(city=..., summary=..., must_do=[...])\n",
    "print(result.model_dump_json(indent=2))  # JSON gotowy do zapisu/transportu"
   ],
   "id": "669d955ea1cc6513",
   "outputs": [
    {
     "name": "stdout",
     "output_type": "stream",
     "text": [
      "city='Poznań' summary='Poznań to jedno z najstarszych miast w Polsce, znane z bogatej historii, pięknej architektury i tętniącej życiem atmosfery. To idealne miejsce na krótki wypad, oferujące zarówno zabytki, jak i nowoczesne atrakcje.' must_do=['Odwiedź Stary Rynek i zobacz ratusz z koziołkami.', 'Spaceruj po Ostrówie Tumskim, historycznym centrum Poznania.', 'Zrelaksuj się w Parku Cytadela, gdzie znajdziesz muzea i piękne tereny zielone.', 'Spróbuj lokalnych specjałów w jednej z restauracji, np. pyry z gzikiem.', 'Zobacz Muzeum Narodowe z bogatą kolekcją sztuki.']\n",
      "{\n",
      "  \"city\": \"Poznań\",\n",
      "  \"summary\": \"Poznań to jedno z najstarszych miast w Polsce, znane z bogatej historii, pięknej architektury i tętniącej życiem atmosfery. To idealne miejsce na krótki wypad, oferujące zarówno zabytki, jak i nowoczesne atrakcje.\",\n",
      "  \"must_do\": [\n",
      "    \"Odwiedź Stary Rynek i zobacz ratusz z koziołkami.\",\n",
      "    \"Spaceruj po Ostrówie Tumskim, historycznym centrum Poznania.\",\n",
      "    \"Zrelaksuj się w Parku Cytadela, gdzie znajdziesz muzea i piękne tereny zielone.\",\n",
      "    \"Spróbuj lokalnych specjałów w jednej z restauracji, np. pyry z gzikiem.\",\n",
      "    \"Zobacz Muzeum Narodowe z bogatą kolekcją sztuki.\"\n",
      "  ]\n",
      "}\n"
     ]
    }
   ],
   "execution_count": 5
  },
  {
   "metadata": {},
   "cell_type": "markdown",
   "source": "### Zasada 4 — Dziel złożone zadania na kroki",
   "id": "8328fe6c016afbdd"
  },
  {
   "metadata": {
    "ExecuteTime": {
     "end_time": "2025-09-15T07:43:58.055618Z",
     "start_time": "2025-09-15T07:43:18.241038Z"
    }
   },
   "cell_type": "code",
   "source": [
    "# ===============================\n",
    "# - Zadanie: Zmodyfikuj poniższy przykład tak, aby w kilku krokach realizował zadanie: \"Doradź, jakie auto powinienem/powinnam kupić?\".\n",
    "\n",
    "# Zły prompt — wszystko naraz\n",
    "bad_prompt = \"\"\"Przygotuj trzydniowy plan zwiedzania Poznania z budżetem 300 euro,\n",
    "uwzględniając atrakcje, restauracje, transport i mapy.\"\"\"\n",
    "print(\"=== Zły prompt ===\")\n",
    "print(llm.invoke(bad_prompt).content[:600], \"...\")\n",
    "\n",
    "# Dobry prompt — krok po kroku\n",
    "good_step1 = \"Wypisz najważniejsze atrakcje kulturalne w Poznaniu z godzinami otwarcia.\"\n",
    "step1 = llm.invoke(good_step1).content\n",
    "print(\"\\n=== Dobry prompt — krok 1 ===\")\n",
    "print(step1[:600], \"...\")\n",
    "\n",
    "good_step2 = f\"Na podstawie tej listy ułóż plan zwiedzania na 3 dni, maks 4 atrakcje dziennie. Atrakcje: {step1}\"\n",
    "step2 = llm.invoke(good_step2).content\n",
    "print(\"\\n=== Dobry prompt — krok 2 ===\")\n",
    "print(step2[:600], \"...\")\n"
   ],
   "id": "c8d6293b8c85e05d",
   "outputs": [
    {
     "name": "stdout",
     "output_type": "stream",
     "text": [
      "=== Zły prompt ===\n",
      "Oto trzydniowy plan zwiedzania Poznania z budżetem 300 euro. Plan uwzględnia atrakcje turystyczne, restauracje, transport oraz mapy.\n",
      "\n",
      "### Dzień 1: Stare Miasto i okolice\n",
      "\n",
      "**Rano:**\n",
      "- **Śniadanie:** Kawiarnia \"Café La Ruina\" (około 5 euro)\n",
      "- **Atrakcja:** Stary Rynek, Ratusz (bezpłatnie)\n",
      "- **Transport:** Spacer po Starym Mieście (bezpłatnie)\n",
      "\n",
      "**Południe:**\n",
      "- **Atrakcja:** Muzeum Narodowe (bilet wstępu około 5 euro)\n",
      "- **Obiad:** Restauracja \"Bamberka\" (około 10 euro)\n",
      "\n",
      "**Popołudnie:**\n",
      "- **Atrakcja:** Ostrów Tumski, Katedra (bezpłatnie, ewentualnie 2 euro za wejście do katedry)\n",
      "- **Transport:** Sp ...\n",
      "\n",
      "=== Dobry prompt — krok 1 ===\n",
      "Oto lista najważniejszych atrakcji kulturalnych w Poznaniu wraz z ich godzinami otwarcia. Proszę pamiętać, że godziny otwarcia mogą się zmieniać, dlatego zawsze warto sprawdzić aktualne informacje na oficjalnych stronach internetowych.\n",
      "\n",
      "1. **Stary Rynek**\n",
      "   - Opis: Serce Poznania, z pięknymi kamienicami i ratuszem.\n",
      "   - Godziny otwarcia: Całodobowo\n",
      "\n",
      "2. **Ratusz w Poznaniu**\n",
      "   - Opis: Siedziba Muzeum Historii Miasta Poznania.\n",
      "   - Godziny otwarcia: \n",
      "     - Poniedziałek: 12:00 - 16:00\n",
      "     - Wtorek - Piątek: 10:00 - 16:00\n",
      "     - Sobota - Niedziela: 10:00 - 18:00\n",
      "\n",
      "3. **Katedra Poznańska**\n",
      "   -  ...\n",
      "\n",
      "=== Dobry prompt — krok 2 ===\n",
      "Oto propozycja planu zwiedzania Poznania na 3 dni, z maksymalnie 4 atrakcjami dziennie:\n",
      "\n",
      "### Dzień 1: Stary Rynek i Muzea\n",
      "1. **Stary Rynek** (całodobowo)\n",
      "   - Rozpocznij dzień od spaceru po Starym Rynku, podziwiając piękne kamienice i ratusz.\n",
      "   \n",
      "2. **Ratusz w Poznaniu** (12:00 - 16:00 w poniedziałek)\n",
      "   - Po spacerze odwiedź Ratusz, aby poznać historię miasta.\n",
      "\n",
      "3. **Muzeum Instrumentów Muzycznych** (10:00 - 17:00)\n",
      "   - Następnie udaj się do Muzeum Instrumentów Muzycznych, aby zobaczyć unikalną kolekcję instrumentów.\n",
      "\n",
      "4. **Muzeum Narodowe w Poznaniu** (10:00 - 18:00)\n",
      "   - Zakończ dzień w Muzeu ...\n"
     ]
    }
   ],
   "execution_count": 6
  },
  {
   "metadata": {},
   "cell_type": "markdown",
   "source": "### Zasada 5 — Testuj i weryfikuj wyniki",
   "id": "f16c02fd7f8f68e3"
  },
  {
   "metadata": {
    "ExecuteTime": {
     "end_time": "2025-09-15T07:43:59.061063Z",
     "start_time": "2025-09-15T07:43:58.110972Z"
    }
   },
   "cell_type": "code",
   "source": [
    "# ===============================\n",
    "# - Zadanie: Zdefiniuj zakres ocen (skala 1–5)  - napisz dedydykowaną funkcję w Pythonie.\n",
    "# - Zadanie: Oceń 2 odpowiedzi i policz średnią - napisz dedydykowaną funkcję w Pythonie.\n",
    "\n",
    "from langchain.evaluation import load_evaluator\n",
    "from dotenv import load_dotenv\n",
    "\n",
    "load_dotenv()\n",
    "\n",
    "evaluator = load_evaluator(\"embedding_distance\", embeddings_model=\"openai\")\n",
    "\n",
    "result = evaluator.evaluate_strings(\n",
    "    prediction=\"Stolica Polski to Warszawa\",\n",
    "    reference=\"Warszawa jest stolicą Polski\"\n",
    ")\n",
    "\n",
    "print(result)\n"
   ],
   "id": "3e7e007d0f4b071f",
   "outputs": [
    {
     "name": "stdout",
     "output_type": "stream",
     "text": [
      "{'score': 0.055613485077632974}\n"
     ]
    }
   ],
   "execution_count": 7
  }
 ],
 "metadata": {
  "kernelspec": {
   "display_name": "Python 3",
   "language": "python",
   "name": "python3"
  },
  "language_info": {
   "codemirror_mode": {
    "name": "ipython",
    "version": 2
   },
   "file_extension": ".py",
   "mimetype": "text/x-python",
   "name": "python",
   "nbconvert_exporter": "python",
   "pygments_lexer": "ipython2",
   "version": "2.7.6"
  }
 },
 "nbformat": 4,
 "nbformat_minor": 5
}
