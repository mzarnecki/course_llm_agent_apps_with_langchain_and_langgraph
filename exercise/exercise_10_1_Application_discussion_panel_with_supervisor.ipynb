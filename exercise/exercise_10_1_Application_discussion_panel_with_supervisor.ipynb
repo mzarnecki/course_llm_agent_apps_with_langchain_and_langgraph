{
 "cells": [
  {
   "metadata": {},
   "cell_type": "markdown",
   "source": "## Panel dyskusyjny agentów",
   "id": "47ef1ac99e40973"
  },
  {
   "metadata": {},
   "cell_type": "markdown",
   "source": [
    "Zadanie:\n",
    "Uruchom notebook `10_1_Application_discussion_panel_with_supervisor.ipynb`\n",
    "Zmodyfikuj temat dyskusji i uruchom kod. Sprawdź przebieg \"dyskusji\" agentów."
   ],
   "id": "bea3dc5fcbcf9245"
  }
 ],
 "metadata": {
  "kernelspec": {
   "display_name": "Python 3",
   "language": "python",
   "name": "python3"
  },
  "language_info": {
   "codemirror_mode": {
    "name": "ipython",
    "version": 2
   },
   "file_extension": ".py",
   "mimetype": "text/x-python",
   "name": "python",
   "nbconvert_exporter": "python",
   "pygments_lexer": "ipython2",
   "version": "2.7.6"
  }
 },
 "nbformat": 4,
 "nbformat_minor": 5
}
