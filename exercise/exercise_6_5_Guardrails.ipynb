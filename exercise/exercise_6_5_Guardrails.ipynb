{
 "cells": [
  {
   "cell_type": "markdown",
   "id": "a802143e",
   "metadata": {},
   "source": [
    "# excercise_6_5_Guardrails\n",
    "\n",
    "**Temat:** Walidacja JSON/XML, regexy, limity, fallback filtering."
   ]
  },
  {
   "cell_type": "markdown",
   "id": "e569056d",
   "metadata": {},
   "source": [
    "## Zadanie 1 — Walidacja JSON"
   ]
  },
  {
   "cell_type": "code",
   "execution_count": null,
   "id": "6ebe2fd0",
   "metadata": {},
   "outputs": [],
   "source": [
    "import json\n",
    "def validate_json(s: str) -> bool:\n",
    "    try:\n",
    "        obj = json.loads(s)\n",
    "    except Exception:\n",
    "        return False\n",
    "    return isinstance(obj, dict) and \"title\" in obj and \"items\" in obj and isinstance(obj[\"items\"], list)  # TODO\n",
    "print(validate_json('{\"title\":\"ok\",\"items\":[1,2]}'))\n",
    "print(validate_json('{\"items\":[1,2]}'))\n"
   ]
  },
  {
   "cell_type": "markdown",
   "id": "c864996f",
   "metadata": {},
   "source": [
    "## Zadanie 2 — Regex + limit długości"
   ]
  },
  {
   "cell_type": "code",
   "execution_count": null,
   "id": "ad0bb0da",
   "metadata": {},
   "outputs": [],
   "source": [
    "import re\n",
    "def safe_text(s: str) -> bool:\n",
    "    if not re.match(r'^[\\w\\s]+$', s):  # TODO: wzorzec\n",
    "        return False\n",
    "    return len(s) <= 120                # TODO: limit\n",
    "assert safe_text(\"Ala ma kota 123\") is True\n",
    "assert safe_text(\"Ala-ma-kota\") is False\n"
   ]
  },
  {
   "cell_type": "markdown",
   "id": "01490977",
   "metadata": {},
   "source": [
    "## Zadanie 3 — Fallback filtering"
   ]
  },
  {
   "cell_type": "code",
   "execution_count": null,
   "id": "480831b0",
   "metadata": {},
   "outputs": [],
   "source": [
    "def is_fallback(msg: str) -> bool:\n",
    "    lower = msg.lower()\n",
    "    return any(p in lower for p in [\"as an ai\", \"i cannot\", \"sorry, i can't\"])  # TODO: dodaj frazy\n",
    "msgs = [\"As an AI language model, I cannot help.\", \"Normalna odpowiedź.\", \"Sorry, I can't do that.\"]\n",
    "print([is_fallback(m) for m in msgs])\n"
   ]
  }
 ],
 "metadata": {
  "kernelspec": {
   "display_name": "Python 3",
   "language": "python",
   "name": "python3"
  },
  "language_info": {
   "name": "python",
   "version": "3.x"
  }
 },
 "nbformat": 4,
 "nbformat_minor": 5
}