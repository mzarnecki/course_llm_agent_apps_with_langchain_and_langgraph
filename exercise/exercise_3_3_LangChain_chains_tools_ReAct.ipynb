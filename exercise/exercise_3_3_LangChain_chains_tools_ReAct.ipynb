{
 "cells": [
  {
   "cell_type": "markdown",
   "id": "5f94f125",
   "metadata": {},
   "source": [
    "# 📙 Zestaw zadań — LangChain: Łańcuchy, Tools oraz Agent ReAct\n",
    "\n",
    "Zadania odnoszą się do notebooków z przykładami:\n",
    "- **3_1_LangChain_chains.ipynb**\n",
    "- **3_2_LangChain_tools.ipynb**\n",
    "- **3_3_LangChain_ReAct_agent.ipynb**\n",
    "\n",
    "> **Uzupełnij fragmenty oznaczone `# TODO` / `...`.\n"
   ]
  },
  {
   "cell_type": "markdown",
   "id": "278c11f2",
   "metadata": {},
   "source": [
    "## Zadanie 1 — Złóż łańcuch: `Prompt` → `LLM` → `StrOutputParser`"
   ]
  },
  {
   "cell_type": "code",
   "execution_count": null,
   "id": "d42ea86d",
   "metadata": {},
   "outputs": [],
   "source": [
    "from langchain_core.prompts import PromptTemplate\n",
    "from langchain_core.output_parsers import StrOutputParser\n",
    "from langchain_openai import ChatOpenAI\n",
    "\n",
    "# 1) Przygotuj PromptTemplate z jedną zmienną 'query'\n",
    "prompt = PromptTemplate.from_template(\"Odpowiedz zwięźle: {query}\")  # TODO: zmień tekst, jeśli chcesz\n",
    "\n",
    "# 2) Przygotuj LLM (nie uruchamiamy zapytań w tym zadaniu)\n",
    "llm = ChatOpenAI(model=\"gpt-4o-mini\", temperature=0)  # TODO: ewentualnie inny model\n",
    "\n",
    "# 3) Parser tekstowy\n",
    "parser = StrOutputParser()\n",
    "\n",
    "# 4) Złóż łańcuch operatorami |\n",
    "chain = prompt | llm | parser  # TODO\n",
    "\n",
    "assert chain is not None, \"Łańcuch nie został utworzony.\""
   ]
  },
  {
   "cell_type": "markdown",
   "id": "03f5ea35",
   "metadata": {},
   "source": [
    "## Zadanie 2 — `Tool`: owiń funkcję w narzędzie"
   ]
  },
  {
   "cell_type": "code",
   "execution_count": null,
   "id": "9e2eb597",
   "metadata": {},
   "outputs": [],
   "source": [
    "# Cel: zdefiniuj prostą funkcję i zarejestruj jako narzędzie LangChain.\n",
    "# Odniesienie: 3_2_LangChain_tools.ipynb\n",
    "\n",
    "from typing import Annotated\n",
    "from langchain_core.tools import tool\n",
    "\n",
    "# 1) Utwórz funkcję, która zwraca długość tekstu\n",
    "@tool\n",
    "def text_length(s: Annotated[str, \"Tekst wejściowy\"]) -> int:\n",
    "    \"\"\"Zwraca liczbę znaków w tekście.\"\"\"\n",
    "    return len(s)  # TODO: możesz dodać walidację\n",
    "\n",
    "# 2) Użyj narzędzia bezpośrednio\n",
    "res = text_length.invoke({\"s\": \"LangChain\"})\n",
    "print(\"Długość:\", res)\n",
    "assert isinstance(res, int), \"Narzędzie powinno zwrócić int.\""
   ]
  },
  {
   "cell_type": "markdown",
   "id": "3d45264b",
   "metadata": {},
   "source": [
    "## Zadanie 3 — Agent ReAct: stwórz szkic agenta korzystającego z narzędzi"
   ]
  },
  {
   "cell_type": "code",
   "execution_count": null,
   "id": "2d17293f",
   "metadata": {},
   "outputs": [],
   "source": [
    "# Cel: Przygotuj minimalny szkic agenta ReAct z jednym narzędziem.\n",
    "# Odniesienie: 3_3_LangChain_ReAct_agent.ipynb\n",
    "\n",
    "from langchain_openai import ChatOpenAI\n",
    "from langchain.agents import AgentExecutor, create_react_agent\n",
    "from langchain_core.prompts import ChatPromptTemplate\n",
    "\n",
    "llm = ChatOpenAI(model=\"gpt-4o-mini\", temperature=0)  # TODO: ewentualnie zmień model\n",
    "\n",
    "# Lista narzędzi dostępnych dla agenta:\n",
    "tools = [text_length]  # TODO: możesz dodać kolejne własne narzędzia\n",
    "\n",
    "# Prosty prompt dla ReAct (instrukcja + format reasoning/tool use)\n",
    "prompt = ChatPromptTemplate.from_messages([\n",
    "    (\"system\", \"Jesteś agentem ReAct. Myśl krok po kroku i używaj narzędzi tylko gdy to potrzebne.\"),\n",
    "    (\"human\", \"{input}\")\n",
    "])\n",
    "\n",
    "# Utwórz agenta ReAct\n",
    "agent = create_react_agent(llm, tools, prompt)  # TODO: pozostaje jak jest\n",
    "\n",
    "# Owiń w executor (bez realnego uruchamiania zadań w tym notatniku)\n",
    "agent_executor = AgentExecutor(agent=agent, tools=tools, verbose=False)\n",
    "\n",
    "assert agent_executor is not None, \"Nie udało się utworzyć agenta ReAct.\""
   ]
  },
  {
   "cell_type": "markdown",
   "id": "6f960ee4",
   "metadata": {},
   "source": [
    "## Zadanie 4 — Parametryzacja łańcucha: `partial` / stałe wartości"
   ]
  },
  {
   "cell_type": "code",
   "execution_count": null,
   "id": "d5b772d3",
   "metadata": {},
   "outputs": [],
   "source": [
    "# Cel: Nadaj części wartości promptu przez partial (jeśli Twoja wersja to wspiera), resztę podaj przy wywołaniu.\n",
    "\n",
    "from langchain_core.prompts import PromptTemplate\n",
    "\n",
    "base_prompt = PromptTemplate.from_template(\"Podsumuj w stylu {style}: {text}\")\n",
    "\n",
    "# Ustal styl domyślny przy pomocy partial (lub zbuduj oddzielny prompt)\n",
    "try:\n",
    "    styled_prompt = base_prompt.partial(style=\"naukowy\")  # TODO: zmień styl\n",
    "    filled = styled_prompt.format(text=\"Modelowanie tematów w korpusach tekstowych.\")\n",
    "    print(filled)\n",
    "except Exception as e:\n",
    "    print(\"Twoja wersja może nie wspierać partial(). Zastosuj inną technikę:\", e)"
   ]
  },
  {
   "cell_type": "markdown",
   "id": "d4758006",
   "metadata": {},
   "source": [
    "## Zadanie 5 — Rozszerz narzędzie o walidację i obsługę błędów"
   ]
  },
  {
   "cell_type": "code",
   "execution_count": null,
   "id": "8410eb94",
   "metadata": {},
   "outputs": [],
   "source": [
    "# Cel: rozbuduj narzędzie tak, by bezpiecznie liczyło słowa i obsługiwało puste wejście.\n",
    "from langchain_core.tools import tool\n",
    "\n",
    "@tool\n",
    "def word_count(s: Annotated[str, \"Tekst do zliczania słów\"]) -> int:\n",
    "    \"\"\"Zwraca liczbę słów w tekście. Zwraca 0 gdy tekst jest pusty lub None.\"\"\"\n",
    "    if not s:\n",
    "        return 0\n",
    "    return len(str(s).split())\n",
    "\n",
    "print(\"word_count('Ala ma kota') ->\", word_count.invoke({\"s\": \"Ala ma kota\"}))\n",
    "print(\"word_count('') ->\", word_count.invoke({\"s\": \"\"}))\n",
    "assert word_count.invoke({\"s\": \"\"}) == 0, \"Puste wejście powinno zwrócić 0.\"\n"
   ]
  }
 ],
 "metadata": {
  "kernelspec": {
   "display_name": "Python 3",
   "language": "python",
   "name": "python3"
  },
  "language_info": {
   "name": "python",
   "version": "3.x"
  }
 },
 "nbformat": 4,
 "nbformat_minor": 5
}