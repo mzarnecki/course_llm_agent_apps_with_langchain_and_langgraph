{
 "cells": [
  {
   "cell_type": "markdown",
   "id": "32f09520",
   "metadata": {},
   "source": [
    "# excercise_8_4_LangGraph_RAG\n",
    "\n",
    "**Temat:** RAG w grafie — index → retrieve → generate (szkic)."
   ]
  },
  {
   "cell_type": "markdown",
   "id": "54e0a05b",
   "metadata": {},
   "source": [
    "## Zadanie 1 — Index (chunk + embed)"
   ]
  },
  {
   "cell_type": "code",
   "execution_count": null,
   "id": "43901a35",
   "metadata": {},
   "outputs": [],
   "source": [
    "import numpy as np\n",
    "def chunk_text(text: str, max_len: int = 100) -> list[str]:\n",
    "    words, chunks, cur = text.split(), [], \"\"\n",
    "    for w in words:\n",
    "        if len(cur) + len(w) + 1 <= max_len:\n",
    "            cur = (cur + \" \" + w).strip()\n",
    "        else:\n",
    "            chunks.append(cur); cur = w\n",
    "    if cur: chunks.append(cur)\n",
    "    return chunks\n",
    "\n",
    "def embed(text: str) -> np.ndarray:\n",
    "    words = text.split()\n",
    "    return np.array([len(text), len(words), len(set(words))], dtype=float)  # TODO: prosta cecha\n",
    "\n",
    "def indexer_node(state: dict) -> dict:\n",
    "    chunks = chunk_text(state.get(\"docs\",\"\"), max_len=80)\n",
    "    state[\"chunks\"] = chunks\n",
    "    state[\"vectors\"] = [embed(c) for c in chunks]\n",
    "    return state\n",
    "\n",
    "s = indexer_node({\"docs\":\"RAG łączy retrieval i generację. LangGraph modeluje workflowy jako grafy.\"})\n",
    "assert \"chunks\" in s and \"vectors\" in s\n"
   ]
  },
  {
   "cell_type": "markdown",
   "id": "6df19052",
   "metadata": {},
   "source": [
    "## Zadanie 2 — Retriever (top-k cosine)"
   ]
  },
  {
   "cell_type": "code",
   "execution_count": null,
   "id": "3559cca8",
   "metadata": {},
   "outputs": [],
   "source": [
    "def cosine(a: np.ndarray, b: np.ndarray) -> float:\n",
    "    denom = (np.linalg.norm(a) * np.linalg.norm(b)) or 1e-12\n",
    "    return float(np.dot(a, b) / denom)\n",
    "\n",
    "def retriever_node(state: dict, top_k: int = 2) -> dict:\n",
    "    qv = embed(state.get(\"question\",\"\"))\n",
    "    pairs = list(zip(state.get(\"chunks\", []), state.get(\"vectors\", [])))\n",
    "    scored = sorted(((c, cosine(v, qv)) for c, v in pairs), key=lambda x: x[1], reverse=True)[:top_k]\n",
    "    state[\"context\"] = [c for c, _ in scored]\n",
    "    return state\n",
    "\n",
    "r = retriever_node(s | {\"question\":\"retrieval generacja\"})\n",
    "assert \"context\" in r and len(r[\"context\"]) >= 1\n"
   ]
  },
  {
   "cell_type": "markdown",
   "id": "ce243f29",
   "metadata": {},
   "source": [
    "## Zadanie 3 — Generator (szkic) + graf"
   ]
  },
  {
   "cell_type": "code",
   "execution_count": null,
   "id": "c9e80d92",
   "metadata": {},
   "outputs": [],
   "source": [
    "try:\n",
    "    from langgraph.graph import StateGraph, START, END\n",
    "except Exception as e:\n",
    "    print(\"LangGraph nie jest zainstalowany (demo).\", e)\n",
    "    StateGraph = object; START=\"__START__\"; END=\"__END__\"\n",
    "\n",
    "def generator_node(state: dict) -> dict:\n",
    "    ctx = state.get(\"context\", [])\n",
    "    q = state.get(\"question\",\"\")\n",
    "    state[\"answer\"] = f\"Kontekst={ctx[:1]} | Odpowiedź: {q}\"  # TODO: sformatuj inaczej\n",
    "    return state\n",
    "\n",
    "builder = StateGraph(dict)\n",
    "try:\n",
    "    builder.add_node(\"index\", indexer_node)\n",
    "    builder.add_node(\"retrieve\", retriever_node)\n",
    "    builder.add_node(\"generate\", generator_node)\n",
    "    builder.add_edge(START, \"index\")\n",
    "    builder.add_edge(\"index\", \"retrieve\")\n",
    "    builder.add_edge(\"retrieve\", \"generate\")\n",
    "    builder.add_edge(\"generate\", END)\n",
    "    # graph = builder.compile()  # nie uruchamiamy\n",
    "    print(\"Szkic grafu RAG gotowy.\")\n",
    "except Exception as e:\n",
    "    print(\"Szkic budowy grafu:\", e)\n"
   ]
  }
 ],
 "metadata": {
  "kernelspec": {
   "display_name": "Python 3",
   "language": "python",
   "name": "python3"
  },
  "language_info": {
   "name": "python",
   "version": "3.x"
  }
 },
 "nbformat": 4,
 "nbformat_minor": 5
}