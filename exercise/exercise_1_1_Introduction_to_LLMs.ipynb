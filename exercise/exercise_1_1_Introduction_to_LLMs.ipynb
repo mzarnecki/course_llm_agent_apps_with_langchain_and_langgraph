{
 "cells": [
  {
   "metadata": {},
   "cell_type": "markdown",
   "source": "## Zadania: Historia LLM",
   "id": "3f9604924afe0451"
  },
  {
   "metadata": {},
   "cell_type": "markdown",
   "source": [
    "Zadanie 1:\n",
    "Skorzystaj z symulatora sztucznej sieci neuronowej autorstwa TensorFlow https://playground.tensorflow.org i zobacz jak sieć uczy się wzorców.\n",
    "Przy bardziej skomplikowanych wzorach (np. spirala) zwiększ liczbę warst i liczbę neuronów w wartwach ukrytych, aby rozpoznać bardziej skomplikowany wzorzec."
   ],
   "id": "e20ac500ee1f3ad6"
  },
  {
   "metadata": {},
   "cell_type": "markdown",
   "source": [
    "Zadanie 2:\n",
    "Skorzystaj z symulatora sztucznej sieci neuronowej autorstwa \"cpuheater\" https://mladdict.com/neural-network-simulator. Przejdź przez kroki ternowania sieci i zobacz w jaki sposób prosta płytka sieć neuronowa może odwzorować logikę działania bramki logivcznej XOR."
   ],
   "id": "24979108dbbc7ac7"
  }
 ],
 "metadata": {
  "kernelspec": {
   "display_name": "Python 3",
   "language": "python",
   "name": "python3"
  },
  "language_info": {
   "codemirror_mode": {
    "name": "ipython",
    "version": 2
   },
   "file_extension": ".py",
   "mimetype": "text/x-python",
   "name": "python",
   "nbconvert_exporter": "python",
   "pygments_lexer": "ipython2",
   "version": "2.7.6"
  }
 },
 "nbformat": 4,
 "nbformat_minor": 5
}
