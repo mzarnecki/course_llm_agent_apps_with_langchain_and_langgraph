{
 "cells": [
  {
   "cell_type": "markdown",
   "id": "bc2feef8",
   "metadata": {},
   "source": "## Zadania: Ewaluacja za pomocą kryteriów\n"
  },
  {
   "cell_type": "markdown",
   "id": "465af146",
   "metadata": {},
   "source": "## Zadanie 1 - Słownik kryteriów"
  },
  {
   "cell_type": "code",
   "execution_count": null,
   "id": "3c157bfa",
   "metadata": {},
   "outputs": [],
   "source": [
    "criteria = {\n",
    "    \"correctness\": {\"desc\": \"Czy odpowiedź jest merytorycznie poprawna?\", \"scale\": (0,5)},\n",
    "    \"conciseness\": {\"desc\": \"Czy odpowiedź jest zwięzła i na temat?\", \"scale\": (0,5)},\n",
    "    \"usefulness\": {\"desc\": \"Czy odpowiedź jest praktycznie przydatna?\", \"scale\": (0,5)},\n",
    "}  # TODO: dodaj/zmień kryteria/zakresy\n",
    "assert all(k in criteria for k in [\"correctness\",\"conciseness\",\"usefulness\"])\n"
   ]
  },
  {
   "cell_type": "markdown",
   "id": "f1e5f2c9",
   "metadata": {},
   "source": "## Zadanie 2 - Prosty evaluator regułowy (stub)"
  },
  {
   "cell_type": "code",
   "execution_count": null,
   "id": "c8d34ee1",
   "metadata": {},
   "outputs": [],
   "source": [
    "def simple_criteria_eval(answer: str) -> dict:\n",
    "    scores = {\"correctness\": 3, \"conciseness\": 3, \"usefulness\": 3}  # TODO: minilogika\n",
    "    if len(answer) < 50:\n",
    "        scores[\"conciseness\"] = 4\n",
    "    if any(w in answer.lower() for w in [\"konkret\", \"przykład\", \"kroki\"]):\n",
    "        scores[\"usefulness\"] = min(5, scores[\"usefulness\"] + 1)\n",
    "    return scores\n",
    "\n",
    "print(simple_criteria_eval(\"Podaję konkretny przykład w 3 krokach.\"))\n"
   ]
  },
  {
   "cell_type": "markdown",
   "id": "1e36f507",
   "metadata": {},
   "source": "## Zadanie 3 - Szkic wywołania LLM (bez uruchamiania)"
  },
  {
   "cell_type": "code",
   "execution_count": null,
   "id": "2ce987fa",
   "metadata": {},
   "outputs": [],
   "source": [
    "from langchain_openai import ChatOpenAI\n",
    "llm = ChatOpenAI(model=\"gpt-4o-mini\", temperature=0)  # TODO: ewentualna zmiana\n",
    "criteria_prompt = \"\"\"Oceń odpowiedź wg: Correctness, Conciseness, Usefulness (0-5). Zwróć JSON.\"\"\"\n",
    "payload = {\"role\": \"user\", \"content\": \"Przykładowa odpowiedź do oceny...\"}  # TODO: przygotuj prompt\n",
    "assert isinstance(payload, dict)\n"
   ]
  }
 ],
 "metadata": {
  "kernelspec": {
   "display_name": "Python 3",
   "language": "python",
   "name": "python3"
  },
  "language_info": {
   "name": "python",
   "version": "3.x"
  }
 },
 "nbformat": 4,
 "nbformat_minor": 5
}
