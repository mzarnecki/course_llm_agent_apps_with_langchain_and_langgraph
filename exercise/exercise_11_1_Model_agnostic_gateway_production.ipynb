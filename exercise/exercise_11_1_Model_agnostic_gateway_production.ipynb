{
 "cells": [
  {
   "cell_type": "markdown",
   "id": "42c86a64",
   "metadata": {},
   "source": "## Zadania: Model agnostic gateway production\n"
  },
  {
   "cell_type": "markdown",
   "id": "e1699816",
   "metadata": {},
   "source": [
    "## Zadanie 1 — Routing po nagłówku X-Model"
   ]
  },
  {
   "cell_type": "code",
   "execution_count": null,
   "id": "3f733b5b",
   "metadata": {},
   "outputs": [],
   "source": [
    "from dataclasses import dataclass\n",
    "from typing import Optional, Dict, Any\n",
    "\n",
    "def openai_gpt(prompt: str) -> str: return f\"[openai:gpt] {prompt[:40]}...\"\n",
    "def bedrock_claude(prompt: str) -> str: return f\"[bedrock:claude] {prompt[:40]}...\"\n",
    "\n",
    "REGISTRY: Dict[str, Any] = {\n",
    "    \"openai:gpt-5-mini\": openai_gpt,\n",
    "    \"aws:claude-3-7\": bedrock_claude,\n",
    "}\n",
    "\n",
    "@dataclass\n",
    "class Ctx:\n",
    "    model: Optional[str]\n",
    "    prompt: str\n",
    "\n",
    "def pick_model(ctx: Ctx):\n",
    "    # TODO: wybierz funkcję z REGISTRY na podstawie ctx.model; wpp. domyślny openai:gpt-5-mini\n",
    "    return REGISTRY.get(ctx.model or \"\", REGISTRY[\"openai:gpt-5-mini\"])\n",
    "\n",
    "fn = pick_model(Ctx(\"aws:claude-3-7\",\"Hello\"))\n",
    "print(fn(\"Test\"))"
   ]
  },
  {
   "cell_type": "markdown",
   "id": "4908a1fc",
   "metadata": {},
   "source": [
    "## Zadanie 2 — Fallback + log kosztu"
   ]
  },
  {
   "cell_type": "code",
   "execution_count": null,
   "id": "a96f311a",
   "metadata": {},
   "outputs": [],
   "source": [
    "COSTS = {\"openai:gpt-5-mini\":0.0003,\"aws:claude-3-7\":0.0005}\n",
    "def run(ctx: Ctx):\n",
    "    try:\n",
    "        fn = pick_model(ctx)\n",
    "        out = fn(ctx.prompt)\n",
    "        key = ctx.model if ctx.model in REGISTRY else \"openai:gpt-5-mini\"\n",
    "    except Exception:\n",
    "        out = REGISTRY[\"openai:gpt-5-mini\"](ctx.prompt)  # TODO: fallback\n",
    "        key = \"openai:gpt-5-mini\"\n",
    "    log = {\"model\": key, \"est_cost_per_1k\": COSTS.get(key,0.0)}  # TODO: realnie po tokenach\n",
    "    return out, log\n",
    "print(run(Ctx(\"aws:claude-3-7\",\"Krótka odpowiedź o Pythonie.\")))"
   ]
  },
  {
   "cell_type": "markdown",
   "id": "61657bdf",
   "metadata": {},
   "source": [
    "## Zadanie 3 — Human-in-the-Loop (approve/edit/reject)"
   ]
  },
  {
   "cell_type": "code",
   "execution_count": null,
   "id": "b37e073c",
   "metadata": {},
   "outputs": [],
   "source": [
    "from enum import Enum\n",
    "class Decision(str, Enum):\n",
    "    approve=\"approve\"; edit=\"edit\"; reject=\"reject\"\n",
    "\n",
    "def hitl(output: str, decision: Decision, edited: str|None=None) -> str:\n",
    "    # TODO: jeśli approve->output; edit->edited; reject->komunikat o odrzuceniu\n",
    "    if decision==Decision.approve: return output\n",
    "    if decision==Decision.edit and edited: return edited\n",
    "    if decision==Decision.reject: return \"[REJECTED] Do poprawy.\"\n",
    "    return output\n",
    "\n",
    "final = hitl(*run(Ctx(\"openai:gpt-5-mini\",\"Streszcz Python w 1 zdaniu.\"))[0:1], decision=Decision.edit)  # przykładowe użycie\n",
    "print(final)"
   ]
  }
 ],
 "metadata": {
  "kernelspec": {
   "display_name": "Python 3",
   "language": "python",
   "name": "python3"
  },
  "language_info": {
   "name": "python",
   "version": "3.x"
  }
 },
 "nbformat": 4,
 "nbformat_minor": 5
}
