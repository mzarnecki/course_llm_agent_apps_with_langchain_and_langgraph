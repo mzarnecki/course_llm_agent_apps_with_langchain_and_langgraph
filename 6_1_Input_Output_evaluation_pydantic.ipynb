{
 "cells": [
  {
   "metadata": {},
   "cell_type": "markdown",
   "source": "## Walidacja wejścia i wyjścia z wykorzystaniem Pydantic",
   "id": "3d1eee3b3351b683"
  },
  {
   "cell_type": "code",
   "id": "initial_id",
   "metadata": {
    "collapsed": true,
    "ExecuteTime": {
     "end_time": "2025-09-14T18:17:21.370525Z",
     "start_time": "2025-09-14T18:17:16.640364Z"
    }
   },
   "source": [
    "from pydantic import BaseModel, Field\n",
    "from typing import List\n",
    "from langchain_openai import ChatOpenAI\n",
    "from langchain_core.prompts import ChatPromptTemplate\n",
    "import dotenv\n",
    "\n",
    "dotenv.load_dotenv()\n",
    "\n",
    "# 3a) Definicja schematu wyjścia (Pydantic)\n",
    "class CityGuide(BaseModel):\n",
    "    city: str = Field(..., description=\"Miasto, którego dotyczy przewodnik\")\n",
    "    summary: str = Field(..., description=\"Krótki opis miasta (2–3 zdania)\")\n",
    "    must_do: List[str] = Field(..., description=\"Lista 3–5 rzeczy do zrobienia\")\n",
    "\n",
    "# 3b) LLM + structured output\n",
    "llm = ChatOpenAI(model=\"gpt-4o-mini\", temperature=0)\n",
    "structured_llm = llm.with_structured_output(CityGuide)\n",
    "\n",
    "prompt = ChatPromptTemplate.from_messages([\n",
    "    (\"system\", \"Jesteś ekspertem od podróży. Odpowiadaj po polsku, zwięźle.\"),\n",
    "    (\"user\", \"Stwórz krótki przewodnik po {city} dla {days}-dniowej wizyty.\")\n",
    "])\n",
    "\n",
    "chain = prompt | structured_llm\n",
    "\n",
    "# 3c) (opcjonalnie) walidacja wejścia Pydantic + wywołanie łańcucha\n",
    "from pydantic import BaseModel, Field\n",
    "\n",
    "class GuideRequest(BaseModel):\n",
    "    city: str = Field(min_length=2)\n",
    "    days: int = Field(ge=1, le=7)\n",
    "\n",
    "req = GuideRequest(city=\"Poznań\", days=2)\n",
    "\n",
    "result: CityGuide = chain.invoke(req.model_dump())  # <- dostajesz OBIEKT Pydantic!\n",
    "print(result)                         # CityGuide(city=..., summary=..., must_do=[...])\n",
    "print(result.model_dump_json(indent=2))  # JSON gotowy do zapisu/transportu"
   ],
   "outputs": [
    {
     "name": "stdout",
     "output_type": "stream",
     "text": [
      "city='Poznań' summary='Poznań to jedno z najstarszych miast w Polsce, znane z bogatej historii, pięknej architektury i tętniącej życiem atmosfery. To idealne miejsce na krótki wypad, oferujące zarówno zabytki, jak i nowoczesne atrakcje.' must_do=['Odwiedź Stary Rynek i zobacz ratusz z koziołkami.', 'Spaceruj po Ostrówie Tumskim, historycznej wyspie z katedrą.', 'Zrelaksuj się w Parku Cytadela, gdzie znajdziesz muzea i piękne tereny zielone.', 'Spróbuj lokalnych specjałów w jednej z restauracji, np. pyry z gzikiem.', 'Zobacz Muzeum Narodowe z bogatą kolekcją sztuki.']\n",
      "{\n",
      "  \"city\": \"Poznań\",\n",
      "  \"summary\": \"Poznań to jedno z najstarszych miast w Polsce, znane z bogatej historii, pięknej architektury i tętniącej życiem atmosfery. To idealne miejsce na krótki wypad, oferujące zarówno zabytki, jak i nowoczesne atrakcje.\",\n",
      "  \"must_do\": [\n",
      "    \"Odwiedź Stary Rynek i zobacz ratusz z koziołkami.\",\n",
      "    \"Spaceruj po Ostrówie Tumskim, historycznej wyspie z katedrą.\",\n",
      "    \"Zrelaksuj się w Parku Cytadela, gdzie znajdziesz muzea i piękne tereny zielone.\",\n",
      "    \"Spróbuj lokalnych specjałów w jednej z restauracji, np. pyry z gzikiem.\",\n",
      "    \"Zobacz Muzeum Narodowe z bogatą kolekcją sztuki.\"\n",
      "  ]\n",
      "}\n"
     ]
    }
   ],
   "execution_count": 2
  }
 ],
 "metadata": {
  "kernelspec": {
   "display_name": "Python 3",
   "language": "python",
   "name": "python3"
  },
  "language_info": {
   "codemirror_mode": {
    "name": "ipython",
    "version": 2
   },
   "file_extension": ".py",
   "mimetype": "text/x-python",
   "name": "python",
   "nbconvert_exporter": "python",
   "pygments_lexer": "ipython2",
   "version": "2.7.6"
  }
 },
 "nbformat": 4,
 "nbformat_minor": 5
}
