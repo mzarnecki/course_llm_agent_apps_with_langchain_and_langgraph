{
 "cells": [
  {
   "metadata": {
    "collapsed": true
   },
   "cell_type": "markdown",
   "source": "## String and comparison evaluation",
   "id": "8843f9eae98bb3a4"
  },
  {
   "metadata": {},
   "cell_type": "code",
   "outputs": [],
   "execution_count": null,
   "source": [
    "### LangSmith (tracing) — opcjonalnie\n",
    "# włącz śledzenie (jeśli masz konto)\n",
    "# Opcjonalnie (wymaga konta):\n",
    "# os.environ[\"LANGSMITH_TRACING\"] = \"true\"\n",
    "# os.environ[\"LANGSMITH_API_KEY\"] = \"<TWÓJ_KLUCZ>\"\n",
    "# os.environ[\"LANGSMITH_PROJECT\"] = \"kurs-demo\"\n",
    "print(\"LangSmith: ustaw zmienne środowiskowe, aby włączyć tracing.\")"
   ],
   "id": "68ff02d966926bc4"
  },
  {
   "metadata": {},
   "cell_type": "markdown",
   "source": "### Embedding Distance Evaluator",
   "id": "d97458f8894ba508"
  },
  {
   "metadata": {},
   "cell_type": "code",
   "outputs": [],
   "execution_count": null,
   "source": [
    "from langchain.evaluation import load_evaluator\n",
    "\n",
    "evaluator = load_evaluator(\"embedding_distance\", embeddings_model=\"openai\")\n",
    "\n",
    "result = evaluator.evaluate_strings(\n",
    "    prediction=\"Stolica Polski to Warszawa\",\n",
    "    reference=\"Warszawa jest stolicą Polski\"\n",
    ")\n",
    "\n",
    "print(result)  # {'score': 0.95, 'reasoning': 'Wysokie podobieństwo semantyczne'}\n"
   ],
   "id": "abf878369f056ddc"
  },
  {
   "metadata": {},
   "cell_type": "markdown",
   "source": "### String Comparison Evaluator",
   "id": "f51fedf1acbb83eb"
  },
  {
   "metadata": {},
   "cell_type": "code",
   "outputs": [],
   "execution_count": null,
   "source": [
    "evaluator = load_evaluator(\"string_distance\", metric=\"bleu\")\n",
    "\n",
    "result = evaluator.evaluate_strings(\n",
    "    prediction=\"Warsaw is the capital of Poland\",\n",
    "    reference=\"The capital of Poland is Warsaw\"\n",
    ")\n",
    "\n",
    "print(result)  # {'score': 0.72}\n"
   ],
   "id": "b056b0e4a33539e5"
  },
  {
   "metadata": {},
   "cell_type": "markdown",
   "source": "### A/B Testing",
   "id": "1c0bc677b17e562e"
  },
  {
   "metadata": {},
   "cell_type": "code",
   "outputs": [],
   "execution_count": null,
   "source": [
    "from langchain.evaluation import PairwiseStringEvaluator\n",
    "\n",
    "evaluator = PairwiseStringEvaluator()\n",
    "\n",
    "result = evaluator.evaluate_string_pairs(\n",
    "    prediction=\"Warsaw is the capital of Poland\",\n",
    "    prediction_b=\"The capital city of Poland is Warsaw\",\n",
    "    reference=\"Warsaw is Poland's capital\"\n",
    ")\n",
    "\n",
    "print(result)  # np. {'winner': 'prediction_b', 'score': 0.9}\n"
   ],
   "id": "99cf12d4d38fb415"
  }
 ],
 "metadata": {
  "kernelspec": {
   "display_name": "Python 3",
   "language": "python",
   "name": "python3"
  },
  "language_info": {
   "codemirror_mode": {
    "name": "ipython",
    "version": 2
   },
   "file_extension": ".py",
   "mimetype": "text/x-python",
   "name": "python",
   "nbconvert_exporter": "python",
   "pygments_lexer": "ipython2",
   "version": "2.7.6"
  }
 },
 "nbformat": 4,
 "nbformat_minor": 5
}
