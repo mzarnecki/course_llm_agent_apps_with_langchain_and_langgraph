{
 "cells": [
  {
   "metadata": {
    "collapsed": true
   },
   "cell_type": "markdown",
   "source": "## String and comparison evaluation",
   "id": "8843f9eae98bb3a4"
  },
  {
   "metadata": {},
   "cell_type": "code",
   "outputs": [],
   "execution_count": null,
   "source": [
    "### LangSmith (tracing) — opcjonalnie\n",
    "# włącz śledzenie (jeśli masz konto)\n",
    "# Opcjonalnie (wymaga konta):\n",
    "# os.environ[\"LANGSMITH_TRACING\"] = \"true\"\n",
    "# os.environ[\"LANGSMITH_API_KEY\"] = \"<TWÓJ_KLUCZ>\"\n",
    "# os.environ[\"LANGSMITH_PROJECT\"] = \"kurs-demo\"\n",
    "print(\"LangSmith: ustaw zmienne środowiskowe, aby włączyć tracing.\")"
   ],
   "id": "68ff02d966926bc4"
  },
  {
   "metadata": {},
   "cell_type": "markdown",
   "source": "### Embedding Distance Evaluator",
   "id": "d97458f8894ba508"
  },
  {
   "metadata": {},
   "cell_type": "code",
   "outputs": [],
   "execution_count": null,
   "source": [
    "from langchain.evaluation import load_evaluator\n",
    "\n",
    "evaluator = load_evaluator(\"embedding_distance\", embeddings_model=\"openai\")\n",
    "\n",
    "result = evaluator.evaluate_strings(\n",
    "    prediction=\"Stolica Polski to Warszawa\",\n",
    "    reference=\"Warszawa jest stolicą Polski\"\n",
    ")\n",
    "\n",
    "print(result)  # {'score': 0.95, 'reasoning': 'Wysokie podobieństwo semantyczne'}\n"
   ],
   "id": "abf878369f056ddc"
  },
  {
   "metadata": {},
   "cell_type": "markdown",
   "source": "### String Comparison Evaluator",
   "id": "f51fedf1acbb83eb"
  },
  {
   "metadata": {},
   "cell_type": "code",
   "outputs": [],
   "execution_count": null,
   "source": [
    "evaluator = load_evaluator(\"string_distance\", metric=\"bleu\")\n",
    "\n",
    "result = evaluator.evaluate_strings(\n",
    "    prediction=\"Warsaw is the capital of Poland\",\n",
    "    reference=\"The capital of Poland is Warsaw\"\n",
    ")\n",
    "\n",
    "print(result)  # {'score': 0.72}\n"
   ],
   "id": "b056b0e4a33539e5"
  },
  {
   "metadata": {},
   "cell_type": "code",
   "outputs": [],
   "execution_count": null,
   "source": [
    "from langchain.evaluation import load_evaluator\n",
    "\n",
    "# BLEU evaluator\n",
    "bleu_eval = load_evaluator(\"string_distance\", metric=\"bleu\")\n",
    "\n",
    "result_bleu = bleu_eval.evaluate_strings(\n",
    "    prediction=\"Warsaw is the capital of Poland\",\n",
    "    reference=\"The capital of Poland is Warsaw\"\n",
    ")\n",
    "print(\"BLEU:\", result_bleu)\n",
    "\n",
    "# ROUGE evaluator\n",
    "rouge_eval = load_evaluator(\"string_distance\", metric=\"rouge\")\n",
    "\n",
    "result_rouge = rouge_eval.evaluate_strings(\n",
    "    prediction=\"Warsaw is capital\",\n",
    "    reference=\"Warsaw is the capital of Poland\"\n",
    ")\n",
    "print(\"ROUGE:\", result_rouge)\n",
    "\n",
    "# METEOR evaluator\n",
    "meteor_eval = load_evaluator(\"string_distance\", metric=\"meteor\")\n",
    "\n",
    "result_meteor = meteor_eval.evaluate_strings(\n",
    "    prediction=\"The dog runs quickly\",\n",
    "    reference=\"The dog is running fast\"\n",
    ")\n",
    "print(\"METEOR:\", result_meteor)\n"
   ],
   "id": "c360ac20053cc1cb"
  },
  {
   "metadata": {},
   "cell_type": "markdown",
   "source": "### A/B Testing",
   "id": "1c0bc677b17e562e"
  },
  {
   "metadata": {},
   "cell_type": "code",
   "outputs": [],
   "execution_count": null,
   "source": [
    "from langchain.evaluation import PairwiseStringEvaluator\n",
    "\n",
    "evaluator = PairwiseStringEvaluator()\n",
    "\n",
    "result = evaluator.evaluate_string_pairs(\n",
    "    prediction=\"Warsaw is the capital of Poland\",\n",
    "    prediction_b=\"The capital city of Poland is Warsaw\",\n",
    "    reference=\"Warsaw is Poland's capital\"\n",
    ")\n",
    "\n",
    "print(result)  # np. {'winner': 'prediction_b', 'score': 0.9}\n"
   ],
   "id": "99cf12d4d38fb415"
  },
  {
   "metadata": {},
   "cell_type": "markdown",
   "source": "### Evaluate LLM by LLM",
   "id": "498d46b178a8c225"
  },
  {
   "metadata": {},
   "cell_type": "code",
   "outputs": [],
   "execution_count": null,
   "source": [
    "### Evaluate LLM by LLM\n",
    "# before start fill env variables .env file:\n",
    "# LANGCHAIN_API_KEY=\"put_here_your_langchain(langsmith)_api_token\"\n",
    "# OPENAI_API_KEY=\"put_here_your_openai_token\"\n",
    "# HUGGINGFACE_API_TOKEN=\"put_here_your_huggingface_token\"\n",
    "# to use OpenAI API you need to add billing details https://platform.openai.com/settings/organization/billing/overview\n",
    "# for langchain token remember to add read permissions associated with token\n",
    "from dotenv import load_dotenv\n",
    "from langchain.chains import LLMChain\n",
    "from langchain.prompts.prompt import PromptTemplate\n",
    "from langchain.llms import OpenAI\n",
    "from langchain_openai import ChatOpenAI\n",
    "from langchain.evaluation import load_evaluator\n",
    "\n",
    "#load dotenv (API key from .env)\n",
    "load_dotenv()"
   ],
   "id": "9f1adf5dd6ef7976"
  },
  {
   "metadata": {},
   "cell_type": "code",
   "outputs": [],
   "execution_count": null,
   "source": [
    "llm = ChatOpenAI(model_name=\"gpt-4o\")\n",
    "template = \"\"\"\n",
    "You are base of knowledge about star wars. Respond to question below with only name without any additional text.\n",
    "{input}\n",
    "\"\"\"\n",
    "prompt_template = PromptTemplate.from_template(template=template)\n",
    "chain = LLMChain(llm=llm, prompt=prompt_template)\n",
    "prediction = chain.predict(input=\"What is the capital of star wars Sith Empire?\")\n",
    "\n",
    "evaluator = load_evaluator(\"labeled_score_string\", llm=ChatOpenAI(model=\"gpt-4o\"))\n",
    "eval_result = evaluator.evaluate_strings(\n",
    "    prediction=prediction,\n",
    "    reference=\"Dromund Kaas\",\n",
    "    input=\"What is the capital of star wars Sith Empire?\",\n",
    ")\n",
    "print(eval_result)"
   ],
   "id": "fec00ff98e795156"
  },
  {
   "metadata": {},
   "cell_type": "code",
   "outputs": [],
   "execution_count": null,
   "source": [
    "model = OpenAI(temperature=0)\n",
    "template = \"\"\"You are an expert in grading answers.\n",
    "You are grading the following question:\n",
    "{query}\n",
    "Here is the correct expected answer:\n",
    "{answer}\n",
    "You are grading the following predicted answer:\n",
    "{result}\n",
    "What grade do you give from 0 to 5, where 0 is the lowest for low similarity and 5 is for the high similarity?\n",
    "\"\"\"\n",
    "\n",
    "prompt = PromptTemplate(\n",
    "    input_variables=[\"query\", \"answer\", \"result\"], template=template\n",
    ")"
   ],
   "id": "b348fa1178dc88f2"
  },
  {
   "metadata": {},
   "cell_type": "code",
   "outputs": [],
   "execution_count": null,
   "source": [
    "context_examples = [\n",
    "    {\n",
    "        \"question\": \"Why people don't brief underwater?\",\n",
    "        \"context\": \"Because people don't have gills\",\n",
    "    },\n",
    "    {\n",
    "        \"question\": \"Why the sky is blue?\",\n",
    "        \"context\": \"Sky isn't blue. Its just optical effect related to sun rays coming to eye through atmosphere and interpretation in our mind.\",\n",
    "    },\n",
    "    {\n",
    "        \"question\": \"What is in my pocket?\",\n",
    "        \"context\": \"\",\n",
    "    },\n",
    "]\n",
    "prompt_qa = \"Answer the question based on the  context\\nContext:{context}\\nQuestion:{question}\\nAnswer:\"\n",
    "template = PromptTemplate(input_variables=[\"context\", \"question\"], template=prompt_qa)\n",
    "qa_chain = LLMChain(llm=model, prompt=template)\n",
    "predictions = qa_chain.apply(context_examples)\n",
    "predictions"
   ],
   "id": "1ced50c2cc0a4f8e"
  },
  {
   "metadata": {},
   "cell_type": "code",
   "outputs": [],
   "execution_count": null,
   "source": [
    "from langchain.evaluation.qa import ContextQAEvalChain\n",
    "\n",
    "eval_chain = ContextQAEvalChain.from_llm(model)\n",
    "graded_outputs = eval_chain.evaluate(\n",
    "    context_examples, predictions, question_key=\"question\", prediction_key=\"text\"\n",
    ")\n",
    "print(graded_outputs)"
   ],
   "id": "72ae1694f489b76f"
  }
 ],
 "metadata": {
  "kernelspec": {
   "display_name": "Python 3",
   "language": "python",
   "name": "python3"
  },
  "language_info": {
   "codemirror_mode": {
    "name": "ipython",
    "version": 2
   },
   "file_extension": ".py",
   "mimetype": "text/x-python",
   "name": "python",
   "nbconvert_exporter": "python",
   "pygments_lexer": "ipython2",
   "version": "2.7.6"
  }
 },
 "nbformat": 4,
 "nbformat_minor": 5
}
