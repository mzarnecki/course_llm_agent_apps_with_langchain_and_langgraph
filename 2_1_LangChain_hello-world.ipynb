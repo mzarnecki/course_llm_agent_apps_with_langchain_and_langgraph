{
 "cells": [
  {
   "metadata": {},
   "cell_type": "markdown",
   "source": "## 2.1. LangChain Hello World!",
   "id": "4c85647bfca48639"
  },
  {
   "metadata": {
    "ExecuteTime": {
     "end_time": "2025-08-24T16:01:51.365043Z",
     "start_time": "2025-08-24T16:01:50.419846Z"
    }
   },
   "cell_type": "code",
   "source": [
    "# przed uruchomeiniem notebooka upewnij się, że posiadasz zainstalowane środowisko Python i Jupyter Notebook - zalecana instalacja środowiska Anaconda https://www.anaconda.com/docs/getting-started/anaconda/install\n",
    "# instalacja potrzebnych pakietów (tylko raz)\n",
    "!pip install langchain-openai python-dotenv"
   ],
   "id": "2999805064e37d83",
   "outputs": [
    {
     "name": "stdout",
     "output_type": "stream",
     "text": [
      "Requirement already satisfied: langchain-openai in /home/michal/miniconda3/envs/GenAI_jupyter_notebook/lib/python3.12/site-packages (0.3.31)\r\n",
      "Requirement already satisfied: python-dotenv in /home/michal/miniconda3/envs/GenAI_jupyter_notebook/lib/python3.12/site-packages (1.1.1)\r\n",
      "Requirement already satisfied: langchain-core<1.0.0,>=0.3.74 in /home/michal/miniconda3/envs/GenAI_jupyter_notebook/lib/python3.12/site-packages (from langchain-openai) (0.3.74)\r\n",
      "Requirement already satisfied: openai<2.0.0,>=1.99.9 in /home/michal/miniconda3/envs/GenAI_jupyter_notebook/lib/python3.12/site-packages (from langchain-openai) (1.101.0)\r\n",
      "Requirement already satisfied: tiktoken<1,>=0.7 in /home/michal/miniconda3/envs/GenAI_jupyter_notebook/lib/python3.12/site-packages (from langchain-openai) (0.11.0)\r\n",
      "Requirement already satisfied: langsmith>=0.3.45 in /home/michal/miniconda3/envs/GenAI_jupyter_notebook/lib/python3.12/site-packages (from langchain-core<1.0.0,>=0.3.74->langchain-openai) (0.4.16)\r\n",
      "Requirement already satisfied: tenacity!=8.4.0,<10.0.0,>=8.1.0 in /home/michal/miniconda3/envs/GenAI_jupyter_notebook/lib/python3.12/site-packages (from langchain-core<1.0.0,>=0.3.74->langchain-openai) (9.1.2)\r\n",
      "Requirement already satisfied: jsonpatch<2.0,>=1.33 in /home/michal/miniconda3/envs/GenAI_jupyter_notebook/lib/python3.12/site-packages (from langchain-core<1.0.0,>=0.3.74->langchain-openai) (1.33)\r\n",
      "Requirement already satisfied: PyYAML>=5.3 in /home/michal/miniconda3/envs/GenAI_jupyter_notebook/lib/python3.12/site-packages (from langchain-core<1.0.0,>=0.3.74->langchain-openai) (6.0.2)\r\n",
      "Requirement already satisfied: typing-extensions>=4.7 in /home/michal/miniconda3/envs/GenAI_jupyter_notebook/lib/python3.12/site-packages (from langchain-core<1.0.0,>=0.3.74->langchain-openai) (4.12.2)\r\n",
      "Requirement already satisfied: packaging>=23.2 in /home/michal/miniconda3/envs/GenAI_jupyter_notebook/lib/python3.12/site-packages (from langchain-core<1.0.0,>=0.3.74->langchain-openai) (25.0)\r\n",
      "Requirement already satisfied: pydantic>=2.7.4 in /home/michal/miniconda3/envs/GenAI_jupyter_notebook/lib/python3.12/site-packages (from langchain-core<1.0.0,>=0.3.74->langchain-openai) (2.11.7)\r\n",
      "Requirement already satisfied: jsonpointer>=1.9 in /home/michal/miniconda3/envs/GenAI_jupyter_notebook/lib/python3.12/site-packages (from jsonpatch<2.0,>=1.33->langchain-core<1.0.0,>=0.3.74->langchain-openai) (3.0.0)\r\n",
      "Requirement already satisfied: anyio<5,>=3.5.0 in /home/michal/miniconda3/envs/GenAI_jupyter_notebook/lib/python3.12/site-packages (from openai<2.0.0,>=1.99.9->langchain-openai) (4.7.0)\r\n",
      "Requirement already satisfied: distro<2,>=1.7.0 in /home/michal/miniconda3/envs/GenAI_jupyter_notebook/lib/python3.12/site-packages (from openai<2.0.0,>=1.99.9->langchain-openai) (1.9.0)\r\n",
      "Requirement already satisfied: httpx<1,>=0.23.0 in /home/michal/miniconda3/envs/GenAI_jupyter_notebook/lib/python3.12/site-packages (from openai<2.0.0,>=1.99.9->langchain-openai) (0.28.1)\r\n",
      "Requirement already satisfied: jiter<1,>=0.4.0 in /home/michal/miniconda3/envs/GenAI_jupyter_notebook/lib/python3.12/site-packages (from openai<2.0.0,>=1.99.9->langchain-openai) (0.10.0)\r\n",
      "Requirement already satisfied: sniffio in /home/michal/miniconda3/envs/GenAI_jupyter_notebook/lib/python3.12/site-packages (from openai<2.0.0,>=1.99.9->langchain-openai) (1.3.0)\r\n",
      "Requirement already satisfied: tqdm>4 in /home/michal/miniconda3/envs/GenAI_jupyter_notebook/lib/python3.12/site-packages (from openai<2.0.0,>=1.99.9->langchain-openai) (4.67.1)\r\n",
      "Requirement already satisfied: idna>=2.8 in /home/michal/miniconda3/envs/GenAI_jupyter_notebook/lib/python3.12/site-packages (from anyio<5,>=3.5.0->openai<2.0.0,>=1.99.9->langchain-openai) (3.7)\r\n",
      "Requirement already satisfied: certifi in /home/michal/miniconda3/envs/GenAI_jupyter_notebook/lib/python3.12/site-packages (from httpx<1,>=0.23.0->openai<2.0.0,>=1.99.9->langchain-openai) (2025.8.3)\r\n",
      "Requirement already satisfied: httpcore==1.* in /home/michal/miniconda3/envs/GenAI_jupyter_notebook/lib/python3.12/site-packages (from httpx<1,>=0.23.0->openai<2.0.0,>=1.99.9->langchain-openai) (1.0.9)\r\n",
      "Requirement already satisfied: h11>=0.16 in /home/michal/miniconda3/envs/GenAI_jupyter_notebook/lib/python3.12/site-packages (from httpcore==1.*->httpx<1,>=0.23.0->openai<2.0.0,>=1.99.9->langchain-openai) (0.16.0)\r\n",
      "Requirement already satisfied: annotated-types>=0.6.0 in /home/michal/miniconda3/envs/GenAI_jupyter_notebook/lib/python3.12/site-packages (from pydantic>=2.7.4->langchain-core<1.0.0,>=0.3.74->langchain-openai) (0.7.0)\r\n",
      "Requirement already satisfied: pydantic-core==2.33.2 in /home/michal/miniconda3/envs/GenAI_jupyter_notebook/lib/python3.12/site-packages (from pydantic>=2.7.4->langchain-core<1.0.0,>=0.3.74->langchain-openai) (2.33.2)\r\n",
      "Requirement already satisfied: typing-inspection>=0.4.0 in /home/michal/miniconda3/envs/GenAI_jupyter_notebook/lib/python3.12/site-packages (from pydantic>=2.7.4->langchain-core<1.0.0,>=0.3.74->langchain-openai) (0.4.1)\r\n",
      "Requirement already satisfied: regex>=2022.1.18 in /home/michal/miniconda3/envs/GenAI_jupyter_notebook/lib/python3.12/site-packages (from tiktoken<1,>=0.7->langchain-openai) (2025.7.34)\r\n",
      "Requirement already satisfied: requests>=2.26.0 in /home/michal/miniconda3/envs/GenAI_jupyter_notebook/lib/python3.12/site-packages (from tiktoken<1,>=0.7->langchain-openai) (2.32.4)\r\n",
      "Requirement already satisfied: orjson>=3.9.14 in /home/michal/miniconda3/envs/GenAI_jupyter_notebook/lib/python3.12/site-packages (from langsmith>=0.3.45->langchain-core<1.0.0,>=0.3.74->langchain-openai) (3.11.2)\r\n",
      "Requirement already satisfied: requests-toolbelt>=1.0.0 in /home/michal/miniconda3/envs/GenAI_jupyter_notebook/lib/python3.12/site-packages (from langsmith>=0.3.45->langchain-core<1.0.0,>=0.3.74->langchain-openai) (1.0.0)\r\n",
      "Requirement already satisfied: zstandard>=0.23.0 in /home/michal/miniconda3/envs/GenAI_jupyter_notebook/lib/python3.12/site-packages (from langsmith>=0.3.45->langchain-core<1.0.0,>=0.3.74->langchain-openai) (0.24.0)\r\n",
      "Requirement already satisfied: charset_normalizer<4,>=2 in /home/michal/miniconda3/envs/GenAI_jupyter_notebook/lib/python3.12/site-packages (from requests>=2.26.0->tiktoken<1,>=0.7->langchain-openai) (3.3.2)\r\n",
      "Requirement already satisfied: urllib3<3,>=1.21.1 in /home/michal/miniconda3/envs/GenAI_jupyter_notebook/lib/python3.12/site-packages (from requests>=2.26.0->tiktoken<1,>=0.7->langchain-openai) (2.5.0)\r\n"
     ]
    }
   ],
   "execution_count": 3
  },
  {
   "cell_type": "code",
   "id": "initial_id",
   "metadata": {
    "collapsed": true,
    "ExecuteTime": {
     "end_time": "2025-08-24T15:16:25.391167Z",
     "start_time": "2025-08-24T15:16:22.007141Z"
    }
   },
   "source": [
    "# import bibliotek\n",
    "import os\n",
    "from dotenv import load_dotenv\n",
    "from langchain_openai import ChatOpenAI\n",
    "\n",
    "# wczytanie zmiennych środowiskowych z pliku .env\n",
    "load_dotenv()\n",
    "\n",
    "# pobranie klucza OpenAI\n",
    "api_key = os.getenv(\"OPENAI_API_KEY\")\n",
    "if not api_key:\n",
    "    raise ValueError(\"Brak klucza API w pliku .env!\")\n",
    "\n",
    "# utworzenie klienta API OpenAI z wybranym modelem\n",
    "llm = ChatOpenAI(model=\"gpt-4o-mini\", temperature=0)\n",
    "\n",
    "# prosty prompt i request do API LLM\n",
    "response = llm.invoke(\"Napisz krótkie pozdrowienie w języku polskim.\")\n",
    "\n",
    "print(\"Odpowiedź modelu:\\n\")\n",
    "print(response.content)\n"
   ],
   "outputs": [
    {
     "name": "stdout",
     "output_type": "stream",
     "text": [
      "Odpowiedź modelu:\n",
      "\n",
      "Cześć! Mam nadzieję, że masz wspaniały dzień! Pozdrawiam serdecznie!\n"
     ]
    }
   ],
   "execution_count": 2
  },
  {
   "metadata": {},
   "cell_type": "markdown",
   "source": "### Generowanie tekstu",
   "id": "1124603ed27c0a9"
  },
  {
   "metadata": {},
   "cell_type": "code",
   "outputs": [],
   "execution_count": null,
   "source": [
    "response = llm.invoke(\"Wygeneruj przepis na słodki sernik z tuńczykiem, brokułem i cebulą.\")\n",
    "\n",
    "print(\"Odpowiedź modelu:\\n\")\n",
    "print(response.content)"
   ],
   "id": "4bcecd4b93ac98f1"
  },
  {
   "metadata": {},
   "cell_type": "markdown",
   "source": "### Klasyfikacja",
   "id": "f5ee48d932b337f"
  },
  {
   "metadata": {
    "ExecuteTime": {
     "end_time": "2025-09-01T06:07:09.034218Z",
     "start_time": "2025-09-01T06:07:08.994891Z"
    }
   },
   "cell_type": "code",
   "source": [
    "articles = [\n",
    "    \"The government announced new tax reforms today.\",\n",
    "    \"The local team won the championship in a thrilling match.\",\n",
    "    \"New advancements in AI are reshaping the tech industry.\",\n",
    "    \"The art exhibit showcased contemporary works by emerging artists.\",\n",
    "    \"New guidelines for a healthy diet were published by the health department.\"\n",
    "]\n",
    "response = llm.invoke('Sklasyfikuj załączone teksty do grup \"Polityka\", \"Sport\", \"Technologia\", \"Kultura\", \"Zdrowie\".')\n",
    "\n",
    "print(\"Odpowiedź modelu:\\n\")\n",
    "print(response.content)"
   ],
   "id": "29165f1f81b5a7b9",
   "outputs": [
    {
     "ename": "NameError",
     "evalue": "name 'llm' is not defined",
     "output_type": "error",
     "traceback": [
      "\u001B[31m---------------------------------------------------------------------------\u001B[39m",
      "\u001B[31mNameError\u001B[39m                                 Traceback (most recent call last)",
      "\u001B[36mCell\u001B[39m\u001B[36m \u001B[39m\u001B[32mIn[2]\u001B[39m\u001B[32m, line 1\u001B[39m\n\u001B[32m----> \u001B[39m\u001B[32m1\u001B[39m response = \u001B[43mllm\u001B[49m.invoke(\u001B[33m\"\u001B[39m\u001B[33mNapisz krótkie pozdrowienie w języku polskim.\u001B[39m\u001B[33m\"\u001B[39m)\n\u001B[32m      3\u001B[39m \u001B[38;5;28mprint\u001B[39m(\u001B[33m\"\u001B[39m\u001B[33mOdpowiedź modelu:\u001B[39m\u001B[38;5;130;01m\\n\u001B[39;00m\u001B[33m\"\u001B[39m)\n\u001B[32m      4\u001B[39m \u001B[38;5;28mprint\u001B[39m(response.content)\n",
      "\u001B[31mNameError\u001B[39m: name 'llm' is not defined"
     ]
    }
   ],
   "execution_count": 2
  },
  {
   "metadata": {},
   "cell_type": "markdown",
   "source": "### Analiza sentymentu",
   "id": "b544986e777e52a"
  },
  {
   "metadata": {
    "ExecuteTime": {
     "end_time": "2025-09-01T06:11:35.703881Z",
     "start_time": "2025-09-01T06:11:35.684653Z"
    }
   },
   "cell_type": "code",
   "source": [
    "# Przykładowe recenzje\n",
    "reviews = [\n",
    "    \"This product is amazing! I loved it.\",\n",
    "    \"I am very disappointed. The product broke after one use.\",\n",
    "    \"It's okay, does the job but nothing special.\"\n",
    "]\n",
    "for review in reviews:\n",
    "    response = llm.invoke(f\"Oceń sentyment recenzji. Zwqróć tylko jedno słow (positiv, negativ, neutral): {review}\")\n",
    "\n",
    "print(\"Odpowiedź modelu:\\n\")\n",
    "print(response.content)"
   ],
   "id": "b4bc685457491afc",
   "outputs": [
    {
     "ename": "NameError",
     "evalue": "name 'llm' is not defined",
     "output_type": "error",
     "traceback": [
      "\u001B[31m---------------------------------------------------------------------------\u001B[39m",
      "\u001B[31mNameError\u001B[39m                                 Traceback (most recent call last)",
      "\u001B[36mCell\u001B[39m\u001B[36m \u001B[39m\u001B[32mIn[4]\u001B[39m\u001B[32m, line 1\u001B[39m\n\u001B[32m----> \u001B[39m\u001B[32m1\u001B[39m response = \u001B[43mllm\u001B[49m.invoke(\u001B[33m\"\u001B[39m\u001B[33mNapisz krótkie pozdrowienie w języku polskim.\u001B[39m\u001B[33m\"\u001B[39m)\n\u001B[32m      3\u001B[39m \u001B[38;5;28mprint\u001B[39m(\u001B[33m\"\u001B[39m\u001B[33mOdpowiedź modelu:\u001B[39m\u001B[38;5;130;01m\\n\u001B[39;00m\u001B[33m\"\u001B[39m)\n\u001B[32m      4\u001B[39m \u001B[38;5;28mprint\u001B[39m(response.content)\n",
      "\u001B[31mNameError\u001B[39m: name 'llm' is not defined"
     ]
    }
   ],
   "execution_count": 4
  },
  {
   "metadata": {},
   "cell_type": "markdown",
   "source": "### Analiza dokumentu",
   "id": "cfe6391cfa987531"
  },
  {
   "metadata": {
    "ExecuteTime": {
     "end_time": "2025-09-01T06:09:57.998255Z",
     "start_time": "2025-09-01T06:09:57.947407Z"
    }
   },
   "cell_type": "code",
   "source": [
    "file = open(\"data/annual_report.html\", \"r\")\n",
    "document = file.read()\n",
    "response = llm.invoke(f\"Przeanalizuj załaczony dokument i znajdź informacje na tematy rocznego przychodu firmy. {document}\")\n",
    "print(\"Odpowiedź modelu:\\n\")\n",
    "print(response.content)"
   ],
   "id": "5ecaf0f4709cf23",
   "outputs": [
    {
     "ename": "FileNotFoundError",
     "evalue": "[Errno 2] No such file or directory: 'data/annual_report.html'",
     "output_type": "error",
     "traceback": [
      "\u001B[31m---------------------------------------------------------------------------\u001B[39m",
      "\u001B[31mFileNotFoundError\u001B[39m                         Traceback (most recent call last)",
      "\u001B[36mCell\u001B[39m\u001B[36m \u001B[39m\u001B[32mIn[3]\u001B[39m\u001B[32m, line 1\u001B[39m\n\u001B[32m----> \u001B[39m\u001B[32m1\u001B[39m file = \u001B[38;5;28;43mopen\u001B[39;49m\u001B[43m(\u001B[49m\u001B[33;43m\"\u001B[39;49m\u001B[33;43mdata/annual_report.html\u001B[39;49m\u001B[33;43m\"\u001B[39;49m\u001B[43m,\u001B[49m\u001B[43m \u001B[49m\u001B[33;43m\"\u001B[39;49m\u001B[33;43mr\u001B[39;49m\u001B[33;43m\"\u001B[39;49m\u001B[43m)\u001B[49m\n\u001B[32m      2\u001B[39m document = file.read()\n\u001B[32m      3\u001B[39m \u001B[38;5;28mprint\u001B[39m(\u001B[33m\"\u001B[39m\u001B[33mOdpowiedź modelu:\u001B[39m\u001B[38;5;130;01m\\n\u001B[39;00m\u001B[33m\"\u001B[39m)\n",
      "\u001B[36mFile \u001B[39m\u001B[32m~/.local/lib/python3.13/site-packages/IPython/core/interactiveshell.py:343\u001B[39m, in \u001B[36m_modified_open\u001B[39m\u001B[34m(file, *args, **kwargs)\u001B[39m\n\u001B[32m    336\u001B[39m \u001B[38;5;28;01mif\u001B[39;00m file \u001B[38;5;129;01min\u001B[39;00m {\u001B[32m0\u001B[39m, \u001B[32m1\u001B[39m, \u001B[32m2\u001B[39m}:\n\u001B[32m    337\u001B[39m     \u001B[38;5;28;01mraise\u001B[39;00m \u001B[38;5;167;01mValueError\u001B[39;00m(\n\u001B[32m    338\u001B[39m         \u001B[33mf\u001B[39m\u001B[33m\"\u001B[39m\u001B[33mIPython won\u001B[39m\u001B[33m'\u001B[39m\u001B[33mt let you open fd=\u001B[39m\u001B[38;5;132;01m{\u001B[39;00mfile\u001B[38;5;132;01m}\u001B[39;00m\u001B[33m by default \u001B[39m\u001B[33m\"\u001B[39m\n\u001B[32m    339\u001B[39m         \u001B[33m\"\u001B[39m\u001B[33mas it is likely to crash IPython. If you know what you are doing, \u001B[39m\u001B[33m\"\u001B[39m\n\u001B[32m    340\u001B[39m         \u001B[33m\"\u001B[39m\u001B[33myou can use builtins\u001B[39m\u001B[33m'\u001B[39m\u001B[33m open.\u001B[39m\u001B[33m\"\u001B[39m\n\u001B[32m    341\u001B[39m     )\n\u001B[32m--> \u001B[39m\u001B[32m343\u001B[39m \u001B[38;5;28;01mreturn\u001B[39;00m \u001B[43mio_open\u001B[49m\u001B[43m(\u001B[49m\u001B[43mfile\u001B[49m\u001B[43m,\u001B[49m\u001B[43m \u001B[49m\u001B[43m*\u001B[49m\u001B[43margs\u001B[49m\u001B[43m,\u001B[49m\u001B[43m \u001B[49m\u001B[43m*\u001B[49m\u001B[43m*\u001B[49m\u001B[43mkwargs\u001B[49m\u001B[43m)\u001B[49m\n",
      "\u001B[31mFileNotFoundError\u001B[39m: [Errno 2] No such file or directory: 'data/annual_report.html'"
     ]
    }
   ],
   "execution_count": 3
  },
  {
   "metadata": {},
   "cell_type": "markdown",
   "source": "### Tłumaczenia maszynowe",
   "id": "f80dd7cc21e40740"
  },
  {
   "metadata": {},
   "cell_type": "code",
   "outputs": [],
   "execution_count": null,
   "source": [
    "response = llm.invoke(\"Przetłumacz poniższy tekst na język polski:\\n I'm foreigner and I don't speak german fluently.\")\n",
    "\n",
    "print(\"Odpowiedź modelu:\\n\")\n",
    "print(response.content)"
   ],
   "id": "817c691daa758421"
  },
  {
   "metadata": {},
   "cell_type": "markdown",
   "source": "### Question answering",
   "id": "97c5e19db3285a8a"
  },
  {
   "metadata": {},
   "cell_type": "code",
   "outputs": [],
   "execution_count": null,
   "source": [
    "response = llm.invoke(\"Odpowiedz na poniżesze pytania w oparciu o załaczony tekst.\")\n",
    "\n",
    "print(\"Odpowiedź modelu:\\n\")\n",
    "print(response.content)"
   ],
   "id": "189b2679404bf9c5"
  },
  {
   "metadata": {},
   "cell_type": "markdown",
   "source": "### Sumaryzacja",
   "id": "6c12729c6b0a3c77"
  },
  {
   "metadata": {
    "ExecuteTime": {
     "end_time": "2025-09-01T06:05:49.021673Z",
     "start_time": "2025-09-01T06:05:48.891559Z"
    }
   },
   "cell_type": "code",
   "source": [
    "file = open(\"data/nad_niemnem.txt\", \"r\")\n",
    "document = file.read()\n",
    "response = llm.invoke(f\"Napisz krótkie podsumowanie (ok. 500 słów) załączonego tekstu.\\n{document[:1800]}\")\n",
    "\n",
    "print(\"Odpowiedź modelu:\\n\")\n",
    "print(response.content)"
   ],
   "id": "82e5c070f2c9b660",
   "outputs": [
    {
     "ename": "NameError",
     "evalue": "name 'llm' is not defined",
     "output_type": "error",
     "traceback": [
      "\u001B[31m---------------------------------------------------------------------------\u001B[39m",
      "\u001B[31mNameError\u001B[39m                                 Traceback (most recent call last)",
      "\u001B[36mCell\u001B[39m\u001B[36m \u001B[39m\u001B[32mIn[1]\u001B[39m\u001B[32m, line 1\u001B[39m\n\u001B[32m----> \u001B[39m\u001B[32m1\u001B[39m response = \u001B[43mllm\u001B[49m.invoke(\u001B[33m\"\u001B[39m\u001B[33mNapisz krótkie pozdrowienie w języku polskim.\u001B[39m\u001B[33m\"\u001B[39m)\n\u001B[32m      3\u001B[39m \u001B[38;5;28mprint\u001B[39m(\u001B[33m\"\u001B[39m\u001B[33mOdpowiedź modelu:\u001B[39m\u001B[38;5;130;01m\\n\u001B[39;00m\u001B[33m\"\u001B[39m)\n\u001B[32m      4\u001B[39m \u001B[38;5;28mprint\u001B[39m(response.content)\n",
      "\u001B[31mNameError\u001B[39m: name 'llm' is not defined"
     ]
    }
   ],
   "execution_count": 1
  }
 ],
 "metadata": {
  "kernelspec": {
   "display_name": "Python 3",
   "language": "python",
   "name": "python3"
  },
  "language_info": {
   "codemirror_mode": {
    "name": "ipython",
    "version": 2
   },
   "file_extension": ".py",
   "mimetype": "text/x-python",
   "name": "python",
   "nbconvert_exporter": "python",
   "pygments_lexer": "ipython2",
   "version": "2.7.6"
  }
 },
 "nbformat": 4,
 "nbformat_minor": 5
}
