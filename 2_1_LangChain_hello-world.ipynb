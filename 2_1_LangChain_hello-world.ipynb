{
 "cells": [
  {
   "metadata": {},
   "cell_type": "markdown",
   "source": "## 2.1. LangChain Hello World!",
   "id": "4c85647bfca48639"
  },
  {
   "metadata": {
    "ExecuteTime": {
     "end_time": "2025-08-24T16:01:51.365043Z",
     "start_time": "2025-08-24T16:01:50.419846Z"
    }
   },
   "cell_type": "code",
   "source": [
    "# przed uruchomeiniem notebooka upewnij się, że posiadasz zainstalowane środowisko Python i Jupyter Notebook - zalecana instalacja środowiska Anaconda https://www.anaconda.com/docs/getting-started/anaconda/install\n",
    "# instalacja potrzebnych pakietów (tylko raz)\n",
    "!pip install langchain-openai python-dotenv"
   ],
   "id": "2999805064e37d83",
   "outputs": [
    {
     "name": "stdout",
     "output_type": "stream",
     "text": [
      "Requirement already satisfied: langchain-openai in /home/michal/miniconda3/envs/GenAI_jupyter_notebook/lib/python3.12/site-packages (0.3.31)\r\n",
      "Requirement already satisfied: python-dotenv in /home/michal/miniconda3/envs/GenAI_jupyter_notebook/lib/python3.12/site-packages (1.1.1)\r\n",
      "Requirement already satisfied: langchain-core<1.0.0,>=0.3.74 in /home/michal/miniconda3/envs/GenAI_jupyter_notebook/lib/python3.12/site-packages (from langchain-openai) (0.3.74)\r\n",
      "Requirement already satisfied: openai<2.0.0,>=1.99.9 in /home/michal/miniconda3/envs/GenAI_jupyter_notebook/lib/python3.12/site-packages (from langchain-openai) (1.101.0)\r\n",
      "Requirement already satisfied: tiktoken<1,>=0.7 in /home/michal/miniconda3/envs/GenAI_jupyter_notebook/lib/python3.12/site-packages (from langchain-openai) (0.11.0)\r\n",
      "Requirement already satisfied: langsmith>=0.3.45 in /home/michal/miniconda3/envs/GenAI_jupyter_notebook/lib/python3.12/site-packages (from langchain-core<1.0.0,>=0.3.74->langchain-openai) (0.4.16)\r\n",
      "Requirement already satisfied: tenacity!=8.4.0,<10.0.0,>=8.1.0 in /home/michal/miniconda3/envs/GenAI_jupyter_notebook/lib/python3.12/site-packages (from langchain-core<1.0.0,>=0.3.74->langchain-openai) (9.1.2)\r\n",
      "Requirement already satisfied: jsonpatch<2.0,>=1.33 in /home/michal/miniconda3/envs/GenAI_jupyter_notebook/lib/python3.12/site-packages (from langchain-core<1.0.0,>=0.3.74->langchain-openai) (1.33)\r\n",
      "Requirement already satisfied: PyYAML>=5.3 in /home/michal/miniconda3/envs/GenAI_jupyter_notebook/lib/python3.12/site-packages (from langchain-core<1.0.0,>=0.3.74->langchain-openai) (6.0.2)\r\n",
      "Requirement already satisfied: typing-extensions>=4.7 in /home/michal/miniconda3/envs/GenAI_jupyter_notebook/lib/python3.12/site-packages (from langchain-core<1.0.0,>=0.3.74->langchain-openai) (4.12.2)\r\n",
      "Requirement already satisfied: packaging>=23.2 in /home/michal/miniconda3/envs/GenAI_jupyter_notebook/lib/python3.12/site-packages (from langchain-core<1.0.0,>=0.3.74->langchain-openai) (25.0)\r\n",
      "Requirement already satisfied: pydantic>=2.7.4 in /home/michal/miniconda3/envs/GenAI_jupyter_notebook/lib/python3.12/site-packages (from langchain-core<1.0.0,>=0.3.74->langchain-openai) (2.11.7)\r\n",
      "Requirement already satisfied: jsonpointer>=1.9 in /home/michal/miniconda3/envs/GenAI_jupyter_notebook/lib/python3.12/site-packages (from jsonpatch<2.0,>=1.33->langchain-core<1.0.0,>=0.3.74->langchain-openai) (3.0.0)\r\n",
      "Requirement already satisfied: anyio<5,>=3.5.0 in /home/michal/miniconda3/envs/GenAI_jupyter_notebook/lib/python3.12/site-packages (from openai<2.0.0,>=1.99.9->langchain-openai) (4.7.0)\r\n",
      "Requirement already satisfied: distro<2,>=1.7.0 in /home/michal/miniconda3/envs/GenAI_jupyter_notebook/lib/python3.12/site-packages (from openai<2.0.0,>=1.99.9->langchain-openai) (1.9.0)\r\n",
      "Requirement already satisfied: httpx<1,>=0.23.0 in /home/michal/miniconda3/envs/GenAI_jupyter_notebook/lib/python3.12/site-packages (from openai<2.0.0,>=1.99.9->langchain-openai) (0.28.1)\r\n",
      "Requirement already satisfied: jiter<1,>=0.4.0 in /home/michal/miniconda3/envs/GenAI_jupyter_notebook/lib/python3.12/site-packages (from openai<2.0.0,>=1.99.9->langchain-openai) (0.10.0)\r\n",
      "Requirement already satisfied: sniffio in /home/michal/miniconda3/envs/GenAI_jupyter_notebook/lib/python3.12/site-packages (from openai<2.0.0,>=1.99.9->langchain-openai) (1.3.0)\r\n",
      "Requirement already satisfied: tqdm>4 in /home/michal/miniconda3/envs/GenAI_jupyter_notebook/lib/python3.12/site-packages (from openai<2.0.0,>=1.99.9->langchain-openai) (4.67.1)\r\n",
      "Requirement already satisfied: idna>=2.8 in /home/michal/miniconda3/envs/GenAI_jupyter_notebook/lib/python3.12/site-packages (from anyio<5,>=3.5.0->openai<2.0.0,>=1.99.9->langchain-openai) (3.7)\r\n",
      "Requirement already satisfied: certifi in /home/michal/miniconda3/envs/GenAI_jupyter_notebook/lib/python3.12/site-packages (from httpx<1,>=0.23.0->openai<2.0.0,>=1.99.9->langchain-openai) (2025.8.3)\r\n",
      "Requirement already satisfied: httpcore==1.* in /home/michal/miniconda3/envs/GenAI_jupyter_notebook/lib/python3.12/site-packages (from httpx<1,>=0.23.0->openai<2.0.0,>=1.99.9->langchain-openai) (1.0.9)\r\n",
      "Requirement already satisfied: h11>=0.16 in /home/michal/miniconda3/envs/GenAI_jupyter_notebook/lib/python3.12/site-packages (from httpcore==1.*->httpx<1,>=0.23.0->openai<2.0.0,>=1.99.9->langchain-openai) (0.16.0)\r\n",
      "Requirement already satisfied: annotated-types>=0.6.0 in /home/michal/miniconda3/envs/GenAI_jupyter_notebook/lib/python3.12/site-packages (from pydantic>=2.7.4->langchain-core<1.0.0,>=0.3.74->langchain-openai) (0.7.0)\r\n",
      "Requirement already satisfied: pydantic-core==2.33.2 in /home/michal/miniconda3/envs/GenAI_jupyter_notebook/lib/python3.12/site-packages (from pydantic>=2.7.4->langchain-core<1.0.0,>=0.3.74->langchain-openai) (2.33.2)\r\n",
      "Requirement already satisfied: typing-inspection>=0.4.0 in /home/michal/miniconda3/envs/GenAI_jupyter_notebook/lib/python3.12/site-packages (from pydantic>=2.7.4->langchain-core<1.0.0,>=0.3.74->langchain-openai) (0.4.1)\r\n",
      "Requirement already satisfied: regex>=2022.1.18 in /home/michal/miniconda3/envs/GenAI_jupyter_notebook/lib/python3.12/site-packages (from tiktoken<1,>=0.7->langchain-openai) (2025.7.34)\r\n",
      "Requirement already satisfied: requests>=2.26.0 in /home/michal/miniconda3/envs/GenAI_jupyter_notebook/lib/python3.12/site-packages (from tiktoken<1,>=0.7->langchain-openai) (2.32.4)\r\n",
      "Requirement already satisfied: orjson>=3.9.14 in /home/michal/miniconda3/envs/GenAI_jupyter_notebook/lib/python3.12/site-packages (from langsmith>=0.3.45->langchain-core<1.0.0,>=0.3.74->langchain-openai) (3.11.2)\r\n",
      "Requirement already satisfied: requests-toolbelt>=1.0.0 in /home/michal/miniconda3/envs/GenAI_jupyter_notebook/lib/python3.12/site-packages (from langsmith>=0.3.45->langchain-core<1.0.0,>=0.3.74->langchain-openai) (1.0.0)\r\n",
      "Requirement already satisfied: zstandard>=0.23.0 in /home/michal/miniconda3/envs/GenAI_jupyter_notebook/lib/python3.12/site-packages (from langsmith>=0.3.45->langchain-core<1.0.0,>=0.3.74->langchain-openai) (0.24.0)\r\n",
      "Requirement already satisfied: charset_normalizer<4,>=2 in /home/michal/miniconda3/envs/GenAI_jupyter_notebook/lib/python3.12/site-packages (from requests>=2.26.0->tiktoken<1,>=0.7->langchain-openai) (3.3.2)\r\n",
      "Requirement already satisfied: urllib3<3,>=1.21.1 in /home/michal/miniconda3/envs/GenAI_jupyter_notebook/lib/python3.12/site-packages (from requests>=2.26.0->tiktoken<1,>=0.7->langchain-openai) (2.5.0)\r\n"
     ]
    }
   ],
   "execution_count": 3
  },
  {
   "cell_type": "code",
   "id": "initial_id",
   "metadata": {
    "collapsed": true,
    "ExecuteTime": {
     "end_time": "2025-08-24T15:16:25.391167Z",
     "start_time": "2025-08-24T15:16:22.007141Z"
    }
   },
   "source": [
    "# import bibliotek\n",
    "import os\n",
    "from dotenv import load_dotenv\n",
    "from langchain_openai import ChatOpenAI\n",
    "\n",
    "# wczytanie zmiennych środowiskowych z pliku .env\n",
    "load_dotenv()\n",
    "\n",
    "# pobranie klucza OpenAI\n",
    "api_key = os.getenv(\"OPENAI_API_KEY\")\n",
    "if not api_key:\n",
    "    raise ValueError(\"Brak klucza API w pliku .env!\")\n",
    "\n",
    "# utworzenie klienta API OpenAI z wybranym modelem\n",
    "llm = ChatOpenAI(model=\"gpt-4o-mini\", temperature=0)\n",
    "\n",
    "# prosty prompt i request do API LLM\n",
    "response = llm.invoke(\"Napisz krótkie pozdrowienie w języku polskim.\")\n",
    "\n",
    "print(\"Odpowiedź modelu:\\n\")\n",
    "print(response.content)\n"
   ],
   "outputs": [
    {
     "name": "stdout",
     "output_type": "stream",
     "text": [
      "Odpowiedź modelu:\n",
      "\n",
      "Cześć! Mam nadzieję, że masz wspaniały dzień! Pozdrawiam serdecznie!\n"
     ]
    }
   ],
   "execution_count": 2
  },
  {
   "metadata": {},
   "cell_type": "code",
   "outputs": [],
   "execution_count": null,
   "source": "",
   "id": "4bcecd4b93ac98f1"
  }
 ],
 "metadata": {
  "kernelspec": {
   "display_name": "Python 3",
   "language": "python",
   "name": "python3"
  },
  "language_info": {
   "codemirror_mode": {
    "name": "ipython",
    "version": 2
   },
   "file_extension": ".py",
   "mimetype": "text/x-python",
   "name": "python",
   "nbconvert_exporter": "python",
   "pygments_lexer": "ipython2",
   "version": "2.7.6"
  }
 },
 "nbformat": 4,
 "nbformat_minor": 5
}
