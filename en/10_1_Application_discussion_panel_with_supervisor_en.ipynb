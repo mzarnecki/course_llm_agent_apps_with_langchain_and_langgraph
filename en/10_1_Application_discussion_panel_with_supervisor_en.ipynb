{
 "cells": [
  {
   "metadata": {},
   "cell_type": "markdown",
   "source": [
    "## Agent discussion panel"
   ],
   "id": "97bb0a906daf9217"
  },
  {
   "metadata": {},
   "cell_type": "markdown",
   "source": [
    "### Installing libraries"
   ],
   "id": "f345eb07549736a8"
  },
  {
   "metadata": {
    "collapsed": true,
    "ExecuteTime": {
     "end_time": "2025-09-21T15:31:09.249726Z",
     "start_time": "2025-09-21T15:31:07.261774Z"
    }
   },
   "cell_type": "code",
   "source": [
    "%%capture --no-stderr\n",
    "%pip install -U dotenv langchain_core langgraph langgraph-supervisor langchain-tavily \"langchain[openai]\""
   ],
   "id": "initial_id",
   "outputs": [],
   "execution_count": 27
  },
  {
   "metadata": {
    "ExecuteTime": {
     "end_time": "2025-09-21T15:31:09.263164Z",
     "start_time": "2025-09-21T15:31:09.259001Z"
    }
   },
   "cell_type": "code",
   "source": [
    "from dotenv import load_dotenv\n",
    "load_dotenv()"
   ],
   "id": "6ca5bedfb2dbd68f",
   "outputs": [
    {
     "data": {
      "text/plain": [
       "True"
      ]
     },
     "execution_count": 28,
     "metadata": {},
     "output_type": "execute_result"
    }
   ],
   "execution_count": 28
  },
  {
   "metadata": {
    "ExecuteTime": {
     "end_time": "2025-09-21T15:31:10.989684Z",
     "start_time": "2025-09-21T15:31:09.313414Z"
    }
   },
   "cell_type": "code",
   "source": [
    "from langchain_tavily import TavilySearch\n\nweb_search = TavilySearch(max_results=3)\nweb_search_results = web_search.invoke(\"Who is the president of Poland?\")\n\nprint(web_search_results[\"results\"][0][\"content\"])"
   ],
   "id": "620a7740e7f5eac7",
   "outputs": [
    {
     "name": "stdout",
     "output_type": "stream",
     "text": [
      "Andrzej Sebastian Duda (born 16 May 1972) is a Polish lawyer and politician who served as the sixth president of Poland from 2015 to 2025.\n"
     ]
    }
   ],
   "execution_count": 29
  },
  {
   "metadata": {},
   "cell_type": "markdown",
   "source": [
    "### Helper functions"
   ],
   "id": "fb07bbe68f6aa9ca"
  },
  {
   "metadata": {
    "ExecuteTime": {
     "end_time": "2025-09-21T15:31:11.048422Z",
     "start_time": "2025-09-21T15:31:11.044491Z"
    }
   },
   "cell_type": "code",
   "source": [
    "from langchain_core.messages import convert_to_messages\n",
    "\n",
    "\n",
    "def pretty_print_message(message, indent=False):\n",
    "    pretty_message = message.pretty_repr(html=True)\n",
    "    if not indent:\n",
    "        print(pretty_message)\n",
    "        return\n",
    "\n",
    "    indented = \"\\n\".join(\"\\t\" + c for c in pretty_message.split(\"\\n\"))\n",
    "    print(indented)\n",
    "\n",
    "\n",
    "def pretty_print_messages(update, last_message=False):\n",
    "    is_subgraph = False\n",
    "    if isinstance(update, tuple):\n",
    "        ns, update = update\n",
    "        # skip parent graph updates in the printouts\n",
    "        if len(ns) == 0:\n",
    "            return\n",
    "\n",
    "        graph_id = ns[-1].split(\":\")[0]\n",
    "        print(f\"Update from subgraph {graph_id}:\")\n",
    "        print(\"\\n\")\n",
    "        is_subgraph = True\n",
    "\n",
    "    for node_name, node_update in update.items():\n",
    "        update_label = f\"Update from node {node_name}:\"\n",
    "        if is_subgraph:\n",
    "            update_label = \"\\t\" + update_label\n",
    "\n",
    "        print(update_label)\n",
    "        print(\"\\n\")\n",
    "\n",
    "        messages = convert_to_messages(node_update[\"messages\"])\n",
    "        if last_message:\n",
    "            messages = messages[-1:]\n",
    "\n",
    "        for m in messages:\n",
    "            pretty_print_message(m, indent=is_subgraph)\n",
    "        print(\"\\n\")"
   ],
   "id": "6b17048f5fa7d99c",
   "outputs": [],
   "execution_count": 30
  },
  {
   "metadata": {},
   "cell_type": "markdown",
   "source": [
    "### Researcher agent"
   ],
   "id": "6af42764d7f3e8af"
  },
  {
   "metadata": {
    "ExecuteTime": {
     "end_time": "2025-09-21T15:31:11.109107Z",
     "start_time": "2025-09-21T15:31:11.093569Z"
    }
   },
   "cell_type": "code",
   "source": [
    "from langgraph.prebuilt import create_react_agent\n",
    "\n",
    "research_agent = create_react_agent(\n",
    "    model=\"openai:gpt-4.1\",\n",
    "    tools=[web_search],\n",
    "    prompt=(\n",
    "\"You're the Researcher. You have access to fragments from the 'search engine' (RESEARCH).\\n\"\n",
    "\"Your goal is to provide factual, concise facts and data supporting the topic.\\n\"\n",
    "\"Refer to the fragments and do not invent. Write concisely and briefly.\"\n",
    "\"- After you finish your task, respond directly to the moderator\\n\"\n",
    "\"- Reply using only the results of your work, do not include the text.\"\n",
    "    ),\n",
    "    name=\"research_agent\",\n",
    ")"
   ],
   "id": "cb0e40cf498c9fbb",
   "outputs": [],
   "execution_count": 31
  },
  {
   "metadata": {},
   "cell_type": "markdown",
   "source": [
    "### Expert agent"
   ],
   "id": "839d318a9bca3ce1"
  },
  {
   "metadata": {
    "ExecuteTime": {
     "end_time": "2025-09-21T15:31:11.149702Z",
     "start_time": "2025-09-21T15:31:11.145530Z"
    }
   },
   "cell_type": "code",
   "source": [
    "expert_agent = create_react_agent(\n",
    "    model=\"openai:gpt-4.1\",\n",
    "    tools=[],\n",
    "    prompt=(\n",
    "\"You're the Expert. From the available facts, propose a practical solution/plan.\\n\"\n",
    "\"Include steps, requirements, and a minimal set of decisions. Write concretely.\"\n",
    "\"- After you finish your task, respond directly to the moderator\\n\"\n",
    "\"- Reply using only the results of your work, do not include the text.\"\n",
    "    ),\n",
    "    name=\"expert_agent\",\n",
    ")"
   ],
   "id": "ffb970d0000fdfd",
   "outputs": [],
   "execution_count": 32
  },
  {
   "metadata": {},
   "cell_type": "markdown",
   "source": "### Agent critic",
   "id": "f4db62c730e30b99"
  },
  {
   "metadata": {
    "ExecuteTime": {
     "end_time": "2025-09-21T15:31:11.201624Z",
     "start_time": "2025-09-21T15:31:11.196372Z"
    }
   },
   "cell_type": "code",
   "source": [
    "critic_agent = create_react_agent(\n",
    "    model=\"openai:gpt-4.1\",\n",
    "    tools=[],\n",
    "    prompt=(\n",
    "\"You're the Critic. Your role is to find gaps, risks, and ambiguities in the proposal.\\n\"\n",
    "\"Ask probing questions and point out missing elements. Be constructive.\"\n",
    "\"- After you finish your task, respond directly to the moderator\\n\"\n",
    "\"- Reply using only the results of your work, do not include the text.\"\n",
    "    ),\n",
    "    name=\"critic_agent\",\n",
    ")"
   ],
   "id": "1437892b80c930bb",
   "outputs": [],
   "execution_count": 33
  },
  {
   "metadata": {
    "ExecuteTime": {
     "end_time": "2025-09-21T15:31:11.265726Z",
     "start_time": "2025-09-21T15:31:11.246450Z"
    }
   },
   "cell_type": "code",
   "source": [
    "from typing import Annotated\n",
    "from langchain_core.tools import tool, InjectedToolCallId\n",
    "from langgraph.prebuilt import InjectedState\n",
    "from langgraph.graph import StateGraph, START, MessagesState\n",
    "from langgraph.types import Command\n",
    "\n",
    "\n",
    "def create_handoff_tool(*, agent_name: str, description: str | None = None):\n",
    "    name = f\"transfer_to_{agent_name}\"\n",
    "    description = description or f\"Ask {agent_name} for help.\"\n",
    "\n",
    "    @tool(name, description=description)\n",
    "    def handoff_tool(\n",
    "        state: Annotated[MessagesState, InjectedState],\n",
    "        tool_call_id: Annotated[str, InjectedToolCallId],\n",
    "    ) -> Command:\n",
    "        tool_message = {\n",
    "            \"role\": \"tool\",\n",
    "            \"content\": f\"Successfully transferred to {agent_name}\",\n",
    "            \"name\": name,\n",
    "            \"tool_call_id\": tool_call_id,\n",
    "        }\n",
    "        return Command(\n",
    "            goto=agent_name,\n",
    "            update={**state, \"messages\": state[\"messages\"] + [tool_message]},\n",
    "            graph=Command.PARENT,\n",
    "        )\n",
    "\n",
    "    return handoff_tool\n",
    "\n",
    "# Handoffs\n",
    "assign_to_research_agent = create_handoff_tool(\n",
    "    agent_name=\"research_agent\",\n",
    "    description=\"Assign task to a researcher agent.\",\n",
    ")\n",
    "\n",
    "assign_to_expert_agent = create_handoff_tool(\n",
    "    agent_name=\"expert_agent\",\n",
    "    description=\"Assign task to a expert agent.\",\n",
    ")\n",
    "\n",
    "assign_to_critic_agent = create_handoff_tool(\n",
    "    agent_name=\"critic_agent\",\n",
    "    description=\"Assign task to a critic agent.\",\n",
    ")"
   ],
   "id": "c136c01546eaf073",
   "outputs": [],
   "execution_count": 34
  },
  {
   "metadata": {},
   "cell_type": "markdown",
   "source": "### Agent moderator",
   "id": "513ecff2e25b4234"
  },
  {
   "metadata": {
    "ExecuteTime": {
     "end_time": "2025-09-21T15:31:11.326536Z",
     "start_time": "2025-09-21T15:31:11.314286Z"
    }
   },
   "cell_type": "code",
   "source": [
    "supervisor_agent = create_react_agent(\n",
    "    model=\"openai:gpt-4.1\",\n",
    "    tools=[assign_to_research_agent, assign_to_expert_agent, assign_to_critic_agent],\n",
    "    prompt=(\n",
    "\"You're the Moderator of a discussion in which 3 agents take part: Researcher, Critic and Expert. You decide whether we finish or continue.\\n\"\n",
    "\"If we continue, provide a SHORT next research query (research_query) for the Researcher, Critic or Expert. If we finish, summarize the discussion and present in a structured and clear way the answer to the question.\"\n",
    "\"- Researcher. Searches for information and provides facts that form the basis of further discussion\\n\"\n",
    "\"- Critic. Looks assertively at the conclusions so far and points out weak points and elements to change or improve\\n\"\n",
    "\"- Expert. Draws conclusions and makes theses. Tries to solve the task based on the information received from the Researcher and Critic\\n\"\n",
    "\"Assign the work to one agent at a time, do not call agents in parallel.\\n\"\n",
    "\"Do not take part in the work discussion yourself.\"\n",
    "    ),\n",
    "    name=\"supervisor\",\n",
    ")"
   ],
   "id": "accd53e012371c8",
   "outputs": [],
   "execution_count": 35
  },
  {
   "metadata": {},
   "cell_type": "markdown",
   "source": "### Budowa grafu",
   "id": "2c985d0a47b8a23d"
  },
  {
   "metadata": {
    "ExecuteTime": {
     "end_time": "2025-09-21T15:31:11.375842Z",
     "start_time": "2025-09-21T15:31:11.371718Z"
    }
   },
   "cell_type": "code",
   "source": [
    "from langgraph.graph import END\n",
    "\n",
    "# Define the multi-agent supervisor graph\n",
    "supervisor = (\n",
    "    StateGraph(MessagesState)\n",
    "    # NOTE: `destinations` is only needed for visualization and doesn't affect runtime behavior\n",
    "    .add_node(supervisor_agent, destinations=(\"research_agent\", \"expert_agent\", \"critic_agent\", END))\n",
    "    .add_node(research_agent)\n",
    "    .add_node(expert_agent)\n",
    "    .add_node(critic_agent)\n",
    "    .add_edge(START, \"supervisor\")\n",
    "    # always return back to the supervisor\n",
    "    .add_edge(\"research_agent\", \"supervisor\")\n",
    "    .add_edge(\"expert_agent\", \"supervisor\")\n",
    "    .add_edge(\"critic_agent\", \"supervisor\")\n",
    "    .compile()\n",
    ")"
   ],
   "id": "31c92e2bceca9fff",
   "outputs": [],
   "execution_count": 36
  },
  {
   "metadata": {},
   "cell_type": "markdown",
   "source": [
    "### Display the graph"
   ],
   "id": "cc9402b36006bbe4"
  },
  {
   "metadata": {
    "ExecuteTime": {
     "end_time": "2025-09-21T15:31:11.478729Z",
     "start_time": "2025-09-21T15:31:11.431323Z"
    }
   },
   "cell_type": "code",
   "source": [
    "from IPython.display import display, Image\n",
    "\n",
    "display(Image(supervisor.get_graph().draw_png()))"
   ],
   "id": "8c8bad64037311e0",
   "outputs": [
    {
     "data": {
      "image/png": "[encoded data removed]",
      "text/plain": [
       "<IPython.core.display.Image object>"
      ]
     },
     "metadata": {},
     "output_type": "display_data",
     "jetTransient": {
      "display_id": null
     }
    }
   ],
   "execution_count": 37
  },
  {
   "metadata": {},
   "cell_type": "markdown",
   "source": [
    "### Conduct a discussion on a given topic and display the answer"
   ],
   "id": "15a6e44afd93753d"
  },
  {
   "metadata": {
    "ExecuteTime": {
     "end_time": "2025-09-21T15:31:39.966833Z",
     "start_time": "2025-09-21T15:31:11.487474Z"
    }
   },
   "cell_type": "code",
   "source": [
    "for chunk in supervisor.stream(\n    {\n        \"messages\": [\n            {\n                \"role\": \"user\",\n                \"content\":\" What field is best to study to have a well-paid and interesting profession in 10 years.\",\n            }\n        ]\n    },\n    subgraphs=True,\n):\n    pretty_print_messages(chunk, last_message=True)"
   ],
   "id": "c16218c2acc578a0",
   "outputs": [
    {
     "name": "stdout",
     "output_type": "stream",
     "text": [
      "Update from subgraph supervisor:\n",
      "\n",
      "\n",
      "\tUpdate from node agent:\n",
      "\n",
      "\n",
      "\t==================================\u001B[1m Ai Message \u001B[0m==================================\n",
      "\tName: supervisor\n",
      "\tTool Calls:\n",
      "\t  transfer_to_research_agent (call_IQ9yFVRsojCORDeOkO8ZLIDU)\n",
      "\t Call ID: call_IQ9yFVRsojCORDeOkO8ZLIDU\n",
      "\t  Args:\n",
      "\n",
      "\n",
      "Update from subgraph research_agent:\n",
      "\n",
      "\n",
      "\tUpdate from node agent:\n",
      "\n",
      "\n",
      "\t==================================\u001B[1m Ai Message \u001B[0m==================================\n",
      "\tName: research_agent\n",
      "\tTool Calls:\n",
      "\t  tavily_search (call_OapqfUplIcEEN0gIi8icqXPP)\n",
      "\t Call ID: call_OapqfUplIcEEN0gIi8icqXPP\n",
      "\t  Args:\n",
      "\t    query: best fields of study for high-paying and interesting professions in 10 years\n",
      "\t    search_depth: advanced\n",
      "\n",
      "\n",
      "Update from subgraph research_agent:\n",
      "\n",
      "\n",
      "\tUpdate from node tools:\n",
      "\n",
      "\n",
      "\t=================================\u001B[1m Tool Message \u001B[0m=================================\n",
      "\tName: tavily_search\n",
      "\t\n",
      "\t{\"query\": \"best fields of study for high-paying and interesting professions in 10 years\", \"follow_up_questions\": null, \"answer\": null, \"images\": [], \"results\": [{\"url\": \"https://global.nmsu.edu/blog/general/in-demand-college-majors-2025/\", \"title\": \"Top Degrees in Demand for the Future | Best Majors\", \"content\": \"With the increasing amount of data being generated globally, companies are in need of data scientists who can analyze and interpret this data to make informed decisions. The BLS estimates that jobs for data scientists will grow by 36% over the next decade. 10 Fields like machine learning, artificial intelligence (AI), and data visualization will only continue to grow in importance. [...] Finally, median salaries and job stability are major factors in determining demand. High-paying careers, especially those that offer job security, naturally attract more students. Majors tied to fields like finance, engineering, and technology are often in high demand not just for the exciting job roles they offer, but for the competitive salaries and stability they provide. Websites like PayScale and Glassdoor give you access to salary trends and job stability projections, helping you [...] 8. “Occupational Outlook Handbook: Information Security Analysts.” U.S. Bureau of Labor Statistics, last updated 29 August 2024.\\n\\n9. “Occupational Outlook Handbook: Registered Nurses.” U.S. Bureau of Labor Statistics, last updated 29 August 2024.\\n\\n10. “Occupational Outlook Handbook: Data Scientists.” U.S. Bureau of Labor Statistics, last updated 29 August 2024.\", \"score\": 0.41534993, \"raw_content\": null}, {\"url\": \"https://www.themuse.com/advice/high-paying-jobs-in-demand-for-future\", \"title\": \"15 High-Paying Jobs That'll Be in Demand for Years to Come |\", \"content\": \"For the purposes of this list, we’ve defined “high-paying” as jobs whose median pay was above the median household income in the U.S., which was $80,610 in 2023. “Poised for serious growth” means BLS has projected this occupation will grow “faster than average” or “much faster than average” over the next 10 years. (For reference, the average growth rate for all occupations is 5.3%.) Here is the list:\\n\\n### 1. Nurse practitioner [...] ### 15. Nursing instructor and teacher, postsecondary\\n\\nMedian salary in 2023: $80,780  \\nProjected growth rate between 2023 and 2033: 17.9%\\n\\nNursing instructors and teachers, postsecondary teach, instruct, and demonstrate patient care for nursing students. Like health specialties teachers, these professionals often go beyond teaching and engage in research. [...] Epidemiologists research, monitor, and investigate diseases (and general public health issues) to identify patterns and potential causes for epidemics. By analyzing statistics, they're able to develop models to predict future occurrences.\", \"score\": 0.4059909, \"raw_content\": null}, {\"url\": \"https://www.globaladmissions.com/blog/top-15-future-jobs-in-high-demand-by-2030-and-what-to-study\", \"title\": \"Top 15 Future Jobs in High Demand by 2030 (And What to Study)\", \"content\": \"Transport goods to businesses, homes, and distribution centers\\n Load and unload products, ensuring proper handling\\n Plan delivery routes for efficiency and timely deliveries\\n Inspect vehicles for safety and perform basic maintenance\\n\\nWhat You Can Study:\\n\\n Logistics and Transportation\\n Supply Chain Management\\n Business Operations\\n\\n## 10. Internet of Things (IoT) Specialists [...] Develop machine learning models and AI algorithms\\n Train systems to recognize patterns and make predictions\\n Analyze large data sets to improve AI performance\\n Work with teams to integrate AI solutions into real-world applications\\n\\nWhat You Can Study:\\n\\n Artificial Intelligence\\n Machine Learning\\n Robotics\\n Computer Science\\n Data Science\\n\\n## 4. Software and Applications Developers [...] Design and develop IoT devices and systems\\n Integrate hardware with software for seamless connectivity\\n Monitor and optimize network performance\\n Ensure data security and manage large-scale IoT infrastructures\\n\\nWhat You Can Study:\\n\\n Internet of Things (IoT)\\n Computer Engineering\\n Embedded Systems\\n Information Technology\\n Network Engineering\\n\\n## 11. Data Analysts and Scientists\", \"score\": 0.37765598, \"raw_content\": null}], \"response_time\": 2.04, \"request_id\": \"9038a1f7-3d4a-4144-82ee-50be43b8fe7d\"}\n",
      "\n",
      "\n",
      "Update from subgraph research_agent:\n",
      "\n",
      "\n",
      "\tUpdate from node agent:\n",
      "\n",
      "\n",
      "\t==================================\u001B[1m Ai Message \u001B[0m==================================\n",
      "\tName: research_agent\n",
      "\t\n",
      "\tFields projected to be both high-paying and interesting in the next 10 years include:\n",
      "\t\n",
      "\t1. Data Science and Artificial Intelligence: Significant job growth (36% for data scientists by 2033) with roles in machine learning, AI, and data analytics. These fields are expanding across industries and offer high salaries.\n",
      "\t2. Engineering and Technology: Majors in computer science, robotics, software development, and embedded systems lead to well-paid, future-proof careers.\n",
      "\t3. Healthcare: Roles such as nurse practitioners, epidemiologists, and nursing instructors are projected to grow faster than average with high median salaries and engaging work.\n",
      "\t4. Information Security: Cybersecurity experts and information security analysts are in increasing demand as digital threats grow.\n",
      "\t5. Supply Chain and Logistics: With global trade and e-commerce growth, expertise in logistics, supply chain management, and business operations will remain vital.\n",
      "\t\n",
      "\tDegree areas: Data Science, AI, Computer Science, Engineering, Nursing, Healthcare, Cybersecurity, Supply Chain Management, Logistics.\n",
      "\tSources: New Mexico State University, The Muse, Global Admissions\n",
      "\n",
      "\n",
      "Update from subgraph supervisor:\n",
      "\n",
      "\n",
      "\tUpdate from node agent:\n",
      "\n",
      "\n",
      "\t==================================\u001B[1m Ai Message \u001B[0m==================================\n",
      "\tName: supervisor\n",
      "\tTool Calls:\n",
      "\t  transfer_to_critic_agent (call_TARszeki4nbied4s3zyldIl8)\n",
      "\t Call ID: call_TARszeki4nbied4s3zyldIl8\n",
      "\t  Args:\n",
      "\n",
      "\n",
      "Update from subgraph critic_agent:\n",
      "\n",
      "\n",
      "\tUpdate from node agent:\n",
      "\n",
      "\n",
      "\t==================================\u001B[1m Ai Message \u001B[0m==================================\n",
      "\tName: critic_agent\n",
      "\t\n",
      "\tThe answer lists several promising fields for future high-paying, interesting professions, focusing on data science, AI, technology, healthcare, cybersecurity, and logistics. However, there are some ambiguities and gaps:\n",
      "\t\n",
      "\t1. Lack of Contextual Variability: The proposal does not account for geographical differences or local market demands that could shift these projections. Is this advice universally applicable, or does it skew toward the US/Western economies?\n",
      "\t2. Definition of “Interesting”: “Interesting” is subjective. What are the criteria—problem-solving, impact on society, work-life balance, creativity?\n",
      "\t3. Volatility & Risk: Technology rapidly changes. Fields considered “future-proof” now could be disrupted by automation, regulation, or shifts in public policy (e.g., healthcare funding, cybersecurity regulation).\n",
      "\t4. Interdisciplinary Skills: The specific value of soft skills, adaptability, or interdisciplinary approaches (e.g., combining tech with humanities or business) is omitted but often crucial for the future workforce.\n",
      "\t5. Job Nature & Quality: Growth rate and high salaries do not always equate to job satisfaction or work-life balance. What about burnout in healthcare, ethical dilemmas in AI, or security stress in cybersecurity?\n",
      "\t6. Overlooked Fields: The response focuses heavily on STEM and healthcare, potentially overlooking emerging fields in sustainability, environmental science, or creative industries powered by new technology.\n",
      "\t7. Source Limitations: The proposal cites projections but does not discuss their underlying assumptions or limitations.\n",
      "\t\n",
      "\tModerator, I recommend clarifying the target location, the individual’s values/interests, and acknowledging that adaptability across fields will be a key asset. More nuanced guidance would help ensure relevance and resilience for the next decade.\n",
      "\n",
      "\n",
      "Update from subgraph supervisor:\n",
      "\n",
      "\n",
      "\tUpdate from node agent:\n",
      "\n",
      "\n",
      "\t==================================\u001B[1m Ai Message \u001B[0m==================================\n",
      "\tName: supervisor\n",
      "\tTool Calls:\n",
      "\t  transfer_to_expert_agent (call_WG17iFFJuK1V5vgJyquezOmy)\n",
      "\t Call ID: call_WG17iFFJuK1V5vgJyquezOmy\n",
      "\t  Args:\n",
      "\n",
      "\n",
      "Update from subgraph expert_agent:\n",
      "\n",
      "\n",
      "\tUpdate from node agent:\n",
      "\n",
      "\n",
      "\t==================================\u001B[1m Ai Message \u001B[0m==================================\n",
      "\tName: expert_agent\n",
      "\t\n",
      "\tPractical Solution/Plan:\n",
      "\t\n",
      "\tField of Study Recommendation: Choose a degree in Data Science, Artificial Intelligence, Computer Science, or Cybersecurity for maximum potential of high salary and continued job interest over the next 10 years. Alternative strong options are Engineering, Specialized Healthcare (e.g., Nurse Practitioner or Epidemiology), and Logistics/Supply Chain Management.\n",
      "\t\n",
      "\tSteps:\n",
      "\t1. Assess your personal interests—technical, analytical, people-oriented, etc.—to ensure motivation and long-term satisfaction, as \"interesting\" is subjective.\n",
      "\t2. Research national and regional job market trends for your target location; while global trends favor tech and healthcare, local demand may vary.\n",
      "\t3. Select an accredited program at a university or technical school in one of these fields.\n",
      "\t4. During your studies, seek internships or work-study positions in growing industries (tech, healthcare, logistics).\n",
      "\t5. Build interdisciplinary skills: Communication, management, problem-solving, and adaptability are highly valued alongside technical competence.\n",
      "\t6. Reassess trends every few years to pursue relevant certifications or continued education, staying agile to adapt to any significant field shifts.\n",
      "\t\n",
      "\tMinimal Set of Decisions:\n",
      "\t- Choose a field that aligns with both high-paying forecasts and your interest.\n",
      "\t- Decide between technology (data, AI, cybersecurity), healthcare, or logistics based on aptitude and market.\n",
      "\t- Select a reputable, adaptable program.\n",
      "\t- Commit to ongoing learning and skill-building.\n",
      "\t\n",
      "\tRequirements:\n",
      "\t- Completion of secondary education with strong math/science background.\n",
      "\t- Admission into a relevant undergraduate program.\n",
      "\t- Willingness to engage in practical learning and continuous professional development.\n",
      "\t\n",
      "\tThis plan balances future salary prospects, long-term employability, and personal fulfillment.\n",
      "\n",
      "\n",
      "Update from subgraph supervisor:\n",
      "\n",
      "\n",
      "\tUpdate from node agent:\n",
      "\n",
      "\n",
      "\t==================================\u001B[1m Ai Message \u001B[0m==================================\n",
      "\tName: supervisor\n",
      "\t\n",
      "\tSummary & Recommendation\n",
      "\t\n",
      "\tTo secure a well-paid and interesting profession in 10 years, the best fields to study are currently:\n",
      "\t\n",
      "\t1. Data Science, Artificial Intelligence, and Machine Learning\n",
      "\t   - Projected high growth rates and competitive salaries globally.\n",
      "\t   - Wide applicability across industries (finance, healthcare, technology).\n",
      "\t\n",
      "\t2. Computer Science, Software Engineering, and Cybersecurity\n",
      "\t   - Essential for digital transformation and protecting data.\n",
      "\t   - High demand as businesses and society become more technology-reliant.\n",
      "\t\n",
      "\t3. Healthcare Professions (e.g., Nurse Practitioner, Epidemiology)\n",
      "\t   - Strong growth and salary prospects.\n",
      "\t   - Roles remain less vulnerable to automation, with high social impact.\n",
      "\t\n",
      "\t4. Logistics, Supply Chain Management, and Business Operations\n",
      "\t   - Growing importance with the rise of e-commerce and global trade.\n",
      "\t\n",
      "\tConsiderations:\n",
      "\t- “Interesting” is subjective—reflect on what excites you: technology, creativity, helping others, etc.\n",
      "\t- Factor in local and regional job market trends, as some roles may grow faster in particular locations.\n",
      "\t- Interdisciplinary skills and adaptability will enhance career resilience.\n",
      "\t- Stay open to continuous education, as technology and society will keep evolving.\n",
      "\t\n",
      "\tAction Plan:\n",
      "\t- Choose a field aligned with both future job market demand and your own interests.\n",
      "\t- Prioritize accredited programs that offer practical experience.\n",
      "\t- Develop both technical and “soft” skills for long-term career adaptability.\n",
      "\t\n",
      "\tBy focusing on these fields and maintaining adaptability, you’ll maximize your chances for a well-paid and interesting career in the next decade.\n",
      "\n",
      "\n"
     ]
    }
   ],
   "execution_count": 38
  }
 ],
 "metadata": {
  "kernelspec": {
   "display_name": "Python 3",
   "language": "python",
   "name": "python3"
  },
  "language_info": {
   "codemirror_mode": {
    "name": "ipython",
    "version": 2
   },
   "file_extension": ".py",
   "mimetype": "text/x-python",
   "name": "python",
   "nbconvert_exporter": "python",
   "pygments_lexer": "ipython2",
   "version": "2.7.6"
  }
 },
 "nbformat": 4,
 "nbformat_minor": 5
}
