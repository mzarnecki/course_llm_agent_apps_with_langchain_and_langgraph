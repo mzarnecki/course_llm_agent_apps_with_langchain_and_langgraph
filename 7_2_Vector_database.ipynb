{
 "cells": [
  {
   "metadata": {},
   "cell_type": "markdown",
   "source": "## Baza wektorowa",
   "id": "cb2797535ee29835"
  },
  {
   "metadata": {},
   "cell_type": "markdown",
   "source": "### Instalacja bibliotek",
   "id": "307604a60eb23d0f"
  },
  {
   "cell_type": "code",
   "id": "initial_id",
   "metadata": {
    "collapsed": true,
    "ExecuteTime": {
     "end_time": "2025-09-22T06:50:09.298729Z",
     "start_time": "2025-09-22T06:50:07.052621Z"
    }
   },
   "source": "!pip install faiss-cpu sentence_transformers",
   "outputs": [
    {
     "name": "stdout",
     "output_type": "stream",
     "text": [
      "Requirement already satisfied: faiss-cpu in /home/michal/anaconda3/lib/python3.13/site-packages (1.12.0)\r\n",
      "Collecting sentence_transformers\r\n",
      "  Downloading sentence_transformers-5.1.0-py3-none-any.whl.metadata (16 kB)\r\n",
      "Requirement already satisfied: numpy<3.0,>=1.25.0 in /home/michal/anaconda3/lib/python3.13/site-packages (from faiss-cpu) (2.2.5)\r\n",
      "Requirement already satisfied: packaging in /home/michal/anaconda3/lib/python3.13/site-packages (from faiss-cpu) (24.2)\r\n",
      "Requirement already satisfied: transformers<5.0.0,>=4.41.0 in /home/michal/anaconda3/lib/python3.13/site-packages (from sentence_transformers) (4.56.1)\r\n",
      "Requirement already satisfied: tqdm in /home/michal/anaconda3/lib/python3.13/site-packages (from sentence_transformers) (4.67.1)\r\n",
      "Requirement already satisfied: torch>=1.11.0 in /home/michal/anaconda3/lib/python3.13/site-packages (from sentence_transformers) (2.8.0)\r\n",
      "Requirement already satisfied: scikit-learn in /home/michal/anaconda3/lib/python3.13/site-packages (from sentence_transformers) (1.6.1)\r\n",
      "Requirement already satisfied: scipy in /home/michal/anaconda3/lib/python3.13/site-packages (from sentence_transformers) (1.16.0)\r\n",
      "Requirement already satisfied: huggingface-hub>=0.20.0 in /home/michal/anaconda3/lib/python3.13/site-packages (from sentence_transformers) (0.34.4)\r\n",
      "Requirement already satisfied: Pillow in /home/michal/anaconda3/lib/python3.13/site-packages (from sentence_transformers) (11.3.0)\r\n",
      "Requirement already satisfied: typing_extensions>=4.5.0 in /home/michal/anaconda3/lib/python3.13/site-packages (from sentence_transformers) (4.15.0)\r\n",
      "Requirement already satisfied: filelock in /home/michal/anaconda3/lib/python3.13/site-packages (from transformers<5.0.0,>=4.41.0->sentence_transformers) (3.17.0)\r\n",
      "Requirement already satisfied: pyyaml>=5.1 in /home/michal/anaconda3/lib/python3.13/site-packages (from transformers<5.0.0,>=4.41.0->sentence_transformers) (6.0.2)\r\n",
      "Requirement already satisfied: regex!=2019.12.17 in /home/michal/anaconda3/lib/python3.13/site-packages (from transformers<5.0.0,>=4.41.0->sentence_transformers) (2024.11.6)\r\n",
      "Requirement already satisfied: requests in /home/michal/anaconda3/lib/python3.13/site-packages (from transformers<5.0.0,>=4.41.0->sentence_transformers) (2.32.5)\r\n",
      "Requirement already satisfied: tokenizers<=0.23.0,>=0.22.0 in /home/michal/anaconda3/lib/python3.13/site-packages (from transformers<5.0.0,>=4.41.0->sentence_transformers) (0.22.0)\r\n",
      "Requirement already satisfied: safetensors>=0.4.3 in /home/michal/anaconda3/lib/python3.13/site-packages (from transformers<5.0.0,>=4.41.0->sentence_transformers) (0.6.2)\r\n",
      "Requirement already satisfied: fsspec>=2023.5.0 in /home/michal/anaconda3/lib/python3.13/site-packages (from huggingface-hub>=0.20.0->sentence_transformers) (2025.7.0)\r\n",
      "Requirement already satisfied: hf-xet<2.0.0,>=1.1.3 in /home/michal/anaconda3/lib/python3.13/site-packages (from huggingface-hub>=0.20.0->sentence_transformers) (1.1.9)\r\n",
      "Requirement already satisfied: setuptools in /home/michal/anaconda3/lib/python3.13/site-packages (from torch>=1.11.0->sentence_transformers) (80.9.0)\r\n",
      "Requirement already satisfied: sympy>=1.13.3 in /home/michal/anaconda3/lib/python3.13/site-packages (from torch>=1.11.0->sentence_transformers) (1.13.3)\r\n",
      "Requirement already satisfied: networkx in /home/michal/anaconda3/lib/python3.13/site-packages (from torch>=1.11.0->sentence_transformers) (3.4.2)\r\n",
      "Requirement already satisfied: jinja2 in /home/michal/anaconda3/lib/python3.13/site-packages (from torch>=1.11.0->sentence_transformers) (3.1.6)\r\n",
      "Requirement already satisfied: nvidia-cuda-nvrtc-cu12==12.8.93 in /home/michal/anaconda3/lib/python3.13/site-packages (from torch>=1.11.0->sentence_transformers) (12.8.93)\r\n",
      "Requirement already satisfied: nvidia-cuda-runtime-cu12==12.8.90 in /home/michal/anaconda3/lib/python3.13/site-packages (from torch>=1.11.0->sentence_transformers) (12.8.90)\r\n",
      "Requirement already satisfied: nvidia-cuda-cupti-cu12==12.8.90 in /home/michal/anaconda3/lib/python3.13/site-packages (from torch>=1.11.0->sentence_transformers) (12.8.90)\r\n",
      "Requirement already satisfied: nvidia-cudnn-cu12==9.10.2.21 in /home/michal/anaconda3/lib/python3.13/site-packages (from torch>=1.11.0->sentence_transformers) (9.10.2.21)\r\n",
      "Requirement already satisfied: nvidia-cublas-cu12==12.8.4.1 in /home/michal/anaconda3/lib/python3.13/site-packages (from torch>=1.11.0->sentence_transformers) (12.8.4.1)\r\n",
      "Requirement already satisfied: nvidia-cufft-cu12==11.3.3.83 in /home/michal/anaconda3/lib/python3.13/site-packages (from torch>=1.11.0->sentence_transformers) (11.3.3.83)\r\n",
      "Requirement already satisfied: nvidia-curand-cu12==10.3.9.90 in /home/michal/anaconda3/lib/python3.13/site-packages (from torch>=1.11.0->sentence_transformers) (10.3.9.90)\r\n",
      "Requirement already satisfied: nvidia-cusolver-cu12==11.7.3.90 in /home/michal/anaconda3/lib/python3.13/site-packages (from torch>=1.11.0->sentence_transformers) (11.7.3.90)\r\n",
      "Requirement already satisfied: nvidia-cusparse-cu12==12.5.8.93 in /home/michal/anaconda3/lib/python3.13/site-packages (from torch>=1.11.0->sentence_transformers) (12.5.8.93)\r\n",
      "Requirement already satisfied: nvidia-cusparselt-cu12==0.7.1 in /home/michal/anaconda3/lib/python3.13/site-packages (from torch>=1.11.0->sentence_transformers) (0.7.1)\r\n",
      "Requirement already satisfied: nvidia-nccl-cu12==2.27.3 in /home/michal/anaconda3/lib/python3.13/site-packages (from torch>=1.11.0->sentence_transformers) (2.27.3)\r\n",
      "Requirement already satisfied: nvidia-nvtx-cu12==12.8.90 in /home/michal/anaconda3/lib/python3.13/site-packages (from torch>=1.11.0->sentence_transformers) (12.8.90)\r\n",
      "Requirement already satisfied: nvidia-nvjitlink-cu12==12.8.93 in /home/michal/anaconda3/lib/python3.13/site-packages (from torch>=1.11.0->sentence_transformers) (12.8.93)\r\n",
      "Requirement already satisfied: nvidia-cufile-cu12==1.13.1.3 in /home/michal/anaconda3/lib/python3.13/site-packages (from torch>=1.11.0->sentence_transformers) (1.13.1.3)\r\n",
      "Requirement already satisfied: triton==3.4.0 in /home/michal/anaconda3/lib/python3.13/site-packages (from torch>=1.11.0->sentence_transformers) (3.4.0)\r\n",
      "Requirement already satisfied: mpmath<1.4,>=1.1.0 in /home/michal/anaconda3/lib/python3.13/site-packages (from sympy>=1.13.3->torch>=1.11.0->sentence_transformers) (1.3.0)\r\n",
      "Requirement already satisfied: MarkupSafe>=2.0 in /home/michal/anaconda3/lib/python3.13/site-packages (from jinja2->torch>=1.11.0->sentence_transformers) (3.0.2)\r\n",
      "Requirement already satisfied: charset_normalizer<4,>=2 in /home/michal/anaconda3/lib/python3.13/site-packages (from requests->transformers<5.0.0,>=4.41.0->sentence_transformers) (3.3.2)\r\n",
      "Requirement already satisfied: idna<4,>=2.5 in /home/michal/anaconda3/lib/python3.13/site-packages (from requests->transformers<5.0.0,>=4.41.0->sentence_transformers) (3.7)\r\n",
      "Requirement already satisfied: urllib3<3,>=1.21.1 in /home/michal/anaconda3/lib/python3.13/site-packages (from requests->transformers<5.0.0,>=4.41.0->sentence_transformers) (2.5.0)\r\n",
      "Requirement already satisfied: certifi>=2017.4.17 in /home/michal/anaconda3/lib/python3.13/site-packages (from requests->transformers<5.0.0,>=4.41.0->sentence_transformers) (2025.8.3)\r\n",
      "Requirement already satisfied: joblib>=1.2.0 in /home/michal/anaconda3/lib/python3.13/site-packages (from scikit-learn->sentence_transformers) (1.5.1)\r\n",
      "Requirement already satisfied: threadpoolctl>=3.1.0 in /home/michal/anaconda3/lib/python3.13/site-packages (from scikit-learn->sentence_transformers) (3.5.0)\r\n",
      "Downloading sentence_transformers-5.1.0-py3-none-any.whl (483 kB)\r\n",
      "Installing collected packages: sentence_transformers\r\n",
      "Successfully installed sentence_transformers-5.1.0\r\n"
     ]
    }
   ],
   "execution_count": 1
  },
  {
   "metadata": {},
   "cell_type": "markdown",
   "source": "### Wygeneruj embeddingi",
   "id": "488e6c821b4f4016"
  },
  {
   "metadata": {
    "ExecuteTime": {
     "end_time": "2025-10-13T18:47:08.126064Z",
     "start_time": "2025-10-13T18:47:06.140245Z"
    }
   },
   "cell_type": "code",
   "source": [
    "from sentence_transformers import SentenceTransformer\n",
    "\n",
    "model = SentenceTransformer(\"all-MiniLM-L6-v2\")\n",
    "\n",
    "model.max_seq_length = 256\n",
    "\n",
    "sentences = [\n",
    "    \"dinosaurs live in africa but in different time dimension\", \n",
    "    \"this is sentence about little cat that liked to eat fast food\",\n",
    "    \"this is the another sample sentence which is here just to not be matched while other one is\"\n",
    "]\n",
    "\n",
    "embeddings = model.encode(sentences, normalize_embeddings=True)"
   ],
   "id": "189389fa86a50e87",
   "outputs": [],
   "execution_count": 10
  },
  {
   "metadata": {
    "ExecuteTime": {
     "end_time": "2025-10-13T18:47:08.164575Z",
     "start_time": "2025-10-13T18:47:08.152640Z"
    }
   },
   "cell_type": "code",
   "source": "embeddings",
   "id": "cb9c2aa30e920f3d",
   "outputs": [
    {
     "data": {
      "text/plain": [
       "array([[-0.04987683,  0.03634831,  0.01747592, ..., -0.05154557,\n",
       "         0.01327896, -0.05160031],\n",
       "       [ 0.09842476,  0.07230502,  0.04732889, ...,  0.15476963,\n",
       "         0.04178708,  0.02207421],\n",
       "       [-0.01920933,  0.06346308,  0.07642584, ...,  0.01450102,\n",
       "         0.08586987, -0.00456648]], shape=(3, 384), dtype=float32)"
      ]
     },
     "execution_count": 11,
     "metadata": {},
     "output_type": "execute_result"
    }
   ],
   "execution_count": 11
  },
  {
   "metadata": {
    "ExecuteTime": {
     "end_time": "2025-10-13T18:47:15.871446Z",
     "start_time": "2025-10-13T18:47:15.867753Z"
    }
   },
   "cell_type": "code",
   "source": "print(len(embeddings[1]))",
   "id": "77e21db9221451f9",
   "outputs": [
    {
     "name": "stdout",
     "output_type": "stream",
     "text": [
      "384\n"
     ]
    }
   ],
   "execution_count": 13
  },
  {
   "metadata": {},
   "cell_type": "markdown",
   "source": "### Utwórz bazę wektorową i załaduj dokumenty",
   "id": "91b80070079d4f28"
  },
  {
   "metadata": {
    "ExecuteTime": {
     "end_time": "2025-10-13T18:47:35.590411Z",
     "start_time": "2025-10-13T18:47:35.584942Z"
    }
   },
   "cell_type": "code",
   "source": [
    "import faiss\n",
    "\n",
    "d = 384  # dimension\n",
    "\n",
    "# Build index\n",
    "index = faiss.IndexFlatL2(d)  # build the index\n",
    "index.add(embeddings)  # add vectors to the index"
   ],
   "id": "6dbbe7482493cc84",
   "outputs": [],
   "execution_count": 14
  },
  {
   "metadata": {},
   "cell_type": "markdown",
   "source": "### Przeszukaj bazę wektorową",
   "id": "a3dedc1ab199f1e1"
  },
  {
   "metadata": {
    "ExecuteTime": {
     "end_time": "2025-10-13T18:47:56.379250Z",
     "start_time": "2025-10-13T18:47:56.333056Z"
    }
   },
   "cell_type": "code",
   "source": [
    "queryText = \"french fries\"\n",
    "embeddingSearch = model.encode([queryText], normalize_embeddings=True)\n",
    "embeddingFound, idx = index.search(embeddingSearch, 1)  # actual search\n",
    "print(queryText + \" matches:\\n\" + sentences[idx[0][0]])\n",
    "\n",
    "queryText = \"not similar text\"\n",
    "embeddingSearch = model.encode([queryText], normalize_embeddings=True)\n",
    "embeddingFound, idx = index.search(embeddingSearch, 1)  # actual search\n",
    "print(queryText + \" matches:\\n\" + sentences[idx[0][0]])"
   ],
   "id": "25f9add211764a27",
   "outputs": [
    {
     "name": "stdout",
     "output_type": "stream",
     "text": [
      "french fries matches:\n",
      "this is sentence about little cat that liked to eat fast food\n",
      "not similar text matches:\n",
      "this is the another sample sentence which is here just to not be matched while other one is\n"
     ]
    }
   ],
   "execution_count": 15
  },
  {
   "metadata": {},
   "cell_type": "markdown",
   "source": "### Baza wektorowa na dysku",
   "id": "2921c1029fc3c10d"
  },
  {
   "metadata": {
    "ExecuteTime": {
     "end_time": "2025-10-13T18:49:05.403149Z",
     "start_time": "2025-10-13T18:49:02.941753Z"
    }
   },
   "cell_type": "code",
   "source": "!pip install sentence-transformers sqlite-vss",
   "id": "2f88b2b6e403b771",
   "outputs": [
    {
     "name": "stderr",
     "output_type": "stream",
     "text": [
      "huggingface/tokenizers: The current process just got forked, after parallelism has already been used. Disabling parallelism to avoid deadlocks...\n",
      "To disable this warning, you can either:\n",
      "\t- Avoid using `tokenizers` before the fork if possible\n",
      "\t- Explicitly set the environment variable TOKENIZERS_PARALLELISM=(true | false)\n"
     ]
    },
    {
     "name": "stdout",
     "output_type": "stream",
     "text": [
      "Requirement already satisfied: sentence-transformers in /home/michal/anaconda3/lib/python3.13/site-packages (5.1.0)\r\n",
      "Requirement already satisfied: sqlite-vss in /home/michal/anaconda3/lib/python3.13/site-packages (0.1.2)\r\n",
      "Requirement already satisfied: transformers<5.0.0,>=4.41.0 in /home/michal/anaconda3/lib/python3.13/site-packages (from sentence-transformers) (4.56.1)\r\n",
      "Requirement already satisfied: tqdm in /home/michal/anaconda3/lib/python3.13/site-packages (from sentence-transformers) (4.67.1)\r\n",
      "Requirement already satisfied: torch>=1.11.0 in /home/michal/anaconda3/lib/python3.13/site-packages (from sentence-transformers) (2.8.0)\r\n",
      "Requirement already satisfied: scikit-learn in /home/michal/anaconda3/lib/python3.13/site-packages (from sentence-transformers) (1.6.1)\r\n",
      "Requirement already satisfied: scipy in /home/michal/anaconda3/lib/python3.13/site-packages (from sentence-transformers) (1.16.0)\r\n",
      "Requirement already satisfied: huggingface-hub>=0.20.0 in /home/michal/anaconda3/lib/python3.13/site-packages (from sentence-transformers) (0.34.4)\r\n",
      "Requirement already satisfied: Pillow in /home/michal/anaconda3/lib/python3.13/site-packages (from sentence-transformers) (11.3.0)\r\n",
      "Requirement already satisfied: typing_extensions>=4.5.0 in /home/michal/anaconda3/lib/python3.13/site-packages (from sentence-transformers) (4.15.0)\r\n",
      "Requirement already satisfied: filelock in /home/michal/anaconda3/lib/python3.13/site-packages (from transformers<5.0.0,>=4.41.0->sentence-transformers) (3.17.0)\r\n",
      "Requirement already satisfied: numpy>=1.17 in /home/michal/anaconda3/lib/python3.13/site-packages (from transformers<5.0.0,>=4.41.0->sentence-transformers) (2.2.5)\r\n",
      "Requirement already satisfied: packaging>=20.0 in /home/michal/anaconda3/lib/python3.13/site-packages (from transformers<5.0.0,>=4.41.0->sentence-transformers) (24.2)\r\n",
      "Requirement already satisfied: pyyaml>=5.1 in /home/michal/anaconda3/lib/python3.13/site-packages (from transformers<5.0.0,>=4.41.0->sentence-transformers) (6.0.2)\r\n",
      "Requirement already satisfied: regex!=2019.12.17 in /home/michal/anaconda3/lib/python3.13/site-packages (from transformers<5.0.0,>=4.41.0->sentence-transformers) (2024.11.6)\r\n",
      "Requirement already satisfied: requests in /home/michal/anaconda3/lib/python3.13/site-packages (from transformers<5.0.0,>=4.41.0->sentence-transformers) (2.32.5)\r\n",
      "Requirement already satisfied: tokenizers<=0.23.0,>=0.22.0 in /home/michal/anaconda3/lib/python3.13/site-packages (from transformers<5.0.0,>=4.41.0->sentence-transformers) (0.22.0)\r\n",
      "Requirement already satisfied: safetensors>=0.4.3 in /home/michal/anaconda3/lib/python3.13/site-packages (from transformers<5.0.0,>=4.41.0->sentence-transformers) (0.6.2)\r\n",
      "Requirement already satisfied: fsspec>=2023.5.0 in /home/michal/anaconda3/lib/python3.13/site-packages (from huggingface-hub>=0.20.0->sentence-transformers) (2025.7.0)\r\n",
      "Requirement already satisfied: hf-xet<2.0.0,>=1.1.3 in /home/michal/anaconda3/lib/python3.13/site-packages (from huggingface-hub>=0.20.0->sentence-transformers) (1.1.9)\r\n",
      "Requirement already satisfied: setuptools in /home/michal/anaconda3/lib/python3.13/site-packages (from torch>=1.11.0->sentence-transformers) (80.9.0)\r\n",
      "Requirement already satisfied: sympy>=1.13.3 in /home/michal/anaconda3/lib/python3.13/site-packages (from torch>=1.11.0->sentence-transformers) (1.13.3)\r\n",
      "Requirement already satisfied: networkx in /home/michal/anaconda3/lib/python3.13/site-packages (from torch>=1.11.0->sentence-transformers) (3.4.2)\r\n",
      "Requirement already satisfied: jinja2 in /home/michal/anaconda3/lib/python3.13/site-packages (from torch>=1.11.0->sentence-transformers) (3.1.6)\r\n",
      "Requirement already satisfied: nvidia-cuda-nvrtc-cu12==12.8.93 in /home/michal/anaconda3/lib/python3.13/site-packages (from torch>=1.11.0->sentence-transformers) (12.8.93)\r\n",
      "Requirement already satisfied: nvidia-cuda-runtime-cu12==12.8.90 in /home/michal/anaconda3/lib/python3.13/site-packages (from torch>=1.11.0->sentence-transformers) (12.8.90)\r\n",
      "Requirement already satisfied: nvidia-cuda-cupti-cu12==12.8.90 in /home/michal/anaconda3/lib/python3.13/site-packages (from torch>=1.11.0->sentence-transformers) (12.8.90)\r\n",
      "Requirement already satisfied: nvidia-cudnn-cu12==9.10.2.21 in /home/michal/anaconda3/lib/python3.13/site-packages (from torch>=1.11.0->sentence-transformers) (9.10.2.21)\r\n",
      "Requirement already satisfied: nvidia-cublas-cu12==12.8.4.1 in /home/michal/anaconda3/lib/python3.13/site-packages (from torch>=1.11.0->sentence-transformers) (12.8.4.1)\r\n",
      "Requirement already satisfied: nvidia-cufft-cu12==11.3.3.83 in /home/michal/anaconda3/lib/python3.13/site-packages (from torch>=1.11.0->sentence-transformers) (11.3.3.83)\r\n",
      "Requirement already satisfied: nvidia-curand-cu12==10.3.9.90 in /home/michal/anaconda3/lib/python3.13/site-packages (from torch>=1.11.0->sentence-transformers) (10.3.9.90)\r\n",
      "Requirement already satisfied: nvidia-cusolver-cu12==11.7.3.90 in /home/michal/anaconda3/lib/python3.13/site-packages (from torch>=1.11.0->sentence-transformers) (11.7.3.90)\r\n",
      "Requirement already satisfied: nvidia-cusparse-cu12==12.5.8.93 in /home/michal/anaconda3/lib/python3.13/site-packages (from torch>=1.11.0->sentence-transformers) (12.5.8.93)\r\n",
      "Requirement already satisfied: nvidia-cusparselt-cu12==0.7.1 in /home/michal/anaconda3/lib/python3.13/site-packages (from torch>=1.11.0->sentence-transformers) (0.7.1)\r\n",
      "Requirement already satisfied: nvidia-nccl-cu12==2.27.3 in /home/michal/anaconda3/lib/python3.13/site-packages (from torch>=1.11.0->sentence-transformers) (2.27.3)\r\n",
      "Requirement already satisfied: nvidia-nvtx-cu12==12.8.90 in /home/michal/anaconda3/lib/python3.13/site-packages (from torch>=1.11.0->sentence-transformers) (12.8.90)\r\n",
      "Requirement already satisfied: nvidia-nvjitlink-cu12==12.8.93 in /home/michal/anaconda3/lib/python3.13/site-packages (from torch>=1.11.0->sentence-transformers) (12.8.93)\r\n",
      "Requirement already satisfied: nvidia-cufile-cu12==1.13.1.3 in /home/michal/anaconda3/lib/python3.13/site-packages (from torch>=1.11.0->sentence-transformers) (1.13.1.3)\r\n",
      "Requirement already satisfied: triton==3.4.0 in /home/michal/anaconda3/lib/python3.13/site-packages (from torch>=1.11.0->sentence-transformers) (3.4.0)\r\n",
      "Requirement already satisfied: mpmath<1.4,>=1.1.0 in /home/michal/anaconda3/lib/python3.13/site-packages (from sympy>=1.13.3->torch>=1.11.0->sentence-transformers) (1.3.0)\r\n",
      "Requirement already satisfied: MarkupSafe>=2.0 in /home/michal/anaconda3/lib/python3.13/site-packages (from jinja2->torch>=1.11.0->sentence-transformers) (3.0.2)\r\n",
      "Requirement already satisfied: charset_normalizer<4,>=2 in /home/michal/anaconda3/lib/python3.13/site-packages (from requests->transformers<5.0.0,>=4.41.0->sentence-transformers) (3.3.2)\r\n",
      "Requirement already satisfied: idna<4,>=2.5 in /home/michal/anaconda3/lib/python3.13/site-packages (from requests->transformers<5.0.0,>=4.41.0->sentence-transformers) (3.7)\r\n",
      "Requirement already satisfied: urllib3<3,>=1.21.1 in /home/michal/anaconda3/lib/python3.13/site-packages (from requests->transformers<5.0.0,>=4.41.0->sentence-transformers) (2.5.0)\r\n",
      "Requirement already satisfied: certifi>=2017.4.17 in /home/michal/anaconda3/lib/python3.13/site-packages (from requests->transformers<5.0.0,>=4.41.0->sentence-transformers) (2025.8.3)\r\n",
      "Requirement already satisfied: joblib>=1.2.0 in /home/michal/anaconda3/lib/python3.13/site-packages (from scikit-learn->sentence-transformers) (1.5.1)\r\n",
      "Requirement already satisfied: threadpoolctl>=3.1.0 in /home/michal/anaconda3/lib/python3.13/site-packages (from scikit-learn->sentence-transformers) (3.5.0)\r\n"
     ]
    }
   ],
   "execution_count": 16
  },
  {
   "metadata": {
    "ExecuteTime": {
     "end_time": "2025-10-13T18:50:40.015400Z",
     "start_time": "2025-10-13T18:50:37.945655Z"
    }
   },
   "cell_type": "code",
   "source": [
    "import sqlite3, json, numpy as np\n",
    "from sentence_transformers import SentenceTransformer\n",
    "import sqlite_vss\n",
    "\n",
    "DB_PATH = \"vectors.db\"\n",
    "DIM = 384\n",
    "model = SentenceTransformer(\"all-MiniLM-L6-v2\")\n",
    "\n",
    "def embed_norm(texts):\n",
    "    v = model.encode(texts).astype(\"float32\")\n",
    "    v /= (np.linalg.norm(v, axis=1, keepdims=True) + 1e-12)  # kosinus → IP\n",
    "    return v\n",
    "\n",
    "con = sqlite3.connect(DB_PATH)\n",
    "con.enable_load_extension(True)\n",
    "sqlite_vss.load(con)\n",
    "cur = con.cursor()\n",
    "\n",
    "# 1) Tabela\n",
    "cur.executescript(f\"\"\"\n",
    "CREATE TABLE IF NOT EXISTS docs(\n",
    "  id INTEGER PRIMARY KEY,\n",
    "  text TEXT NOT NULL\n",
    ");\n",
    "CREATE VIRTUAL TABLE IF NOT EXISTS doc_index USING vss0(emb({DIM}));\n",
    "\"\"\")\n",
    "con.commit()\n",
    "\n",
    "# 2) Dane + indeks\n",
    "docs = [\n",
    "    (1, \"Ciąg Fibonacciego zaczyna się od 0 i 1.\"),\n",
    "    (2, \"Algorytm Dijkstry znajduje najkrótsze ścieżki w grafie.\"),\n",
    "    (3, \"Rekurencja to wywołanie funkcji przez samą siebie.\"),\n",
    "]\n",
    "cur.executemany(\"INSERT OR IGNORE INTO docs(id, text) VALUES (?,?)\", docs)\n",
    "\n",
    "embs = embed_norm([t for _, t in docs]).tolist()\n",
    "\n",
    "# (a) jeśli istnieją — usuń stare wektory po rowid\n",
    "cur.executemany(\"DELETE FROM doc_index WHERE rowid = ?\", [(d[0],) for d in docs])\n",
    "# (b) wstaw jako surowy JSON string (BEZ json(?))\n",
    "cur.executemany(\n",
    "    \"INSERT INTO doc_index(rowid, emb) VALUES (?, ?)\",\n",
    "    [(docs[i][0], json.dumps(embs[i])) for i in range(len(docs))]\n",
    ")\n",
    "con.commit()\n",
    "\n",
    "query = \"Jak zaczyna się ciąg Fibonacciego?\"\n",
    "q = embed_norm([query])[0].tolist()\n",
    "\n",
    "rows = cur.execute(\"\"\"\n",
    "WITH knn AS (\n",
    "  SELECT rowid, distance\n",
    "  FROM doc_index\n",
    "  WHERE vss_search(emb, ?)\n",
    "  ORDER BY distance DESC\n",
    "  LIMIT 5\n",
    ")\n",
    "SELECT d.id, d.text, knn.distance\n",
    "FROM knn\n",
    "JOIN docs AS d ON d.id = knn.rowid\n",
    "ORDER BY knn.distance DESC;\n",
    "\"\"\", (json.dumps(q),)).fetchall()\n",
    "\n",
    "for rid, text, score in rows:\n",
    "    print(f\"id={rid} score={score:.4f}  text={text}\")\n"
   ],
   "id": "dabbbeb31f4a6021",
   "outputs": [
    {
     "name": "stdout",
     "output_type": "stream",
     "text": [
      "id=3 score=1.1374  text=Rekurencja to wywołanie funkcji przez samą siebie.\n",
      "id=2 score=0.9426  text=Algorytm Dijkstry znajduje najkrótsze ścieżki w grafie.\n",
      "id=1 score=0.3450  text=Ciąg Fibonacciego zaczyna się od 0 i 1.\n"
     ]
    }
   ],
   "execution_count": 17
  }
 ],
 "metadata": {
  "kernelspec": {
   "display_name": "Python 3",
   "language": "python",
   "name": "python3"
  },
  "language_info": {
   "codemirror_mode": {
    "name": "ipython",
    "version": 2
   },
   "file_extension": ".py",
   "mimetype": "text/x-python",
   "name": "python",
   "nbconvert_exporter": "python",
   "pygments_lexer": "ipython2",
   "version": "2.7.6"
  }
 },
 "nbformat": 4,
 "nbformat_minor": 5
}
