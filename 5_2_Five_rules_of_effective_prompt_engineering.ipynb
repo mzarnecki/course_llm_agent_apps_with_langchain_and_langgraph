{
 "cells": [
  {
   "metadata": {},
   "cell_type": "markdown",
   "source": [
    "## Pięć zasad efektywnej inżynierii promptów\n",
    "1. Jasne instrukcje poprawiają trafność.\n",
    "2. Przykłady stabilizują odpowiedź.\n",
    "3. Zdefiniowany format odpowiedzi = przewidywalny wynik.\n",
    "4. Dzielenie na kroki = lepsze i pełniejsze rozwiązania.\n",
    "5. Testy i weryfikacja = bezpieczeństwo i poprawność."
   ],
   "id": "8642cde9da1a3b6f"
  },
  {
   "cell_type": "code",
   "id": "initial_id",
   "metadata": {
    "collapsed": true,
    "ExecuteTime": {
     "end_time": "2025-08-27T06:41:07.236291Z",
     "start_time": "2025-08-27T06:41:07.039018Z"
    }
   },
   "source": [
    "# Import bibliotek\n",
    "import os\n",
    "from dotenv import load_dotenv\n",
    "load_dotenv()\n",
    "\n",
    "from langchain_openai import ChatOpenAI\n",
    "\n",
    "# odel bazowy\n",
    "llm = ChatOpenAI(model=\"gpt-4o-mini\", temperature=0.7)"
   ],
   "outputs": [],
   "execution_count": 7
  },
  {
   "metadata": {},
   "cell_type": "markdown",
   "source": "### Zasada 1 — Jasne instrukcje",
   "id": "5aea7763b726d804"
  },
  {
   "metadata": {
    "ExecuteTime": {
     "end_time": "2025-08-27T06:41:19.216078Z",
     "start_time": "2025-08-27T06:41:09.107797Z"
    }
   },
   "cell_type": "code",
   "source": [
    "# Zły prompt — niejasny, bez roli i oczekiwań\n",
    "bad_prompt = \"Napisz funkcję w Pythonie.\"\n",
    "print(\"=== Zły prompt ===\")\n",
    "print(llm.invoke(bad_prompt).content)\n",
    "\n",
    "# Dobry prompt — jasno określona rola i oczekiwania\n",
    "good_prompt = \"\"\"Jesteś ekspertem programującym w Pythonie.\n",
    "Napisz funkcję w Pythonie, która przyjmuje listę liczb całkowitych\n",
    "i zwraca nową listę zawierającą tylko liczby parzyste.\n",
    "Dodaj test jednostkowy w pytest.\"\"\"\n",
    "print(\"\\n=== Dobry prompt ===\")\n",
    "print(llm.invoke(good_prompt).content)"
   ],
   "id": "dbab59416e864073",
   "outputs": [
    {
     "name": "stdout",
     "output_type": "stream",
     "text": [
      "=== Zły prompt ===\n",
      "Oczywiście! Jaką funkcję chciałbyś, abym napisał? Może to być coś prostego, jak dodawanie dwóch liczb, lub coś bardziej skomplikowanego. Daj mi znać, co dokładnie potrzebujesz!\n",
      "\n",
      "=== Dobry prompt ===\n",
      "Oczywiście! Poniżej znajdziesz funkcję w Pythonie, która przyjmuje listę liczb całkowitych i zwraca nową listę zawierającą tylko liczby parzyste. Dodałem również test jednostkowy przy użyciu biblioteki `pytest`.\n",
      "\n",
      "### Funkcja do filtrowania liczb parzystych\n",
      "\n",
      "```python\n",
      "def filtru_parzystych(liczby):\n",
      "    \"\"\"Funkcja zwraca listę liczb parzystych z podanej listy liczb całkowitych.\"\"\"\n",
      "    return [liczba for liczba in liczby if liczba % 2 == 0]\n",
      "```\n",
      "\n",
      "### Test jednostkowy z użyciem pytest\n",
      "\n",
      "Aby przetestować tę funkcję, możesz stworzyć plik testowy, na przykład `test_filtru_parzystych.py`:\n",
      "\n",
      "```python\n",
      "import pytest\n",
      "from twoj_plik import filtru_parzystych  # Upewnij się, że importujesz funkcję z odpowiedniego pliku\n",
      "\n",
      "def test_filtru_parzystych():\n",
      "    assert filtru_parzystych([1, 2, 3, 4, 5, 6]) == [2, 4, 6]\n",
      "    assert filtru_parzystych([10, 15, 20, 25]) == [10, 20]\n",
      "    assert filtru_parzystych([-2, -1, 0, 1]) == [-2, 0]\n",
      "    assert filtru_parzystych([]) == []\n",
      "    assert filtru_parzystych([1, 3, 5]) == []\n",
      "\n",
      "# Aby uruchomić testy, w terminalu wpisz:\n",
      "# pytest test_filtru_parzystych.py\n",
      "```\n",
      "\n",
      "### Aby uruchomić testy\n",
      "\n",
      "1. Upewnij się, że masz zainstalowany `pytest`. Możesz go zainstalować za pomocą polecenia:\n",
      "   ```\n",
      "   pip install pytest\n",
      "   ```\n",
      "\n",
      "2. Utwórz plik z funkcją oraz plik testowy, jak opisano powyżej.\n",
      "\n",
      "3. Uruchom testy w terminalu, przechodząc do katalogu, w którym znajdują się pliki, a następnie wpisz:\n",
      "   ```\n",
      "   pytest\n",
      "   ```\n",
      "\n",
      "To powinno uruchomić testy i wyświetlić wyniki w terminalu.\n"
     ]
    }
   ],
   "execution_count": 8
  },
  {
   "metadata": {},
   "cell_type": "markdown",
   "source": "### Zasada 2 — Używaj przykładów",
   "id": "9c9e1dabb42f8ded"
  },
  {
   "metadata": {
    "ExecuteTime": {
     "end_time": "2025-08-27T06:42:12.789695Z",
     "start_time": "2025-08-27T06:42:05.585695Z"
    }
   },
   "cell_type": "code",
   "source": [
    "# Zadanie: wygeneruj tagi na podstawie treści strony firmy\n",
    "\n",
    "# Zero-shot\n",
    "zero_shot = \"\"\"Podaj tagi opisujące firmę na podstawie tekstu strony:\n",
    "Firma Lego produkuje zabawki dla dzieci.\"\"\"\n",
    "print(\"=== Zero-shot ===\")\n",
    "print(llm.invoke(zero_shot).content)\n",
    "\n",
    "# One-shot\n",
    "one_shot = \"\"\"Podaj maksymalnie trzy tagi opisujące firmę na podstawie tekstu strony.\n",
    "Przykład:\n",
    "Tekst: Firma Lego produkuje klocki dla dzieci.\n",
    "Tagi: zabawki, klocki, dzieci\n",
    "\n",
    "Teraz:\n",
    "Tekst: Firma Nike produkuje odzież i buty sportowe.\n",
    "Tagi:\"\"\"\n",
    "print(\"\\n=== One-shot ===\")\n",
    "print(llm.invoke(one_shot).content)\n",
    "\n",
    "# Few-shot\n",
    "few_shot = \"\"\"Podaj maksymalnie trzy tagi opisujące firmę na podstawie tekstu strony.\n",
    "\n",
    "Przykład 1:\n",
    "Tekst: Firma Lego produkuje klocki dla dzieci.\n",
    "Tagi: zabawki, klocki, dzieci\n",
    "\n",
    "Przykład 2:\n",
    "Tekst: Firma Nike produkuje odzież i buty sportowe.\n",
    "Tagi: sport, odzież, obuwie\n",
    "\n",
    "Teraz:\n",
    "Tekst: Firma Tesla produkuje samochody elektryczne i magazyny energii.\n",
    "Tagi:\"\"\"\n",
    "print(\"\\n=== Few-shot ===\")\n",
    "print(llm.invoke(few_shot).content)\n"
   ],
   "id": "5be1241181a9964b",
   "outputs": [
    {
     "name": "stdout",
     "output_type": "stream",
     "text": [
      "=== Zero-shot ===\n",
      "Oto propozycje tagów opisujących firmę Lego na podstawie podanego tekstu:\n",
      "\n",
      "- Lego\n",
      "- zabawki\n",
      "- dzieci\n",
      "- produkcja\n",
      "- kreatywność\n",
      "- edukacja\n",
      "- rozrywka\n",
      "- budowanie\n",
      "- marka\n",
      "- innowacja\n",
      "- gry konstrukcyjne\n",
      "- rozwój dziecka\n",
      "- zabawa\n",
      "- klocki\n",
      "- jakość\n",
      "\n",
      "=== One-shot ===\n",
      "odzież, buty, sport\n",
      "\n",
      "=== Few-shot ===\n",
      "samochody, elektryczność, energia\n"
     ]
    }
   ],
   "execution_count": 9
  },
  {
   "metadata": {},
   "cell_type": "markdown",
   "source": [
    "### Zasada 3 — Zdefiniuj format odpowiedzi\n",
    "walidacja wejścia i wyjścia z wykorzystaniem biblioteki Pydantic"
   ],
   "id": "c889316ae3b0d976"
  },
  {
   "metadata": {
    "ExecuteTime": {
     "end_time": "2025-09-15T06:32:35.002756Z",
     "start_time": "2025-09-15T06:32:27.159258Z"
    }
   },
   "cell_type": "code",
   "source": [
    "from pydantic import BaseModel, Field\n",
    "from typing import List\n",
    "from langchain_openai import ChatOpenAI\n",
    "from langchain_core.prompts import ChatPromptTemplate\n",
    "import dotenv\n",
    "\n",
    "dotenv.load_dotenv()\n",
    "\n",
    "# Definicja schematu wyjścia (Pydantic)\n",
    "class CityGuide(BaseModel):\n",
    "    city: str = Field(..., description=\"Miasto, którego dotyczy przewodnik\")\n",
    "    summary: str = Field(..., description=\"Krótki opis miasta (2–3 zdania)\")\n",
    "    must_do: List[str] = Field(..., description=\"Lista 3–5 rzeczy do zrobienia\")\n",
    "\n",
    "# LLM + structured output\n",
    "llm = ChatOpenAI(model=\"gpt-4o-mini\", temperature=0)\n",
    "structured_llm = llm.with_structured_output(CityGuide)\n",
    "\n",
    "prompt = ChatPromptTemplate.from_messages([\n",
    "    (\"system\", \"Jesteś ekspertem od podróży. Odpowiadaj po polsku, zwięźle.\"),\n",
    "    (\"user\", \"Stwórz krótki przewodnik po {city} dla {days}-dniowej wizyty.\")\n",
    "])\n",
    "\n",
    "chain = prompt | structured_llm\n",
    "\n",
    "# Walidacja wejścia Pydantic + wywołanie łańcucha\n",
    "from pydantic import BaseModel, Field\n",
    "\n",
    "class GuideRequest(BaseModel):\n",
    "    city: str = Field(min_length=2)\n",
    "    days: int = Field(ge=1, le=7)\n",
    "\n",
    "req = GuideRequest(city=\"Poznań\", days=2)\n",
    "\n",
    "result: CityGuide = chain.invoke(req.model_dump())  # <- dostajesz OBIEKT Pydantic\n",
    "print(result)                         # CityGuide(city=..., summary=..., must_do=[...])\n",
    "print(result.model_dump_json(indent=2))  # JSON gotowy do zapisu/transportu"
   ],
   "id": "669d955ea1cc6513",
   "outputs": [
    {
     "name": "stdout",
     "output_type": "stream",
     "text": [
      "city='Poznań' summary='Poznań to jedno z najstarszych miast w Polsce, znane z bogatej historii, pięknej architektury i tętniącej życiem atmosfery. To idealne miejsce na krótki wypad, oferujące zarówno zabytki, jak i nowoczesne atrakcje.' must_do=['Odwiedź Stary Rynek i zobacz ratusz z koziołkami.', 'Zrelaksuj się w Parku Cytadela, gdzie znajdziesz muzea i piękne tereny zielone.', 'Spróbuj lokalnych specjałów w jednej z restauracji, np. pyry z gzikiem.', 'Zobacz Ostrów Tumski, miejsce narodzin Polski, z katedrą i pięknymi widokami.', 'Zrób zakupy w Starym Browarze, nowoczesnym centrum handlowym w zabytkowym budynku.']\n",
      "{\n",
      "  \"city\": \"Poznań\",\n",
      "  \"summary\": \"Poznań to jedno z najstarszych miast w Polsce, znane z bogatej historii, pięknej architektury i tętniącej życiem atmosfery. To idealne miejsce na krótki wypad, oferujące zarówno zabytki, jak i nowoczesne atrakcje.\",\n",
      "  \"must_do\": [\n",
      "    \"Odwiedź Stary Rynek i zobacz ratusz z koziołkami.\",\n",
      "    \"Zrelaksuj się w Parku Cytadela, gdzie znajdziesz muzea i piękne tereny zielone.\",\n",
      "    \"Spróbuj lokalnych specjałów w jednej z restauracji, np. pyry z gzikiem.\",\n",
      "    \"Zobacz Ostrów Tumski, miejsce narodzin Polski, z katedrą i pięknymi widokami.\",\n",
      "    \"Zrób zakupy w Starym Browarze, nowoczesnym centrum handlowym w zabytkowym budynku.\"\n",
      "  ]\n",
      "}\n"
     ]
    }
   ],
   "execution_count": 1
  },
  {
   "metadata": {},
   "cell_type": "markdown",
   "source": "### Zasada 4 — Dziel złożone zadania na kroki",
   "id": "8328fe6c016afbdd"
  },
  {
   "metadata": {
    "ExecuteTime": {
     "end_time": "2025-08-27T07:10:49.340340Z",
     "start_time": "2025-08-27T07:09:56.850883Z"
    }
   },
   "cell_type": "code",
   "source": [
    "# Zły prompt — wszystko naraz\n",
    "bad_prompt = \"\"\"Przygotuj trzydniowy plan zwiedzania Poznania z budżetem 300 euro,\n",
    "uwzględniając atrakcje, restauracje, transport i mapy.\"\"\"\n",
    "print(\"=== Zły prompt ===\")\n",
    "print(llm.invoke(bad_prompt).content[:600], \"...\")\n",
    "\n",
    "# Dobry prompt — krok po kroku\n",
    "good_step1 = \"Wypisz najważniejsze atrakcje kulturalne w Poznaniu z godzinami otwarcia.\"\n",
    "step1 = llm.invoke(good_step1).content\n",
    "print(\"\\n=== Dobry prompt — krok 1 ===\")\n",
    "print(step1[:600], \"...\")\n",
    "\n",
    "good_step2 = f\"Na podstawie tej listy ułóż plan zwiedzania na 3 dni, maks 4 atrakcje dziennie. Atrakcje: {step1}\"\n",
    "step2 = llm.invoke(good_step2).content\n",
    "print(\"\\n=== Dobry prompt — krok 2 ===\")\n",
    "print(step2[:600], \"...\")\n"
   ],
   "id": "c8d6293b8c85e05d",
   "outputs": [
    {
     "name": "stdout",
     "output_type": "stream",
     "text": [
      "=== Zły prompt ===\n",
      "Oto trzydniowy plan zwiedzania Poznania z budżetem 300 euro. Plan uwzględnia atrakcje turystyczne, restauracje, transport oraz przybliżone ceny.\n",
      "\n",
      "### Dzień 1: Stare Miasto i Okolice\n",
      "\n",
      "**Rano:**\n",
      "- **Śniadanie:** Kawiarnia \"Café La Ruina\" (ok. 5 euro)\n",
      "- **Atrakcja:** Zamek Cesarski (bilet wstępu: 5 euro)\n",
      "- **Transport:** Spacer do Starego Miasta\n",
      "\n",
      "**Południe:**\n",
      "- **Atrakcja:** Rynek i Ratusz (za darmo, obserwacja koziołków o 12:00)\n",
      "- **Lunch:** Restauracja \"Bistro Na Żywo\" (ok. 10-15 euro)\n",
      "\n",
      "**Popołudnie:**\n",
      "- **Atrakcja:** Katedra na Ostrowie Tumskim (za darmo, opcjonalnie bilet na wieżę: 3 euro)\n",
      "- ...\n",
      "\n",
      "=== Dobry prompt — krok 1 ===\n",
      "Oto niektóre z najważniejszych atrakcji kulturalnych w Poznaniu wraz z godzinami otwarcia. Proszę pamiętać, że godziny mogą się zmieniać, więc warto sprawdzić aktualne informacje przed wizytą.\n",
      "\n",
      "1. **Stary Rynek** - serce Poznania, gdzie znajduje się ratusz z koziołkami.\n",
      "   - Godziny otwarcia: Całodobowo (rynek jako przestrzeń publiczna).\n",
      "\n",
      "2. **Ratusz w Poznaniu** - siedziba Muzeum Historii Miasta Poznania.\n",
      "   - Godziny otwarcia: \n",
      "     - poniedziałek - piątek: 10:00 - 17:00\n",
      "     - sobota - niedziela: 11:00 - 18:00\n",
      "\n",
      "3. **Katedra Poznańska** (Archikatedra św. Piotra i Pawła) - jedna z najstarszyc ...\n",
      "\n",
      "=== Dobry prompt — krok 2 ===\n",
      "Oto propozycja planu zwiedzania Poznania na 3 dni, z maksymalnie 4 atrakcjami dziennie:\n",
      "\n",
      "### Dzień 1: Serce Poznania\n",
      "1. **Stary Rynek** – rozpocznij dzień od spaceru po Starym Rynku, podziwiając ratusz i koziołki. (Całodobowo)\n",
      "   \n",
      "2. **Ratusz w Poznaniu** – zwiedzanie Muzeum Historii Miasta Poznania. (Otwarte do 17:00 w dni powszednie, 18:00 w weekendy)\n",
      "   - **Zalecany czas wizyty**: 1-1.5 godziny.\n",
      "   \n",
      "3. **Katedra Poznańska** – odwiedź jedną z najstarszych katedr w Polsce. (Otwarte do 17:00 w dni powszednie, 16:00 w niedzielę)\n",
      "   - **Zalecany czas wizyty**: 1 godzina.\n",
      "\n",
      "4. **Spacer po Cytadeli ...\n"
     ]
    }
   ],
   "execution_count": 11
  },
  {
   "metadata": {},
   "cell_type": "markdown",
   "source": "### Zasada 5 — Testuj i weryfikuj wyniki",
   "id": "f16c02fd7f8f68e3"
  },
  {
   "metadata": {
    "ExecuteTime": {
     "end_time": "2025-09-15T06:37:36.150445Z",
     "start_time": "2025-09-15T06:37:34.865625Z"
    }
   },
   "cell_type": "code",
   "source": [
    "from langchain.evaluation import load_evaluator\n",
    "from dotenv import load_dotenv\n",
    "\n",
    "load_dotenv()\n",
    "\n",
    "evaluator = load_evaluator(\"embedding_distance\", embeddings_model=\"openai\")\n",
    "\n",
    "result = evaluator.evaluate_strings(\n",
    "    prediction=\"Stolica Polski to Warszawa\",\n",
    "    reference=\"Warszawa jest stolicą Polski\"\n",
    ")\n",
    "\n",
    "print(result)\n"
   ],
   "id": "3e7e007d0f4b071f",
   "outputs": [
    {
     "name": "stdout",
     "output_type": "stream",
     "text": [
      "{'score': 0.055613485077632974}\n"
     ]
    }
   ],
   "execution_count": 2
  }
 ],
 "metadata": {
  "kernelspec": {
   "display_name": "Python 3",
   "language": "python",
   "name": "python3"
  },
  "language_info": {
   "codemirror_mode": {
    "name": "ipython",
    "version": 2
   },
   "file_extension": ".py",
   "mimetype": "text/x-python",
   "name": "python",
   "nbconvert_exporter": "python",
   "pygments_lexer": "ipython2",
   "version": "2.7.6"
  }
 },
 "nbformat": 4,
 "nbformat_minor": 5
}
