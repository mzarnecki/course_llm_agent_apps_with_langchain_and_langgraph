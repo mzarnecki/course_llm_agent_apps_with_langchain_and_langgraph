{
 "cells": [
  {
   "metadata": {},
   "cell_type": "markdown",
   "source": [
    "## Pięć zasad efektywnej inżynierii promptów\n",
    "1. Jasne instrukcje poprawiają trafność.\n",
    "2. Przykłady stabilizują odpowiedź.\n",
    "3. Zdefiniowany format odpowiedzi = przewidywalny wynik.\n",
    "4. Dzielenie na kroki = lepsze i pełniejsze rozwiązania.\n",
    "5. Testy i weryfikacja = bezpieczeństwo i poprawność."
   ],
   "id": "8642cde9da1a3b6f"
  },
  {
   "cell_type": "code",
   "id": "initial_id",
   "metadata": {
    "collapsed": true,
    "ExecuteTime": {
     "end_time": "2025-09-28T09:32:10.891739Z",
     "start_time": "2025-09-28T09:32:06.571586Z"
    }
   },
   "source": [
    "# Import bibliotek\n",
    "from dotenv import load_dotenv\n",
    "load_dotenv()\n",
    "\n",
    "from langchain_openai import ChatOpenAI\n",
    "\n",
    "# odel bazowy\n",
    "llm = ChatOpenAI(model=\"gpt-4o-mini\", temperature=0.7)"
   ],
   "outputs": [],
   "execution_count": 1
  },
  {
   "metadata": {},
   "cell_type": "markdown",
   "source": "### Zasada 1 — Jasne instrukcje",
   "id": "5aea7763b726d804"
  },
  {
   "metadata": {
    "ExecuteTime": {
     "end_time": "2025-09-28T09:32:22.718483Z",
     "start_time": "2025-09-28T09:32:10.911651Z"
    }
   },
   "cell_type": "code",
   "source": [
    "# Zły prompt — niejasny, bez roli i oczekiwań\n",
    "bad_prompt = \"Napisz funkcję w Pythonie.\"\n",
    "print(\"=== Zły prompt ===\")\n",
    "print(llm.invoke(bad_prompt).content)\n",
    "\n",
    "# Dobry prompt — jasno określona rola i oczekiwania\n",
    "good_prompt = \"\"\"Jesteś ekspertem programującym w Pythonie.\n",
    "Napisz funkcję w Pythonie, która przyjmuje listę liczb całkowitych\n",
    "i zwraca nową listę zawierającą tylko liczby parzyste.\n",
    "Dodaj test jednostkowy w pytest.\"\"\"\n",
    "print(\"\\n=== Dobry prompt ===\")\n",
    "print(llm.invoke(good_prompt).content)"
   ],
   "id": "dbab59416e864073",
   "outputs": [
    {
     "name": "stdout",
     "output_type": "stream",
     "text": [
      "=== Zły prompt ===\n",
      "Oczywiście! Jaką funkcję chciałbyś, abym napisał? Możesz podać szczegóły dotyczące tego, co funkcja powinna robić, a ja postaram się pomóc.\n",
      "\n",
      "=== Dobry prompt ===\n",
      "Oczywiście! Poniżej znajduje się funkcja w Pythonie, która przyjmuje listę liczb całkowitych i zwraca nową listę zawierającą tylko liczby parzyste. Dodatkowo umieściłem przykładowy test jednostkowy z użyciem biblioteki `pytest`.\n",
      "\n",
      "### Funkcja filtrująca liczby parzyste\n",
      "\n",
      "```python\n",
      "def filter_even_numbers(numbers):\n",
      "    \"\"\"\n",
      "    Funkcja przyjmuje listę liczb całkowitych i zwraca nową listę zawierającą tylko liczby parzyste.\n",
      "\n",
      "    :param numbers: List[int] - lista liczb całkowitych\n",
      "    :return: List[int] - lista liczb parzystych\n",
      "    \"\"\"\n",
      "    return [num for num in numbers if num % 2 == 0]\n",
      "```\n",
      "\n",
      "### Test jednostkowy przy użyciu pytest\n",
      "\n",
      "```python\n",
      "import pytest\n",
      "\n",
      "def test_filter_even_numbers():\n",
      "    assert filter_even_numbers([1, 2, 3, 4, 5]) == [2, 4]\n",
      "    assert filter_even_numbers([10, 15, 20, 25, 30]) == [10, 20, 30]\n",
      "    assert filter_even_numbers([-2, -1, 0, 1, 2]) == [-2, 0, 2]\n",
      "    assert filter_even_numbers([]) == []\n",
      "    assert filter_even_numbers([1, 3, 5]) == []\n",
      "```\n",
      "\n",
      "### Uruchamianie testów\n",
      "\n",
      "Aby uruchomić testy, upewnij się, że masz zainstalowany `pytest`. Możesz to zrobić, uruchamiając polecenie:\n",
      "\n",
      "```bash\n",
      "pip install pytest\n",
      "```\n",
      "\n",
      "Następnie możesz uruchomić testy, wykonując polecenie w terminalu w katalogu, w którym znajduje się Twój plik z testami:\n",
      "\n",
      "```bash\n",
      "pytest <nazwa_pliku_z_testami>.py\n",
      "```\n",
      "\n",
      "To wszystko! Teraz masz funkcję do filtrowania liczb parzystych oraz testy jednostkowe, które sprawdzają jej poprawność.\n"
     ]
    }
   ],
   "execution_count": 2
  },
  {
   "metadata": {},
   "cell_type": "markdown",
   "source": "### Zasada 2 — Używaj przykładów",
   "id": "9c9e1dabb42f8ded"
  },
  {
   "metadata": {
    "ExecuteTime": {
     "end_time": "2025-09-28T09:32:27.652373Z",
     "start_time": "2025-09-28T09:32:22.793728Z"
    }
   },
   "cell_type": "code",
   "source": [
    "# Zadanie: wygeneruj tagi na podstawie treści strony firmy\n",
    "\n",
    "# Zero-shot\n",
    "zero_shot = \"\"\"Podaj tagi opisujące firmę na podstawie tekstu strony:\n",
    "Firma Lego produkuje zabawki dla dzieci.\"\"\"\n",
    "print(\"=== Zero-shot ===\")\n",
    "print(llm.invoke(zero_shot).content)\n",
    "\n",
    "# One-shot\n",
    "one_shot = \"\"\"Podaj maksymalnie trzy tagi opisujące firmę na podstawie tekstu strony.\n",
    "Przykład:\n",
    "Tekst: Firma Lego produkuje klocki dla dzieci.\n",
    "Tagi: zabawki, klocki, dzieci\n",
    "\n",
    "Teraz:\n",
    "Tekst: Firma Nike produkuje odzież i buty sportowe.\n",
    "Tagi:\"\"\"\n",
    "print(\"\\n=== One-shot ===\")\n",
    "print(llm.invoke(one_shot).content)\n",
    "\n",
    "# Few-shot\n",
    "few_shot = \"\"\"Podaj maksymalnie trzy tagi opisujące firmę na podstawie tekstu strony.\n",
    "\n",
    "Przykład 1:\n",
    "Tekst: Firma Lego produkuje klocki dla dzieci.\n",
    "Tagi: zabawki, klocki, dzieci\n",
    "\n",
    "Przykład 2:\n",
    "Tekst: Firma Nike produkuje odzież i buty sportowe.\n",
    "Tagi: sport, odzież, obuwie\n",
    "\n",
    "Teraz:\n",
    "Tekst: Firma Tesla produkuje samochody elektryczne i magazyny energii.\n",
    "Tagi:\"\"\"\n",
    "print(\"\\n=== Few-shot ===\")\n",
    "print(llm.invoke(few_shot).content)\n"
   ],
   "id": "5be1241181a9964b",
   "outputs": [
    {
     "name": "stdout",
     "output_type": "stream",
     "text": [
      "=== Zero-shot ===\n",
      "Oto propozycje tagów opisujących firmę Lego na podstawie podanego tekstu:\n",
      "\n",
      "- Lego\n",
      "- zabawki\n",
      "- dzieci\n",
      "- produkcja\n",
      "- kreatywność\n",
      "- edukacja\n",
      "- rozrywka\n",
      "- budowanie\n",
      "- rozwój\n",
      "- marka\n",
      "- innowacja\n",
      "- zabawa\n",
      "- klocki\n",
      "- rodzinne\n",
      "- design\n",
      "\n",
      "Możesz dostosować lub dodać inne tagi w zależności od kontekstu i specyfiki firmy.\n",
      "\n",
      "=== One-shot ===\n",
      "odzież, buty, sport\n",
      "\n",
      "=== Few-shot ===\n",
      "samochody, elektryczne, energia\n"
     ]
    }
   ],
   "execution_count": 3
  },
  {
   "metadata": {
    "ExecuteTime": {
     "end_time": "2025-09-28T09:37:06.206974Z",
     "start_time": "2025-09-28T09:36:55.156966Z"
    }
   },
   "cell_type": "code",
   "source": [
    "prompt = \"\"\"Stwórz listę 5 sloganów reklamowych dla kawiarni.\n",
    "Zastosuj styl z przykładowych sloganów załączonych poniżej:\n",
    "\"U nas dostaniesz kawę na ławę!\"\n",
    "\"Kawa szybko tanio i konkretnie!\"\n",
    "\"\"\"\n",
    "print(llm.invoke(prompt).content)"
   ],
   "id": "820908f736634def",
   "outputs": [
    {
     "name": "stdout",
     "output_type": "stream",
     "text": [
      "- Szybko, tanio i na poziomie – kawa, co robi robotę!\n",
      "- Kawa z kopyta: aromat, energia, konkret!\n",
      "- Mała czarna – wielka sprawa: od rana stawia na nogi!\n",
      "- Kawa do rzeczy – bez ściemy, bez zwłoki, bez nudy!\n",
      "- Wpadnij na łyk – wyjdź z powerem!\n"
     ]
    }
   ],
   "execution_count": 11
  },
  {
   "metadata": {
    "ExecuteTime": {
     "end_time": "2025-09-28T09:39:35.750622Z",
     "start_time": "2025-09-28T09:39:28.786433Z"
    }
   },
   "cell_type": "code",
   "source": [
    "prompt = \"\"\"Stwórz listę 5 sloganów reklamowych dla kawiarni.\n",
    "Zastosuj styl z przykładowych sloganów załączonych poniżej:\n",
    "\"Nasza kawa jest niczym spacer w rajskim ogrodzie w słoneczny radosny dzień.\"\n",
    "\"Pijąc naszą kawę poczujesz się tak, jakby anioł zatańczył Tobie na języku.\"\n",
    "\"\"\"\n",
    "print(llm.invoke(prompt).content)"
   ],
   "id": "37b34e412f205470",
   "outputs": [
    {
     "name": "stdout",
     "output_type": "stream",
     "text": [
      "- Nasza kawa otula jak ciepły promień słońca o poranku, budząc w sercu taniec radości.\n",
      "- Łyk naszej kawy to podróż na szczyt chmur, gdzie cisza smakuje czystym szczęściem.\n",
      "- Pijąc naszą kawę, odkryjesz w sobie wiosnę: kwitnące myśli, śmiech i lekkość kroków.\n",
      "- Nasza kawa szepcze do zmysłów jak łagodny wiatr wśród lawendowych pól.\n",
      "- Zatrzymaj się przy naszej kawie, a czas rozpuści się jak karmel w promieniach popołudnia.\n"
     ]
    }
   ],
   "execution_count": 13
  },
  {
   "metadata": {},
   "cell_type": "markdown",
   "source": [
    "### Zasada 3 — Zdefiniuj format odpowiedzi\n",
    "walidacja wejścia i wyjścia z wykorzystaniem biblioteki Pydantic"
   ],
   "id": "c889316ae3b0d976"
  },
  {
   "metadata": {
    "ExecuteTime": {
     "end_time": "2025-09-28T09:32:27.717586Z",
     "start_time": "2025-09-28T09:32:27.712883Z"
    }
   },
   "cell_type": "code",
   "source": [
    "import json\n",
    "json.loads(\"\"\"{\n",
    "\t\"name\": \"Zgadnij Kto To?\",\n",
    "\t\"description\": \"Gra polegająca na odgadywaniu postaci na podstawie zadawanych pytań. Dzieci uczą się zadawania pytań i logicznego myślenia.\",\n",
    "\t\"min_number_of_players\": 2,\n",
    "\t\"max_number_of_players\": 6,\n",
    "\t\"rules\": \"Każdy gracz wybiera jedną postać z zestawu. Pozostali gracze zadają pytania, na które można odpowiedzieć 'tak' lub 'nie', aby odgadnąć, kto to jest. Wygrywa ten, kto jako pierwszy odgadnie postać.\"\n",
    "}\"\"\")"
   ],
   "id": "a69f164408232fc1",
   "outputs": [
    {
     "data": {
      "text/plain": [
       "{'name': 'Zgadnij Kto To?',\n",
       " 'description': 'Gra polegająca na odgadywaniu postaci na podstawie zadawanych pytań. Dzieci uczą się zadawania pytań i logicznego myślenia.',\n",
       " 'min_number_of_players': 2,\n",
       " 'max_number_of_players': 6,\n",
       " 'rules': \"Każdy gracz wybiera jedną postać z zestawu. Pozostali gracze zadają pytania, na które można odpowiedzieć 'tak' lub 'nie', aby odgadnąć, kto to jest. Wygrywa ten, kto jako pierwszy odgadnie postać.\"}"
      ]
     },
     "execution_count": 4,
     "metadata": {},
     "output_type": "execute_result"
    }
   ],
   "execution_count": 4
  },
  {
   "metadata": {
    "ExecuteTime": {
     "end_time": "2025-09-28T09:59:40.267549Z",
     "start_time": "2025-09-28T09:59:36.251910Z"
    }
   },
   "cell_type": "code",
   "source": [
    "from pydantic import BaseModel, Field\n",
    "from typing import List\n",
    "from langchain_openai import ChatOpenAI\n",
    "from langchain_core.prompts import ChatPromptTemplate\n",
    "import dotenv\n",
    "\n",
    "dotenv.load_dotenv()\n",
    "\n",
    "# Definicja schematu wyjścia (Pydantic)\n",
    "class CityGuide(BaseModel):\n",
    "    city: str = Field(..., description=\"Miasto, którego dotyczy przewodnik\")\n",
    "    summary: str = Field(..., description=\"Krótki opis miasta (2–3 zdania)\")\n",
    "    must_do: List[str] = Field(..., description=\"Lista 3–5 rzeczy do zrobienia\")\n",
    "\n",
    "# LLM + structured output\n",
    "llm = ChatOpenAI(model=\"gpt-4o-mini\", temperature=0)\n",
    "structured_llm = llm.with_structured_output(CityGuide)\n",
    "\n",
    "prompt = ChatPromptTemplate.from_messages([\n",
    "    (\"system\", \"Jesteś ekspertem od podróży. Odpowiadaj po polsku, zwięźle.\"),\n",
    "    (\"user\", \"Stwórz krótki przewodnik po {city} dla {days}-dniowej wizyty.\")\n",
    "])\n",
    "\n",
    "chain = prompt | structured_llm\n",
    "\n",
    "# Walidacja wejścia Pydantic + wywołanie łańcucha\n",
    "from pydantic import BaseModel, Field\n",
    "\n",
    "class GuideRequest(BaseModel):\n",
    "    city: str = Field(min_length=2)\n",
    "    days: int = Field(ge=1, le=7)\n",
    "\n",
    "req = GuideRequest(city=\"Wrocław\", days=2)\n",
    "\n",
    "result: CityGuide = chain.invoke(req.model_dump())  # <- dostajesz OBIEKT Pydantic\n",
    "print(result)                         # CityGuide(city=..., summary=..., must_do=[...])\n",
    "print(result.model_dump_json(indent=2))  # JSON gotowy do zapisu/transportu"
   ],
   "id": "669d955ea1cc6513",
   "outputs": [
    {
     "name": "stdout",
     "output_type": "stream",
     "text": [
      "city='Wrocław' summary='Wrocław to malownicze miasto w Polsce, znane z pięknej architektury, licznych mostów i bogatej historii. Jest to miejsce, gdzie tradycja spotyka nowoczesność, a tętniące życiem rynki i urokliwe uliczki przyciągają turystów z całego świata.' must_do=['Odwiedź Rynek i zobacz Ratusz oraz kolorowe kamienice.', 'Przejdź się po Ostrowie Tumskim i zwiedź Katedrę św. Jana Chrzciciela.', 'Zobacz Panoramę Racławicką, monumentalne dzieło sztuki.', 'Spędź czas w Ogrodzie Japońskim i Parku Szczytnickim.', 'Zrób zdjęcie z wrocławskimi krasnalami, które są rozsiane po całym mieście.']\n",
      "{\n",
      "  \"city\": \"Wrocław\",\n",
      "  \"summary\": \"Wrocław to malownicze miasto w Polsce, znane z pięknej architektury, licznych mostów i bogatej historii. Jest to miejsce, gdzie tradycja spotyka nowoczesność, a tętniące życiem rynki i urokliwe uliczki przyciągają turystów z całego świata.\",\n",
      "  \"must_do\": [\n",
      "    \"Odwiedź Rynek i zobacz Ratusz oraz kolorowe kamienice.\",\n",
      "    \"Przejdź się po Ostrowie Tumskim i zwiedź Katedrę św. Jana Chrzciciela.\",\n",
      "    \"Zobacz Panoramę Racławicką, monumentalne dzieło sztuki.\",\n",
      "    \"Spędź czas w Ogrodzie Japońskim i Parku Szczytnickim.\",\n",
      "    \"Zrób zdjęcie z wrocławskimi krasnalami, które są rozsiane po całym mieście.\"\n",
      "  ]\n",
      "}\n"
     ]
    }
   ],
   "execution_count": 22
  },
  {
   "metadata": {},
   "cell_type": "markdown",
   "source": "### Zasada 4 — Dziel złożone zadania na kroki",
   "id": "8328fe6c016afbdd"
  },
  {
   "metadata": {},
   "cell_type": "markdown",
   "source": "#### Przygotowanie planu wycieczki",
   "id": "a0aeca26821eb96a"
  },
  {
   "metadata": {
    "ExecuteTime": {
     "end_time": "2025-09-28T10:00:24.074346Z",
     "start_time": "2025-09-28T09:59:44.802160Z"
    }
   },
   "cell_type": "code",
   "source": [
    "# Zły prompt — wszystko naraz\n",
    "bad_prompt = \"\"\"Przygotuj trzydniowy plan zwiedzania Poznania z budżetem 300 euro,\n",
    "uwzględniając atrakcje, restauracje, transport i mapy.\"\"\"\n",
    "print(\"=== Zły prompt ===\")\n",
    "print(llm.invoke(bad_prompt).content[:600], \"...\")\n",
    "\n",
    "# Dobry prompt — krok po kroku\n",
    "good_step1 = \"Wypisz najważniejsze atrakcje kulturalne w Poznaniu z godzinami otwarcia.\"\n",
    "step1 = llm.invoke(good_step1).content\n",
    "print(\"\\n=== Dobry prompt — krok 1 ===\")\n",
    "print(step1[:600], \"...\")\n",
    "\n",
    "good_step2 = f\"Na podstawie tej listy ułóż plan zwiedzania na 3 dni, maks 4 atrakcje dziennie. Atrakcje: {step1}\"\n",
    "step2 = llm.invoke(good_step2).content\n",
    "print(\"\\n=== Dobry prompt — krok 2 ===\")\n",
    "print(step2[:600], \"...\")\n"
   ],
   "id": "c8d6293b8c85e05d",
   "outputs": [
    {
     "name": "stdout",
     "output_type": "stream",
     "text": [
      "=== Zły prompt ===\n",
      "Oto trzydniowy plan zwiedzania Poznania z budżetem 300 euro. Plan uwzględnia atrakcje turystyczne, restauracje, transport oraz mapy.\n",
      "\n",
      "### Dzień 1: Stare Miasto i okolice\n",
      "\n",
      "**Rano:**\n",
      "- **Śniadanie:** Kawiarnia \"Café La Ruina\" (około 5 euro)\n",
      "- **Atrakcja:** Stary Rynek – zwiedzanie Ratusza, zobaczenie koziołków (bezpłatnie)\n",
      "- **Transport:** Spacer po Starym Mieście (bezpłatnie)\n",
      "\n",
      "**Południe:**\n",
      "- **Obiad:** Restauracja \"Bamberka\" – tradycyjne dania wielkopolskie (około 10 euro)\n",
      "- **Atrakcja:** Muzeum Narodowe w Poznaniu (bilet wstępu około 5 euro)\n",
      "\n",
      "**Popołudnie:**\n",
      "- **Atrakcja:** Ostrów Tumski – Ka ...\n",
      "\n",
      "=== Dobry prompt — krok 1 ===\n",
      "Oto lista najważniejszych atrakcji kulturalnych w Poznaniu wraz z ich godzinami otwarcia (godziny mogą się różnić w zależności od sezonu, dni tygodnia i świąt, dlatego zawsze warto sprawdzić aktualne informacje na oficjalnych stronach):\n",
      "\n",
      "1. **Stary Rynek**\n",
      "   - Opis: Serce Poznania, z pięknymi kamienicami, ratuszem i fontanną Prozerpiny.\n",
      "   - Godziny otwarcia: Całodobowo\n",
      "\n",
      "2. **Ratusz w Poznaniu**\n",
      "   - Opis: Siedziba Muzeum Historii Miasta Poznania, znany z trykających się koziołków.\n",
      "   - Godziny otwarcia: \n",
      "     - Poniedziałek: 12:00 - 16:00\n",
      "     - Wtorek - Niedziela: 10:00 - 18:00\n",
      "\n",
      "3. **Zamek  ...\n",
      "\n",
      "=== Dobry prompt — krok 2 ===\n",
      "Oto propozycja planu zwiedzania Poznania na 3 dni, z maksymalnie 4 atrakcjami dziennie:\n",
      "\n",
      "### Dzień 1: Serce Poznania\n",
      "1. **Stary Rynek** (całodobowo)\n",
      "   - Rozpocznij dzień od spaceru po Starym Rynku, podziwiając piękne kamienice i ratusz.\n",
      "   \n",
      "2. **Ratusz w Poznaniu** (10:00 - 18:00)\n",
      "   - Po spacerze odwiedź Ratusz, aby zobaczyć trykające się koziołki i poznać historię miasta.\n",
      "\n",
      "3. **Muzeum Instrumentów Muzycznych** (10:00 - 18:00)\n",
      "   - Następnie udaj się do Muzeum Instrumentów Muzycznych, aby zobaczyć unikalną kolekcję instrumentów.\n",
      "\n",
      "4. **Teatr Wielki w Poznaniu** (wieczorne spektakle)\n",
      "   - Zako ...\n"
     ]
    }
   ],
   "execution_count": 23
  },
  {
   "metadata": {},
   "cell_type": "markdown",
   "source": "#### Generowanie artykułu w krokach",
   "id": "97b33623fca5e99"
  },
  {
   "metadata": {
    "ExecuteTime": {
     "end_time": "2025-09-28T09:53:17.590536Z",
     "start_time": "2025-09-28T09:52:44.373801Z"
    }
   },
   "cell_type": "code",
   "source": [
    "ARTICLE_SUBJECT = \"Jakie kompetencje będą najcenniejsze u programistów za 10 lat.\"\n",
    "\n",
    "plan = f\"Przygotuj plan składający sie z 3 punktów artykułu na temat: {ARTICLE_SUBJECT}.\"\n",
    "planGenerated = llm.invoke(plan).content\n",
    "print(planGenerated, \"...\")"
   ],
   "id": "79ba074e54fabb16",
   "outputs": [
    {
     "name": "stdout",
     "output_type": "stream",
     "text": [
      "1) AI‑native development i współpraca z modelami\n",
      "- Projektowanie systemów z LLM/agentami jako komponentami (kontekst, pamięć, tool-use, API).\n",
      "- LLMOps/MLOps: wersjonowanie promptów/modeli, ewaluacje, monitoring, bezpieczeństwo i zgodność.\n",
      "- Inżynieria jakości: testy generatywne, property-based, statyczna analiza, weryfikacja formalna w krytycznych obszarach; data literacy (RAG, prywatność danych).\n",
      "\n",
      "2) Mistrzostwo systemowe i fundamenty inżynierskie\n",
      "- Głębokie podstawy CS: algorytmy, współbieżność, systemy rozproszone, architektury odporne i zdarzeniowe.\n",
      "- Bezpieczeństwo i prywatność by design: kryptografia praktyczna, threat modeling, supply‑chain security.\n",
      "- Wydajność i efektywność: FinOps/GreenOps, profilowanie, praca z heterogenicznym sprzętem (GPU/TPU/edge, serverless).\n",
      "\n",
      "3) Kompetencje produktowe i międzyludzkie\n",
      "- Myślenie produktowe: discovery, praca z danymi i metrykami, eksperymentowanie, UX‑empatia.\n",
      "- Komunikacja i współpraca międzydyscyplinarna, leadership w zespołach wspieranych przez AI.\n",
      "- Etyka i regulacje (np. AI Act, RODO) oraz meta‑kompetencja ciągłego uczenia się i adaptacji. ...\n"
     ]
    }
   ],
   "execution_count": 17
  },
  {
   "metadata": {
    "ExecuteTime": {
     "end_time": "2025-09-28T10:08:27.002036Z",
     "start_time": "2025-09-28T10:08:12.306973Z"
    }
   },
   "cell_type": "code",
   "source": [
    "MAX_WORDS_IN_PARAGRAPH = 200\n",
    "\n",
    "prevParagraphContent = \"\"\n",
    "\n",
    "for i in range(1,4):\n",
    "    paragraphPrompt = f\"Przygotuj tylko treść {i}. akapitu artykułu: {ARTICLE_SUBJECT}. Maksymalna długość tekstu to {MAX_WORDS_IN_PARAGRAPH}. Wygeneruj tylko tekst jednego paragrafu. Plan całego artykułu:\\n {planGenerated}. Treść poprzednich akapitów: {prevParagraphContent}.\"\n",
    "    paragraphContent = llm.invoke(paragraphPrompt).content\n",
    "    prevParagraphContent += paragraphContent + \"\\n\"\n",
    "    print(f\"Akapit {i}.\", paragraphContent, \"\\n\\n\")"
   ],
   "id": "3bb860ccca1e400",
   "outputs": [
    {
     "name": "stdout",
     "output_type": "stream",
     "text": [
      "Akapit 1. W ciągu najbliższych dziesięciu lat kompetencje programistów będą musiały ewoluować w odpowiedzi na dynamiczny rozwój technologii, zwłaszcza w obszarze sztucznej inteligencji. Kluczowym elementem stanie się AI-native development, który zakłada projektowanie systemów z wykorzystaniem modeli językowych (LLM) oraz agentów jako integralnych komponentów. Programiści będą musieli opanować umiejętności związane z LLMOps i MLOps, obejmujące wersjonowanie promptów, monitorowanie oraz zapewnienie bezpieczeństwa i zgodności. W kontekście rosnącej złożoności systemów, inżynieria jakości zyska na znaczeniu, a umiejętność przeprowadzania testów generatywnych oraz analizy danych stanie się niezbędna, aby sprostać wymaganiom nowoczesnych aplikacji. W obliczu tych zmian, programiści będą musieli nie tylko rozwijać swoje umiejętności techniczne, ale także doskonalić kompetencje produktowe i międzyludzkie, aby skutecznie współpracować w złożonych, interdyscyplinarnych zespołach. \n",
      "\n",
      "\n",
      "Akapit 2. Mistrzostwo systemowe oraz solidne fundamenty inżynierskie będą kluczowe dla programistów w nadchodzącej dekadzie. Głębokie zrozumienie podstaw informatyki, takich jak algorytmy, współbieżność oraz systemy rozproszone, stanie się niezbędne do tworzenia odpornych i efektywnych architektur. W kontekście rosnących zagrożeń, bezpieczeństwo i prywatność muszą być wbudowane w proces projektowania, co wymaga znajomości kryptografii oraz modelowania zagrożeń. Dodatkowo, umiejętność optymalizacji wydajności, w tym FinOps i GreenOps, będzie kluczowa w pracy z różnorodnym sprzętem, takim jak GPU, TPU czy rozwiązania serverless. Programiści, którzy opanują te umiejętności, będą w stanie nie tylko tworzyć innowacyjne rozwiązania, ale także efektywnie zarządzać zasobami w złożonych środowiskach technologicznych. \n",
      "\n",
      "\n",
      "Akapit 3. W nadchodzącej dekadzie kompetencje produktowe i międzyludzkie staną się równie istotne, co umiejętności techniczne. Programiści będą musieli rozwijać myślenie produktowe, które obejmuje umiejętność pracy z danymi, metrykami oraz eksperymentowania w celu optymalizacji doświadczeń użytkowników. Kluczowa będzie także zdolność do efektywnej komunikacji i współpracy w zespołach interdyscyplinarnych, w których sztuczna inteligencja odgrywa coraz większą rolę. W obliczu rosnącej liczby regulacji, takich jak AI Act czy RODO, etyka w projektowaniu i implementacji rozwiązań technologicznych stanie się nieodłącznym elementem pracy programistów. Wreszcie, meta-kompetencja ciągłego uczenia się i adaptacji będzie kluczowa, aby sprostać szybko zmieniającym się wymaganiom rynku i technologiom, co pozwoli programistom na utrzymanie konkurencyjności w dynamicznie rozwijającym się środowisku. \n",
      "\n",
      "\n"
     ]
    }
   ],
   "execution_count": 27
  },
  {
   "metadata": {},
   "cell_type": "markdown",
   "source": "### Zasada 5 — Testuj i weryfikuj wyniki",
   "id": "f16c02fd7f8f68e3"
  },
  {
   "metadata": {
    "ExecuteTime": {
     "end_time": "2025-09-28T09:33:18.292163Z",
     "start_time": "2025-09-28T09:33:15.558642Z"
    }
   },
   "cell_type": "code",
   "source": [
    "from langchain.evaluation import load_evaluator\n",
    "from dotenv import load_dotenv\n",
    "\n",
    "load_dotenv()\n",
    "\n",
    "evaluator = load_evaluator(\"embedding_distance\", embeddings_model=\"openai\")\n",
    "\n",
    "result = evaluator.evaluate_strings(\n",
    "    prediction=\"Stolica Polski to Warszawa\",\n",
    "    reference=\"Stolica Warszawa?\"\n",
    ")\n",
    "\n",
    "print(result)\n"
   ],
   "id": "3e7e007d0f4b071f",
   "outputs": [
    {
     "name": "stdout",
     "output_type": "stream",
     "text": [
      "{'score': 0.07116926852407579}\n"
     ]
    }
   ],
   "execution_count": 7
  }
 ],
 "metadata": {
  "kernelspec": {
   "display_name": "Python 3",
   "language": "python",
   "name": "python3"
  },
  "language_info": {
   "codemirror_mode": {
    "name": "ipython",
    "version": 2
   },
   "file_extension": ".py",
   "mimetype": "text/x-python",
   "name": "python",
   "nbconvert_exporter": "python",
   "pygments_lexer": "ipython2",
   "version": "2.7.6"
  }
 },
 "nbformat": 4,
 "nbformat_minor": 5
}
