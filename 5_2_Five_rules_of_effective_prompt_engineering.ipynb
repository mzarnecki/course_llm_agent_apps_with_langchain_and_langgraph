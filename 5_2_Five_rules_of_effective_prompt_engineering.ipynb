{
 "cells": [
  {
   "metadata": {},
   "cell_type": "markdown",
   "source": [
    "## Pięć zasad efektywnej inżynierii promptów\n",
    "1. Jasne instrukcje poprawiają trafność.\n",
    "2. Przykłady stabilizują odpowiedź.\n",
    "3. Zdefiniowany format odpowiedzi = przewidywalny wynik.\n",
    "4. Dzielenie na kroki = lepsze i pełniejsze rozwiązania.\n",
    "5. Testy i weryfikacja = bezpieczeństwo i poprawność."
   ],
   "id": "8642cde9da1a3b6f"
  },
  {
   "cell_type": "code",
   "id": "initial_id",
   "metadata": {
    "collapsed": true
   },
   "source": [
    "# Import bibliotek\n",
    "from dotenv import load_dotenv\n",
    "load_dotenv()\n",
    "\n",
    "from langchain_openai import ChatOpenAI\n",
    "\n",
    "# odel bazowy\n",
    "llm = ChatOpenAI(model=\"gpt-4o-mini\", temperature=0.7)"
   ],
   "outputs": [],
   "execution_count": null
  },
  {
   "metadata": {},
   "cell_type": "markdown",
   "source": "### Zasada 1 — Jasne instrukcje",
   "id": "5aea7763b726d804"
  },
  {
   "metadata": {
    "ExecuteTime": {
     "end_time": "2025-10-08T06:16:53.548011Z",
     "start_time": "2025-10-08T06:16:38.830216Z"
    }
   },
   "cell_type": "code",
   "source": [
    "# Zły prompt — niejasny, bez roli i oczekiwań\n",
    "bad_prompt = \"Napisz funkcję w Pythonie.\"\n",
    "print(\"=== Zły prompt ===\")\n",
    "print(llm.invoke(bad_prompt).content)\n",
    "\n",
    "# Dobry prompt — jasno określona rola i oczekiwania\n",
    "good_prompt = \"\"\"Jesteś ekspertem programującym w Pythonie.\n",
    "Napisz funkcję w Pythonie, która przyjmuje listę liczb całkowitych\n",
    "i zwraca nową listę zawierającą tylko liczby parzyste.\n",
    "Dodaj test jednostkowy w pytest.\"\"\"\n",
    "print(\"\\n=== Dobry prompt ===\")\n",
    "print(llm.invoke(good_prompt).content)"
   ],
   "id": "dbab59416e864073",
   "outputs": [
    {
     "name": "stdout",
     "output_type": "stream",
     "text": [
      "=== Zły prompt ===\n",
      "Oczywiście! Jaką funkcję chciałbyś, abym napisał? Czy masz na myśli konkretną funkcjonalność lub problem, który chcesz rozwiązać?\n",
      "\n",
      "=== Dobry prompt ===\n",
      "Oczywiście! Oto przykładowa funkcja w Pythonie, która przyjmuje listę liczb całkowitych i zwraca nową listę zawierającą tylko liczby parzyste. Dodatkowo, dołączam test jednostkowy z użyciem biblioteki `pytest`.\n",
      "\n",
      "### Funkcja do filtrowania liczb parzystych\n",
      "\n",
      "```python\n",
      "def filter_even_numbers(numbers):\n",
      "    \"\"\"Funkcja zwraca listę liczb parzystych z podanej listy.\"\"\"\n",
      "    return [num for num in numbers if num % 2 == 0]\n",
      "```\n",
      "\n",
      "### Test jednostkowy z użyciem pytest\n",
      "\n",
      "Aby przetestować powyższą funkcję, możemy stworzyć plik testowy, na przykład `test_filter_even_numbers.py`:\n",
      "\n",
      "```python\n",
      "import pytest\n",
      "from your_module import filter_even_numbers  # Zmodyfikuj 'your_module' na rzeczywistą nazwę pliku z funkcją\n",
      "\n",
      "def test_filter_even_numbers():\n",
      "    assert filter_even_numbers([1, 2, 3, 4, 5, 6]) == [2, 4, 6]\n",
      "    assert filter_even_numbers([-1, -2, -3, -4]) == [-2, -4]\n",
      "    assert filter_even_numbers([0, 1, 2, 3, 4]) == [0, 2, 4]\n",
      "    assert filter_even_numbers([]) == []\n",
      "    assert filter_even_numbers([1, 3, 5]) == []\n",
      "```\n",
      "\n",
      "### Jak uruchomić testy\n",
      "\n",
      "Aby uruchomić testy, upewnij się, że masz zainstalowany `pytest`. Możesz go zainstalować za pomocą pip:\n",
      "\n",
      "```bash\n",
      "pip install pytest\n",
      "```\n",
      "\n",
      "Następnie uruchom testy w terminalu poleceniem:\n",
      "\n",
      "```bash\n",
      "pytest test_filter_even_numbers.py\n",
      "```\n",
      "\n",
      "To powinno wyświetlić wyniki testów, a jeśli wszystkie przejdą pomyślnie, otrzymasz komunikat o sukcesie.\n"
     ]
    }
   ],
   "execution_count": 19
  },
  {
   "metadata": {},
   "cell_type": "markdown",
   "source": "### Zasada 2 — Używaj przykładów",
   "id": "9c9e1dabb42f8ded"
  },
  {
   "metadata": {
    "ExecuteTime": {
     "end_time": "2025-10-08T06:17:28.262676Z",
     "start_time": "2025-10-08T06:17:24.263335Z"
    }
   },
   "cell_type": "code",
   "source": [
    "# Zadanie: wygeneruj tagi na podstawie treści strony firmy\n",
    "\n",
    "# Zero-shot\n",
    "zero_shot = \"\"\"Podaj tagi opisujące firmę na podstawie tekstu strony:\n",
    "Firma Lego produkuje zabawki dla dzieci.\"\"\"\n",
    "print(\"=== Zero-shot ===\")\n",
    "print(llm.invoke(zero_shot).content)\n",
    "\n",
    "# One-shot\n",
    "one_shot = \"\"\"Podaj maksymalnie trzy tagi opisujące firmę na podstawie tekstu strony.\n",
    "Przykład:\n",
    "Tekst: Firma Lego produkuje klocki dla dzieci.\n",
    "Tagi: zabawki, klocki, dzieci\n",
    "\n",
    "Teraz:\n",
    "Tekst: Firma Nike produkuje odzież i buty sportowe.\n",
    "Tagi:\"\"\"\n",
    "print(\"\\n=== One-shot ===\")\n",
    "print(llm.invoke(one_shot).content)\n",
    "\n",
    "# Few-shot\n",
    "few_shot = \"\"\"Podaj maksymalnie trzy tagi opisujące firmę na podstawie tekstu strony.\n",
    "\n",
    "Przykład 1:\n",
    "Tekst: Firma Lego produkuje klocki dla dzieci.\n",
    "Tagi: zabawki, klocki, dzieci\n",
    "\n",
    "Przykład 2:\n",
    "Tekst: Firma Nike produkuje odzież i buty sportowe.\n",
    "Tagi: sport, odzież, obuwie\n",
    "\n",
    "Teraz:\n",
    "Tekst: Firma Tesla produkuje samochody elektryczne i magazyny energii.\n",
    "Tagi:\"\"\"\n",
    "print(\"\\n=== Few-shot ===\")\n",
    "print(llm.invoke(few_shot).content)\n"
   ],
   "id": "5be1241181a9964b",
   "outputs": [
    {
     "name": "stdout",
     "output_type": "stream",
     "text": [
      "=== Zero-shot ===\n",
      "Oto tagi, które mogą opisać firmę Lego na podstawie podanego tekstu:\n",
      "\n",
      "- Lego\n",
      "- zabawki\n",
      "- dzieci\n",
      "- produkcja\n",
      "- kreatywność\n",
      "- edukacja\n",
      "- rozwój\n",
      "- rozrywka\n",
      "- konstrukcyjne\n",
      "- innowacja\n",
      "\n",
      "=== One-shot ===\n",
      "odzież, buty, sport\n",
      "\n",
      "=== Few-shot ===\n",
      "samochody, elektryczność, energia\n"
     ]
    }
   ],
   "execution_count": 20
  },
  {
   "metadata": {
    "ExecuteTime": {
     "end_time": "2025-10-08T06:19:16.722171Z",
     "start_time": "2025-10-08T06:19:13.968026Z"
    }
   },
   "cell_type": "code",
   "source": [
    "prompt = \"\"\"Stwórz listę 5 sloganów reklamowych dla kawiarni.\n",
    "Zastosuj styl z przykładowych sloganów załączonych poniżej:\n",
    "\"U nas dostaniesz kawę na ławę!\"\n",
    "\"Kawa szybko tanio i konkretnie!\"\n",
    "\"\"\"\n",
    "print(llm.invoke(prompt).content)"
   ],
   "id": "820908f736634def",
   "outputs": [
    {
     "name": "stdout",
     "output_type": "stream",
     "text": [
      "Oto pięć sloganów reklamowych dla kawiarni w podobnym stylu:\n",
      "\n",
      "1. \"Kawa z sercem, relaks z duszą!\"\n",
      "2. \"Szybka kawa, wolny czas!\"\n",
      "3. \"Kawowe przysmaki na każdą chwilę!\"\n",
      "4. \"Wpadnij po kawę, wyjdź z uśmiechem!\"\n",
      "5. \"Kawa w kubku, radość na twarzy!\"\n"
     ]
    }
   ],
   "execution_count": 21
  },
  {
   "metadata": {
    "ExecuteTime": {
     "end_time": "2025-10-08T06:19:55.210017Z",
     "start_time": "2025-10-08T06:19:51.021303Z"
    }
   },
   "cell_type": "code",
   "source": [
    "prompt = \"\"\"Stwórz listę 5 sloganów reklamowych dla kawiarni.\n",
    "Zastosuj styl z przykładowych sloganów załączonych poniżej:\n",
    "\"Nasza kawa jest niczym spacer w rajskim ogrodzie w słoneczny radosny dzień.\"\n",
    "\"Pijąc naszą kawę poczujesz się tak, jakby anioł zatańczył Tobie na języku.\"\n",
    "\"\"\"\n",
    "print(llm.invoke(prompt).content)"
   ],
   "id": "37b34e412f205470",
   "outputs": [
    {
     "name": "stdout",
     "output_type": "stream",
     "text": [
      "1. \"Nasza kawa to magiczna podróż w głąb lasu, gdzie każdy łyk to spotkanie z naturą.\"\n",
      "2. \"Zanurz się w aromacie naszej kawy, jakbyś odkrywał tajemnice skarbu ukrytego w sercu gór.\"\n",
      "3. \"Pij naszą kawę i poczuj, jak każdy łyk to melodia, która rozbrzmiewa w rytmie Twojego serca.\"\n",
      "4. \"Nasza kawa to słodka chwila w ramionach porannego słońca, która rozbudzi Twoje najpiękniejsze marzenia.\"\n",
      "5. \"Z każdym łykiem naszej kawy przeniesiesz się na plażę, gdzie fale szepczą historie z dalekich krain.\"\n"
     ]
    }
   ],
   "execution_count": 22
  },
  {
   "metadata": {},
   "cell_type": "markdown",
   "source": [
    "### Zasada 3 — Zdefiniuj format odpowiedzi\n",
    "walidacja wejścia i wyjścia z wykorzystaniem biblioteki Pydantic"
   ],
   "id": "c889316ae3b0d976"
  },
  {
   "metadata": {
    "ExecuteTime": {
     "end_time": "2025-10-08T06:22:51.556502Z",
     "start_time": "2025-10-08T06:22:46.617328Z"
    }
   },
   "cell_type": "code",
   "source": [
    "from pydantic import BaseModel, Field\n",
    "from typing import List\n",
    "from langchain_openai import ChatOpenAI\n",
    "from langchain_core.prompts import ChatPromptTemplate\n",
    "import dotenv\n",
    "\n",
    "dotenv.load_dotenv()\n",
    "\n",
    "# Definicja schematu wyjścia (Pydantic)\n",
    "class CityGuide(BaseModel):\n",
    "    city: str = Field(..., description=\"Miasto, którego dotyczy przewodnik\")\n",
    "    summary: str = Field(..., description=\"Krótki opis miasta (2–3 zdania)\")\n",
    "    must_do: List[str] = Field(..., description=\"Lista 3–5 rzeczy do zrobienia\")\n",
    "\n",
    "# LLM + structured output\n",
    "llm = ChatOpenAI(model=\"gpt-4o-mini\", temperature=0)\n",
    "structured_llm = llm.with_structured_output(CityGuide)\n",
    "\n",
    "prompt = ChatPromptTemplate.from_messages([\n",
    "    (\"system\", \"Jesteś ekspertem od podróży. Odpowiadaj po polsku, zwięźle.\"),\n",
    "    (\"user\", \"Stwórz krótki przewodnik po {city} dla {days}-dniowej wizyty.\")\n",
    "])\n",
    "\n",
    "chain = prompt | structured_llm\n",
    "\n",
    "# Walidacja wejścia Pydantic + wywołanie łańcucha\n",
    "from pydantic import BaseModel, Field\n",
    "\n",
    "class GuideRequest(BaseModel):\n",
    "    city: str = Field(min_length=2)\n",
    "    days: int = Field(ge=1, le=7)\n",
    "\n",
    "req = GuideRequest(city=\"Wrocław\", days=2)\n",
    "\n",
    "result: CityGuide = chain.invoke(req.model_dump())  # <- dostajesz OBIEKT Pydantic\n",
    "print(result)                         # CityGuide(city=..., summary=..., must_do=[...])\n",
    "print(result.model_dump_json(indent=2))  # JSON gotowy do zapisu/transportu"
   ],
   "id": "669d955ea1cc6513",
   "outputs": [
    {
     "name": "stdout",
     "output_type": "stream",
     "text": [
      "city='Wrocław' summary='Wrocław to malownicze miasto w Polsce, znane z pięknej architektury, licznych mostów i bogatej historii. Jest to miejsce, gdzie tradycja spotyka nowoczesność, a tętniące życiem rynki i urokliwe uliczki przyciągają turystów z całego świata.' must_do=['Odwiedź Rynek i zobacz Ratusz oraz kolorowe kamienice.', 'Przejdź się po Ostrowie Tumskim i zwiedź Katedrę św. Jana Chrzciciela.', 'Zobacz Panoramę Racławicką, monumentalne dzieło sztuki.', 'Spędź czas w Ogrodzie Japońskim i Parku Szczytnickim.', 'Zrób zdjęcie z wrocławskimi krasnalami, które są rozsiane po całym mieście.']\n",
      "{\n",
      "  \"city\": \"Wrocław\",\n",
      "  \"summary\": \"Wrocław to malownicze miasto w Polsce, znane z pięknej architektury, licznych mostów i bogatej historii. Jest to miejsce, gdzie tradycja spotyka nowoczesność, a tętniące życiem rynki i urokliwe uliczki przyciągają turystów z całego świata.\",\n",
      "  \"must_do\": [\n",
      "    \"Odwiedź Rynek i zobacz Ratusz oraz kolorowe kamienice.\",\n",
      "    \"Przejdź się po Ostrowie Tumskim i zwiedź Katedrę św. Jana Chrzciciela.\",\n",
      "    \"Zobacz Panoramę Racławicką, monumentalne dzieło sztuki.\",\n",
      "    \"Spędź czas w Ogrodzie Japońskim i Parku Szczytnickim.\",\n",
      "    \"Zrób zdjęcie z wrocławskimi krasnalami, które są rozsiane po całym mieście.\"\n",
      "  ]\n",
      "}\n"
     ]
    }
   ],
   "execution_count": 23
  },
  {
   "metadata": {},
   "cell_type": "markdown",
   "source": "### Zasada 4 — Dziel złożone zadania na kroki",
   "id": "8328fe6c016afbdd"
  },
  {
   "metadata": {},
   "cell_type": "markdown",
   "source": "#### Przygotowanie planu wycieczki",
   "id": "a0aeca26821eb96a"
  },
  {
   "metadata": {
    "ExecuteTime": {
     "end_time": "2025-10-08T06:24:56.170371Z",
     "start_time": "2025-10-08T06:23:51.274102Z"
    }
   },
   "cell_type": "code",
   "source": [
    "# Zły prompt — wszystko naraz\n",
    "bad_prompt = \"\"\"Przygotuj trzydniowy plan zwiedzania Poznania z budżetem 300 euro,\n",
    "uwzględniając atrakcje, restauracje, transport i mapy.\"\"\"\n",
    "print(\"=== Zły prompt ===\")\n",
    "print(llm.invoke(bad_prompt).content[:600], \"...\")\n",
    "\n",
    "# Dobry prompt — krok po kroku\n",
    "good_step1 = \"Wypisz najważniejsze atrakcje kulturalne w Poznaniu z godzinami otwarcia.\"\n",
    "step1 = llm.invoke(good_step1).content\n",
    "print(\"\\n=== Dobry prompt — krok 1 ===\")\n",
    "print(step1[:600], \"...\")\n",
    "\n",
    "good_step2 = f\"Na podstawie tej listy ułóż plan zwiedzania na 3 dni, maks 4 atrakcje dziennie. Atrakcje: {step1}\"\n",
    "step2 = llm.invoke(good_step2).content\n",
    "print(\"\\n=== Dobry prompt — krok 2 ===\")\n",
    "print(step2[:600], \"...\")\n"
   ],
   "id": "c8d6293b8c85e05d",
   "outputs": [
    {
     "name": "stdout",
     "output_type": "stream",
     "text": [
      "=== Zły prompt ===\n",
      "Oto trzydniowy plan zwiedzania Poznania z budżetem 300 euro. Plan uwzględnia atrakcje turystyczne, restauracje, transport oraz mapy.\n",
      "\n",
      "### Dzień 1: Stare Miasto i okolice\n",
      "\n",
      "**Rano:**\n",
      "- **Śniadanie:** Kawiarnia \"Café La Ruina\" (około 5 euro)\n",
      "- **Atrakcja:** Stary Rynek, Ratusz (bezpłatnie)\n",
      "- **Transport:** Spacer po Starym Mieście (bezpłatnie)\n",
      "\n",
      "**Południe:**\n",
      "- **Atrakcja:** Muzeum Narodowe (bilet wstępu około 5 euro)\n",
      "- **Obiad:** Restauracja \"Bamberka\" (około 10 euro)\n",
      "\n",
      "**Popołudnie:**\n",
      "- **Atrakcja:** Ostrów Tumski, Katedra (bezpłatnie)\n",
      "- **Transport:** Spacer po Ostrowie Tumskim (bezpłatnie)\n",
      "\n",
      "**W ...\n",
      "\n",
      "=== Dobry prompt — krok 1 ===\n",
      "Oto lista najważniejszych atrakcji kulturalnych w Poznaniu wraz z ich godzinami otwarcia (godziny mogą się różnić w zależności od sezonu, dlatego zawsze warto sprawdzić aktualne informacje przed wizytą):\n",
      "\n",
      "1. **Stary Rynek**  \n",
      "   - Opis: Serce Poznania, z pięknymi kamienicami i ratuszem.\n",
      "   - Godziny otwarcia: Całodobowo (rynek jest dostępny przez cały czas).\n",
      "\n",
      "2. **Ratusz w Poznaniu**  \n",
      "   - Opis: Siedziba Muzeum Historii Miasta Poznania, znany z trykających się koziołków.\n",
      "   - Godziny otwarcia: \n",
      "     - Poniedziałek: 12:00 - 16:00\n",
      "     - Wtorek - Niedziela: 10:00 - 18:00\n",
      "\n",
      "3. **Zamek Cesarski**  ...\n",
      "\n",
      "=== Dobry prompt — krok 2 ===\n",
      "Oto propozycja planu zwiedzania Poznania na 3 dni, z maksymalnie 4 atrakcjami dziennie:\n",
      "\n",
      "### Dzień 1: Serce Poznania\n",
      "1. **Stary Rynek**  \n",
      "   - Czas zwiedzania: 1-2 godziny (spacer, podziwianie architektury, zdjęcia).\n",
      "   - Opis: Rozpocznij dzień od spaceru po Starym Rynku, podziwiając kolorowe kamienice i ratusz.\n",
      "\n",
      "2. **Ratusz w Poznaniu**  \n",
      "   - Czas zwiedzania: 1-1,5 godziny.\n",
      "   - Godziny otwarcia: 10:00 - 18:00 (wtorek - niedziela).\n",
      "   - Opis: Zobacz trykające się koziołki i poznaj historię miasta w Muzeum Historii Miasta Poznania.\n",
      "\n",
      "3. **Katedra Poznańska (Katedra św. Piotra i Pawła)**  \n",
      "   - ...\n"
     ]
    }
   ],
   "execution_count": 24
  },
  {
   "metadata": {},
   "cell_type": "markdown",
   "source": "#### Generowanie artykułu w krokach",
   "id": "97b33623fca5e99"
  },
  {
   "metadata": {
    "ExecuteTime": {
     "end_time": "2025-10-08T06:25:03.133031Z",
     "start_time": "2025-10-08T06:24:56.192716Z"
    }
   },
   "cell_type": "code",
   "source": [
    "ARTICLE_SUBJECT = \"Jakie kompetencje będą najcenniejsze u programistów za 10 lat.\"\n",
    "\n",
    "plan = f\"Przygotuj plan składający sie z 3 punktów artykułu na temat: {ARTICLE_SUBJECT}.\"\n",
    "planGenerated = llm.invoke(plan).content\n",
    "print(planGenerated, \"...\")"
   ],
   "id": "79ba074e54fabb16",
   "outputs": [
    {
     "name": "stdout",
     "output_type": "stream",
     "text": [
      "Oto plan artykułu na temat \"Jakie kompetencje będą najcenniejsze u programistów za 10 lat\":\n",
      "\n",
      "### 1. Rozwój umiejętności w zakresie sztucznej inteligencji i uczenia maszynowego\n",
      "   - **Opis**: Wprowadzenie do rosnącej roli AI i ML w różnych branżach. \n",
      "   - **Przykłady**: Zastosowania w automatyzacji, analityce danych i tworzeniu inteligentnych systemów.\n",
      "   - **Wnioski**: Dlaczego programiści muszą znać te technologie, aby pozostać konkurencyjni na rynku pracy.\n",
      "\n",
      "### 2. Zrozumienie architektury chmurowej i DevOps\n",
      "   - **Opis**: Znaczenie chmury obliczeniowej i praktyk DevOps w nowoczesnym rozwoju oprogramowania.\n",
      "   - **Przykłady**: Narzędzia i platformy chmurowe (AWS, Azure, Google Cloud) oraz metodyki CI/CD.\n",
      "   - **Wnioski**: Jak umiejętności związane z chmurą i DevOps mogą zwiększyć efektywność i elastyczność zespołów programistycznych.\n",
      "\n",
      "### 3. Umiejętności miękkie i współpraca w zespole\n",
      "   - **Opis**: Rola umiejętności interpersonalnych w pracy programisty, w tym komunikacja, empatia i zdolność do pracy w zespole.\n",
      "   - **Przykłady**: Współpraca w zdalnych zespołach, zarządzanie projektami i rozwiązywanie konfliktów.\n",
      "   - **Wnioski**: Dlaczego umiejętności miękkie będą kluczowe w przyszłości, gdy technologia będzie coraz bardziej złożona i zintegrowana z ludzką interakcją. \n",
      "\n",
      "Ten plan może stanowić solidną podstawę do napisania artykułu, który zarysowuje przyszłość kompetencji programistycznych. ...\n"
     ]
    }
   ],
   "execution_count": 25
  },
  {
   "metadata": {
    "ExecuteTime": {
     "end_time": "2025-10-08T06:25:28.300798Z",
     "start_time": "2025-10-08T06:25:12.963387Z"
    }
   },
   "cell_type": "code",
   "source": [
    "MAX_WORDS_IN_PARAGRAPH = 200\n",
    "\n",
    "prevParagraphContent = \"\"\n",
    "\n",
    "for i in range(1,4):\n",
    "    paragraphPrompt = f\"Przygotuj tylko treść {i}. akapitu artykułu: {ARTICLE_SUBJECT}. Maksymalna długość tekstu to {MAX_WORDS_IN_PARAGRAPH}. Wygeneruj tylko tekst jednego paragrafu. Plan całego artykułu:\\n {planGenerated}. Treść poprzednich akapitów: {prevParagraphContent}.\"\n",
    "    paragraphContent = llm.invoke(paragraphPrompt).content\n",
    "    prevParagraphContent += paragraphContent + \"\\n\"\n",
    "    print(f\"Akapit {i}.\", paragraphContent, \"\\n\\n\")"
   ],
   "id": "3bb860ccca1e400",
   "outputs": [
    {
     "name": "stdout",
     "output_type": "stream",
     "text": [
      "Akapit 1. W ciągu najbliższych dziesięciu lat umiejętności związane z sztuczną inteligencją (AI) i uczeniem maszynowym (ML) staną się kluczowe dla programistów, którzy pragną pozostać konkurencyjni na rynku pracy. W miarę jak technologie te zyskują na znaczeniu w różnych branżach, ich zastosowania w automatyzacji procesów, analityce danych oraz tworzeniu inteligentnych systemów będą się intensyfikować. Programiści, którzy opanują te umiejętności, będą w stanie nie tylko tworzyć bardziej zaawansowane aplikacje, ale także przyczyniać się do innowacji w swoich organizacjach. W obliczu rosnącej automatyzacji i potrzeby przetwarzania ogromnych zbiorów danych, znajomość AI i ML stanie się nie tylko atutem, ale wręcz koniecznością w codziennej pracy programisty. \n",
      "\n",
      "\n",
      "Akapit 2. W kontekście przyszłości programowania, zrozumienie architektury chmurowej oraz praktyk DevOps będzie miało kluczowe znaczenie. Chmura obliczeniowa, z jej elastycznością i skalowalnością, staje się fundamentem nowoczesnych aplikacji, a umiejętność korzystania z platform takich jak AWS, Azure czy Google Cloud będzie niezbędna. Dodatkowo, metodyki CI/CD (Continuous Integration/Continuous Deployment) umożliwiają szybsze i bardziej efektywne wprowadzanie zmian w oprogramowaniu, co zwiększa konkurencyjność zespołów programistycznych. Programiści, którzy opanują te technologie, będą w stanie lepiej współpracować w zespole, a także dostarczać wartościowe rozwiązania w krótszym czasie, co jest kluczowe w dynamicznie zmieniającym się środowisku technologicznym. W rezultacie, umiejętności związane z chmurą i DevOps staną się nie tylko pożądane, ale wręcz niezbędne w codziennej pracy programisty. \n",
      "\n",
      "\n",
      "Akapit 3. W przyszłości umiejętności miękkie oraz zdolność do efektywnej współpracy w zespole będą miały kluczowe znaczenie dla programistów. W miarę jak technologie stają się coraz bardziej złożone, a projekty wymagają współpracy wielu specjalistów, umiejętności interpersonalne, takie jak komunikacja, empatia i zdolność do rozwiązywania konfliktów, będą niezbędne. Współpraca w zdalnych zespołach, która stała się normą, wymaga umiejętności dostosowania się do różnych stylów pracy i kultury organizacyjnej. Programiści, którzy potrafią efektywnie zarządzać projektami i budować relacje w zespole, będą w stanie lepiej realizować cele projektowe oraz wprowadzać innowacje. W obliczu rosnącej integracji technologii z ludzką interakcją, umiejętności miękkie staną się kluczowym atutem, który wyróżni najlepszych specjalistów na rynku pracy. \n",
      "\n",
      "\n"
     ]
    }
   ],
   "execution_count": 26
  },
  {
   "metadata": {},
   "cell_type": "markdown",
   "source": "### Zasada 5 — Testuj i weryfikuj wyniki",
   "id": "f16c02fd7f8f68e3"
  },
  {
   "metadata": {
    "ExecuteTime": {
     "end_time": "2025-10-08T06:26:42.669975Z",
     "start_time": "2025-10-08T06:26:41.731902Z"
    }
   },
   "cell_type": "code",
   "source": [
    "from langchain.evaluation import load_evaluator\n",
    "from dotenv import load_dotenv\n",
    "\n",
    "load_dotenv()\n",
    "\n",
    "evaluator = load_evaluator(\"embedding_distance\", embeddings_model=\"openai\")\n",
    "\n",
    "result = evaluator.evaluate_strings(\n",
    "    prediction=\"Stolica Polski to Warszawa\",\n",
    "    reference=\"coś zupełnie innego\"\n",
    ")\n",
    "\n",
    "print(result)\n"
   ],
   "id": "3e7e007d0f4b071f",
   "outputs": [
    {
     "name": "stdout",
     "output_type": "stream",
     "text": [
      "{'score': 0.2288585785726367}\n"
     ]
    }
   ],
   "execution_count": 29
  }
 ],
 "metadata": {
  "kernelspec": {
   "display_name": "Python 3",
   "language": "python",
   "name": "python3"
  },
  "language_info": {
   "codemirror_mode": {
    "name": "ipython",
    "version": 2
   },
   "file_extension": ".py",
   "mimetype": "text/x-python",
   "name": "python",
   "nbconvert_exporter": "python",
   "pygments_lexer": "ipython2",
   "version": "2.7.6"
  }
 },
 "nbformat": 4,
 "nbformat_minor": 5
}
