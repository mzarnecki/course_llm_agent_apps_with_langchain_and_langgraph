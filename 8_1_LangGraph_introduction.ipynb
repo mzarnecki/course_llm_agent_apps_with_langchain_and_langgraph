{
 "cells": [
  {
   "metadata": {},
   "cell_type": "markdown",
   "source": "### LangGraph (mini-graf stanów)\n",
   "id": "c4c5bf3cbf75fea8"
  },
  {
   "cell_type": "code",
   "id": "initial_id",
   "metadata": {
    "collapsed": true,
    "ExecuteTime": {
     "end_time": "2025-10-17T06:05:28.207313Z",
     "start_time": "2025-10-17T06:05:26.667373Z"
    }
   },
   "source": "!pip install -q langgraph langchain langchain-openai python-dotenv\n",
   "outputs": [],
   "execution_count": 8
  },
  {
   "metadata": {
    "ExecuteTime": {
     "end_time": "2025-10-17T06:05:28.229843Z",
     "start_time": "2025-10-17T06:05:28.225146Z"
    }
   },
   "cell_type": "code",
   "source": [
    "import os\n",
    "from dotenv import load_dotenv\n",
    "load_dotenv()\n",
    "from typing import TypedDict\n",
    "from langgraph.graph import StateGraph, END\n"
   ],
   "id": "8908abe7c3793e47",
   "outputs": [],
   "execution_count": 9
  },
  {
   "metadata": {},
   "cell_type": "markdown",
   "source": "### Definicja stanu",
   "id": "761ff81568312463"
  },
  {
   "metadata": {
    "ExecuteTime": {
     "end_time": "2025-10-17T06:05:28.280233Z",
     "start_time": "2025-10-17T06:05:28.277413Z"
    }
   },
   "cell_type": "code",
   "source": [
    "class State(TypedDict):\n",
    "    x: int"
   ],
   "id": "a8a2d2717d64a947",
   "outputs": [],
   "execution_count": 10
  },
  {
   "metadata": {},
   "cell_type": "markdown",
   "source": "### Definicja węzłów",
   "id": "332a97366ea0bba"
  },
  {
   "metadata": {
    "ExecuteTime": {
     "end_time": "2025-10-17T06:05:28.342695Z",
     "start_time": "2025-10-17T06:05:28.339705Z"
    }
   },
   "cell_type": "code",
   "source": [
    "def add_one(state: State) -> State:\n",
    "    return {\"x\": state[\"x\"] + 1}\n",
    "\n",
    "def multiply_by_two(state: State) -> State:\n",
    "    return {\"x\": state[\"x\"] * 2}\n",
    "\n",
    "def finish(state: State) -> State:\n",
    "    print(f\"Wynik koncowy {state['x']}\")\n",
    "    return state"
   ],
   "id": "efd501e6c57f1224",
   "outputs": [],
   "execution_count": 11
  },
  {
   "metadata": {},
   "cell_type": "markdown",
   "source": "### Budowa grafu",
   "id": "2c93e03e9c203762"
  },
  {
   "metadata": {
    "ExecuteTime": {
     "end_time": "2025-10-17T06:05:28.403606Z",
     "start_time": "2025-10-17T06:05:28.397383Z"
    }
   },
   "cell_type": "code",
   "source": [
    "graph = StateGraph(State)\n",
    "\n",
    "#definiujemy węzły\n",
    "graph.add_node(\"A\", add_one)\n",
    "graph.add_node(\"B\", multiply_by_two)\n",
    "graph.add_node(\"C\", finish)\n",
    "\n",
    "#definiujemy połączenia\n",
    "graph.set_entry_point(\"A\")\n",
    "graph.add_edge(\"A\", \"B\")\n",
    "graph.add_edge(\"B\", \"C\")\n",
    "graph.add_edge(\"C\", END)\n"
   ],
   "id": "ae10293236460c4b",
   "outputs": [
    {
     "data": {
      "text/plain": [
       "<langgraph.graph.state.StateGraph at 0x701dc65fae90>"
      ]
     },
     "execution_count": 12,
     "metadata": {},
     "output_type": "execute_result"
    }
   ],
   "execution_count": 12
  },
  {
   "metadata": {},
   "cell_type": "markdown",
   "source": "### Kompilacja i uruchomienie",
   "id": "ced03fe72fa4e03d"
  },
  {
   "metadata": {
    "ExecuteTime": {
     "end_time": "2025-10-17T06:05:28.469509Z",
     "start_time": "2025-10-17T06:05:28.463287Z"
    }
   },
   "cell_type": "code",
   "source": [
    "#kompilacja grafu\n",
    "app = graph.compile()\n",
    "\n",
    "result = app.invoke({\"x\": 1})\n",
    "print(result)\n"
   ],
   "id": "901a6da31ec2ad11",
   "outputs": [
    {
     "name": "stdout",
     "output_type": "stream",
     "text": [
      "Wynik koncowy 4\n",
      "{'x': 4}\n"
     ]
    }
   ],
   "execution_count": 13
  },
  {
   "metadata": {},
   "cell_type": "markdown",
   "source": "### Wizualizacja grafu",
   "id": "4e715fd5bb7f6dd7"
  },
  {
   "metadata": {
    "ExecuteTime": {
     "end_time": "2025-10-17T06:05:28.592548Z",
     "start_time": "2025-10-17T06:05:28.516967Z"
    }
   },
   "cell_type": "code",
   "source": [
    "# Rysujemy schemat\n",
    "from IPython.display import Image, display\n",
    "\n",
    "png_bytes = app.get_graph().draw_png()\n",
    "display(Image(png_bytes))\n"
   ],
   "id": "7f796a8a99e6437a",
   "outputs": [
    {
     "data": {
      "image/png": "[encoded data removed]",
      "text/plain": [
       "<IPython.core.display.Image object>"
      ]
     },
     "metadata": {},
     "output_type": "display_data",
     "jetTransient": {
      "display_id": null
     }
    }
   ],
   "execution_count": 14
  }
 ],
 "metadata": {
  "kernelspec": {
   "display_name": "Python 3",
   "language": "python",
   "name": "python3"
  },
  "language_info": {
   "codemirror_mode": {
    "name": "ipython",
    "version": 2
   },
   "file_extension": ".py",
   "mimetype": "text/x-python",
   "name": "python",
   "nbconvert_exporter": "python",
   "pygments_lexer": "ipython2",
   "version": "2.7.6"
  }
 },
 "nbformat": 4,
 "nbformat_minor": 5
}
