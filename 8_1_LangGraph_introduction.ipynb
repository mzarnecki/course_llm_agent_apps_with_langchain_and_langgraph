{
 "cells": [
  {
   "metadata": {},
   "cell_type": "markdown",
   "source": "### LangGraph (mini-graf stanów)\n",
   "id": "c4c5bf3cbf75fea8"
  },
  {
   "cell_type": "code",
   "id": "initial_id",
   "metadata": {
    "collapsed": true,
    "ExecuteTime": {
     "end_time": "2025-08-31T17:31:46.162639Z",
     "start_time": "2025-08-31T17:31:45.049393Z"
    }
   },
   "source": "!pip install -q langgraph langchain langchain-openai python-dotenv\n",
   "outputs": [],
   "execution_count": 1
  },
  {
   "metadata": {
    "ExecuteTime": {
     "end_time": "2025-08-31T17:31:46.535592Z",
     "start_time": "2025-08-31T17:31:46.169642Z"
    }
   },
   "cell_type": "code",
   "source": [
    "import os\n",
    "from dotenv import load_dotenv\n",
    "load_dotenv()\n",
    "\n",
    "from typing import TypedDict\n",
    "\n",
    "from langgraph.graph import StateGraph, END\n"
   ],
   "id": "8908abe7c3793e47",
   "outputs": [],
   "execution_count": 2
  },
  {
   "metadata": {},
   "cell_type": "markdown",
   "source": "### Definicja stanu",
   "id": "761ff81568312463"
  },
  {
   "metadata": {
    "ExecuteTime": {
     "end_time": "2025-08-31T17:31:46.543556Z",
     "start_time": "2025-08-31T17:31:46.541496Z"
    }
   },
   "cell_type": "code",
   "source": [
    "# State to słownik, w którym przechowujemy dane między węzłami\n",
    "class State(TypedDict):\n",
    "    x: int\n"
   ],
   "id": "a8a2d2717d64a947",
   "outputs": [],
   "execution_count": 3
  },
  {
   "metadata": {},
   "cell_type": "markdown",
   "source": "### Definicja węzłów",
   "id": "332a97366ea0bba"
  },
  {
   "metadata": {
    "ExecuteTime": {
     "end_time": "2025-08-31T17:31:46.590803Z",
     "start_time": "2025-08-31T17:31:46.588435Z"
    }
   },
   "cell_type": "code",
   "source": [
    "def add_one(state: State) -> State:\n",
    "    return {\"x\": state[\"x\"] + 1}\n",
    "\n",
    "def multiply_two(state: State) -> State:\n",
    "    return {\"x\": state[\"x\"] * 2}\n",
    "\n",
    "def finish(state: State) -> State:\n",
    "    print(f\"Wynik końcowy: {state['x']}\")\n",
    "    return state\n"
   ],
   "id": "efd501e6c57f1224",
   "outputs": [],
   "execution_count": 4
  },
  {
   "metadata": {},
   "cell_type": "markdown",
   "source": "### Budowa grafu",
   "id": "2c93e03e9c203762"
  },
  {
   "metadata": {
    "ExecuteTime": {
     "end_time": "2025-08-31T17:31:46.641242Z",
     "start_time": "2025-08-31T17:31:46.635367Z"
    }
   },
   "cell_type": "code",
   "source": [
    "# Tworzymy graf\n",
    "graph = StateGraph(State)\n",
    "\n",
    "# Dodajemy węzły\n",
    "graph.add_node(\"A\", add_one)\n",
    "graph.add_node(\"B\", multiply_two)\n",
    "graph.add_node(\"C\", finish)\n",
    "\n",
    "# Określamy przepływ\n",
    "graph.set_entry_point(\"A\")   # start w A\n",
    "graph.add_edge(\"A\", \"B\")     # A → B\n",
    "graph.add_edge(\"B\", \"C\")     # B → C\n",
    "graph.add_edge(\"C\", END)     # zakończenie\n"
   ],
   "id": "ae10293236460c4b",
   "outputs": [
    {
     "data": {
      "text/plain": [
       "<langgraph.graph.state.StateGraph at 0x7b675c13e900>"
      ]
     },
     "execution_count": 5,
     "metadata": {},
     "output_type": "execute_result"
    }
   ],
   "execution_count": 5
  },
  {
   "metadata": {},
   "cell_type": "markdown",
   "source": "### Kompilacja i uruchomienie",
   "id": "ced03fe72fa4e03d"
  },
  {
   "metadata": {
    "ExecuteTime": {
     "end_time": "2025-08-31T17:31:46.697268Z",
     "start_time": "2025-08-31T17:31:46.687436Z"
    }
   },
   "cell_type": "code",
   "source": [
    "# Kompilujemy graf do aplikacji\n",
    "app = graph.compile()\n",
    "\n",
    "# Uruchamiamy z początkowym stanem\n",
    "app.invoke({\"x\": 2})\n"
   ],
   "id": "901a6da31ec2ad11",
   "outputs": [
    {
     "name": "stdout",
     "output_type": "stream",
     "text": [
      "Wynik końcowy: 6\n"
     ]
    },
    {
     "data": {
      "text/plain": [
       "{'x': 6}"
      ]
     },
     "execution_count": 6,
     "metadata": {},
     "output_type": "execute_result"
    }
   ],
   "execution_count": 6
  },
  {
   "metadata": {},
   "cell_type": "markdown",
   "source": "### Wizualizacja grafu",
   "id": "4e715fd5bb7f6dd7"
  },
  {
   "metadata": {
    "ExecuteTime": {
     "end_time": "2025-08-31T17:31:46.778785Z",
     "start_time": "2025-08-31T17:31:46.741137Z"
    }
   },
   "cell_type": "code",
   "source": [
    "# Rysujemy schemat\n",
    "from IPython.display import Image, display\n",
    "\n",
    "png_bytes = app.get_graph().draw_png()\n",
    "display(Image(png_bytes))\n"
   ],
   "id": "7f796a8a99e6437a",
   "outputs": [
    {
     "data": {
      "image/png": "[encoded data removed]",
      "text/plain": [
       "<IPython.core.display.Image object>"
      ]
     },
     "metadata": {},
     "output_type": "display_data"
    }
   ],
   "execution_count": 7
  }
 ],
 "metadata": {
  "kernelspec": {
   "display_name": "Python 3",
   "language": "python",
   "name": "python3"
  },
  "language_info": {
   "codemirror_mode": {
    "name": "ipython",
    "version": 2
   },
   "file_extension": ".py",
   "mimetype": "text/x-python",
   "name": "python",
   "nbconvert_exporter": "python",
   "pygments_lexer": "ipython2",
   "version": "2.7.6"
  }
 },
 "nbformat": 4,
 "nbformat_minor": 5
}
