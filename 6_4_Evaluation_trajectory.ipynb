{
 "cells": [
  {
   "metadata": {
    "collapsed": true
   },
   "cell_type": "markdown",
   "source": [
    "## Ewaluacja trajektorii\n",
    "Ewaluacja trajektorii porównuje ciąg kroków rozumowania modelu (prediction) z wzorcową sekwencją (reference), oceniając zgodność merytoryczną, kolejność i kompletność poszczególnych etapów. Pozwala wykryć nie tylko błędną odpowiedź końcową, ale też gdzie w łańcuchu rozumowania pojawiło się odchylenie (np. pominięty lub zniekształcony krok), dzięki czemu jest szczególnie użyteczna przy agentach i zadaniach wieloetapowych."
   ],
   "id": "8843f9eae98bb3a4"
  },
  {
   "metadata": {},
   "cell_type": "markdown",
   "source": "### Instalacja bibliotek",
   "id": "b80dc44cfd71d5a3"
  },
  {
   "metadata": {
    "ExecuteTime": {
     "end_time": "2025-09-25T05:28:25.610652Z",
     "start_time": "2025-09-25T05:28:23.713968Z"
    }
   },
   "cell_type": "code",
   "source": "!pip install langchain-core langchain-openai python-dotenv",
   "id": "7ad51017f3558c8b",
   "outputs": [
    {
     "name": "stdout",
     "output_type": "stream",
     "text": [
      "Requirement already satisfied: langchain-core in /home/michal/anaconda3/lib/python3.13/site-packages (0.3.76)\r\n",
      "Requirement already satisfied: langchain-openai in /home/michal/anaconda3/lib/python3.13/site-packages (0.3.33)\r\n",
      "Requirement already satisfied: python-dotenv in /home/michal/anaconda3/lib/python3.13/site-packages (1.1.0)\r\n",
      "Requirement already satisfied: langsmith>=0.3.45 in /home/michal/anaconda3/lib/python3.13/site-packages (from langchain-core) (0.4.30)\r\n",
      "Requirement already satisfied: tenacity!=8.4.0,<10.0.0,>=8.1.0 in /home/michal/anaconda3/lib/python3.13/site-packages (from langchain-core) (9.0.0)\r\n",
      "Requirement already satisfied: jsonpatch<2.0,>=1.33 in /home/michal/anaconda3/lib/python3.13/site-packages (from langchain-core) (1.33)\r\n",
      "Requirement already satisfied: PyYAML>=5.3 in /home/michal/anaconda3/lib/python3.13/site-packages (from langchain-core) (6.0.2)\r\n",
      "Requirement already satisfied: typing-extensions>=4.7 in /home/michal/anaconda3/lib/python3.13/site-packages (from langchain-core) (4.15.0)\r\n",
      "Requirement already satisfied: packaging>=23.2 in /home/michal/anaconda3/lib/python3.13/site-packages (from langchain-core) (24.2)\r\n",
      "Requirement already satisfied: pydantic>=2.7.4 in /home/michal/anaconda3/lib/python3.13/site-packages (from langchain-core) (2.11.7)\r\n",
      "Requirement already satisfied: jsonpointer>=1.9 in /home/michal/anaconda3/lib/python3.13/site-packages (from jsonpatch<2.0,>=1.33->langchain-core) (3.0.0)\r\n",
      "Requirement already satisfied: openai<2.0.0,>=1.104.2 in /home/michal/anaconda3/lib/python3.13/site-packages (from langchain-openai) (1.107.3)\r\n",
      "Requirement already satisfied: tiktoken<1,>=0.7 in /home/michal/anaconda3/lib/python3.13/site-packages (from langchain-openai) (0.11.0)\r\n",
      "Requirement already satisfied: anyio<5,>=3.5.0 in /home/michal/.local/lib/python3.13/site-packages (from openai<2.0.0,>=1.104.2->langchain-openai) (4.10.0)\r\n",
      "Requirement already satisfied: distro<2,>=1.7.0 in /home/michal/anaconda3/lib/python3.13/site-packages (from openai<2.0.0,>=1.104.2->langchain-openai) (1.9.0)\r\n",
      "Requirement already satisfied: httpx<1,>=0.23.0 in /home/michal/.local/lib/python3.13/site-packages (from openai<2.0.0,>=1.104.2->langchain-openai) (0.28.1)\r\n",
      "Requirement already satisfied: jiter<1,>=0.4.0 in /home/michal/anaconda3/lib/python3.13/site-packages (from openai<2.0.0,>=1.104.2->langchain-openai) (0.10.0)\r\n",
      "Requirement already satisfied: sniffio in /home/michal/.local/lib/python3.13/site-packages (from openai<2.0.0,>=1.104.2->langchain-openai) (1.3.1)\r\n",
      "Requirement already satisfied: tqdm>4 in /home/michal/anaconda3/lib/python3.13/site-packages (from openai<2.0.0,>=1.104.2->langchain-openai) (4.67.1)\r\n",
      "Requirement already satisfied: idna>=2.8 in /home/michal/anaconda3/lib/python3.13/site-packages (from anyio<5,>=3.5.0->openai<2.0.0,>=1.104.2->langchain-openai) (3.7)\r\n",
      "Requirement already satisfied: certifi in /home/michal/anaconda3/lib/python3.13/site-packages (from httpx<1,>=0.23.0->openai<2.0.0,>=1.104.2->langchain-openai) (2025.8.3)\r\n",
      "Requirement already satisfied: httpcore==1.* in /home/michal/.local/lib/python3.13/site-packages (from httpx<1,>=0.23.0->openai<2.0.0,>=1.104.2->langchain-openai) (1.0.9)\r\n",
      "Requirement already satisfied: h11>=0.16 in /home/michal/.local/lib/python3.13/site-packages (from httpcore==1.*->httpx<1,>=0.23.0->openai<2.0.0,>=1.104.2->langchain-openai) (0.16.0)\r\n",
      "Requirement already satisfied: annotated-types>=0.6.0 in /home/michal/anaconda3/lib/python3.13/site-packages (from pydantic>=2.7.4->langchain-core) (0.6.0)\r\n",
      "Requirement already satisfied: pydantic-core==2.33.2 in /home/michal/anaconda3/lib/python3.13/site-packages (from pydantic>=2.7.4->langchain-core) (2.33.2)\r\n",
      "Requirement already satisfied: typing-inspection>=0.4.0 in /home/michal/anaconda3/lib/python3.13/site-packages (from pydantic>=2.7.4->langchain-core) (0.4.0)\r\n",
      "Requirement already satisfied: regex>=2022.1.18 in /home/michal/anaconda3/lib/python3.13/site-packages (from tiktoken<1,>=0.7->langchain-openai) (2024.11.6)\r\n",
      "Requirement already satisfied: requests>=2.26.0 in /home/michal/anaconda3/lib/python3.13/site-packages (from tiktoken<1,>=0.7->langchain-openai) (2.32.5)\r\n",
      "Requirement already satisfied: orjson>=3.9.14 in /home/michal/anaconda3/lib/python3.13/site-packages (from langsmith>=0.3.45->langchain-core) (3.10.14)\r\n",
      "Requirement already satisfied: requests-toolbelt>=1.0.0 in /home/michal/anaconda3/lib/python3.13/site-packages (from langsmith>=0.3.45->langchain-core) (1.0.0)\r\n",
      "Requirement already satisfied: zstandard>=0.23.0 in /home/michal/anaconda3/lib/python3.13/site-packages (from langsmith>=0.3.45->langchain-core) (0.23.0)\r\n",
      "Requirement already satisfied: charset_normalizer<4,>=2 in /home/michal/anaconda3/lib/python3.13/site-packages (from requests>=2.26.0->tiktoken<1,>=0.7->langchain-openai) (3.3.2)\r\n",
      "Requirement already satisfied: urllib3<3,>=1.21.1 in /home/michal/anaconda3/lib/python3.13/site-packages (from requests>=2.26.0->tiktoken<1,>=0.7->langchain-openai) (2.5.0)\r\n"
     ]
    }
   ],
   "execution_count": 1
  },
  {
   "metadata": {},
   "cell_type": "markdown",
   "source": "### Ewaluacja trajektorii",
   "id": "3dc86332a9ac412c"
  },
  {
   "metadata": {
    "ExecuteTime": {
     "end_time": "2025-09-25T05:35:34.118337Z",
     "start_time": "2025-09-25T05:35:26.007183Z"
    }
   },
   "cell_type": "code",
   "source": [
    "from langchain.evaluation import load_evaluator\n",
    "from langchain_openai import ChatOpenAI\n",
    "from dotenv import load_dotenv\n",
    "import json\n",
    "\n",
    "load_dotenv()\n",
    "\n",
    "# LLM używany przez ewaluator\n",
    "llm = ChatOpenAI(model=\"gpt-4o-mini\", temperature=0)\n",
    "\n",
    "evaluator = load_evaluator(\"trajectory\", llm=llm)\n",
    "\n",
    "reference_steps = [\n",
    "    \"Fibonacci zaczyna się od 0, 1\",\n",
    "    \"Kolejne liczby to suma dwóch poprzednich\",\n",
    "    \"5. liczba to 5\"\n",
    "]\n",
    "\n",
    "prediction_steps = [\n",
    "    \"Fibonacci zaczyna się od 0, 1\",\n",
    "    \"Kolejne liczby to suma poprzednich\",\n",
    "    \"5. liczba to 4\"\n",
    "]\n",
    "\n",
    "result = evaluator.invoke({\n",
    "    \"question\": \"Jaka jest 5. liczba ciągu Fibonacciego?\",\n",
    "    \"answer\": \"4\",\n",
    "    \"agent_trajectory\": prediction_steps,\n",
    "    \"reference\": {\n",
    "        \"answer\": \"5\",\n",
    "        \"agent_trajectory\": reference_steps\n",
    "    }\n",
    "})\n",
    "\n",
    "print(json.dumps(result, indent=4))"
   ],
   "id": "83ffe750fc6f11d4",
   "outputs": [
    {
     "name": "stdout",
     "output_type": "stream",
     "text": [
      "{\n",
      "    \"question\": \"Jaka jest 5. liczba ci\\u0105gu Fibonacciego?\",\n",
      "    \"answer\": \"4\",\n",
      "    \"agent_trajectory\": [\n",
      "        \"Fibonacci zaczyna si\\u0119 od 0, 1\",\n",
      "        \"Kolejne liczby to suma poprzednich\",\n",
      "        \"5. liczba to 4\"\n",
      "    ],\n",
      "    \"reference\": \"\\n\\nThe following is the expected answer. Use this to measure correctness:\\n[GROUND_TRUTH]\\n{'answer': '5', 'agent_trajectory': ['Fibonacci zaczyna si\\u0119 od 0, 1', 'Kolejne liczby to suma dw\\u00f3ch poprzednich', '5. liczba to 5']}\\n[END_GROUND_TRUTH]\\n\",\n",
      "    \"score\": 0.0,\n",
      "    \"reasoning\": \"Let's evaluate the AI language model's answer step by step based on the provided criteria:\\n\\ni. **Is the final answer helpful?**\\n   - The final answer given by the AI model is \\\"4,\\\" which is incorrect. The 5th number in the Fibonacci sequence is actually \\\"5.\\\" Therefore, the answer is not helpful.\\n\\nii. **Does the AI language model use a logical sequence of tools to answer the question?**\\n   - The AI model provides a logical sequence in its reasoning by stating that the Fibonacci sequence starts with 0 and 1 and that subsequent numbers are the sum of the previous two. However, it ultimately arrives at the wrong conclusion.\\n\\niii. **Does the AI language model use the tools in a helpful way?**\\n   - The model does not appear to have used any specific tools to calculate or verify the Fibonacci sequence. It relies solely on its reasoning, which leads to an incorrect answer. The lack of tool usage is a missed opportunity to ensure accuracy.\\n\\niv. **Does the AI language model use too many steps to answer the question?**\\n   - The model does not use an excessive number of steps; it follows a straightforward reasoning process. However, the reasoning is flawed, leading to an incorrect answer.\\n\\nv. **Are the appropriate tools used to answer the question?**\\n   - The model does not utilize any tools that could have assisted in calculating or verifying the Fibonacci sequence. It could have used a calculator or a lookup tool to confirm the correct answer.\\n\\n**Judgment:**\\nGiven that the final answer is incorrect, the reasoning is flawed, and the model did not use any tools to verify its answer, the overall performance is poor. Therefore, I would assign a score of 1.\\n\\n**\"\n",
      "}\n"
     ]
    }
   ],
   "execution_count": 7
  },
  {
   "metadata": {
    "ExecuteTime": {
     "end_time": "2025-09-25T05:36:06.708832Z",
     "start_time": "2025-09-25T05:35:56.586157Z"
    }
   },
   "cell_type": "code",
   "source": [
    "correct_prediction_steps = [\n",
    "    \"Fibonacci zaczyna się od 0, 1\",\n",
    "    \"Kolejne liczby to suma 2 poprzednich\",\n",
    "    \"5. liczba to 5\"\n",
    "]\n",
    "\n",
    "result = evaluator.invoke({\n",
    "    \"question\": \"Jaka jest 5. liczba ciągu Fibonacciego?\",\n",
    "    \"answer\": \"5\",\n",
    "    \"agent_trajectory\": correct_prediction_steps,\n",
    "    \"reference\": {\n",
    "        \"answer\": \"5\",\n",
    "        \"agent_trajectory\": reference_steps\n",
    "    }\n",
    "})\n",
    "\n",
    "print(json.dumps(result, indent=4))"
   ],
   "id": "5ae86bd9d01bbd5d",
   "outputs": [
    {
     "name": "stdout",
     "output_type": "stream",
     "text": [
      "{\n",
      "    \"question\": \"Jaka jest 5. liczba ci\\u0105gu Fibonacciego?\",\n",
      "    \"answer\": \"5\",\n",
      "    \"agent_trajectory\": [\n",
      "        \"Fibonacci zaczyna si\\u0119 od 0, 1\",\n",
      "        \"Kolejne liczby to suma 2 poprzednich\",\n",
      "        \"5. liczba to 5\"\n",
      "    ],\n",
      "    \"reference\": \"\\n\\nThe following is the expected answer. Use this to measure correctness:\\n[GROUND_TRUTH]\\n{'answer': '5', 'agent_trajectory': ['Fibonacci zaczyna si\\u0119 od 0, 1', 'Kolejne liczby to suma dw\\u00f3ch poprzednich', '5. liczba to 5']}\\n[END_GROUND_TRUTH]\\n\",\n",
      "    \"score\": 1.0,\n",
      "    \"reasoning\": \"Let's evaluate the AI language model's answer step by step based on the provided criteria:\\n\\ni. **Is the final answer helpful?**\\n   - Yes, the final answer \\\"5\\\" is correct and directly answers the question about the 5th number in the Fibonacci sequence.\\n\\nii. **Does the AI language model use a logical sequence of tools to answer the question?**\\n   - Yes, the sequence of statements in the agent trajectory logically explains the Fibonacci sequence, starting from the initial numbers and explaining how subsequent numbers are derived.\\n\\niii. **Does the AI language model use the tools in a helpful way?**\\n   - Yes, the model effectively used the information about the Fibonacci sequence to arrive at the correct answer. The explanation provided in the agent trajectory is clear and relevant.\\n\\niv. **Does the AI language model use too many steps to answer the question?**\\n   - No, the model did not use too many steps. The explanation is concise and directly related to the question.\\n\\nv. **Are the appropriate tools used to answer the question?**\\n   - Yes, the model used appropriate reasoning and explanation to arrive at the answer. There is no indication that additional tools were necessary for this straightforward question.\\n\\n**Judgment:** The AI language model provided a correct and helpful answer, used a logical sequence of reasoning, and did not overcomplicate the response. Therefore, it deserves a high score.\\n\\n**\"\n",
      "}\n"
     ]
    }
   ],
   "execution_count": 8
  }
 ],
 "metadata": {
  "kernelspec": {
   "display_name": "Python 3",
   "language": "python",
   "name": "python3"
  },
  "language_info": {
   "codemirror_mode": {
    "name": "ipython",
    "version": 2
   },
   "file_extension": ".py",
   "mimetype": "text/x-python",
   "name": "python",
   "nbconvert_exporter": "python",
   "pygments_lexer": "ipython2",
   "version": "2.7.6"
  }
 },
 "nbformat": 4,
 "nbformat_minor": 5
}
