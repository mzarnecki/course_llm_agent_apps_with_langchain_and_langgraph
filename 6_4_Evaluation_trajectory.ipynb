{
 "cells": [
  {
   "metadata": {
    "collapsed": true
   },
   "cell_type": "markdown",
   "source": "## Evaluation",
   "id": "8843f9eae98bb3a4"
  },
  {
   "metadata": {},
   "cell_type": "markdown",
   "source": "### Trajectory Evaluator",
   "id": "b5d3b8e3f66490ef"
  },
  {
   "metadata": {
    "ExecuteTime": {
     "end_time": "2025-09-16T07:18:15.076983Z",
     "start_time": "2025-09-16T07:18:14.997858Z"
    }
   },
   "cell_type": "code",
   "source": [
    "from langchain.evaluation import load_evaluator\n",
    "from dotenv import load_dotenv\n",
    "\n",
    "load_dotenv()\n",
    "\n",
    "evaluator = load_evaluator(\"trajectory\")\n",
    "\n",
    "reference_steps = [\n",
    "    \"Fibonacci zaczyna się od 0, 1\",\n",
    "    \"Kolejne liczby to suma dwóch poprzednich\",\n",
    "    \"5. liczba to 5\"\n",
    "]\n",
    "\n",
    "prediction_steps = [\n",
    "    \"Fibonacci zaczyna się od 0, 1\",\n",
    "    \"Kolejne liczby to suma poprzednich\",\n",
    "    \"5. liczba to 4\"\n",
    "]\n",
    "\n",
    "result = evaluator.invoke({\n",
    "    \"prediction\": prediction_steps,\n",
    "    \"reference\": reference_steps\n",
    "})\n",
    "\n",
    "\n",
    "print(result)  # {'score': 0.7, 'reasoning': 'Model dobrze zaczął, ale pomylił wynik końcowy'}\n"
   ],
   "id": "83ffe750fc6f11d4",
   "outputs": [
    {
     "ename": "ValueError",
     "evalue": "Missing some input keys: {'answer', 'agent_trajectory', 'question'}",
     "output_type": "error",
     "traceback": [
      "\u001B[31m---------------------------------------------------------------------------\u001B[39m",
      "\u001B[31mValueError\u001B[39m                                Traceback (most recent call last)",
      "\u001B[36mCell\u001B[39m\u001B[36m \u001B[39m\u001B[32mIn[5]\u001B[39m\u001B[32m, line 20\u001B[39m\n\u001B[32m      8\u001B[39m reference_steps = [\n\u001B[32m      9\u001B[39m     \u001B[33m\"\u001B[39m\u001B[33mFibonacci zaczyna się od 0, 1\u001B[39m\u001B[33m\"\u001B[39m,\n\u001B[32m     10\u001B[39m     \u001B[33m\"\u001B[39m\u001B[33mKolejne liczby to suma dwóch poprzednich\u001B[39m\u001B[33m\"\u001B[39m,\n\u001B[32m     11\u001B[39m     \u001B[33m\"\u001B[39m\u001B[33m5. liczba to 5\u001B[39m\u001B[33m\"\u001B[39m\n\u001B[32m     12\u001B[39m ]\n\u001B[32m     14\u001B[39m prediction_steps = [\n\u001B[32m     15\u001B[39m     \u001B[33m\"\u001B[39m\u001B[33mFibonacci zaczyna się od 0, 1\u001B[39m\u001B[33m\"\u001B[39m,\n\u001B[32m     16\u001B[39m     \u001B[33m\"\u001B[39m\u001B[33mKolejne liczby to suma poprzednich\u001B[39m\u001B[33m\"\u001B[39m,\n\u001B[32m     17\u001B[39m     \u001B[33m\"\u001B[39m\u001B[33m5. liczba to 4\u001B[39m\u001B[33m\"\u001B[39m\n\u001B[32m     18\u001B[39m ]\n\u001B[32m---> \u001B[39m\u001B[32m20\u001B[39m result = \u001B[43mevaluator\u001B[49m\u001B[43m.\u001B[49m\u001B[43minvoke\u001B[49m\u001B[43m(\u001B[49m\u001B[43m{\u001B[49m\n\u001B[32m     21\u001B[39m \u001B[43m    \u001B[49m\u001B[33;43m\"\u001B[39;49m\u001B[33;43mprediction\u001B[39;49m\u001B[33;43m\"\u001B[39;49m\u001B[43m:\u001B[49m\u001B[43m \u001B[49m\u001B[43mprediction_steps\u001B[49m\u001B[43m,\u001B[49m\n\u001B[32m     22\u001B[39m \u001B[43m    \u001B[49m\u001B[33;43m\"\u001B[39;49m\u001B[33;43mreference\u001B[39;49m\u001B[33;43m\"\u001B[39;49m\u001B[43m:\u001B[49m\u001B[43m \u001B[49m\u001B[43mreference_steps\u001B[49m\n\u001B[32m     23\u001B[39m \u001B[43m}\u001B[49m\u001B[43m)\u001B[49m\n\u001B[32m     26\u001B[39m \u001B[38;5;28mprint\u001B[39m(result)  \u001B[38;5;66;03m# {'score': 0.7, 'reasoning': 'Model dobrze zaczął, ale pomylił wynik końcowy'}\u001B[39;00m\n",
      "\u001B[36mFile \u001B[39m\u001B[32m~/anaconda3/lib/python3.13/site-packages/langchain/chains/base.py:167\u001B[39m, in \u001B[36mChain.invoke\u001B[39m\u001B[34m(self, input, config, **kwargs)\u001B[39m\n\u001B[32m    165\u001B[39m \u001B[38;5;28;01mexcept\u001B[39;00m \u001B[38;5;167;01mBaseException\u001B[39;00m \u001B[38;5;28;01mas\u001B[39;00m e:\n\u001B[32m    166\u001B[39m     run_manager.on_chain_error(e)\n\u001B[32m--> \u001B[39m\u001B[32m167\u001B[39m     \u001B[38;5;28;01mraise\u001B[39;00m e\n\u001B[32m    168\u001B[39m run_manager.on_chain_end(outputs)\n\u001B[32m    170\u001B[39m \u001B[38;5;28;01mif\u001B[39;00m include_run_info:\n",
      "\u001B[36mFile \u001B[39m\u001B[32m~/anaconda3/lib/python3.13/site-packages/langchain/chains/base.py:155\u001B[39m, in \u001B[36mChain.invoke\u001B[39m\u001B[34m(self, input, config, **kwargs)\u001B[39m\n\u001B[32m    148\u001B[39m run_manager = callback_manager.on_chain_start(\n\u001B[32m    149\u001B[39m     \u001B[38;5;28;01mNone\u001B[39;00m,\n\u001B[32m    150\u001B[39m     inputs,\n\u001B[32m    151\u001B[39m     run_id,\n\u001B[32m    152\u001B[39m     name=run_name,\n\u001B[32m    153\u001B[39m )\n\u001B[32m    154\u001B[39m \u001B[38;5;28;01mtry\u001B[39;00m:\n\u001B[32m--> \u001B[39m\u001B[32m155\u001B[39m     \u001B[38;5;28;43mself\u001B[39;49m\u001B[43m.\u001B[49m\u001B[43m_validate_inputs\u001B[49m\u001B[43m(\u001B[49m\u001B[43minputs\u001B[49m\u001B[43m)\u001B[49m\n\u001B[32m    156\u001B[39m     outputs = (\n\u001B[32m    157\u001B[39m         \u001B[38;5;28mself\u001B[39m._call(inputs, run_manager=run_manager)\n\u001B[32m    158\u001B[39m         \u001B[38;5;28;01mif\u001B[39;00m new_arg_supported\n\u001B[32m    159\u001B[39m         \u001B[38;5;28;01melse\u001B[39;00m \u001B[38;5;28mself\u001B[39m._call(inputs)\n\u001B[32m    160\u001B[39m     )\n\u001B[32m    162\u001B[39m     final_outputs: \u001B[38;5;28mdict\u001B[39m[\u001B[38;5;28mstr\u001B[39m, Any] = \u001B[38;5;28mself\u001B[39m.prep_outputs(\n\u001B[32m    163\u001B[39m         inputs, outputs, return_only_outputs\n\u001B[32m    164\u001B[39m     )\n",
      "\u001B[36mFile \u001B[39m\u001B[32m~/anaconda3/lib/python3.13/site-packages/langchain/chains/base.py:287\u001B[39m, in \u001B[36mChain._validate_inputs\u001B[39m\u001B[34m(self, inputs)\u001B[39m\n\u001B[32m    285\u001B[39m missing_keys = \u001B[38;5;28mset\u001B[39m(\u001B[38;5;28mself\u001B[39m.input_keys).difference(inputs)\n\u001B[32m    286\u001B[39m \u001B[38;5;28;01mif\u001B[39;00m missing_keys:\n\u001B[32m--> \u001B[39m\u001B[32m287\u001B[39m     \u001B[38;5;28;01mraise\u001B[39;00m \u001B[38;5;167;01mValueError\u001B[39;00m(\u001B[33mf\u001B[39m\u001B[33m\"\u001B[39m\u001B[33mMissing some input keys: \u001B[39m\u001B[38;5;132;01m{\u001B[39;00mmissing_keys\u001B[38;5;132;01m}\u001B[39;00m\u001B[33m\"\u001B[39m)\n",
      "\u001B[31mValueError\u001B[39m: Missing some input keys: {'answer', 'agent_trajectory', 'question'}"
     ]
    }
   ],
   "execution_count": 5
  },
  {
   "metadata": {},
   "cell_type": "code",
   "outputs": [],
   "execution_count": null,
   "source": [
    "from langchain.evaluation import load_evaluator\n",
    "\n",
    "# Ładujemy trajectory evaluator\n",
    "evaluator = load_evaluator(\"trajectory\")\n",
    "\n",
    "# Referencja – krok po kroku\n",
    "reference_steps = [\n",
    "    \"Fibonacci zaczyna się od 0 i 1\",\n",
    "    \"Kolejna liczba to 1 (0+1)\",\n",
    "    \"Następna to 2 (1+1)\",\n",
    "    \"Kolejna to 3 (1+2)\",\n",
    "    \"Następna to 5 (2+3)\"\n",
    "]\n",
    "\n",
    "# Predykcja modelu – błędny krok w środku\n",
    "prediction_steps = [\n",
    "    \"Fibonacci zaczyna się od 0 i 1\",\n",
    "    \"Kolejna liczba to 1 (0+1)\",\n",
    "    \"Następna to 2 (1+1)\",\n",
    "    \"Kolejna to 3 (1+2)\",\n",
    "    \"Następna to 4 (2+2)\"\n",
    "]\n",
    "\n",
    "# Ewaluacja\n",
    "result = evaluator.evaluate_strings(\n",
    "    prediction=prediction_steps,\n",
    "    reference=reference_steps\n",
    ")\n",
    "\n",
    "print(result)\n"
   ],
   "id": "675b1344b6fc884c"
  }
 ],
 "metadata": {
  "kernelspec": {
   "display_name": "Python 3",
   "language": "python",
   "name": "python3"
  },
  "language_info": {
   "codemirror_mode": {
    "name": "ipython",
    "version": 2
   },
   "file_extension": ".py",
   "mimetype": "text/x-python",
   "name": "python",
   "nbconvert_exporter": "python",
   "pygments_lexer": "ipython2",
   "version": "2.7.6"
  }
 },
 "nbformat": 4,
 "nbformat_minor": 5
}
