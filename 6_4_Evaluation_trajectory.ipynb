{
 "cells": [
  {
   "metadata": {
    "collapsed": true
   },
   "cell_type": "markdown",
   "source": [
    "## Ewaluacja trajektorii\n",
    "Ewaluacja trajektorii porównuje ciąg kroków rozumowania modelu (prediction) z wzorcową sekwencją (reference), oceniając zgodność merytoryczną, kolejność i kompletność poszczególnych etapów. Pozwala wykryć nie tylko błędną odpowiedź końcową, ale też gdzie w łańcuchu rozumowania pojawiło się odchylenie (np. pominięty lub zniekształcony krok), dzięki czemu jest szczególnie użyteczna przy agentach i zadaniach wieloetapowych."
   ],
   "id": "8843f9eae98bb3a4"
  },
  {
   "metadata": {},
   "cell_type": "markdown",
   "source": "### Instalacja bibliotek",
   "id": "b80dc44cfd71d5a3"
  },
  {
   "metadata": {},
   "cell_type": "code",
   "source": "!pip install langchain-core langchain-openai python-dotenv",
   "id": "7ad51017f3558c8b",
   "outputs": [],
   "execution_count": null
  },
  {
   "metadata": {},
   "cell_type": "markdown",
   "source": "### Ewaluacja trajektorii",
   "id": "3dc86332a9ac412c"
  },
  {
   "metadata": {
    "ExecuteTime": {
     "end_time": "2025-10-10T06:11:08.186999Z",
     "start_time": "2025-10-10T06:10:57.656797Z"
    }
   },
   "cell_type": "code",
   "source": [
    "from langchain.evaluation import load_evaluator\n",
    "from langchain_openai import ChatOpenAI\n",
    "from dotenv import load_dotenv\n",
    "import json\n",
    "\n",
    "load_dotenv()\n",
    "\n",
    "# LLM używany przez ewaluator\n",
    "llm = ChatOpenAI(model=\"gpt-4o-mini\", temperature=0)\n",
    "\n",
    "evaluator = load_evaluator(\"trajectory\", llm=llm)\n",
    "\n",
    "reference_steps = [\n",
    "    \"Fibonacci zaczyna się od 0, 1\",\n",
    "    \"Kolejne liczby to suma dwóch poprzednich\",\n",
    "    \"5. liczba to 5\"\n",
    "]\n",
    "\n",
    "prediction_steps = [\n",
    "    \"Fibonacci zaczyna się od 0, 1\",\n",
    "    \"Kolejne liczby to suma poprzednich\",\n",
    "    \"5. liczba to 4\"\n",
    "]\n",
    "\n",
    "result = evaluator.invoke({\n",
    "    \"question\": \"Jaka jest 5. liczba ciągu Fibonacciego?\",\n",
    "    \"answer\": \"4\",\n",
    "    \"agent_trajectory\": prediction_steps,\n",
    "    \"reference\": {\n",
    "        \"answer\": \"5\",\n",
    "        \"agent_trajectory\": reference_steps\n",
    "    }\n",
    "})\n",
    "\n",
    "print(json.dumps(result, indent=4))"
   ],
   "id": "83ffe750fc6f11d4",
   "outputs": [
    {
     "name": "stdout",
     "output_type": "stream",
     "text": [
      "{\n",
      "    \"question\": \"Jaka jest 5. liczba ci\\u0105gu Fibonacciego?\",\n",
      "    \"answer\": \"4\",\n",
      "    \"agent_trajectory\": [\n",
      "        \"Fibonacci zaczyna si\\u0119 od 0, 1\",\n",
      "        \"Kolejne liczby to suma poprzednich\",\n",
      "        \"5. liczba to 4\"\n",
      "    ],\n",
      "    \"reference\": \"\\n\\nThe following is the expected answer. Use this to measure correctness:\\n[GROUND_TRUTH]\\n{'answer': '5', 'agent_trajectory': ['Fibonacci zaczyna si\\u0119 od 0, 1', 'Kolejne liczby to suma dw\\u00f3ch poprzednich', '5. liczba to 5']}\\n[END_GROUND_TRUTH]\\n\",\n",
      "    \"score\": 0.0,\n",
      "    \"reasoning\": \"Let's evaluate the AI language model's answer step by step based on the provided criteria:\\n\\ni. **Is the final answer helpful?**\\n   - The final answer given by the AI model is \\\"4,\\\" which is incorrect. The 5th number in the Fibonacci sequence is actually \\\"5.\\\" Therefore, the answer is not helpful.\\n\\nii. **Does the AI language model use a logical sequence of tools to answer the question?**\\n   - The AI model provides a logical sequence in its reasoning by stating that the Fibonacci sequence starts with 0 and 1 and that subsequent numbers are the sum of the previous two. However, it ultimately arrives at the wrong conclusion.\\n\\niii. **Does the AI language model use the tools in a helpful way?**\\n   - The model does not appear to have used any specific tools in this case. It relies on its internal reasoning without utilizing any external tools to verify or calculate the Fibonacci sequence. This lack of tool usage is not helpful.\\n\\niv. **Does the AI language model use too many steps to answer the question?**\\n   - The model does not use an excessive number of steps; it follows a straightforward reasoning process. However, the reasoning leads to an incorrect answer.\\n\\nv. **Are the appropriate tools used to answer the question?**\\n   - The model does not use any tools at all. Given that the Fibonacci sequence is a well-defined mathematical sequence, a calculator tool could have been used to verify the answer. The absence of tool usage is a significant oversight.\\n\\n**Judgment:**\\nThe AI language model's final answer is incorrect, and it did not utilize any tools to arrive at its conclusion. While the reasoning process is logical, it ultimately leads to an incorrect answer. Therefore, the performance is poor overall.\\n\\n**\"\n",
      "}\n"
     ]
    }
   ],
   "execution_count": 1
  },
  {
   "metadata": {
    "ExecuteTime": {
     "end_time": "2025-10-10T06:11:55.678116Z",
     "start_time": "2025-10-10T06:11:48.966950Z"
    }
   },
   "cell_type": "code",
   "source": [
    "correct_prediction_steps = [\n",
    "    \"Fibonacci zaczyna się od 0, 1\",\n",
    "    \"Kolejne liczby to suma 2 poprzednich\",\n",
    "    \"5. liczba to 5\"\n",
    "]\n",
    "\n",
    "result = evaluator.invoke({\n",
    "    \"question\": \"Jaka jest 5. liczba ciągu Fibonacciego?\",\n",
    "    \"answer\": \"5\",\n",
    "    \"agent_trajectory\": correct_prediction_steps,\n",
    "    \"reference\": {\n",
    "        \"answer\": \"5\",\n",
    "        \"agent_trajectory\": reference_steps\n",
    "    }\n",
    "})\n",
    "\n",
    "print(json.dumps(result, indent=4))"
   ],
   "id": "5ae86bd9d01bbd5d",
   "outputs": [
    {
     "name": "stdout",
     "output_type": "stream",
     "text": [
      "{\n",
      "    \"question\": \"Jaka jest 5. liczba ci\\u0105gu Fibonacciego?\",\n",
      "    \"answer\": \"5\",\n",
      "    \"agent_trajectory\": [\n",
      "        \"Fibonacci zaczyna si\\u0119 od 0, 1\",\n",
      "        \"Kolejne liczby to suma 2 poprzednich\",\n",
      "        \"5. liczba to 5\"\n",
      "    ],\n",
      "    \"reference\": \"\\n\\nThe following is the expected answer. Use this to measure correctness:\\n[GROUND_TRUTH]\\n{'answer': '5', 'agent_trajectory': ['Fibonacci zaczyna si\\u0119 od 0, 1', 'Kolejne liczby to suma dw\\u00f3ch poprzednich', '5. liczba to 5']}\\n[END_GROUND_TRUTH]\\n\",\n",
      "    \"score\": 1.0,\n",
      "    \"reasoning\": \"Let's evaluate the AI language model's answer step by step based on the provided criteria:\\n\\ni. **Is the final answer helpful?**\\n   - Yes, the final answer \\\"5\\\" is correct and directly answers the question about the 5th number in the Fibonacci sequence.\\n\\nii. **Does the AI language model use a logical sequence of tools to answer the question?**\\n   - Yes, the sequence of statements in the agent trajectory logically explains the Fibonacci sequence, starting from the initial numbers and explaining how subsequent numbers are derived.\\n\\niii. **Does the AI language model use the tools in a helpful way?**\\n   - Yes, the model effectively used the information to explain the Fibonacci sequence and arrived at the correct answer. The explanation is clear and concise.\\n\\niv. **Does the AI language model use too many steps to answer the question?**\\n   - No, the model did not use too many steps. The explanation is straightforward and directly leads to the answer without unnecessary elaboration.\\n\\nv. **Are the appropriate tools used to answer the question?**\\n   - Yes, the model used the appropriate reasoning to derive the answer based on the Fibonacci sequence. The steps taken are relevant to the question asked.\\n\\n**Judgment:** The AI language model performed well in all aspects, providing a correct and helpful answer with a logical explanation. Therefore, I would give the model a score of 5.\\n\\n**\"\n",
      "}\n"
     ]
    }
   ],
   "execution_count": 2
  }
 ],
 "metadata": {
  "kernelspec": {
   "display_name": "Python 3",
   "language": "python",
   "name": "python3"
  },
  "language_info": {
   "codemirror_mode": {
    "name": "ipython",
    "version": 2
   },
   "file_extension": ".py",
   "mimetype": "text/x-python",
   "name": "python",
   "nbconvert_exporter": "python",
   "pygments_lexer": "ipython2",
   "version": "2.7.6"
  }
 },
 "nbformat": 4,
 "nbformat_minor": 5
}
