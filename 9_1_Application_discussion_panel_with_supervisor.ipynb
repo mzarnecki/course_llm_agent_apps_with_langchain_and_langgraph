{
 "cells": [
  {
   "metadata": {},
   "cell_type": "markdown",
   "source": "## Panel dyskusyjny agentów",
   "id": "97bb0a906daf9217"
  },
  {
   "cell_type": "code",
   "id": "initial_id",
   "metadata": {
    "collapsed": true,
    "ExecuteTime": {
     "end_time": "2025-09-17T19:56:18.815560Z",
     "start_time": "2025-09-17T19:56:16.484834Z"
    }
   },
   "source": [
    "%%capture --no-stderr\n",
    "%pip install -U langgraph langgraph-supervisor langchain-tavily \"langchain[openai]\""
   ],
   "outputs": [],
   "execution_count": 42
  },
  {
   "metadata": {
    "ExecuteTime": {
     "end_time": "2025-09-17T19:56:18.842604Z",
     "start_time": "2025-09-17T19:56:18.830825Z"
    }
   },
   "cell_type": "code",
   "source": [
    "from dotenv import load_dotenv\n",
    "load_dotenv()"
   ],
   "id": "6ca5bedfb2dbd68f",
   "outputs": [
    {
     "data": {
      "text/plain": [
       "True"
      ]
     },
     "execution_count": 43,
     "metadata": {},
     "output_type": "execute_result"
    }
   ],
   "execution_count": 43
  },
  {
   "metadata": {
    "ExecuteTime": {
     "end_time": "2025-09-17T19:56:21.091789Z",
     "start_time": "2025-09-17T19:56:18.882201Z"
    }
   },
   "cell_type": "code",
   "source": [
    "from langchain_tavily import TavilySearch\n",
    "\n",
    "web_search = TavilySearch(max_results=3)\n",
    "web_search_results = web_search.invoke(\"who is the mayor of NYC?\")\n",
    "\n",
    "print(web_search_results[\"results\"][0][\"content\"])"
   ],
   "id": "620a7740e7f5eac7",
   "outputs": [
    {
     "name": "stdout",
     "output_type": "stream",
     "text": [
      "[Skip to main content](https://www.nyc.gov/mayors-office/mayors-bio#mainContent) *   [Services](https://www.nyc.gov/main/services) *   [View all services](https://www.nyc.gov/main/services) *   [Events](https://www.nyc.gov/main/events) *   [Office of the Mayor](https://www.nyc.gov/mayors-office) *   [Your government](https://www.nyc.gov/main/your-government) *   [Understanding local government](https://www.nyc.gov/main/your-government) *   [nyc.gov home](https://www.nyc.gov/main) [NYC](https://www.nyc.gov/) [NYC](https://www.nyc.gov/) [Office of the Mayor](https://www.nyc.gov/mayors-office) *   [News](https://www.nyc.gov/mayors-office/news) *   [Contact the Mayor](https://www.nyc.gov/mayors-office/contact-the-mayor) *   [Biography](https://www.nyc.gov/mayors-office/mayors-bio) [Contact the Mayor](https://www.nyc.gov/mayors-office/contact-the-mayor) ![Image 2](https://www.nyc.gov/adobe/dynamicmedia/deliver/dm-aid--052e534c-1b88-4f18-835e-49b66126c154/mayors-bio-crop-jpg.webp?preferwebp=true) Mayor Eric Adams has served the people of New York City as an NYPD officer, State Senator, Brooklyn Borough President, and now as the 110th Mayor of the City of New York. *   [Mayor’s Office news](https://www.nyc.gov/mayors-office/news) *   [Executive Orders](https://www.nyc.gov/mayors-office/news?types=executive-orders) *   [Biography](https://www.nyc.gov/mayors-office/mayors-bio) *   [Contact the Mayor](https://www.nyc.gov/mayors-office/contact-the-mayor) *   [Mayor’s Office accessibility statement](https://www.nyc.gov/mayors-office/mayors-office-accessibility) *   [![Image 4: Instagram](https://www.nyc.gov/adobe/dynamicmedia/deliver/dm-aid--5eb58d0b-7f88-492e-8e24-22af7186a856/Instagram-png.webp?preferwebp=true)](http://instagram.com/nycmayorsoffice) *   [![Image 8: Flickr](https://www.nyc.gov/adobe/dynamicmedia/deliver/dm-aid--772957e4-9bd9-4ddf-870b-1dc0dbecdca8/flickr-png.webp?preferwebp=true)](http://www.flickr.com/photos/nycmayorsoffice/) *   [nyc.gov home](https://www.nyc.gov/main) *   [Services](https://www.nyc.gov/main/services) *   [Events](https://www.nyc.gov/main/events) *   [Office of the Mayor](https://www.nyc.gov/mayors-office) *   [Your government](https://www.nyc.gov/main/your-government) *   [Website feedback](https://www.nyc.gov/main/forms/website-feedback)\n"
     ]
    }
   ],
   "execution_count": 44
  },
  {
   "metadata": {},
   "cell_type": "markdown",
   "source": "### Funkcje pomocnicze",
   "id": "fb07bbe68f6aa9ca"
  },
  {
   "metadata": {
    "ExecuteTime": {
     "end_time": "2025-09-17T19:56:21.167856Z",
     "start_time": "2025-09-17T19:56:21.162197Z"
    }
   },
   "cell_type": "code",
   "source": [
    "from langchain_core.messages import convert_to_messages\n",
    "\n",
    "\n",
    "def pretty_print_message(message, indent=False):\n",
    "    pretty_message = message.pretty_repr(html=True)\n",
    "    if not indent:\n",
    "        print(pretty_message)\n",
    "        return\n",
    "\n",
    "    indented = \"\\n\".join(\"\\t\" + c for c in pretty_message.split(\"\\n\"))\n",
    "    print(indented)\n",
    "\n",
    "\n",
    "def pretty_print_messages(update, last_message=False):\n",
    "    is_subgraph = False\n",
    "    if isinstance(update, tuple):\n",
    "        ns, update = update\n",
    "        # skip parent graph updates in the printouts\n",
    "        if len(ns) == 0:\n",
    "            return\n",
    "\n",
    "        graph_id = ns[-1].split(\":\")[0]\n",
    "        print(f\"Update from subgraph {graph_id}:\")\n",
    "        print(\"\\n\")\n",
    "        is_subgraph = True\n",
    "\n",
    "    for node_name, node_update in update.items():\n",
    "        update_label = f\"Update from node {node_name}:\"\n",
    "        if is_subgraph:\n",
    "            update_label = \"\\t\" + update_label\n",
    "\n",
    "        print(update_label)\n",
    "        print(\"\\n\")\n",
    "\n",
    "        messages = convert_to_messages(node_update[\"messages\"])\n",
    "        if last_message:\n",
    "            messages = messages[-1:]\n",
    "\n",
    "        for m in messages:\n",
    "            pretty_print_message(m, indent=is_subgraph)\n",
    "        print(\"\\n\")"
   ],
   "id": "6b17048f5fa7d99c",
   "outputs": [],
   "execution_count": 45
  },
  {
   "metadata": {},
   "cell_type": "markdown",
   "source": "### Agent researcher",
   "id": "6af42764d7f3e8af"
  },
  {
   "metadata": {
    "ExecuteTime": {
     "end_time": "2025-09-17T19:56:21.243055Z",
     "start_time": "2025-09-17T19:56:21.221761Z"
    }
   },
   "cell_type": "code",
   "source": [
    "from langgraph.prebuilt import create_react_agent\n",
    "\n",
    "research_agent = create_react_agent(\n",
    "    model=\"openai:gpt-4.1\",\n",
    "    tools=[web_search],\n",
    "    prompt=(\n",
    "     \"Jesteś Researcherem. Masz dostęp do fragmentów z 'wyszukiwarki' (RESEARCH).\\n\"\n",
    "     \"Twoim celem jest dostarczyć rzeczowe, krótkie fakty i dane wspierające temat.\\n\"\n",
    "     \"Odnoś się do fragmentów i nie fantazjuj. Pisz po polsku, zwięźle.\"\n",
    "        \"- Po tym jak skończysz swoje zadanie odpowiedz bezpośrednio do moderatora\\n\"\n",
    "        \"- Odpowiadaj używając tylko rezultatów swojej pracy, nie załączaj tekstu.\"\n",
    "    ),\n",
    "    name=\"research_agent\",\n",
    ")"
   ],
   "id": "cb0e40cf498c9fbb",
   "outputs": [],
   "execution_count": 46
  },
  {
   "metadata": {},
   "cell_type": "markdown",
   "source": "### Agent ekspert",
   "id": "839d318a9bca3ce1"
  },
  {
   "metadata": {
    "ExecuteTime": {
     "end_time": "2025-09-17T19:56:21.285435Z",
     "start_time": "2025-09-17T19:56:21.278769Z"
    }
   },
   "cell_type": "code",
   "source": [
    "expert_agent = create_react_agent(\n",
    "    model=\"openai:gpt-4.1\",\n",
    "    tools=[],\n",
    "    prompt=(\n",
    "       \"Jesteś Ekspertem. Z dostępnych faktów zaproponuj praktyczne rozwiązanie/plan.\\n\"\n",
    "       \"Uwzględnij kroki, wymagania i minimalny zestaw decyzji. Pisz po polsku, konkretnie.\"\n",
    "        \"- Po tym jak skończysz swoje zadanie odpowiedz bezpośrednio do moderatora\\n\"\n",
    "        \"- Odpowiadaj używając tylko rezultatów swojej pracy, nie załączaj tekstu.\"\n",
    "    ),\n",
    "    name=\"expert_agent\",\n",
    ")"
   ],
   "id": "ffb970d0000fdfd",
   "outputs": [],
   "execution_count": 47
  },
  {
   "metadata": {},
   "cell_type": "markdown",
   "source": "### Agent krytyk",
   "id": "f4db62c730e30b99"
  },
  {
   "metadata": {
    "ExecuteTime": {
     "end_time": "2025-09-17T19:56:21.341258Z",
     "start_time": "2025-09-17T19:56:21.334467Z"
    }
   },
   "cell_type": "code",
   "source": [
    "critic_agent = create_react_agent(\n",
    "    model=\"openai:gpt-4.1\",\n",
    "    tools=[],\n",
    "    prompt=(\n",
    "     \"Jesteś Krytykiem. Twoją rolą jest znaleźć luki, ryzyka i niejasności w propozycji.\\n\"\n",
    "     \"Zadawaj dociekliwe pytania i wskaż brakujące elementy. Bądź konstruktywny.\"\n",
    "        \"- Po tym jak skończysz swoje zadanie odpowiedz bezpośrednio do moderatora\\n\"\n",
    "        \"- Odpowiadaj używając tylko rezultatów swojej pracy, nie załączaj tekstu.\"\n",
    "    ),\n",
    "    name=\"critic_agent\",\n",
    ")"
   ],
   "id": "1437892b80c930bb",
   "outputs": [],
   "execution_count": 48
  },
  {
   "metadata": {
    "ExecuteTime": {
     "end_time": "2025-09-17T19:56:21.416072Z",
     "start_time": "2025-09-17T19:56:21.390438Z"
    }
   },
   "cell_type": "code",
   "source": [
    "from typing import Annotated\n",
    "from langchain_core.tools import tool, InjectedToolCallId\n",
    "from langgraph.prebuilt import InjectedState\n",
    "from langgraph.graph import StateGraph, START, MessagesState\n",
    "from langgraph.types import Command\n",
    "\n",
    "\n",
    "def create_handoff_tool(*, agent_name: str, description: str | None = None):\n",
    "    name = f\"transfer_to_{agent_name}\"\n",
    "    description = description or f\"Ask {agent_name} for help.\"\n",
    "\n",
    "    @tool(name, description=description)\n",
    "    def handoff_tool(\n",
    "        state: Annotated[MessagesState, InjectedState],\n",
    "        tool_call_id: Annotated[str, InjectedToolCallId],\n",
    "    ) -> Command:\n",
    "        tool_message = {\n",
    "            \"role\": \"tool\",\n",
    "            \"content\": f\"Successfully transferred to {agent_name}\",\n",
    "            \"name\": name,\n",
    "            \"tool_call_id\": tool_call_id,\n",
    "        }\n",
    "        return Command(\n",
    "            goto=agent_name,\n",
    "            update={**state, \"messages\": state[\"messages\"] + [tool_message]},\n",
    "            graph=Command.PARENT,\n",
    "        )\n",
    "\n",
    "    return handoff_tool\n",
    "\n",
    "# Handoffs\n",
    "assign_to_research_agent = create_handoff_tool(\n",
    "    agent_name=\"research_agent\",\n",
    "    description=\"Assign task to a researcher agent.\",\n",
    ")\n",
    "\n",
    "assign_to_expert_agent = create_handoff_tool(\n",
    "    agent_name=\"expert_agent\",\n",
    "    description=\"Assign task to a expert agent.\",\n",
    ")\n",
    "\n",
    "assign_to_critic_agent = create_handoff_tool(\n",
    "    agent_name=\"critic_agent\",\n",
    "    description=\"Assign task to a critic agent.\",\n",
    ")"
   ],
   "id": "c136c01546eaf073",
   "outputs": [],
   "execution_count": 49
  },
  {
   "metadata": {},
   "cell_type": "markdown",
   "source": "### Agent moderator",
   "id": "513ecff2e25b4234"
  },
  {
   "metadata": {
    "ExecuteTime": {
     "end_time": "2025-09-17T19:56:21.482718Z",
     "start_time": "2025-09-17T19:56:21.470784Z"
    }
   },
   "cell_type": "code",
   "source": [
    "supervisor_agent = create_react_agent(\n",
    "    model=\"openai:gpt-4.1\",\n",
    "    tools=[assign_to_research_agent, assign_to_expert_agent, assign_to_critic_agent],\n",
    "    prompt=(\n",
    "        \"Jesteś Moderatorem dyskusji w której birą udział 3 agenci: Researcher, Krytyk i Ekspert . Decydujesz, czy kończymy, czy kontynuujemy.\\n\"\n",
    "        \"Jeśli kontynuujemy, podaj KRÓTKIE kolejne zapytanie badawcze (research_query) \"\n",
    "        \"dla Researchera, Krytyka lub Eksperta. Pisz po polsku. Jeżeli kończymy podsumuj dyskusję i przedstaw w utrukturyzowany i czytelny sposób odpowiedź na pytanie.\"\n",
    "        \"- Researcher. Wyszukuje informacje i podaje fakty, które stanowią podstawe dalszej dyskucji\\n\"\n",
    "        \"- Krytyk. Patrzy asertywnie na dotychczasowe wnioski i wskazuje słabe punkty i elemanty do zmiany lub poprawienia\\n\"\n",
    "        \"- Ekspert. Wyciąga wnioski i stawia tezy. Stara się rozwiązać zadanie na podstawie informacji otrzyumanych od Researchera i Krytyka\\n\"\n",
    "        \"Przypisz pracę jednemu agentowi naraz, nie wywołuj agentów równolegle.\\n\"\n",
    "        \"Samodzielnie nie bierz udziału w dyskusji pracy.\"\n",
    "    ),\n",
    "    name=\"supervisor\",\n",
    ")"
   ],
   "id": "accd53e012371c8",
   "outputs": [],
   "execution_count": 50
  },
  {
   "metadata": {
    "ExecuteTime": {
     "end_time": "2025-09-17T19:56:21.536849Z",
     "start_time": "2025-09-17T19:56:21.532637Z"
    }
   },
   "cell_type": "code",
   "source": [
    "from langgraph.graph import END\n",
    "\n",
    "# Define the multi-agent supervisor graph\n",
    "supervisor = (\n",
    "    StateGraph(MessagesState)\n",
    "    # NOTE: `destinations` is only needed for visualization and doesn't affect runtime behavior\n",
    "    .add_node(supervisor_agent, destinations=(\"research_agent\", \"expert_agent\", \"critic_agent\", END))\n",
    "    .add_node(research_agent)\n",
    "    .add_node(expert_agent)\n",
    "    .add_node(critic_agent)\n",
    "    .add_edge(START, \"supervisor\")\n",
    "    # always return back to the supervisor\n",
    "    .add_edge(\"research_agent\", \"supervisor\")\n",
    "    .add_edge(\"expert_agent\", \"supervisor\")\n",
    "    .add_edge(\"critic_agent\", \"supervisor\")\n",
    "    .compile()\n",
    ")"
   ],
   "id": "31c92e2bceca9fff",
   "outputs": [],
   "execution_count": 51
  },
  {
   "metadata": {},
   "cell_type": "markdown",
   "source": "### Wyświetl graf",
   "id": "cc9402b36006bbe4"
  },
  {
   "metadata": {
    "ExecuteTime": {
     "end_time": "2025-09-17T19:56:21.673725Z",
     "start_time": "2025-09-17T19:56:21.586886Z"
    }
   },
   "cell_type": "code",
   "source": [
    "from IPython.display import display, Image\n",
    "\n",
    "display(Image(supervisor.get_graph().draw_mermaid_png()))"
   ],
   "id": "8c8bad64037311e0",
   "outputs": [
    {
     "data": {
      "image/png": "[encoded data removed]",
      "text/plain": [
       "<IPython.core.display.Image object>"
      ]
     },
     "metadata": {},
     "output_type": "display_data",
     "jetTransient": {
      "display_id": null
     }
    }
   ],
   "execution_count": 52
  },
  {
   "metadata": {},
   "cell_type": "markdown",
   "source": "### Przeprowadź dyskusję na zadany temat i wyświetl odpowiedź",
   "id": "15a6e44afd93753d"
  },
  {
   "metadata": {
    "ExecuteTime": {
     "end_time": "2025-09-17T19:57:00.842656Z",
     "start_time": "2025-09-17T19:56:21.690991Z"
    }
   },
   "cell_type": "code",
   "source": [
    "for chunk in supervisor.stream(\n",
    "    {\n",
    "        \"messages\": [\n",
    "            {\n",
    "                \"role\": \"user\",\n",
    "                \"content\":\" Jakiej dziedziny najlepiej uczyć się, żeby mieć dobrze płatny i interesujący zawód za 10 lat.\",\n",
    "            }\n",
    "        ]\n",
    "    },\n",
    "    subgraphs=True,\n",
    "):\n",
    "    pretty_print_messages(chunk, last_message=True)"
   ],
   "id": "c16218c2acc578a0",
   "outputs": [
    {
     "name": "stdout",
     "output_type": "stream",
     "text": [
      "Update from subgraph supervisor:\n",
      "\n",
      "\n",
      "\tUpdate from node agent:\n",
      "\n",
      "\n",
      "\t==================================\u001B[1m Ai Message \u001B[0m==================================\n",
      "\tName: supervisor\n",
      "\tTool Calls:\n",
      "\t  transfer_to_research_agent (call_4Me4WWWOPRGc136A0m2Jfhwh)\n",
      "\t Call ID: call_4Me4WWWOPRGc136A0m2Jfhwh\n",
      "\t  Args:\n",
      "\n",
      "\n",
      "Update from subgraph research_agent:\n",
      "\n",
      "\n",
      "\tUpdate from node agent:\n",
      "\n",
      "\n",
      "\t==================================\u001B[1m Ai Message \u001B[0m==================================\n",
      "\tName: research_agent\n",
      "\tTool Calls:\n",
      "\t  tavily_search (call_Bz62OqhfQ5ltqCgkuI6Wo3Pp)\n",
      "\t Call ID: call_Bz62OqhfQ5ltqCgkuI6Wo3Pp\n",
      "\t  Args:\n",
      "\t    query: najlepiej płatne i rozwijające się kierunki studiów i branże przyszłości w Polsce i na świecie prognozy na 2030 rok\n",
      "\n",
      "\n",
      "Update from subgraph research_agent:\n",
      "\n",
      "\n",
      "\tUpdate from node tools:\n",
      "\n",
      "\n",
      "\t=================================\u001B[1m Tool Message \u001B[0m=================================\n",
      "\tName: tavily_search\n",
      "\t\n",
      "\t{\"query\": \"najlepiej płatne i rozwijające się kierunki studiów i branże przyszłości w Polsce i na świecie prognozy na 2030 rok\", \"follow_up_questions\": null, \"answer\": null, \"images\": [], \"results\": [{\"url\": \"https://www.otouczelnie.pl/artykul/15893/Oplacalne-kierunki-studiow\", \"title\": \"Opłacalne KIERUNKI STUDIÓW 2025 | co studiować - otouczelnie.pl\", \"content\": \"Zestawienie kierunków, po których zarabia się najlepiej · Informatyka – 5700 zł, · Elektronika telekomunikacyjna – 4900 zł, · Automatyka i robotyka – 4700 zł,\", \"score\": 0.98557, \"raw_content\": null}, {\"url\": \"https://vistula.edu.pl/jakie-sa-najbardziej-przyszlosciowe-i-oplacalne-kierunki-studiow-w-2025\", \"title\": \"Jakie są najbardziej przyszłościowe i opłacalne kierunki studiów w ...\", \"content\": \"Przegląd przyszłościowych kierunków studiów na rok 2025 – ranking · 1. Informatyka · 2. Zarządzanie · 3. Finanse i rachunkowość z akredytacją ACCA.\", \"score\": 0.98124, \"raw_content\": null}, {\"url\": \"https://perspektywy.pl/portal/index.php?option=com_content&view=article&id=11051&catid=24&Itemid=119\", \"title\": \"Ranking Kierunków Studiów Perspektywy 2025 – sprawdź, co warto ...\", \"content\": \"W 2025 roku Ranking Kierunków Studiów objął aż 75 kierunków w dziewięciu dziedzinach. Nowością w tym roku jest dodanie studiów AI & Data Science\", \"score\": 0.97929, \"raw_content\": null}], \"response_time\": 2.8, \"request_id\": \"c9f33ff0-2690-4084-bf44-a6e21b2e996b\"}\n",
      "\n",
      "\n",
      "Update from subgraph research_agent:\n",
      "\n",
      "\n",
      "\tUpdate from node agent:\n",
      "\n",
      "\n",
      "\t==================================\u001B[1m Ai Message \u001B[0m==================================\n",
      "\tName: research_agent\n",
      "\t\n",
      "\tWedług aktualnych prognoz i rankingów, najbardziej opłacalne i przyszłościowe kierunki studiów i branże, które za 10 lat mogą zapewnić dobrze płatny i interesujący zawód, to: informatyka (w tym sztuczna inteligencja i data science), elektronika i telekomunikacja, automatyka i robotyka, zarządzanie, finanse i rachunkowość z międzynarodową akredytacją. Branże związane z nowoczesnymi technologiami oraz analityką danych wskazywane są jako najbardziej perspektywiczne na przyszłość.\n",
      "\n",
      "\n",
      "Update from subgraph supervisor:\n",
      "\n",
      "\n",
      "\tUpdate from node agent:\n",
      "\n",
      "\n",
      "\t==================================\u001B[1m Ai Message \u001B[0m==================================\n",
      "\tName: supervisor\n",
      "\tTool Calls:\n",
      "\t  transfer_to_critic_agent (call_TCWEoi5mKIDYrZmF1aHWYy8n)\n",
      "\t Call ID: call_TCWEoi5mKIDYrZmF1aHWYy8n\n",
      "\t  Args:\n",
      "\n",
      "\n",
      "Update from subgraph critic_agent:\n",
      "\n",
      "\n",
      "\tUpdate from node agent:\n",
      "\n",
      "\n",
      "\t==================================\u001B[1m Ai Message \u001B[0m==================================\n",
      "\tName: critic_agent\n",
      "\t\n",
      "\t1. Niejasność definicji „interesujący”: Propozycja skupia się głównie na opłacalności (wysokich zarobkach) oraz aktualnych trendach, nie definiując, czym jest „interesujący zawód”, co jest kluczowe dla subiektywnej satysfakcji zawodowej. Interesujące dla jednej osoby (np. kreatywność, kontakt z ludźmi) nie musi być atrakcyjne dla innej.\n",
      "\t\n",
      "\t2. Brak konkretów dotyczących przyszłości rynku: Zestawienie opiera się głównie na danych do 2025 r. i ekstrapolacji obecnych trendów, nie biorąc pod uwagę możliwych zmian technologicznych, ekonomicznych, regulacyjnych (np. zmiany klimatu, automatyzacja pracy, rewolucja AI), które mogą znacząco zmienić rynek za 10 lat.\n",
      "\t\n",
      "\t3. Ograniczone źródła: Przytoczono jedynie rankingi i analizy dotyczące studiów w Polsce i Europie, bez odniesienia do globalnych trendów, takich jak starzenie się społeczeństw, rozwój zielonych technologii czy ekspansja rynków Azjatyckich.\n",
      "\t\n",
      "\t4. Brak analizy podatności zawodów na automatyzację: Rekomendowane dziedziny (np. finanse i rachunkowość) są potencjalnie mocno podatne na automatyzację przez AI, co może zagrozić ich przyszłej opłacalności.\n",
      "\t\n",
      "\t5. Pominięcie kompetencji miękkich i elastyczności zawodowej: Nie wspomniano o rosnącej roli umiejętności miękkich (kreatywność, adaptacja, współpraca), które mogą być kluczowe w zawodach przyszłości, ani o konieczności ciągłego dokształcania się.\n",
      "\t\n",
      "\t6. Brak sugestii dotyczących niszowych, nietypowych sektorów: Pominęto branże powstające (np. technologie biotechnologiczne, kosmiczne, etyka AI, cyberbezpieczeństwo), które mogą w 2034 roku mocno zyskać na znaczeniu i atrakcyjności.\n",
      "\t\n",
      "\t7. Ryzyko nadprodukcji specjalistów: Popularność określonych kierunków może skutkować przesyceniem rynku absolwentami, prowadząc do trudności w znalezieniu pracy mimo wysokiego potencjału wynagrodzenia.\n",
      "\t\n",
      "\tModeratorze – rekomenduję doprecyzowanie oczekiwań użytkownika (np. co oznacza dla niego „interesujący”), uwzględnienie ryzyk dynamicznych zmian rynkowych, podatności branż na automatyzację oraz wyjście poza najpopularniejsze zawody w analizie. Warto by odpowiedź zawierała informacje o konieczności elastyczności oraz rozwijaniu umiejętności przyszłości, nie tylko twardych kompetencji branżowych.\n",
      "\n",
      "\n",
      "Update from subgraph supervisor:\n",
      "\n",
      "\n",
      "\tUpdate from node agent:\n",
      "\n",
      "\n",
      "\t==================================\u001B[1m Ai Message \u001B[0m==================================\n",
      "\tName: supervisor\n",
      "\tTool Calls:\n",
      "\t  transfer_to_expert_agent (call_f4RnzQYT6XZrv3loHxtSeVXF)\n",
      "\t Call ID: call_f4RnzQYT6XZrv3loHxtSeVXF\n",
      "\t  Args:\n",
      "\n",
      "\n",
      "Update from subgraph expert_agent:\n",
      "\n",
      "\n",
      "\tUpdate from node agent:\n",
      "\n",
      "\n",
      "\t==================================\u001B[1m Ai Message \u001B[0m==================================\n",
      "\tName: expert_agent\n",
      "\t\n",
      "\tPraktyczny plan wyboru dziedziny zapewniającej dobrze płatny i interesujący zawód za 10 lat:\n",
      "\t\n",
      "\t1. Zbadaj swoje zainteresowania („interesujący” zawód jest subiektywny – określ, co Cię motywuje: praca z ludźmi, kreatywność, technologie, bezpieczeństwo, wpływ społeczny).\n",
      "\t2. Postaw na obszary odporne na automatyzację i gwałtowne zmiany rynku, np.:\n",
      "\t   - Technologie informatyczne (AI, data science, cyberbezpieczeństwo, programowanie)\n",
      "\t   - Automatyka/robotyka, mechatronika, biotechnologie\n",
      "\t   - Zielone technologie, odnawialne źródła energii, inżynieria środowiska\n",
      "\t   - Analiza danych/AI wspierające sektory zdrowia, medycyny, psychologii, usług senioralnych (starzejące się społeczeństwo)\n",
      "\t   - Prawo i etyka nowych technologii\n",
      "\t   - Twórcze zawody humanistyczne, marketing technologiczny, UX design\n",
      "\t3. Rozwijaj silne kompetencje miękkie (kreatywność, rozwiązywanie problemów, adaptacja, współpraca), bo są kluczowe niezależnie od branży.\n",
      "\t4. Wybierz interdyscyplinarność – łącz umiejętności z różnych dziedzin (np. programowanie + medycyna, inżynieria + ekologia).\n",
      "\t5. Planuj ciągłe dokształcanie się – środowisko pracy będzie się szybko zmieniać, zadbaj o gotowość do przekwalifikowania.\n",
      "\t\n",
      "\tMinimalny zestaw decyzji:\n",
      "\t- Określ, co dla Ciebie oznacza „interesujący” zawód.\n",
      "\t- Wybierz 2-3 priorytetowe branże przyszłości (np. AI, zielona energia, bioinżynieria).\n",
      "\t- Sprawdź swoje predyspozycje (testy, konsultacje zawodowe).\n",
      "\t- Wybierz studia/kursy łączące kierunki przyszłości z Twoimi mocnymi stronami.\n",
      "\t- Planuj regularne aktualizowanie wiedzy i umiejętności.\n",
      "\t\n",
      "\tPlan jest elastyczny, pozwala na dostosowanie do zmian rynkowych i indywidualnych zainteresowań.\n",
      "\n",
      "\n",
      "Update from subgraph supervisor:\n",
      "\n",
      "\n",
      "\tUpdate from node agent:\n",
      "\n",
      "\n",
      "\t==================================\u001B[1m Ai Message \u001B[0m==================================\n",
      "\tName: supervisor\n",
      "\t\n",
      "\tPODSUMOWANIE DYSKUSJI\n",
      "\t\n",
      "\t1. Researcher zebrał dane o najbardziej perspektywicznych i opłacalnych dziedzinach (informatyka, AI, automatyka, finanse), opierając się na prognozach oraz rankingach na najbliższe lata.\n",
      "\t2. Krytyk wskazał na ograniczenia tej analizy: nadmierne skupienie na obecnych trendach, brak precyzyjnego określenia \"interesujący zawód\", nieuwzględnienie automatyzacji, kompetencji miękkich oraz możliwego przesycenia rynku w popularnych branżach.\n",
      "\t3. Ekspert wyciągnął wnioski, podkreślając konieczność dostosowania wyboru branży do własnych zainteresowań, odporności na automatyzację, rozwoju kompetencji miękkich i interdyscyplinarności, a także stałej gotowości do przekwalifikowania.\n",
      "\t\n",
      "\tODPOWIEDŹ\n",
      "\t\n",
      "\tAby za 10 lat mieć dobrze płatny i interesujący zawód:\n",
      "\t\n",
      "\t1. Samodzielnie określ, co dla Ciebie oznacza „interesujący” zawód (np. praca kreatywna, techniczna, z ludźmi itp.).\n",
      "\t2. Wybierz branżę odporną na automatyzację i zmiany technologiczne, np.:\n",
      "\t   • Informatyka (AI, cyberbezpieczeństwo, data science)\n",
      "\t   • Zielone technologie i energetyka, inżynieria środowiska\n",
      "\t   • Automatyka i robotyka, biotechnologie\n",
      "\t   • Usługi dla starzejącego się społeczeństwa (medycyna, zdrowie)\n",
      "\t   • Prawo i etyka nowych technologii, UX design\n",
      "\t3. Rozwijaj kompetencje miękkie: elastyczność, kreatywność, współpraca, rozwiązywanie problemów.\n",
      "\t4. Postaw na interdyscyplinarność (łączenie wiedzy z różnych dziedzin).\n",
      "\t5. Planuj ciągłe dokształcanie i gotowość do zmian zawodowych.\n",
      "\t\n",
      "\tŻadna branża nie gwarantuje sukcesu – kluczowe jest połączenie własnych predyspozycji z kompetencjami przyszłości i otwartość na rozwój.\n",
      "\n",
      "\n"
     ]
    }
   ],
   "execution_count": 53
  }
 ],
 "metadata": {
  "kernelspec": {
   "display_name": "Python 3",
   "language": "python",
   "name": "python3"
  },
  "language_info": {
   "codemirror_mode": {
    "name": "ipython",
    "version": 2
   },
   "file_extension": ".py",
   "mimetype": "text/x-python",
   "name": "python",
   "nbconvert_exporter": "python",
   "pygments_lexer": "ipython2",
   "version": "2.7.6"
  }
 },
 "nbformat": 4,
 "nbformat_minor": 5
}
