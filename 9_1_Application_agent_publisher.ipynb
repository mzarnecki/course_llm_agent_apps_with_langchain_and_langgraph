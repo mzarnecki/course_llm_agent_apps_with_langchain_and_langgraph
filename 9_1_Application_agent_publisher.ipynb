{
 "cells": [
  {
   "metadata": {},
   "cell_type": "markdown",
   "source": "## Agent wydawca",
   "id": "97bb0a906daf9217"
  },
  {
   "metadata": {},
   "cell_type": "markdown",
   "source": "### Instalacja bibliotek",
   "id": "2b745d94d0429b23"
  },
  {
   "cell_type": "code",
   "id": "initial_id",
   "metadata": {
    "collapsed": true,
    "ExecuteTime": {
     "end_time": "2025-09-19T06:37:15.802001Z",
     "start_time": "2025-09-19T06:37:14.081658Z"
    }
   },
   "source": [
    "%%capture --no-stderr\n",
    "%pip install -U langgraph langgraph-supervisor langchain-tavily \"langchain[openai]\""
   ],
   "outputs": [],
   "execution_count": 26
  },
  {
   "metadata": {
    "ExecuteTime": {
     "end_time": "2025-09-19T06:37:15.818589Z",
     "start_time": "2025-09-19T06:37:15.814566Z"
    }
   },
   "cell_type": "code",
   "source": [
    "from dotenv import load_dotenv\n",
    "load_dotenv()"
   ],
   "id": "6ca5bedfb2dbd68f",
   "outputs": [
    {
     "data": {
      "text/plain": [
       "True"
      ]
     },
     "execution_count": 27,
     "metadata": {},
     "output_type": "execute_result"
    }
   ],
   "execution_count": 27
  },
  {
   "metadata": {
    "ExecuteTime": {
     "end_time": "2025-09-19T06:37:17.585073Z",
     "start_time": "2025-09-19T06:37:15.871935Z"
    }
   },
   "cell_type": "code",
   "source": [
    "from langchain_tavily import TavilySearch\n",
    "\n",
    "web_search = TavilySearch(max_results=3)\n",
    "web_search_results = web_search.invoke(\"Kto jest premierem Polski?\")\n",
    "\n",
    "print(web_search_results[\"results\"][0][\"content\"])"
   ],
   "id": "620a7740e7f5eac7",
   "outputs": [
    {
     "name": "stdout",
     "output_type": "stream",
     "text": [
      "Donald Tusk był już premierem Polski w latach 2007-14, potem dwukrotnie przewodniczącym Rady Europejskiej, a dziś jest liderem Koalicji\n"
     ]
    }
   ],
   "execution_count": 28
  },
  {
   "metadata": {},
   "cell_type": "markdown",
   "source": "### Funkcje pomocnicze",
   "id": "fb07bbe68f6aa9ca"
  },
  {
   "metadata": {
    "ExecuteTime": {
     "end_time": "2025-09-19T06:37:17.647841Z",
     "start_time": "2025-09-19T06:37:17.642918Z"
    }
   },
   "cell_type": "code",
   "source": [
    "from langchain_core.messages import convert_to_messages\n",
    "\n",
    "\n",
    "def pretty_print_message(message, indent=False):\n",
    "    pretty_message = message.pretty_repr(html=True)\n",
    "    if not indent:\n",
    "        print(pretty_message)\n",
    "        return\n",
    "\n",
    "    indented = \"\\n\".join(\"\\t\" + c for c in pretty_message.split(\"\\n\"))\n",
    "    print(indented)\n",
    "\n",
    "\n",
    "def pretty_print_messages(update, last_message=False):\n",
    "    is_subgraph = False\n",
    "    if isinstance(update, tuple):\n",
    "        ns, update = update\n",
    "        # skip parent graph updates in the printouts\n",
    "        if len(ns) == 0:\n",
    "            return\n",
    "\n",
    "        graph_id = ns[-1].split(\":\")[0]\n",
    "        print(f\"Update from subgraph {graph_id}:\")\n",
    "        print(\"\\n\")\n",
    "        is_subgraph = True\n",
    "\n",
    "    for node_name, node_update in update.items():\n",
    "        update_label = f\"Update from node {node_name}:\"\n",
    "        if is_subgraph:\n",
    "            update_label = \"\\t\" + update_label\n",
    "\n",
    "        print(update_label)\n",
    "        print(\"\\n\")\n",
    "\n",
    "        messages = convert_to_messages(node_update[\"messages\"])\n",
    "        if last_message:\n",
    "            messages = messages[-1:]\n",
    "\n",
    "        for m in messages:\n",
    "            pretty_print_message(m, indent=is_subgraph)\n",
    "        print(\"\\n\")\n",
    "\n",
    "\n",
    "def _name_and_content(msg):\n",
    "    if isinstance(msg, dict):\n",
    "        return msg.get(\"name\", msg.get(\"role\", \"user\")), msg.get(\"content\", str(msg))\n",
    "    if isinstance(msg, BaseMessage):\n",
    "        # name może być None; type zwraca \"human\"/\"ai\"/\"system\"/\"tool\"\n",
    "        name = getattr(msg, \"name\", None) or getattr(msg, \"type\", \"user\")\n",
    "        return name, msg.content\n",
    "    return \"user\", str(msg)\n"
   ],
   "id": "6b17048f5fa7d99c",
   "outputs": [],
   "execution_count": 29
  },
  {
   "metadata": {},
   "cell_type": "markdown",
   "source": "### Agent researcher",
   "id": "6af42764d7f3e8af"
  },
  {
   "metadata": {
    "ExecuteTime": {
     "end_time": "2025-09-19T06:37:17.696821Z",
     "start_time": "2025-09-19T06:37:17.692933Z"
    }
   },
   "cell_type": "code",
   "source": [
    "from langchain_core.output_parsers import StrOutputParser\n",
    "from langchain_openai import ChatOpenAI\n",
    "from langchain_core.prompts import ChatPromptTemplate\n",
    "\n",
    "def research_agent_node(state):\n",
    "    messages = state[\"messages\"]\n",
    "    user_request = messages[0].content  # BaseMessage OK\n",
    "\n",
    "    search_results = web_search.invoke(user_request)\n",
    "    research_content = []\n",
    "    for result in search_results[\"results\"][:3]:\n",
    "        research_content.append(f\"Źródło: {result['url']}\\nTreść: {result['content']}\\n\")\n",
    "    research_text = \"\\n---\\n\".join(research_content)\n",
    "\n",
    "    research_prompt = ChatPromptTemplate.from_messages([\n",
    "        (\"system\", \"\"\"Jesteś Researcherem. Masz dostęp do fragmentów z 'wyszukiwarki' (RESEARCH).\n",
    "Twoim celem jest dostarczyć rzeczowe, krótkie fakty i dane wspierające temat.\n",
    "Odnoś się do fragmentów i nie fantazjuj. Pisz po polsku, zwięźle.\n",
    "Po tym jak skończysz swoje zadanie odpowiedz bezpośrednio do moderatora.\n",
    "Odpowiadaj używając tylko rezultatów swojej pracy, nie załączaj tekstu.\"\"\"),\n",
    "        (\"user\", \"Temat: {topic}\\n\\nWyniki wyszukiwania:\\n{research_data}\")\n",
    "    ])\n",
    "\n",
    "    model = ChatOpenAI(model=\"gpt-4\", temperature=0)\n",
    "    chain = research_prompt | model | StrOutputParser()\n",
    "    response = chain.invoke({\"topic\": user_request, \"research_data\": research_text})\n",
    "\n",
    "    return {\"messages\": [{\"role\": \"assistant\", \"content\": response, \"name\": \"research_agent\"}]}\n"
   ],
   "id": "cb0e40cf498c9fbb",
   "outputs": [],
   "execution_count": 30
  },
  {
   "metadata": {},
   "cell_type": "markdown",
   "source": "### Agent autor",
   "id": "839d318a9bca3ce1"
  },
  {
   "metadata": {
    "ExecuteTime": {
     "end_time": "2025-09-19T06:37:17.744436Z",
     "start_time": "2025-09-19T06:37:17.741645Z"
    }
   },
   "cell_type": "code",
   "source": [
    "from langchain_core.messages import BaseMessage\n",
    "\n",
    "def _name_and_content(msg):\n",
    "    if isinstance(msg, dict):\n",
    "        return msg.get(\"name\", msg.get(\"role\", \"user\")), msg.get(\"content\", str(msg))\n",
    "    if isinstance(msg, BaseMessage):\n",
    "        name = getattr(msg, \"name\", None) or getattr(msg, \"type\", \"user\")\n",
    "        return name, msg.content\n",
    "    # fallback\n",
    "    return \"user\", str(msg)\n"
   ],
   "id": "9c961496d5cc5527",
   "outputs": [],
   "execution_count": 31
  },
  {
   "metadata": {
    "ExecuteTime": {
     "end_time": "2025-09-19T06:37:17.793575Z",
     "start_time": "2025-09-19T06:37:17.789771Z"
    }
   },
   "cell_type": "code",
   "source": [
    "def author_agent_node(state):\n",
    "    messages = state[\"messages\"]\n",
    "    has_critic_already_intervened = state.get(\"critic_marked\", False)\n",
    "\n",
    "    if has_critic_already_intervened:\n",
    "        author_prompt = ChatPromptTemplate.from_messages([\n",
    "            (\"system\", \"\"\"Jesteś Ekspertem-Edytorem. Otrzymałeś już feedback od Krytyka i musisz poprawić swój tekst.\n",
    "Przeanalizuj uwagi krytyka i dostarcz poprawioną wersję artykułu, która odpowiada na jego zastrzeżenia.\n",
    "Uwzględnij wszystkie sugestie i wypełnij wskazane luki. Pisz po polsku, konkretnie.\n",
    "Po tym jak skończysz swoje zadanie odpowiedz bezpośrednio do moderatora.\n",
    "Odpowiadaj używając tylko rezultatów swojej pracy, nie załączaj tekstu.\"\"\"),\n",
    "            (\"user\", \"Historia konwersacji:\\n{conversation_history}\\n\\nPopraw artykuł uwzględniając feedback krytyka.\")\n",
    "        ])\n",
    "    else:\n",
    "        author_prompt = ChatPromptTemplate.from_messages([\n",
    "            (\"system\", \"\"\"Jesteś Ekspertem. Z dostępnych faktów zaproponuj praktyczne rozwiązanie/plan.\n",
    "Uwzględnij kroki, wymagania i minimalny zestaw decyzji. Pisz po polsku, konkretnie.\n",
    "Po tym jak skończysz swoje zadanie odpowiedz bezpośrednio do moderatora.\n",
    "Odpowiadaj używając tylko rezultatów swojej pracy, nie załączaj tekstu.\"\"\"),\n",
    "            (\"user\", \"Na podstawie researchu stwórz artykuł:\\n{conversation_history}\")\n",
    "        ])\n",
    "\n",
    "    conversation_history = \"\\n\".join(\n",
    "        f\"{_name_and_content(m)[0]}: {_name_and_content(m)[1]}\"\n",
    "        for m in messages\n",
    "    )\n",
    "\n",
    "    model = ChatOpenAI(model=\"gpt-4\", temperature=0)\n",
    "    chain = author_prompt | model | StrOutputParser()\n",
    "    response = chain.invoke({\"conversation_history\": conversation_history})\n",
    "\n",
    "    return {\"messages\": [{\"role\": \"assistant\", \"content\": response, \"name\": \"author_agent\"}]}\n"
   ],
   "id": "ffb970d0000fdfd",
   "outputs": [],
   "execution_count": 32
  },
  {
   "metadata": {},
   "cell_type": "markdown",
   "source": "### Agent krytyk",
   "id": "f4db62c730e30b99"
  },
  {
   "metadata": {
    "ExecuteTime": {
     "end_time": "2025-09-19T06:37:17.844638Z",
     "start_time": "2025-09-19T06:37:17.839389Z"
    }
   },
   "cell_type": "code",
   "source": [
    "def critic_agent_node(state):\n",
    "    messages = state[\"messages\"]\n",
    "\n",
    "    conversation_history = \"\\n\".join(\n",
    "        f\"{_name_and_content(m)[0]}: {_name_and_content(m)[1]}\"\n",
    "        for m in messages\n",
    "    )\n",
    "\n",
    "    critic_prompt = ChatPromptTemplate.from_messages([\n",
    "        (\"system\", \"\"\"Jesteś Krytykiem. Twoją rolą jest znaleźć luki, ryzyka i niejasności w propozycji.\n",
    "Zadawaj dociekliwe pytania i wskaż brakujące elementy. Bądź konstruktywny.\n",
    "Po przeanalizowaniu pracy autora, jeśli widzisz istotne braki lub problemy, zakończ swoją odpowiedź słowami: \"needs improvement\"\n",
    "Jeśli praca jest zadowalająca i nie wymaga istotnych poprawek, zakończ słowami: \"approved\"\n",
    "Po tym jak skończysz swoje zadanie odpowiedz bezpośrednio do moderatora.\n",
    "Odpowiadaj używając tylko rezultatów swojej pracy, nie załączaj tekstu.\"\"\"),\n",
    "        (\"user\", \"Przeanalizuj pracę autora:\\n{conversation_history}\")\n",
    "    ])\n",
    "\n",
    "    model = ChatOpenAI(model=\"gpt-4\", temperature=0)\n",
    "    chain = critic_prompt | model | StrOutputParser()\n",
    "    response = chain.invoke({\"conversation_history\": conversation_history})\n",
    "\n",
    "    updates = {\n",
    "        \"messages\": [{\"role\": \"assistant\", \"content\": response, \"name\": \"critic_agent\"}]\n",
    "    }\n",
    "    if not state.get(\"critic_marked\", False):\n",
    "        updates[\"critic_marked\"] = True  # pierwsza ingerencja krytyka\n",
    "\n",
    "    return updates\n",
    "\n",
    "\n",
    "def should_continue(state):\n",
    "    last = state[\"messages\"][-1]\n",
    "    _, content = _name_and_content(last)\n",
    "    content = content.lower()\n",
    "    return \"author_agent\" if \"needs improvement\" in content else \"end\""
   ],
   "id": "1437892b80c930bb",
   "outputs": [],
   "execution_count": 33
  },
  {
   "metadata": {
    "ExecuteTime": {
     "end_time": "2025-09-19T06:37:17.900091Z",
     "start_time": "2025-09-19T06:37:17.891054Z"
    }
   },
   "cell_type": "code",
   "source": [
    "# --- REKOMPILACJA GRAFU (to kluczowe!) ---\n",
    "from typing import TypedDict, Annotated\n",
    "from langgraph.graph import StateGraph, START, END\n",
    "from langgraph.graph.message import add_messages\n",
    "\n",
    "class WorkflowState(TypedDict):\n",
    "    messages: Annotated[list, add_messages]\n",
    "    critic_marked: bool\n",
    "\n",
    "supervisor = (\n",
    "    StateGraph(WorkflowState)\n",
    "    .add_node(\"research_agent\", research_agent_node)\n",
    "    .add_node(\"author_agent\", author_agent_node)\n",
    "    .add_node(\"critic_agent\", critic_agent_node)\n",
    "    .add_edge(START, \"research_agent\")\n",
    "    .add_edge(\"research_agent\", \"author_agent\")\n",
    "    .add_edge(\"author_agent\", \"critic_agent\")\n",
    "    .add_conditional_edges(\"critic_agent\", should_continue, {\n",
    "        \"author_agent\": \"author_agent\",\n",
    "        \"end\": END\n",
    "    })\n",
    "    .compile(debug=True)\n",
    ")\n"
   ],
   "id": "31c92e2bceca9fff",
   "outputs": [],
   "execution_count": 34
  },
  {
   "metadata": {},
   "cell_type": "markdown",
   "source": "### Wyświetl graf",
   "id": "cc9402b36006bbe4"
  },
  {
   "metadata": {
    "ExecuteTime": {
     "end_time": "2025-09-19T06:37:18.030460Z",
     "start_time": "2025-09-19T06:37:17.948592Z"
    }
   },
   "cell_type": "code",
   "source": [
    "from IPython.display import display, Image\n",
    "\n",
    "display(Image(supervisor.get_graph().draw_mermaid_png()))"
   ],
   "id": "8c8bad64037311e0",
   "outputs": [
    {
     "data": {
      "image/png": "[encoded data removed]",
      "text/plain": [
       "<IPython.core.display.Image object>"
      ]
     },
     "metadata": {},
     "output_type": "display_data",
     "jetTransient": {
      "display_id": null
     }
    }
   ],
   "execution_count": 35
  },
  {
   "metadata": {},
   "cell_type": "markdown",
   "source": "### Uruchom graf i wygeneruj artykuł",
   "id": "15a6e44afd93753d"
  },
  {
   "metadata": {
    "ExecuteTime": {
     "end_time": "2025-09-19T06:39:26.164723Z",
     "start_time": "2025-09-19T06:37:18.040986Z"
    }
   },
   "cell_type": "code",
   "source": [
    "# --- URUCHOMIENIE ---\n",
    "for chunk in supervisor.stream(\n",
    "    {\n",
    "        \"messages\": [{\n",
    "            \"role\": \"user\",\n",
    "            \"content\": \"Wygeneruj artykuł na temat: Jak zbudować aplikację agenta 'Wydawcy' w oparciu o bibliotekę LangGraph\",\n",
    "        }],\n",
    "        \"critic_marked\": False,\n",
    "    },\n",
    "    subgraphs=True,\n",
    "):\n",
    "    pretty_print_messages(chunk, last_message=True)\n"
   ],
   "id": "c16218c2acc578a0",
   "outputs": [
    {
     "name": "stdout",
     "output_type": "stream",
     "text": [
      "\u001B[1m[values]\u001B[0m {'messages': [HumanMessage(content=\"Wygeneruj artykuł na temat: Jak zbudować aplikację agenta 'Wydawcy' w oparciu o bibliotekę LangGraph\", additional_kwargs={}, response_metadata={}, id='9299dfae-5f80-4210-a60c-5fabad982349')], 'critic_marked': False}\n",
      "\u001B[1m[updates]\u001B[0m {'research_agent': {'messages': [{'role': 'assistant', 'content': 'Budowanie aplikacji agenta \"Wydawcy\" z użyciem biblioteki LangGraph obejmuje kilka kroków:\\n\\n1. Wykorzystanie API LangGraph do projektowania doświadczeń użytkownika opartych na agentach. LangGraph dostarcza infrastrukturę do szybkiego wdrażania i skalowania aplikacji (źródło: www.langchain.com/langgraph).\\n\\n2. Nauka korzystania z LangGraph poprzez kursy dostępne na academy.langchain.com. Kursy obejmują lekcje na temat motywacji, studia LangGraph, Chain, Router, Agent, Agent with Memory, wprowadzenia do wdrażania, schematu stanu, reduktorów stanu, strumieniowania, punktów przerwania, równoległości, sklepu LangGraph, schematu pamięci + profilu, schematu pamięci + kolekcji, budowy agenta z długotrwałą pamięcią, koncepcji wdrażania, tworzenia wdrożenia, łączenia z wdrożeniem i asystentów.\\n\\n3. Wykorzystanie dostępnych narzędzi do wyszukiwania informacji o zamówieniach lub sprawdzania statusu zamówienia. W przypadku, gdy model chce skorzystać z narzędzi, procesuje się wywołania narzędzi, znajduje i wykonuje narzędzie, tworzy wiadomość narzędzia i otrzymuje końcową odpowiedź z wynikami narzędzi. Jeśli narzędzia nie są potrzebne, zwraca się tylko odpowiedź (źródło: medium.com/@tobintom/agentic-ai-with-langgraph-437fcde22054).', 'name': 'research_agent'}]}}\n",
      "\u001B[1m[values]\u001B[0m {'messages': [HumanMessage(content=\"Wygeneruj artykuł na temat: Jak zbudować aplikację agenta 'Wydawcy' w oparciu o bibliotekę LangGraph\", additional_kwargs={}, response_metadata={}, id='9299dfae-5f80-4210-a60c-5fabad982349'), AIMessage(content='Budowanie aplikacji agenta \"Wydawcy\" z użyciem biblioteki LangGraph obejmuje kilka kroków:\\n\\n1. Wykorzystanie API LangGraph do projektowania doświadczeń użytkownika opartych na agentach. LangGraph dostarcza infrastrukturę do szybkiego wdrażania i skalowania aplikacji (źródło: www.langchain.com/langgraph).\\n\\n2. Nauka korzystania z LangGraph poprzez kursy dostępne na academy.langchain.com. Kursy obejmują lekcje na temat motywacji, studia LangGraph, Chain, Router, Agent, Agent with Memory, wprowadzenia do wdrażania, schematu stanu, reduktorów stanu, strumieniowania, punktów przerwania, równoległości, sklepu LangGraph, schematu pamięci + profilu, schematu pamięci + kolekcji, budowy agenta z długotrwałą pamięcią, koncepcji wdrażania, tworzenia wdrożenia, łączenia z wdrożeniem i asystentów.\\n\\n3. Wykorzystanie dostępnych narzędzi do wyszukiwania informacji o zamówieniach lub sprawdzania statusu zamówienia. W przypadku, gdy model chce skorzystać z narzędzi, procesuje się wywołania narzędzi, znajduje i wykonuje narzędzie, tworzy wiadomość narzędzia i otrzymuje końcową odpowiedź z wynikami narzędzi. Jeśli narzędzia nie są potrzebne, zwraca się tylko odpowiedź (źródło: medium.com/@tobintom/agentic-ai-with-langgraph-437fcde22054).', additional_kwargs={}, response_metadata={}, name='research_agent', id='51ff6c9b-acd0-4dda-bdc4-845d2fa827f2')], 'critic_marked': False}\n",
      "\u001B[1m[updates]\u001B[0m {'author_agent': {'messages': [{'role': 'assistant', 'content': 'Plan budowy aplikacji agenta \"Wydawcy\" z użyciem biblioteki LangGraph:\\n\\n1. Zapoznanie się z API LangGraph: Przeglądanie dokumentacji API LangGraph, aby zrozumieć, jak można go wykorzystać do projektowania doświadczeń użytkownika opartych na agentach. \\n\\n2. Edukacja: Skorzystanie z kursów dostępnych na academy.langchain.com. Kursy obejmują różne aspekty pracy z LangGraph, takie jak motywacja, studia LangGraph, Chain, Router, Agent, Agent with Memory, wprowadzenie do wdrażania, schemat stanu, reduktory stanu, strumieniowanie, punkty przerwania, równoległość, sklep LangGraph, schemat pamięci + profil, schemat pamięci + kolekcji, budowa agenta z długotrwałą pamięcią, koncepcje wdrażania, tworzenie wdrożenia, łączenie z wdrożeniem i asystentów.\\n\\n3. Wykorzystanie narzędzi: Wykorzystanie dostępnych narzędzi do wyszukiwania informacji o zamówieniach lub sprawdzania statusu zamówienia. W przypadku, gdy model chce skorzystać z narzędzi, procesuje się wywołania narzędzi, znajduje i wykonuje narzędzie, tworzy wiadomość narzędzia i otrzymuje końcową odpowiedź z wynikami narzędzi. Jeśli narzędzia nie są potrzebne, zwraca się tylko odpowiedź.\\n\\n4. Testowanie: Po zbudowaniu aplikacji, przeprowadzenie serii testów, aby upewnić się, że wszystko działa poprawnie. \\n\\n5. Wdrożenie: Po pomyślnym przetestowaniu aplikacji, przeprowadzenie procesu wdrożenia. \\n\\n6. Monitorowanie i aktualizacja: Po wdrożeniu, monitorowanie działania aplikacji i wprowadzanie niezbędnych aktualizacji, aby zapewnić jej optymalne działanie. \\n\\nWymagania:\\n- Znajomość API LangGraph\\n- Dostęp do kursów na academy.langchain.com\\n- Znajomość narzędzi do wyszukiwania informacji o zamówieniach lub sprawdzania statusu zamówienia\\n- Umiejętność przeprowadzania testów i wdrażania aplikacji\\n- Umiejętność monitorowania i aktualizowania aplikacji po jej wdrożeniu\\n\\nDecyzje:\\n- Wybór narzędzi do wyszukiwania informacji o zamówieniach lub sprawdzania statusu zamówienia\\n- Wybór metody testowania aplikacji\\n- Wybór metody wdrożenia aplikacji\\n- Wybór metody monitorowania i aktualizowania aplikacji po jej wdrożeniu', 'name': 'author_agent'}]}}\n",
      "\u001B[1m[values]\u001B[0m {'messages': [HumanMessage(content=\"Wygeneruj artykuł na temat: Jak zbudować aplikację agenta 'Wydawcy' w oparciu o bibliotekę LangGraph\", additional_kwargs={}, response_metadata={}, id='9299dfae-5f80-4210-a60c-5fabad982349'), AIMessage(content='Budowanie aplikacji agenta \"Wydawcy\" z użyciem biblioteki LangGraph obejmuje kilka kroków:\\n\\n1. Wykorzystanie API LangGraph do projektowania doświadczeń użytkownika opartych na agentach. LangGraph dostarcza infrastrukturę do szybkiego wdrażania i skalowania aplikacji (źródło: www.langchain.com/langgraph).\\n\\n2. Nauka korzystania z LangGraph poprzez kursy dostępne na academy.langchain.com. Kursy obejmują lekcje na temat motywacji, studia LangGraph, Chain, Router, Agent, Agent with Memory, wprowadzenia do wdrażania, schematu stanu, reduktorów stanu, strumieniowania, punktów przerwania, równoległości, sklepu LangGraph, schematu pamięci + profilu, schematu pamięci + kolekcji, budowy agenta z długotrwałą pamięcią, koncepcji wdrażania, tworzenia wdrożenia, łączenia z wdrożeniem i asystentów.\\n\\n3. Wykorzystanie dostępnych narzędzi do wyszukiwania informacji o zamówieniach lub sprawdzania statusu zamówienia. W przypadku, gdy model chce skorzystać z narzędzi, procesuje się wywołania narzędzi, znajduje i wykonuje narzędzie, tworzy wiadomość narzędzia i otrzymuje końcową odpowiedź z wynikami narzędzi. Jeśli narzędzia nie są potrzebne, zwraca się tylko odpowiedź (źródło: medium.com/@tobintom/agentic-ai-with-langgraph-437fcde22054).', additional_kwargs={}, response_metadata={}, name='research_agent', id='51ff6c9b-acd0-4dda-bdc4-845d2fa827f2'), AIMessage(content='Plan budowy aplikacji agenta \"Wydawcy\" z użyciem biblioteki LangGraph:\\n\\n1. Zapoznanie się z API LangGraph: Przeglądanie dokumentacji API LangGraph, aby zrozumieć, jak można go wykorzystać do projektowania doświadczeń użytkownika opartych na agentach. \\n\\n2. Edukacja: Skorzystanie z kursów dostępnych na academy.langchain.com. Kursy obejmują różne aspekty pracy z LangGraph, takie jak motywacja, studia LangGraph, Chain, Router, Agent, Agent with Memory, wprowadzenie do wdrażania, schemat stanu, reduktory stanu, strumieniowanie, punkty przerwania, równoległość, sklep LangGraph, schemat pamięci + profil, schemat pamięci + kolekcji, budowa agenta z długotrwałą pamięcią, koncepcje wdrażania, tworzenie wdrożenia, łączenie z wdrożeniem i asystentów.\\n\\n3. Wykorzystanie narzędzi: Wykorzystanie dostępnych narzędzi do wyszukiwania informacji o zamówieniach lub sprawdzania statusu zamówienia. W przypadku, gdy model chce skorzystać z narzędzi, procesuje się wywołania narzędzi, znajduje i wykonuje narzędzie, tworzy wiadomość narzędzia i otrzymuje końcową odpowiedź z wynikami narzędzi. Jeśli narzędzia nie są potrzebne, zwraca się tylko odpowiedź.\\n\\n4. Testowanie: Po zbudowaniu aplikacji, przeprowadzenie serii testów, aby upewnić się, że wszystko działa poprawnie. \\n\\n5. Wdrożenie: Po pomyślnym przetestowaniu aplikacji, przeprowadzenie procesu wdrożenia. \\n\\n6. Monitorowanie i aktualizacja: Po wdrożeniu, monitorowanie działania aplikacji i wprowadzanie niezbędnych aktualizacji, aby zapewnić jej optymalne działanie. \\n\\nWymagania:\\n- Znajomość API LangGraph\\n- Dostęp do kursów na academy.langchain.com\\n- Znajomość narzędzi do wyszukiwania informacji o zamówieniach lub sprawdzania statusu zamówienia\\n- Umiejętność przeprowadzania testów i wdrażania aplikacji\\n- Umiejętność monitorowania i aktualizowania aplikacji po jej wdrożeniu\\n\\nDecyzje:\\n- Wybór narzędzi do wyszukiwania informacji o zamówieniach lub sprawdzania statusu zamówienia\\n- Wybór metody testowania aplikacji\\n- Wybór metody wdrożenia aplikacji\\n- Wybór metody monitorowania i aktualizowania aplikacji po jej wdrożeniu', additional_kwargs={}, response_metadata={}, name='author_agent', id='d79b3ccf-40a7-4952-8ff4-5ab44746571e')], 'critic_marked': False}\n",
      "\u001B[1m[updates]\u001B[0m {'critic_agent': {'messages': [{'role': 'assistant', 'content': 'Praca autora jest dobrze zorganizowana i zawiera wiele szczegółów na temat procesu budowy aplikacji agenta \"Wydawcy\" z użyciem biblioteki LangGraph. Niemniej jednak, istnieją pewne obszary, które mogą wymagać dodatkowego wyjaśnienia lub klarowności:\\n\\n1. Autor nie wyjaśnia, co to jest \"aplikacja agenta \\'Wydawcy\\'\". Czy jest to aplikacja dla wydawców książek, muzyki, gier, czy coś innego? Bez tego kontekstu, trudno jest ocenić, czy proponowane kroki są odpowiednie.\\n\\n2. Autor sugeruje, że użytkownik powinien nauczyć się korzystać z LangGraph poprzez kursy dostępne na academy.langchain.com, ale nie wyjaśnia, jakie są wymagania wstępne do tych kursów. Czy są one przeznaczone dla początkujących, czy wymagają wcześniejszej wiedzy na temat programowania lub technologii blockchain?\\n\\n3. Autor mówi o wykorzystaniu \"dostępnych narzędzi do wyszukiwania informacji o zamówieniach lub sprawdzania statusu zamówienia\", ale nie wyjaśnia, jakie są te narzędzia, jak je znaleźć, ani jak je zintegrować z aplikacją.\\n\\n4. Autor sugeruje przeprowadzenie serii testów po zbudowaniu aplikacji, ale nie podaje żadnych szczegółów na temat tego, jakie testy powinny być przeprowadzone, jakie narzędzia powinny być użyte do testowania, ani jakie kryteria powinny być użyte do oceny wyników testów.\\n\\n5. Autor mówi o monitorowaniu i aktualizowaniu aplikacji po jej wdrożeniu, ale nie wyjaśnia, jakie metody lub narzędzia powinny być użyte do monitorowania, ani jakie rodzaje aktualizacji mogą być potrzebne.\\n\\nPodsumowując, choć praca autora jest dobrze zorganizowana i zawiera wiele szczegółów, brakuje w niej pewnych kluczowych informacji, które są niezbędne do pełnego zrozumienia i realizacji proponowanego planu. \"needs improvement\"', 'name': 'critic_agent'}], 'critic_marked': True}}\n",
      "\u001B[1m[values]\u001B[0m {'messages': [HumanMessage(content=\"Wygeneruj artykuł na temat: Jak zbudować aplikację agenta 'Wydawcy' w oparciu o bibliotekę LangGraph\", additional_kwargs={}, response_metadata={}, id='9299dfae-5f80-4210-a60c-5fabad982349'), AIMessage(content='Budowanie aplikacji agenta \"Wydawcy\" z użyciem biblioteki LangGraph obejmuje kilka kroków:\\n\\n1. Wykorzystanie API LangGraph do projektowania doświadczeń użytkownika opartych na agentach. LangGraph dostarcza infrastrukturę do szybkiego wdrażania i skalowania aplikacji (źródło: www.langchain.com/langgraph).\\n\\n2. Nauka korzystania z LangGraph poprzez kursy dostępne na academy.langchain.com. Kursy obejmują lekcje na temat motywacji, studia LangGraph, Chain, Router, Agent, Agent with Memory, wprowadzenia do wdrażania, schematu stanu, reduktorów stanu, strumieniowania, punktów przerwania, równoległości, sklepu LangGraph, schematu pamięci + profilu, schematu pamięci + kolekcji, budowy agenta z długotrwałą pamięcią, koncepcji wdrażania, tworzenia wdrożenia, łączenia z wdrożeniem i asystentów.\\n\\n3. Wykorzystanie dostępnych narzędzi do wyszukiwania informacji o zamówieniach lub sprawdzania statusu zamówienia. W przypadku, gdy model chce skorzystać z narzędzi, procesuje się wywołania narzędzi, znajduje i wykonuje narzędzie, tworzy wiadomość narzędzia i otrzymuje końcową odpowiedź z wynikami narzędzi. Jeśli narzędzia nie są potrzebne, zwraca się tylko odpowiedź (źródło: medium.com/@tobintom/agentic-ai-with-langgraph-437fcde22054).', additional_kwargs={}, response_metadata={}, name='research_agent', id='51ff6c9b-acd0-4dda-bdc4-845d2fa827f2'), AIMessage(content='Plan budowy aplikacji agenta \"Wydawcy\" z użyciem biblioteki LangGraph:\\n\\n1. Zapoznanie się z API LangGraph: Przeglądanie dokumentacji API LangGraph, aby zrozumieć, jak można go wykorzystać do projektowania doświadczeń użytkownika opartych na agentach. \\n\\n2. Edukacja: Skorzystanie z kursów dostępnych na academy.langchain.com. Kursy obejmują różne aspekty pracy z LangGraph, takie jak motywacja, studia LangGraph, Chain, Router, Agent, Agent with Memory, wprowadzenie do wdrażania, schemat stanu, reduktory stanu, strumieniowanie, punkty przerwania, równoległość, sklep LangGraph, schemat pamięci + profil, schemat pamięci + kolekcji, budowa agenta z długotrwałą pamięcią, koncepcje wdrażania, tworzenie wdrożenia, łączenie z wdrożeniem i asystentów.\\n\\n3. Wykorzystanie narzędzi: Wykorzystanie dostępnych narzędzi do wyszukiwania informacji o zamówieniach lub sprawdzania statusu zamówienia. W przypadku, gdy model chce skorzystać z narzędzi, procesuje się wywołania narzędzi, znajduje i wykonuje narzędzie, tworzy wiadomość narzędzia i otrzymuje końcową odpowiedź z wynikami narzędzi. Jeśli narzędzia nie są potrzebne, zwraca się tylko odpowiedź.\\n\\n4. Testowanie: Po zbudowaniu aplikacji, przeprowadzenie serii testów, aby upewnić się, że wszystko działa poprawnie. \\n\\n5. Wdrożenie: Po pomyślnym przetestowaniu aplikacji, przeprowadzenie procesu wdrożenia. \\n\\n6. Monitorowanie i aktualizacja: Po wdrożeniu, monitorowanie działania aplikacji i wprowadzanie niezbędnych aktualizacji, aby zapewnić jej optymalne działanie. \\n\\nWymagania:\\n- Znajomość API LangGraph\\n- Dostęp do kursów na academy.langchain.com\\n- Znajomość narzędzi do wyszukiwania informacji o zamówieniach lub sprawdzania statusu zamówienia\\n- Umiejętność przeprowadzania testów i wdrażania aplikacji\\n- Umiejętność monitorowania i aktualizowania aplikacji po jej wdrożeniu\\n\\nDecyzje:\\n- Wybór narzędzi do wyszukiwania informacji o zamówieniach lub sprawdzania statusu zamówienia\\n- Wybór metody testowania aplikacji\\n- Wybór metody wdrożenia aplikacji\\n- Wybór metody monitorowania i aktualizowania aplikacji po jej wdrożeniu', additional_kwargs={}, response_metadata={}, name='author_agent', id='d79b3ccf-40a7-4952-8ff4-5ab44746571e'), AIMessage(content='Praca autora jest dobrze zorganizowana i zawiera wiele szczegółów na temat procesu budowy aplikacji agenta \"Wydawcy\" z użyciem biblioteki LangGraph. Niemniej jednak, istnieją pewne obszary, które mogą wymagać dodatkowego wyjaśnienia lub klarowności:\\n\\n1. Autor nie wyjaśnia, co to jest \"aplikacja agenta \\'Wydawcy\\'\". Czy jest to aplikacja dla wydawców książek, muzyki, gier, czy coś innego? Bez tego kontekstu, trudno jest ocenić, czy proponowane kroki są odpowiednie.\\n\\n2. Autor sugeruje, że użytkownik powinien nauczyć się korzystać z LangGraph poprzez kursy dostępne na academy.langchain.com, ale nie wyjaśnia, jakie są wymagania wstępne do tych kursów. Czy są one przeznaczone dla początkujących, czy wymagają wcześniejszej wiedzy na temat programowania lub technologii blockchain?\\n\\n3. Autor mówi o wykorzystaniu \"dostępnych narzędzi do wyszukiwania informacji o zamówieniach lub sprawdzania statusu zamówienia\", ale nie wyjaśnia, jakie są te narzędzia, jak je znaleźć, ani jak je zintegrować z aplikacją.\\n\\n4. Autor sugeruje przeprowadzenie serii testów po zbudowaniu aplikacji, ale nie podaje żadnych szczegółów na temat tego, jakie testy powinny być przeprowadzone, jakie narzędzia powinny być użyte do testowania, ani jakie kryteria powinny być użyte do oceny wyników testów.\\n\\n5. Autor mówi o monitorowaniu i aktualizowaniu aplikacji po jej wdrożeniu, ale nie wyjaśnia, jakie metody lub narzędzia powinny być użyte do monitorowania, ani jakie rodzaje aktualizacji mogą być potrzebne.\\n\\nPodsumowując, choć praca autora jest dobrze zorganizowana i zawiera wiele szczegółów, brakuje w niej pewnych kluczowych informacji, które są niezbędne do pełnego zrozumienia i realizacji proponowanego planu. \"needs improvement\"', additional_kwargs={}, response_metadata={}, name='critic_agent', id='1a22971b-817f-408a-b7bf-6649fc0cfb6c')], 'critic_marked': True}\n",
      "\u001B[1m[updates]\u001B[0m {'author_agent': {'messages': [{'role': 'assistant', 'content': 'Budowanie aplikacji agenta \"Wydawcy\" z użyciem biblioteki LangGraph:\\n\\nAplikacja agenta \"Wydawcy\" to narzędzie przeznaczone dla wydawców książek, które umożliwia im zarządzanie procesem publikacji. Z użyciem biblioteki LangGraph, aplikacja ta może automatyzować wiele zadań, takich jak śledzenie statusu zamówień, wyszukiwanie informacji o zamówieniach i komunikacja z klientami.\\n\\n1. Zapoznanie się z API LangGraph: Przeglądanie dokumentacji API LangGraph, aby zrozumieć, jak można go wykorzystać do projektowania doświadczeń użytkownika opartych na agentach. \\n\\n2. Edukacja: Skorzystanie z kursów dostępnych na academy.langchain.com. Kursy są przeznaczone dla osób na różnych poziomach zaawansowania, od początkujących do zaawansowanych. Niektóre z nich wymagają wcześniejszej wiedzy na temat programowania lub technologii blockchain, ale są również kursy dla osób, które dopiero zaczynają swoją przygodę z tymi tematami.\\n\\n3. Wykorzystanie narzędzi: Wykorzystanie dostępnych narzędzi do wyszukiwania informacji o zamówieniach lub sprawdzania statusu zamówienia. Narzędzia te są dostępne w bibliotece LangGraph i ich wykorzystanie jest omówione w kursach na academy.langchain.com. \\n\\n4. Testowanie: Po zbudowaniu aplikacji, przeprowadzenie serii testów, aby upewnić się, że wszystko działa poprawnie. Testy powinny obejmować zarówno testy jednostkowe, jak i testy integracyjne, a do ich przeprowadzenia można wykorzystać narzędzia takie jak JUnit lub Mockito.\\n\\n5. Wdrożenie: Po pomyślnym przetestowaniu aplikacji, przeprowadzenie procesu wdrożenia. Wdrożenie może obejmować umieszczenie aplikacji na serwerze, konfigurację bazy danych i zapewnienie bezpieczeństwa danych.\\n\\n6. Monitorowanie i aktualizacja: Po wdrożeniu, monitorowanie działania aplikacji i wprowadzanie niezbędnych aktualizacji, aby zapewnić jej optymalne działanie. Do monitorowania można wykorzystać narzędzia takie jak Google Analytics lub New Relic, a aktualizacje mogą obejmować poprawki błędów, dodawanie nowych funkcji lub dostosowywanie aplikacji do zmieniających się wymagań użytkowników.\\n\\nWymagania:\\n- Znajomość API LangGraph\\n- Dostęp do kursów na academy.langchain.com\\n- Znajomość narzędzi do wyszukiwania informacji o zamówieniach lub sprawdzania statusu zamówienia\\n- Umiejętność przeprowadzania testów i wdrażania aplikacji\\n- Umiejętność monitorowania i aktualizowania aplikacji po jej wdrożeniu\\n\\nDecyzje:\\n- Wybór narzędzi do wyszukiwania informacji o zamówieniach lub sprawdzania statusu zamówienia\\n- Wybór metody testowania aplikacji\\n- Wybór metody wdrożenia aplikacji\\n- Wybór metody monitorowania i aktualizowania aplikacji po jej wdrożeniu', 'name': 'author_agent'}]}}\n",
      "\u001B[1m[values]\u001B[0m {'messages': [HumanMessage(content=\"Wygeneruj artykuł na temat: Jak zbudować aplikację agenta 'Wydawcy' w oparciu o bibliotekę LangGraph\", additional_kwargs={}, response_metadata={}, id='9299dfae-5f80-4210-a60c-5fabad982349'), AIMessage(content='Budowanie aplikacji agenta \"Wydawcy\" z użyciem biblioteki LangGraph obejmuje kilka kroków:\\n\\n1. Wykorzystanie API LangGraph do projektowania doświadczeń użytkownika opartych na agentach. LangGraph dostarcza infrastrukturę do szybkiego wdrażania i skalowania aplikacji (źródło: www.langchain.com/langgraph).\\n\\n2. Nauka korzystania z LangGraph poprzez kursy dostępne na academy.langchain.com. Kursy obejmują lekcje na temat motywacji, studia LangGraph, Chain, Router, Agent, Agent with Memory, wprowadzenia do wdrażania, schematu stanu, reduktorów stanu, strumieniowania, punktów przerwania, równoległości, sklepu LangGraph, schematu pamięci + profilu, schematu pamięci + kolekcji, budowy agenta z długotrwałą pamięcią, koncepcji wdrażania, tworzenia wdrożenia, łączenia z wdrożeniem i asystentów.\\n\\n3. Wykorzystanie dostępnych narzędzi do wyszukiwania informacji o zamówieniach lub sprawdzania statusu zamówienia. W przypadku, gdy model chce skorzystać z narzędzi, procesuje się wywołania narzędzi, znajduje i wykonuje narzędzie, tworzy wiadomość narzędzia i otrzymuje końcową odpowiedź z wynikami narzędzi. Jeśli narzędzia nie są potrzebne, zwraca się tylko odpowiedź (źródło: medium.com/@tobintom/agentic-ai-with-langgraph-437fcde22054).', additional_kwargs={}, response_metadata={}, name='research_agent', id='51ff6c9b-acd0-4dda-bdc4-845d2fa827f2'), AIMessage(content='Plan budowy aplikacji agenta \"Wydawcy\" z użyciem biblioteki LangGraph:\\n\\n1. Zapoznanie się z API LangGraph: Przeglądanie dokumentacji API LangGraph, aby zrozumieć, jak można go wykorzystać do projektowania doświadczeń użytkownika opartych na agentach. \\n\\n2. Edukacja: Skorzystanie z kursów dostępnych na academy.langchain.com. Kursy obejmują różne aspekty pracy z LangGraph, takie jak motywacja, studia LangGraph, Chain, Router, Agent, Agent with Memory, wprowadzenie do wdrażania, schemat stanu, reduktory stanu, strumieniowanie, punkty przerwania, równoległość, sklep LangGraph, schemat pamięci + profil, schemat pamięci + kolekcji, budowa agenta z długotrwałą pamięcią, koncepcje wdrażania, tworzenie wdrożenia, łączenie z wdrożeniem i asystentów.\\n\\n3. Wykorzystanie narzędzi: Wykorzystanie dostępnych narzędzi do wyszukiwania informacji o zamówieniach lub sprawdzania statusu zamówienia. W przypadku, gdy model chce skorzystać z narzędzi, procesuje się wywołania narzędzi, znajduje i wykonuje narzędzie, tworzy wiadomość narzędzia i otrzymuje końcową odpowiedź z wynikami narzędzi. Jeśli narzędzia nie są potrzebne, zwraca się tylko odpowiedź.\\n\\n4. Testowanie: Po zbudowaniu aplikacji, przeprowadzenie serii testów, aby upewnić się, że wszystko działa poprawnie. \\n\\n5. Wdrożenie: Po pomyślnym przetestowaniu aplikacji, przeprowadzenie procesu wdrożenia. \\n\\n6. Monitorowanie i aktualizacja: Po wdrożeniu, monitorowanie działania aplikacji i wprowadzanie niezbędnych aktualizacji, aby zapewnić jej optymalne działanie. \\n\\nWymagania:\\n- Znajomość API LangGraph\\n- Dostęp do kursów na academy.langchain.com\\n- Znajomość narzędzi do wyszukiwania informacji o zamówieniach lub sprawdzania statusu zamówienia\\n- Umiejętność przeprowadzania testów i wdrażania aplikacji\\n- Umiejętność monitorowania i aktualizowania aplikacji po jej wdrożeniu\\n\\nDecyzje:\\n- Wybór narzędzi do wyszukiwania informacji o zamówieniach lub sprawdzania statusu zamówienia\\n- Wybór metody testowania aplikacji\\n- Wybór metody wdrożenia aplikacji\\n- Wybór metody monitorowania i aktualizowania aplikacji po jej wdrożeniu', additional_kwargs={}, response_metadata={}, name='author_agent', id='d79b3ccf-40a7-4952-8ff4-5ab44746571e'), AIMessage(content='Praca autora jest dobrze zorganizowana i zawiera wiele szczegółów na temat procesu budowy aplikacji agenta \"Wydawcy\" z użyciem biblioteki LangGraph. Niemniej jednak, istnieją pewne obszary, które mogą wymagać dodatkowego wyjaśnienia lub klarowności:\\n\\n1. Autor nie wyjaśnia, co to jest \"aplikacja agenta \\'Wydawcy\\'\". Czy jest to aplikacja dla wydawców książek, muzyki, gier, czy coś innego? Bez tego kontekstu, trudno jest ocenić, czy proponowane kroki są odpowiednie.\\n\\n2. Autor sugeruje, że użytkownik powinien nauczyć się korzystać z LangGraph poprzez kursy dostępne na academy.langchain.com, ale nie wyjaśnia, jakie są wymagania wstępne do tych kursów. Czy są one przeznaczone dla początkujących, czy wymagają wcześniejszej wiedzy na temat programowania lub technologii blockchain?\\n\\n3. Autor mówi o wykorzystaniu \"dostępnych narzędzi do wyszukiwania informacji o zamówieniach lub sprawdzania statusu zamówienia\", ale nie wyjaśnia, jakie są te narzędzia, jak je znaleźć, ani jak je zintegrować z aplikacją.\\n\\n4. Autor sugeruje przeprowadzenie serii testów po zbudowaniu aplikacji, ale nie podaje żadnych szczegółów na temat tego, jakie testy powinny być przeprowadzone, jakie narzędzia powinny być użyte do testowania, ani jakie kryteria powinny być użyte do oceny wyników testów.\\n\\n5. Autor mówi o monitorowaniu i aktualizowaniu aplikacji po jej wdrożeniu, ale nie wyjaśnia, jakie metody lub narzędzia powinny być użyte do monitorowania, ani jakie rodzaje aktualizacji mogą być potrzebne.\\n\\nPodsumowując, choć praca autora jest dobrze zorganizowana i zawiera wiele szczegółów, brakuje w niej pewnych kluczowych informacji, które są niezbędne do pełnego zrozumienia i realizacji proponowanego planu. \"needs improvement\"', additional_kwargs={}, response_metadata={}, name='critic_agent', id='1a22971b-817f-408a-b7bf-6649fc0cfb6c'), AIMessage(content='Budowanie aplikacji agenta \"Wydawcy\" z użyciem biblioteki LangGraph:\\n\\nAplikacja agenta \"Wydawcy\" to narzędzie przeznaczone dla wydawców książek, które umożliwia im zarządzanie procesem publikacji. Z użyciem biblioteki LangGraph, aplikacja ta może automatyzować wiele zadań, takich jak śledzenie statusu zamówień, wyszukiwanie informacji o zamówieniach i komunikacja z klientami.\\n\\n1. Zapoznanie się z API LangGraph: Przeglądanie dokumentacji API LangGraph, aby zrozumieć, jak można go wykorzystać do projektowania doświadczeń użytkownika opartych na agentach. \\n\\n2. Edukacja: Skorzystanie z kursów dostępnych na academy.langchain.com. Kursy są przeznaczone dla osób na różnych poziomach zaawansowania, od początkujących do zaawansowanych. Niektóre z nich wymagają wcześniejszej wiedzy na temat programowania lub technologii blockchain, ale są również kursy dla osób, które dopiero zaczynają swoją przygodę z tymi tematami.\\n\\n3. Wykorzystanie narzędzi: Wykorzystanie dostępnych narzędzi do wyszukiwania informacji o zamówieniach lub sprawdzania statusu zamówienia. Narzędzia te są dostępne w bibliotece LangGraph i ich wykorzystanie jest omówione w kursach na academy.langchain.com. \\n\\n4. Testowanie: Po zbudowaniu aplikacji, przeprowadzenie serii testów, aby upewnić się, że wszystko działa poprawnie. Testy powinny obejmować zarówno testy jednostkowe, jak i testy integracyjne, a do ich przeprowadzenia można wykorzystać narzędzia takie jak JUnit lub Mockito.\\n\\n5. Wdrożenie: Po pomyślnym przetestowaniu aplikacji, przeprowadzenie procesu wdrożenia. Wdrożenie może obejmować umieszczenie aplikacji na serwerze, konfigurację bazy danych i zapewnienie bezpieczeństwa danych.\\n\\n6. Monitorowanie i aktualizacja: Po wdrożeniu, monitorowanie działania aplikacji i wprowadzanie niezbędnych aktualizacji, aby zapewnić jej optymalne działanie. Do monitorowania można wykorzystać narzędzia takie jak Google Analytics lub New Relic, a aktualizacje mogą obejmować poprawki błędów, dodawanie nowych funkcji lub dostosowywanie aplikacji do zmieniających się wymagań użytkowników.\\n\\nWymagania:\\n- Znajomość API LangGraph\\n- Dostęp do kursów na academy.langchain.com\\n- Znajomość narzędzi do wyszukiwania informacji o zamówieniach lub sprawdzania statusu zamówienia\\n- Umiejętność przeprowadzania testów i wdrażania aplikacji\\n- Umiejętność monitorowania i aktualizowania aplikacji po jej wdrożeniu\\n\\nDecyzje:\\n- Wybór narzędzi do wyszukiwania informacji o zamówieniach lub sprawdzania statusu zamówienia\\n- Wybór metody testowania aplikacji\\n- Wybór metody wdrożenia aplikacji\\n- Wybór metody monitorowania i aktualizowania aplikacji po jej wdrożeniu', additional_kwargs={}, response_metadata={}, name='author_agent', id='20bfd264-5707-4fcb-9a4a-a60dec5c16e9')], 'critic_marked': True}\n",
      "\u001B[1m[updates]\u001B[0m {'critic_agent': {'messages': [{'role': 'assistant', 'content': 'Praca autora jest teraz znacznie bardziej kompletna i jasna. Autor dostarczył niezbędne informacje na temat tego, czym jest \"aplikacja agenta \\'Wydawcy\\'\", jakie są wymagania wstępne do kursów na academy.langchain.com, jakie narzędzia są dostępne do wyszukiwania informacji o zamówieniach lub sprawdzania statusu zamówienia, jakie testy powinny być przeprowadzone po zbudowaniu aplikacji, oraz jakie metody lub narzędzia powinny być użyte do monitorowania i aktualizowania aplikacji po jej wdrożeniu. \"approved\"', 'name': 'critic_agent'}]}}\n",
      "\u001B[1m[values]\u001B[0m {'messages': [HumanMessage(content=\"Wygeneruj artykuł na temat: Jak zbudować aplikację agenta 'Wydawcy' w oparciu o bibliotekę LangGraph\", additional_kwargs={}, response_metadata={}, id='9299dfae-5f80-4210-a60c-5fabad982349'), AIMessage(content='Budowanie aplikacji agenta \"Wydawcy\" z użyciem biblioteki LangGraph obejmuje kilka kroków:\\n\\n1. Wykorzystanie API LangGraph do projektowania doświadczeń użytkownika opartych na agentach. LangGraph dostarcza infrastrukturę do szybkiego wdrażania i skalowania aplikacji (źródło: www.langchain.com/langgraph).\\n\\n2. Nauka korzystania z LangGraph poprzez kursy dostępne na academy.langchain.com. Kursy obejmują lekcje na temat motywacji, studia LangGraph, Chain, Router, Agent, Agent with Memory, wprowadzenia do wdrażania, schematu stanu, reduktorów stanu, strumieniowania, punktów przerwania, równoległości, sklepu LangGraph, schematu pamięci + profilu, schematu pamięci + kolekcji, budowy agenta z długotrwałą pamięcią, koncepcji wdrażania, tworzenia wdrożenia, łączenia z wdrożeniem i asystentów.\\n\\n3. Wykorzystanie dostępnych narzędzi do wyszukiwania informacji o zamówieniach lub sprawdzania statusu zamówienia. W przypadku, gdy model chce skorzystać z narzędzi, procesuje się wywołania narzędzi, znajduje i wykonuje narzędzie, tworzy wiadomość narzędzia i otrzymuje końcową odpowiedź z wynikami narzędzi. Jeśli narzędzia nie są potrzebne, zwraca się tylko odpowiedź (źródło: medium.com/@tobintom/agentic-ai-with-langgraph-437fcde22054).', additional_kwargs={}, response_metadata={}, name='research_agent', id='51ff6c9b-acd0-4dda-bdc4-845d2fa827f2'), AIMessage(content='Plan budowy aplikacji agenta \"Wydawcy\" z użyciem biblioteki LangGraph:\\n\\n1. Zapoznanie się z API LangGraph: Przeglądanie dokumentacji API LangGraph, aby zrozumieć, jak można go wykorzystać do projektowania doświadczeń użytkownika opartych na agentach. \\n\\n2. Edukacja: Skorzystanie z kursów dostępnych na academy.langchain.com. Kursy obejmują różne aspekty pracy z LangGraph, takie jak motywacja, studia LangGraph, Chain, Router, Agent, Agent with Memory, wprowadzenie do wdrażania, schemat stanu, reduktory stanu, strumieniowanie, punkty przerwania, równoległość, sklep LangGraph, schemat pamięci + profil, schemat pamięci + kolekcji, budowa agenta z długotrwałą pamięcią, koncepcje wdrażania, tworzenie wdrożenia, łączenie z wdrożeniem i asystentów.\\n\\n3. Wykorzystanie narzędzi: Wykorzystanie dostępnych narzędzi do wyszukiwania informacji o zamówieniach lub sprawdzania statusu zamówienia. W przypadku, gdy model chce skorzystać z narzędzi, procesuje się wywołania narzędzi, znajduje i wykonuje narzędzie, tworzy wiadomość narzędzia i otrzymuje końcową odpowiedź z wynikami narzędzi. Jeśli narzędzia nie są potrzebne, zwraca się tylko odpowiedź.\\n\\n4. Testowanie: Po zbudowaniu aplikacji, przeprowadzenie serii testów, aby upewnić się, że wszystko działa poprawnie. \\n\\n5. Wdrożenie: Po pomyślnym przetestowaniu aplikacji, przeprowadzenie procesu wdrożenia. \\n\\n6. Monitorowanie i aktualizacja: Po wdrożeniu, monitorowanie działania aplikacji i wprowadzanie niezbędnych aktualizacji, aby zapewnić jej optymalne działanie. \\n\\nWymagania:\\n- Znajomość API LangGraph\\n- Dostęp do kursów na academy.langchain.com\\n- Znajomość narzędzi do wyszukiwania informacji o zamówieniach lub sprawdzania statusu zamówienia\\n- Umiejętność przeprowadzania testów i wdrażania aplikacji\\n- Umiejętność monitorowania i aktualizowania aplikacji po jej wdrożeniu\\n\\nDecyzje:\\n- Wybór narzędzi do wyszukiwania informacji o zamówieniach lub sprawdzania statusu zamówienia\\n- Wybór metody testowania aplikacji\\n- Wybór metody wdrożenia aplikacji\\n- Wybór metody monitorowania i aktualizowania aplikacji po jej wdrożeniu', additional_kwargs={}, response_metadata={}, name='author_agent', id='d79b3ccf-40a7-4952-8ff4-5ab44746571e'), AIMessage(content='Praca autora jest dobrze zorganizowana i zawiera wiele szczegółów na temat procesu budowy aplikacji agenta \"Wydawcy\" z użyciem biblioteki LangGraph. Niemniej jednak, istnieją pewne obszary, które mogą wymagać dodatkowego wyjaśnienia lub klarowności:\\n\\n1. Autor nie wyjaśnia, co to jest \"aplikacja agenta \\'Wydawcy\\'\". Czy jest to aplikacja dla wydawców książek, muzyki, gier, czy coś innego? Bez tego kontekstu, trudno jest ocenić, czy proponowane kroki są odpowiednie.\\n\\n2. Autor sugeruje, że użytkownik powinien nauczyć się korzystać z LangGraph poprzez kursy dostępne na academy.langchain.com, ale nie wyjaśnia, jakie są wymagania wstępne do tych kursów. Czy są one przeznaczone dla początkujących, czy wymagają wcześniejszej wiedzy na temat programowania lub technologii blockchain?\\n\\n3. Autor mówi o wykorzystaniu \"dostępnych narzędzi do wyszukiwania informacji o zamówieniach lub sprawdzania statusu zamówienia\", ale nie wyjaśnia, jakie są te narzędzia, jak je znaleźć, ani jak je zintegrować z aplikacją.\\n\\n4. Autor sugeruje przeprowadzenie serii testów po zbudowaniu aplikacji, ale nie podaje żadnych szczegółów na temat tego, jakie testy powinny być przeprowadzone, jakie narzędzia powinny być użyte do testowania, ani jakie kryteria powinny być użyte do oceny wyników testów.\\n\\n5. Autor mówi o monitorowaniu i aktualizowaniu aplikacji po jej wdrożeniu, ale nie wyjaśnia, jakie metody lub narzędzia powinny być użyte do monitorowania, ani jakie rodzaje aktualizacji mogą być potrzebne.\\n\\nPodsumowując, choć praca autora jest dobrze zorganizowana i zawiera wiele szczegółów, brakuje w niej pewnych kluczowych informacji, które są niezbędne do pełnego zrozumienia i realizacji proponowanego planu. \"needs improvement\"', additional_kwargs={}, response_metadata={}, name='critic_agent', id='1a22971b-817f-408a-b7bf-6649fc0cfb6c'), AIMessage(content='Budowanie aplikacji agenta \"Wydawcy\" z użyciem biblioteki LangGraph:\\n\\nAplikacja agenta \"Wydawcy\" to narzędzie przeznaczone dla wydawców książek, które umożliwia im zarządzanie procesem publikacji. Z użyciem biblioteki LangGraph, aplikacja ta może automatyzować wiele zadań, takich jak śledzenie statusu zamówień, wyszukiwanie informacji o zamówieniach i komunikacja z klientami.\\n\\n1. Zapoznanie się z API LangGraph: Przeglądanie dokumentacji API LangGraph, aby zrozumieć, jak można go wykorzystać do projektowania doświadczeń użytkownika opartych na agentach. \\n\\n2. Edukacja: Skorzystanie z kursów dostępnych na academy.langchain.com. Kursy są przeznaczone dla osób na różnych poziomach zaawansowania, od początkujących do zaawansowanych. Niektóre z nich wymagają wcześniejszej wiedzy na temat programowania lub technologii blockchain, ale są również kursy dla osób, które dopiero zaczynają swoją przygodę z tymi tematami.\\n\\n3. Wykorzystanie narzędzi: Wykorzystanie dostępnych narzędzi do wyszukiwania informacji o zamówieniach lub sprawdzania statusu zamówienia. Narzędzia te są dostępne w bibliotece LangGraph i ich wykorzystanie jest omówione w kursach na academy.langchain.com. \\n\\n4. Testowanie: Po zbudowaniu aplikacji, przeprowadzenie serii testów, aby upewnić się, że wszystko działa poprawnie. Testy powinny obejmować zarówno testy jednostkowe, jak i testy integracyjne, a do ich przeprowadzenia można wykorzystać narzędzia takie jak JUnit lub Mockito.\\n\\n5. Wdrożenie: Po pomyślnym przetestowaniu aplikacji, przeprowadzenie procesu wdrożenia. Wdrożenie może obejmować umieszczenie aplikacji na serwerze, konfigurację bazy danych i zapewnienie bezpieczeństwa danych.\\n\\n6. Monitorowanie i aktualizacja: Po wdrożeniu, monitorowanie działania aplikacji i wprowadzanie niezbędnych aktualizacji, aby zapewnić jej optymalne działanie. Do monitorowania można wykorzystać narzędzia takie jak Google Analytics lub New Relic, a aktualizacje mogą obejmować poprawki błędów, dodawanie nowych funkcji lub dostosowywanie aplikacji do zmieniających się wymagań użytkowników.\\n\\nWymagania:\\n- Znajomość API LangGraph\\n- Dostęp do kursów na academy.langchain.com\\n- Znajomość narzędzi do wyszukiwania informacji o zamówieniach lub sprawdzania statusu zamówienia\\n- Umiejętność przeprowadzania testów i wdrażania aplikacji\\n- Umiejętność monitorowania i aktualizowania aplikacji po jej wdrożeniu\\n\\nDecyzje:\\n- Wybór narzędzi do wyszukiwania informacji o zamówieniach lub sprawdzania statusu zamówienia\\n- Wybór metody testowania aplikacji\\n- Wybór metody wdrożenia aplikacji\\n- Wybór metody monitorowania i aktualizowania aplikacji po jej wdrożeniu', additional_kwargs={}, response_metadata={}, name='author_agent', id='20bfd264-5707-4fcb-9a4a-a60dec5c16e9'), AIMessage(content='Praca autora jest teraz znacznie bardziej kompletna i jasna. Autor dostarczył niezbędne informacje na temat tego, czym jest \"aplikacja agenta \\'Wydawcy\\'\", jakie są wymagania wstępne do kursów na academy.langchain.com, jakie narzędzia są dostępne do wyszukiwania informacji o zamówieniach lub sprawdzania statusu zamówienia, jakie testy powinny być przeprowadzone po zbudowaniu aplikacji, oraz jakie metody lub narzędzia powinny być użyte do monitorowania i aktualizowania aplikacji po jej wdrożeniu. \"approved\"', additional_kwargs={}, response_metadata={}, name='critic_agent', id='a994c788-dfa7-427a-9094-f3a246078d3d')], 'critic_marked': True}\n"
     ]
    }
   ],
   "execution_count": 36
  }
 ],
 "metadata": {
  "kernelspec": {
   "display_name": "Python 3",
   "language": "python",
   "name": "python3"
  },
  "language_info": {
   "codemirror_mode": {
    "name": "ipython",
    "version": 2
   },
   "file_extension": ".py",
   "mimetype": "text/x-python",
   "name": "python",
   "nbconvert_exporter": "python",
   "pygments_lexer": "ipython2",
   "version": "2.7.6"
  }
 },
 "nbformat": 4,
 "nbformat_minor": 5
}
