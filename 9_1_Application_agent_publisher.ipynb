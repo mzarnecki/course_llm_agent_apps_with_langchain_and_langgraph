{
 "cells": [
  {
   "metadata": {},
   "cell_type": "markdown",
   "source": "## Agent wydawca",
   "id": "97bb0a906daf9217"
  },
  {
   "metadata": {},
   "cell_type": "markdown",
   "source": "### Instalacja bibliotek",
   "id": "2b745d94d0429b23"
  },
  {
   "cell_type": "code",
   "id": "initial_id",
   "metadata": {
    "collapsed": true,
    "ExecuteTime": {
     "end_time": "2025-10-22T06:48:56.867280Z",
     "start_time": "2025-10-22T06:48:54.795764Z"
    }
   },
   "source": [
    "%%capture --no-stderr\n",
    "%pip install -U langgraph langgraph-supervisor langchain-tavily \"langchain[openai]\""
   ],
   "outputs": [],
   "execution_count": 39
  },
  {
   "metadata": {
    "ExecuteTime": {
     "end_time": "2025-10-22T06:48:56.886499Z",
     "start_time": "2025-10-22T06:48:56.880412Z"
    }
   },
   "cell_type": "code",
   "source": [
    "from dotenv import load_dotenv\n",
    "load_dotenv()"
   ],
   "id": "6ca5bedfb2dbd68f",
   "outputs": [
    {
     "data": {
      "text/plain": [
       "True"
      ]
     },
     "execution_count": 40,
     "metadata": {},
     "output_type": "execute_result"
    }
   ],
   "execution_count": 40
  },
  {
   "metadata": {
    "ExecuteTime": {
     "end_time": "2025-10-22T06:48:57.500371Z",
     "start_time": "2025-10-22T06:48:56.946138Z"
    }
   },
   "cell_type": "code",
   "source": [
    "from langchain_tavily import TavilySearch\n",
    "\n",
    "# klucz API Tavily: https://app.tavily.com/\n",
    "web_search = TavilySearch(max_results=3)\n",
    "web_search_results = web_search.invoke(\"Kto jest premierem Polski?\")\n",
    "\n",
    "print(web_search_results[\"results\"][0][\"content\"])"
   ],
   "id": "620a7740e7f5eac7",
   "outputs": [
    {
     "name": "stdout",
     "output_type": "stream",
     "text": [
      "W Polsce oficjalnym tytułem premiera (szefa rządu) od 1921 roku (tj. od wejścia w życie części przepisów Konstytucji marcowej) jest prezes Rady Ministrów.\n"
     ]
    }
   ],
   "execution_count": 41
  },
  {
   "metadata": {},
   "cell_type": "markdown",
   "source": "### Funkcje pomocnicze",
   "id": "fb07bbe68f6aa9ca"
  },
  {
   "metadata": {
    "ExecuteTime": {
     "end_time": "2025-10-22T06:48:57.527138Z",
     "start_time": "2025-10-22T06:48:57.522984Z"
    }
   },
   "cell_type": "code",
   "source": [
    "import json\n",
    "\n",
    "def pretty_print_messages(update):\n",
    "    print(json.dumps(update, indent=2, ensure_ascii=False))\n",
    "\n",
    "\n",
    "def _name_and_content(msg):\n",
    "    if isinstance(msg, dict):\n",
    "        return msg.get(\"name\", msg.get(\"role\", \"user\")), msg.get(\"content\", str(msg))\n",
    "    if isinstance(msg, BaseMessage):\n",
    "        name = getattr(msg, \"name\", None) or getattr(msg, \"type\", \"user\")\n",
    "        return name, msg.content\n",
    "    return \"user\", str(msg)\n"
   ],
   "id": "6b17048f5fa7d99c",
   "outputs": [],
   "execution_count": 42
  },
  {
   "metadata": {},
   "cell_type": "markdown",
   "source": "### Agent researcher",
   "id": "6af42764d7f3e8af"
  },
  {
   "metadata": {
    "ExecuteTime": {
     "end_time": "2025-10-22T06:48:57.576486Z",
     "start_time": "2025-10-22T06:48:57.572814Z"
    }
   },
   "cell_type": "code",
   "source": [
    "from langchain_core.output_parsers import StrOutputParser\n",
    "from langchain_openai import ChatOpenAI\n",
    "from langchain_core.prompts import ChatPromptTemplate\n",
    "\n",
    "def research_agent_node(state):\n",
    "    messages = state[\"messages\"]\n",
    "    user_request = messages[0].content\n",
    "\n",
    "    search_results = web_search.invoke(user_request)\n",
    "    research_content = []\n",
    "    for result in search_results[\"results\"][:3]:\n",
    "        research_content.append(f\"Źródło: {result['url']}\\nTreść: {result['content']}\\n\")\n",
    "    research_text = \"\\n---\\n\".join(research_content)\n",
    "\n",
    "    research_prompt = ChatPromptTemplate.from_messages([\n",
    "        (\"system\", \"\"\"Jesteś Researcherem. Masz dostęp do fragmentów z 'wyszukiwarki' (RESEARCH).\n",
    "Twoim celem jest dostarczyć rzeczowe, krótkie fakty i dane wspierające temat.\n",
    "Odnoś się do fragmentów i nie fantazjuj. Pisz po polsku, zwięźle.\n",
    "Po tym jak skończysz swoje zadanie odpowiedz bezpośrednio do moderatora.\n",
    "Odpowiadaj używając tylko rezultatów swojej pracy, nie załączaj tekstu.\"\"\"),\n",
    "        (\"user\", \"Temat: {topic}\\n\\nWyniki wyszukiwania:\\n{research_data}\")\n",
    "    ])\n",
    "\n",
    "    model = ChatOpenAI(model=\"gpt-4\", temperature=0)\n",
    "    chain = research_prompt | model | StrOutputParser()\n",
    "    response = chain.invoke({\"topic\": user_request, \"research_data\": research_text})\n",
    "\n",
    "    return {\"messages\": [{\"role\": \"assistant\", \"content\": response, \"name\": \"research_agent\"}]}\n"
   ],
   "id": "cb0e40cf498c9fbb",
   "outputs": [],
   "execution_count": 43
  },
  {
   "metadata": {},
   "cell_type": "markdown",
   "source": "### Agent autor",
   "id": "839d318a9bca3ce1"
  },
  {
   "metadata": {
    "ExecuteTime": {
     "end_time": "2025-10-22T06:48:57.629450Z",
     "start_time": "2025-10-22T06:48:57.626916Z"
    }
   },
   "cell_type": "code",
   "source": [
    "from langchain_core.messages import BaseMessage\n",
    "\n",
    "def _name_and_content(msg):\n",
    "    if isinstance(msg, dict):\n",
    "        return msg.get(\"name\", msg.get(\"role\", \"user\")), msg.get(\"content\", str(msg))\n",
    "    if isinstance(msg, BaseMessage):\n",
    "        name = getattr(msg, \"name\", None) or getattr(msg, \"type\", \"user\")\n",
    "        return name, msg.content\n",
    "    # fallback\n",
    "    return \"user\", str(msg)\n"
   ],
   "id": "9c961496d5cc5527",
   "outputs": [],
   "execution_count": 44
  },
  {
   "metadata": {
    "ExecuteTime": {
     "end_time": "2025-10-22T06:48:57.679076Z",
     "start_time": "2025-10-22T06:48:57.674277Z"
    }
   },
   "cell_type": "code",
   "source": [
    "def author_agent_node(state):\n",
    "    messages = state[\"messages\"]\n",
    "    has_critic_already_intervened = state.get(\"critic_marked\", False)\n",
    "\n",
    "    if has_critic_already_intervened:\n",
    "        author_prompt = ChatPromptTemplate.from_messages([\n",
    "            (\"system\", \"\"\"Jesteś Ekspertem-Edytorem. Otrzymałeś już feedback od Krytyka i musisz poprawić swój tekst.\n",
    "Przeanalizuj uwagi krytyka i dostarcz poprawioną wersję artykułu, która odpowiada na jego zastrzeżenia.\n",
    "Uwzględnij wszystkie sugestie i wypełnij wskazane luki. Pisz po polsku, konkretnie.\n",
    "Po tym jak skończysz swoje zadanie odpowiedz bezpośrednio do moderatora.\n",
    "Odpowiadaj używając tylko rezultatów swojej pracy, nie załączaj tekstu.\"\"\"),\n",
    "            (\"user\", \"Historia konwersacji:\\n{conversation_history}\\n\\nPopraw artykuł uwzględniając feedback krytyka.\")\n",
    "        ])\n",
    "    else:\n",
    "        author_prompt = ChatPromptTemplate.from_messages([\n",
    "            (\"system\", \"\"\"Jesteś Ekspertem. Z dostępnych faktów zaproponuj praktyczne rozwiązanie/plan.\n",
    "Uwzględnij kroki, wymagania i minimalny zestaw decyzji. Pisz po polsku, konkretnie.\n",
    "Po tym jak skończysz swoje zadanie odpowiedz bezpośrednio do moderatora.\n",
    "Odpowiadaj używając tylko rezultatów swojej pracy, nie załączaj tekstu.\"\"\"),\n",
    "            (\"user\", \"Na podstawie researchu stwórz artykuł:\\n{conversation_history}\")\n",
    "        ])\n",
    "\n",
    "    conversation_history = \"\\n\".join(\n",
    "        f\"{_name_and_content(m)[0]}: {_name_and_content(m)[1]}\"\n",
    "        for m in messages\n",
    "    )\n",
    "\n",
    "    model = ChatOpenAI(model=\"gpt-4\", temperature=0)\n",
    "    chain = author_prompt | model | StrOutputParser()\n",
    "    response = chain.invoke({\"conversation_history\": conversation_history})\n",
    "\n",
    "    return {\"messages\": [{\"role\": \"assistant\", \"content\": response, \"name\": \"author_agent\"}]}\n"
   ],
   "id": "ffb970d0000fdfd",
   "outputs": [],
   "execution_count": 45
  },
  {
   "metadata": {},
   "cell_type": "markdown",
   "source": "### Agent krytyk",
   "id": "f4db62c730e30b99"
  },
  {
   "metadata": {
    "ExecuteTime": {
     "end_time": "2025-10-22T06:48:57.729716Z",
     "start_time": "2025-10-22T06:48:57.725715Z"
    }
   },
   "cell_type": "code",
   "source": [
    "def critic_agent_node(state):\n",
    "    messages = state[\"messages\"]\n",
    "\n",
    "    conversation_history = \"\\n\".join(\n",
    "        f\"{_name_and_content(m)[0]}: {_name_and_content(m)[1]}\"\n",
    "        for m in messages\n",
    "    )\n",
    "\n",
    "    critic_prompt = ChatPromptTemplate.from_messages([\n",
    "        (\"system\", \"\"\"Jesteś Krytykiem. Twoją rolą jest znaleźć luki, ryzyka i niejasności w propozycji.\n",
    "Zadawaj dociekliwe pytania i wskaż brakujące elementy. Bądź konstruktywny.\n",
    "Po przeanalizowaniu pracy autora, jeśli widzisz istotne braki lub problemy, zakończ swoją odpowiedź słowami: \"needs improvement\"\n",
    "Jeśli praca jest zadowalająca i nie wymaga istotnych poprawek, zakończ słowami: \"approved\"\n",
    "Po tym jak skończysz swoje zadanie odpowiedz bezpośrednio do moderatora.\n",
    "Odpowiadaj używając tylko rezultatów swojej pracy, nie załączaj tekstu.\"\"\"),\n",
    "        (\"user\", \"Przeanalizuj pracę autora:\\n{conversation_history}\")\n",
    "    ])\n",
    "\n",
    "    model = ChatOpenAI(model=\"gpt-4\", temperature=0)\n",
    "    chain = critic_prompt | model | StrOutputParser()\n",
    "    response = chain.invoke({\"conversation_history\": conversation_history})\n",
    "\n",
    "    updates = {\n",
    "        \"messages\": [{\"role\": \"assistant\", \"content\": response, \"name\": \"critic_agent\"}]\n",
    "    }\n",
    "    if not state.get(\"critic_marked\", False):\n",
    "        updates[\"critic_marked\"] = True  # pierwsza ingerencja krytyka\n",
    "\n",
    "    return updates\n",
    "\n",
    "\n",
    "def should_continue(state):\n",
    "    last = state[\"messages\"][-1]\n",
    "    _, content = _name_and_content(last)\n",
    "    content = content.lower()\n",
    "    return \"author_agent\" if \"needs improvement\" in content else \"end\""
   ],
   "id": "1437892b80c930bb",
   "outputs": [],
   "execution_count": 46
  },
  {
   "metadata": {
    "ExecuteTime": {
     "end_time": "2025-10-22T06:48:57.782824Z",
     "start_time": "2025-10-22T06:48:57.776630Z"
    }
   },
   "cell_type": "code",
   "source": [
    "from typing import TypedDict, Annotated\n",
    "from langgraph.graph import StateGraph, START, END\n",
    "from langgraph.graph.message import add_messages\n",
    "\n",
    "class WorkflowState(TypedDict):\n",
    "    messages: Annotated[list, add_messages]\n",
    "    critic_marked: bool\n",
    "\n",
    "supervisor = (\n",
    "    StateGraph(WorkflowState)\n",
    "    .add_node(\"research_agent\", research_agent_node)\n",
    "    .add_node(\"author_agent\", author_agent_node)\n",
    "    .add_node(\"critic_agent\", critic_agent_node)\n",
    "    .add_edge(START, \"research_agent\")\n",
    "    .add_edge(\"research_agent\", \"author_agent\")\n",
    "    .add_edge(\"author_agent\", \"critic_agent\")\n",
    "    .add_conditional_edges(\"critic_agent\", should_continue, {\n",
    "        \"author_agent\": \"author_agent\",\n",
    "        \"end\": END\n",
    "    })\n",
    "    .compile()\n",
    ")\n"
   ],
   "id": "31c92e2bceca9fff",
   "outputs": [],
   "execution_count": 47
  },
  {
   "metadata": {},
   "cell_type": "markdown",
   "source": "### Wyświetl graf",
   "id": "cc9402b36006bbe4"
  },
  {
   "metadata": {
    "ExecuteTime": {
     "end_time": "2025-10-22T06:48:57.889600Z",
     "start_time": "2025-10-22T06:48:57.832138Z"
    }
   },
   "cell_type": "code",
   "source": [
    "from IPython.display import display, Image\n",
    "\n",
    "display(Image(supervisor.get_graph().draw_png()))"
   ],
   "id": "8c8bad64037311e0",
   "outputs": [
    {
     "data": {
      "image/png": "[encoded data removed]",
      "text/plain": [
       "<IPython.core.display.Image object>"
      ]
     },
     "metadata": {},
     "output_type": "display_data",
     "jetTransient": {
      "display_id": null
     }
    }
   ],
   "execution_count": 48
  },
  {
   "metadata": {},
   "cell_type": "markdown",
   "source": "### Uruchom graf i wygeneruj artykuł",
   "id": "15a6e44afd93753d"
  },
  {
   "metadata": {
    "ExecuteTime": {
     "end_time": "2025-10-22T06:50:18.115954Z",
     "start_time": "2025-10-22T06:48:57.901176Z"
    }
   },
   "cell_type": "code",
   "source": [
    "for chunk in supervisor.stream(\n",
    "    {\n",
    "        \"messages\": [{\n",
    "            \"role\": \"user\",\n",
    "            \"content\": \"Wygeneruj artykuł na temat: Jak zbudować aplikację agenta 'Wydawcy' w oparciu o bibliotekę LangGraph\",\n",
    "        }],\n",
    "        \"critic_marked\": False,\n",
    "    },\n",
    "    subgraphs=True,\n",
    "):\n",
    "    pretty_print_messages(chunk)\n"
   ],
   "id": "c16218c2acc578a0",
   "outputs": [
    {
     "name": "stdout",
     "output_type": "stream",
     "text": [
      "[\n",
      "  [],\n",
      "  {\n",
      "    \"research_agent\": {\n",
      "      \"messages\": [\n",
      "        {\n",
      "          \"role\": \"assistant\",\n",
      "          \"content\": \"1. LangGraph to zaawansowany framework do budowy systemów agentów AI, który oferuje większą kontrolę i skalowalność niż inne narzędzia, takie jak LangChain czy LlamaIndex. Jest to narzędzie profesjonalne, które pozwala na budowę skomplikowanych i dobrze przemyślanych agentów AI (źródło: https://www.youtube.com/watch?v=1w5cCXlh7JQ).\\n\\n2. LangGraph umożliwia implementację różnych wzorców dla agentów i przepływów pracy. Wyróżnia się między innymi wzorcem łańcucha podpowiedzi, paralelizacji, routingu z LLM, wzorcem orkiestratora-pracownika oraz wzorcem ewaluatora-optymalizatora. Każdy z tych wzorców ma swoje specyficzne zastosowania i może być efektywnie zaimplementowany za pomocą LangGraph (źródło: https://www.youtube.com/watch?v=aHCDrAbH_go).\\n\\n3. LangGraph oferuje również możliwość budowy i testowania niezawodnych agentów AI. Jest to potężna nowa biblioteka, która umożliwia tworzenie zaawansowanych systemów (źródło: https://www.youtube.com/watch?v=E0BtW2yt2pA).\",\n",
      "          \"name\": \"research_agent\"\n",
      "        }\n",
      "      ]\n",
      "    }\n",
      "  }\n",
      "]\n",
      "[\n",
      "  [],\n",
      "  {\n",
      "    \"author_agent\": {\n",
      "      \"messages\": [\n",
      "        {\n",
      "          \"role\": \"assistant\",\n",
      "          \"content\": \"Plan budowy aplikacji agenta 'Wydawcy' w oparciu o bibliotekę LangGraph:\\n\\n1. Zapoznanie się z biblioteką LangGraph: Przede wszystkim, musisz zrozumieć, jak działa LangGraph. Znajdź i przejrzyj dokumentację LangGraph, aby zrozumieć, jakie funkcje oferuje i jak je wykorzystać.\\n\\n2. Wybór wzorca: LangGraph oferuje różne wzorce, które można zaimplementować. Wybierz wzorzec, który najlepiej pasuje do Twojej aplikacji. Na przykład, jeśli Twoja aplikacja wymaga równoczesnego przetwarzania wielu zadań, możesz zdecydować się na wzorzec paralelizacji.\\n\\n3. Projektowanie aplikacji: Zaprojektuj swoją aplikację, uwzględniając wybrany wzorzec. Zdecyduj, jakie funkcje będzie miała Twoja aplikacja i jak będą one współpracować.\\n\\n4. Implementacja: Wykorzystaj LangGraph do zbudowania swojej aplikacji. Skorzystaj z funkcji oferowanych przez LangGraph, aby zaimplementować wybrane wzorce i funkcje.\\n\\n5. Testowanie: Po zbudowaniu aplikacji, przetestuj ją, aby upewnić się, że działa poprawnie. LangGraph oferuje narzędzia do testowania agentów AI, które mogą pomóc w tym procesie.\\n\\n6. Optymalizacja: Na podstawie wyników testów, optymalizuj swoją aplikację. Możesz na przykład zdecydować się na zastosowanie wzorca ewaluatora-optymalizatora, aby poprawić wydajność swojej aplikacji.\\n\\n7. Wdrożenie: Po optymalizacji, wdroż swoją aplikację. Upewnij się, że jest ona skalowalna i może efektywnie obsługiwać żądane obciążenie.\\n\\nPamiętaj, że budowa aplikacji agenta AI za pomocą LangGraph to proces, który wymaga czasu i starannego planowania. Jednak dzięki zaawansowanym funkcjom LangGraph, możesz zbudować potężną i efektywną aplikację.\",\n",
      "          \"name\": \"author_agent\"\n",
      "        }\n",
      "      ]\n",
      "    }\n",
      "  }\n",
      "]\n",
      "[\n",
      "  [],\n",
      "  {\n",
      "    \"critic_agent\": {\n",
      "      \"messages\": [\n",
      "        {\n",
      "          \"role\": \"assistant\",\n",
      "          \"content\": \"Podczas analizy pracy autora, zauważyłem kilka obszarów, które mogą wymagać dodatkowego wyjaśnienia lub szczegółów:\\n\\n1. Autor nie dostarcza szczegółów na temat tego, jakie funkcje powinna mieć aplikacja agenta 'Wydawcy'. Jakie są oczekiwane funkcje tej aplikacji? Jakie są jej cele? Bez tych informacji, trudno jest ocenić, czy proponowany plan jest odpowiedni.\\n\\n2. Autor sugeruje wybór wzorca z LangGraph, ale nie dostarcza szczegółów na temat tego, jak dokonać tego wyboru. Czy są jakieś kryteria, które powinny być brane pod uwagę podczas wyboru wzorca? Czy są jakieś wzorce, które są szczególnie przydatne dla aplikacji agenta 'Wydawcy'?\\n\\n3. Autor sugeruje optymalizację aplikacji na podstawie wyników testów, ale nie dostarcza szczegółów na temat tego, jakie aspekty aplikacji powinny być optymalizowane. Czy są jakieś konkretne metryki, które powinny być monitorowane podczas testowania i optymalizacji?\\n\\n4. Autor nie dostarcza szczegółów na temat procesu wdrożenia. Czy są jakieś konkretne kroki, które powinny być podjęte podczas wdrożenia aplikacji? Czy są jakieś specyficzne wyzwania, które mogą wystąpić podczas wdrożenia, które powinny być uwzględnione w planie?\\n\\nPodsumowując, plan autora wymaga więcej szczegółów i wyjaśnień, aby był kompletny i użyteczny. Bez tych dodatkowych informacji, trudno jest ocenić, czy plan jest odpowiedni i czy będzie skuteczny. \\\"needs improvement\\\"\",\n",
      "          \"name\": \"critic_agent\"\n",
      "        }\n",
      "      ],\n",
      "      \"critic_marked\": true\n",
      "    }\n",
      "  }\n",
      "]\n",
      "[\n",
      "  [],\n",
      "  {\n",
      "    \"author_agent\": {\n",
      "      \"messages\": [\n",
      "        {\n",
      "          \"role\": \"assistant\",\n",
      "          \"content\": \"Plan budowy aplikacji agenta 'Wydawcy' w oparciu o bibliotekę LangGraph:\\n\\n1. Zapoznanie się z biblioteką LangGraph: Przede wszystkim, musisz zrozumieć, jak działa LangGraph. Znajdź i przejrzyj dokumentację LangGraph, aby zrozumieć, jakie funkcje oferuje i jak je wykorzystać.\\n\\n2. Definiowanie funkcji aplikacji: Aplikacja agenta 'Wydawcy' powinna być w stanie automatycznie publikować treści na różnych platformach, monitorować interakcje z użytkownikami i generować raporty. Powinna również mieć funkcje zarządzania treścią, takie jak planowanie publikacji, moderowanie komentarzy i zarządzanie prawami autorskimi.\\n\\n3. Wybór wzorca: LangGraph oferuje różne wzorce, które można zaimplementować. Wybierz wzorzec, który najlepiej pasuje do Twojej aplikacji. Na przykład, jeśli Twoja aplikacja wymaga równoczesnego przetwarzania wielu zadań, możesz zdecydować się na wzorzec paralelizacji. W przypadku aplikacji agenta 'Wydawcy', wzorzec orkiestratora-pracownika może być odpowiedni, ponieważ pozwala na równoczesne wykonywanie wielu zadań, takich jak publikowanie treści i monitorowanie interakcji.\\n\\n4. Projektowanie aplikacji: Zaprojektuj swoją aplikację, uwzględniając wybrany wzorzec. Zdecyduj, jakie funkcje będzie miała Twoja aplikacja i jak będą one współpracować.\\n\\n5. Implementacja: Wykorzystaj LangGraph do zbudowania swojej aplikacji. Skorzystaj z funkcji oferowanych przez LangGraph, aby zaimplementować wybrane wzorce i funkcje.\\n\\n6. Testowanie: Po zbudowaniu aplikacji, przetestuj ją, aby upewnić się, że działa poprawnie. LangGraph oferuje narzędzia do testowania agentów AI, które mogą pomóc w tym procesie. Monitoruj metryki takie jak czas odpowiedzi, błędy i wydajność, aby zidentyfikować obszary do optymalizacji.\\n\\n7. Optymalizacja: Na podstawie wyników testów, optymalizuj swoją aplikację. Możesz na przykład zdecydować się na zastosowanie wzorca ewaluatora-optymalizatora, aby poprawić wydajność swojej aplikacji. Skup się na optymalizacji obszarów, które miały największy wpływ na metryki monitorowane podczas testów.\\n\\n8. Wdrożenie: Po optymalizacji, wdroż swoją aplikację. Upewnij się, że jest ona skalowalna i może efektywnie obsługiwać żądane obciążenie. Podczas wdrożenia, monitoruj wydajność aplikacji i bądź gotowy na szybkie wprowadzenie zmian, jeśli pojawią się problemy.\\n\\nPamiętaj, że budowa aplikacji agenta AI za pomocą LangGraph to proces, który wymaga czasu i starannego planowania. Jednak dzięki zaawansowanym funkcjom LangGraph, możesz zbudować potężną i efektywną aplikację.\",\n",
      "          \"name\": \"author_agent\"\n",
      "        }\n",
      "      ]\n",
      "    }\n",
      "  }\n",
      "]\n",
      "[\n",
      "  [],\n",
      "  {\n",
      "    \"critic_agent\": {\n",
      "      \"messages\": [\n",
      "        {\n",
      "          \"role\": \"assistant\",\n",
      "          \"content\": \"Po przeanalizowaniu poprawionej pracy autora, zauważyłem, że autor dostarczył teraz więcej szczegółów na temat funkcji aplikacji, wyboru wzorca, procesu testowania i optymalizacji oraz procesu wdrożenia. Autor dostarczył również więcej informacji na temat tego, jakie metryki powinny być monitorowane podczas testowania i optymalizacji, co jest kluczowe dla skutecznego procesu optymalizacji. Wszystkie te dodatkowe informacje pomagają w lepszym zrozumieniu procesu budowy aplikacji agenta 'Wydawcy' i czynią plan autora bardziej kompletnym i użytecznym. \\\"approved\\\"\",\n",
      "          \"name\": \"critic_agent\"\n",
      "        }\n",
      "      ]\n",
      "    }\n",
      "  }\n",
      "]\n"
     ]
    }
   ],
   "execution_count": 49
  }
 ],
 "metadata": {
  "kernelspec": {
   "display_name": "Python 3",
   "language": "python",
   "name": "python3"
  },
  "language_info": {
   "codemirror_mode": {
    "name": "ipython",
    "version": 2
   },
   "file_extension": ".py",
   "mimetype": "text/x-python",
   "name": "python",
   "nbconvert_exporter": "python",
   "pygments_lexer": "ipython2",
   "version": "2.7.6"
  }
 },
 "nbformat": 4,
 "nbformat_minor": 5
}
