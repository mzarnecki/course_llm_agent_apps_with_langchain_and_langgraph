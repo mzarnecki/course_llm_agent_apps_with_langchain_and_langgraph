{
 "cells": [
  {
   "cell_type": "markdown",
   "id": "f4dc8e4a",
   "metadata": {},
   "source": "# Model-agnostic Gateway"
  },
  {
   "metadata": {},
   "cell_type": "markdown",
   "source": "### Instalacja bibliotek",
   "id": "ac89c5457f2d4294"
  },
  {
   "metadata": {
    "ExecuteTime": {
     "end_time": "2025-10-24T19:22:03.366130Z",
     "start_time": "2025-10-24T19:22:00.766629Z"
    }
   },
   "cell_type": "code",
   "source": "!pip install -U langchain langchain-openai langgraph fastapi uvicorn",
   "id": "b82004d726d1fc8d",
   "outputs": [
    {
     "name": "stdout",
     "output_type": "stream",
     "text": [
      "Requirement already satisfied: langchain in /home/michal/anaconda3/lib/python3.13/site-packages (1.0.2)\r\n",
      "Requirement already satisfied: langchain-openai in /home/michal/anaconda3/lib/python3.13/site-packages (1.0.1)\r\n",
      "Requirement already satisfied: langgraph in /home/michal/anaconda3/lib/python3.13/site-packages (1.0.1)\r\n",
      "Requirement already satisfied: fastapi in /home/michal/anaconda3/lib/python3.13/site-packages (0.116.1)\r\n",
      "Collecting fastapi\r\n",
      "  Downloading fastapi-0.120.0-py3-none-any.whl.metadata (28 kB)\r\n",
      "Requirement already satisfied: uvicorn in /home/michal/anaconda3/lib/python3.13/site-packages (0.35.0)\r\n",
      "Collecting uvicorn\r\n",
      "  Downloading uvicorn-0.38.0-py3-none-any.whl.metadata (6.8 kB)\r\n",
      "Requirement already satisfied: langchain-core<2.0.0,>=1.0.0 in /home/michal/anaconda3/lib/python3.13/site-packages (from langchain) (1.0.0)\r\n",
      "Requirement already satisfied: pydantic<3.0.0,>=2.7.4 in /home/michal/anaconda3/lib/python3.13/site-packages (from langchain) (2.11.7)\r\n",
      "Requirement already satisfied: langgraph-checkpoint<4.0.0,>=2.1.0 in /home/michal/anaconda3/lib/python3.13/site-packages (from langgraph) (2.1.1)\r\n",
      "Requirement already satisfied: langgraph-prebuilt<1.1.0,>=1.0.0 in /home/michal/anaconda3/lib/python3.13/site-packages (from langgraph) (1.0.1)\r\n",
      "Requirement already satisfied: langgraph-sdk<0.3.0,>=0.2.2 in /home/michal/anaconda3/lib/python3.13/site-packages (from langgraph) (0.2.4)\r\n",
      "Requirement already satisfied: xxhash>=3.5.0 in /home/michal/anaconda3/lib/python3.13/site-packages (from langgraph) (3.5.0)\r\n",
      "Requirement already satisfied: jsonpatch<2.0.0,>=1.33.0 in /home/michal/anaconda3/lib/python3.13/site-packages (from langchain-core<2.0.0,>=1.0.0->langchain) (1.33)\r\n",
      "Requirement already satisfied: langsmith<1.0.0,>=0.3.45 in /home/michal/anaconda3/lib/python3.13/site-packages (from langchain-core<2.0.0,>=1.0.0->langchain) (0.4.30)\r\n",
      "Requirement already satisfied: packaging<26.0.0,>=23.2.0 in /home/michal/anaconda3/lib/python3.13/site-packages (from langchain-core<2.0.0,>=1.0.0->langchain) (24.2)\r\n",
      "Requirement already satisfied: pyyaml<7.0.0,>=5.3.0 in /home/michal/anaconda3/lib/python3.13/site-packages (from langchain-core<2.0.0,>=1.0.0->langchain) (6.0.2)\r\n",
      "Requirement already satisfied: tenacity!=8.4.0,<10.0.0,>=8.1.0 in /home/michal/anaconda3/lib/python3.13/site-packages (from langchain-core<2.0.0,>=1.0.0->langchain) (9.0.0)\r\n",
      "Requirement already satisfied: typing-extensions<5.0.0,>=4.7.0 in /home/michal/anaconda3/lib/python3.13/site-packages (from langchain-core<2.0.0,>=1.0.0->langchain) (4.15.0)\r\n",
      "Requirement already satisfied: jsonpointer>=1.9 in /home/michal/anaconda3/lib/python3.13/site-packages (from jsonpatch<2.0.0,>=1.33.0->langchain-core<2.0.0,>=1.0.0->langchain) (3.0.0)\r\n",
      "Requirement already satisfied: ormsgpack>=1.10.0 in /home/michal/anaconda3/lib/python3.13/site-packages (from langgraph-checkpoint<4.0.0,>=2.1.0->langgraph) (1.10.0)\r\n",
      "Requirement already satisfied: httpx>=0.25.2 in /home/michal/anaconda3/lib/python3.13/site-packages (from langgraph-sdk<0.3.0,>=0.2.2->langgraph) (0.28.1)\r\n",
      "Requirement already satisfied: orjson>=3.10.1 in /home/michal/anaconda3/lib/python3.13/site-packages (from langgraph-sdk<0.3.0,>=0.2.2->langgraph) (3.10.14)\r\n",
      "Requirement already satisfied: requests-toolbelt>=1.0.0 in /home/michal/anaconda3/lib/python3.13/site-packages (from langsmith<1.0.0,>=0.3.45->langchain-core<2.0.0,>=1.0.0->langchain) (1.0.0)\r\n",
      "Requirement already satisfied: requests>=2.0.0 in /home/michal/anaconda3/lib/python3.13/site-packages (from langsmith<1.0.0,>=0.3.45->langchain-core<2.0.0,>=1.0.0->langchain) (2.32.5)\r\n",
      "Requirement already satisfied: zstandard>=0.23.0 in /home/michal/anaconda3/lib/python3.13/site-packages (from langsmith<1.0.0,>=0.3.45->langchain-core<2.0.0,>=1.0.0->langchain) (0.23.0)\r\n",
      "Requirement already satisfied: anyio in /home/michal/.local/lib/python3.13/site-packages (from httpx>=0.25.2->langgraph-sdk<0.3.0,>=0.2.2->langgraph) (4.10.0)\r\n",
      "Requirement already satisfied: certifi in /home/michal/anaconda3/lib/python3.13/site-packages (from httpx>=0.25.2->langgraph-sdk<0.3.0,>=0.2.2->langgraph) (2025.8.3)\r\n",
      "Requirement already satisfied: httpcore==1.* in /home/michal/.local/lib/python3.13/site-packages (from httpx>=0.25.2->langgraph-sdk<0.3.0,>=0.2.2->langgraph) (1.0.9)\r\n",
      "Requirement already satisfied: idna in /home/michal/anaconda3/lib/python3.13/site-packages (from httpx>=0.25.2->langgraph-sdk<0.3.0,>=0.2.2->langgraph) (3.7)\r\n",
      "Requirement already satisfied: h11>=0.16 in /home/michal/.local/lib/python3.13/site-packages (from httpcore==1.*->httpx>=0.25.2->langgraph-sdk<0.3.0,>=0.2.2->langgraph) (0.16.0)\r\n",
      "Requirement already satisfied: annotated-types>=0.6.0 in /home/michal/anaconda3/lib/python3.13/site-packages (from pydantic<3.0.0,>=2.7.4->langchain) (0.6.0)\r\n",
      "Requirement already satisfied: pydantic-core==2.33.2 in /home/michal/anaconda3/lib/python3.13/site-packages (from pydantic<3.0.0,>=2.7.4->langchain) (2.33.2)\r\n",
      "Requirement already satisfied: typing-inspection>=0.4.0 in /home/michal/anaconda3/lib/python3.13/site-packages (from pydantic<3.0.0,>=2.7.4->langchain) (0.4.0)\r\n",
      "Requirement already satisfied: openai<3.0.0,>=1.109.1 in /home/michal/anaconda3/lib/python3.13/site-packages (from langchain-openai) (2.5.0)\r\n",
      "Requirement already satisfied: tiktoken<1.0.0,>=0.7.0 in /home/michal/anaconda3/lib/python3.13/site-packages (from langchain-openai) (0.11.0)\r\n",
      "Requirement already satisfied: distro<2,>=1.7.0 in /home/michal/anaconda3/lib/python3.13/site-packages (from openai<3.0.0,>=1.109.1->langchain-openai) (1.9.0)\r\n",
      "Requirement already satisfied: jiter<1,>=0.10.0 in /home/michal/anaconda3/lib/python3.13/site-packages (from openai<3.0.0,>=1.109.1->langchain-openai) (0.10.0)\r\n",
      "Requirement already satisfied: sniffio in /home/michal/.local/lib/python3.13/site-packages (from openai<3.0.0,>=1.109.1->langchain-openai) (1.3.1)\r\n",
      "Requirement already satisfied: tqdm>4 in /home/michal/anaconda3/lib/python3.13/site-packages (from openai<3.0.0,>=1.109.1->langchain-openai) (4.67.1)\r\n",
      "Requirement already satisfied: regex>=2022.1.18 in /home/michal/anaconda3/lib/python3.13/site-packages (from tiktoken<1.0.0,>=0.7.0->langchain-openai) (2024.11.6)\r\n",
      "Requirement already satisfied: starlette<0.49.0,>=0.40.0 in /home/michal/anaconda3/lib/python3.13/site-packages (from fastapi) (0.47.3)\r\n",
      "Collecting annotated-doc>=0.0.2 (from fastapi)\r\n",
      "  Downloading annotated_doc-0.0.3-py3-none-any.whl.metadata (6.6 kB)\r\n",
      "Requirement already satisfied: click>=7.0 in /home/michal/anaconda3/lib/python3.13/site-packages (from uvicorn) (8.1.8)\r\n",
      "Requirement already satisfied: charset_normalizer<4,>=2 in /home/michal/anaconda3/lib/python3.13/site-packages (from requests>=2.0.0->langsmith<1.0.0,>=0.3.45->langchain-core<2.0.0,>=1.0.0->langchain) (3.3.2)\r\n",
      "Requirement already satisfied: urllib3<3,>=1.21.1 in /home/michal/anaconda3/lib/python3.13/site-packages (from requests>=2.0.0->langsmith<1.0.0,>=0.3.45->langchain-core<2.0.0,>=1.0.0->langchain) (2.5.0)\r\n",
      "Downloading fastapi-0.120.0-py3-none-any.whl (108 kB)\r\n",
      "Downloading uvicorn-0.38.0-py3-none-any.whl (68 kB)\r\n",
      "Downloading annotated_doc-0.0.3-py3-none-any.whl (5.5 kB)\r\n",
      "Installing collected packages: uvicorn, annotated-doc, fastapi\r\n",
      "\u001B[2K  Attempting uninstall: uvicorn\r\n",
      "\u001B[2K    Found existing installation: uvicorn 0.35.0\r\n",
      "\u001B[2K    Uninstalling uvicorn-0.35.0:\r\n",
      "\u001B[2K      Successfully uninstalled uvicorn-0.35.0\r\n",
      "\u001B[2K  Attempting uninstall: fastapi\r\n",
      "\u001B[2K    Found existing installation: fastapi 0.116.1\r\n",
      "\u001B[2K    Uninstalling fastapi-0.116.1:\r\n",
      "\u001B[2K      Successfully uninstalled fastapi-0.116.1\r\n",
      "\u001B[2K   \u001B[90m━━━━━━━━━━━━━━━━━━━━━━━━━━━━━━━━━━━━━━━━\u001B[0m \u001B[32m3/3\u001B[0m [fastapi]m2/3\u001B[0m [fastapi]\r\n",
      "\u001B[1A\u001B[2KSuccessfully installed annotated-doc-0.0.3 fastapi-0.120.0 uvicorn-0.38.0\r\n"
     ]
    }
   ],
   "execution_count": 40
  },
  {
   "metadata": {
    "ExecuteTime": {
     "end_time": "2025-10-24T18:38:02.519648Z",
     "start_time": "2025-10-24T18:38:02.505963Z"
    }
   },
   "cell_type": "code",
   "source": [
    "from dotenv import load_dotenv\n",
    "load_dotenv()"
   ],
   "id": "8cd141a69fe3a2d0",
   "outputs": [
    {
     "data": {
      "text/plain": [
       "True"
      ]
     },
     "execution_count": 3,
     "metadata": {},
     "output_type": "execute_result"
    }
   ],
   "execution_count": 3
  },
  {
   "metadata": {},
   "cell_type": "markdown",
   "source": "### Human in the loop",
   "id": "99e4e28faca05393"
  },
  {
   "cell_type": "code",
   "id": "6b209d68",
   "metadata": {
    "ExecuteTime": {
     "end_time": "2025-10-24T20:07:06.683061Z",
     "start_time": "2025-10-24T20:07:04.797579Z"
    }
   },
   "source": [
    "from langchain_openai import ChatOpenAI\n",
    "from langchain_core.tools import tool\n",
    "from langchain.agents import create_agent\n",
    "from langchain.agents.middleware import HumanInTheLoopMiddleware\n",
    "from langgraph.checkpoint.memory import MemorySaver\n",
    "from langgraph.types import Command\n",
    "\n",
    "@tool\n",
    "def risky_operation(secret: str) -> str:\n",
    "    \"\"\"Perform a risky operation that requires manual approval.\"\"\"\n",
    "    return f\"Executed risky operation with: {secret}\"\n",
    "\n",
    "tools = [risky_operation]\n",
    "model = ChatOpenAI(model=\"gpt-4o-mini\", temperature=0)\n",
    "\n",
    "hitl = HumanInTheLoopMiddleware(\n",
    "    interrupt_on={\n",
    "        \"risky_operation\": {\"allowed_decisions\": [\"approve\", \"edit\", \"reject\"]}\n",
    "    },\n",
    "    description_prefix=\"Manual approval required for risky operation:\"\n",
    ")\n",
    "\n",
    "\n",
    "checkpointer = MemorySaver()\n",
    "agent = create_agent(\n",
    "    model=model,\n",
    "    tools=tools,\n",
    "    middleware=[hitl],\n",
    "    checkpointer=checkpointer,\n",
    "    debug=True\n",
    ")\n",
    "\n",
    "config = {\"configurable\": {\"thread_id\": \"hitl-demo-1\"}}\n",
    "\n",
    "result = agent.invoke(\n",
    "    {\"messages\": [{\"role\": \"user\", \"content\": \"Please run the risky operation with secret code $%45654@.\"}]},\n",
    "    config=config,\n",
    ")\n",
    "\n"
   ],
   "outputs": [
    {
     "name": "stdout",
     "output_type": "stream",
     "text": [
      "\u001B[1m[values]\u001B[0m {'messages': [HumanMessage(content='Please run the risky operation with secret code $%45654@.', additional_kwargs={}, response_metadata={}, id='ad121934-6d92-4e53-849b-260b5ede0816')]}\n",
      "\u001B[1m[updates]\u001B[0m {'model': {'messages': [AIMessage(content='', additional_kwargs={'tool_calls': [{'id': 'call_FSqR5i057tj9AnWyrNGuGBzs', 'function': {'arguments': '{\"secret\":\"$%45654@\"}', 'name': 'risky_operation'}, 'type': 'function'}], 'refusal': None}, response_metadata={'token_usage': {'completion_tokens': 19, 'prompt_tokens': 60, 'total_tokens': 79, 'completion_tokens_details': {'accepted_prediction_tokens': 0, 'audio_tokens': 0, 'reasoning_tokens': 0, 'rejected_prediction_tokens': 0}, 'prompt_tokens_details': {'audio_tokens': 0, 'cached_tokens': 0}}, 'model_name': 'gpt-4o-mini-2024-07-18', 'system_fingerprint': 'fp_560af6e559', 'id': 'chatcmpl-CUILxtMZucB5samFbG2eAFWOLgka0', 'service_tier': 'default', 'finish_reason': 'tool_calls', 'logprobs': None}, id='lc_run--1164e0fa-d66f-4995-b425-86c092858312-0', tool_calls=[{'name': 'risky_operation', 'args': {'secret': '$%45654@'}, 'id': 'call_FSqR5i057tj9AnWyrNGuGBzs', 'type': 'tool_call'}], usage_metadata={'input_tokens': 60, 'output_tokens': 19, 'total_tokens': 79, 'input_token_details': {'audio': 0, 'cache_read': 0}, 'output_token_details': {'audio': 0, 'reasoning': 0}})]}}\n",
      "\u001B[1m[values]\u001B[0m {'messages': [HumanMessage(content='Please run the risky operation with secret code $%45654@.', additional_kwargs={}, response_metadata={}, id='ad121934-6d92-4e53-849b-260b5ede0816'), AIMessage(content='', additional_kwargs={'tool_calls': [{'id': 'call_FSqR5i057tj9AnWyrNGuGBzs', 'function': {'arguments': '{\"secret\":\"$%45654@\"}', 'name': 'risky_operation'}, 'type': 'function'}], 'refusal': None}, response_metadata={'token_usage': {'completion_tokens': 19, 'prompt_tokens': 60, 'total_tokens': 79, 'completion_tokens_details': {'accepted_prediction_tokens': 0, 'audio_tokens': 0, 'reasoning_tokens': 0, 'rejected_prediction_tokens': 0}, 'prompt_tokens_details': {'audio_tokens': 0, 'cached_tokens': 0}}, 'model_name': 'gpt-4o-mini-2024-07-18', 'system_fingerprint': 'fp_560af6e559', 'id': 'chatcmpl-CUILxtMZucB5samFbG2eAFWOLgka0', 'service_tier': 'default', 'finish_reason': 'tool_calls', 'logprobs': None}, id='lc_run--1164e0fa-d66f-4995-b425-86c092858312-0', tool_calls=[{'name': 'risky_operation', 'args': {'secret': '$%45654@'}, 'id': 'call_FSqR5i057tj9AnWyrNGuGBzs', 'type': 'tool_call'}], usage_metadata={'input_tokens': 60, 'output_tokens': 19, 'total_tokens': 79, 'input_token_details': {'audio': 0, 'cache_read': 0}, 'output_token_details': {'audio': 0, 'reasoning': 0}})]}\n",
      "\u001B[1m[updates]\u001B[0m {'__interrupt__': (Interrupt(value={'action_requests': [{'name': 'risky_operation', 'args': {'secret': '$%45654@'}, 'description': \"Manual approval required for risky operation:\\n\\nTool: risky_operation\\nArgs: {'secret': '$%45654@'}\"}], 'review_configs': [{'action_name': 'risky_operation', 'allowed_decisions': ['approve', 'edit', 'reject']}]}, id='c32647abc79616a846ff49686849fb51'),)}\n"
     ]
    }
   ],
   "execution_count": 43
  },
  {
   "metadata": {
    "ExecuteTime": {
     "end_time": "2025-10-24T20:07:55.872346Z",
     "start_time": "2025-10-24T20:07:54.178959Z"
    }
   },
   "cell_type": "code",
   "source": [
    "if \"__interrupt__\" in result:\n",
    "    print(\"Interrupt detected!\")\n",
    "    decisions = [{\"type\": \"approve\"}]\n",
    "\n",
    "    result = agent.invoke(\n",
    "        Command(resume={\"decisions\": decisions}),\n",
    "        config=config,\n",
    "    )\n"
   ],
   "id": "451a1b1100a958b8",
   "outputs": [
    {
     "name": "stdout",
     "output_type": "stream",
     "text": [
      "Interrupt detected!\n",
      "\u001B[1m[values]\u001B[0m {'messages': [HumanMessage(content='Please run the risky operation with secret code $%45654@.', additional_kwargs={}, response_metadata={}, id='ad121934-6d92-4e53-849b-260b5ede0816'), AIMessage(content='', additional_kwargs={'tool_calls': [{'id': 'call_FSqR5i057tj9AnWyrNGuGBzs', 'function': {'arguments': '{\"secret\":\"$%45654@\"}', 'name': 'risky_operation'}, 'type': 'function'}], 'refusal': None}, response_metadata={'token_usage': {'completion_tokens': 19, 'prompt_tokens': 60, 'total_tokens': 79, 'completion_tokens_details': {'accepted_prediction_tokens': 0, 'audio_tokens': 0, 'reasoning_tokens': 0, 'rejected_prediction_tokens': 0}, 'prompt_tokens_details': {'audio_tokens': 0, 'cached_tokens': 0}}, 'model_name': 'gpt-4o-mini-2024-07-18', 'system_fingerprint': 'fp_560af6e559', 'id': 'chatcmpl-CUILxtMZucB5samFbG2eAFWOLgka0', 'service_tier': 'default', 'finish_reason': 'tool_calls', 'logprobs': None}, id='lc_run--1164e0fa-d66f-4995-b425-86c092858312-0', tool_calls=[{'name': 'risky_operation', 'args': {'secret': '$%45654@'}, 'id': 'call_FSqR5i057tj9AnWyrNGuGBzs', 'type': 'tool_call'}], usage_metadata={'input_tokens': 60, 'output_tokens': 19, 'total_tokens': 79, 'input_token_details': {'audio': 0, 'cache_read': 0}, 'output_token_details': {'audio': 0, 'reasoning': 0}})]}\n",
      "\u001B[1m[updates]\u001B[0m {'HumanInTheLoopMiddleware.after_model': {'messages': [AIMessage(content='', additional_kwargs={'tool_calls': [{'id': 'call_FSqR5i057tj9AnWyrNGuGBzs', 'function': {'arguments': '{\"secret\":\"$%45654@\"}', 'name': 'risky_operation'}, 'type': 'function'}], 'refusal': None}, response_metadata={'token_usage': {'completion_tokens': 19, 'prompt_tokens': 60, 'total_tokens': 79, 'completion_tokens_details': {'accepted_prediction_tokens': 0, 'audio_tokens': 0, 'reasoning_tokens': 0, 'rejected_prediction_tokens': 0}, 'prompt_tokens_details': {'audio_tokens': 0, 'cached_tokens': 0}}, 'model_name': 'gpt-4o-mini-2024-07-18', 'system_fingerprint': 'fp_560af6e559', 'id': 'chatcmpl-CUILxtMZucB5samFbG2eAFWOLgka0', 'service_tier': 'default', 'finish_reason': 'tool_calls', 'logprobs': None}, id='lc_run--1164e0fa-d66f-4995-b425-86c092858312-0', tool_calls=[{'name': 'risky_operation', 'args': {'secret': '$%45654@'}, 'id': 'call_FSqR5i057tj9AnWyrNGuGBzs', 'type': 'tool_call'}], usage_metadata={'input_tokens': 60, 'output_tokens': 19, 'total_tokens': 79, 'input_token_details': {'audio': 0, 'cache_read': 0}, 'output_token_details': {'audio': 0, 'reasoning': 0}})]}}\n",
      "\u001B[1m[values]\u001B[0m {'messages': [HumanMessage(content='Please run the risky operation with secret code $%45654@.', additional_kwargs={}, response_metadata={}, id='ad121934-6d92-4e53-849b-260b5ede0816'), AIMessage(content='', additional_kwargs={'tool_calls': [{'id': 'call_FSqR5i057tj9AnWyrNGuGBzs', 'function': {'arguments': '{\"secret\":\"$%45654@\"}', 'name': 'risky_operation'}, 'type': 'function'}], 'refusal': None}, response_metadata={'token_usage': {'completion_tokens': 19, 'prompt_tokens': 60, 'total_tokens': 79, 'completion_tokens_details': {'accepted_prediction_tokens': 0, 'audio_tokens': 0, 'reasoning_tokens': 0, 'rejected_prediction_tokens': 0}, 'prompt_tokens_details': {'audio_tokens': 0, 'cached_tokens': 0}}, 'model_name': 'gpt-4o-mini-2024-07-18', 'system_fingerprint': 'fp_560af6e559', 'id': 'chatcmpl-CUILxtMZucB5samFbG2eAFWOLgka0', 'service_tier': 'default', 'finish_reason': 'tool_calls', 'logprobs': None}, id='lc_run--1164e0fa-d66f-4995-b425-86c092858312-0', tool_calls=[{'name': 'risky_operation', 'args': {'secret': '$%45654@'}, 'id': 'call_FSqR5i057tj9AnWyrNGuGBzs', 'type': 'tool_call'}], usage_metadata={'input_tokens': 60, 'output_tokens': 19, 'total_tokens': 79, 'input_token_details': {'audio': 0, 'cache_read': 0}, 'output_token_details': {'audio': 0, 'reasoning': 0}})]}\n",
      "\u001B[1m[updates]\u001B[0m {'tools': {'messages': [ToolMessage(content='Executed risky operation with: $%45654@', name='risky_operation', id='91096121-4a97-436c-aec3-eb6045a34ab2', tool_call_id='call_FSqR5i057tj9AnWyrNGuGBzs')]}}\n",
      "\u001B[1m[values]\u001B[0m {'messages': [HumanMessage(content='Please run the risky operation with secret code $%45654@.', additional_kwargs={}, response_metadata={}, id='ad121934-6d92-4e53-849b-260b5ede0816'), AIMessage(content='', additional_kwargs={'tool_calls': [{'id': 'call_FSqR5i057tj9AnWyrNGuGBzs', 'function': {'arguments': '{\"secret\":\"$%45654@\"}', 'name': 'risky_operation'}, 'type': 'function'}], 'refusal': None}, response_metadata={'token_usage': {'completion_tokens': 19, 'prompt_tokens': 60, 'total_tokens': 79, 'completion_tokens_details': {'accepted_prediction_tokens': 0, 'audio_tokens': 0, 'reasoning_tokens': 0, 'rejected_prediction_tokens': 0}, 'prompt_tokens_details': {'audio_tokens': 0, 'cached_tokens': 0}}, 'model_name': 'gpt-4o-mini-2024-07-18', 'system_fingerprint': 'fp_560af6e559', 'id': 'chatcmpl-CUILxtMZucB5samFbG2eAFWOLgka0', 'service_tier': 'default', 'finish_reason': 'tool_calls', 'logprobs': None}, id='lc_run--1164e0fa-d66f-4995-b425-86c092858312-0', tool_calls=[{'name': 'risky_operation', 'args': {'secret': '$%45654@'}, 'id': 'call_FSqR5i057tj9AnWyrNGuGBzs', 'type': 'tool_call'}], usage_metadata={'input_tokens': 60, 'output_tokens': 19, 'total_tokens': 79, 'input_token_details': {'audio': 0, 'cache_read': 0}, 'output_token_details': {'audio': 0, 'reasoning': 0}}), ToolMessage(content='Executed risky operation with: $%45654@', name='risky_operation', id='91096121-4a97-436c-aec3-eb6045a34ab2', tool_call_id='call_FSqR5i057tj9AnWyrNGuGBzs')]}\n",
      "\u001B[1m[updates]\u001B[0m {'model': {'messages': [AIMessage(content='The risky operation has been successfully executed with the secret code `$%45654@`. If you need any further assistance, feel free to ask!', additional_kwargs={'refusal': None}, response_metadata={'token_usage': {'completion_tokens': 30, 'prompt_tokens': 98, 'total_tokens': 128, 'completion_tokens_details': {'accepted_prediction_tokens': 0, 'audio_tokens': 0, 'reasoning_tokens': 0, 'rejected_prediction_tokens': 0}, 'prompt_tokens_details': {'audio_tokens': 0, 'cached_tokens': 0}}, 'model_name': 'gpt-4o-mini-2024-07-18', 'system_fingerprint': 'fp_560af6e559', 'id': 'chatcmpl-CUIMktuGQy7c7DZidOw1TckbdYatL', 'service_tier': 'default', 'finish_reason': 'stop', 'logprobs': None}, id='lc_run--f5c1896e-38f6-4b40-8407-47cd085b3c47-0', usage_metadata={'input_tokens': 98, 'output_tokens': 30, 'total_tokens': 128, 'input_token_details': {'audio': 0, 'cache_read': 0}, 'output_token_details': {'audio': 0, 'reasoning': 0}})]}}\n",
      "\u001B[1m[values]\u001B[0m {'messages': [HumanMessage(content='Please run the risky operation with secret code $%45654@.', additional_kwargs={}, response_metadata={}, id='ad121934-6d92-4e53-849b-260b5ede0816'), AIMessage(content='', additional_kwargs={'tool_calls': [{'id': 'call_FSqR5i057tj9AnWyrNGuGBzs', 'function': {'arguments': '{\"secret\":\"$%45654@\"}', 'name': 'risky_operation'}, 'type': 'function'}], 'refusal': None}, response_metadata={'token_usage': {'completion_tokens': 19, 'prompt_tokens': 60, 'total_tokens': 79, 'completion_tokens_details': {'accepted_prediction_tokens': 0, 'audio_tokens': 0, 'reasoning_tokens': 0, 'rejected_prediction_tokens': 0}, 'prompt_tokens_details': {'audio_tokens': 0, 'cached_tokens': 0}}, 'model_name': 'gpt-4o-mini-2024-07-18', 'system_fingerprint': 'fp_560af6e559', 'id': 'chatcmpl-CUILxtMZucB5samFbG2eAFWOLgka0', 'service_tier': 'default', 'finish_reason': 'tool_calls', 'logprobs': None}, id='lc_run--1164e0fa-d66f-4995-b425-86c092858312-0', tool_calls=[{'name': 'risky_operation', 'args': {'secret': '$%45654@'}, 'id': 'call_FSqR5i057tj9AnWyrNGuGBzs', 'type': 'tool_call'}], usage_metadata={'input_tokens': 60, 'output_tokens': 19, 'total_tokens': 79, 'input_token_details': {'audio': 0, 'cache_read': 0}, 'output_token_details': {'audio': 0, 'reasoning': 0}}), ToolMessage(content='Executed risky operation with: $%45654@', name='risky_operation', id='91096121-4a97-436c-aec3-eb6045a34ab2', tool_call_id='call_FSqR5i057tj9AnWyrNGuGBzs'), AIMessage(content='The risky operation has been successfully executed with the secret code `$%45654@`. If you need any further assistance, feel free to ask!', additional_kwargs={'refusal': None}, response_metadata={'token_usage': {'completion_tokens': 30, 'prompt_tokens': 98, 'total_tokens': 128, 'completion_tokens_details': {'accepted_prediction_tokens': 0, 'audio_tokens': 0, 'reasoning_tokens': 0, 'rejected_prediction_tokens': 0}, 'prompt_tokens_details': {'audio_tokens': 0, 'cached_tokens': 0}}, 'model_name': 'gpt-4o-mini-2024-07-18', 'system_fingerprint': 'fp_560af6e559', 'id': 'chatcmpl-CUIMktuGQy7c7DZidOw1TckbdYatL', 'service_tier': 'default', 'finish_reason': 'stop', 'logprobs': None}, id='lc_run--f5c1896e-38f6-4b40-8407-47cd085b3c47-0', usage_metadata={'input_tokens': 98, 'output_tokens': 30, 'total_tokens': 128, 'input_token_details': {'audio': 0, 'cache_read': 0}, 'output_token_details': {'audio': 0, 'reasoning': 0}})]}\n",
      "\u001B[1m[updates]\u001B[0m {'HumanInTheLoopMiddleware.after_model': None}\n"
     ]
    }
   ],
   "execution_count": 44
  },
  {
   "metadata": {},
   "cell_type": "markdown",
   "source": "### Model agnostic API gateway",
   "id": "cb99f86d47106b3a"
  },
  {
   "metadata": {
    "ExecuteTime": {
     "end_time": "2025-10-24T19:34:43.867693Z",
     "start_time": "2025-10-24T19:34:43.857125Z"
    }
   },
   "cell_type": "code",
   "source": [
    "# Umieść poniższy kod w pliku app.py\n",
    "\n",
    "from fastapi import FastAPI, Header\n",
    "from pydantic import BaseModel\n",
    "from langchain_core.runnables import RunnableLambda\n",
    "from langchain_core.messages import AIMessage\n",
    "from langchain_core.output_parsers import StrOutputParser\n",
    "from langchain_core.prompts import ChatPromptTemplate\n",
    "\n",
    "from langchain_openai import ChatOpenAI\n",
    "\n",
    "class ChatRequest(BaseModel):\n",
    "    message: str\n",
    "\n",
    "class ChatResponse(BaseModel):\n",
    "    provider: str\n",
    "    model: str\n",
    "    answer: str\n",
    "\n",
    "prompt = ChatPromptTemplate.from_messages([\n",
    "    (\"system\", \"Jesteś pomocnym asystentem.\"),\n",
    "    (\"human\", \"{message}\")\n",
    "])\n",
    "\n",
    "def build_model(x_model: str):\n",
    "    \"\"\"\n",
    "    x_model format:\n",
    "      - 'openai:gpt-4o-mini'\n",
    "    \"\"\"\n",
    "    if \":\" in x_model:\n",
    "        provider, model_name = x_model.split(\":\", 1)\n",
    "    else:\n",
    "        provider, model_name = \"openai\", x_model\n",
    "\n",
    "    provider = provider.lower().strip()\n",
    "\n",
    "    if provider == \"openai\":\n",
    "        return provider, model_name, ChatOpenAI(model=model_name, temperature=0)\n",
    "\n",
    "    # if provider == \"anthropic\": # wsparcie dla kolejnego providera LLM API\n",
    "    #     return provider, model_name, ChatAnthropic(model=model_name, temperature=0)\n",
    "\n",
    "    def _unknown(inputs: dict):\n",
    "        return AIMessage(content=f\"(unknown provider) Echo: {inputs.get('message','')}\")\n",
    "    return \"unknown\", x_model, RunnableLambda(_unknown)\n",
    "\n",
    "\n",
    "app = FastAPI(title=\"Model-Agnostic LangChain Gateway\")\n",
    "\n",
    "\n",
    "@app.post(\"/chat\", response_model=ChatResponse)\n",
    "def chat_endpoint(\n",
    "    req: ChatRequest,\n",
    "    x_model: str = Header(default=\"openai:gpt-4o-mini\", alias=\"X-Model\"),\n",
    "):\n",
    "    provider, model_name, model = build_model(x_model)\n",
    "    chain = prompt | model | StrOutputParser()\n",
    "    answer: str = chain.invoke({\"message\": req.message})\n",
    "    return ChatResponse(provider=provider, model=model_name, answer=answer)"
   ],
   "id": "1016f601570ae2d1",
   "outputs": [],
   "execution_count": 42
  },
  {
   "metadata": {},
   "cell_type": "markdown",
   "source": [
    "1. Umieść powyższy kod w pliku `app.py`\n",
    "2. Uruchom serwer:\n",
    "`uvicorn app:app --reload`\n",
    "\n",
    "3. Wyślij request\n",
    "```\n",
    "curl -X POST 'http://127.0.0.1:8000/chat' \\\n",
    "  -H 'Content-Type: application/json' \\\n",
    "  -H 'X-Model: openai:gpt-5-mini' \\\n",
    "  -d '{\"message\":\"Podaj 3 zalety Pythona.\"}'\n",
    "```\n",
    "\n",
    "```\n",
    "curl -X POST 'http://127.0.0.1:8000/chat' \\\n",
    "  -H 'Content-Type: application/json' \\\n",
    "  -H 'X-Model: openai:gpt-4o-mini' \\\n",
    "  -d '{\"message\":\"Podaj 3 zalety Pythona.\"}'\n",
    "```"
   ],
   "id": "dc511fc707db6653"
  }
 ],
 "metadata": {
  "kernelspec": {
   "name": "python3",
   "language": "python",
   "display_name": "Python 3 (ipykernel)"
  }
 },
 "nbformat": 4,
 "nbformat_minor": 5
}
