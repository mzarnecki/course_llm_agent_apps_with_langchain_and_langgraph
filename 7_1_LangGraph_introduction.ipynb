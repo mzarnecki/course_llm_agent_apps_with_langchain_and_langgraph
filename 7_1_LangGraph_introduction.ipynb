{
 "cells": [
  {
   "metadata": {},
   "cell_type": "markdown",
   "source": "### LangGraph",
   "id": "c7d43fdebce5c2cd"
  },
  {
   "metadata": {},
   "cell_type": "markdown",
   "source": [
    "### LangGraph (mini-graf stanów)\n",
    "minimalny graf: plan → odpowiedź"
   ],
   "id": "c4c5bf3cbf75fea8"
  },
  {
   "cell_type": "code",
   "execution_count": null,
   "id": "initial_id",
   "metadata": {
    "collapsed": true
   },
   "outputs": [],
   "source": [
    "# Minimalny przykład z LangGraph: dwa węzły (plan, odpowiedź)\n",
    "!pip -q install langgraph\n",
    "\n",
    "from typing import TypedDict\n",
    "from langgraph.graph import StateGraph, END\n",
    "\n",
    "class State(TypedDict):\n",
    "    question: str\n",
    "    plan: str\n",
    "    answer: str\n",
    "\n",
    "def plan_node(state: State):\n",
    "    q = state[\"question\"]\n",
    "    return {\"plan\": f\"1) Zrozumieć pytanie: {q}\\n2) Odpowiedzieć krótko.\"}\n",
    "\n",
    "def answer_node(state: State):\n",
    "    p = state[\"plan\"]\n",
    "    msg = f\"Wykonuję plan:\\n{p}\\n\\nOdpowiedź: To prosty przykład grafu stanów w LangGraph.\"\n",
    "    return {\"answer\": msg}\n",
    "\n",
    "g = StateGraph(State)\n",
    "g.add_node(\"plan\", plan_node)\n",
    "g.add_node(\"answer\", answer_node)\n",
    "g.set_entry_point(\"plan\")\n",
    "g.add_edge(\"plan\", \"answer\")\n",
    "g.add_edge(\"answer\", END)\n",
    "app = g.compile()\n",
    "\n",
    "out = app.invoke({\"question\": \"Co to jest LangGraph?\"})\n",
    "print(out[\"answer\"])\n"
   ]
  }
 ],
 "metadata": {
  "kernelspec": {
   "display_name": "Python 3",
   "language": "python",
   "name": "python3"
  },
  "language_info": {
   "codemirror_mode": {
    "name": "ipython",
    "version": 2
   },
   "file_extension": ".py",
   "mimetype": "text/x-python",
   "name": "python",
   "nbconvert_exporter": "python",
   "pygments_lexer": "ipython2",
   "version": "2.7.6"
  }
 },
 "nbformat": 4,
 "nbformat_minor": 5
}
