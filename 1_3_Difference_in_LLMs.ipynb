{
 "cells": [
  {
   "metadata": {},
   "cell_type": "markdown",
   "source": "## Różnice w LLM",
   "id": "3ca8be1630f4fac4"
  },
  {
   "cell_type": "code",
   "id": "initial_id",
   "metadata": {
    "collapsed": true
   },
   "source": [
    "import base64\n",
    "from openai import OpenAI\n",
    "from dotenv import load_dotenv\n",
    "import pandas as pd\n",
    "import json\n",
    "import time\n",
    "\n",
    "load_dotenv()\n",
    "\n",
    "client = OpenAI()\n",
    "\n",
    "with open(\"data/document.pdf\", \"rb\") as f:\n",
    "    data = f.read()\n",
    "\n",
    "base64_string = base64.b64encode(data).decode(\"utf-8\")\n",
    "\n",
    "messages = [\n",
    "    {\n",
    "      \"role\": \"system\",\n",
    "       \"content\": \"\"\"You are an intelligent assistant analyzing company shareholder information. You will be provided with a PDF containing shareholder data for the company. Respond with only JSON code without any additional text or formatting. Avoid also adding markdown format.\n",
    "Example output:\n",
    "shareholders\": [\n",
    "   {\n",
    "       \"shareholder_name\": \"Example company\",\n",
    "       \"trade_register_info\": \"No 12345 Metropolis\",\n",
    "       \"address\": \"Some street 10\",\n",
    "       \"birthdate\": \"null\",\n",
    "       \"share_amount\": 11250,\n",
    "       \"share_percentage\": 45.0\n",
    "   },\n",
    "   {\n",
    "       \"shareholder_name\": \"John Doe\",\n",
    "       \"trade_register_info\": null,\n",
    "       \"address\": \"Other street 11\",\n",
    "       \"birthdate\": \"1965-04-12\",\n",
    "       \"share_amount\": 11250,\n",
    "       \"share_percentage\": 45.0\n",
    "   }\n",
    "]\"\"\"\n",
    "    },\n",
    "    {\n",
    "        \"role\": \"user\",\n",
    "        \"content\": [\n",
    "            {\n",
    "                \"type\": \"file\",\n",
    "                \"file\": {\n",
    "                    \"filename\": \"document.pdf\",\n",
    "                    \"file_data\": f\"data:application/pdf;base64,{base64_string}\",\n",
    "                }\n",
    "            },\n",
    "            {\n",
    "                \"type\": \"text\",\n",
    "                \"text\": \"What are shareholders of this company?\",\n",
    "            }\n",
    "        ],\n",
    "    },\n",
    "]\n"
   ],
   "outputs": [],
   "execution_count": null
  },
  {
   "metadata": {
    "ExecuteTime": {
     "end_time": "2025-10-21T18:48:57.878845Z",
     "start_time": "2025-10-21T18:48:49.416010Z"
    }
   },
   "cell_type": "code",
   "source": [
    "start = time.time()\n",
    "completion4o = client.chat.completions.create(\n",
    "    model=\"gpt-4o-mini\",\n",
    "    messages=messages\n",
    ")\n",
    "time4o = time.time() - start\n",
    "\n",
    "print(completion4o.usage)"
   ],
   "id": "568c595cf908462d",
   "outputs": [
    {
     "name": "stdout",
     "output_type": "stream",
     "text": [
      "CompletionUsage(completion_tokens=260, prompt_tokens=494, total_tokens=754, completion_tokens_details=CompletionTokensDetails(accepted_prediction_tokens=0, audio_tokens=0, reasoning_tokens=0, rejected_prediction_tokens=0), prompt_tokens_details=PromptTokensDetails(audio_tokens=0, cached_tokens=0))\n"
     ]
    }
   ],
   "execution_count": 53
  },
  {
   "metadata": {
    "ExecuteTime": {
     "end_time": "2025-10-21T18:49:31.742497Z",
     "start_time": "2025-10-21T18:49:12.015709Z"
    }
   },
   "cell_type": "code",
   "source": [
    "start = time.time()\n",
    "completion5mini = client.chat.completions.create(\n",
    "    model=\"gpt-5-mini\",\n",
    "    messages=messages\n",
    ")\n",
    "time5mini = time.time() - start\n",
    "\n",
    "print(completion5mini.usage)"
   ],
   "id": "a3815ce5222363d5",
   "outputs": [
    {
     "name": "stdout",
     "output_type": "stream",
     "text": [
      "CompletionUsage(completion_tokens=1106, prompt_tokens=1196, total_tokens=2302, completion_tokens_details=CompletionTokensDetails(accepted_prediction_tokens=0, audio_tokens=0, reasoning_tokens=960, rejected_prediction_tokens=0), prompt_tokens_details=PromptTokensDetails(audio_tokens=0, cached_tokens=0))\n"
     ]
    }
   ],
   "execution_count": 54
  },
  {
   "metadata": {
    "ExecuteTime": {
     "end_time": "2025-10-21T18:50:00.142594Z",
     "start_time": "2025-10-21T18:50:00.126015Z"
    }
   },
   "cell_type": "code",
   "source": [
    "usage4omini = completion5mini.usage\n",
    "usage5mini = completion4o.usage\n",
    "\n",
    "df_compare_models = pd.DataFrame([\n",
    "    {'time': time4o, 'completion_tokens': usage4omini.completion_tokens, 'prompt_tokens': usage4omini.prompt_tokens, 'total_tokens': usage4omini.total_tokens, 'reasoning_tokens': usage4omini.completion_tokens_details.reasoning_tokens},\n",
    "    {'time': time5mini, 'completion_tokens': usage5mini.completion_tokens, 'prompt_tokens': usage5mini.prompt_tokens, 'total_tokens': usage5mini.total_tokens, 'reasoning_tokens': usage5mini.completion_tokens_details.reasoning_tokens}\n",
    "],\n",
    "index=['gp-4o-mini', 'gpt-5-mini'])\n",
    "df_compare_models"
   ],
   "id": "1071327de8ebed81",
   "outputs": [
    {
     "data": {
      "text/plain": [
       "                 time  completion_tokens  prompt_tokens  total_tokens  \\\n",
       "gp-4o-mini   8.456891               1106           1196          2302   \n",
       "gpt-5-mini  19.721830                260            494           754   \n",
       "\n",
       "            reasoning_tokens  \n",
       "gp-4o-mini               960  \n",
       "gpt-5-mini                 0  "
      ],
      "text/html": [
       "<div>\n",
       "<style scoped>\n",
       "    .dataframe tbody tr th:only-of-type {\n",
       "        vertical-align: middle;\n",
       "    }\n",
       "\n",
       "    .dataframe tbody tr th {\n",
       "        vertical-align: top;\n",
       "    }\n",
       "\n",
       "    .dataframe thead th {\n",
       "        text-align: right;\n",
       "    }\n",
       "</style>\n",
       "<table border=\"1\" class=\"dataframe\">\n",
       "  <thead>\n",
       "    <tr style=\"text-align: right;\">\n",
       "      <th></th>\n",
       "      <th>time</th>\n",
       "      <th>completion_tokens</th>\n",
       "      <th>prompt_tokens</th>\n",
       "      <th>total_tokens</th>\n",
       "      <th>reasoning_tokens</th>\n",
       "    </tr>\n",
       "  </thead>\n",
       "  <tbody>\n",
       "    <tr>\n",
       "      <th>gp-4o-mini</th>\n",
       "      <td>8.456891</td>\n",
       "      <td>1106</td>\n",
       "      <td>1196</td>\n",
       "      <td>2302</td>\n",
       "      <td>960</td>\n",
       "    </tr>\n",
       "    <tr>\n",
       "      <th>gpt-5-mini</th>\n",
       "      <td>19.721830</td>\n",
       "      <td>260</td>\n",
       "      <td>494</td>\n",
       "      <td>754</td>\n",
       "      <td>0</td>\n",
       "    </tr>\n",
       "  </tbody>\n",
       "</table>\n",
       "</div>"
      ]
     },
     "execution_count": 55,
     "metadata": {},
     "output_type": "execute_result"
    }
   ],
   "execution_count": 55
  },
  {
   "metadata": {
    "ExecuteTime": {
     "end_time": "2025-10-21T18:50:54.445172Z",
     "start_time": "2025-10-21T18:50:54.063066Z"
    }
   },
   "cell_type": "code",
   "source": "df_compare_models[['completion_tokens', 'prompt_tokens', 'total_tokens', 'reasoning_tokens']].plot.bar(rot=0)",
   "id": "db425cee1fd66c46",
   "outputs": [
    {
     "data": {
      "text/plain": [
       "<Axes: >"
      ]
     },
     "execution_count": 56,
     "metadata": {},
     "output_type": "execute_result"
    },
    {
     "data": {
      "text/plain": [
       "<Figure size 640x480 with 1 Axes>"
      ],
      "image/png": "[encoded data removed]"
     },
     "metadata": {},
     "output_type": "display_data",
     "jetTransient": {
      "display_id": null
     }
    }
   ],
   "execution_count": 56
  },
  {
   "metadata": {
    "ExecuteTime": {
     "end_time": "2025-10-21T18:51:17.345402Z",
     "start_time": "2025-10-21T18:51:17.215004Z"
    }
   },
   "cell_type": "code",
   "source": "df_compare_models[['time']].plot.bar(rot=0)",
   "id": "715b7b32cd4f9e12",
   "outputs": [
    {
     "data": {
      "text/plain": [
       "<Axes: >"
      ]
     },
     "execution_count": 57,
     "metadata": {},
     "output_type": "execute_result"
    },
    {
     "data": {
      "text/plain": [
       "<Figure size 640x480 with 1 Axes>"
      ],
      "image/png": "[encoded data removed]"
     },
     "metadata": {},
     "output_type": "display_data",
     "jetTransient": {
      "display_id": null
     }
    }
   ],
   "execution_count": 57
  },
  {
   "metadata": {
    "ExecuteTime": {
     "end_time": "2025-10-21T18:51:24.751305Z",
     "start_time": "2025-10-21T18:51:24.735148Z"
    }
   },
   "cell_type": "code",
   "source": [
    "data = json.loads(completion4o.choices[0].message.content)['shareholders']\n",
    "df4omini = pd.DataFrame(data)\n",
    "df4omini"
   ],
   "id": "cd03ab0396ae7b30",
   "outputs": [
    {
     "data": {
      "text/plain": [
       "         shareholder_name trade_register_info address   birthdate  \\\n",
       "0  Rom-Bud Pol-Sp. z o.o.                None    None        null   \n",
       "1            Jan Kowalski                None    None  30.09.1955   \n",
       "2            Jan Kowalski                None    None  20.02.2000   \n",
       "3     Zdzisław Malinowski                None    None  28.07.1976   \n",
       "\n",
       "   share_amount  share_percentage  \n",
       "0         25000              50.0  \n",
       "1         25000              25.0  \n",
       "2         25000              25.0  \n",
       "3             0               0.0  "
      ],
      "text/html": [
       "<div>\n",
       "<style scoped>\n",
       "    .dataframe tbody tr th:only-of-type {\n",
       "        vertical-align: middle;\n",
       "    }\n",
       "\n",
       "    .dataframe tbody tr th {\n",
       "        vertical-align: top;\n",
       "    }\n",
       "\n",
       "    .dataframe thead th {\n",
       "        text-align: right;\n",
       "    }\n",
       "</style>\n",
       "<table border=\"1\" class=\"dataframe\">\n",
       "  <thead>\n",
       "    <tr style=\"text-align: right;\">\n",
       "      <th></th>\n",
       "      <th>shareholder_name</th>\n",
       "      <th>trade_register_info</th>\n",
       "      <th>address</th>\n",
       "      <th>birthdate</th>\n",
       "      <th>share_amount</th>\n",
       "      <th>share_percentage</th>\n",
       "    </tr>\n",
       "  </thead>\n",
       "  <tbody>\n",
       "    <tr>\n",
       "      <th>0</th>\n",
       "      <td>Rom-Bud Pol-Sp. z o.o.</td>\n",
       "      <td>None</td>\n",
       "      <td>None</td>\n",
       "      <td>null</td>\n",
       "      <td>25000</td>\n",
       "      <td>50.0</td>\n",
       "    </tr>\n",
       "    <tr>\n",
       "      <th>1</th>\n",
       "      <td>Jan Kowalski</td>\n",
       "      <td>None</td>\n",
       "      <td>None</td>\n",
       "      <td>30.09.1955</td>\n",
       "      <td>25000</td>\n",
       "      <td>25.0</td>\n",
       "    </tr>\n",
       "    <tr>\n",
       "      <th>2</th>\n",
       "      <td>Jan Kowalski</td>\n",
       "      <td>None</td>\n",
       "      <td>None</td>\n",
       "      <td>20.02.2000</td>\n",
       "      <td>25000</td>\n",
       "      <td>25.0</td>\n",
       "    </tr>\n",
       "    <tr>\n",
       "      <th>3</th>\n",
       "      <td>Zdzisław Malinowski</td>\n",
       "      <td>None</td>\n",
       "      <td>None</td>\n",
       "      <td>28.07.1976</td>\n",
       "      <td>0</td>\n",
       "      <td>0.0</td>\n",
       "    </tr>\n",
       "  </tbody>\n",
       "</table>\n",
       "</div>"
      ]
     },
     "execution_count": 58,
     "metadata": {},
     "output_type": "execute_result"
    }
   ],
   "execution_count": 58
  },
  {
   "metadata": {
    "ExecuteTime": {
     "end_time": "2025-10-21T18:52:03.146931Z",
     "start_time": "2025-10-21T18:52:03.135706Z"
    }
   },
   "cell_type": "code",
   "source": [
    "data = json.loads(completion5mini.choices[0].message.content)['shareholders']\n",
    "df5mini = pd.DataFrame(data)\n",
    "df5mini"
   ],
   "id": "d6cb532607cf04f5",
   "outputs": [
    {
     "data": {
      "text/plain": [
       "      shareholder_name trade_register_info address   birthdate  share_amount  \\\n",
       "0         Jan Kowalski                None    None  1955-09-30         20000   \n",
       "1  Zdzisław Malinowski                None    None  1976-07-28          5000   \n",
       "\n",
       "   share_percentage  \n",
       "0              80.0  \n",
       "1              20.0  "
      ],
      "text/html": [
       "<div>\n",
       "<style scoped>\n",
       "    .dataframe tbody tr th:only-of-type {\n",
       "        vertical-align: middle;\n",
       "    }\n",
       "\n",
       "    .dataframe tbody tr th {\n",
       "        vertical-align: top;\n",
       "    }\n",
       "\n",
       "    .dataframe thead th {\n",
       "        text-align: right;\n",
       "    }\n",
       "</style>\n",
       "<table border=\"1\" class=\"dataframe\">\n",
       "  <thead>\n",
       "    <tr style=\"text-align: right;\">\n",
       "      <th></th>\n",
       "      <th>shareholder_name</th>\n",
       "      <th>trade_register_info</th>\n",
       "      <th>address</th>\n",
       "      <th>birthdate</th>\n",
       "      <th>share_amount</th>\n",
       "      <th>share_percentage</th>\n",
       "    </tr>\n",
       "  </thead>\n",
       "  <tbody>\n",
       "    <tr>\n",
       "      <th>0</th>\n",
       "      <td>Jan Kowalski</td>\n",
       "      <td>None</td>\n",
       "      <td>None</td>\n",
       "      <td>1955-09-30</td>\n",
       "      <td>20000</td>\n",
       "      <td>80.0</td>\n",
       "    </tr>\n",
       "    <tr>\n",
       "      <th>1</th>\n",
       "      <td>Zdzisław Malinowski</td>\n",
       "      <td>None</td>\n",
       "      <td>None</td>\n",
       "      <td>1976-07-28</td>\n",
       "      <td>5000</td>\n",
       "      <td>20.0</td>\n",
       "    </tr>\n",
       "  </tbody>\n",
       "</table>\n",
       "</div>"
      ]
     },
     "execution_count": 59,
     "metadata": {},
     "output_type": "execute_result"
    }
   ],
   "execution_count": 59
  },
  {
   "metadata": {},
   "cell_type": "code",
   "source": "",
   "id": "1b55a0e0667098e3",
   "outputs": [],
   "execution_count": null
  }
 ],
 "metadata": {
  "kernelspec": {
   "display_name": "Python 3",
   "language": "python",
   "name": "python3"
  },
  "language_info": {
   "codemirror_mode": {
    "name": "ipython",
    "version": 2
   },
   "file_extension": ".py",
   "mimetype": "text/x-python",
   "name": "python",
   "nbconvert_exporter": "python",
   "pygments_lexer": "ipython2",
   "version": "2.7.6"
  }
 },
 "nbformat": 4,
 "nbformat_minor": 5
}
