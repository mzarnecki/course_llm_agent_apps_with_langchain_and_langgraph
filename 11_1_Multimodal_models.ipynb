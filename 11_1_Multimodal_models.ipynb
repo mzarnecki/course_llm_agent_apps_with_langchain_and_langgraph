{
 "cells": [
  {
   "metadata": {},
   "cell_type": "markdown",
   "source": "## Modele multimodalne",
   "id": "eb091681bef16ee5"
  },
  {
   "cell_type": "code",
   "execution_count": null,
   "id": "initial_id",
   "metadata": {
    "collapsed": true
   },
   "outputs": [],
   "source": "!pip install -q langchain langchain-openai python-dotenv\n"
  },
  {
   "metadata": {},
   "cell_type": "code",
   "outputs": [],
   "execution_count": null,
   "source": [
    "import os\n",
    "import base64\n",
    "from dotenv import load_dotenv\n",
    "from langchain_openai import ChatOpenAI\n",
    "\n",
    "load_dotenv()\n",
    "llm = ChatOpenAI(model=\"gpt-4o-mini\", temperature=0)\n"
   ],
   "id": "3d6118964a2a0f15"
  },
  {
   "metadata": {},
   "cell_type": "code",
   "outputs": [],
   "execution_count": null,
   "source": [
    "def encode_image(path):\n",
    "    with open(path, \"rb\") as f:\n",
    "        return base64.b64encode(f.read()).decode(\"utf-8\")\n"
   ],
   "id": "8010e36b5d0ce58"
  },
  {
   "metadata": {},
   "cell_type": "markdown",
   "source": "### Sterowanie pojazdem na podstawie obrazu",
   "id": "27d449604daa72cc"
  },
  {
   "metadata": {},
   "cell_type": "code",
   "outputs": [],
   "execution_count": null,
   "source": [
    "image_b64 = encode_image(\"data/lane_navigation/img.png\")\n",
    "\n",
    "messages = [\n",
    "    {\n",
    "        \"role\": \"user\",\n",
    "        \"content\": [\n",
    "            {\"type\": \"text\", \"text\": \"This is image from front camera of autonomous vehicle prototype. \"\n",
    "                                     \"Tell me if next step of a car should be moving forward, turn left or turn right? \"\n",
    "                                     \"Return only single word: forward, left, or right\"},\n",
    "            {\"type\": \"image_url\", \"image_url\": {\"url\": f\"data:image/jpeg;base64,{image_b64}\"}},\n",
    "        ],\n",
    "    }\n",
    "]\n",
    "\n",
    "response = llm.client.chat.completions.create(model=\"gpt-4o-mini\", messages=messages)\n",
    "print(\"Model decision:\", response.choices[0].message.content.strip())\n"
   ],
   "id": "253a06629cdb892a"
  },
  {
   "metadata": {},
   "cell_type": "markdown",
   "source": "### Zliczanie samochodów na zdjęciu satelitarnym",
   "id": "6ea037f780dc7518"
  },
  {
   "metadata": {},
   "cell_type": "code",
   "outputs": [],
   "execution_count": null,
   "source": [
    "image_b64 = encode_image(\"data/satellite/cars.png\")\n",
    "\n",
    "messages = [\n",
    "    {\n",
    "        \"role\": \"user\",\n",
    "        \"content\": [\n",
    "            {\"type\": \"text\", \"text\": \"Count cars visible on this satellite image. Return only the number.\"},\n",
    "            {\"type\": \"image_url\", \"image_url\": {\"url\": f\"data:image/jpeg;base64,{image_b64}\"}},\n",
    "        ],\n",
    "    }\n",
    "]\n",
    "\n",
    "response = llm.client.chat.completions.create(model=\"gpt-4o-mini\", messages=messages)\n",
    "print(\"Number of cars:\", response.choices[0].message.content.strip())\n"
   ],
   "id": "8bd8d28fc5833696"
  },
  {
   "metadata": {},
   "cell_type": "markdown",
   "source": "### Rozpoznawanie pojazdu uprzywilejowanego na podstawie dźwięku",
   "id": "2635c0a74270913c"
  },
  {
   "metadata": {},
   "cell_type": "code",
   "outputs": [],
   "execution_count": null,
   "source": [
    "audio_path = \"data/audio/siren.wav\"\n",
    "\n",
    "messages = [\n",
    "    {\n",
    "        \"role\": \"user\",\n",
    "        \"content\": [\n",
    "            {\"type\": \"text\", \"text\": \"Listen to this siren sound and classify the emergency vehicle type. \"\n",
    "                                     \"Possible answers: ambulance, fire truck, police car. Return only one word.\"},\n",
    "            {\"type\": \"input_audio\", \"input_audio\": {\n",
    "                \"data\": open(audio_path, \"rb\").read(),\n",
    "                \"format\": \"wav\"\n",
    "            }},\n",
    "        ],\n",
    "    }\n",
    "]\n",
    "\n",
    "response = llm.client.chat.completions.create(model=\"gpt-4o-mini-audio-preview\", messages=messages)\n",
    "print(\"Detected vehicle:\", response.choices[0].message.content.strip())\n"
   ],
   "id": "3228443aefbc1fa9"
  }
 ],
 "metadata": {
  "kernelspec": {
   "display_name": "Python 3",
   "language": "python",
   "name": "python3"
  },
  "language_info": {
   "codemirror_mode": {
    "name": "ipython",
    "version": 2
   },
   "file_extension": ".py",
   "mimetype": "text/x-python",
   "name": "python",
   "nbconvert_exporter": "python",
   "pygments_lexer": "ipython2",
   "version": "2.7.6"
  }
 },
 "nbformat": 4,
 "nbformat_minor": 5
}
