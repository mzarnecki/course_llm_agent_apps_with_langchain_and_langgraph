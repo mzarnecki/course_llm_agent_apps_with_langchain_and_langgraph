{
 "cells": [
  {
   "metadata": {
    "collapsed": true
   },
   "cell_type": "markdown",
   "source": "## Criteria evaluator",
   "id": "8843f9eae98bb3a4"
  },
  {
   "metadata": {},
   "cell_type": "markdown",
   "source": "### Criteria evaluator",
   "id": "b5e3aab86af64afa"
  },
  {
   "metadata": {},
   "cell_type": "code",
   "outputs": [],
   "execution_count": null,
   "source": [
    "from langchain.evaluation import load_evaluator\n",
    "\n",
    "# Wczytujemy evaluator kryterialny\n",
    "evaluator = load_evaluator(\"criteria\", criteria=\"correctness\")\n",
    "\n",
    "# Porównujemy odpowiedź z pytaniem\n",
    "result = evaluator.evaluate_strings(\n",
    "    prediction=\"2 + 2 = 5\",\n",
    "    input=\"Policz 2 + 2\",\n",
    "    reference=\"4\"\n",
    ")\n",
    "\n",
    "print(result)  # {'score': 1, 'reasoning': 'Odpowiedź jest błędna'}\n"
   ],
   "id": "4cfeb05a83149965"
  }
 ],
 "metadata": {
  "kernelspec": {
   "display_name": "Python 3",
   "language": "python",
   "name": "python3"
  },
  "language_info": {
   "codemirror_mode": {
    "name": "ipython",
    "version": 2
   },
   "file_extension": ".py",
   "mimetype": "text/x-python",
   "name": "python",
   "nbconvert_exporter": "python",
   "pygments_lexer": "ipython2",
   "version": "2.7.6"
  }
 },
 "nbformat": 4,
 "nbformat_minor": 5
}
