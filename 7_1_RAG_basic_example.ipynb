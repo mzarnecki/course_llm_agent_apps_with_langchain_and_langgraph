{
 "cells": [
  {
   "metadata": {},
   "cell_type": "markdown",
   "source": "### Retrieval Augmented Generation (RAG)",
   "id": "18aff68d57dfa9f"
  },
  {
   "metadata": {},
   "cell_type": "markdown",
   "source": "### budowa VectorStore (FAISS) i Retrievera",
   "id": "eb8d5442171267e3"
  },
  {
   "cell_type": "code",
   "id": "initial_id",
   "metadata": {
    "collapsed": true,
    "ExecuteTime": {
     "end_time": "2025-09-16T07:15:20.205021Z",
     "start_time": "2025-09-16T07:15:19.616340Z"
    }
   },
   "source": [
    "from langchain_community.vectorstores import FAISS\n",
    "from langchain_openai import OpenAIEmbeddings\n",
    "\n",
    "emb = OpenAIEmbeddings()  # wymaga OPENAI_API_KEY\n",
    "vectorstore = FAISS.from_texts(splitted, embedding=emb)\n",
    "retriever = vectorstore.as_retriever(search_kwargs={\"k\": 2})\n",
    "\n",
    "query = \"Po co używa się retrievera?\"\n",
    "context = retriever.get_relevant_documents(query)\n",
    "print(\"Znaleziony kontekst:\")\n",
    "for i, c in enumerate(context, 1):\n",
    "    print(f\"{i}.\", c.page_content)"
   ],
   "outputs": [
    {
     "ename": "NameError",
     "evalue": "name 'OpenAIEmbeddings' is not defined",
     "output_type": "error",
     "traceback": [
      "\u001B[31m---------------------------------------------------------------------------\u001B[39m",
      "\u001B[31mNameError\u001B[39m                                 Traceback (most recent call last)",
      "\u001B[36mCell\u001B[39m\u001B[36m \u001B[39m\u001B[32mIn[1]\u001B[39m\u001B[32m, line 3\u001B[39m\n\u001B[32m      1\u001B[39m \u001B[38;5;28;01mfrom\u001B[39;00m\u001B[38;5;250m \u001B[39m\u001B[34;01mlangchain_community\u001B[39;00m\u001B[34;01m.\u001B[39;00m\u001B[34;01mvectorstores\u001B[39;00m\u001B[38;5;250m \u001B[39m\u001B[38;5;28;01mimport\u001B[39;00m FAISS\n\u001B[32m----> \u001B[39m\u001B[32m3\u001B[39m emb = \u001B[43mOpenAIEmbeddings\u001B[49m()  \u001B[38;5;66;03m# wymaga OPENAI_API_KEY\u001B[39;00m\n\u001B[32m      4\u001B[39m vectorstore = FAISS.from_texts(splitted, embedding=emb)\n\u001B[32m      5\u001B[39m retriever = vectorstore.as_retriever(search_kwargs={\u001B[33m\"\u001B[39m\u001B[33mk\u001B[39m\u001B[33m\"\u001B[39m: \u001B[32m2\u001B[39m})\n",
      "\u001B[31mNameError\u001B[39m: name 'OpenAIEmbeddings' is not defined"
     ]
    }
   ],
   "execution_count": 1
  },
  {
   "metadata": {},
   "cell_type": "markdown",
   "source": "### prosty łańcuch RAG (prompt + kontekst + LLM)",
   "id": "b38b755be95529a1"
  },
  {
   "metadata": {},
   "cell_type": "code",
   "outputs": [],
   "execution_count": null,
   "source": [
    "rag_prompt = ChatPromptTemplate.from_messages([\n",
    "    (\"system\", \"Udziel precyzyjnej odpowiedzi wyłącznie na podstawie KONTEKSTU. Jeśli brak danych — powiedz, że nie wiesz.\"),\n",
    "    (\"system\", \"KONTEKST:\\n{context}\"),\n",
    "    (\"user\", \"{question}\")\n",
    "])\n",
    "\n",
    "def format_docs(docs):\n",
    "    return \"\\n\\n\".join(d.page_content for d in docs)\n",
    "\n",
    "from langchain_core.runnables import RunnablePassthrough\n",
    "rag_chain = (\n",
    "    {\"context\": retriever | format_docs, \"question\": RunnablePassthrough()}\n",
    "    | rag_prompt\n",
    "    | llm\n",
    "    | StrOutputParser()\n",
    ")\n",
    "\n",
    "print(rag_chain.invoke(\"Czym jest FAISS i do czego służy?\"))"
   ],
   "id": "a500f01ecc94fa8d"
  },
  {
   "metadata": {},
   "cell_type": "markdown",
   "source": "### Przykład RAG",
   "id": "99540ca4f91ca9c2"
  },
  {
   "metadata": {},
   "cell_type": "code",
   "outputs": [],
   "execution_count": null,
   "source": [
    "import os\n",
    "from dotenv import load_dotenv\n",
    "load_dotenv()\n",
    "\n",
    "from langchain_openai import ChatOpenAI, OpenAIEmbeddings\n",
    "from langchain_text_splitters import RecursiveCharacterTextSplitter\n",
    "from langchain_community.vectorstores import FAISS\n",
    "from langchain_core.prompts import ChatPromptTemplate\n",
    "from langchain_core.output_parsers import StrOutputParser\n",
    "\n",
    "# Model\n",
    "llm = ChatOpenAI(model=\"gpt-4o-mini\", temperature=0)\n",
    "\n",
    "# Dokumenty źródłowe\n",
    "docs = [\n",
    "    \"LangChain to framework do pracy z LLM.\",\n",
    "    \"RAG łączy retrieval kontekstu z generacją odpowiedzi.\",\n",
    "    \"FAISS to biblioteka do przechowywania i wyszukiwania embeddingów.\"\n",
    "]\n",
    "\n",
    "# Split\n",
    "splitter = RecursiveCharacterTextSplitter(chunk_size=50, chunk_overlap=10)\n",
    "splits = splitter.create_documents(docs)\n",
    "\n",
    "# Embeddings + vector store\n",
    "embeddings = OpenAIEmbeddings()\n",
    "vectorstore = FAISS.from_documents(splits, embedding=embeddings)\n",
    "retriever = vectorstore.as_retriever(search_kwargs={\"k\": 2})\n",
    "\n",
    "# Prompt RAG\n",
    "prompt = ChatPromptTemplate.from_messages([\n",
    "    (\"system\", \"Odpowiadaj tylko na podstawie kontekstu:\\n{context}\"),\n",
    "    (\"user\", \"{question}\")\n",
    "])\n",
    "\n",
    "def format_docs(docs):\n",
    "    return \"\\n\".join(d.page_content for d in docs)\n",
    "\n",
    "# Pipeline\n",
    "rag_chain = (\n",
    "    {\"context\": retriever | format_docs, \"question\": lambda x: x[\"question\"]}\n",
    "    | prompt\n",
    "    | llm\n",
    "    | StrOutputParser()\n",
    ")\n",
    "\n",
    "print(rag_chain.invoke({\"question\": \"Co to jest FAISS?\"}))\n"
   ],
   "id": "5c3a659781bccd03"
  },
  {
   "metadata": {},
   "cell_type": "markdown",
   "source": "### Pipeline RAG",
   "id": "b509fd3576ea2286"
  },
  {
   "metadata": {},
   "cell_type": "code",
   "outputs": [],
   "execution_count": null,
   "source": [
    "from langchain_community.document_loaders import TextLoader\n",
    "\n",
    "# Ładowanie dokumentu\n",
    "with open(\"sample.txt\", \"w\") as f:\n",
    "    f.write(\"LangGraph pozwala budować grafy stanów. Retrieval-Augmented Generation łączy search i generation.\")\n",
    "\n",
    "loader = TextLoader(\"sample.txt\")\n",
    "docs = loader.load()\n",
    "\n",
    "# Split\n",
    "splitter = RecursiveCharacterTextSplitter(chunk_size=80, chunk_overlap=20)\n",
    "splits = splitter.split_documents(docs)\n",
    "\n",
    "# Embeddings + FAISS\n",
    "vectorstore = FAISS.from_documents(splits, embedding=embeddings)\n",
    "retriever = vectorstore.as_retriever()\n",
    "\n",
    "# Prompt\n",
    "prompt = ChatPromptTemplate.from_messages([\n",
    "    (\"system\", \"Odpowiadaj tylko na podstawie kontekstu:\\n{context}\"),\n",
    "    (\"user\", \"{question}\")\n",
    "])\n",
    "\n",
    "rag_chain = (\n",
    "    {\"context\": retriever | format_docs, \"question\": lambda x: x[\"question\"]}\n",
    "    | prompt\n",
    "    | llm\n",
    "    | StrOutputParser()\n",
    ")\n",
    "\n",
    "print(rag_chain.invoke({\"question\": \"Co to jest LangGraph?\"}))\n"
   ],
   "id": "7710ce2b646042f6"
  }
 ],
 "metadata": {
  "kernelspec": {
   "display_name": "Python 3",
   "language": "python",
   "name": "python3"
  },
  "language_info": {
   "codemirror_mode": {
    "name": "ipython",
    "version": 2
   },
   "file_extension": ".py",
   "mimetype": "text/x-python",
   "name": "python",
   "nbconvert_exporter": "python",
   "pygments_lexer": "ipython2",
   "version": "2.7.6"
  }
 },
 "nbformat": 4,
 "nbformat_minor": 5
}
