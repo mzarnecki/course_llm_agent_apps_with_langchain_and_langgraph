{
 "cells": [
  {
   "metadata": {},
   "cell_type": "markdown",
   "source": "## LangGraph + RAG",
   "id": "88913e5c073af353"
  },
  {
   "cell_type": "code",
   "id": "initial_id",
   "metadata": {
    "collapsed": true,
    "ExecuteTime": {
     "end_time": "2025-10-19T18:50:16.925867Z",
     "start_time": "2025-10-19T18:50:15.389232Z"
    }
   },
   "source": "!pip install -q langgraph langchain langchain-openai langchain-community faiss-cpu python-dotenv",
   "outputs": [],
   "execution_count": 1
  },
  {
   "metadata": {
    "ExecuteTime": {
     "end_time": "2025-10-19T18:50:20.945343Z",
     "start_time": "2025-10-19T18:50:16.931937Z"
    }
   },
   "cell_type": "code",
   "source": [
    "from dotenv import load_dotenv\n",
    "load_dotenv()\n",
    "\n",
    "from typing import TypedDict\n",
    "\n",
    "from langgraph.graph import StateGraph, END\n",
    "from langchain_openai import ChatOpenAI, OpenAIEmbeddings\n",
    "from langchain_text_splitters import RecursiveCharacterTextSplitter\n",
    "from langchain_community.vectorstores import FAISS\n",
    "from langchain_core.prompts import ChatPromptTemplate\n",
    "\n",
    "llm = ChatOpenAI(model=\"gpt-4o-mini\", temperature=0)\n"
   ],
   "id": "3453b930ed2628c1",
   "outputs": [],
   "execution_count": 2
  },
  {
   "metadata": {},
   "cell_type": "markdown",
   "source": "### Przygotowanie bazy dokumentów",
   "id": "7c6c1d1c5da5a941"
  },
  {
   "metadata": {
    "ExecuteTime": {
     "end_time": "2025-10-19T18:50:23.789826Z",
     "start_time": "2025-10-19T18:50:20.998424Z"
    }
   },
   "cell_type": "code",
   "source": [
    "docs = [\n",
    "    \"LangChain to framework do pracy z dużymi modelami językowymi.\",\n",
    "    \"LangGraph pozwala na budowanie workflowów w postaci grafów stanów.\",\n",
    "    \"Retrieval-Augmented Generation (RAG) łączy wyszukiwanie kontekstu i generowanie odpowiedzi.\",\n",
    "    \"FAISS to biblioteka do wyszukiwania najbliższych wektorów w embeddingach.\"\n",
    "]\n",
    "\n",
    "# Podział na fragmenty\n",
    "splitter = RecursiveCharacterTextSplitter(chunk_size=100, chunk_overlap=10)\n",
    "splits = splitter.create_documents(docs)\n",
    "\n",
    "# Indeks w wektorowej bazie danych\n",
    "embeddings = OpenAIEmbeddings()\n",
    "vectorstore = FAISS.from_documents(splits, embedding=embeddings)\n",
    "retriever = vectorstore.as_retriever(search_kwargs={\"k\": 2})\n"
   ],
   "id": "e0675d2c256d857d",
   "outputs": [],
   "execution_count": 3
  },
  {
   "metadata": {},
   "cell_type": "markdown",
   "source": "### Definicja stanu",
   "id": "60a98edfa034f8a5"
  },
  {
   "metadata": {
    "ExecuteTime": {
     "end_time": "2025-10-19T18:50:23.847295Z",
     "start_time": "2025-10-19T18:50:23.843593Z"
    }
   },
   "cell_type": "code",
   "source": [
    "class State(TypedDict):\n",
    "    question: str\n",
    "    context: str\n",
    "    answer: str\n",
    "    pass_eval: bool"
   ],
   "id": "872057dcb31d5c5e",
   "outputs": [],
   "execution_count": 4
  },
  {
   "metadata": {},
   "cell_type": "markdown",
   "source": "### Węzeł retrieval",
   "id": "8b696d8393c10564"
  },
  {
   "metadata": {
    "ExecuteTime": {
     "end_time": "2025-10-19T18:50:23.903405Z",
     "start_time": "2025-10-19T18:50:23.900283Z"
    }
   },
   "cell_type": "code",
   "source": [
    "def retrieval(state: State) -> State:\n",
    "    docs = retriever.invoke(state[\"question\"])\n",
    "    context = \"\\n\".join([d.page_content for d in docs])\n",
    "    return {\"context\": context}"
   ],
   "id": "bc97b472cf469d06",
   "outputs": [],
   "execution_count": 5
  },
  {
   "metadata": {},
   "cell_type": "markdown",
   "source": "### Węzeł generowania",
   "id": "19b8806ffb7084b7"
  },
  {
   "metadata": {
    "ExecuteTime": {
     "end_time": "2025-10-19T18:50:23.956109Z",
     "start_time": "2025-10-19T18:50:23.952325Z"
    }
   },
   "cell_type": "code",
   "source": [
    "prompt = ChatPromptTemplate.from_messages([\n",
    "    (\"system\", \"Jesteś asystentem, który odnajduje informacje w dokumentach. Odpowiadaj tylko na podstawie KONTEKSTU:\\n{context}\"),\n",
    "    (\"user\", \"{question}\")\n",
    "])\n",
    "\n",
    "def generation(state: State) -> State:\n",
    "    response = (prompt | llm).invoke({\n",
    "        \"context\": state[\"context\"],\n",
    "        \"question\": state[\"question\"]\n",
    "    })\n",
    "    return {\"answer\": response.content}"
   ],
   "id": "2b4430172fb04118",
   "outputs": [],
   "execution_count": 6
  },
  {
   "metadata": {},
   "cell_type": "markdown",
   "source": "### Węzeł ewaluacji",
   "id": "624398728c126f00"
  },
  {
   "metadata": {
    "ExecuteTime": {
     "end_time": "2025-10-19T18:50:24.005255Z",
     "start_time": "2025-10-19T18:50:24.002783Z"
    }
   },
   "cell_type": "code",
   "source": [
    "eval_prompt = ChatPromptTemplate.from_messages([\n",
    "    (\"system\", \"Oceń odpowiedź.\"),\n",
    "    (\"user\", \"Pytanie: {question}\\nOdpowiedź: {answer}\\nCzy odpowiedź zawiera rozwiązanie? Odpowiedz tylko 'yes' lub 'no'.\")\n",
    "])\n",
    "\n",
    "def eval_node(state: State) -> State:\n",
    "    response = (eval_prompt | llm).invoke({\n",
    "        \"question\": state[\"question\"],\n",
    "        \"answer\": state[\"answer\"]\n",
    "    })\n",
    "    result = response.content.strip().lower().startswith(\"yes\")\n",
    "    return {\"pass_eval\": result}\n"
   ],
   "id": "5d55c84667ea6d7d",
   "outputs": [],
   "execution_count": 7
  },
  {
   "metadata": {},
   "cell_type": "markdown",
   "source": "### Węzeł końcowy",
   "id": "85d183ed809b381f"
  },
  {
   "metadata": {
    "ExecuteTime": {
     "end_time": "2025-10-19T18:50:24.054717Z",
     "start_time": "2025-10-19T18:50:24.052635Z"
    }
   },
   "cell_type": "code",
   "source": [
    "def finish(state: State) -> State:\n",
    "    if state[\"pass_eval\"]:\n",
    "        print(f\"✅ Odpowiedź zaakceptowana: {state['answer']}\")\n",
    "    else:\n",
    "        print(\"❌ Odpowiedź nie zawiera rozwiązania.\")\n",
    "    return state"
   ],
   "id": "d0e603cdbba1049",
   "outputs": [],
   "execution_count": 8
  },
  {
   "metadata": {},
   "cell_type": "markdown",
   "source": "### Budowa grafu",
   "id": "e72d6faabe9efce9"
  },
  {
   "metadata": {
    "ExecuteTime": {
     "end_time": "2025-10-19T18:50:24.103986Z",
     "start_time": "2025-10-19T18:50:24.099123Z"
    }
   },
   "cell_type": "code",
   "source": [
    "graph = StateGraph(State)\n",
    "\n",
    "graph.add_node(\"retrieval\", retrieval)\n",
    "graph.add_node(\"generation\", generation)\n",
    "graph.add_node(\"eval\", eval_node)\n",
    "graph.add_node(\"finish\", finish)\n",
    "\n",
    "graph.set_entry_point(\"retrieval\")\n",
    "graph.add_edge(\"retrieval\", \"generation\")\n",
    "graph.add_edge(\"generation\", \"eval\")\n",
    "\n",
    "def check_eval(state: State):\n",
    "    return \"finish\" if state[\"pass_eval\"] else \"generation\"\n",
    "\n",
    "graph.add_conditional_edges(\"eval\", check_eval, [\"finish\", \"generation\"])\n",
    "graph.add_edge(\"finish\", END)\n",
    "\n",
    "app = graph.compile(debug=True)"
   ],
   "id": "b2861a8f9069ba0b",
   "outputs": [],
   "execution_count": 9
  },
  {
   "metadata": {
    "ExecuteTime": {
     "end_time": "2025-10-19T18:50:24.210829Z",
     "start_time": "2025-10-19T18:50:24.151443Z"
    }
   },
   "cell_type": "code",
   "source": [
    "# Wizualizacja grafu\n",
    "from IPython.display import Image, display\n",
    "\n",
    "png_bytes = app.get_graph().draw_png()\n",
    "display(Image(png_bytes))"
   ],
   "id": "7da9e1e91293b94b",
   "outputs": [
    {
     "data": {
      "image/png": "[encoded data removed]",
      "text/plain": [
       "<IPython.core.display.Image object>"
      ]
     },
     "metadata": {},
     "output_type": "display_data",
     "jetTransient": {
      "display_id": null
     }
    }
   ],
   "execution_count": 10
  },
  {
   "metadata": {},
   "cell_type": "markdown",
   "source": "### Uruchomienie grafu",
   "id": "9117fa777fe4e964"
  },
  {
   "metadata": {
    "ExecuteTime": {
     "end_time": "2025-10-19T18:50:26.082022Z",
     "start_time": "2025-10-19T18:50:24.224472Z"
    }
   },
   "cell_type": "code",
   "source": "app.invoke({\"question\": \"Czym jest LangGraph?\"})",
   "id": "73bcfec558cc575a",
   "outputs": [
    {
     "name": "stdout",
     "output_type": "stream",
     "text": [
      "\u001B[1m[values]\u001B[0m {'question': 'Czym jest LangGraph?'}\n",
      "\u001B[1m[updates]\u001B[0m {'retrieval': {'context': 'LangGraph pozwala na budowanie workflowów w postaci grafów stanów.\\nLangChain to framework do pracy z dużymi modelami językowymi.'}}\n",
      "\u001B[1m[values]\u001B[0m {'question': 'Czym jest LangGraph?', 'context': 'LangGraph pozwala na budowanie workflowów w postaci grafów stanów.\\nLangChain to framework do pracy z dużymi modelami językowymi.'}\n",
      "\u001B[1m[updates]\u001B[0m {'generation': {'answer': 'LangGraph pozwala na budowanie workflowów w postaci grafów stanów.'}}\n",
      "\u001B[1m[values]\u001B[0m {'question': 'Czym jest LangGraph?', 'context': 'LangGraph pozwala na budowanie workflowów w postaci grafów stanów.\\nLangChain to framework do pracy z dużymi modelami językowymi.', 'answer': 'LangGraph pozwala na budowanie workflowów w postaci grafów stanów.'}\n",
      "\u001B[1m[updates]\u001B[0m {'eval': {'pass_eval': True}}\n",
      "\u001B[1m[values]\u001B[0m {'question': 'Czym jest LangGraph?', 'context': 'LangGraph pozwala na budowanie workflowów w postaci grafów stanów.\\nLangChain to framework do pracy z dużymi modelami językowymi.', 'answer': 'LangGraph pozwala na budowanie workflowów w postaci grafów stanów.', 'pass_eval': True}\n",
      "✅ Odpowiedź zaakceptowana: LangGraph pozwala na budowanie workflowów w postaci grafów stanów.\n",
      "\u001B[1m[updates]\u001B[0m {'finish': {'question': 'Czym jest LangGraph?', 'context': 'LangGraph pozwala na budowanie workflowów w postaci grafów stanów.\\nLangChain to framework do pracy z dużymi modelami językowymi.', 'answer': 'LangGraph pozwala na budowanie workflowów w postaci grafów stanów.', 'pass_eval': True}}\n",
      "\u001B[1m[values]\u001B[0m {'question': 'Czym jest LangGraph?', 'context': 'LangGraph pozwala na budowanie workflowów w postaci grafów stanów.\\nLangChain to framework do pracy z dużymi modelami językowymi.', 'answer': 'LangGraph pozwala na budowanie workflowów w postaci grafów stanów.', 'pass_eval': True}\n"
     ]
    },
    {
     "data": {
      "text/plain": [
       "{'question': 'Czym jest LangGraph?',\n",
       " 'context': 'LangGraph pozwala na budowanie workflowów w postaci grafów stanów.\\nLangChain to framework do pracy z dużymi modelami językowymi.',\n",
       " 'answer': 'LangGraph pozwala na budowanie workflowów w postaci grafów stanów.',\n",
       " 'pass_eval': True}"
      ]
     },
     "execution_count": 11,
     "metadata": {},
     "output_type": "execute_result"
    }
   ],
   "execution_count": 11
  }
 ],
 "metadata": {
  "kernelspec": {
   "display_name": "Python 3",
   "language": "python",
   "name": "python3"
  },
  "language_info": {
   "codemirror_mode": {
    "name": "ipython",
    "version": 2
   },
   "file_extension": ".py",
   "mimetype": "text/x-python",
   "name": "python",
   "nbconvert_exporter": "python",
   "pygments_lexer": "ipython2",
   "version": "2.7.6"
  }
 },
 "nbformat": 4,
 "nbformat_minor": 5
}
