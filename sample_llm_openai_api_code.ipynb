{
 "cells": [
  {
   "cell_type": "code",
   "id": "initial_id",
   "metadata": {
    "collapsed": true,
    "ExecuteTime": {
     "end_time": "2025-09-20T08:24:17.735867Z",
     "start_time": "2025-09-20T08:24:08.197757Z"
    }
   },
   "source": [
    "from openai import OpenAI\n",
    "from dotenv import load_dotenv\n",
    "\n",
    "load_dotenv()\n",
    "\n",
    "client = OpenAI()\n",
    "\n",
    "response = client.responses.create(\n",
    "    model=\"gpt-4o-mini\",\n",
    "    input=\"You are a politician. Prepare a statement about the projects you will fulfill after being chosen in voting.\"\n",
    ")\n",
    "\n",
    "print(response.output_text)"
   ],
   "outputs": [
    {
     "name": "stdout",
     "output_type": "stream",
     "text": [
      "**Statement from [Your Name], Candidate for [Position]**\n",
      "\n",
      "Dear [Constituents/Community Members],\n",
      "\n",
      "I am honored to stand before you as a candidate for [Position]. As we approach voting day, I want to share my vision and the key projects I will prioritize if entrusted with your vote.\n",
      "\n",
      "1. **Economic Development**: I will advocate for sustainable economic growth by supporting local businesses and creating job opportunities. My plan includes providing incentives for startups and investing in vocational training programs to equip our workforce with the skills needed for the jobs of tomorrow.\n",
      "\n",
      "2. **Education Reform**: Ensuring that every child has access to quality education is paramount. I will work to increase funding for our schools, implement technology in classrooms, and support our educators in their vital roles. Education is the foundation of a strong community.\n",
      "\n",
      "3. **Healthcare Access**: Everyone deserves access to affordable healthcare. I will push for initiatives that expand healthcare coverage and improve mental health services, ensuring that our families can access the care they need without financial burden.\n",
      "\n",
      "4. **Community Safety**: Your safety is my priority. I intend to collaborate with local law enforcement and community organizations to create programs that address crime prevention and foster trust and collaboration between officers and the communities they serve.\n",
      "\n",
      "5. **Environmental Sustainability**: We cannot ignore the pressing issues of climate change. I will champion green initiatives, such as increasing public transportation options, supporting renewable energy projects, and encouraging waste reduction efforts, to create a sustainable future for our community.\n",
      "\n",
      "6. **Infrastructure Improvement**: Our roads, bridges, and public spaces require immediate attention. I will advocate for a comprehensive infrastructure plan that addresses these needs and includes community input in the decision-making process.\n",
      "\n",
      "7. **Inclusive Community Engagement**: I believe in a government that listens to its people. My administration will hold regular town halls and forums to ensure that every voice is heard, and I will work tirelessly to foster an inclusive environment where our diversity is seen as our strength.\n",
      "\n",
      "I am not just asking for your vote; I am asking for your partnership in building a brighter future for [Community/City/State]. Together, we can achieve remarkable progress. Thank you for your trust, and I look forward to working with each of you.\n",
      "\n",
      "Sincerely,  \n",
      "[Your Name]  \n",
      "[Campaign Name/Details]  \n",
      "[Contact Information]  \n"
     ]
    }
   ],
   "execution_count": 5
  },
  {
   "metadata": {},
   "cell_type": "code",
   "outputs": [],
   "execution_count": null,
   "source": "",
   "id": "6d6896a0855466a9"
  }
 ],
 "metadata": {
  "kernelspec": {
   "display_name": "Python 3",
   "language": "python",
   "name": "python3"
  },
  "language_info": {
   "codemirror_mode": {
    "name": "ipython",
    "version": 2
   },
   "file_extension": ".py",
   "mimetype": "text/x-python",
   "name": "python",
   "nbconvert_exporter": "python",
   "pygments_lexer": "ipython2",
   "version": "2.7.6"
  }
 },
 "nbformat": 4,
 "nbformat_minor": 5
}
