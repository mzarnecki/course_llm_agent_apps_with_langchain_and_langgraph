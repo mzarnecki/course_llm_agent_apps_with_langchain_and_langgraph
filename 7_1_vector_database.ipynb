{
 "cells": [
  {
   "metadata": {},
   "cell_type": "markdown",
   "source": "## Baza wektorowa",
   "id": "cb2797535ee29835"
  },
  {
   "metadata": {},
   "cell_type": "markdown",
   "source": "### Instalacja bibliotek",
   "id": "307604a60eb23d0f"
  },
  {
   "cell_type": "code",
   "id": "initial_id",
   "metadata": {
    "collapsed": true,
    "ExecuteTime": {
     "end_time": "2025-09-22T06:50:09.298729Z",
     "start_time": "2025-09-22T06:50:07.052621Z"
    }
   },
   "source": "!pip install faiss-cpu sentence_transformers",
   "outputs": [
    {
     "name": "stdout",
     "output_type": "stream",
     "text": [
      "Requirement already satisfied: faiss-cpu in /home/michal/anaconda3/lib/python3.13/site-packages (1.12.0)\r\n",
      "Collecting sentence_transformers\r\n",
      "  Downloading sentence_transformers-5.1.0-py3-none-any.whl.metadata (16 kB)\r\n",
      "Requirement already satisfied: numpy<3.0,>=1.25.0 in /home/michal/anaconda3/lib/python3.13/site-packages (from faiss-cpu) (2.2.5)\r\n",
      "Requirement already satisfied: packaging in /home/michal/anaconda3/lib/python3.13/site-packages (from faiss-cpu) (24.2)\r\n",
      "Requirement already satisfied: transformers<5.0.0,>=4.41.0 in /home/michal/anaconda3/lib/python3.13/site-packages (from sentence_transformers) (4.56.1)\r\n",
      "Requirement already satisfied: tqdm in /home/michal/anaconda3/lib/python3.13/site-packages (from sentence_transformers) (4.67.1)\r\n",
      "Requirement already satisfied: torch>=1.11.0 in /home/michal/anaconda3/lib/python3.13/site-packages (from sentence_transformers) (2.8.0)\r\n",
      "Requirement already satisfied: scikit-learn in /home/michal/anaconda3/lib/python3.13/site-packages (from sentence_transformers) (1.6.1)\r\n",
      "Requirement already satisfied: scipy in /home/michal/anaconda3/lib/python3.13/site-packages (from sentence_transformers) (1.16.0)\r\n",
      "Requirement already satisfied: huggingface-hub>=0.20.0 in /home/michal/anaconda3/lib/python3.13/site-packages (from sentence_transformers) (0.34.4)\r\n",
      "Requirement already satisfied: Pillow in /home/michal/anaconda3/lib/python3.13/site-packages (from sentence_transformers) (11.3.0)\r\n",
      "Requirement already satisfied: typing_extensions>=4.5.0 in /home/michal/anaconda3/lib/python3.13/site-packages (from sentence_transformers) (4.15.0)\r\n",
      "Requirement already satisfied: filelock in /home/michal/anaconda3/lib/python3.13/site-packages (from transformers<5.0.0,>=4.41.0->sentence_transformers) (3.17.0)\r\n",
      "Requirement already satisfied: pyyaml>=5.1 in /home/michal/anaconda3/lib/python3.13/site-packages (from transformers<5.0.0,>=4.41.0->sentence_transformers) (6.0.2)\r\n",
      "Requirement already satisfied: regex!=2019.12.17 in /home/michal/anaconda3/lib/python3.13/site-packages (from transformers<5.0.0,>=4.41.0->sentence_transformers) (2024.11.6)\r\n",
      "Requirement already satisfied: requests in /home/michal/anaconda3/lib/python3.13/site-packages (from transformers<5.0.0,>=4.41.0->sentence_transformers) (2.32.5)\r\n",
      "Requirement already satisfied: tokenizers<=0.23.0,>=0.22.0 in /home/michal/anaconda3/lib/python3.13/site-packages (from transformers<5.0.0,>=4.41.0->sentence_transformers) (0.22.0)\r\n",
      "Requirement already satisfied: safetensors>=0.4.3 in /home/michal/anaconda3/lib/python3.13/site-packages (from transformers<5.0.0,>=4.41.0->sentence_transformers) (0.6.2)\r\n",
      "Requirement already satisfied: fsspec>=2023.5.0 in /home/michal/anaconda3/lib/python3.13/site-packages (from huggingface-hub>=0.20.0->sentence_transformers) (2025.7.0)\r\n",
      "Requirement already satisfied: hf-xet<2.0.0,>=1.1.3 in /home/michal/anaconda3/lib/python3.13/site-packages (from huggingface-hub>=0.20.0->sentence_transformers) (1.1.9)\r\n",
      "Requirement already satisfied: setuptools in /home/michal/anaconda3/lib/python3.13/site-packages (from torch>=1.11.0->sentence_transformers) (80.9.0)\r\n",
      "Requirement already satisfied: sympy>=1.13.3 in /home/michal/anaconda3/lib/python3.13/site-packages (from torch>=1.11.0->sentence_transformers) (1.13.3)\r\n",
      "Requirement already satisfied: networkx in /home/michal/anaconda3/lib/python3.13/site-packages (from torch>=1.11.0->sentence_transformers) (3.4.2)\r\n",
      "Requirement already satisfied: jinja2 in /home/michal/anaconda3/lib/python3.13/site-packages (from torch>=1.11.0->sentence_transformers) (3.1.6)\r\n",
      "Requirement already satisfied: nvidia-cuda-nvrtc-cu12==12.8.93 in /home/michal/anaconda3/lib/python3.13/site-packages (from torch>=1.11.0->sentence_transformers) (12.8.93)\r\n",
      "Requirement already satisfied: nvidia-cuda-runtime-cu12==12.8.90 in /home/michal/anaconda3/lib/python3.13/site-packages (from torch>=1.11.0->sentence_transformers) (12.8.90)\r\n",
      "Requirement already satisfied: nvidia-cuda-cupti-cu12==12.8.90 in /home/michal/anaconda3/lib/python3.13/site-packages (from torch>=1.11.0->sentence_transformers) (12.8.90)\r\n",
      "Requirement already satisfied: nvidia-cudnn-cu12==9.10.2.21 in /home/michal/anaconda3/lib/python3.13/site-packages (from torch>=1.11.0->sentence_transformers) (9.10.2.21)\r\n",
      "Requirement already satisfied: nvidia-cublas-cu12==12.8.4.1 in /home/michal/anaconda3/lib/python3.13/site-packages (from torch>=1.11.0->sentence_transformers) (12.8.4.1)\r\n",
      "Requirement already satisfied: nvidia-cufft-cu12==11.3.3.83 in /home/michal/anaconda3/lib/python3.13/site-packages (from torch>=1.11.0->sentence_transformers) (11.3.3.83)\r\n",
      "Requirement already satisfied: nvidia-curand-cu12==10.3.9.90 in /home/michal/anaconda3/lib/python3.13/site-packages (from torch>=1.11.0->sentence_transformers) (10.3.9.90)\r\n",
      "Requirement already satisfied: nvidia-cusolver-cu12==11.7.3.90 in /home/michal/anaconda3/lib/python3.13/site-packages (from torch>=1.11.0->sentence_transformers) (11.7.3.90)\r\n",
      "Requirement already satisfied: nvidia-cusparse-cu12==12.5.8.93 in /home/michal/anaconda3/lib/python3.13/site-packages (from torch>=1.11.0->sentence_transformers) (12.5.8.93)\r\n",
      "Requirement already satisfied: nvidia-cusparselt-cu12==0.7.1 in /home/michal/anaconda3/lib/python3.13/site-packages (from torch>=1.11.0->sentence_transformers) (0.7.1)\r\n",
      "Requirement already satisfied: nvidia-nccl-cu12==2.27.3 in /home/michal/anaconda3/lib/python3.13/site-packages (from torch>=1.11.0->sentence_transformers) (2.27.3)\r\n",
      "Requirement already satisfied: nvidia-nvtx-cu12==12.8.90 in /home/michal/anaconda3/lib/python3.13/site-packages (from torch>=1.11.0->sentence_transformers) (12.8.90)\r\n",
      "Requirement already satisfied: nvidia-nvjitlink-cu12==12.8.93 in /home/michal/anaconda3/lib/python3.13/site-packages (from torch>=1.11.0->sentence_transformers) (12.8.93)\r\n",
      "Requirement already satisfied: nvidia-cufile-cu12==1.13.1.3 in /home/michal/anaconda3/lib/python3.13/site-packages (from torch>=1.11.0->sentence_transformers) (1.13.1.3)\r\n",
      "Requirement already satisfied: triton==3.4.0 in /home/michal/anaconda3/lib/python3.13/site-packages (from torch>=1.11.0->sentence_transformers) (3.4.0)\r\n",
      "Requirement already satisfied: mpmath<1.4,>=1.1.0 in /home/michal/anaconda3/lib/python3.13/site-packages (from sympy>=1.13.3->torch>=1.11.0->sentence_transformers) (1.3.0)\r\n",
      "Requirement already satisfied: MarkupSafe>=2.0 in /home/michal/anaconda3/lib/python3.13/site-packages (from jinja2->torch>=1.11.0->sentence_transformers) (3.0.2)\r\n",
      "Requirement already satisfied: charset_normalizer<4,>=2 in /home/michal/anaconda3/lib/python3.13/site-packages (from requests->transformers<5.0.0,>=4.41.0->sentence_transformers) (3.3.2)\r\n",
      "Requirement already satisfied: idna<4,>=2.5 in /home/michal/anaconda3/lib/python3.13/site-packages (from requests->transformers<5.0.0,>=4.41.0->sentence_transformers) (3.7)\r\n",
      "Requirement already satisfied: urllib3<3,>=1.21.1 in /home/michal/anaconda3/lib/python3.13/site-packages (from requests->transformers<5.0.0,>=4.41.0->sentence_transformers) (2.5.0)\r\n",
      "Requirement already satisfied: certifi>=2017.4.17 in /home/michal/anaconda3/lib/python3.13/site-packages (from requests->transformers<5.0.0,>=4.41.0->sentence_transformers) (2025.8.3)\r\n",
      "Requirement already satisfied: joblib>=1.2.0 in /home/michal/anaconda3/lib/python3.13/site-packages (from scikit-learn->sentence_transformers) (1.5.1)\r\n",
      "Requirement already satisfied: threadpoolctl>=3.1.0 in /home/michal/anaconda3/lib/python3.13/site-packages (from scikit-learn->sentence_transformers) (3.5.0)\r\n",
      "Downloading sentence_transformers-5.1.0-py3-none-any.whl (483 kB)\r\n",
      "Installing collected packages: sentence_transformers\r\n",
      "Successfully installed sentence_transformers-5.1.0\r\n"
     ]
    }
   ],
   "execution_count": 1
  },
  {
   "metadata": {},
   "cell_type": "markdown",
   "source": "### Wygeneruj embeddingi",
   "id": "488e6c821b4f4016"
  },
  {
   "metadata": {
    "ExecuteTime": {
     "end_time": "2025-09-22T06:50:29.223847Z",
     "start_time": "2025-09-22T06:50:13.817020Z"
    }
   },
   "cell_type": "code",
   "source": [
    "from sentence_transformers import SentenceTransformer, util\n",
    "\n",
    "model = SentenceTransformer(\"all-MiniLM-L6-v2\")\n",
    "print(model.max_seq_length)\n",
    "\n",
    "model.max_seq_length = 256\n",
    "\n",
    "sentences = [\n",
    "    \"dinosaurs live in africa but in different time dimension\", \n",
    "    \"this is sentence about little cat that liked to eat tomatoes\",\n",
    "    \"this is the another sample sentence which is here just to not be matched while other one is\"\n",
    "]\n",
    "\n",
    "embeddings = model.encode(sentences, normalize_embeddings=True)"
   ],
   "id": "189389fa86a50e87",
   "outputs": [
    {
     "data": {
      "text/plain": [
       "modules.json:   0%|          | 0.00/349 [00:00<?, ?B/s]"
      ],
      "application/vnd.jupyter.widget-view+json": {
       "version_major": 2,
       "version_minor": 0,
       "model_id": "36e84f1c3adc4b12b0cee8b252330e2b"
      }
     },
     "metadata": {},
     "output_type": "display_data",
     "jetTransient": {
      "display_id": null
     }
    },
    {
     "data": {
      "text/plain": [
       "config_sentence_transformers.json:   0%|          | 0.00/116 [00:00<?, ?B/s]"
      ],
      "application/vnd.jupyter.widget-view+json": {
       "version_major": 2,
       "version_minor": 0,
       "model_id": "620fadf41f5e4819815e4d1645ae80e4"
      }
     },
     "metadata": {},
     "output_type": "display_data",
     "jetTransient": {
      "display_id": null
     }
    },
    {
     "data": {
      "text/plain": [
       "README.md: 0.00B [00:00, ?B/s]"
      ],
      "application/vnd.jupyter.widget-view+json": {
       "version_major": 2,
       "version_minor": 0,
       "model_id": "b671b2eb0f0d4c788b81094ff63e20a5"
      }
     },
     "metadata": {},
     "output_type": "display_data",
     "jetTransient": {
      "display_id": null
     }
    },
    {
     "data": {
      "text/plain": [
       "sentence_bert_config.json:   0%|          | 0.00/53.0 [00:00<?, ?B/s]"
      ],
      "application/vnd.jupyter.widget-view+json": {
       "version_major": 2,
       "version_minor": 0,
       "model_id": "9a24d650eb7245c5bcb1c865ff80aa84"
      }
     },
     "metadata": {},
     "output_type": "display_data",
     "jetTransient": {
      "display_id": null
     }
    },
    {
     "data": {
      "text/plain": [
       "config.json:   0%|          | 0.00/612 [00:00<?, ?B/s]"
      ],
      "application/vnd.jupyter.widget-view+json": {
       "version_major": 2,
       "version_minor": 0,
       "model_id": "c3306a70d4734ddf91a7fa50a82f03ba"
      }
     },
     "metadata": {},
     "output_type": "display_data",
     "jetTransient": {
      "display_id": null
     }
    },
    {
     "data": {
      "text/plain": [
       "model.safetensors:   0%|          | 0.00/90.9M [00:00<?, ?B/s]"
      ],
      "application/vnd.jupyter.widget-view+json": {
       "version_major": 2,
       "version_minor": 0,
       "model_id": "f9b20a7eaa264fd3a2ce7a24911cf610"
      }
     },
     "metadata": {},
     "output_type": "display_data",
     "jetTransient": {
      "display_id": null
     }
    },
    {
     "data": {
      "text/plain": [
       "tokenizer_config.json:   0%|          | 0.00/350 [00:00<?, ?B/s]"
      ],
      "application/vnd.jupyter.widget-view+json": {
       "version_major": 2,
       "version_minor": 0,
       "model_id": "db0f14f89f2747d3ae9bc7332273da3c"
      }
     },
     "metadata": {},
     "output_type": "display_data",
     "jetTransient": {
      "display_id": null
     }
    },
    {
     "data": {
      "text/plain": [
       "vocab.txt: 0.00B [00:00, ?B/s]"
      ],
      "application/vnd.jupyter.widget-view+json": {
       "version_major": 2,
       "version_minor": 0,
       "model_id": "81d3435e8fde4c50aedb5f00a5efdfab"
      }
     },
     "metadata": {},
     "output_type": "display_data",
     "jetTransient": {
      "display_id": null
     }
    },
    {
     "data": {
      "text/plain": [
       "tokenizer.json: 0.00B [00:00, ?B/s]"
      ],
      "application/vnd.jupyter.widget-view+json": {
       "version_major": 2,
       "version_minor": 0,
       "model_id": "f86d9569f2594abcb314fe94e7679e46"
      }
     },
     "metadata": {},
     "output_type": "display_data",
     "jetTransient": {
      "display_id": null
     }
    },
    {
     "data": {
      "text/plain": [
       "special_tokens_map.json:   0%|          | 0.00/112 [00:00<?, ?B/s]"
      ],
      "application/vnd.jupyter.widget-view+json": {
       "version_major": 2,
       "version_minor": 0,
       "model_id": "9fcb868ed3b34742b1ebad6170bd0a11"
      }
     },
     "metadata": {},
     "output_type": "display_data",
     "jetTransient": {
      "display_id": null
     }
    },
    {
     "data": {
      "text/plain": [
       "config.json:   0%|          | 0.00/190 [00:00<?, ?B/s]"
      ],
      "application/vnd.jupyter.widget-view+json": {
       "version_major": 2,
       "version_minor": 0,
       "model_id": "9faf8219ee004f269ecc5740546e30c8"
      }
     },
     "metadata": {},
     "output_type": "display_data",
     "jetTransient": {
      "display_id": null
     }
    },
    {
     "name": "stdout",
     "output_type": "stream",
     "text": [
      "256\n"
     ]
    }
   ],
   "execution_count": 2
  },
  {
   "metadata": {
    "ExecuteTime": {
     "end_time": "2025-09-22T06:50:39.003060Z",
     "start_time": "2025-09-22T06:50:38.999078Z"
    }
   },
   "cell_type": "code",
   "source": "embeddings",
   "id": "cb9c2aa30e920f3d",
   "outputs": [
    {
     "data": {
      "text/plain": [
       "array([[-0.04987683,  0.03634831,  0.01747592, ..., -0.05154557,\n",
       "         0.01327896, -0.05160031],\n",
       "       [ 0.06277536,  0.07880409,  0.01862673, ...,  0.18015604,\n",
       "         0.07854404,  0.0105872 ],\n",
       "       [-0.01920933,  0.06346308,  0.07642584, ...,  0.01450102,\n",
       "         0.08586987, -0.00456648]], shape=(3, 384), dtype=float32)"
      ]
     },
     "execution_count": 3,
     "metadata": {},
     "output_type": "execute_result"
    }
   ],
   "execution_count": 3
  },
  {
   "metadata": {},
   "cell_type": "markdown",
   "source": "### Utwórz bazę wektorową i załaduj dokumenty",
   "id": "91b80070079d4f28"
  },
  {
   "metadata": {
    "ExecuteTime": {
     "end_time": "2025-09-22T06:50:42.433259Z",
     "start_time": "2025-09-22T06:50:42.368161Z"
    }
   },
   "cell_type": "code",
   "source": [
    "import faiss\n",
    "\n",
    "d = 384  # dimension\n",
    "\n",
    "# Build index\n",
    "index = faiss.IndexFlatL2(d)  # build the index\n",
    "index.add(embeddings)  # add vectors to the index"
   ],
   "id": "6dbbe7482493cc84",
   "outputs": [],
   "execution_count": 4
  },
  {
   "metadata": {},
   "cell_type": "markdown",
   "source": "### Przeszukaj bazę wektorową",
   "id": "a3dedc1ab199f1e1"
  },
  {
   "metadata": {
    "ExecuteTime": {
     "end_time": "2025-09-22T06:50:44.047894Z",
     "start_time": "2025-09-22T06:50:44.019156Z"
    }
   },
   "cell_type": "code",
   "source": [
    "queryText = \"french fries\"\n",
    "embeddingSearch = model.encode([queryText], normalize_embeddings=True)\n",
    "embeddingFound, idx = index.search(embeddingSearch, 1)  # actual search\n",
    "print(queryText + \" matches:\\n\" + sentences[idx[0][0]])\n",
    "\n",
    "queryText = \"not similar text\"\n",
    "embeddingSearch = model.encode([queryText], normalize_embeddings=True)\n",
    "embeddingFound, idx = index.search(embeddingSearch, 1)  # actual search\n",
    "print(queryText + \" matches:\\n\" + sentences[idx[0][0]])"
   ],
   "id": "25f9add211764a27",
   "outputs": [
    {
     "name": "stdout",
     "output_type": "stream",
     "text": [
      "french fries matches:\n",
      "this is sentence about little cat that liked to eat tomatoes\n",
      "not similar text matches:\n",
      "this is the another sample sentence which is here just to not be matched while other one is\n"
     ]
    }
   ],
   "execution_count": 5
  }
 ],
 "metadata": {
  "kernelspec": {
   "display_name": "Python 3",
   "language": "python",
   "name": "python3"
  },
  "language_info": {
   "codemirror_mode": {
    "name": "ipython",
    "version": 2
   },
   "file_extension": ".py",
   "mimetype": "text/x-python",
   "name": "python",
   "nbconvert_exporter": "python",
   "pygments_lexer": "ipython2",
   "version": "2.7.6"
  }
 },
 "nbformat": 4,
 "nbformat_minor": 5
}
