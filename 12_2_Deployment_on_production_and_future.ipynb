{
 "cells": [
  {
   "metadata": {},
   "cell_type": "markdown",
   "source": "## Deployment on production and future",
   "id": "ab7f49a4c84884a2"
  },
  {
   "cell_type": "code",
   "execution_count": null,
   "id": "initial_id",
   "metadata": {
    "collapsed": true
   },
   "outputs": [],
   "source": "!pip install -q fastapi uvicorn langchain langchain-openai python-dotenv\n"
  },
  {
   "metadata": {},
   "cell_type": "code",
   "outputs": [],
   "execution_count": null,
   "source": [
    "import os\n",
    "from fastapi import FastAPI, Header\n",
    "from pydantic import BaseModel\n",
    "from dotenv import load_dotenv\n",
    "from langchain_openai import ChatOpenAI\n",
    "\n",
    "load_dotenv()\n",
    "\n",
    "app = FastAPI()\n"
   ],
   "id": "9dc60700fa151c6a"
  },
  {
   "metadata": {},
   "cell_type": "markdown",
   "source": "### Model agnostic gateway",
   "id": "e7d7541c7a713edf"
  },
  {
   "metadata": {},
   "cell_type": "code",
   "outputs": [],
   "execution_count": null,
   "source": [
    "class ChatRequest(BaseModel):\n",
    "    message: str\n",
    "\n",
    "@app.post(\"/chat\")\n",
    "def chat_endpoint(req: ChatRequest, x_model: str = Header(default=\"openai:gpt-4o-mini\")):\n",
    "    \"\"\"\n",
    "    Gateway: wybór modelu po nagłówku X-Model.\n",
    "    \"\"\"\n",
    "    if x_model.startswith(\"openai:\"):\n",
    "        model_name = x_model.split(\":\",1)[1]\n",
    "        llm = ChatOpenAI(model=model_name, temperature=0)\n",
    "    elif x_model == \"oss:mock\":\n",
    "        # fallback: prosty model open-source (tutaj mock)\n",
    "        return {\"answer\": f\"(OSS fallback) Echo: {req.message}\"}\n",
    "    else:\n",
    "        return {\"error\": f\"Unknown model: {x_model}\"}\n",
    "\n",
    "    answer = llm.invoke(req.message)\n",
    "    return {\"answer\": answer.content}\n"
   ],
   "id": "45322849f71fb061"
  },
  {
   "metadata": {},
   "cell_type": "markdown",
   "source": "### Monitoring kosztów",
   "id": "39a84a8c095d328"
  },
  {
   "metadata": {},
   "cell_type": "code",
   "outputs": [],
   "execution_count": null,
   "source": [
    "from datetime import datetime\n",
    "\n",
    "costs = []\n",
    "\n",
    "def log_cost(cost_usd: float):\n",
    "    now = datetime.utcnow().isoformat()\n",
    "    costs.append((now, cost_usd))\n",
    "    total_today = sum(c for t,c in costs)  # uproszczony licznik\n",
    "    if total_today > 50:\n",
    "        print(\"⚠️ ALERT: Daily cost exceeded 50 USD!\")\n",
    "    return total_today\n",
    "\n",
    "# Przykład logowania\n",
    "log_cost(10)\n",
    "log_cost(20)\n",
    "log_cost(25)  # po tym powinien wysłać alert\n"
   ],
   "id": "f6b186a366c95249"
  },
  {
   "metadata": {},
   "cell_type": "code",
   "outputs": [],
   "execution_count": null,
   "source": "",
   "id": "8c036e713ca6963e"
  },
  {
   "metadata": {},
   "cell_type": "code",
   "outputs": [],
   "execution_count": null,
   "source": "",
   "id": "cbffb1c84cc5b0cf"
  }
 ],
 "metadata": {
  "kernelspec": {
   "display_name": "Python 3",
   "language": "python",
   "name": "python3"
  },
  "language_info": {
   "codemirror_mode": {
    "name": "ipython",
    "version": 2
   },
   "file_extension": ".py",
   "mimetype": "text/x-python",
   "name": "python",
   "nbconvert_exporter": "python",
   "pygments_lexer": "ipython2",
   "version": "2.7.6"
  }
 },
 "nbformat": 4,
 "nbformat_minor": 5
}
