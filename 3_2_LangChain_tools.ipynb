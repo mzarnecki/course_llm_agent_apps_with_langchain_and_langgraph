{
 "cells": [
  {
   "metadata": {},
   "cell_type": "markdown",
   "source": [
    "## LangChain tools\n",
    "Tools w LangChain to zewnętrzne funkcje lub usługi (np. wyszukiwarka, kalkulator, API), które agent może wywoływać podczas rozwiązywania zadań, aby rozszerzyć swoje możliwości poza samo generowanie tekstu."
   ],
   "id": "2f7caf7e6169820c"
  },
  {
   "metadata": {},
   "cell_type": "markdown",
   "source": "### Instalacja bibliotek",
   "id": "38b51cca1e0db21a"
  },
  {
   "cell_type": "code",
   "id": "initial_id",
   "metadata": {
    "collapsed": true
   },
   "source": "!pip install -q langchain langchain-openai python-dotenv",
   "outputs": [],
   "execution_count": null
  },
  {
   "metadata": {
    "ExecuteTime": {
     "end_time": "2025-10-11T03:47:27.633304Z",
     "start_time": "2025-10-11T03:47:27.003460Z"
    }
   },
   "cell_type": "code",
   "source": [
    "from dotenv import load_dotenv\n",
    "load_dotenv()\n",
    "\n",
    "from langchain_openai import ChatOpenAI\n",
    "\n",
    "llm = ChatOpenAI(model=\"gpt-4o-mini\", temperature=0)\n",
    "print(\"Model gotowy.\")\n"
   ],
   "id": "57249b984cb68d26",
   "outputs": [
    {
     "name": "stdout",
     "output_type": "stream",
     "text": [
      "Model gotowy.\n"
     ]
    }
   ],
   "execution_count": 2
  },
  {
   "metadata": {},
   "cell_type": "markdown",
   "source": "### Proste narzędzie (kalkulator)",
   "id": "33ba821890955238"
  },
  {
   "metadata": {
    "ExecuteTime": {
     "end_time": "2025-10-11T03:50:46.191947Z",
     "start_time": "2025-10-11T03:50:46.183761Z"
    }
   },
   "cell_type": "code",
   "source": [
    "from langchain.tools import tool\n",
    "\n",
    "@tool\n",
    "def multiply_numbers(x: int, y: int) -> int:\n",
    "    \"\"\"Mnoży dwie liczby całkowite.\"\"\"\n",
    "    return x * y\n",
    "\n",
    "print(multiply_numbers.invoke({\"x\": 6, \"y\": 7}))\n"
   ],
   "id": "ca86ba83e37a7ea1",
   "outputs": [
    {
     "name": "stdout",
     "output_type": "stream",
     "text": [
      "42\n"
     ]
    }
   ],
   "execution_count": 12
  },
  {
   "metadata": {},
   "cell_type": "markdown",
   "source": "### Użycie narzędzia z LLM",
   "id": "7b397b1905c834a4"
  },
  {
   "metadata": {
    "ExecuteTime": {
     "end_time": "2025-10-07T05:46:57.946125Z",
     "start_time": "2025-10-07T05:46:51.087543Z"
    }
   },
   "cell_type": "code",
   "source": [
    "from langchain.agents import initialize_agent, AgentType\n",
    "\n",
    "tools = [multiply_numbers]\n",
    "\n",
    "agent = initialize_agent(\n",
    "    tools=tools,\n",
    "    llm=llm,\n",
    "    agent=AgentType.STRUCTURED_CHAT_ZERO_SHOT_REACT_DESCRIPTION,\n",
    "    verbose=True\n",
    ")\n",
    "\n",
    "# Model sam zdecyduje, że musi użyć multiply_numbers\n",
    "agent.run(\"Ile wynosi dwukrotność liczby ludzi na Ziemi?\")\n"
   ],
   "id": "e25812a37df2a7",
   "outputs": [
    {
     "name": "stderr",
     "output_type": "stream",
     "text": [
      "/tmp/ipykernel_10207/1539811230.py:5: LangChainDeprecationWarning: LangChain agents will continue to be supported, but it is recommended for new use cases to be built with LangGraph. LangGraph offers a more flexible and full-featured framework for building agents, including support for tool-calling, persistence of state, and human-in-the-loop workflows. For details, refer to the `LangGraph documentation <https://langchain-ai.github.io/langgraph/>`_ as well as guides for `Migrating from AgentExecutor <https://python.langchain.com/docs/how_to/migrate_agent/>`_ and LangGraph's `Pre-built ReAct agent <https://langchain-ai.github.io/langgraph/how-tos/create-react-agent/>`_.\n",
      "  agent = initialize_agent(\n",
      "/tmp/ipykernel_10207/1539811230.py:13: LangChainDeprecationWarning: The method `Chain.run` was deprecated in langchain 0.1.0 and will be removed in 1.0. Use :meth:`~invoke` instead.\n",
      "  agent.run(\"Ile wynosi dwukrotność liczby ludzi na Ziemi?\")\n"
     ]
    },
    {
     "name": "stdout",
     "output_type": "stream",
     "text": [
      "\n",
      "\n",
      "\u001B[1m> Entering new AgentExecutor chain...\u001B[0m\n",
      "\u001B[32;1m\u001B[1;3mThought: Najpierw muszę ustalić aktualną liczbę ludzi na Ziemi. Szacuje się, że w 2023 roku liczba ta wynosi około 8 miliardów. Dwukrotność tej liczby to 16 miliardów. Jednak, aby być precyzyjnym, mogę obliczyć to jako mnożenie 8 miliardów przez 2. \n",
      "\n",
      "Action:\n",
      "```\n",
      "{\n",
      "  \"action\": \"multiply_numbers\",\n",
      "  \"action_input\": {\"x\": 8000000000, \"y\": 2}\n",
      "}\n",
      "```\n",
      "\u001B[0m\n",
      "Observation: \u001B[36;1m\u001B[1;3m16000000000\u001B[0m\n",
      "Thought:\u001B[32;1m\u001B[1;3mDwukrotność liczby ludzi na Ziemi wynosi 16 miliardów. \n",
      "\n",
      "Action:\n",
      "```\n",
      "{\n",
      "  \"action\": \"Final Answer\",\n",
      "  \"action_input\": \"Dwukrotność liczby ludzi na Ziemi wynosi 16 miliardów.\"\n",
      "}\n",
      "```\n",
      "\u001B[0m\n",
      "\n",
      "\u001B[1m> Finished chain.\u001B[0m\n"
     ]
    },
    {
     "data": {
      "text/plain": [
       "'Dwukrotność liczby ludzi na Ziemi wynosi 16 miliardów.'"
      ]
     },
     "execution_count": 3,
     "metadata": {},
     "output_type": "execute_result"
    }
   ],
   "execution_count": 3
  },
  {
   "metadata": {},
   "cell_type": "markdown",
   "source": "### Kolejne narzędzie (prosta baza wiedzy)",
   "id": "84c1f1d4b9041164"
  },
  {
   "metadata": {
    "ExecuteTime": {
     "end_time": "2025-10-11T03:50:54.381322Z",
     "start_time": "2025-10-11T03:50:50.869860Z"
    }
   },
   "cell_type": "code",
   "source": [
    "@tool\n",
    "def company_info(name: str) -> str:\n",
    "    \"\"\"Zwraca podstawowe informacje o firmie na podstawie nazwy.\"\"\"\n",
    "    companies = {\n",
    "        \"OpenAI\": \"Firma zajmująca się sztuczną inteligencją, twórca ChatGPT.\",\n",
    "        \"LangChain\": \"Biblioteka ułatwiająca budowanie aplikacji z modelami językowymi.\",\n",
    "        \"Tesla\": \"Producent samochodów elektrycznych i baterii.\"\n",
    "    }\n",
    "    return companies.get(name, \"Nie znam tej firmy.\")\n",
    "\n",
    "tools = [company_info]\n",
    "agent = initialize_agent(\n",
    "    tools=tools,\n",
    "    llm=llm,\n",
    "    agent=AgentType.ZERO_SHOT_REACT_DESCRIPTION,\n",
    "    verbose=True\n",
    ")\n",
    "\n",
    "agent.run(\"Powiedz mi, czym zajmuje się firma Tesla.\")\n"
   ],
   "id": "b6fe79b9294dd888",
   "outputs": [
    {
     "name": "stdout",
     "output_type": "stream",
     "text": [
      "\n",
      "\n",
      "\u001B[1m> Entering new AgentExecutor chain...\u001B[0m\n",
      "\u001B[32;1m\u001B[1;3mMuszę uzyskać podstawowe informacje o firmie Tesla, aby dowiedzieć się, czym się zajmuje.  \n",
      "Action: company_info  \n",
      "Action Input: \"Tesla\"  \u001B[0m\n",
      "Observation: \u001B[36;1m\u001B[1;3mProducent samochodów elektrycznych i baterii.\u001B[0m\n",
      "Thought:\u001B[32;1m\u001B[1;3mI now know the final answer  \n",
      "Final Answer: Firma Tesla zajmuje się produkcją samochodów elektrycznych i baterii.\u001B[0m\n",
      "\n",
      "\u001B[1m> Finished chain.\u001B[0m\n"
     ]
    },
    {
     "data": {
      "text/plain": [
       "'Firma Tesla zajmuje się produkcją samochodów elektrycznych i baterii.'"
      ]
     },
     "execution_count": 13,
     "metadata": {},
     "output_type": "execute_result"
    }
   ],
   "execution_count": 13
  },
  {
   "metadata": {},
   "cell_type": "markdown",
   "source": [
    "### Dostępne tool w LangChain\n",
    "Lista dostępnych narzędzi: https://python.langchain.com/docs/integrations/tools/"
   ],
   "id": "98218ad0aea0d5e4"
  },
  {
   "metadata": {
    "ExecuteTime": {
     "end_time": "2025-10-11T03:50:13.093910Z",
     "start_time": "2025-10-11T03:50:09.971401Z"
    }
   },
   "cell_type": "code",
   "source": "!pip install wikipedia tavily-python",
   "id": "d0b0ce62bcf0fbd9",
   "outputs": [
    {
     "name": "stdout",
     "output_type": "stream",
     "text": [
      "Collecting wikipedia\r\n",
      "  Using cached wikipedia-1.4.0.tar.gz (27 kB)\r\n",
      "  Preparing metadata (setup.py) ... \u001B[?25ldone\r\n",
      "\u001B[?25hCollecting tavily-python\r\n",
      "  Downloading tavily_python-0.7.12-py3-none-any.whl.metadata (7.5 kB)\r\n",
      "Requirement already satisfied: beautifulsoup4 in /home/michal/.local/lib/python3.13/site-packages (from wikipedia) (4.13.5)\r\n",
      "Requirement already satisfied: requests<3.0.0,>=2.0.0 in /home/michal/anaconda3/lib/python3.13/site-packages (from wikipedia) (2.32.5)\r\n",
      "Requirement already satisfied: charset_normalizer<4,>=2 in /home/michal/anaconda3/lib/python3.13/site-packages (from requests<3.0.0,>=2.0.0->wikipedia) (3.3.2)\r\n",
      "Requirement already satisfied: idna<4,>=2.5 in /home/michal/anaconda3/lib/python3.13/site-packages (from requests<3.0.0,>=2.0.0->wikipedia) (3.7)\r\n",
      "Requirement already satisfied: urllib3<3,>=1.21.1 in /home/michal/anaconda3/lib/python3.13/site-packages (from requests<3.0.0,>=2.0.0->wikipedia) (2.5.0)\r\n",
      "Requirement already satisfied: certifi>=2017.4.17 in /home/michal/anaconda3/lib/python3.13/site-packages (from requests<3.0.0,>=2.0.0->wikipedia) (2025.8.3)\r\n",
      "Requirement already satisfied: tiktoken>=0.5.1 in /home/michal/anaconda3/lib/python3.13/site-packages (from tavily-python) (0.11.0)\r\n",
      "Requirement already satisfied: httpx in /home/michal/.local/lib/python3.13/site-packages (from tavily-python) (0.28.1)\r\n",
      "Requirement already satisfied: regex>=2022.1.18 in /home/michal/anaconda3/lib/python3.13/site-packages (from tiktoken>=0.5.1->tavily-python) (2024.11.6)\r\n",
      "Requirement already satisfied: soupsieve>1.2 in /home/michal/.local/lib/python3.13/site-packages (from beautifulsoup4->wikipedia) (2.7)\r\n",
      "Requirement already satisfied: typing-extensions>=4.0.0 in /home/michal/anaconda3/lib/python3.13/site-packages (from beautifulsoup4->wikipedia) (4.15.0)\r\n",
      "Requirement already satisfied: anyio in /home/michal/.local/lib/python3.13/site-packages (from httpx->tavily-python) (4.10.0)\r\n",
      "Requirement already satisfied: httpcore==1.* in /home/michal/.local/lib/python3.13/site-packages (from httpx->tavily-python) (1.0.9)\r\n",
      "Requirement already satisfied: h11>=0.16 in /home/michal/.local/lib/python3.13/site-packages (from httpcore==1.*->httpx->tavily-python) (0.16.0)\r\n",
      "Requirement already satisfied: sniffio>=1.1 in /home/michal/.local/lib/python3.13/site-packages (from anyio->httpx->tavily-python) (1.3.1)\r\n",
      "Downloading tavily_python-0.7.12-py3-none-any.whl (15 kB)\r\n",
      "Building wheels for collected packages: wikipedia\r\n",
      "\u001B[33m  DEPRECATION: Building 'wikipedia' using the legacy setup.py bdist_wheel mechanism, which will be removed in a future version. pip 25.3 will enforce this behaviour change. A possible replacement is to use the standardized build interface by setting the `--use-pep517` option, (possibly combined with `--no-build-isolation`), or adding a `pyproject.toml` file to the source tree of 'wikipedia'. Discussion can be found at https://github.com/pypa/pip/issues/6334\u001B[0m\u001B[33m\r\n",
      "\u001B[0m  Building wheel for wikipedia (setup.py) ... \u001B[?25ldone\r\n",
      "\u001B[?25h  Created wheel for wikipedia: filename=wikipedia-1.4.0-py3-none-any.whl size=11757 sha256=d3adbc107029e4347a175b213ffeeaad88fb70f5e2a2849969e93139b4233e22\r\n",
      "  Stored in directory: /home/michal/.cache/pip/wheels/79/1d/c8/b64e19423cc5a2a339450ea5d145e7c8eb3d4aa2b150cde33b\r\n",
      "Successfully built wikipedia\r\n",
      "Installing collected packages: wikipedia, tavily-python\r\n",
      "\u001B[2K   \u001B[90m━━━━━━━━━━━━━━━━━━━━━━━━━━━━━━━━━━━━━━━━\u001B[0m \u001B[32m2/2\u001B[0m [tavily-python]\r\n",
      "\u001B[1A\u001B[2KSuccessfully installed tavily-python-0.7.12 wikipedia-1.4.0\r\n"
     ]
    }
   ],
   "execution_count": 9
  },
  {
   "metadata": {
    "ExecuteTime": {
     "end_time": "2025-10-11T03:48:08.600775Z",
     "start_time": "2025-10-11T03:48:01.750631Z"
    }
   },
   "cell_type": "code",
   "source": [
    "from langchain_community.tools.tavily_search import TavilySearchResults\n",
    "from langchain.agents import initialize_agent, AgentType\n",
    "\n",
    "# Inicjalizacja narzędzia wyszukiwarki\n",
    "# klucz API do Tavily: https://app.tavily.com/home\n",
    "search = TavilySearchResults(max_results=3)\n",
    "\n",
    "# Bezpośrednie użycie narzędzia\n",
    "query = \"Najnowsze wiadomości o sztucznej inteligencji\"\n",
    "results = search.invoke(query)\n",
    "\n",
    "print(f\"Wyniki wyszukiwania dla zapytania: '{query}'\")\n",
    "for i, result in enumerate(results, 1):\n",
    "    print(f\"\\n{i}. {result.get('title', 'Brak tytułu')}\")\n",
    "    print(f\"   URL: {result.get('url', 'Brak URL')}\")\n",
    "    print(f\"   Treść: {result.get('content', 'Brak treści')[:200]}...\")\n",
    "\n",
    "# Lista narzędzi z wyszukiwarką\n",
    "tools = [search]\n",
    "\n",
    "# Agent z dostępem do internetu\n",
    "agent_with_search = initialize_agent(\n",
    "    tools=tools,\n",
    "    llm=llm,\n",
    "    agent=AgentType.ZERO_SHOT_REACT_DESCRIPTION,\n",
    "    verbose=True\n",
    ")\n",
    "\n",
    "# Przykładowe zapytanie wymagające wyszukiwania w internecie\n",
    "response = agent_with_search.run(\n",
    "    \"Kto jest obecnym premierem Polski i ile ma lat?\"\n",
    ")\n",
    "print(f\"\\nOdpowiedź agenta:\\n{response}\")"
   ],
   "id": "95e4d4ddbca07dd8",
   "outputs": [
    {
     "name": "stdout",
     "output_type": "stream",
     "text": [
      "Wyniki wyszukiwania dla zapytania: 'Najnowsze wiadomości o sztucznej inteligencji'\n",
      "\n",
      "1. Sztuczna inteligencja (AI) - Spider's Web\n",
      "   URL: https://spidersweb.pl/tag/sztuczna-inteligencja\n",
      "   Treść: Powiązane tematy: Microsoft, Bing, Copilot, Google, Gemini, Deepseek\n",
      "\n",
      "AI czyli Artificial Intelligence\n",
      "\n",
      "Sztuczna Inteligencja - najnowsze wiadomości\n",
      "\n",
      "[Tech\n",
      "\n",
      "12.09.2025 10:00\n",
      "\n",
      "## Albania ma nowego mini...\n",
      "\n",
      "2. sztuczna Inteligencja - Najnowsze informacje - WP Wiadomości\n",
      "   URL: https://wiadomosci.wp.pl/tag/sztuczna%20inteligencja\n",
      "   Treść: Według agencji Bloomberg we wtorek Donald Trump ogłosi wart 70 miliardów dolarów plan inwestycji. Pieniądze mają zostać wydaje na rozwój dwóch obszarów - sztucznej inteligencji i energetyki.\n",
      "\n",
      "11 lipca...\n",
      "\n",
      "3. Sztuczna Inteligencja - najnowsze informacje - Strona 1 - Fintek.pl\n",
      "   URL: https://fintek.pl/aktualnosci/sztuczna-inteligencja/\n",
      "   Treść: #Sztuczna Inteligencja\n",
      " #Technologie\n",
      "\n",
      "10 czerwca 2025 07:05\n",
      "\n",
      "Meta szykuje rekordową inwestycję w sztuczną inteligencję. 10 mld dolarów dla Scale AI\n",
      "\n",
      "Z rozwiązań tego startupu korzystają już między inn...\n",
      "\n",
      "\n",
      "\u001B[1m> Entering new AgentExecutor chain...\u001B[0m\n"
     ]
    },
    {
     "name": "stderr",
     "output_type": "stream",
     "text": [
      "/tmp/ipykernel_25809/2051081279.py:21: LangChainDeprecationWarning: LangChain agents will continue to be supported, but it is recommended for new use cases to be built with LangGraph. LangGraph offers a more flexible and full-featured framework for building agents, including support for tool-calling, persistence of state, and human-in-the-loop workflows. For details, refer to the `LangGraph documentation <https://langchain-ai.github.io/langgraph/>`_ as well as guides for `Migrating from AgentExecutor <https://python.langchain.com/docs/how_to/migrate_agent/>`_ and LangGraph's `Pre-built ReAct agent <https://langchain-ai.github.io/langgraph/how-tos/create-react-agent/>`_.\n",
      "  agent_with_search = initialize_agent(\n",
      "/tmp/ipykernel_25809/2051081279.py:29: LangChainDeprecationWarning: The method `Chain.run` was deprecated in langchain 0.1.0 and will be removed in 1.0. Use :meth:`~invoke` instead.\n",
      "  response = agent_with_search.run(\n"
     ]
    },
    {
     "name": "stdout",
     "output_type": "stream",
     "text": [
      "\u001B[32;1m\u001B[1;3mMuszę znaleźć aktualne informacje na temat obecnego premiera Polski oraz jego wieku. \n",
      "Action: tavily_search_results_json\n",
      "Action Input: \"obecny premier Polski 2023\"\u001B[0m\n",
      "Observation: \u001B[36;1m\u001B[1;3m[{'title': 'Premierzy Polski – Wikipedia, wolna encyklopedia', 'url': 'https://pl.wikipedia.org/wiki/Premierzy_Polski', 'content': '| (13.) |  | DonaldTusk(PO)(ur. 1957) | 11 grudnia 2023 | 13 grudnia 2023 | 12 grudnia 202311 czerwca 2025 |  |  | 644 dni | Trzeci rząd Donalda Tuska | Andrzej Duda(2015–2025) |\\n| Karol Nawrocki(od 2025) |\\n| Stan na 17 września 2025 | [...] Morawiecki (2017–2023)  Donald Tusk (od 2023) | [...] | 14 listopada 2019 | 15 listopada 2019 | 19 listopada 20194 czerwca 2020 | 13 listopada 2023 | 27 listopada 2023 | Drugi rząd Mateusza Morawieckiego | Sejm RP IX kadencji | Andrzej Duda(2015–2025) |\\n| 13 listopada 2023 | 27 listopada 2023 | 11 grudnia 2023 | 11 grudnia 2023 | 13 grudnia 2023 | Trzeci rząd Mateusza Morawieckiego | Sejm RP X kadencji | Andrzej Duda(2015–2025) |', 'score': 0.8235701}, {'title': 'Donald Tusk – Wikipedia, wolna encyklopedia', 'url': 'https://pl.wikipedia.org/wiki/Donald_Tusk', 'content': '19 października 2023 zarząd krajowy PO wskazał Donalda Tuska jako kandydata na stanowisko prezesa Rady Ministrów( Również liderzy Trzeciej Drogi \"Trzecia Droga (Polska)\") i Nowej Lewicy we wspólnym oświadczeniu poinformowali, że podczas konsultacji z prezydentem Andrzejem Dudą wskazali go jako kandydata na premiera( 10 listopada tego samego roku Donald Tusk (w imieniu KO) wraz liderami partii opozycyjnych: Szymonem Hołownią (Polska 2050), Władysławem Kosiniakiem-Kamyszem (PSL) oraz [...] Gosiewska (2019–2023)  Włodzimierz Czarzasty (od 2019)  Piotr Zgorzelski (od 2019)  Krzysztof Bosak (od 2023)  Dorota Niedziela (od 2023)  Monika Wielichowska (od 2023) | [...] Czelej (2015–2017)  Maria Koc (2015–2019)  Michał Seweryński (2017–2019)  Marek Pęk (2019)  Bogdan Borusewicz (2019–2023)  Michał Kamiński \"Michał Kamiński (polityk)\") (od 2019)  Stanisław Karczewski (2019–2020)  Gabriela Morawska-Stanecka (2019–2023)  Marek Pęk (2020–2023)  Magdalena Biejat (od 2023)  Rafał Grupiński (od 2023)  Maciej Żywno (od 2023) |', 'score': 0.7548612}, {'title': 'Skład Rady Ministrów - Kancelaria Prezesa Rady Ministrów - Gov.pl', 'url': 'https://www.gov.pl/web/premier/sklad-rady-ministrow', 'content': 'W celu świadczenia usług na najwyższym poziomie stosujemy pliki cookies. Korzystanie z naszej witryny oznacza, że będą one zamieszczane w Państwa urządzeniu. W każdym momencie można dokonać zmiany ustawień Państwa przeglądarki. Zobacz politykę cookies.\\n\\n#\\n\\n## Skład Rady Ministrów\\n\\n Donald Tusk\\n\\n  Prezes Rady Ministrów\\n Władysław Kosiniak-Kamysz\\n\\n  Wiceprezes Rady Ministrów, Minister Obrony Narodowej\\n Radosław Sikorski [...] Minister Edukacji\\n Katarzyna Pełczyńska-Nałęcz\\n\\n  Minister Funduszy i Polityki Regionalnej\\n Jakub Rutnicki\\n\\n  Minister Sportu i Turystyki\\n Tomasz Siemoniak\\n\\n  Minister, członek Rady Ministrów, Koordynator Służb Specjalnych\\n Jolanta Sobierańska-Grenda\\n\\n  Minister Zdrowia\\n Waldemar Żurek\\n\\n  Minister Sprawiedliwości [...] Minister - Członek Rady Ministrów, Szef Kancelarii Prezesa Rady Ministrów, Przewodniczący Komitetu do spraw Pożytku Publicznego\\n Paulina Hennig-Kloska\\n\\n  Minister Klimatu i Środowiska\\n Marcin Kierwiński\\n\\n  Minister Spraw Wewnętrznych i Administracji\\n Dariusz Klimczak\\n\\n  Minister Infrastruktury\\n Marcin Kulasek\\n\\n  Minister Nauki i Szkolnictwa Wyższego\\n Stefan Krajewski\\n\\n  Minister Rolnictwa i Rozwoju Wsi\\n Miłosz Motyka\\n\\n  Minister Energii\\n Barbara Nowacka', 'score': 0.42821008}]\u001B[0m\n",
      "Thought:\u001B[32;1m\u001B[1;3mDonald Tusk jest obecnym premierem Polski. Urodził się w 1957 roku, co oznacza, że ma obecnie 66 lat. \n",
      "Final Answer: Obecnym premierem Polski jest Donald Tusk, który ma 66 lat.\u001B[0m\n",
      "\n",
      "\u001B[1m> Finished chain.\u001B[0m\n",
      "\n",
      "Odpowiedź agenta:\n",
      "Obecnym premierem Polski jest Donald Tusk, który ma 66 lat.\n"
     ]
    }
   ],
   "execution_count": 5
  },
  {
   "metadata": {
    "ExecuteTime": {
     "end_time": "2025-10-11T03:51:10.695339Z",
     "start_time": "2025-10-11T03:50:55.661477Z"
    }
   },
   "cell_type": "code",
   "source": [
    "from langchain_community.tools import WikipediaQueryRun\n",
    "from langchain_community.utilities import WikipediaAPIWrapper\n",
    "\n",
    "# Inicjalizacja narzędzia Wikipedia\n",
    "wikipedia = WikipediaQueryRun(api_wrapper=WikipediaAPIWrapper())\n",
    "\n",
    "# Bezpośrednie użycie\n",
    "wiki_result = wikipedia.run(\"Python programming language\")\n",
    "print(f\"Wikipedia - Python:\\n{wiki_result[:300]}...\")\n",
    "\n",
    "### Agent z wieloma narzędziami\n",
    "# Agent z dostępem do wielu źródeł informacji\n",
    "tools_extended = [search, wikipedia, company_info]\n",
    "\n",
    "agent_multi_tool = initialize_agent(\n",
    "    tools=tools_extended,\n",
    "    llm=llm,\n",
    "    agent=AgentType.ZERO_SHOT_REACT_DESCRIPTION,\n",
    "    verbose=True\n",
    ")\n",
    "\n",
    "# Zapytanie wymagające użycia różnych narzędzi\n",
    "response = agent_multi_tool.run(\n",
    "    \"Znajdź informacje o Pythonie w Wikipedii, a następnie wyszukaj \"\n",
    "    \"najnowsze artykuły o nowych funkcjach w Python 3.12\"\n",
    ")\n",
    "print(f\"\\nOdpowiedź:\\n{response}\")"
   ],
   "id": "54225e707ca3083c",
   "outputs": [
    {
     "name": "stdout",
     "output_type": "stream",
     "text": [
      "Wikipedia - Python:\n",
      "Page: Python (programming language)\n",
      "Summary: Python is a high-level, general-purpose programming language. Its design philosophy emphasizes code readability with the use of significant indentation.\n",
      "Python is dynamically type-checked and garbage-collected. It supports multiple programming paradigms, ...\n",
      "\n",
      "\n",
      "\u001B[1m> Entering new AgentExecutor chain...\u001B[0m\n",
      "\u001B[32;1m\u001B[1;3mMuszę najpierw znaleźć ogólne informacje o Pythonie w Wikipedii, a następnie poszukać najnowszych artykułów dotyczących nowych funkcji w Python 3.12. \n",
      "\n",
      "Action: wikipedia  \n",
      "Action Input: Python (programming language)  \u001B[0m\n",
      "Observation: \u001B[33;1m\u001B[1;3mPage: Python (programming language)\n",
      "Summary: Python is a high-level, general-purpose programming language. Its design philosophy emphasizes code readability with the use of significant indentation.\n",
      "Python is dynamically type-checked and garbage-collected. It supports multiple programming paradigms, including structured (particularly procedural), object-oriented and functional programming.\n",
      "Guido van Rossum began working on Python in the late 1980s as a successor to the ABC programming language. Python 3.0, released in 2008, was a major revision and not completely backward-compatible with earlier versions. Recent versions, such as Python 3.13, 3.12 and older (and 3.14), have added capabilities and keywords for typing (and more; e.g. increasing speed); helping with (optional) static typing. Currently only versions in the 3.x series are supported.\n",
      "Python consistently ranks as one of the most popular programming languages, and it has gained widespread use in the machine learning community. It is widely taught as an introductory programming language.\n",
      "\n",
      "\n",
      "\n",
      "Page: Outline of the Python programming language\n",
      "Summary: The following outline is provided as an overview of and topical guide to Python:\n",
      "Python is a general-purpose, interpreted, object-oriented, multi-paradigm, and dynamically typed programming language known for its readable syntax and broad standard library. Python was created by Guido van Rossum and first released in 1991. It emphasizes code readability and developer productivity.\n",
      "\n",
      "\n",
      "\n",
      "Page: Mojo (programming language)\n",
      "Summary: Mojo is a programming language in the Python family that is currently under development. It is available both in browsers via Jupyter notebooks, and locally on Linux and macOS. Mojo aims to combine the usability of a high-level programming language, specifically Python, with the performance of a system programming language such as C++, Rust, and Zig. As of February 2025, the Mojo compiler is closed source with an open source standard library. Modular, the company behind Mojo, has stated an intent to eventually open source the Mojo language, as it matures.\n",
      "Mojo builds on the Multi-Level Intermediate Representation (MLIR) compiler software framework, instead of directly on the lower level LLVM compiler framework like many languages such as Julia, Swift, C++, and Rust. MLIR is a newer compiler framework that allows Mojo to exploit higher level compiler passes unavailable in LLVM alone, and allows Mojo to compile down and target more than only central processing units (CPUs), including producing code that can run on graphics  processing units (GPUs), Tensor Processing Units (TPUs), application-specific integrated circuits (ASICs) and other accelerators. It can also often more effectively use certain types of CPU optimizations directly, like single instruction, multiple data (SIMD) with minor intervention by a developer, as occurs in many other languages. According to Jeremy Howard of fast.ai, Mojo can be seen as \"syntax sugar for MLIR\" and for that reason Mojo is well optimized for applications like artificial intelligence (AI).\n",
      "\n",
      "\u001B[0m\n",
      "Thought:\u001B[32;1m\u001B[1;3mTeraz mam ogólne informacje o Pythonie. Muszę teraz wyszukać najnowsze artykuły dotyczące nowych funkcji w Python 3.12. \n",
      "\n",
      "Action: tavily_search_results_json  \n",
      "Action Input: Python 3.12 new features  \u001B[0m\n",
      "Observation: \u001B[36;1m\u001B[1;3m[{'title': \"What's New in Python — Python 3.14.0 documentation\", 'url': 'https://docs.python.org/3/whatsnew/index.html', 'content': 'What’s New In Python 3.12\\n       Summary – Release highlights\\n       New Features\\n       New Features Related to Type Hints\\n       Other Language Changes\\n       New Modules\\n       Improved Modules\\n       Optimizations\\n       CPython bytecode changes\\n       Demos and Tools\\n       Deprecated\\n       Removed\\n       Porting to Python 3.12\\n       Build Changes\\n       C API Changes', 'score': 0.9170729}, {'title': \"Python 3.12 - What's New and How to Download? - GeeksforGeeks\", 'url': 'https://www.geeksforgeeks.org/python/python-3-12-new-features/', 'content': '## Improvement in Modules\\n\\nPython 3.12, along with the addition of completely new features also introduced new functionalities and improved the performance of the existing modules. Let us see each module one by one.\\n\\n### Array in Python\\n\\nThe new array module has a feature of subscription, which is included in array.array class. It provides more flexibility and an easier access to the element while working with Python arrays and making it a generic type.\\n\\nPython\\n\\n````\\nimport array [...] 2. TypedDict for kwargs: Python version 3.12 introduced a better way of writing kwargs in the function signatures. The TypedDict allows to write kwargs with different types, allowing for better checking and validation. [...] ### Calendar\\n\\nAddition of enums calendar.Month and calendar.Day in calendar module, providing standardized representations for months of the year and days of the week. These enums enhance code readability and maintainability when working with calendar-related functionalities.\\n\\n### CSV\\n\\nIn CSV module, addition of csv.QUOTE\\\\_NOTNULL and csv.QUOTE\\\\_STRINGS flags for finer control over handling None and empty strings by csv.writer objects.\\n\\nPython\\n\\n````\\nimport csv', 'score': 0.89302075}, {'title': \"Python 3.12: What's new - Medium\", 'url': 'https://medium.com/@syedyasir441/python-3-12-whats-new-bda9ad7f15b9', 'content': 'Python 3.12 comes with a bunch of welcome ergonomics improvements. Declaring generic classes, functions, and type aliases for type hinting is now as straightforward as in many statically typed languages with first-class syntactic support provided by PEP 695. Already universally loved f-strings are now even easier to use thanks to former grammar restrictions, such as preventing re-using quotes and including escape sequences inside them, lifted in PEP 701. Low overhead debugging features make [...] Python 3.12 has made significant enhancements in error messages compared to previous versions. While prior updates improved error messages, with the introduction of a PEG parser in Python 3.9 and “did you mean” semantics in Python 3.10, this release introduces further improvements:\\n\\n Added ‘stdlib’ as a source of places for “did you mean”\\n Class member “did you mean”\\n Import from syntax error “did you mean”\\n Import names “did you mean” [...] using a debugger by default for all development tasks a no-brainer. There are also new typing features, performance improvements, and standard library APIs.', 'score': 0.8832463}]\u001B[0m\n",
      "Thought:\u001B[32;1m\u001B[1;3mTeraz mam informacje o nowych funkcjach w Pythonie 3.12. \n",
      "\n",
      "Final Answer: Python to wysokopoziomowy, ogólnego przeznaczenia język programowania, który kładzie duży nacisk na czytelność kodu. Został stworzony przez Guido van Rossuma i po raz pierwszy wydany w 1991 roku. Python 3.12 wprowadza wiele nowych funkcji, w tym:\n",
      "\n",
      "1. Ulepszenia w modułach, takie jak nowa funkcjonalność w module array, która umożliwia subskrypcję.\n",
      "2. Wprowadzenie TypedDict, co pozwala na lepsze definiowanie argumentów funkcji z różnymi typami.\n",
      "3. Nowe enumy w module calendar, które poprawiają czytelność kodu.\n",
      "4. Ulepszenia w module CSV, które dają większą kontrolę nad obsługą wartości None i pustych ciągów.\n",
      "5. Ulepszone komunikaty o błędach, które są bardziej pomocne i zawierają sugestie dotyczące poprawnych nazw.\n",
      "\n",
      "Dodatkowe informacje można znaleźć w artykułach, takich jak [What's New in Python 3.12 - GeeksforGeeks](https://www.geeksforgeeks.org/python/python-3-12-new-features/) oraz [Python 3.12: What's new - Medium](https://medium.com/@syedyasir441/python-3-12-whats-new-bda9ad7f15b9).\u001B[0m\n",
      "\n",
      "\u001B[1m> Finished chain.\u001B[0m\n",
      "\n",
      "Odpowiedź:\n",
      "Python to wysokopoziomowy, ogólnego przeznaczenia język programowania, który kładzie duży nacisk na czytelność kodu. Został stworzony przez Guido van Rossuma i po raz pierwszy wydany w 1991 roku. Python 3.12 wprowadza wiele nowych funkcji, w tym:\n",
      "\n",
      "1. Ulepszenia w modułach, takie jak nowa funkcjonalność w module array, która umożliwia subskrypcję.\n",
      "2. Wprowadzenie TypedDict, co pozwala na lepsze definiowanie argumentów funkcji z różnymi typami.\n",
      "3. Nowe enumy w module calendar, które poprawiają czytelność kodu.\n",
      "4. Ulepszenia w module CSV, które dają większą kontrolę nad obsługą wartości None i pustych ciągów.\n",
      "5. Ulepszone komunikaty o błędach, które są bardziej pomocne i zawierają sugestie dotyczące poprawnych nazw.\n",
      "\n",
      "Dodatkowe informacje można znaleźć w artykułach, takich jak [What's New in Python 3.12 - GeeksforGeeks](https://www.geeksforgeeks.org/python/python-3-12-new-features/) oraz [Python 3.12: What's new - Medium](https://medium.com/@syedyasir441/python-3-12-whats-new-bda9ad7f15b9).\n"
     ]
    }
   ],
   "execution_count": 14
  }
 ],
 "metadata": {
  "kernelspec": {
   "display_name": "Python 3",
   "language": "python",
   "name": "python3"
  },
  "language_info": {
   "codemirror_mode": {
    "name": "ipython",
    "version": 2
   },
   "file_extension": ".py",
   "mimetype": "text/x-python",
   "name": "python",
   "nbconvert_exporter": "python",
   "pygments_lexer": "ipython2",
   "version": "2.7.6"
  }
 },
 "nbformat": 4,
 "nbformat_minor": 5
}
