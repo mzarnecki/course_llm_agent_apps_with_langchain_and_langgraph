{
 "cells": [
  {
   "metadata": {},
   "cell_type": "markdown",
   "source": [
    "## LangChain tools\n",
    "Tools w LangChain to zewnętrzne funkcje lub usługi (np. wyszukiwarka, kalkulator, API), które agent może wywoływać podczas rozwiązywania zadań, aby rozszerzyć swoje możliwości poza samo generowanie tekstu."
   ],
   "id": "2f7caf7e6169820c"
  },
  {
   "metadata": {},
   "cell_type": "markdown",
   "source": "### Instalacja bibliotek",
   "id": "38b51cca1e0db21a"
  },
  {
   "cell_type": "code",
   "id": "initial_id",
   "metadata": {
    "collapsed": true,
    "ExecuteTime": {
     "end_time": "2025-10-11T07:48:41.408329Z",
     "start_time": "2025-10-11T07:48:40.021159Z"
    }
   },
   "source": "!pip install -q langchain langchain-openai python-dotenv",
   "outputs": [],
   "execution_count": 3
  },
  {
   "metadata": {
    "ExecuteTime": {
     "end_time": "2025-10-11T07:48:41.420430Z",
     "start_time": "2025-10-11T07:48:41.415962Z"
    }
   },
   "cell_type": "code",
   "source": [
    "from dotenv import load_dotenv\n",
    "load_dotenv()\n",
    "\n",
    "from langchain_openai import ChatOpenAI\n",
    "\n",
    "llm = ChatOpenAI(model=\"gpt-4o-mini\", temperature=0)\n",
    "print(\"Model gotowy.\")\n"
   ],
   "id": "57249b984cb68d26",
   "outputs": [
    {
     "name": "stdout",
     "output_type": "stream",
     "text": [
      "Model gotowy.\n"
     ]
    }
   ],
   "execution_count": 4
  },
  {
   "metadata": {},
   "cell_type": "markdown",
   "source": "### Proste narzędzie (kalkulator)",
   "id": "33ba821890955238"
  },
  {
   "metadata": {
    "ExecuteTime": {
     "end_time": "2025-10-11T07:48:42.187749Z",
     "start_time": "2025-10-11T07:48:42.172574Z"
    }
   },
   "cell_type": "code",
   "source": [
    "from langchain.tools import tool\n",
    "\n",
    "@tool\n",
    "def multiply_numbers(x: int, y: int) -> int:\n",
    "    \"\"\"Mnoży dwie liczby całkowite.\"\"\"\n",
    "    return x * y\n",
    "\n",
    "print(multiply_numbers.invoke({\"x\": 6, \"y\": 7}))\n"
   ],
   "id": "ca86ba83e37a7ea1",
   "outputs": [
    {
     "name": "stdout",
     "output_type": "stream",
     "text": [
      "42\n"
     ]
    }
   ],
   "execution_count": 5
  },
  {
   "metadata": {},
   "cell_type": "markdown",
   "source": "### Użycie narzędzia z LLM",
   "id": "7b397b1905c834a4"
  },
  {
   "metadata": {
    "ExecuteTime": {
     "end_time": "2025-10-11T07:48:51.585320Z",
     "start_time": "2025-10-11T07:48:46.141334Z"
    }
   },
   "cell_type": "code",
   "source": [
    "from langchain.agents import initialize_agent, AgentType\n",
    "\n",
    "tools = [multiply_numbers]\n",
    "\n",
    "agent = initialize_agent(\n",
    "    tools=tools,\n",
    "    llm=llm,\n",
    "    agent=AgentType.STRUCTURED_CHAT_ZERO_SHOT_REACT_DESCRIPTION,\n",
    "    verbose=True\n",
    ")\n",
    "\n",
    "# Model sam zdecyduje, że musi użyć multiply_numbers\n",
    "agent.run(\"Ile wynosi dwukrotność liczby ludzi na Ziemi?\")\n"
   ],
   "id": "e25812a37df2a7",
   "outputs": [
    {
     "name": "stderr",
     "output_type": "stream",
     "text": [
      "/tmp/ipykernel_11317/1539811230.py:5: LangChainDeprecationWarning: LangChain agents will continue to be supported, but it is recommended for new use cases to be built with LangGraph. LangGraph offers a more flexible and full-featured framework for building agents, including support for tool-calling, persistence of state, and human-in-the-loop workflows. For details, refer to the `LangGraph documentation <https://langchain-ai.github.io/langgraph/>`_ as well as guides for `Migrating from AgentExecutor <https://python.langchain.com/docs/how_to/migrate_agent/>`_ and LangGraph's `Pre-built ReAct agent <https://langchain-ai.github.io/langgraph/how-tos/create-react-agent/>`_.\n",
      "  agent = initialize_agent(\n",
      "/tmp/ipykernel_11317/1539811230.py:13: LangChainDeprecationWarning: The method `Chain.run` was deprecated in langchain 0.1.0 and will be removed in 1.0. Use :meth:`~invoke` instead.\n",
      "  agent.run(\"Ile wynosi dwukrotność liczby ludzi na Ziemi?\")\n"
     ]
    },
    {
     "name": "stdout",
     "output_type": "stream",
     "text": [
      "\n",
      "\n",
      "\u001B[1m> Entering new AgentExecutor chain...\u001B[0m\n",
      "\u001B[32;1m\u001B[1;3mThought: Najpierw muszę ustalić aktualną liczbę ludzi na Ziemi. Szacuje się, że liczba ta wynosi około 8 miliardów. Następnie obliczę dwukrotność tej liczby.\n",
      "\n",
      "Action:\n",
      "```\n",
      "{\n",
      "  \"action\": \"multiply_numbers\",\n",
      "  \"action_input\": {\n",
      "    \"x\": 8,\n",
      "    \"y\": 2\n",
      "  }\n",
      "}\n",
      "```\n",
      "\u001B[0m\n",
      "Observation: \u001B[36;1m\u001B[1;3m16\u001B[0m\n",
      "Thought:\u001B[32;1m\u001B[1;3mDwukrotność liczby ludzi na Ziemi, która wynosi około 8 miliardów, to 16 miliardów. \n",
      "\n",
      "Action:\n",
      "```\n",
      "{\n",
      "  \"action\": \"Final Answer\",\n",
      "  \"action_input\": \"Dwukrotność liczby ludzi na Ziemi wynosi 16 miliardów.\"\n",
      "}\n",
      "```\n",
      "\u001B[0m\n",
      "\n",
      "\u001B[1m> Finished chain.\u001B[0m\n"
     ]
    },
    {
     "data": {
      "text/plain": [
       "'Dwukrotność liczby ludzi na Ziemi wynosi 16 miliardów.'"
      ]
     },
     "execution_count": 6,
     "metadata": {},
     "output_type": "execute_result"
    }
   ],
   "execution_count": 6
  },
  {
   "metadata": {},
   "cell_type": "markdown",
   "source": "### Kolejne narzędzie (prosta baza wiedzy)",
   "id": "84c1f1d4b9041164"
  },
  {
   "metadata": {
    "ExecuteTime": {
     "end_time": "2025-10-11T07:53:09.962863Z",
     "start_time": "2025-10-11T07:53:06.781015Z"
    }
   },
   "cell_type": "code",
   "source": [
    "@tool\n",
    "def company_info(name: str) -> str:\n",
    "    \"\"\"Zwraca podstawowe informacje o firmie na podstawie nazwy.\"\"\"\n",
    "    companies = {\n",
    "        \"OpenAI\": \"Firma zajmująca się sztuczną inteligencją, twórca ChatGPT.\",\n",
    "        \"LangChain\": \"Biblioteka ułatwiająca budowanie aplikacji z modelami językowymi.\",\n",
    "        \"Tesla\": \"Producent samochodów elektrycznych i baterii.\"\n",
    "    }\n",
    "    return companies.get(name, \"Nie znam tej firmy.\")\n",
    "\n",
    "tools = [company_info]\n",
    "agent = initialize_agent(\n",
    "    tools=tools,\n",
    "    llm=llm,\n",
    "    agent=AgentType.ZERO_SHOT_REACT_DESCRIPTION,\n",
    "    verbose=True\n",
    ")\n",
    "\n",
    "agent.run(\"Powiedz mi, czym zajmuje się firma Tesla.\")\n"
   ],
   "id": "b6fe79b9294dd888",
   "outputs": [
    {
     "name": "stdout",
     "output_type": "stream",
     "text": [
      "\n",
      "\n",
      "\u001B[1m> Entering new AgentExecutor chain...\u001B[0m\n",
      "\u001B[32;1m\u001B[1;3mMuszę uzyskać podstawowe informacje o firmie Tesla, aby dowiedzieć się, czym się zajmuje.  \n",
      "Action: company_info  \n",
      "Action Input: \"Tesla\"  \u001B[0m\n",
      "Observation: \u001B[36;1m\u001B[1;3mProducent samochodów elektrycznych i baterii.\u001B[0m\n",
      "Thought:\u001B[32;1m\u001B[1;3mI now know the final answer  \n",
      "Final Answer: Firma Tesla zajmuje się produkcją samochodów elektrycznych i baterii.\u001B[0m\n",
      "\n",
      "\u001B[1m> Finished chain.\u001B[0m\n"
     ]
    },
    {
     "data": {
      "text/plain": [
       "'Firma Tesla zajmuje się produkcją samochodów elektrycznych i baterii.'"
      ]
     },
     "execution_count": 7,
     "metadata": {},
     "output_type": "execute_result"
    }
   ],
   "execution_count": 7
  },
  {
   "metadata": {},
   "cell_type": "markdown",
   "source": [
    "### Dostępne tool w LangChain\n",
    "Lista dostępnych narzędzi: https://python.langchain.com/docs/integrations/tools/"
   ],
   "id": "98218ad0aea0d5e4"
  },
  {
   "metadata": {
    "ExecuteTime": {
     "end_time": "2025-10-11T03:50:13.093910Z",
     "start_time": "2025-10-11T03:50:09.971401Z"
    }
   },
   "cell_type": "code",
   "source": "!pip install wikipedia tavily-python",
   "id": "d0b0ce62bcf0fbd9",
   "outputs": [
    {
     "name": "stdout",
     "output_type": "stream",
     "text": [
      "Collecting wikipedia\r\n",
      "  Using cached wikipedia-1.4.0.tar.gz (27 kB)\r\n",
      "  Preparing metadata (setup.py) ... \u001B[?25ldone\r\n",
      "\u001B[?25hCollecting tavily-python\r\n",
      "  Downloading tavily_python-0.7.12-py3-none-any.whl.metadata (7.5 kB)\r\n",
      "Requirement already satisfied: beautifulsoup4 in /home/michal/.local/lib/python3.13/site-packages (from wikipedia) (4.13.5)\r\n",
      "Requirement already satisfied: requests<3.0.0,>=2.0.0 in /home/michal/anaconda3/lib/python3.13/site-packages (from wikipedia) (2.32.5)\r\n",
      "Requirement already satisfied: charset_normalizer<4,>=2 in /home/michal/anaconda3/lib/python3.13/site-packages (from requests<3.0.0,>=2.0.0->wikipedia) (3.3.2)\r\n",
      "Requirement already satisfied: idna<4,>=2.5 in /home/michal/anaconda3/lib/python3.13/site-packages (from requests<3.0.0,>=2.0.0->wikipedia) (3.7)\r\n",
      "Requirement already satisfied: urllib3<3,>=1.21.1 in /home/michal/anaconda3/lib/python3.13/site-packages (from requests<3.0.0,>=2.0.0->wikipedia) (2.5.0)\r\n",
      "Requirement already satisfied: certifi>=2017.4.17 in /home/michal/anaconda3/lib/python3.13/site-packages (from requests<3.0.0,>=2.0.0->wikipedia) (2025.8.3)\r\n",
      "Requirement already satisfied: tiktoken>=0.5.1 in /home/michal/anaconda3/lib/python3.13/site-packages (from tavily-python) (0.11.0)\r\n",
      "Requirement already satisfied: httpx in /home/michal/.local/lib/python3.13/site-packages (from tavily-python) (0.28.1)\r\n",
      "Requirement already satisfied: regex>=2022.1.18 in /home/michal/anaconda3/lib/python3.13/site-packages (from tiktoken>=0.5.1->tavily-python) (2024.11.6)\r\n",
      "Requirement already satisfied: soupsieve>1.2 in /home/michal/.local/lib/python3.13/site-packages (from beautifulsoup4->wikipedia) (2.7)\r\n",
      "Requirement already satisfied: typing-extensions>=4.0.0 in /home/michal/anaconda3/lib/python3.13/site-packages (from beautifulsoup4->wikipedia) (4.15.0)\r\n",
      "Requirement already satisfied: anyio in /home/michal/.local/lib/python3.13/site-packages (from httpx->tavily-python) (4.10.0)\r\n",
      "Requirement already satisfied: httpcore==1.* in /home/michal/.local/lib/python3.13/site-packages (from httpx->tavily-python) (1.0.9)\r\n",
      "Requirement already satisfied: h11>=0.16 in /home/michal/.local/lib/python3.13/site-packages (from httpcore==1.*->httpx->tavily-python) (0.16.0)\r\n",
      "Requirement already satisfied: sniffio>=1.1 in /home/michal/.local/lib/python3.13/site-packages (from anyio->httpx->tavily-python) (1.3.1)\r\n",
      "Downloading tavily_python-0.7.12-py3-none-any.whl (15 kB)\r\n",
      "Building wheels for collected packages: wikipedia\r\n",
      "\u001B[33m  DEPRECATION: Building 'wikipedia' using the legacy setup.py bdist_wheel mechanism, which will be removed in a future version. pip 25.3 will enforce this behaviour change. A possible replacement is to use the standardized build interface by setting the `--use-pep517` option, (possibly combined with `--no-build-isolation`), or adding a `pyproject.toml` file to the source tree of 'wikipedia'. Discussion can be found at https://github.com/pypa/pip/issues/6334\u001B[0m\u001B[33m\r\n",
      "\u001B[0m  Building wheel for wikipedia (setup.py) ... \u001B[?25ldone\r\n",
      "\u001B[?25h  Created wheel for wikipedia: filename=wikipedia-1.4.0-py3-none-any.whl size=11757 sha256=d3adbc107029e4347a175b213ffeeaad88fb70f5e2a2849969e93139b4233e22\r\n",
      "  Stored in directory: /home/michal/.cache/pip/wheels/79/1d/c8/b64e19423cc5a2a339450ea5d145e7c8eb3d4aa2b150cde33b\r\n",
      "Successfully built wikipedia\r\n",
      "Installing collected packages: wikipedia, tavily-python\r\n",
      "\u001B[2K   \u001B[90m━━━━━━━━━━━━━━━━━━━━━━━━━━━━━━━━━━━━━━━━\u001B[0m \u001B[32m2/2\u001B[0m [tavily-python]\r\n",
      "\u001B[1A\u001B[2KSuccessfully installed tavily-python-0.7.12 wikipedia-1.4.0\r\n"
     ]
    }
   ],
   "execution_count": 9
  },
  {
   "metadata": {
    "ExecuteTime": {
     "end_time": "2025-10-11T07:57:00.251349Z",
     "start_time": "2025-10-11T07:56:26.158150Z"
    }
   },
   "cell_type": "code",
   "source": [
    "from langchain_community.tools.tavily_search import TavilySearchResults\n",
    "from langchain.agents import initialize_agent, AgentType\n",
    "\n",
    "# Inicjalizacja narzędzia wyszukiwarki\n",
    "# klucz API do Tavily: https://app.tavily.com/home\n",
    "search = TavilySearchResults(max_results=3)\n",
    "\n",
    "# Bezpośrednie użycie narzędzia\n",
    "query = \"Najnowsze wiadomości o premierze Polski\"\n",
    "results = search.invoke(query)\n",
    "\n",
    "print(f\"Wyniki wyszukiwania dla zapytania: '{query}'\")\n",
    "for i, result in enumerate(results, 1):\n",
    "    print(f\"\\n{i}. {result.get('title', 'Brak tytułu')}\")\n",
    "    print(f\"   URL: {result.get('url', 'Brak URL')}\")\n",
    "    print(f\"   Treść: {result.get('content', 'Brak treści')[:200]}...\")\n",
    "\n",
    "# Lista narzędzi z wyszukiwarką\n",
    "tools = [search]\n",
    "\n",
    "# Agent z dostępem do internetu\n",
    "agent_with_search = initialize_agent(\n",
    "    tools=tools,\n",
    "    llm=llm,\n",
    "    agent=AgentType.ZERO_SHOT_REACT_DESCRIPTION,\n",
    "    verbose=True\n",
    ")\n",
    "\n",
    "# Przykładowe zapytanie wymagające wyszukiwania w internecie\n",
    "response = agent_with_search.run(\n",
    "    \"Kto jest obecnym premierem Polski i ile ma lat?\"\n",
    ")\n",
    "print(f\"\\nOdpowiedź agenta:\\n{response}\")"
   ],
   "id": "95e4d4ddbca07dd8",
   "outputs": [
    {
     "name": "stderr",
     "output_type": "stream",
     "text": [
      "/tmp/ipykernel_11317/1523619035.py:6: LangChainDeprecationWarning: The class `TavilySearchResults` was deprecated in LangChain 0.3.25 and will be removed in 1.0. An updated version of the class exists in the :class:`~langchain-tavily package and should be used instead. To use it run `pip install -U :class:`~langchain-tavily` and import as `from :class:`~langchain_tavily import TavilySearch``.\n",
      "  search = TavilySearchResults(max_results=3)\n"
     ]
    },
    {
     "name": "stdout",
     "output_type": "stream",
     "text": [
      "Wyniki wyszukiwania dla zapytania: 'Najnowsze wiadomości o premierze Polski'\n",
      "\n",
      "1. Donald Tusk – najnowsze informacje w ...\n",
      "   URL: https://tvn24.pl/tagi/donald-tusk\n",
      "   Treść: Jeśli użytkownik wyrazi na to zgodę, my, nasze podmioty stowarzyszone i naszych 167 Zaufanych Partnerów IAB oraz **29** innych Zaufanych Partnerów może przechowywać dane osobowe na urządzeniu użytkown...\n",
      "\n",
      "2. Wydarzenia - Kancelaria Prezesa Rady Ministrów\n",
      "   URL: https://www.gov.pl/web/premier/wydarzenia\n",
      "   Treść: Dzisiaj kolej w Łomży staje się faktem” - powiedział premier Donald Tusk podczas wizyty na rewitalizowanej linii kolejowej nr 49 Łomża-Śniadowo. Zachodu, w tym USA, tworzyły jeden, wspólny projekt nac...\n",
      "\n",
      "3. Premier Donald Tusk zaprezentował nowy skład rządu\n",
      "   URL: https://www.gov.pl/web/premier/porzadek-bezpieczenstwo-i-przyszlosc--premier-donald-tusk-zaprezentowal-nowy-sklad-rzadu\n",
      "   Treść: Porządek, bezpieczeństwo i przyszłość - Premier Donald Tusk zaprezentował nowy skład rządu - Kancelaria Prezesa Rady Ministrów - Portal Gov.pl Mniej liczny rząd, nowe resorty, zmiany personalne i trze...\n",
      "\n",
      "\n",
      "\u001B[1m> Entering new AgentExecutor chain...\u001B[0m\n",
      "\u001B[32;1m\u001B[1;3mMuszę znaleźć aktualne informacje na temat obecnego premiera Polski oraz jego wieku. \n",
      "Action: tavily_search_results_json\n",
      "Action Input: \"obecny premier Polski 2023\"\u001B[0m\n",
      "Observation: \u001B[36;1m\u001B[1;3m[{'title': 'Trzeci rząd Donalda Tuska – Wikipedia, wolna encyklopedia', 'url': 'https://pl.wikipedia.org/wiki/Trzeci_rz%C4%85d_Donalda_Tuska', 'content': '6 listopada 2023 w orędziu Andrzej Duda ogłosił, że powoła na stanowisko dotychczasowego premiera, Mateusza Morawieckiego. Oficjalnie desygnował go na to stanowisko 13 listopada 2023, w dniu pierwszego posiedzenia Sejmu X kadencji, po wcześniejszym przyjęciu rezygnacji drugiego rządu Mateusza Morawieckiego. [...] | Polska |\\n| Skład Rady Ministrów w dniu powołania (13 grudnia 2023) |\\n| Premier | Donald Tusk |\\n| Partie | PO, PSL, NL, Polska 2050, iPL, do 2025 także Nowoczesna |\\n| Kadencja | od 13 grudnia 2023 |\\n| Poprzedni | trzeci rząd Mateusza Morawieckiego |\\n| |  |  |  --- | |  | Multimedia w Wikimedia Commons | |\\n| |  |  |  --- | |  | Wiadomości w Wikinews | | [...] 27 listopada 2023 w Pałacu Prezydenckim w Warszawie doszło do zaprzysiężenia trzeciego rządu Mateusza Morawieckiego. W wyniku nieuzyskania wotum zaufania 11 grudnia 2023, tego samego dnia premier złożył dymisję rządu, która została przyjęta przez prezydenta.', 'score': 0.8437023}, {'title': 'Premierzy Polski – Wikipedia, wolna encyklopedia', 'url': 'https://pl.wikipedia.org/wiki/Premierzy_Polski', 'content': '| (13.) |  | DonaldTusk(PO)(ur. 1957) | 11 grudnia 2023 | 13 grudnia 2023 | 12 grudnia 202311 czerwca 2025 |  |  | 644 dni | Trzeci rząd Donalda Tuska | Andrzej Duda(2015–2025) |\\n| Karol Nawrocki(od 2025) |\\n| Stan na 17 września 2025 | [...] Morawiecki (2017–2023)  Donald Tusk (od 2023) | [...] | 14 listopada 2019 | 15 listopada 2019 | 19 listopada 20194 czerwca 2020 | 13 listopada 2023 | 27 listopada 2023 | Drugi rząd Mateusza Morawieckiego | Sejm RP IX kadencji | Andrzej Duda(2015–2025) |\\n| 13 listopada 2023 | 27 listopada 2023 | 11 grudnia 2023 | 11 grudnia 2023 | 13 grudnia 2023 | Trzeci rząd Mateusza Morawieckiego | Sejm RP X kadencji | Andrzej Duda(2015–2025) |', 'score': 0.8235701}, {'title': 'Rząd premiera Donalda Tuska zaprzysiężony - Kancelaria Prezesa ...', 'url': 'https://www.gov.pl/web/premier/rzad-premiera-donalda-tuska-zaprzysiezony', 'content': '13 grudnia 2023 r. Prezydent RP Andrzej Duda powołał szefa polskiego rządu Donalda Tuska i członków nowej Rady Ministrów.\\n\\nW Pałacu Prezydenckim premier i ministrowie odebrali akty nominacji oraz objęli swoje funkcje. 12 grudnia 2023 r. w Sejmie RP Prezes Rady Ministrów Donald Tusk wygłosił exposé, w którym nakreślił realizację zadań z umowy koalicyjnej i zapowiedzianych „100 konkretów”.\\n\\nSkład Rady Ministrów:', 'score': 0.81489426}]\u001B[0m\n",
      "Thought:\u001B[32;1m\u001B[1;3mObecnym premierem Polski jest Donald Tusk, który objął urząd 13 grudnia 2023 roku. Urodził się w 1957 roku, co oznacza, że ma obecnie 66 lat. \n",
      "Final Answer: Obecnym premierem Polski jest Donald Tusk, ma 66 lat.\u001B[0m\n",
      "\n",
      "\u001B[1m> Finished chain.\u001B[0m\n",
      "\n",
      "Odpowiedź agenta:\n",
      "Obecnym premierem Polski jest Donald Tusk, ma 66 lat.\n"
     ]
    }
   ],
   "execution_count": 8
  },
  {
   "metadata": {
    "ExecuteTime": {
     "end_time": "2025-10-11T08:01:22.784483Z",
     "start_time": "2025-10-11T08:01:06.952161Z"
    }
   },
   "cell_type": "code",
   "source": [
    "from langchain_community.tools import WikipediaQueryRun\n",
    "from langchain_community.utilities import WikipediaAPIWrapper\n",
    "\n",
    "# Inicjalizacja narzędzia Wikipedia\n",
    "wikipedia = WikipediaQueryRun(api_wrapper=WikipediaAPIWrapper())\n",
    "\n",
    "# Bezpośrednie użycie\n",
    "wiki_result = wikipedia.run(\"Python programming language\")\n",
    "print(f\"Wikipedia - Python:\\n{wiki_result[:300]}...\")\n",
    "\n",
    "### Agent z wieloma narzędziami\n",
    "# Agent z dostępem do wielu źródeł informacji\n",
    "tools_extended = [search, wikipedia, company_info]\n",
    "\n",
    "agent_multi_tool = initialize_agent(\n",
    "    tools=tools_extended,\n",
    "    llm=llm,\n",
    "    agent=AgentType.ZERO_SHOT_REACT_DESCRIPTION,\n",
    "    verbose=True\n",
    ")\n",
    "\n",
    "# Zapytanie wymagające użycia różnych narzędzi\n",
    "response = agent_multi_tool.run(\n",
    "    \"Znajdź informacje o Pythonie w Wikipedii, a następnie wyszukaj \"\n",
    "    \"najnowsze artykuły o nowych funkcjach w Python 3.13\"\n",
    ")\n",
    "print(f\"\\nOdpowiedź:\\n{response}\")"
   ],
   "id": "54225e707ca3083c",
   "outputs": [
    {
     "name": "stdout",
     "output_type": "stream",
     "text": [
      "Wikipedia - Python:\n",
      "Page: Python (programming language)\n",
      "Summary: Python is a high-level, general-purpose programming language. Its design philosophy emphasizes code readability with the use of significant indentation.\n",
      "Python is dynamically type-checked and garbage-collected. It supports multiple programming paradigms, ...\n",
      "\n",
      "\n",
      "\u001B[1m> Entering new AgentExecutor chain...\u001B[0m\n",
      "\u001B[32;1m\u001B[1;3mMuszę najpierw znaleźć ogólne informacje o Pythonie w Wikipedii, a następnie poszukać najnowszych artykułów dotyczących nowych funkcji w Python 3.13. \n",
      "\n",
      "Action: wikipedia  \n",
      "Action Input: Python (programming language)  \u001B[0m\n",
      "Observation: \u001B[33;1m\u001B[1;3mPage: Python (programming language)\n",
      "Summary: Python is a high-level, general-purpose programming language. Its design philosophy emphasizes code readability with the use of significant indentation.\n",
      "Python is dynamically type-checked and garbage-collected. It supports multiple programming paradigms, including structured (particularly procedural), object-oriented and functional programming.\n",
      "Guido van Rossum began working on Python in the late 1980s as a successor to the ABC programming language. Python 3.0, released in 2008, was a major revision and not completely backward-compatible with earlier versions. Recent versions, such as Python 3.13, 3.12 and older (and 3.14), have added capabilities and keywords for typing (and more; e.g. increasing speed); helping with (optional) static typing. Currently only versions in the 3.x series are supported.\n",
      "Python consistently ranks as one of the most popular programming languages, and it has gained widespread use in the machine learning community. It is widely taught as an introductory programming language.\n",
      "\n",
      "\n",
      "\n",
      "Page: Outline of the Python programming language\n",
      "Summary: The following outline is provided as an overview of and topical guide to Python:\n",
      "Python is a general-purpose, interpreted, object-oriented, multi-paradigm, and dynamically typed programming language known for its readable syntax and broad standard library. Python was created by Guido van Rossum and first released in 1991. It emphasizes code readability and developer productivity.\n",
      "\n",
      "\n",
      "\n",
      "Page: History of Python\n",
      "Summary: The programming language Python was conceived in the late 1980s, and its implementation was started in December 1989 by Guido van Rossum at CWI in the Netherlands as a successor to ABC capable of exception handling and interfacing with the Amoeba operating system. Van Rossum was Python's principal author and had a central role in deciding the direction of Python (as reflected in the title given to him by the Python community, Benevolent Dictator for Life (BDFL)) until stepping down as leader on July 12, 2018. Python was named after the BBC TV show Monty Python's Flying Circus.\n",
      "Python 2.0 was released on October 16, 2000, with many major new features, such as list comprehensions, cycle-detecting garbage collector, reference counting, memory management and support for Unicode, along with a change to the development process itself, with a shift to a more transparent and community-backed process.\n",
      "Python 3.0, a major, backwards-incompatible release, was released on December 3, 2008 after a long period of testing. Many of its major features were also backported to the backwards-compatible Python versions 2.6 and 2.7 until support for Python 2 finally ceased at the beginning of 2020. Releases of Python 3 include the 2to3 utility, which automates the translation of Python 2 code to Python 3.\n",
      "As of 9 August 2025, Python 3.13.6 is the latest stable release. This version currently receives full bug-fix and security updates, while Python 3.12—released in October 2023—had active bug-fix support only until April 2025, and since then only security fixes. Python 3.9 is the oldest supported version of Python (albeit in the 'security support' phase), because Python 3.8 has become an end-of-life product.\u001B[0m\n",
      "Thought:\u001B[32;1m\u001B[1;3mMuszę teraz wyszukać najnowsze artykuły dotyczące nowych funkcji w Python 3.13. \n",
      "\n",
      "Action: tavily_search_results_json  \n",
      "Action Input: Python 3.13 new features  \u001B[0m\n",
      "Observation: \u001B[36;1m\u001B[1;3m[{'title': 'Python 3.13 New Features - GeeksforGeeks', 'url': 'https://www.geeksforgeeks.org/python/python-3-13-new-features/', 'content': 'Python 3.13 introduces significant improvements to the interactive interpreter along with enhanced error messages. The new interactive interpreter now supports colorization, providing a more visually appealing experience. This color support extends to tracebacks and doctest output as well. Users have the option to disable colorization through the PYTHON_COLORS and NO_COLOR environment variables. [...] 7. Improved Error Reporting and Guidance\\n\\nError tracking in Python has been improved in the latest version. The interpreter now colorizes error messages when displaying tracebacks by default. In another feature, the error message suggests the correct keyword argument, if an incorrect keyword was passed to a function.\\n\\nSometimes when a script has the same name as a standard library module, Python now provides a detailed error message and suggests renaming the module for better understanding. [...] Python\\n```python3\\n>>> sys.version_info\\nTraceback (most recent call last):\\n  File \"<stdin>\", line 1, in <module>\\nNameError: name \\'sys\\' is not defined. Did you forget to import \\'sys\\'?\\n```\\n\\n5. Interactive Shell Makeover (New REPL)\\n\\nPython 3.13 introduces a much-anticipated improvement for interactive development, a brand new REPL (Read-Eval-Print Loop). This interactive shell makeover aims to provide a more user-friendly and informative experience for Python programmers.\\n\\n### Features of New REPL', 'score': 0.921929}, {'title': \"Python 3.13's best new features - Reddit\", 'url': 'https://www.reddit.com/r/Python/comments/1fyeo1g/python_313s_best_new_features/', 'content': \"Python 3.13's best new features : r/Python\\n\\nSkip to main contentPython 3.13's best new features : r/Python\\n\\nOpen menu Open navigation copying code typed in the REPL is much easier\\n\\n   Little niceities: `exit` exits, `Ctrl-L` clears the screen even on Windows, hitting tab inserts 4 spaces\\n\\nThe other 2 big improvements that many Python users will notice:\\n\\n   Virtual environments are now git-ignored by default (they have their own self-ignoring `.gitignore` file, which is brilliant) [...] PDB got 2 fixes that make it much less frustrating: breakpoints start _at_ the breakpoint and not after and running Python expressions works even when they start with `help`, `list`, `next`, or another PDB command\\n\\nThese are just my takes on the widely impactful new features, after a couple months of playing with 3.13. I'd love to hear _your take_ on what the best new features are.\\n\\n Read more \\n\\n Archived post. New comments cannot be posted and votes cannot be cast. \\n\\n Share [...] Top new features in Python 3.13\\n\\nPython 3.13 support status for PyInstaller\\n\\nTensorFlow compatibility with Python 3.13\\n\\nPandas version compatibility with Python 3.13\\n\\nPerformance benchmarks Python 3.13 vs 3.12\\n\\nNew to Reddit? \\nCreate your account and connect with a world of communities.\\n\\nContinue with Google Continue with Google. Opens in new tab\\n\\n Continue with Email \\n\\n Continue With Phone Number\", 'score': 0.9092728}, {'title': 'Python Release Python 3.13.4', 'url': 'https://www.python.org/downloads/release/python-3134/', 'content': 'Python 3.13 is the newest major release of the Python programming language, and it contains many new features and optimizations compared to Python 3.12. 3.13.4 is the latest maintenance release, containing a few important security fixes as well as around 300 bugfixes, build improvements and documentation changes since 3.13.3.\\n\\nNOTE: This release contains several unintended regressions, which are fixed in the next 3.13 release, 3.13.5. Using the latest 3.13 instead of this one is recommended.', 'score': 0.9008183}]\u001B[0m\n",
      "Thought:\u001B[32;1m\u001B[1;3mZnalazłem ogólne informacje o Pythonie oraz najnowsze artykuły dotyczące nowych funkcji w Python 3.13. \n",
      "\n",
      "Final Answer: Python to wysokopoziomowy, ogólnego przeznaczenia język programowania, który kładzie duży nacisk na czytelność kodu. Ostatnia wersja, Python 3.13, wprowadza szereg nowych funkcji, w tym poprawioną interaktywną powłokę (REPL), lepsze raportowanie błędów oraz domyślną kolorystykę komunikatów o błędach. Dodatkowo, wirtualne środowiska są teraz domyślnie ignorowane przez Git. Więcej informacji można znaleźć w artykułach na GeeksforGeeks [tutaj](https://www.geeksforgeeks.org/python/python-3-13-new-features/) oraz na Reddit [tutaj](https://www.reddit.com/r/Python/comments/1fyeo1g/python_313s_best_new_features/).\u001B[0m\n",
      "\n",
      "\u001B[1m> Finished chain.\u001B[0m\n",
      "\n",
      "Odpowiedź:\n",
      "Python to wysokopoziomowy, ogólnego przeznaczenia język programowania, który kładzie duży nacisk na czytelność kodu. Ostatnia wersja, Python 3.13, wprowadza szereg nowych funkcji, w tym poprawioną interaktywną powłokę (REPL), lepsze raportowanie błędów oraz domyślną kolorystykę komunikatów o błędach. Dodatkowo, wirtualne środowiska są teraz domyślnie ignorowane przez Git. Więcej informacji można znaleźć w artykułach na GeeksforGeeks [tutaj](https://www.geeksforgeeks.org/python/python-3-13-new-features/) oraz na Reddit [tutaj](https://www.reddit.com/r/Python/comments/1fyeo1g/python_313s_best_new_features/).\n"
     ]
    }
   ],
   "execution_count": 9
  }
 ],
 "metadata": {
  "kernelspec": {
   "display_name": "Python 3",
   "language": "python",
   "name": "python3"
  },
  "language_info": {
   "codemirror_mode": {
    "name": "ipython",
    "version": 2
   },
   "file_extension": ".py",
   "mimetype": "text/x-python",
   "name": "python",
   "nbconvert_exporter": "python",
   "pygments_lexer": "ipython2",
   "version": "2.7.6"
  }
 },
 "nbformat": 4,
 "nbformat_minor": 5
}
