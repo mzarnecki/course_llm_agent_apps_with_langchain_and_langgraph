{
 "cells": [
  {
   "metadata": {},
   "cell_type": "markdown",
   "source": [
    "## LangChain tools\n",
    "Tools w LangChain to zewnętrzne funkcje lub usługi (np. wyszukiwarka, kalkulator, API), które agent może wywoływać podczas rozwiązywania zadań, aby rozszerzyć swoje możliwości poza samo generowanie tekstu."
   ],
   "id": "2f7caf7e6169820c"
  },
  {
   "cell_type": "code",
   "id": "initial_id",
   "metadata": {
    "collapsed": true,
    "ExecuteTime": {
     "end_time": "2025-08-31T15:05:40.393117Z",
     "start_time": "2025-08-31T15:05:37.768372Z"
    }
   },
   "source": "!pip install -q langchain langchain-openai python-dotenv",
   "outputs": [],
   "execution_count": 5
  },
  {
   "metadata": {
    "ExecuteTime": {
     "end_time": "2025-08-31T15:27:09.269324Z",
     "start_time": "2025-08-31T15:27:08.796603Z"
    }
   },
   "cell_type": "code",
   "source": [
    "import os\n",
    "from dotenv import load_dotenv\n",
    "load_dotenv()\n",
    "\n",
    "from langchain_openai import ChatOpenAI\n",
    "\n",
    "llm = ChatOpenAI(model=\"gpt-4o-mini\", temperature=0)\n",
    "print(\"Model gotowy.\")\n"
   ],
   "id": "57249b984cb68d26",
   "outputs": [
    {
     "name": "stdout",
     "output_type": "stream",
     "text": [
      "Model gotowy.\n"
     ]
    }
   ],
   "execution_count": 5
  },
  {
   "metadata": {},
   "cell_type": "markdown",
   "source": "### Proste narzędzie (kalkulator)",
   "id": "33ba821890955238"
  },
  {
   "metadata": {
    "ExecuteTime": {
     "end_time": "2025-08-31T15:27:10.278330Z",
     "start_time": "2025-08-31T15:27:10.272872Z"
    }
   },
   "cell_type": "code",
   "source": [
    "from langchain.tools import tool\n",
    "\n",
    "@tool\n",
    "def multiply_numbers(x: int, y: int) -> int:\n",
    "    \"\"\"Mnoży dwie liczby całkowite.\"\"\"\n",
    "    return x * y\n",
    "\n",
    "print(multiply_numbers.invoke({\"x\": 6, \"y\": 7}))\n"
   ],
   "id": "ca86ba83e37a7ea1",
   "outputs": [
    {
     "name": "stdout",
     "output_type": "stream",
     "text": [
      "42\n"
     ]
    }
   ],
   "execution_count": 6
  },
  {
   "metadata": {},
   "cell_type": "markdown",
   "source": "### Użycie narzędzia z LLM",
   "id": "7b397b1905c834a4"
  },
  {
   "metadata": {
    "ExecuteTime": {
     "end_time": "2025-08-31T15:27:14.875890Z",
     "start_time": "2025-08-31T15:27:11.962110Z"
    }
   },
   "cell_type": "code",
   "source": [
    "from langchain.agents import initialize_agent, AgentType\n",
    "\n",
    "tools = [multiply_numbers]\n",
    "#własne API jako tool\n",
    "agent = initialize_agent(\n",
    "    tools=tools,\n",
    "    llm=llm,\n",
    "    agent=AgentType.STRUCTURED_CHAT_ZERO_SHOT_REACT_DESCRIPTION,\n",
    "    verbose=True\n",
    ")\n",
    "\n",
    "# Model sam zdecyduje, że musi użyć multiply_numbers\n",
    "agent.run(\"Policz 23 * 7\")\n"
   ],
   "id": "e25812a37df2a7",
   "outputs": [
    {
     "name": "stderr",
     "output_type": "stream",
     "text": [
      "/tmp/ipykernel_7758/3603958280.py:5: LangChainDeprecationWarning: LangChain agents will continue to be supported, but it is recommended for new use cases to be built with LangGraph. LangGraph offers a more flexible and full-featured framework for building agents, including support for tool-calling, persistence of state, and human-in-the-loop workflows. For details, refer to the `LangGraph documentation <https://langchain-ai.github.io/langgraph/>`_ as well as guides for `Migrating from AgentExecutor <https://python.langchain.com/docs/how_to/migrate_agent/>`_ and LangGraph's `Pre-built ReAct agent <https://langchain-ai.github.io/langgraph/how-tos/create-react-agent/>`_.\n",
      "  agent = initialize_agent(\n",
      "/tmp/ipykernel_7758/3603958280.py:13: LangChainDeprecationWarning: The method `Chain.run` was deprecated in langchain 0.1.0 and will be removed in 1.0. Use :meth:`~invoke` instead.\n",
      "  agent.run(\"Policz 23 * 7\")\n"
     ]
    },
    {
     "name": "stdout",
     "output_type": "stream",
     "text": [
      "\n",
      "\n",
      "\u001B[1m> Entering new AgentExecutor chain...\u001B[0m\n",
      "\u001B[32;1m\u001B[1;3mThought: I need to multiply the numbers 23 and 7 to find the answer.\n",
      "Action:\n",
      "```\n",
      "{\n",
      "  \"action\": \"multiply_numbers\",\n",
      "  \"action_input\": {\n",
      "    \"x\": 23,\n",
      "    \"y\": 7\n",
      "  }\n",
      "}\n",
      "```\n",
      "\u001B[0m\n",
      "Observation: \u001B[36;1m\u001B[1;3m161\u001B[0m\n",
      "Thought:\u001B[32;1m\u001B[1;3mI know what to respond. \n",
      "Action:\n",
      "```\n",
      "{\n",
      "  \"action\": \"Final Answer\",\n",
      "  \"action_input\": \"23 * 7 = 161\"\n",
      "}\n",
      "```\n",
      "\u001B[0m\n",
      "\n",
      "\u001B[1m> Finished chain.\u001B[0m\n"
     ]
    },
    {
     "data": {
      "text/plain": [
       "'23 * 7 = 161'"
      ]
     },
     "execution_count": 7,
     "metadata": {},
     "output_type": "execute_result"
    }
   ],
   "execution_count": 7
  },
  {
   "metadata": {},
   "cell_type": "markdown",
   "source": "### Kolejne narzędzie (prosta baza wiedzy)",
   "id": "84c1f1d4b9041164"
  },
  {
   "metadata": {
    "ExecuteTime": {
     "end_time": "2025-08-31T15:27:20.143357Z",
     "start_time": "2025-08-31T15:27:16.138768Z"
    }
   },
   "cell_type": "code",
   "source": [
    "@tool\n",
    "def company_info(name: str) -> str:\n",
    "    \"\"\"Zwraca podstawowe informacje o firmie na podstawie nazwy.\"\"\"\n",
    "    companies = {\n",
    "        \"OpenAI\": \"Firma zajmująca się sztuczną inteligencją, twórca ChatGPT.\",\n",
    "        \"LangChain\": \"Biblioteka ułatwiająca budowanie aplikacji z modelami językowymi.\",\n",
    "        \"Tesla\": \"Producent samochodów elektrycznych i baterii.\"\n",
    "    }\n",
    "    return companies.get(name, \"Nie znam tej firmy.\")\n",
    "\n",
    "tools = [company_info]\n",
    "agent = initialize_agent(\n",
    "    tools=tools,\n",
    "    llm=llm,\n",
    "    agent=AgentType.ZERO_SHOT_REACT_DESCRIPTION,\n",
    "    verbose=True\n",
    ")\n",
    "\n",
    "agent.run(\"Powiedz mi, czym zajmuje się firma Tesla.\")\n"
   ],
   "id": "b6fe79b9294dd888",
   "outputs": [
    {
     "name": "stdout",
     "output_type": "stream",
     "text": [
      "\n",
      "\n",
      "\u001B[1m> Entering new AgentExecutor chain...\u001B[0m\n",
      "\u001B[32;1m\u001B[1;3mMuszę uzyskać podstawowe informacje o firmie Tesla, aby dowiedzieć się, czym się zajmuje.  \n",
      "Action: company_info  \n",
      "Action Input: \"Tesla\"  \u001B[0m\n",
      "Observation: \u001B[36;1m\u001B[1;3mProducent samochodów elektrycznych i baterii.\u001B[0m\n",
      "Thought:\u001B[32;1m\u001B[1;3mI now know the final answer  \n",
      "Final Answer: Firma Tesla zajmuje się produkcją samochodów elektrycznych i baterii.\u001B[0m\n",
      "\n",
      "\u001B[1m> Finished chain.\u001B[0m\n"
     ]
    },
    {
     "data": {
      "text/plain": [
       "'Firma Tesla zajmuje się produkcją samochodów elektrycznych i baterii.'"
      ]
     },
     "execution_count": 8,
     "metadata": {},
     "output_type": "execute_result"
    }
   ],
   "execution_count": 8
  }
 ],
 "metadata": {
  "kernelspec": {
   "display_name": "Python 3",
   "language": "python",
   "name": "python3"
  },
  "language_info": {
   "codemirror_mode": {
    "name": "ipython",
    "version": 2
   },
   "file_extension": ".py",
   "mimetype": "text/x-python",
   "name": "python",
   "nbconvert_exporter": "python",
   "pygments_lexer": "ipython2",
   "version": "2.7.6"
  }
 },
 "nbformat": 4,
 "nbformat_minor": 5
}
