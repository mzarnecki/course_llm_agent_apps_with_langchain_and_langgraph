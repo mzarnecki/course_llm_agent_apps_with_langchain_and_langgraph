{
 "cells": [
  {
   "metadata": {},
   "cell_type": "markdown",
   "source": "## Zaawansowany RAG z ewaluacją i pętlą",
   "id": "4dbf17cb053b4cb6"
  },
  {
   "metadata": {},
   "cell_type": "code",
   "outputs": [],
   "execution_count": null,
   "source": [
    "from langchain_core.prompts import ChatPromptTemplate\n",
    "\n",
    "eval_prompt = ChatPromptTemplate.from_messages([\n",
    "    (\"system\", \"Oceń odpowiedź.\"),\n",
    "    (\"user\", \"Pytanie: {question}\\nOdpowiedź: {answer}\\nCzy odpowiedź odpowiada na pytanie? Odpowiedz tak/nie.\")\n",
    "])\n",
    "\n",
    "def rag_with_eval(question, max_retries=2):\n",
    "    for attempt in range(max_retries):\n",
    "        context = format_docs(retriever.get_relevant_documents(question))\n",
    "        answer = (prompt | llm | StrOutputParser()).invoke({\"context\": context, \"question\": question})\n",
    "        eval_result = (eval_prompt | llm | StrOutputParser()).invoke({\"question\": question, \"answer\": answer})\n",
    "        if \"tak\" in eval_result.lower():\n",
    "            return f\"✅ Odpowiedź zaakceptowana:\\n{answer}\"\n",
    "        print(\"❌ Odpowiedź odrzucona, ponawiam próbę...\")\n",
    "    return \"Nie udało się uzyskać poprawnej odpowiedzi.\"\n",
    "\n",
    "print(rag_with_eval(\"Co to jest RAG?\"))\n"
   ],
   "id": "ec9fa1c4e06009db"
  },
  {
   "metadata": {},
   "cell_type": "markdown",
   "source": "### budowa VectorStore (FAISS) i Retrievera",
   "id": "eb8d5442171267e3"
  },
  {
   "cell_type": "code",
   "execution_count": null,
   "id": "initial_id",
   "metadata": {
    "collapsed": true
   },
   "outputs": [],
   "source": [
    "from langchain_community.vectorstores import FAISS\n",
    "\n",
    "emb = OpenAIEmbeddings()  # wymaga OPENAI_API_KEY\n",
    "vectorstore = FAISS.from_texts(splitted, embedding=emb)\n",
    "retriever = vectorstore.as_retriever(search_kwargs={\"k\": 2})\n",
    "\n",
    "query = \"Po co używa się retrievera?\"\n",
    "context = retriever.get_relevant_documents(query)\n",
    "print(\"Znaleziony kontekst:\")\n",
    "for i, c in enumerate(context, 1):\n",
    "    print(f\"{i}.\", c.page_content)"
   ]
  },
  {
   "metadata": {},
   "cell_type": "markdown",
   "source": "### prosty łańcuch RAG (prompt + kontekst + LLM)",
   "id": "b38b755be95529a1"
  },
  {
   "metadata": {},
   "cell_type": "code",
   "outputs": [],
   "execution_count": null,
   "source": [
    "rag_prompt = ChatPromptTemplate.from_messages([\n",
    "    (\"system\", \"Udziel precyzyjnej odpowiedzi wyłącznie na podstawie KONTEKSTU. Jeśli brak danych — powiedz, że nie wiesz.\"),\n",
    "    (\"system\", \"KONTEKST:\\n{context}\"),\n",
    "    (\"user\", \"{question}\")\n",
    "])\n",
    "\n",
    "def format_docs(docs):\n",
    "    return \"\\n\\n\".join(d.page_content for d in docs)\n",
    "\n",
    "from langchain_core.runnables import RunnablePassthrough\n",
    "rag_chain = (\n",
    "    {\"context\": retriever | format_docs, \"question\": RunnablePassthrough()}\n",
    "    | rag_prompt\n",
    "    | llm\n",
    "    | StrOutputParser()\n",
    ")\n",
    "\n",
    "print(rag_chain.invoke(\"Czym jest FAISS i do czego służy?\"))"
   ],
   "id": "a500f01ecc94fa8d"
  }
 ],
 "metadata": {
  "kernelspec": {
   "display_name": "Python 3",
   "language": "python",
   "name": "python3"
  },
  "language_info": {
   "codemirror_mode": {
    "name": "ipython",
    "version": 2
   },
   "file_extension": ".py",
   "mimetype": "text/x-python",
   "name": "python",
   "nbconvert_exporter": "python",
   "pygments_lexer": "ipython2",
   "version": "2.7.6"
  }
 },
 "nbformat": 4,
 "nbformat_minor": 5
}
