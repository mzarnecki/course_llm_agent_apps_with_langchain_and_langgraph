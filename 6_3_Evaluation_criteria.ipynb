{
 "cells": [
  {
   "metadata": {
    "collapsed": true
   },
   "cell_type": "markdown",
   "source": "## Criteria evaluator",
   "id": "8843f9eae98bb3a4"
  },
  {
   "metadata": {},
   "cell_type": "markdown",
   "source": "### Criteria evaluator",
   "id": "b5e3aab86af64afa"
  },
  {
   "metadata": {},
   "cell_type": "code",
   "outputs": [],
   "execution_count": null,
   "source": [
    "from langchain.evaluation import load_evaluator\n",
    "\n",
    "# Wczytujemy evaluator kryterialny\n",
    "evaluator = load_evaluator(\"criteria\", criteria=\"correctness\")\n",
    "\n",
    "# Porównujemy odpowiedź z pytaniem\n",
    "result = evaluator.evaluate_strings(\n",
    "    prediction=\"2 + 2 = 5\",\n",
    "    input=\"Policz 2 + 2\",\n",
    "    reference=\"4\"\n",
    ")\n",
    "\n",
    "print(result)  # {'score': 1, 'reasoning': 'Odpowiedź jest błędna'}\n"
   ],
   "id": "4cfeb05a83149965"
  },
  {
   "metadata": {},
   "cell_type": "markdown",
   "source": "### Custom evaluator",
   "id": "65137568a0fcc057"
  },
  {
   "metadata": {},
   "cell_type": "code",
   "outputs": [],
   "execution_count": null,
   "source": [
    "import os\n",
    "from langsmith import Client\n",
    "from langchain_openai import ChatOpenAI\n",
    "\n",
    "os.environ[\"LANGCHAIN_TRACING_V2\"] = \"true\"\n",
    "os.environ[\"LANGCHAIN_ENDPOINT\"] = \"https://api.smith.langchain.com\"\n",
    "os.environ[\"LANGCHAIN_PROJECT\"] = \"GEMMA EVALUATIONs\"\n",
    "client = Client()\n",
    "# Inputs are provided to your model, so it know what to generate\n",
    "dataset_inputs = [\n",
    "    \"Why people don't have 3 legs?\",\n",
    "    \"Why people are not flying?\",\n",
    "]\n",
    "\n",
    "#use 1st LLM for generating texts\n",
    "llm_test= ChatOpenAI(model=\"gpt-3.5-turbo\", temperature=0.1,max_tokens=256)\n",
    "# llm_gen = ChatOpenAI(base_url=\"https://api-inference.huggingface.com/v1\", model=\"google/gemma-2b-it\",temperature=0.1,max_tokens=256)\n",
    "# and 2nd to evaluate different criteria of response generated with 1st LLM\n",
    "llm_gen = ChatOpenAI(model=\"gpt-4o\", temperature=0.1,max_tokens=256)\n",
    "\n",
    "dataset_outputs = [\n",
    "    {\"result\": llm_test.invoke(50*dataset_inputs[0])},\n",
    "    {\"result\": llm_test.invoke(50*dataset_inputs[1])},\n",
    "]\n",
    "print(dataset_outputs)"
   ],
   "id": "27480c014402c055"
  },
  {
   "metadata": {
    "ExecuteTime": {
     "end_time": "2025-09-01T06:19:51.955058Z",
     "start_time": "2025-09-01T06:19:51.264189Z"
    }
   },
   "cell_type": "code",
   "source": [
    "from langchain.smith import RunEvalConfig\n",
    "from langsmith.evaluation import EvaluationResult, run_evaluator\n",
    "\n",
    "@run_evaluator\n",
    "def custom_evaluator(run, example) -> EvaluationResult:\n",
    "    \"\"\"\n",
    "    checks if output contains specific word\n",
    "    :param run:\n",
    "    :param example:\n",
    "    :return: int\n",
    "    \"\"\"\n",
    "    generated = run.outputs[\"generations\"][0][0][\"text\"]\n",
    "    if 'human' in generated:\n",
    "        score = 1\n",
    "    else:\n",
    "        score = 0\n",
    "    return EvaluationResult(key=\"result\", score=score)"
   ],
   "id": "8023eabc8a50335e",
   "outputs": [],
   "execution_count": 1
  },
  {
   "metadata": {
    "ExecuteTime": {
     "end_time": "2025-09-01T06:19:54.017801Z",
     "start_time": "2025-09-01T06:19:54.014047Z"
    }
   },
   "cell_type": "code",
   "source": [
    "eval_config = RunEvalConfig(\n",
    "    custom_evaluators=[custom_evaluator],\n",
    "    evaluators=[\n",
    "        \"criteria\",\n",
    "        \"qa\",         #directly grade a response as \"correct\" or \"incorrect\" based on the reference answer\n",
    "        \"context_qa\", #use the provided reference context in determining correctness\n",
    "        \"cot_qa\",     #use chain of thought \"reasoning\" before determining a final verdict. This tends to lead to responses that better correlate with human labels\n",
    "        RunEvalConfig.Criteria(\"insensitivity\"),\n",
    "        RunEvalConfig.Criteria(\"relevance\"),\n",
    "        RunEvalConfig.Criteria(\"helpfulness\"),\n",
    "        RunEvalConfig.Criteria(\"maliciousness\"),\n",
    "        RunEvalConfig.Criteria(\"harmfulness\"),\n",
    "        RunEvalConfig.Criteria(\"coherence\"),\n",
    "        RunEvalConfig.Criteria(\"conciseness\"),\n",
    "        RunEvalConfig.Criteria(\"misogyny\"),\n",
    "        RunEvalConfig.Criteria(\"criminality\"),\n",
    "        RunEvalConfig.Criteria(\"controversiality\"),\n",
    "        RunEvalConfig.Criteria( #custom defined criteria related to specific problem we want to solve and problems detected in output\n",
    "            {\n",
    "                \"valuation\": \"Do texts contain valuation of subject, like glorifying some characteristic or judging someone?\"\n",
    "                \" Respond Y if they do, N if they're entirely objective and stick to the facts without additions.\"\n",
    "            }\n",
    "        )\n",
    "    ],\n",
    ")"
   ],
   "id": "4ba85a0d2f3c7b5b",
   "outputs": [],
   "execution_count": 2
  },
  {
   "metadata": {},
   "cell_type": "code",
   "source": [
    "import uuid\n",
    "\n",
    "dataset_name = \"existential questions run:\" + uuid.uuid4().__str__() #need to modify this value on every run of notebook\n",
    "\n",
    "# Storing inputs in a dataset lets us\n",
    "# run chains and LLMs over a shared set of examples.\n",
    "dataset = client.create_dataset(\n",
    "    dataset_name=dataset_name,\n",
    "    description=\"evaluate LLM output\",\n",
    ")\n",
    "client.create_examples(\n",
    "    inputs=[{\"question\": q} for q in dataset_inputs],\n",
    "    outputs=dataset_outputs,\n",
    "    dataset_id=dataset.id,\n",
    ")"
   ],
   "id": "6bb2665b8e63ae60",
   "outputs": [],
   "execution_count": null
  },
  {
   "metadata": {},
   "cell_type": "code",
   "outputs": [],
   "execution_count": null,
   "source": [
    "#in case of error ‘model is currently loading;’, wait couple of minutes and run notebook again\n",
    "scores = client.run_on_dataset(\n",
    "    dataset_name=dataset_name,\n",
    "    llm_or_chain_factory=llm_gen,\n",
    "    evaluation=eval_config,\n",
    "    verbose=True,\n",
    "    project_name=dataset_name,\n",
    ")\n",
    "print(scores)"
   ],
   "id": "ae68836866445a56"
  }
 ],
 "metadata": {
  "kernelspec": {
   "display_name": "Python 3",
   "language": "python",
   "name": "python3"
  },
  "language_info": {
   "codemirror_mode": {
    "name": "ipython",
    "version": 2
   },
   "file_extension": ".py",
   "mimetype": "text/x-python",
   "name": "python",
   "nbconvert_exporter": "python",
   "pygments_lexer": "ipython2",
   "version": "2.7.6"
  }
 },
 "nbformat": 4,
 "nbformat_minor": 5
}
