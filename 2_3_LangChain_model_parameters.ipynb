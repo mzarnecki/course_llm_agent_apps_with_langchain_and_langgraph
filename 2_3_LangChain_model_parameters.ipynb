{
 "cells": [
  {
   "metadata": {},
   "cell_type": "markdown",
   "source": "## 2.3. Parametry API LLM",
   "id": "a84cf2306f684808"
  },
  {
   "metadata": {},
   "cell_type": "markdown",
   "source": "### instalacja i konfiguracja",
   "id": "9d30c57b2be3c6d7"
  },
  {
   "cell_type": "code",
   "id": "initial_id",
   "metadata": {
    "collapsed": true,
    "ExecuteTime": {
     "end_time": "2025-09-15T06:24:15.737825Z",
     "start_time": "2025-09-15T06:24:14.280469Z"
    }
   },
   "source": [
    "!pip install -q langchain-openai python-dotenv\n",
    "\n",
    "import os\n",
    "from dotenv import load_dotenv\n",
    "load_dotenv()\n",
    "\n",
    "from langchain_openai import ChatOpenAI\n"
   ],
   "outputs": [],
   "execution_count": 7
  },
  {
   "metadata": {},
   "cell_type": "markdown",
   "source": "### pomocnicza funkcja do testów",
   "id": "c8a2d22ae079dd8c"
  },
  {
   "metadata": {
    "ExecuteTime": {
     "end_time": "2025-09-15T06:24:15.749074Z",
     "start_time": "2025-09-15T06:24:15.745417Z"
    }
   },
   "cell_type": "code",
   "source": [
    "def test_generation(param_name, values, prompt=\"Wymyśl krótką bajkę o kocie i psie.\"):\n",
    "    for v in values:\n",
    "        print(\"=\"*60)\n",
    "        print(f\"{param_name} = {v}\")\n",
    "        llm = ChatOpenAI(model=\"gpt-4o-mini\", temperature=0.7)  # bazowe ustawienia\n",
    "        kwargs = {param_name: v}\n",
    "        response = llm.invoke(prompt, **kwargs)\n",
    "        print(response.content, \"\\n\")\n"
   ],
   "id": "e323e8af393d58ad",
   "outputs": [],
   "execution_count": 8
  },
  {
   "metadata": {},
   "cell_type": "markdown",
   "source": "### eksperyment z temperaturą",
   "id": "440cf02cee488c9f"
  },
  {
   "metadata": {
    "ExecuteTime": {
     "end_time": "2025-09-15T06:24:46.193579Z",
     "start_time": "2025-09-15T06:24:15.802108Z"
    }
   },
   "cell_type": "code",
   "source": "test_generation(\"temperature\", [0.0, 0.7, 1.2])\n",
   "id": "9259b3726ef39352",
   "outputs": [
    {
     "name": "stdout",
     "output_type": "stream",
     "text": [
      "============================================================\n",
      "temperature = 0.0\n",
      "Dawno, dawno temu w małej wiosce mieszkał kot o imieniu Miau i pies o imieniu Hau. Miau był bardzo sprytny i uwielbiał wspinać się na drzewa, podczas gdy Hau był wiernym towarzyszem, który zawsze biegał po łąkach.\n",
      "\n",
      "Pewnego dnia, podczas wspólnej zabawy, Miau zauważył, że w pobliskim lesie zniknęły wszystkie kolorowe motyle. Zmartwił się, bo wiedział, jak bardzo Hau lubił je gonić. Postanowili więc wyruszyć na poszukiwania.\n",
      "\n",
      "W lesie spotkali mądrą sowę, która powiedziała im, że motyle uciekły, ponieważ w lesie pojawił się zły czarownik, który chciał je uwięzić. Miau i Hau postanowili, że muszą pomóc motylom. Wspólnie opracowali plan: Miau miał odwrócić uwagę czarownika, a Hau miał uwolnić motyle.\n",
      "\n",
      "Kiedy dotarli do czarownika, Miau zaczął skakać i wydawać śmieszne dźwięki, co sprawiło, że czarownik się rozproszył. W tym czasie Hau szybko zdołał uwolnić motyle z ich pułapki.\n",
      "\n",
      "Gdy motyle wróciły do lasu, zaczęły tańczyć wokół Miau i Hau, dziękując im za odwagę. Czarownik, widząc radość motyli, zrozumiał, że nie powinien ich więzić, i postanowił zmienić swoje złe zachowanie.\n",
      "\n",
      "Od tego dnia Miau i Hau stali się najlepszymi przyjaciółmi, a las znów był pełen kolorowych motyli. Wszyscy w wiosce wiedzieli, że prawdziwa przyjaźń i odwaga mogą pokonać nawet największe trudności. I tak żyli długo i szczęśliwie. \n",
      "\n",
      "============================================================\n",
      "temperature = 0.7\n",
      "W małym miasteczku, w kolorowym domku z niebieskimi oknami, mieszkał kot o imieniu Puszek i pies o imieniu Burek. Puszek był czarny jak noc, z błyszczącymi, zielonymi oczami, a Burek miał brązowe futro i zawsze merdający ogon.\n",
      "\n",
      "Pewnego dnia, podczas wspólnej zabawy w ogrodzie, Puszek zauważył, że w oddali pojawił się dziwny cień. To była stara, zardzewiała pułapka na ptaki. Burek, ciekawski jak zawsze, podbiegł do niej, ale Puszek go ostrzegł:\n",
      "\n",
      "– Uważaj, Burek! To może być niebezpieczne!\n",
      "\n",
      "Burek zatrzymał się w ostatniej chwili. Zamiast ryzykować, postanowili razem zbadać pułapkę. Puszek, zwinny jak zawsze, wskoczył na jej brzeg i zaczął się przyglądać z bliska, a Burek stał na czatach.\n",
      "\n",
      "– Może to nie jest tylko pułapka – powiedział Puszek. – Może w środku jest coś, co możemy uratować!\n",
      "\n",
      "Zaraz potem usłyszeli ciche piski. Z wnętrza pułapki wydobywał się mały ptaszek, który nie mógł się wydostać. Puszek i Burek spojrzeli na siebie i wiedzieli, że muszą działać.\n",
      "\n",
      "Burek, używając swojej siły, próbował otworzyć pułapkę, ale nie mógł. Wtedy Puszek wpadł na pomysł. Poprosił Burka, aby podniósł go na grzbiet, a sam spróbował otworzyć pułapkę swoimi zwinny łapkami. Po chwili zaciętych starań, udało im się uwolnić ptaszka!\n",
      "\n",
      "Ptaszek, wdzięczny za pomoc, wzleciał wysoko w niebo, śpiewając piękną melodię. Puszek i Burek uśmiechali się do siebie, czując, że razem mogą pokonać wszelkie trudności.\n",
      "\n",
      "Od tego dnia, kot i pies stali się najlepszymi przyjaciółmi, a ich przygody w ogrodzie stały się legendą w całym miasteczku. Każdy wiedział, że Puszek i Burek to duet nie do pokonania, a ich przyjaźń była najpiękniejszym skarbem, jaki mogli mieć. \n",
      "\n",
      "I tak, żyli długo i szczęśliwie, tworząc wspólnie niezapomniane historie. \n",
      "\n",
      "============================================================\n",
      "temperature = 1.2\n",
      "Dawno temu w małym miasteczku żyli sobie kotek o imieniu Filemon i piesek, który miał na imię Puszek. Mimo że bywali różni – Filemon był przebiegły i zawsze znajdował sposoby, aby zdobyć smakołyki, a Puszek był uczciwy i oddany – to jednak bardzo się lubili.\n",
      "\n",
      "Pewnego słonecznego dnia, Filemon i Puszek postanowili wyruszyć na małą przygodę do pobliskiego lasu. Obydwoje marzyli o znalezieniu ukrytego skarbu, o którym krążyły legendy w ich miasteczku. Z przejęciem wybiegli z domu i ruszyli w stronę zieleni.\n",
      "\n",
      "Podczas wędrówki natknęli się na tajemniczą żabę, która zaproponowała im zagadkę: „Skarb, którego szukacie, czeka tam, gdzie słońce całuje wodę”. Filemon i Puszek zaczęli intensywnie myśleć, co to może oznaczać. Po chwili namysłu A oto ich pomysł: „To muszą być staw i zachód słońca!”\n",
      "\n",
      "Pełni ekscytacji pędzili, by dotrzeć do stawu, a tam, w świetle zachodzącego słońca, dostrzegli coś błyszczącego kluczem w wodzie. Nie potrafili się zdecydować, kto powinien poderwać skarb. Puszek, widząc lśniący przedmiot, postanowił pomóc Filemonowi. Skoczył do wody i po chwili wrócił z złotym kluczem w pysku.\n",
      "\n",
      "Moi przyjaciele, zaintrygowani, postanowili sprawdzić, co otworzy ich klucz. Po kilku próbach trafili na skrzynkę zakopaną pod wielką sosną. Z niecierpliwością otworzyli ją, a w środku znalazły się nie tylko skarby w postaci starych monet i biżuterii, ale także świeże psie ciasteczka i kawałki aromatycznego łososia.\n",
      "\n",
      "Zrozumieli, że prawdziwym skarbem było to, co stworzyli razem – przyjaźń, która przetrwa każdą burzę. A w drodze powrotnej do domu świętowali swoje odkrycie wspólna ucztą, obdarowując się nawzajem najcenniejszym skarbem, jakim jest przyjaźń. \n",
      "\n",
      "I tak Filemon i Puszek wrócili do miasteczka, nie tylko z skarbem, ale również z sercami pełnymi radości oraz niezapomnianych wspomnień. A od tej pory przygód w lesie mieli jeszcze wiele – zawsze razem, zawsze w przyjaźni. \n",
      "\n",
      "Koniec. \n",
      "\n"
     ]
    }
   ],
   "execution_count": 9
  },
  {
   "metadata": {},
   "cell_type": "markdown",
   "source": "### eksperyment z top_p",
   "id": "7be7d1c943c147c5"
  },
  {
   "metadata": {
    "ExecuteTime": {
     "end_time": "2025-09-15T06:25:12.936050Z",
     "start_time": "2025-09-15T06:24:46.254100Z"
    }
   },
   "cell_type": "code",
   "source": "test_generation(\"top_p\", [0.2, 0.7, 1.0])\n",
   "id": "1de3bc2661c0da2c",
   "outputs": [
    {
     "name": "stdout",
     "output_type": "stream",
     "text": [
      "============================================================\n",
      "top_p = 0.2\n",
      "Dawno, dawno temu w małej wiosce mieszkał kot o imieniu Miau i pies o imieniu Hau. Miau był sprytnym kotem, który uwielbiał wspinać się na drzewa i polować na ptaki, podczas gdy Hau był wiernym psem, który strzegł podwórka i bawił się z dziećmi.\n",
      "\n",
      "Pewnego dnia, podczas zabawy w ogrodzie, Miau zauważył, że w pobliskim lesie coś się dzieje. Zaintrygowany, postanowił to zbadać. Hau, widząc, że jego przyjaciel znika, postanowił go śledzić. Gdy dotarli do lasu, odkryli, że małe zajączki utknęły w krzakach i nie mogły się wydostać.\n",
      "\n",
      "Miau, z jego zwinnością, szybko wspiął się na gałąź i zaczął delikatnie odsuwać gałęzie, aby zajączki mogły się wydostać. Hau, z kolei, użył swojej siły, aby pomóc im wyjść z pułapki. Po chwili wszystkie zajączki były wolne i bardzo wdzięczne.\n",
      "\n",
      "Zajączki postanowiły zorganizować dla Miau i Hau małą ucztę w lesie, aby podziękować im za pomoc. Przyjaciele spędzili wspaniały czas, bawiąc się i jedząc smakołyki. Od tego dnia Miau i Hau stali się nie tylko najlepszymi przyjaciółmi, ale także bohaterami wioski.\n",
      "\n",
      "I tak, kot i pies, różni, ale doskonale się uzupełniający, pokazali wszystkim, że współpraca i przyjaźń mogą przezwyciężyć wszelkie przeszkody. A w lesie, gdzie zajączki biegały radośnie, zawsze można było usłyszeć ich śmiech i radosne szczekanie oraz miauczenie. \n",
      "\n",
      "I żyli długo i szczęśliwie! \n",
      "\n",
      "============================================================\n",
      "top_p = 0.7\n",
      "Dawno, dawno temu, w małej wiosce, żył sobie kotek o imieniu Mruczek i piesek o imieniu Burek. Mimo że byli zupełnie różni – Mruczek był zwinny i cichy, a Burek energiczny i głośny – to jednak bardzo się lubili.\n",
      "\n",
      "Pewnego dnia, podczas wspólnej zabawy na łące, zauważyli, że w oddali coś błyszczy. Zaintrygowani, postanowili to zbadać. Gdy zbliżyli się, odkryli, że to stara, zardzewiała skrzynia. Mruczek, z jego ciekawską naturą, wskoczył na skrzynię i zaczął ją drapać. Burek, z kolei, szczekał radośnie, zachęcając przyjaciela do dalszego działania.\n",
      "\n",
      "Po chwili, dzięki ich wspólnej pracy, skrzynia otworzyła się, a z jej wnętrza wyleciały kolorowe motyle. Okazało się, że w skrzyni znajdowały się magiczne skarby – nie tylko złote monety, ale także zaklęte motyle, które mogły spełniać życzenia.\n",
      "\n",
      "Mruczek i Burek, zamiast pomyśleć o sobie, postanowili spełnić życzenie dla całej wioski. Życzyli sobie, aby wioska zawsze była pełna radości, a mieszkańcy żyli w zgodzie. Motyle z radością spełniły ich prośbę, a wioska rozkwitła jak nigdy dotąd.\n",
      "\n",
      "Od tego dnia Mruczek i Burek stali się bohaterami wioski, a ich przyjaźń była jeszcze silniejsza. Wiedzieli, że razem mogą osiągnąć wszystko, a najważniejsze jest dzielenie się radością z innymi.\n",
      "\n",
      "I tak żyli długo i szczęśliwie, bawiąc się i pomagając wszystkim wokół. A wioska stała się miejscem, gdzie każdy mógł znaleźć przyjaźń i szczęście. \n",
      "\n",
      "============================================================\n",
      "top_p = 1.0\n",
      "**Kocie i Pies – Przyjaciele na Zawsze**\n",
      "\n",
      "W małym miasteczku, w przytulnym domku, mieszkał kotek o imieniu Miau i piesek zwany Burek. Miau był szarym kociakiem z błyszczącymi oczami, a Burek – radosnym, brązowym psem z długimi uszami. Choć byli zupełnie różni, mieli jedną wspólną cechę – uwielbiali wspólne przygody.\n",
      "\n",
      "Pewnego słonecznego dnia, postanowili razem zwiedzić pobliski las. Miau, pełen ciekawości, wspinał się na drzewa, z których mógł obserwować wszystko z góry, podczas gdy Burek biegał po ścieżkach, wąchając każdy nowy zapach. Gdy dotarli do pięknego stawu, Miau zauważył, że Burek wygląda na smutnego.\n",
      "\n",
      "– Co się stało, Burek? – zapytał kotek.\n",
      "\n",
      "– Chciałbym umieć pływać jak kaczki, ale się boję – odpowiedział piesek.\n",
      "\n",
      "Miau wpadł na pomysł. – Może spróbujemy razem? Ja cię poprowadzę!\n",
      "\n",
      "Burek, nieco zaniepokojony, ale pełen zaufania do swojego przyjaciela, zgodził się. Miau wskoczył do wody i zaczął machać łapkami, a Burek, zainspirowany jego odwagą, postanowił spróbować. Wszedł do stawu, a Miau pływał obok niego, dodając mu otuchy.\n",
      "\n",
      "Po chwili Burek poczuł, że woda jest przyjemna, a strach powoli znika. Razem bawili się w wodzie, skacząc i pluskając. Kiedy wyszli na brzeg, obaj byli mokrzy, ale szczęśliwi.\n",
      "\n",
      "Od tego dnia Miau i Burek stali się jeszcze lepszymi przyjaciółmi. Razem odkrywali świat, pokonywali swoje lęki i cieszyli się każdą chwilą. I choć byli różni, to właśnie te różnice sprawiały, że ich przyjaźń była tak wyjątkowa.\n",
      "\n",
      "I tak, w małym miasteczku, kotek i piesek żyli długo i szczęśliwie, ucząc się od siebie nawzajem, że prawdziwa przyjaźń pokonuje wszelkie przeszkody. \n",
      "\n",
      "Koniec. \n",
      "\n"
     ]
    }
   ],
   "execution_count": 10
  },
  {
   "metadata": {},
   "cell_type": "markdown",
   "source": "### eksperyment z max_tokens",
   "id": "65d7a10ab7906237"
  },
  {
   "metadata": {
    "ExecuteTime": {
     "end_time": "2025-09-15T06:25:23.427532Z",
     "start_time": "2025-09-15T06:25:12.993263Z"
    }
   },
   "cell_type": "code",
   "source": "test_generation(\"max_tokens\", [30, 100, 300])\n",
   "id": "914687df9cd9ac31",
   "outputs": [
    {
     "name": "stdout",
     "output_type": "stream",
     "text": [
      "============================================================\n",
      "max_tokens = 30\n",
      "Dawno, dawno temu, w małej wiosce, mieszkał kot o imieniu Mruczek i pies o im \n",
      "\n",
      "============================================================\n",
      "max_tokens = 100\n",
      "Pewnego słonecznego poranka w małym miasteczku, gdzie niebo było zawsze błękitne, a trawa zielona jak świeżo skoszona łąka, mieszkał kot o imieniu Puszek i pies o imieniu Bąbel. Puszek był szarym, leniwym kocurem, który uwielbiał wylegiwać się na słońcu, a Bąbel, energ \n",
      "\n",
      "============================================================\n",
      "max_tokens = 300\n",
      "Dawno, dawno temu w małej wiosce, w przytulnym domku mieszkał kot o imieniu Miauś. Był to kot o pięknym, szarym futerku i bystrych, zielonych oczach. Miauś uwielbiał spędzać czas na drzemkach w słońcu i łowieniu ptaków w ogrodzie.\n",
      "\n",
      "W tym samym domku mieszkał pies o imieniu Burek. Był dużym, brązowym psem, który kochał biegać i bawić się z dziećmi. Miał serce pełne radości, ale był trochę niezdarny, co często wprawiało Miauśa w irytację.\n",
      "\n",
      "Pewnego dnia, gdy Miauś wylegiwał się na parapecie, zauważył, że Burek próbował dosięgnąć piłki, która wpadła do rowu. Pies skakał, merdał ogonem, ale nie mógł jej wydobyć. Miauś postanowił mu pomóc. Zeskoczył z parapetu, podbiegł do rowu i, dzięki swoim zwinnościom, z łatwością chwycił piłkę zębami. Potem wrócił do Burka, który patr \n",
      "\n"
     ]
    }
   ],
   "execution_count": 11
  },
  {
   "metadata": {},
   "cell_type": "markdown",
   "source": [
    "💡 Efekt:\\\n",
    "przy temperature=0 odpowiedzi będą powtarzalne,\\\n",
    "przy temperature=1.2 — bardziej szalone,\\\n",
    "przy niskim top_p model będzie zachowawczy,\\\n",
    "przy dużym top_k — bardziej różnorodny,\\\n",
    "a max_tokens zdecyduje, czy bajka ma 2 zdania, czy całą stronę."
   ],
   "id": "779bcca8320a55c7"
  }
 ],
 "metadata": {
  "kernelspec": {
   "display_name": "Python 3",
   "language": "python",
   "name": "python3"
  },
  "language_info": {
   "codemirror_mode": {
    "name": "ipython",
    "version": 2
   },
   "file_extension": ".py",
   "mimetype": "text/x-python",
   "name": "python",
   "nbconvert_exporter": "python",
   "pygments_lexer": "ipython2",
   "version": "2.7.6"
  }
 },
 "nbformat": 4,
 "nbformat_minor": 5
}
