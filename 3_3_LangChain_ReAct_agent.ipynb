{
 "cells": [
  {
   "metadata": {},
   "cell_type": "markdown",
   "source": [
    "## Agent ReAct\n",
    "ReAct to wzorzec łączący Reasoning + Acting: model krokowo rozumuje (planuje), po czym wykonuje akcje narzędziowe (zapytania do API, wyszukiwanie, obliczenia), a otrzymane obserwacje włączane są do kolejnych kroków rozumowania."
   ],
   "id": "228b8f8aad578187"
  },
  {
   "metadata": {},
   "cell_type": "markdown",
   "source": "### Instalacja bibliotek",
   "id": "dca95297b6c17c63"
  },
  {
   "cell_type": "code",
   "id": "initial_id",
   "metadata": {
    "collapsed": true,
    "ExecuteTime": {
     "end_time": "2025-10-06T19:01:44.159155Z",
     "start_time": "2025-10-06T19:01:42.712561Z"
    }
   },
   "source": "!pip install -q langchain langchain-openai python-dotenv",
   "outputs": [],
   "execution_count": 1
  },
  {
   "metadata": {},
   "cell_type": "markdown",
   "source": "### Przygotowanie modelu",
   "id": "549b9e7745772236"
  },
  {
   "metadata": {
    "ExecuteTime": {
     "end_time": "2025-10-06T19:01:48.323565Z",
     "start_time": "2025-10-06T19:01:44.178756Z"
    }
   },
   "cell_type": "code",
   "source": [
    "from langchain_openai import ChatOpenAI\n",
    "from dotenv import load_dotenv\n",
    "load_dotenv()\n",
    "\n",
    "llm = ChatOpenAI(model=\"gpt-4o-mini\", temperature=0)\n",
    "print(\"Model gotowy.\")\n"
   ],
   "id": "5240fd15006a06a1",
   "outputs": [
    {
     "name": "stdout",
     "output_type": "stream",
     "text": [
      "Model gotowy.\n"
     ]
    }
   ],
   "execution_count": 2
  },
  {
   "metadata": {},
   "cell_type": "markdown",
   "source": "### Definiowanie narzędzi",
   "id": "75e02ee7613800fd"
  },
  {
   "metadata": {
    "ExecuteTime": {
     "end_time": "2025-10-06T19:24:00.545331Z",
     "start_time": "2025-10-06T19:24:00.538328Z"
    }
   },
   "cell_type": "code",
   "source": [
    "from langchain.tools import tool\n",
    "\n",
    "@tool\n",
    "def add_numbers(**kwargs:int) -> int:\n",
    "    \"\"\"Add numbers together.\"\"\"\n",
    "    return sum(kwargs['kwargs'].values())\n",
    "\n",
    "@tool\n",
    "def company_info(name: str) -> str:\n",
    "    \"return info about company\"\n",
    "    data = {\n",
    "        \"OpenAI\": \"Firma zajmująca się sztuczną inteligencją, twórca ChatGPT. Istnieje od 10 lat. \",\n",
    "        \"LangChain\": \"Framework do budowania aplikacji AI z LLM. Istnieje od 4 lat.\",\n",
    "        \"Tesla\": \"Producent samochodów elektrycznych. Istnieje 23 lata.\"\n",
    "    }\n",
    "    return data.get(name, \"Nie mam informacji o tej firmie.\")\n",
    "\n",
    "tools = [add_numbers, company_info]"
   ],
   "id": "c6982fef5e26d1a4",
   "outputs": [],
   "execution_count": 38
  },
  {
   "metadata": {},
   "cell_type": "markdown",
   "source": "### Agent ReAct",
   "id": "8bfb9446ea2c3fa0"
  },
  {
   "metadata": {
    "ExecuteTime": {
     "end_time": "2025-10-06T19:24:01.922719Z",
     "start_time": "2025-10-06T19:24:01.918467Z"
    }
   },
   "cell_type": "code",
   "source": [
    "from langchain.agents import initialize_agent, AgentType\n",
    "import warnings\n",
    "warnings.filterwarnings('ignore') #ignoruje zalecenie użycia LangGraph zamiast langchain.agents\n",
    "\n",
    "agent = initialize_agent(\n",
    "    tools=tools,\n",
    "    llm=llm,\n",
    "    agent=AgentType.STRUCTURED_CHAT_ZERO_SHOT_REACT_DESCRIPTION,\n",
    "    verbose=True,\n",
    "    max_iterations=6\n",
    ")"
   ],
   "id": "e23f17e4bd4648e9",
   "outputs": [],
   "execution_count": 39
  },
  {
   "metadata": {},
   "cell_type": "markdown",
   "source": "### Test agenta",
   "id": "538b0d2a28bac9ee"
  },
  {
   "metadata": {
    "ExecuteTime": {
     "end_time": "2025-10-06T19:24:15.671937Z",
     "start_time": "2025-10-06T19:24:04.192051Z"
    }
   },
   "cell_type": "code",
   "source": [
    "# Zadanie informacyjne + zadanie matematyczne\n",
    "agent.run(\"Powiedz mi, czym zajmują się firmy LangChain, Tesla oraz OpenAI. Następnie podaj sumę liczby lat na rynku tych 3 firm.\")"
   ],
   "id": "20fe17d832057375",
   "outputs": [
    {
     "name": "stdout",
     "output_type": "stream",
     "text": [
      "\n",
      "\n",
      "\u001B[1m> Entering new AgentExecutor chain...\u001B[0m\n",
      "\u001B[32;1m\u001B[1;3mThought: Najpierw muszę uzyskać informacje o firmach LangChain, Tesla i OpenAI, aby dowiedzieć się, czym się zajmują. Następnie będę musiał ustalić, ile lat każda z tych firm działa na rynku, aby obliczyć ich sumę.\n",
      "\n",
      "Action:\n",
      "```\n",
      "{\n",
      "  \"action\": \"company_info\",\n",
      "  \"action_input\": {\"name\": \"LangChain\"}\n",
      "}\n",
      "```\n",
      "\u001B[0m\n",
      "Observation: \u001B[33;1m\u001B[1;3mFramework do budowania aplikacji AI z LLM. Istnieje od 4 lat.\u001B[0m\n",
      "Thought:\u001B[32;1m\u001B[1;3mMuszę teraz uzyskać informacje o firmie Tesla.\n",
      "\n",
      "Action:\n",
      "```\n",
      "{\n",
      "  \"action\": \"company_info\",\n",
      "  \"action_input\": {\"name\": \"Tesla\"}\n",
      "}\n",
      "```\n",
      "\n",
      "\u001B[0m\n",
      "Observation: \u001B[33;1m\u001B[1;3mProducent samochodów elektrycznych. Istnieje 23 lata.\u001B[0m\n",
      "Thought:\u001B[32;1m\u001B[1;3mMuszę teraz uzyskać informacje o firmie OpenAI, aby zakończyć zbieranie danych o wszystkich trzech firmach.\n",
      "\n",
      "Action:\n",
      "```\n",
      "{\n",
      "  \"action\": \"company_info\",\n",
      "  \"action_input\": {\"name\": \"OpenAI\"}\n",
      "}\n",
      "```\n",
      "\n",
      "\u001B[0m\n",
      "Observation: \u001B[33;1m\u001B[1;3mFirma zajmująca się sztuczną inteligencją, twórca ChatGPT. Istnieje od 10 lat. \u001B[0m\n",
      "Thought:\u001B[32;1m\u001B[1;3mTeraz mam wszystkie potrzebne informacje o firmach LangChain, Tesla i OpenAI. LangChain istnieje od 4 lat, Tesla od 23 lat, a OpenAI od 10 lat. Muszę teraz obliczyć sumę lat na rynku tych trzech firm.\n",
      "\n",
      "Action:\n",
      "```\n",
      "{\n",
      "  \"action\": \"add_numbers\",\n",
      "  \"action_input\": {\"kwargs\": {\"4\": 4, \"23\": 23, \"10\": 10}}\n",
      "}\n",
      "```\n",
      "\n",
      "\u001B[0m\n",
      "Observation: \u001B[36;1m\u001B[1;3m37\u001B[0m\n",
      "Thought:\u001B[32;1m\u001B[1;3mTeraz mogę podsumować informacje o firmach oraz ich latach na rynku. \n",
      "\n",
      "LangChain istnieje od 4 lat, Tesla od 23 lat, a OpenAI od 10 lat. Suma lat na rynku tych trzech firm wynosi 37.\n",
      "\n",
      "Action:\n",
      "```\n",
      "{\n",
      "  \"action\": \"Final Answer\",\n",
      "  \"action_input\": \"LangChain zajmuje się budowaniem aplikacji AI z LLM, Tesla to producent samochodów elektrycznych, a OpenAI to firma zajmująca się sztuczną inteligencją, twórca ChatGPT. Suma lat na rynku tych trzech firm wynosi 37.\"\n",
      "}\n",
      "```\n",
      "\n",
      "\u001B[0m\n",
      "\n",
      "\u001B[1m> Finished chain.\u001B[0m\n"
     ]
    },
    {
     "data": {
      "text/plain": [
       "'LangChain zajmuje się budowaniem aplikacji AI z LLM, Tesla to producent samochodów elektrycznych, a OpenAI to firma zajmująca się sztuczną inteligencją, twórca ChatGPT. Suma lat na rynku tych trzech firm wynosi 37.'"
      ]
     },
     "execution_count": 40,
     "metadata": {},
     "output_type": "execute_result"
    }
   ],
   "execution_count": 40
  }
 ],
 "metadata": {
  "kernelspec": {
   "display_name": "Python 3",
   "language": "python",
   "name": "python3"
  },
  "language_info": {
   "codemirror_mode": {
    "name": "ipython",
    "version": 2
   },
   "file_extension": ".py",
   "mimetype": "text/x-python",
   "name": "python",
   "nbconvert_exporter": "python",
   "pygments_lexer": "ipython2",
   "version": "2.7.6"
  }
 },
 "nbformat": 4,
 "nbformat_minor": 5
}
