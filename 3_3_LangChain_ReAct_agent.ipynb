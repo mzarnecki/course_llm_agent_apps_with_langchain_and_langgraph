{
 "cells": [
  {
   "metadata": {},
   "cell_type": "markdown",
   "source": [
    "## Agent ReAct\n",
    "ReAct to wzorzec łączący Reasoning + Acting: model krokowo rozumuje (planuje), po czym wykonuje akcje narzędziowe (zapytania do API, wyszukiwanie, obliczenia), a otrzymane obserwacje włączane są do kolejnych kroków rozumowania."
   ],
   "id": "228b8f8aad578187"
  },
  {
   "metadata": {},
   "cell_type": "markdown",
   "source": "### Instalacja bibliotek",
   "id": "dca95297b6c17c63"
  },
  {
   "cell_type": "code",
   "id": "initial_id",
   "metadata": {
    "collapsed": true,
    "ExecuteTime": {
     "end_time": "2025-10-11T07:26:59.143454Z",
     "start_time": "2025-10-11T07:26:57.686267Z"
    }
   },
   "source": "!pip install -q langchain langchain-openai python-dotenv",
   "outputs": [],
   "execution_count": 1
  },
  {
   "metadata": {},
   "cell_type": "markdown",
   "source": "### Przygotowanie modelu",
   "id": "549b9e7745772236"
  },
  {
   "metadata": {
    "ExecuteTime": {
     "end_time": "2025-10-11T07:27:01.966034Z",
     "start_time": "2025-10-11T07:26:59.149979Z"
    }
   },
   "cell_type": "code",
   "source": [
    "from langchain_openai import ChatOpenAI\n",
    "from dotenv import load_dotenv\n",
    "load_dotenv()\n",
    "\n",
    "llm = ChatOpenAI(model=\"gpt-4o\", temperature=0)\n",
    "print(\"Model gotowy.\")\n"
   ],
   "id": "5240fd15006a06a1",
   "outputs": [
    {
     "name": "stdout",
     "output_type": "stream",
     "text": [
      "Model gotowy.\n"
     ]
    }
   ],
   "execution_count": 2
  },
  {
   "metadata": {},
   "cell_type": "markdown",
   "source": "### W jaki sposób model korzysta z narzędzi?",
   "id": "deda3daab8382d9"
  },
  {
   "metadata": {
    "ExecuteTime": {
     "end_time": "2025-10-07T06:12:55.315689Z",
     "start_time": "2025-10-07T06:12:52.284988Z"
    }
   },
   "cell_type": "code",
   "source": [
    "import re\n",
    "\n",
    "# narzędzie - tool\n",
    "def greet_user(name: str) -> str:\n",
    "    \"\"\"Funkcja witająca użytkownika po imieniu.\"\"\"\n",
    "    return f\"Witaj, {name}! Miło Cię poznać!\"\n",
    "\n",
    "prompt = \"\"\"\n",
    "Odpowiedz na pytanie użytkownika.\n",
    "Jeśli użytkownik przedstawi się, użyj formatu: GREET[imię] i więcej nie używaj imienia użytkownika.\n",
    "\n",
    "Pytanie: Cześć, nazywam się Michał i chciałbym się dowiedzieć co było pierwsze - jajko czy gniazdo?\n",
    "\"\"\"\n",
    "\n",
    "response = llm.invoke(prompt)\n",
    "response_text = response.content\n",
    "\n",
    "pattern = r'GREET\\[(\\w+)\\]'\n",
    "match = re.search(pattern, response_text)\n",
    "\n",
    "# Jeśli znaleziono wzorzec, wywołaj funkcję-narzędzie\n",
    "if match:\n",
    "    name = match.group(1)\n",
    "    print(\"Wykryto wzorzec GREET, wywołuję funkcję-narzędzie...\")\n",
    "    result = greet_user(name)\n",
    "    print(f\"Wynik funkcji: {result}\")\n",
    "    response_text = response_text.replace(match.group(0), result)\n",
    "else:\n",
    "    print(\"Nie znaleziono wzorca GREET w odpowiedzi.\")\n",
    "\n",
    "print(\"Odpowiedź LLM:\")\n",
    "print(response_text)"
   ],
   "id": "7c5d0f32aa77e233",
   "outputs": [
    {
     "name": "stdout",
     "output_type": "stream",
     "text": [
      "Wykryto wzorzec GREET, wywołuję funkcję-narzędzie...\n",
      "Wynik funkcji: Witaj, Michał! Miło Cię poznać!\n",
      "Odpowiedź LLM:\n",
      "Witaj, Michał! Miło Cię poznać! To ciekawe pytanie! W kontekście ewolucji, jajko pojawiło się przed gniazdem. Jajka były składane przez różne gatunki zwierząt, w tym gady, na długo przed tym, jak ptaki zaczęły budować gniazda. Gniazda są bardziej zaawansowanym zachowaniem związanym z opieką nad potomstwem, które rozwinęło się później.\n"
     ]
    }
   ],
   "execution_count": 12
  },
  {
   "metadata": {},
   "cell_type": "markdown",
   "source": "### Definiowanie narzędzi",
   "id": "75e02ee7613800fd"
  },
  {
   "metadata": {
    "ExecuteTime": {
     "end_time": "2025-10-07T06:16:29.191921Z",
     "start_time": "2025-10-07T06:16:29.185304Z"
    }
   },
   "cell_type": "code",
   "source": [
    "from langchain.tools import tool\n",
    "\n",
    "@tool\n",
    "def add_numbers(**kwargs:int) -> int:\n",
    "    \"\"\"Add numbers together.\"\"\"\n",
    "    return sum(kwargs['kwargs'].values())\n",
    "\n",
    "@tool\n",
    "def company_info(name: str) -> str:\n",
    "    \"return info about company\"\n",
    "    data = {\n",
    "        \"OpenAI\": \"Firma zajmująca się sztuczną inteligencją, twórca ChatGPT. Istnieje od 10 lat. \",\n",
    "        \"LangChain\": \"Framework do budowania aplikacji AI z LLM. Istnieje od 4 lat.\",\n",
    "        \"Tesla\": \"Producent samochodów elektrycznych. Istnieje 23 lata.\"\n",
    "    }\n",
    "    return data.get(name, \"Nie mam informacji o tej firmie.\")\n",
    "\n",
    "tools = [add_numbers, company_info]"
   ],
   "id": "c6982fef5e26d1a4",
   "outputs": [],
   "execution_count": 14
  },
  {
   "metadata": {},
   "cell_type": "markdown",
   "source": "### Agent ReAct",
   "id": "8bfb9446ea2c3fa0"
  },
  {
   "metadata": {
    "ExecuteTime": {
     "end_time": "2025-10-07T06:16:37.388790Z",
     "start_time": "2025-10-07T06:16:31.583293Z"
    }
   },
   "cell_type": "code",
   "source": [
    "from langchain.agents import initialize_agent, AgentType\n",
    "\n",
    "agent = initialize_agent(\n",
    "    llm=llm,\n",
    "    tools=tools,\n",
    "    agent=AgentType.STRUCTURED_CHAT_ZERO_SHOT_REACT_DESCRIPTION,\n",
    "    verbose=True,\n",
    "    max_iterations=6\n",
    ")\n",
    "\n",
    "agent.run(\"Powiedz mi, czym zajmują się firmy LangChain, Tesla oraz OpenAI. Następnie podaj sumę liczby lat na rynku tych 3 firm.\")"
   ],
   "id": "e23f17e4bd4648e9",
   "outputs": [
    {
     "name": "stderr",
     "output_type": "stream",
     "text": [
      "/tmp/ipykernel_11995/3180740728.py:3: LangChainDeprecationWarning: LangChain agents will continue to be supported, but it is recommended for new use cases to be built with LangGraph. LangGraph offers a more flexible and full-featured framework for building agents, including support for tool-calling, persistence of state, and human-in-the-loop workflows. For details, refer to the `LangGraph documentation <https://langchain-ai.github.io/langgraph/>`_ as well as guides for `Migrating from AgentExecutor <https://python.langchain.com/docs/how_to/migrate_agent/>`_ and LangGraph's `Pre-built ReAct agent <https://langchain-ai.github.io/langgraph/how-tos/create-react-agent/>`_.\n",
      "  agent = initialize_agent(\n",
      "/tmp/ipykernel_11995/3180740728.py:11: LangChainDeprecationWarning: The method `Chain.run` was deprecated in langchain 0.1.0 and will be removed in 1.0. Use :meth:`~invoke` instead.\n",
      "  agent.run(\"Powiedz mi, czym zajmują się firmy LangChain, Tesla oraz OpenAI. Następnie podaj sumę liczby lat na rynku tych 3 firm.\")\n"
     ]
    },
    {
     "name": "stdout",
     "output_type": "stream",
     "text": [
      "\n",
      "\n",
      "\u001B[1m> Entering new AgentExecutor chain...\u001B[0m\n",
      "\u001B[32;1m\u001B[1;3mAction:\n",
      "```\n",
      "{\n",
      "  \"action\": \"company_info\",\n",
      "  \"action_input\": {\n",
      "    \"name\": \"LangChain\"\n",
      "  }\n",
      "}\n",
      "```\u001B[0m\n",
      "Observation: \u001B[33;1m\u001B[1;3mFramework do budowania aplikacji AI z LLM. Istnieje od 4 lat.\u001B[0m\n",
      "Thought:\u001B[32;1m\u001B[1;3mAction:\n",
      "```\n",
      "{\n",
      "  \"action\": \"company_info\",\n",
      "  \"action_input\": {\n",
      "    \"name\": \"Tesla\"\n",
      "  }\n",
      "}\n",
      "```\u001B[0m\n",
      "Observation: \u001B[33;1m\u001B[1;3mProducent samochodów elektrycznych. Istnieje 23 lata.\u001B[0m\n",
      "Thought:\u001B[32;1m\u001B[1;3mAction:\n",
      "```\n",
      "{\n",
      "  \"action\": \"company_info\",\n",
      "  \"action_input\": {\n",
      "    \"name\": \"OpenAI\"\n",
      "  }\n",
      "}\n",
      "```\n",
      "\u001B[0m\n",
      "Observation: \u001B[33;1m\u001B[1;3mFirma zajmująca się sztuczną inteligencją, twórca ChatGPT. Istnieje od 10 lat. \u001B[0m\n",
      "Thought:\u001B[32;1m\u001B[1;3mAction:\n",
      "```\n",
      "{\n",
      "  \"action\": \"add_numbers\",\n",
      "  \"action_input\": {\n",
      "    \"kwargs\": {\n",
      "      \"LangChain\": 4,\n",
      "      \"Tesla\": 23,\n",
      "      \"OpenAI\": 10\n",
      "    }\n",
      "  }\n",
      "}\n",
      "```\n",
      "\u001B[0m\n",
      "Observation: \u001B[36;1m\u001B[1;3m37\u001B[0m\n",
      "Thought:\u001B[32;1m\u001B[1;3mAction:\n",
      "```\n",
      "{\n",
      "  \"action\": \"Final Answer\",\n",
      "  \"action_input\": \"LangChain zajmuje się tworzeniem frameworków do budowania aplikacji AI z LLM i istnieje od 4 lat. Tesla to producent samochodów elektrycznych, który istnieje od 23 lat. OpenAI to firma zajmująca się sztuczną inteligencją, twórca ChatGPT, istniejąca od 10 lat. Suma liczby lat na rynku tych trzech firm wynosi 37 lat.\"\n",
      "}\n",
      "```\u001B[0m\n",
      "\n",
      "\u001B[1m> Finished chain.\u001B[0m\n"
     ]
    },
    {
     "data": {
      "text/plain": [
       "'LangChain zajmuje się tworzeniem frameworków do budowania aplikacji AI z LLM i istnieje od 4 lat. Tesla to producent samochodów elektrycznych, który istnieje od 23 lat. OpenAI to firma zajmująca się sztuczną inteligencją, twórca ChatGPT, istniejąca od 10 lat. Suma liczby lat na rynku tych trzech firm wynosi 37 lat.'"
      ]
     },
     "execution_count": 15,
     "metadata": {},
     "output_type": "execute_result"
    }
   ],
   "execution_count": 15
  }
 ],
 "metadata": {
  "kernelspec": {
   "display_name": "Python 3",
   "language": "python",
   "name": "python3"
  },
  "language_info": {
   "codemirror_mode": {
    "name": "ipython",
    "version": 2
   },
   "file_extension": ".py",
   "mimetype": "text/x-python",
   "name": "python",
   "nbconvert_exporter": "python",
   "pygments_lexer": "ipython2",
   "version": "2.7.6"
  }
 },
 "nbformat": 4,
 "nbformat_minor": 5
}
