{
 "cells": [
  {
   "metadata": {},
   "cell_type": "markdown",
   "source": "## Agent ReAct",
   "id": "228b8f8aad578187"
  },
  {
   "cell_type": "code",
   "id": "initial_id",
   "metadata": {
    "collapsed": true,
    "ExecuteTime": {
     "end_time": "2025-08-31T15:22:36.623580Z",
     "start_time": "2025-08-31T15:22:35.414666Z"
    }
   },
   "source": "!pip install -q langchain langchain-openai python-dotenv\n",
   "outputs": [],
   "execution_count": 1
  },
  {
   "metadata": {
    "ExecuteTime": {
     "end_time": "2025-08-31T15:22:37.693012Z",
     "start_time": "2025-08-31T15:22:36.643117Z"
    }
   },
   "cell_type": "code",
   "source": [
    "import os\n",
    "from dotenv import load_dotenv\n",
    "load_dotenv()\n",
    "\n",
    "from langchain_openai import ChatOpenAI\n",
    "\n",
    "llm = ChatOpenAI(model=\"gpt-4o-mini\", temperature=0)\n",
    "print(\"Model gotowy.\")\n"
   ],
   "id": "5240fd15006a06a1",
   "outputs": [
    {
     "name": "stdout",
     "output_type": "stream",
     "text": [
      "Model gotowy.\n"
     ]
    }
   ],
   "execution_count": 2
  },
  {
   "metadata": {},
   "cell_type": "markdown",
   "source": "### Definiowanie narzędzi",
   "id": "75e02ee7613800fd"
  },
  {
   "metadata": {
    "ExecuteTime": {
     "end_time": "2025-08-31T15:22:46.352650Z",
     "start_time": "2025-08-31T15:22:46.337406Z"
    }
   },
   "cell_type": "code",
   "source": [
    "from langchain.tools import tool\n",
    "\n",
    "@tool\n",
    "def multiply_numbers(x: int, y: int) -> int:\n",
    "    \"\"\"Mnoży dwie liczby całkowite.\"\"\"\n",
    "    return x * y\n",
    "\n",
    "@tool\n",
    "def company_info(name: str) -> str:\n",
    "    \"\"\"Zwraca podstawowe informacje o firmie.\"\"\"\n",
    "    data = {\n",
    "        \"OpenAI\": \"Firma zajmująca się sztuczną inteligencją, twórca ChatGPT.\",\n",
    "        \"LangChain\": \"Framework do budowania aplikacji AI z LLM.\",\n",
    "        \"Tesla\": \"Producent samochodów elektrycznych.\"\n",
    "    }\n",
    "    return data.get(name, \"Nie mam informacji o tej firmie.\")\n"
   ],
   "id": "96fea1fdda044131",
   "outputs": [],
   "execution_count": 3
  },
  {
   "metadata": {},
   "cell_type": "markdown",
   "source": "### Agent ReAct",
   "id": "8bfb9446ea2c3fa0"
  },
  {
   "metadata": {
    "ExecuteTime": {
     "end_time": "2025-08-31T15:25:27.404768Z",
     "start_time": "2025-08-31T15:25:27.400902Z"
    }
   },
   "cell_type": "code",
   "source": [
    "from langchain.agents import initialize_agent, AgentType\n",
    "\n",
    "tools = [multiply_numbers, company_info]\n",
    "\n",
    "agent = initialize_agent(\n",
    "    tools=tools,\n",
    "    llm=llm,\n",
    "    agent=AgentType.STRUCTURED_CHAT_ZERO_SHOT_REACT_DESCRIPTION,  # ReAct Agent\n",
    "    verbose=True  # pokazuje reasoning krok po kroku\n",
    ")\n"
   ],
   "id": "b4b71f37e04e7ccd",
   "outputs": [],
   "execution_count": 5
  },
  {
   "metadata": {},
   "cell_type": "markdown",
   "source": "### Test agenta",
   "id": "538b0d2a28bac9ee"
  },
  {
   "metadata": {
    "ExecuteTime": {
     "end_time": "2025-08-31T15:25:36.732356Z",
     "start_time": "2025-08-31T15:25:29.369056Z"
    }
   },
   "cell_type": "code",
   "source": [
    "# Zadanie matematyczne\n",
    "print(\"=== Zadanie 1 ===\")\n",
    "agent.run(\"Policz 23 * 7\")\n",
    "\n",
    "# Zadanie informacyjne\n",
    "print(\"\\n=== Zadanie 2 ===\")\n",
    "agent.run(\"Powiedz mi, czym zajmuje się firma LangChain.\")"
   ],
   "id": "20fe17d832057375",
   "outputs": [
    {
     "name": "stdout",
     "output_type": "stream",
     "text": [
      "=== Zadanie 1 ===\n",
      "\n",
      "\n",
      "\u001B[1m> Entering new AgentExecutor chain...\u001B[0m\n"
     ]
    },
    {
     "name": "stderr",
     "output_type": "stream",
     "text": [
      "/tmp/ipykernel_7598/2976062710.py:3: LangChainDeprecationWarning: The method `Chain.run` was deprecated in langchain 0.1.0 and will be removed in 1.0. Use :meth:`~invoke` instead.\n",
      "  agent.run(\"Policz 23 * 7\")\n"
     ]
    },
    {
     "name": "stdout",
     "output_type": "stream",
     "text": [
      "\u001B[32;1m\u001B[1;3mThought: I need to multiply the numbers 23 and 7. \n",
      "Action:\n",
      "```\n",
      "{\n",
      "  \"action\": \"multiply_numbers\",\n",
      "  \"action_input\": {\n",
      "    \"x\": 23,\n",
      "    \"y\": 7\n",
      "  }\n",
      "}\n",
      "```\n",
      "\u001B[0m\n",
      "Observation: \u001B[36;1m\u001B[1;3m161\u001B[0m\n",
      "Thought:\u001B[32;1m\u001B[1;3mI have calculated the multiplication of 23 and 7, which equals 161. \n",
      "\n",
      "Action:\n",
      "```\n",
      "{\n",
      "  \"action\": \"Final Answer\",\n",
      "  \"action_input\": \"23 * 7 = 161\"\n",
      "}\n",
      "```\n",
      "\u001B[0m\n",
      "\n",
      "\u001B[1m> Finished chain.\u001B[0m\n",
      "\n",
      "=== Zadanie 2 ===\n",
      "\n",
      "\n",
      "\u001B[1m> Entering new AgentExecutor chain...\u001B[0m\n",
      "\u001B[32;1m\u001B[1;3mThought: Chcę uzyskać podstawowe informacje o firmie LangChain, aby odpowiedzieć na pytanie. \n",
      "Action:\n",
      "```\n",
      "{\n",
      "  \"action\": \"company_info\",\n",
      "  \"action_input\": {\n",
      "    \"name\": \"LangChain\"\n",
      "  }\n",
      "}\n",
      "```\n",
      "\u001B[0m\n",
      "Observation: \u001B[33;1m\u001B[1;3mFramework do budowania aplikacji AI z LLM.\u001B[0m\n",
      "Thought:\u001B[32;1m\u001B[1;3mMyślę, że mam wystarczające informacje, aby odpowiedzieć na pytanie. LangChain to framework do budowania aplikacji AI z wykorzystaniem modeli językowych (LLM). \n",
      "\n",
      "Action:\n",
      "```\n",
      "{\n",
      "  \"action\": \"Final Answer\",\n",
      "  \"action_input\": \"LangChain to framework do budowania aplikacji AI z wykorzystaniem modeli językowych (LLM).\"\n",
      "}\n",
      "```\n",
      "\u001B[0m\n",
      "\n",
      "\u001B[1m> Finished chain.\u001B[0m\n"
     ]
    },
    {
     "data": {
      "text/plain": [
       "'LangChain to framework do budowania aplikacji AI z wykorzystaniem modeli językowych (LLM).'"
      ]
     },
     "execution_count": 6,
     "metadata": {},
     "output_type": "execute_result"
    }
   ],
   "execution_count": 6
  },
  {
   "metadata": {},
   "cell_type": "markdown",
   "source": "### Dodanie nowego narzędzia (API z kursem walut)",
   "id": "7aef4cca1c638160"
  },
  {
   "metadata": {
    "ExecuteTime": {
     "end_time": "2025-08-31T15:26:10.863490Z",
     "start_time": "2025-08-31T15:26:08.239068Z"
    }
   },
   "cell_type": "code",
   "source": [
    "import requests\n",
    "\n",
    "@tool\n",
    "def get_exchange_rate(currency: str) -> str:\n",
    "    \"\"\"Zwraca kurs wymiany waluty względem USD.\"\"\"\n",
    "    url = f\"https://api.exchangerate.host/latest?base=USD&symbols={currency.upper()}\"\n",
    "    response = requests.get(url).json()\n",
    "    rate = response[\"rates\"].get(currency.upper())\n",
    "    return f\"1 USD = {rate} {currency.upper()}\"\n",
    "\n",
    "tools = [multiply_numbers, company_info, get_exchange_rate]\n",
    "\n",
    "agent = initialize_agent(\n",
    "    tools=tools,\n",
    "    llm=llm,\n",
    "    agent=AgentType.STRUCTURED_CHAT_ZERO_SHOT_REACT_DESCRIPTION,\n",
    "    verbose=True\n",
    ")\n",
    "\n",
    "print(\"\\n=== Zadanie 3 ===\")\n",
    "agent.run(\"Jaki jest obecnie kurs euro względem dolara?\")\n"
   ],
   "id": "684d155e83dbc413",
   "outputs": [
    {
     "name": "stdout",
     "output_type": "stream",
     "text": [
      "\n",
      "=== Zadanie 3 ===\n",
      "\n",
      "\n",
      "\u001B[1m> Entering new AgentExecutor chain...\u001B[0m\n",
      "\u001B[32;1m\u001B[1;3mThought: Aby uzyskać aktualny kurs euro względem dolara, muszę użyć odpowiedniego narzędzia do sprawdzenia kursu wymiany walut. \n",
      "Action:\n",
      "```\n",
      "{\n",
      "  \"action\": \"get_exchange_rate\",\n",
      "  \"action_input\": {\n",
      "    \"currency\": \"EUR\"\n",
      "  }\n",
      "}\n",
      "```\n",
      "\u001B[0m"
     ]
    },
    {
     "ename": "KeyError",
     "evalue": "'rates'",
     "output_type": "error",
     "traceback": [
      "\u001B[31m---------------------------------------------------------------------------\u001B[39m",
      "\u001B[31mKeyError\u001B[39m                                  Traceback (most recent call last)",
      "\u001B[36mCell\u001B[39m\u001B[36m \u001B[39m\u001B[32mIn[8]\u001B[39m\u001B[32m, line 21\u001B[39m\n\u001B[32m     13\u001B[39m agent = initialize_agent(\n\u001B[32m     14\u001B[39m     tools=tools,\n\u001B[32m     15\u001B[39m     llm=llm,\n\u001B[32m     16\u001B[39m     agent=AgentType.STRUCTURED_CHAT_ZERO_SHOT_REACT_DESCRIPTION, \n\u001B[32m     17\u001B[39m     verbose=\u001B[38;5;28;01mTrue\u001B[39;00m\n\u001B[32m     18\u001B[39m )\n\u001B[32m     20\u001B[39m \u001B[38;5;28mprint\u001B[39m(\u001B[33m\"\u001B[39m\u001B[38;5;130;01m\\n\u001B[39;00m\u001B[33m=== Zadanie 3 ===\u001B[39m\u001B[33m\"\u001B[39m)\n\u001B[32m---> \u001B[39m\u001B[32m21\u001B[39m \u001B[43magent\u001B[49m\u001B[43m.\u001B[49m\u001B[43mrun\u001B[49m\u001B[43m(\u001B[49m\u001B[33;43m\"\u001B[39;49m\u001B[33;43mJaki jest obecnie kurs euro względem dolara?\u001B[39;49m\u001B[33;43m\"\u001B[39;49m\u001B[43m)\u001B[49m\n",
      "\u001B[36mFile \u001B[39m\u001B[32m~/anaconda3/lib/python3.13/site-packages/langchain_core/_api/deprecation.py:190\u001B[39m, in \u001B[36mdeprecated.<locals>.deprecate.<locals>.warning_emitting_wrapper\u001B[39m\u001B[34m(*args, **kwargs)\u001B[39m\n\u001B[32m    188\u001B[39m     warned = \u001B[38;5;28;01mTrue\u001B[39;00m\n\u001B[32m    189\u001B[39m     emit_warning()\n\u001B[32m--> \u001B[39m\u001B[32m190\u001B[39m \u001B[38;5;28;01mreturn\u001B[39;00m \u001B[43mwrapped\u001B[49m\u001B[43m(\u001B[49m\u001B[43m*\u001B[49m\u001B[43margs\u001B[49m\u001B[43m,\u001B[49m\u001B[43m \u001B[49m\u001B[43m*\u001B[49m\u001B[43m*\u001B[49m\u001B[43mkwargs\u001B[49m\u001B[43m)\u001B[49m\n",
      "\u001B[36mFile \u001B[39m\u001B[32m~/anaconda3/lib/python3.13/site-packages/langchain/chains/base.py:627\u001B[39m, in \u001B[36mChain.run\u001B[39m\u001B[34m(self, callbacks, tags, metadata, *args, **kwargs)\u001B[39m\n\u001B[32m    625\u001B[39m         msg = \u001B[33m\"\u001B[39m\u001B[33m`run` supports only one positional argument.\u001B[39m\u001B[33m\"\u001B[39m\n\u001B[32m    626\u001B[39m         \u001B[38;5;28;01mraise\u001B[39;00m \u001B[38;5;167;01mValueError\u001B[39;00m(msg)\n\u001B[32m--> \u001B[39m\u001B[32m627\u001B[39m     \u001B[38;5;28;01mreturn\u001B[39;00m \u001B[38;5;28;43mself\u001B[39;49m\u001B[43m(\u001B[49m\u001B[43margs\u001B[49m\u001B[43m[\u001B[49m\u001B[32;43m0\u001B[39;49m\u001B[43m]\u001B[49m\u001B[43m,\u001B[49m\u001B[43m \u001B[49m\u001B[43mcallbacks\u001B[49m\u001B[43m=\u001B[49m\u001B[43mcallbacks\u001B[49m\u001B[43m,\u001B[49m\u001B[43m \u001B[49m\u001B[43mtags\u001B[49m\u001B[43m=\u001B[49m\u001B[43mtags\u001B[49m\u001B[43m,\u001B[49m\u001B[43m \u001B[49m\u001B[43mmetadata\u001B[49m\u001B[43m=\u001B[49m\u001B[43mmetadata\u001B[49m\u001B[43m)\u001B[49m[\n\u001B[32m    628\u001B[39m         _output_key\n\u001B[32m    629\u001B[39m     ]\n\u001B[32m    631\u001B[39m \u001B[38;5;28;01mif\u001B[39;00m kwargs \u001B[38;5;129;01mand\u001B[39;00m \u001B[38;5;129;01mnot\u001B[39;00m args:\n\u001B[32m    632\u001B[39m     \u001B[38;5;28;01mreturn\u001B[39;00m \u001B[38;5;28mself\u001B[39m(kwargs, callbacks=callbacks, tags=tags, metadata=metadata)[\n\u001B[32m    633\u001B[39m         _output_key\n\u001B[32m    634\u001B[39m     ]\n",
      "\u001B[36mFile \u001B[39m\u001B[32m~/anaconda3/lib/python3.13/site-packages/langchain_core/_api/deprecation.py:190\u001B[39m, in \u001B[36mdeprecated.<locals>.deprecate.<locals>.warning_emitting_wrapper\u001B[39m\u001B[34m(*args, **kwargs)\u001B[39m\n\u001B[32m    188\u001B[39m     warned = \u001B[38;5;28;01mTrue\u001B[39;00m\n\u001B[32m    189\u001B[39m     emit_warning()\n\u001B[32m--> \u001B[39m\u001B[32m190\u001B[39m \u001B[38;5;28;01mreturn\u001B[39;00m \u001B[43mwrapped\u001B[49m\u001B[43m(\u001B[49m\u001B[43m*\u001B[49m\u001B[43margs\u001B[49m\u001B[43m,\u001B[49m\u001B[43m \u001B[49m\u001B[43m*\u001B[49m\u001B[43m*\u001B[49m\u001B[43mkwargs\u001B[49m\u001B[43m)\u001B[49m\n",
      "\u001B[36mFile \u001B[39m\u001B[32m~/anaconda3/lib/python3.13/site-packages/langchain/chains/base.py:410\u001B[39m, in \u001B[36mChain.__call__\u001B[39m\u001B[34m(self, inputs, return_only_outputs, callbacks, tags, metadata, run_name, include_run_info)\u001B[39m\n\u001B[32m    378\u001B[39m \u001B[38;5;250m\u001B[39m\u001B[33;03m\"\"\"Execute the chain.\u001B[39;00m\n\u001B[32m    379\u001B[39m \n\u001B[32m    380\u001B[39m \u001B[33;03mArgs:\u001B[39;00m\n\u001B[32m   (...)\u001B[39m\u001B[32m    401\u001B[39m \u001B[33;03m        `Chain.output_keys`.\u001B[39;00m\n\u001B[32m    402\u001B[39m \u001B[33;03m\"\"\"\u001B[39;00m\n\u001B[32m    403\u001B[39m config = {\n\u001B[32m    404\u001B[39m     \u001B[33m\"\u001B[39m\u001B[33mcallbacks\u001B[39m\u001B[33m\"\u001B[39m: callbacks,\n\u001B[32m    405\u001B[39m     \u001B[33m\"\u001B[39m\u001B[33mtags\u001B[39m\u001B[33m\"\u001B[39m: tags,\n\u001B[32m    406\u001B[39m     \u001B[33m\"\u001B[39m\u001B[33mmetadata\u001B[39m\u001B[33m\"\u001B[39m: metadata,\n\u001B[32m    407\u001B[39m     \u001B[33m\"\u001B[39m\u001B[33mrun_name\u001B[39m\u001B[33m\"\u001B[39m: run_name,\n\u001B[32m    408\u001B[39m }\n\u001B[32m--> \u001B[39m\u001B[32m410\u001B[39m \u001B[38;5;28;01mreturn\u001B[39;00m \u001B[38;5;28;43mself\u001B[39;49m\u001B[43m.\u001B[49m\u001B[43minvoke\u001B[49m\u001B[43m(\u001B[49m\n\u001B[32m    411\u001B[39m \u001B[43m    \u001B[49m\u001B[43minputs\u001B[49m\u001B[43m,\u001B[49m\n\u001B[32m    412\u001B[39m \u001B[43m    \u001B[49m\u001B[43mcast\u001B[49m\u001B[43m(\u001B[49m\u001B[43mRunnableConfig\u001B[49m\u001B[43m,\u001B[49m\u001B[43m \u001B[49m\u001B[43m{\u001B[49m\u001B[43mk\u001B[49m\u001B[43m:\u001B[49m\u001B[43m \u001B[49m\u001B[43mv\u001B[49m\u001B[43m \u001B[49m\u001B[38;5;28;43;01mfor\u001B[39;49;00m\u001B[43m \u001B[49m\u001B[43mk\u001B[49m\u001B[43m,\u001B[49m\u001B[43m \u001B[49m\u001B[43mv\u001B[49m\u001B[43m \u001B[49m\u001B[38;5;129;43;01min\u001B[39;49;00m\u001B[43m \u001B[49m\u001B[43mconfig\u001B[49m\u001B[43m.\u001B[49m\u001B[43mitems\u001B[49m\u001B[43m(\u001B[49m\u001B[43m)\u001B[49m\u001B[43m \u001B[49m\u001B[38;5;28;43;01mif\u001B[39;49;00m\u001B[43m \u001B[49m\u001B[43mv\u001B[49m\u001B[43m \u001B[49m\u001B[38;5;129;43;01mis\u001B[39;49;00m\u001B[43m \u001B[49m\u001B[38;5;129;43;01mnot\u001B[39;49;00m\u001B[43m \u001B[49m\u001B[38;5;28;43;01mNone\u001B[39;49;00m\u001B[43m}\u001B[49m\u001B[43m)\u001B[49m\u001B[43m,\u001B[49m\n\u001B[32m    413\u001B[39m \u001B[43m    \u001B[49m\u001B[43mreturn_only_outputs\u001B[49m\u001B[43m=\u001B[49m\u001B[43mreturn_only_outputs\u001B[49m\u001B[43m,\u001B[49m\n\u001B[32m    414\u001B[39m \u001B[43m    \u001B[49m\u001B[43minclude_run_info\u001B[49m\u001B[43m=\u001B[49m\u001B[43minclude_run_info\u001B[49m\u001B[43m,\u001B[49m\n\u001B[32m    415\u001B[39m \u001B[43m\u001B[49m\u001B[43m)\u001B[49m\n",
      "\u001B[36mFile \u001B[39m\u001B[32m~/anaconda3/lib/python3.13/site-packages/langchain/chains/base.py:165\u001B[39m, in \u001B[36mChain.invoke\u001B[39m\u001B[34m(self, input, config, **kwargs)\u001B[39m\n\u001B[32m    162\u001B[39m \u001B[38;5;28;01mtry\u001B[39;00m:\n\u001B[32m    163\u001B[39m     \u001B[38;5;28mself\u001B[39m._validate_inputs(inputs)\n\u001B[32m    164\u001B[39m     outputs = (\n\u001B[32m--> \u001B[39m\u001B[32m165\u001B[39m         \u001B[38;5;28;43mself\u001B[39;49m\u001B[43m.\u001B[49m\u001B[43m_call\u001B[49m\u001B[43m(\u001B[49m\u001B[43minputs\u001B[49m\u001B[43m,\u001B[49m\u001B[43m \u001B[49m\u001B[43mrun_manager\u001B[49m\u001B[43m=\u001B[49m\u001B[43mrun_manager\u001B[49m\u001B[43m)\u001B[49m\n\u001B[32m    166\u001B[39m         \u001B[38;5;28;01mif\u001B[39;00m new_arg_supported\n\u001B[32m    167\u001B[39m         \u001B[38;5;28;01melse\u001B[39;00m \u001B[38;5;28mself\u001B[39m._call(inputs)\n\u001B[32m    168\u001B[39m     )\n\u001B[32m    170\u001B[39m     final_outputs: \u001B[38;5;28mdict\u001B[39m[\u001B[38;5;28mstr\u001B[39m, Any] = \u001B[38;5;28mself\u001B[39m.prep_outputs(\n\u001B[32m    171\u001B[39m         inputs,\n\u001B[32m    172\u001B[39m         outputs,\n\u001B[32m    173\u001B[39m         return_only_outputs,\n\u001B[32m    174\u001B[39m     )\n\u001B[32m    175\u001B[39m \u001B[38;5;28;01mexcept\u001B[39;00m \u001B[38;5;167;01mBaseException\u001B[39;00m \u001B[38;5;28;01mas\u001B[39;00m e:\n",
      "\u001B[36mFile \u001B[39m\u001B[32m~/anaconda3/lib/python3.13/site-packages/langchain/agents/agent.py:1625\u001B[39m, in \u001B[36mAgentExecutor._call\u001B[39m\u001B[34m(self, inputs, run_manager)\u001B[39m\n\u001B[32m   1623\u001B[39m \u001B[38;5;66;03m# We now enter the agent loop (until it returns something).\u001B[39;00m\n\u001B[32m   1624\u001B[39m \u001B[38;5;28;01mwhile\u001B[39;00m \u001B[38;5;28mself\u001B[39m._should_continue(iterations, time_elapsed):\n\u001B[32m-> \u001B[39m\u001B[32m1625\u001B[39m     next_step_output = \u001B[38;5;28;43mself\u001B[39;49m\u001B[43m.\u001B[49m\u001B[43m_take_next_step\u001B[49m\u001B[43m(\u001B[49m\n\u001B[32m   1626\u001B[39m \u001B[43m        \u001B[49m\u001B[43mname_to_tool_map\u001B[49m\u001B[43m,\u001B[49m\n\u001B[32m   1627\u001B[39m \u001B[43m        \u001B[49m\u001B[43mcolor_mapping\u001B[49m\u001B[43m,\u001B[49m\n\u001B[32m   1628\u001B[39m \u001B[43m        \u001B[49m\u001B[43minputs\u001B[49m\u001B[43m,\u001B[49m\n\u001B[32m   1629\u001B[39m \u001B[43m        \u001B[49m\u001B[43mintermediate_steps\u001B[49m\u001B[43m,\u001B[49m\n\u001B[32m   1630\u001B[39m \u001B[43m        \u001B[49m\u001B[43mrun_manager\u001B[49m\u001B[43m=\u001B[49m\u001B[43mrun_manager\u001B[49m\u001B[43m,\u001B[49m\n\u001B[32m   1631\u001B[39m \u001B[43m    \u001B[49m\u001B[43m)\u001B[49m\n\u001B[32m   1632\u001B[39m     \u001B[38;5;28;01mif\u001B[39;00m \u001B[38;5;28misinstance\u001B[39m(next_step_output, AgentFinish):\n\u001B[32m   1633\u001B[39m         \u001B[38;5;28;01mreturn\u001B[39;00m \u001B[38;5;28mself\u001B[39m._return(\n\u001B[32m   1634\u001B[39m             next_step_output,\n\u001B[32m   1635\u001B[39m             intermediate_steps,\n\u001B[32m   1636\u001B[39m             run_manager=run_manager,\n\u001B[32m   1637\u001B[39m         )\n",
      "\u001B[36mFile \u001B[39m\u001B[32m~/anaconda3/lib/python3.13/site-packages/langchain/agents/agent.py:1325\u001B[39m, in \u001B[36mAgentExecutor._take_next_step\u001B[39m\u001B[34m(self, name_to_tool_map, color_mapping, inputs, intermediate_steps, run_manager)\u001B[39m\n\u001B[32m   1316\u001B[39m \u001B[38;5;28;01mdef\u001B[39;00m\u001B[38;5;250m \u001B[39m\u001B[34m_take_next_step\u001B[39m(\n\u001B[32m   1317\u001B[39m     \u001B[38;5;28mself\u001B[39m,\n\u001B[32m   1318\u001B[39m     name_to_tool_map: \u001B[38;5;28mdict\u001B[39m[\u001B[38;5;28mstr\u001B[39m, BaseTool],\n\u001B[32m   (...)\u001B[39m\u001B[32m   1322\u001B[39m     run_manager: Optional[CallbackManagerForChainRun] = \u001B[38;5;28;01mNone\u001B[39;00m,\n\u001B[32m   1323\u001B[39m ) -> Union[AgentFinish, \u001B[38;5;28mlist\u001B[39m[\u001B[38;5;28mtuple\u001B[39m[AgentAction, \u001B[38;5;28mstr\u001B[39m]]]:\n\u001B[32m   1324\u001B[39m     \u001B[38;5;28;01mreturn\u001B[39;00m \u001B[38;5;28mself\u001B[39m._consume_next_step(\n\u001B[32m-> \u001B[39m\u001B[32m1325\u001B[39m         \u001B[38;5;28;43mlist\u001B[39;49m\u001B[43m(\u001B[49m\n\u001B[32m   1326\u001B[39m \u001B[43m            \u001B[49m\u001B[38;5;28;43mself\u001B[39;49m\u001B[43m.\u001B[49m\u001B[43m_iter_next_step\u001B[49m\u001B[43m(\u001B[49m\n\u001B[32m   1327\u001B[39m \u001B[43m                \u001B[49m\u001B[43mname_to_tool_map\u001B[49m\u001B[43m,\u001B[49m\n\u001B[32m   1328\u001B[39m \u001B[43m                \u001B[49m\u001B[43mcolor_mapping\u001B[49m\u001B[43m,\u001B[49m\n\u001B[32m   1329\u001B[39m \u001B[43m                \u001B[49m\u001B[43minputs\u001B[49m\u001B[43m,\u001B[49m\n\u001B[32m   1330\u001B[39m \u001B[43m                \u001B[49m\u001B[43mintermediate_steps\u001B[49m\u001B[43m,\u001B[49m\n\u001B[32m   1331\u001B[39m \u001B[43m                \u001B[49m\u001B[43mrun_manager\u001B[49m\u001B[43m,\u001B[49m\n\u001B[32m   1332\u001B[39m \u001B[43m            \u001B[49m\u001B[43m)\u001B[49m\u001B[43m,\u001B[49m\n\u001B[32m   1333\u001B[39m \u001B[43m        \u001B[49m\u001B[43m)\u001B[49m,\n\u001B[32m   1334\u001B[39m     )\n",
      "\u001B[36mFile \u001B[39m\u001B[32m~/anaconda3/lib/python3.13/site-packages/langchain/agents/agent.py:1408\u001B[39m, in \u001B[36mAgentExecutor._iter_next_step\u001B[39m\u001B[34m(self, name_to_tool_map, color_mapping, inputs, intermediate_steps, run_manager)\u001B[39m\n\u001B[32m   1406\u001B[39m     \u001B[38;5;28;01myield\u001B[39;00m agent_action\n\u001B[32m   1407\u001B[39m \u001B[38;5;28;01mfor\u001B[39;00m agent_action \u001B[38;5;129;01min\u001B[39;00m actions:\n\u001B[32m-> \u001B[39m\u001B[32m1408\u001B[39m     \u001B[38;5;28;01myield\u001B[39;00m \u001B[38;5;28;43mself\u001B[39;49m\u001B[43m.\u001B[49m\u001B[43m_perform_agent_action\u001B[49m\u001B[43m(\u001B[49m\n\u001B[32m   1409\u001B[39m \u001B[43m        \u001B[49m\u001B[43mname_to_tool_map\u001B[49m\u001B[43m,\u001B[49m\n\u001B[32m   1410\u001B[39m \u001B[43m        \u001B[49m\u001B[43mcolor_mapping\u001B[49m\u001B[43m,\u001B[49m\n\u001B[32m   1411\u001B[39m \u001B[43m        \u001B[49m\u001B[43magent_action\u001B[49m\u001B[43m,\u001B[49m\n\u001B[32m   1412\u001B[39m \u001B[43m        \u001B[49m\u001B[43mrun_manager\u001B[49m\u001B[43m,\u001B[49m\n\u001B[32m   1413\u001B[39m \u001B[43m    \u001B[49m\u001B[43m)\u001B[49m\n",
      "\u001B[36mFile \u001B[39m\u001B[32m~/anaconda3/lib/python3.13/site-packages/langchain/agents/agent.py:1433\u001B[39m, in \u001B[36mAgentExecutor._perform_agent_action\u001B[39m\u001B[34m(self, name_to_tool_map, color_mapping, agent_action, run_manager)\u001B[39m\n\u001B[32m   1431\u001B[39m         tool_run_kwargs[\u001B[33m\"\u001B[39m\u001B[33mllm_prefix\u001B[39m\u001B[33m\"\u001B[39m] = \u001B[33m\"\u001B[39m\u001B[33m\"\u001B[39m\n\u001B[32m   1432\u001B[39m     \u001B[38;5;66;03m# We then call the tool on the tool input to get an observation\u001B[39;00m\n\u001B[32m-> \u001B[39m\u001B[32m1433\u001B[39m     observation = \u001B[43mtool\u001B[49m\u001B[43m.\u001B[49m\u001B[43mrun\u001B[49m\u001B[43m(\u001B[49m\n\u001B[32m   1434\u001B[39m \u001B[43m        \u001B[49m\u001B[43magent_action\u001B[49m\u001B[43m.\u001B[49m\u001B[43mtool_input\u001B[49m\u001B[43m,\u001B[49m\n\u001B[32m   1435\u001B[39m \u001B[43m        \u001B[49m\u001B[43mverbose\u001B[49m\u001B[43m=\u001B[49m\u001B[38;5;28;43mself\u001B[39;49m\u001B[43m.\u001B[49m\u001B[43mverbose\u001B[49m\u001B[43m,\u001B[49m\n\u001B[32m   1436\u001B[39m \u001B[43m        \u001B[49m\u001B[43mcolor\u001B[49m\u001B[43m=\u001B[49m\u001B[43mcolor\u001B[49m\u001B[43m,\u001B[49m\n\u001B[32m   1437\u001B[39m \u001B[43m        \u001B[49m\u001B[43mcallbacks\u001B[49m\u001B[43m=\u001B[49m\u001B[43mrun_manager\u001B[49m\u001B[43m.\u001B[49m\u001B[43mget_child\u001B[49m\u001B[43m(\u001B[49m\u001B[43m)\u001B[49m\u001B[43m \u001B[49m\u001B[38;5;28;43;01mif\u001B[39;49;00m\u001B[43m \u001B[49m\u001B[43mrun_manager\u001B[49m\u001B[43m \u001B[49m\u001B[38;5;28;43;01melse\u001B[39;49;00m\u001B[43m \u001B[49m\u001B[38;5;28;43;01mNone\u001B[39;49;00m\u001B[43m,\u001B[49m\n\u001B[32m   1438\u001B[39m \u001B[43m        \u001B[49m\u001B[43m*\u001B[49m\u001B[43m*\u001B[49m\u001B[43mtool_run_kwargs\u001B[49m\u001B[43m,\u001B[49m\n\u001B[32m   1439\u001B[39m \u001B[43m    \u001B[49m\u001B[43m)\u001B[49m\n\u001B[32m   1440\u001B[39m \u001B[38;5;28;01melse\u001B[39;00m:\n\u001B[32m   1441\u001B[39m     tool_run_kwargs = \u001B[38;5;28mself\u001B[39m._action_agent.tool_run_logging_kwargs()\n",
      "\u001B[36mFile \u001B[39m\u001B[32m~/anaconda3/lib/python3.13/site-packages/langchain_core/tools/base.py:888\u001B[39m, in \u001B[36mBaseTool.run\u001B[39m\u001B[34m(self, tool_input, verbose, start_color, color, callbacks, tags, metadata, run_name, run_id, config, tool_call_id, **kwargs)\u001B[39m\n\u001B[32m    886\u001B[39m \u001B[38;5;28;01mif\u001B[39;00m error_to_raise:\n\u001B[32m    887\u001B[39m     run_manager.on_tool_error(error_to_raise)\n\u001B[32m--> \u001B[39m\u001B[32m888\u001B[39m     \u001B[38;5;28;01mraise\u001B[39;00m error_to_raise\n\u001B[32m    889\u001B[39m output = _format_output(content, artifact, tool_call_id, \u001B[38;5;28mself\u001B[39m.name, status)\n\u001B[32m    890\u001B[39m run_manager.on_tool_end(output, color=color, name=\u001B[38;5;28mself\u001B[39m.name, **kwargs)\n",
      "\u001B[36mFile \u001B[39m\u001B[32m~/anaconda3/lib/python3.13/site-packages/langchain_core/tools/base.py:857\u001B[39m, in \u001B[36mBaseTool.run\u001B[39m\u001B[34m(self, tool_input, verbose, start_color, color, callbacks, tags, metadata, run_name, run_id, config, tool_call_id, **kwargs)\u001B[39m\n\u001B[32m    855\u001B[39m     \u001B[38;5;28;01mif\u001B[39;00m config_param := _get_runnable_config_param(\u001B[38;5;28mself\u001B[39m._run):\n\u001B[32m    856\u001B[39m         tool_kwargs |= {config_param: config}\n\u001B[32m--> \u001B[39m\u001B[32m857\u001B[39m     response = \u001B[43mcontext\u001B[49m\u001B[43m.\u001B[49m\u001B[43mrun\u001B[49m\u001B[43m(\u001B[49m\u001B[38;5;28;43mself\u001B[39;49m\u001B[43m.\u001B[49m\u001B[43m_run\u001B[49m\u001B[43m,\u001B[49m\u001B[43m \u001B[49m\u001B[43m*\u001B[49m\u001B[43mtool_args\u001B[49m\u001B[43m,\u001B[49m\u001B[43m \u001B[49m\u001B[43m*\u001B[49m\u001B[43m*\u001B[49m\u001B[43mtool_kwargs\u001B[49m\u001B[43m)\u001B[49m\n\u001B[32m    858\u001B[39m \u001B[38;5;28;01mif\u001B[39;00m \u001B[38;5;28mself\u001B[39m.response_format == \u001B[33m\"\u001B[39m\u001B[33mcontent_and_artifact\u001B[39m\u001B[33m\"\u001B[39m:\n\u001B[32m    859\u001B[39m     \u001B[38;5;28;01mif\u001B[39;00m \u001B[38;5;129;01mnot\u001B[39;00m \u001B[38;5;28misinstance\u001B[39m(response, \u001B[38;5;28mtuple\u001B[39m) \u001B[38;5;129;01mor\u001B[39;00m \u001B[38;5;28mlen\u001B[39m(response) != \u001B[32m2\u001B[39m:\n",
      "\u001B[36mFile \u001B[39m\u001B[32m~/anaconda3/lib/python3.13/site-packages/langchain_core/tools/structured.py:93\u001B[39m, in \u001B[36mStructuredTool._run\u001B[39m\u001B[34m(self, config, run_manager, *args, **kwargs)\u001B[39m\n\u001B[32m     91\u001B[39m     \u001B[38;5;28;01mif\u001B[39;00m config_param := _get_runnable_config_param(\u001B[38;5;28mself\u001B[39m.func):\n\u001B[32m     92\u001B[39m         kwargs[config_param] = config\n\u001B[32m---> \u001B[39m\u001B[32m93\u001B[39m     \u001B[38;5;28;01mreturn\u001B[39;00m \u001B[38;5;28;43mself\u001B[39;49m\u001B[43m.\u001B[49m\u001B[43mfunc\u001B[49m\u001B[43m(\u001B[49m\u001B[43m*\u001B[49m\u001B[43margs\u001B[49m\u001B[43m,\u001B[49m\u001B[43m \u001B[49m\u001B[43m*\u001B[49m\u001B[43m*\u001B[49m\u001B[43mkwargs\u001B[49m\u001B[43m)\u001B[49m\n\u001B[32m     94\u001B[39m msg = \u001B[33m\"\u001B[39m\u001B[33mStructuredTool does not support sync invocation.\u001B[39m\u001B[33m\"\u001B[39m\n\u001B[32m     95\u001B[39m \u001B[38;5;28;01mraise\u001B[39;00m \u001B[38;5;167;01mNotImplementedError\u001B[39;00m(msg)\n",
      "\u001B[36mCell\u001B[39m\u001B[36m \u001B[39m\u001B[32mIn[8]\u001B[39m\u001B[32m, line 8\u001B[39m, in \u001B[36mget_exchange_rate\u001B[39m\u001B[34m(currency)\u001B[39m\n\u001B[32m      6\u001B[39m url = \u001B[33mf\u001B[39m\u001B[33m\"\u001B[39m\u001B[33mhttps://api.exchangerate.host/latest?base=USD&symbols=\u001B[39m\u001B[38;5;132;01m{\u001B[39;00mcurrency.upper()\u001B[38;5;132;01m}\u001B[39;00m\u001B[33m\"\u001B[39m\n\u001B[32m      7\u001B[39m response = requests.get(url).json()\n\u001B[32m----> \u001B[39m\u001B[32m8\u001B[39m rate = \u001B[43mresponse\u001B[49m\u001B[43m[\u001B[49m\u001B[33;43m\"\u001B[39;49m\u001B[33;43mrates\u001B[39;49m\u001B[33;43m\"\u001B[39;49m\u001B[43m]\u001B[49m.get(currency.upper())\n\u001B[32m      9\u001B[39m \u001B[38;5;28;01mreturn\u001B[39;00m \u001B[33mf\u001B[39m\u001B[33m\"\u001B[39m\u001B[33m1 USD = \u001B[39m\u001B[38;5;132;01m{\u001B[39;00mrate\u001B[38;5;132;01m}\u001B[39;00m\u001B[33m \u001B[39m\u001B[38;5;132;01m{\u001B[39;00mcurrency.upper()\u001B[38;5;132;01m}\u001B[39;00m\u001B[33m\"\u001B[39m\n",
      "\u001B[31mKeyError\u001B[39m: 'rates'"
     ]
    }
   ],
   "execution_count": 8
  }
 ],
 "metadata": {
  "kernelspec": {
   "display_name": "Python 3",
   "language": "python",
   "name": "python3"
  },
  "language_info": {
   "codemirror_mode": {
    "name": "ipython",
    "version": 2
   },
   "file_extension": ".py",
   "mimetype": "text/x-python",
   "name": "python",
   "nbconvert_exporter": "python",
   "pygments_lexer": "ipython2",
   "version": "2.7.6"
  }
 },
 "nbformat": 4,
 "nbformat_minor": 5
}
