{
 "cells": [
  {
   "metadata": {},
   "cell_type": "markdown",
   "source": "## Agent ReAct",
   "id": "228b8f8aad578187"
  },
  {
   "metadata": {},
   "cell_type": "markdown",
   "source": "### Instalacja bibliotek",
   "id": "dca95297b6c17c63"
  },
  {
   "cell_type": "code",
   "id": "initial_id",
   "metadata": {
    "collapsed": true,
    "ExecuteTime": {
     "end_time": "2025-09-12T06:15:27.333548Z",
     "start_time": "2025-09-12T06:15:25.956612Z"
    }
   },
   "source": "!pip install -q langchain langchain-openai python-dotenv",
   "outputs": [],
   "execution_count": 1
  },
  {
   "metadata": {},
   "cell_type": "markdown",
   "source": "### Przygotowanie modelu",
   "id": "549b9e7745772236"
  },
  {
   "metadata": {
    "ExecuteTime": {
     "end_time": "2025-09-16T19:06:02.900480Z",
     "start_time": "2025-09-16T19:05:57.553415Z"
    }
   },
   "cell_type": "code",
   "source": [
    "from langchain_openai import ChatOpenAI\n",
    "from dotenv import load_dotenv\n",
    "load_dotenv()\n",
    "\n",
    "llm = ChatOpenAI(model=\"gpt-4o-mini\", temperature=0)\n",
    "print(\"Model gotowy.\")\n"
   ],
   "id": "5240fd15006a06a1",
   "outputs": [
    {
     "name": "stdout",
     "output_type": "stream",
     "text": [
      "Model gotowy.\n"
     ]
    }
   ],
   "execution_count": 1
  },
  {
   "metadata": {},
   "cell_type": "markdown",
   "source": "### Definiowanie narzędzi",
   "id": "75e02ee7613800fd"
  },
  {
   "metadata": {
    "ExecuteTime": {
     "end_time": "2025-09-16T19:07:52.733296Z",
     "start_time": "2025-09-16T19:07:52.723450Z"
    }
   },
   "cell_type": "code",
   "source": [
    "from langchain.tools import tool\n",
    "\n",
    "@tool\n",
    "def add_numbers(a:int, b:int) -> int:\n",
    "    \"\"\"Add 2 numbers together.\"\"\"\n",
    "    return a + b\n",
    "\n",
    "@tool\n",
    "def company_info(name: str) -> str:\n",
    "    \"return info about company\"\n",
    "    data = {\n",
    "        \"OpenAI\": \"Firma zajmująca się sztuczną inteligencją, twórca ChatGPT.\",\n",
    "        \"LangChain\": \"Framework do budowania aplikacji AI z LLM.\",\n",
    "        \"Tesla\": \"Producent samochodów elektrycznych.\"\n",
    "    }\n",
    "    return data.get(name, \"Nie mam informacji o tej firmie.\")\n",
    "\n",
    "tools = [add_numbers, company_info]"
   ],
   "id": "c6982fef5e26d1a4",
   "outputs": [],
   "execution_count": 3
  },
  {
   "metadata": {},
   "cell_type": "markdown",
   "source": "### Agent ReAct",
   "id": "8bfb9446ea2c3fa0"
  },
  {
   "metadata": {
    "ExecuteTime": {
     "end_time": "2025-09-16T19:10:46.589266Z",
     "start_time": "2025-09-16T19:10:46.584773Z"
    }
   },
   "cell_type": "code",
   "source": [
    "from langchain.agents import initialize_agent, AgentType\n",
    "import warnings\n",
    "warnings.filterwarnings('ignore') #ignoruje zalecenie użycia LangGraph zamiast langchain.agents\n",
    "\n",
    "agent = initialize_agent(\n",
    "    tools=tools,\n",
    "    llm=llm,\n",
    "    agent=AgentType.STRUCTURED_CHAT_ZERO_SHOT_REACT_DESCRIPTION,\n",
    "    verbose=True,\n",
    "    max_iterations=5\n",
    ")"
   ],
   "id": "e23f17e4bd4648e9",
   "outputs": [],
   "execution_count": 7
  },
  {
   "metadata": {},
   "cell_type": "markdown",
   "source": "### Test agenta",
   "id": "538b0d2a28bac9ee"
  },
  {
   "metadata": {
    "ExecuteTime": {
     "end_time": "2025-09-16T19:11:06.217757Z",
     "start_time": "2025-09-16T19:10:53.030617Z"
    }
   },
   "cell_type": "code",
   "source": [
    "# Zadanie matematyczne\n",
    "print(\"=== Zadanie 1 ===\")\n",
    "agent.run(\"Policz 23 + 7\")\n",
    "\n",
    "# Zadanie informacyjne\n",
    "print(\"\\n=== Zadanie 2 ===\")\n",
    "agent.run(\"Powiedz mi, czym zajmuje się firma LangChain.\")"
   ],
   "id": "20fe17d832057375",
   "outputs": [
    {
     "name": "stdout",
     "output_type": "stream",
     "text": [
      "=== Zadanie 1 ===\n",
      "\n",
      "\n",
      "\u001B[1m> Entering new AgentExecutor chain...\u001B[0m\n",
      "\u001B[32;1m\u001B[1;3mThought: I need to add the two numbers 23 and 7 together. \n",
      "Action:\n",
      "```\n",
      "{\n",
      "  \"action\": \"add_numbers\",\n",
      "  \"action_input\": {\n",
      "    \"a\": 23,\n",
      "    \"b\": 7\n",
      "  }\n",
      "}\n",
      "```\n",
      "\u001B[0m\n",
      "Observation: \u001B[36;1m\u001B[1;3m30\u001B[0m\n",
      "Thought:\u001B[32;1m\u001B[1;3mI know the result of the addition is 30. \n",
      "Action:\n",
      "```\n",
      "{\n",
      "  \"action\": \"Final Answer\",\n",
      "  \"action_input\": \"23 + 7 = 30\"\n",
      "}\n",
      "```\n",
      "\u001B[0m\n",
      "\n",
      "\u001B[1m> Finished chain.\u001B[0m\n",
      "\n",
      "=== Zadanie 2 ===\n",
      "\n",
      "\n",
      "\u001B[1m> Entering new AgentExecutor chain...\u001B[0m\n",
      "\u001B[32;1m\u001B[1;3mThought: Chcę uzyskać informacje na temat firmy LangChain, aby odpowiedzieć na pytanie. Użyję narzędzia company_info, aby znaleźć szczegóły dotyczące tej firmy. \n",
      "Action:\n",
      "```\n",
      "{\n",
      "  \"action\": \"company_info\",\n",
      "  \"action_input\": {\n",
      "    \"name\": \"LangChain\"\n",
      "  }\n",
      "}\n",
      "```\n",
      "\u001B[0m\n",
      "Observation: \u001B[33;1m\u001B[1;3mFramework do budowania aplikacji AI z LLM.\u001B[0m\n",
      "Thought:\u001B[32;1m\u001B[1;3mMyśl: Teraz, gdy mam informacje o firmie LangChain, mogę sformułować odpowiedź. \n",
      "Akcja:\n",
      "```\n",
      "{\n",
      "  \"action\": \"Final Answer\",\n",
      "  \"action_input\": \"Firma LangChain zajmuje się tworzeniem frameworku do budowania aplikacji AI z wykorzystaniem dużych modeli językowych (LLM).\"\n",
      "}\n",
      "```\n",
      "Obserwacja: Odpowiedź została sformułowana.\u001B[0m\n",
      "\n",
      "\u001B[1m> Finished chain.\u001B[0m\n"
     ]
    },
    {
     "data": {
      "text/plain": [
       "'Firma LangChain zajmuje się tworzeniem frameworku do budowania aplikacji AI z wykorzystaniem dużych modeli językowych (LLM).'"
      ]
     },
     "execution_count": 8,
     "metadata": {},
     "output_type": "execute_result"
    }
   ],
   "execution_count": 8
  }
 ],
 "metadata": {
  "kernelspec": {
   "display_name": "Python 3",
   "language": "python",
   "name": "python3"
  },
  "language_info": {
   "codemirror_mode": {
    "name": "ipython",
    "version": 2
   },
   "file_extension": ".py",
   "mimetype": "text/x-python",
   "name": "python",
   "nbconvert_exporter": "python",
   "pygments_lexer": "ipython2",
   "version": "2.7.6"
  }
 },
 "nbformat": 4,
 "nbformat_minor": 5
}
