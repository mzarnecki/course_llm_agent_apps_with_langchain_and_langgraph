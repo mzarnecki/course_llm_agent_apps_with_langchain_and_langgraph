{
 "cells": [
  {
   "cell_type": "markdown",
   "id": "02846c5e",
   "metadata": {},
   "source": "## Architektury agentów"
  },
  {
   "metadata": {},
   "cell_type": "markdown",
   "source": "### Instalacja bibliotek",
   "id": "971acb42af2cb236"
  },
  {
   "cell_type": "code",
   "id": "77f9b81c",
   "metadata": {},
   "source": "%pip install -U langgraph langchain langchain-openai",
   "outputs": [],
   "execution_count": null
  },
  {
   "metadata": {},
   "cell_type": "markdown",
   "source": "### Import bibliotek i konfiguracja",
   "id": "6cffa241fe838685"
  },
  {
   "cell_type": "code",
   "id": "4f251900",
   "metadata": {
    "ExecuteTime": {
     "end_time": "2025-10-18T05:52:18.004200Z",
     "start_time": "2025-10-18T05:52:13.598635Z"
    }
   },
   "source": [
    "import operator\n",
    "from typing import Annotated, List, TypedDict, Literal\n",
    "\n",
    "from langchain_openai import ChatOpenAI\n",
    "from langgraph.graph import StateGraph, START, END\n",
    "\n",
    "from dotenv import load_dotenv\n",
    "load_dotenv()\n",
    "\n",
    "llm = ChatOpenAI(model=\"gpt-4o-mini\", temperature=0)\n"
   ],
   "outputs": [],
   "execution_count": 1
  },
  {
   "cell_type": "markdown",
   "id": "8b1b1578",
   "metadata": {},
   "source": [
    "### Sequential Agent\n",
    "Sequential Agent prowadzi wewnętrzne rozumowanie w kilku krokach (tzw. scratchpad), ale nie używa narzędzi; stosowany tam, gdzie wystarczy czysta analiza i dedukcja."
   ]
  },
  {
   "cell_type": "code",
   "id": "b5bfcd8c",
   "metadata": {},
   "source": [
    "\n",
    "class CoTState(TypedDict):\n",
    "    question: str\n",
    "    # Accumulate steps across nodes if desired\n",
    "    steps: Annotated[List[str], operator.add]\n",
    "    answer: str\n",
    "\n",
    "def plan_node(state: CoTState) -> dict:\n",
    "    \"\"\"Ask the LLM to propose a compact plan (steps) without solving yet.\"\"\"\n",
    "    sys = (\n",
    "        \"You are a careful planner. Break the user's question into 2-4 concise steps. \"\n",
    "        \"Do not solve. Return only a numbered list of steps; no extra text.\"\n",
    "    )\n",
    "    messages = [(\"system\", sys), (\"user\", state[\"question\"])]\n",
    "    resp = llm.invoke(messages)\n",
    "    # Normalize into a list of strings (one per step)\n",
    "    raw = resp.content\n",
    "    steps = []\n",
    "    for line in str(raw).splitlines():\n",
    "        line = line.strip()\n",
    "        if not line:\n",
    "            continue\n",
    "        # strip possible numbering like \"1. \", \"- \", etc.\n",
    "        line = line.lstrip(\"-• \").split(\". \", 1)[-1] if \". \" in line[:4] else line.lstrip(\"-• \")\n",
    "        steps.append(line)\n",
    "    return {\"steps\": steps}\n",
    "\n",
    "def solve_node(state: CoTState) -> dict:\n",
    "    \"\"\"Use the planned steps to derive the final answer only.\"\"\"\n",
    "    sys = (\n",
    "        \"Use the provided steps to solve the problem. \"\n",
    "        \"Return only the final answer, no reasoning.\"\n",
    "    )\n",
    "    messages = [\n",
    "        (\"system\", sys),\n",
    "        (\"user\", f\"Question: {state['question']}\\nSteps: {state['steps']}\"),\n",
    "    ]\n",
    "    resp = llm.invoke(messages)\n",
    "    return {\"answer\": str(resp.content).strip()}\n",
    "\n",
    "# Wire up the graph\n",
    "graph = StateGraph(CoTState)\n",
    "graph.add_node(\"plan\", plan_node)\n",
    "graph.add_node(\"solve\", solve_node)\n",
    "graph.add_edge(START, \"plan\")\n",
    "graph.add_edge(\"plan\", \"solve\")\n",
    "graph.add_edge(\"solve\", END)\n",
    "cot_graph = graph.compile()\n"
   ],
   "outputs": [],
   "execution_count": null
  },
  {
   "cell_type": "code",
   "id": "90243e2d",
   "metadata": {},
   "source": [
    "# Run the CoT graph\n",
    "state = {\n",
    "    \"question\": \"If a book has 350 pages and I read 14 pages per day, how many days to finish?\",\n",
    "    \"steps\": [],\n",
    "    \"answer\": \"\"\n",
    "}\n",
    "out = cot_graph.invoke(state)\n",
    "print(\"Final answer:\", out[\"answer\"])\n",
    "\n",
    "# If you're teaching and want to peek at the internal scratchpad (not for end users):\n",
    "# print(\"Planned steps:\", out[\"steps\"])\n"
   ],
   "outputs": [],
   "execution_count": null
  },
  {
   "cell_type": "markdown",
   "id": "bec1a754",
   "metadata": {},
   "source": [
    "### Custom Agent\n",
    "Custom Agent daje pełną elstyczność, można samemu zdefiniować logikę, routing i węzły."
   ]
  },
  {
   "cell_type": "code",
   "id": "c7cbc302",
   "metadata": {},
   "source": [
    "\n",
    "class CustomState(TypedDict):\n",
    "    input: str\n",
    "    task: Literal[\"math\", \"capitalize\", \"count\"]\n",
    "    result: str\n",
    "\n",
    "def route(state: CustomState) -> str:\n",
    "    \"\"\"Deterministic router based on a simple protocol in the input.\"\"\"\n",
    "    text = state[\"input\"].strip().lower()\n",
    "    if text.startswith(\"math:\"):\n",
    "        return \"math\"\n",
    "    if text.startswith(\"capitalize:\"):\n",
    "        return \"capitalize\"\n",
    "    if text.startswith(\"count:\"):\n",
    "        return \"count\"\n",
    "    # default fallback\n",
    "    return \"count\"\n",
    "\n",
    "def do_math(state: CustomState) -> dict:\n",
    "    expr = state[\"input\"].split(\":\", 1)[-1].strip()\n",
    "    allowed = set(\"0123456789+-*/(). \")\n",
    "    if any(c not in allowed for c in expr):\n",
    "        return {\"result\": \"Error: unsupported characters in math expression.\"}\n",
    "    try:\n",
    "        res = eval(expr, {\"__builtins__\": {}})\n",
    "    except Exception as e:\n",
    "        res = f\"Error: {e}\"\n",
    "    return {\"result\": str(res)}\n",
    "\n",
    "def do_capitalize(state: CustomState) -> dict:\n",
    "    text = state[\"input\"].split(\":\", 1)[-1].strip()\n",
    "    return {\"result\": text.upper()}\n",
    "\n",
    "def do_count(state: CustomState) -> dict:\n",
    "    text = state[\"input\"].split(\":\", 1)[-1].strip()\n",
    "    tokens = [t for t in text.split() if t]\n",
    "    return {\"result\": f\"words={len(tokens)} chars={len(text)}\"}\n",
    "\n",
    "g = StateGraph(CustomState)\n",
    "g.add_node(\"math\", do_math)\n",
    "g.add_node(\"capitalize\", do_capitalize)\n",
    "g.add_node(\"count\", do_count)\n",
    "\n",
    "# Conditional edges from router\n",
    "g.add_conditional_edges(\n",
    "    START,\n",
    "    route,\n",
    "    {\n",
    "        \"math\": \"math\",\n",
    "        \"capitalize\": \"capitalize\",\n",
    "        \"count\": \"count\",\n",
    "    },\n",
    ")\n",
    "g.add_edge(\"math\", END)\n",
    "g.add_edge(\"capitalize\", END)\n",
    "g.add_edge(\"count\", END)\n",
    "\n",
    "custom_agent = g.compile()\n"
   ],
   "outputs": [],
   "execution_count": null
  },
  {
   "cell_type": "code",
   "id": "279f8804",
   "metadata": {},
   "source": [
    "\n",
    "# Try several inputs\n",
    "for user_input in [\n",
    "    \"math: (12 + 8) * 3\",\n",
    "    \"capitalize: langgraph is great!\",\n",
    "    \"count: How many words are here?\",\n",
    "]:\n",
    "    out = custom_agent.invoke({\"input\": user_input, \"task\": \"count\", \"result\": \"\"})\n",
    "    print(f\"Input: {user_input}\\nResult: {out['result']}\\n---\")\n"
   ],
   "outputs": [],
   "execution_count": null
  },
  {
   "metadata": {},
   "cell_type": "markdown",
   "source": "### Supervisor",
   "id": "83e0ed41aeb9d07e"
  },
  {
   "metadata": {},
   "cell_type": "code",
   "outputs": [],
   "execution_count": null,
   "source": "",
   "id": "68458fef5529f946"
  },
  {
   "metadata": {},
   "cell_type": "markdown",
   "source": "### Router",
   "id": "f9fd4d1e2ccf952a"
  },
  {
   "metadata": {},
   "cell_type": "code",
   "outputs": [],
   "execution_count": null,
   "source": "",
   "id": "e3bcfaa8b06904e6"
  }
 ],
 "metadata": {
  "kernelspec": {
   "name": "python3",
   "language": "python",
   "display_name": "Python 3 (ipykernel)"
  }
 },
 "nbformat": 4,
 "nbformat_minor": 5
}
